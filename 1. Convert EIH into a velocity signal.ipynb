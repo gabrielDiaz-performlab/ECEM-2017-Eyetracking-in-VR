{
 "cells": [
  {
   "cell_type": "markdown",
   "metadata": {},
   "source": [
    "## Import modules, save data to Pandas dataframe"
   ]
  },
  {
   "cell_type": "code",
   "execution_count": 1,
   "metadata": {},
   "outputs": [],
   "source": [
    "from __future__ import division, print_function\n",
    "\n",
    "from modules import PerformParser as parser\n",
    "import numpy as np\n",
    "import pandas as pd\n",
    "\n",
    "from plotly.offline import download_plotlyjs, init_notebook_mode, plot, iplot\n",
    "import plotly.graph_objs as go\n",
    "import os\n",
    "np.set_printoptions(precision=2)"
   ]
  },
  {
   "cell_type": "code",
   "execution_count": 2,
   "metadata": {},
   "outputs": [
    {
     "data": {
      "text/html": [
       "<script>requirejs.config({paths: { 'plotly': ['https://cdn.plot.ly/plotly-latest.min']},});if(!window.Plotly) {{require(['plotly'],function(plotly) {window.Plotly=plotly;});}}</script>"
      ],
      "text/vnd.plotly.v1+html": [
       "<script>requirejs.config({paths: { 'plotly': ['https://cdn.plot.ly/plotly-latest.min']},});if(!window.Plotly) {{require(['plotly'],function(plotly) {window.Plotly=plotly;});}}</script>"
      ]
     },
     "metadata": {},
     "output_type": "display_data"
    }
   ],
   "source": [
    "init_notebook_mode(connected=True)"
   ]
  },
  {
   "cell_type": "markdown",
   "metadata": {},
   "source": [
    "# Lets look at the variables stored in our dataframe"
   ]
  },
  {
   "cell_type": "code",
   "execution_count": 3,
   "metadata": {
    "collapsed": true
   },
   "outputs": [],
   "source": [
    "# read dict file, save as pandas DF\n",
    "#datafile = parser.dictFileToDataFrame(\"data/2017-4-14-18-36/exp_data-2017-4-14-18-36.dict\")\n",
    "#datafile = parser.dictFileToDataFrame(\"data/2016-4-19-14-4/exp_data-2016-4-19-14-4.dict\")\n",
    "datafile = parser.dictFileToDataFrame(\"data/2016-4-29-11-56/exp_data-2016-4-29-11-56.dict\")\n",
    "\n",
    "#datafile = parser.readPerformDict(\"data/2016-4-29-11-56/exp_data-2016-4-29-11-56.dict\")\n",
    "\n",
    "\n",
    "# the frame of data that we will explore.  Arbitrary\n",
    "frameIndex = 100"
   ]
  },
  {
   "cell_type": "code",
   "execution_count": 4,
   "metadata": {
    "scrolled": false
   },
   "outputs": [
    {
     "data": {
      "text/plain": [
       "['IOD',\n",
       " 'IPD',\n",
       " 'ballFinalPos_XYZ',\n",
       " 'ballInitialPos_XYZ',\n",
       " 'ballInitialVel_XYZ',\n",
       " 'ballPos_XYZ',\n",
       " 'ballTTC',\n",
       " 'ballVel_XYZ',\n",
       " 'blankDur',\n",
       " 'blockNumber',\n",
       " 'calibrationCounter',\n",
       " 'calibrationPos_XYZ',\n",
       " 'cycEyeBasePoint_XYZ',\n",
       " 'cycEyeInHead_XYZ',\n",
       " 'cycEyeNodeInWorld_XYZ',\n",
       " 'cycEyeOnScreen_XY',\n",
       " 'cycGazeNodeInWorld_XYZ',\n",
       " 'cycInverseMat_4x4',\n",
       " 'cycMat_4x4',\n",
       " 'eventFlag',\n",
       " 'eyeTimeStamp',\n",
       " 'frameTime',\n",
       " 'inCalibrationQ',\n",
       " 'isBallVisibleQ',\n",
       " 'isCalibratedSMIQ',\n",
       " 'leftEyeBasePoint_XYZ',\n",
       " 'leftEyeInHead_XYZ',\n",
       " 'leftEyeInverseMat_4x4',\n",
       " 'leftEyeLensDistance',\n",
       " 'leftEyeMat_4x4',\n",
       " 'leftEyeNodeInHead_XYZ',\n",
       " 'leftEyeNodeInWorld_XYZ',\n",
       " 'leftEyeOnScreen_XY',\n",
       " 'leftEyeScreenDistance',\n",
       " 'leftGazeNodeInWorld_XYZ',\n",
       " 'leftPupilPos_XYZ',\n",
       " 'leftPupilRadius',\n",
       " 'paddleMat_4x4',\n",
       " 'paddlePos_XYZ',\n",
       " 'paddleQuat_XYZW',\n",
       " 'postBlankDur',\n",
       " 'preBlankDur',\n",
       " 'rightEyeBasePoint_XYZ',\n",
       " 'rightEyeInHead_XYZ',\n",
       " 'rightEyeInverseMat_4x4',\n",
       " 'rightEyeLensDistance',\n",
       " 'rightEyeMat_4x4',\n",
       " 'rightEyeNodeInHead_XYZ',\n",
       " 'rightEyeNodeInWorld_XYZ',\n",
       " 'rightEyeOnScreen_XY',\n",
       " 'rightEyeScreenDistance',\n",
       " 'rightGazeNodeInWorld_XYZ',\n",
       " 'rightPupilPos_XYZ',\n",
       " 'rightPupilRadius',\n",
       " 'trialNumber',\n",
       " 'trialType',\n",
       " 'viewMat_4x4',\n",
       " 'viewPos_XYZ',\n",
       " 'viewQuat_XYZW']"
      ]
     },
     "execution_count": 4,
     "metadata": {},
     "output_type": "execute_result"
    }
   ],
   "source": [
    "list(datafile.columns)"
   ]
  },
  {
   "cell_type": "markdown",
   "metadata": {},
   "source": [
    "# Before we can plot any data, we have to make sure we understand the related coordinate systems."
   ]
  },
  {
   "cell_type": "markdown",
   "metadata": {},
   "source": [
    "<img src=\"graphics/coordSys.png\",width=1000>"
   ]
  },
  {
   "cell_type": "markdown",
   "metadata": {},
   "source": [
    "Raw eye-in-head data (below) indicates the direction of gaze within SMI's head-centered coordinate system (left figure).  As you would expect from the figure above, gaze is primarily directed up +Z."
   ]
  },
  {
   "cell_type": "code",
   "execution_count": 5,
   "metadata": {},
   "outputs": [
    {
     "data": {
      "text/plain": [
       "0    [0.129151, -0.309052, 0.942235]\n",
       "1    [0.128799, -0.306807, 0.943017]\n",
       "2    [0.128799, -0.306807, 0.943017]\n",
       "3    [0.129543, -0.309401, 0.942067]\n",
       "4    [0.130465, -0.308183, 0.942339]\n",
       "5    [0.131372, -0.308018, 0.942267]\n",
       "6    [0.129326, -0.310528, 0.941726]\n",
       "7    [0.129326, -0.310528, 0.941726]\n",
       "8    [0.128504, -0.310706, 0.941779]\n",
       "9    [0.129196, -0.311404, 0.941454]\n",
       "Name: cycEyeInHead_XYZ, dtype: object"
      ]
     },
     "execution_count": 5,
     "metadata": {},
     "output_type": "execute_result"
    }
   ],
   "source": [
    "datafile['cycEyeInHead_XYZ'][0:10]"
   ]
  },
  {
   "cell_type": "markdown",
   "metadata": {},
   "source": [
    "### Because the rest of our data is stored using the Vizard coordinate system, the first thing we should do is convert the SMI data to be consistent with our Vizard conventions. \n",
    "\n",
    "Notice that the the X axis is flipped between SMI and Vizard.  We will have to account for that.\n",
    "Flip the X axis for all the cyclopean gaze data by applying an anonymous function to each row of the dataframe."
   ]
  },
  {
   "cell_type": "code",
   "execution_count": 6,
   "metadata": {
    "collapsed": true
   },
   "outputs": [],
   "source": [
    "datafile['cycEyeInHead_XYZ'] = datafile['cycEyeInHead_XYZ'].apply(lambda row: [-row[0],row[1],row[2]])"
   ]
  },
  {
   "cell_type": "markdown",
   "metadata": {},
   "source": [
    "## Plot it!\n",
    "I use the Plotly module to plot the data. "
   ]
  },
  {
   "cell_type": "markdown",
   "metadata": {},
   "source": [
    "### Note that Vizard and Plotly swap Y and Z axes (see coordinate systems above)\n",
    "I handle that upon plotting. If the data xyz = [x,y,z], then I plot x=xyz[0], x=xyz[2], and x=xyz[1]"
   ]
  },
  {
   "cell_type": "code",
   "execution_count": 7,
   "metadata": {
    "scrolled": false
   },
   "outputs": [
    {
     "data": {
      "text/plain": [
       "'file:///Users/gjdiaz/Documents/Code/Python/GazeToolbox/ECEM-2017-Eyetracking-in-VR/temp-plot.html'"
      ]
     },
     "execution_count": 7,
     "metadata": {},
     "output_type": "execute_result"
    }
   ],
   "source": [
    "from plotly.graph_objs import *\n",
    "\n",
    "# Plot for a single frame, 10.\n",
    "frameIdx = 100;\n",
    "            \n",
    "cycEyePos = Scatter3d(x=[0],\n",
    "                   y=[0],\n",
    "                   z=[0],\n",
    "                   mode='markers',\n",
    "                      marker={'color': '#48186a', 'size': 10},\n",
    "                     )\n",
    "\n",
    "cycEyeInHead_XYZW = datafile['cycEyeInHead_XYZ'][frameIdx]\n",
    "\n",
    "eihDir = Scatter3d(x=[0,cycEyeInHead_XYZW[0]],\n",
    "                   y=[0,cycEyeInHead_XYZW[2]],\n",
    "                   z=[0,cycEyeInHead_XYZW[1]],\n",
    "                   mode='lines',\n",
    "                   line = dict(\n",
    "                       color = ('rgb(205, 12, 24)'),\n",
    "                       width = 4)\n",
    "                  )\n",
    "\n",
    "layout = Layout(title=\"EIH\", \n",
    "                width=800,\n",
    "                height=800,\n",
    "                showlegend=False,\n",
    "                scene=Scene(aspectmode='manual',\n",
    "                            aspectratio=dict(x=1, y=1, z=1),\n",
    "                            xaxis=dict(range=[-1, 1], title='x Axis'),\n",
    "                            yaxis=dict(range=[-1, 1], title='y Axis'),\n",
    "                            zaxis=dict(range=[-1, 1], title='z Axis'),\n",
    "\n",
    "                           ),\n",
    "                margin=Margin(t=100),\n",
    "                hovermode='closest',\n",
    "                \n",
    "                )\n",
    "\n",
    "data=Data([cycEyePos,eihDir])\n",
    "\n",
    "fig=Figure(data=data,layout=layout)\n",
    "\n",
    "plot(fig)"
   ]
  },
  {
   "cell_type": "markdown",
   "metadata": {},
   "source": [
    "# Validate"
   ]
  },
  {
   "cell_type": "markdown",
   "metadata": {},
   "source": [
    "The figure above is interactive!  Try clicking on the time series below to quickly jump about the timeseries.  You can also adjust the window size to zoom in at different temporal scales."
   ]
  },
  {
   "cell_type": "markdown",
   "metadata": {},
   "source": [
    "# Lets calculate velocity of the cyclopean vector!"
   ]
  },
  {
   "cell_type": "markdown",
   "metadata": {},
   "source": [
    "I have to do a bit of magic to convert the eye tracker time sample into ∆t values"
   ]
  },
  {
   "cell_type": "code",
   "execution_count": 8,
   "metadata": {
    "collapsed": true
   },
   "outputs": [],
   "source": [
    "datafile['smiDateTime'] = pd.to_datetime(datafile.eyeTimeStamp,unit='ns')\n",
    "deltaTime = datafile['smiDateTime'].diff()\n",
    "deltaTime.loc[deltaTime.dt.microseconds==0] = pd.NaT\n",
    "deltaTime = deltaTime.fillna(method='bfill', limit=1)\n",
    "datafile['smiDeltaT'] = deltaTime.dt.microseconds / 1000000"
   ]
  },
  {
   "cell_type": "markdown",
   "metadata": {},
   "source": [
    "Take the angular difference:  $arccos(eih_{t}•eih_{t-1}))$.\n",
    "### You will get a warning when...\n",
    "$eih_{t} = eih_{t-1}$, which is the case when the eye tracking data did not change across subsequent samples.  This will happen sometimes, as the sampling rate for the SMI eye tracker was 60 Hz, and the display updates at 70 Hz. In this case, the function will return NaN."
   ]
  },
  {
   "cell_type": "code",
   "execution_count": 9,
   "metadata": {
    "scrolled": false
   },
   "outputs": [
    {
     "name": "stderr",
     "output_type": "stream",
     "text": [
      "/Users/gjdiaz/anaconda/lib/python2.7/site-packages/ipykernel_launcher.py:2: RuntimeWarning:\n",
      "\n",
      "invalid value encountered in arccos\n",
      "\n"
     ]
    }
   ],
   "source": [
    "changeInAngle_fr = [ np.rad2deg(np.arccos(np.vdot(abc,xyz)))\n",
    "                    for abc, xyz in zip(datafile['cycEyeInHead_XYZ'].values, np.roll(datafile['cycEyeInHead_XYZ'],1))]"
   ]
  },
  {
   "cell_type": "markdown",
   "metadata": {},
   "source": [
    "### Divide by time to get velocity"
   ]
  },
  {
   "cell_type": "code",
   "execution_count": 10,
   "metadata": {
    "collapsed": true
   },
   "outputs": [],
   "source": [
    "datafile['cycGazeVelocity'] = changeInAngle_fr / datafile['smiDeltaT']"
   ]
  },
  {
   "cell_type": "markdown",
   "metadata": {},
   "source": [
    "Fill in nan values with the previous velocity value."
   ]
  },
  {
   "cell_type": "code",
   "execution_count": 11,
   "metadata": {
    "collapsed": true
   },
   "outputs": [],
   "source": [
    "datafile['cycGazeVelocity'] = datafile['cycGazeVelocity'].fillna(method='bfill')"
   ]
  },
  {
   "cell_type": "code",
   "execution_count": 17,
   "metadata": {},
   "outputs": [
    {
     "data": {
      "text/plain": [
       "1     7.730643\n",
       "2     9.019481\n",
       "3     9.019481\n",
       "4     3.673823\n",
       "5    10.460367\n",
       "6    10.460367\n",
       "7     3.120626\n",
       "8     3.120626\n",
       "9     5.065125\n",
       "Name: cycGazeVelocity, dtype: float64"
      ]
     },
     "execution_count": 17,
     "metadata": {},
     "output_type": "execute_result"
    }
   ],
   "source": [
    "datafile['cycGazeVelocity'][1:10]"
   ]
  },
  {
   "cell_type": "markdown",
   "metadata": {},
   "source": [
    "### Plot!\n",
    "I have provided a simple plotting function.  If you want to look at it, have a look at the file: /modules/ecem2017.py\n",
    "\n",
    "You will notice that the figure has event labels at the time of important events during the trial.\n",
    "\n",
    "<img src=\"graphics/eventLabels.png\",width=500>"
   ]
  },
  {
   "cell_type": "code",
   "execution_count": 18,
   "metadata": {},
   "outputs": [],
   "source": [
    "from modules.ecem2017 import *"
   ]
  },
  {
   "cell_type": "code",
   "execution_count": 19,
   "metadata": {
    "scrolled": false
   },
   "outputs": [],
   "source": [
    "plotGazeVelocity(datafile, \n",
    "                  trialNumber=20, \n",
    "                  columnNames = ['cycGazeVelocity'],\n",
    "                  width=1000,\n",
    "                  height=600,\n",
    "                  yLim=[0,500])"
   ]
  }
 ],
 "metadata": {
  "kernelspec": {
   "display_name": "Python 2",
   "language": "python",
   "name": "python2"
  },
  "language_info": {
   "codemirror_mode": {
    "name": "ipython",
    "version": 2
   },
   "file_extension": ".py",
   "mimetype": "text/x-python",
   "name": "python",
   "nbconvert_exporter": "python",
   "pygments_lexer": "ipython2",
   "version": "2.7.13"
  }
 },
 "nbformat": 4,
 "nbformat_minor": 2
}
