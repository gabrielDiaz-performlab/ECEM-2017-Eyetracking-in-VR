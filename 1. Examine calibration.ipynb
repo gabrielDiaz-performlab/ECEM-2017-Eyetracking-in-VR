{
 "cells": [
  {
   "cell_type": "markdown",
   "metadata": {},
   "source": [
    "## Import modules, save data to Pandas dataframe"
   ]
  },
  {
   "cell_type": "code",
   "execution_count": 1,
   "metadata": {
    "collapsed": true
   },
   "outputs": [],
   "source": [
    "from __future__ import division, print_function\n",
    "\n",
    "from modules import PerformParser as parser\n",
    "import numpy as np\n",
    "import pandas as pd\n",
    "\n",
    "from plotly.offline import download_plotlyjs, init_notebook_mode, plot, iplot\n",
    "import plotly.graph_objs as go\n",
    "import os\n",
    "np.set_printoptions(precision=2)"
   ]
  },
  {
   "cell_type": "code",
   "execution_count": 2,
   "metadata": {},
   "outputs": [
    {
     "data": {
      "text/html": [
       "<script>requirejs.config({paths: { 'plotly': ['https://cdn.plot.ly/plotly-latest.min']},});if(!window.Plotly) {{require(['plotly'],function(plotly) {window.Plotly=plotly;});}}</script>"
      ],
      "text/vnd.plotly.v1+html": [
       "<script>requirejs.config({paths: { 'plotly': ['https://cdn.plot.ly/plotly-latest.min']},});if(!window.Plotly) {{require(['plotly'],function(plotly) {window.Plotly=plotly;});}}</script>"
      ]
     },
     "metadata": {},
     "output_type": "display_data"
    }
   ],
   "source": [
    "init_notebook_mode(connected=True)"
   ]
  },
  {
   "cell_type": "markdown",
   "metadata": {},
   "source": [
    "# Lets look at the variables stored in our dataframe"
   ]
  },
  {
   "cell_type": "code",
   "execution_count": 3,
   "metadata": {
    "collapsed": true
   },
   "outputs": [],
   "source": [
    "datafile = pd.read_pickle('data/calibration.pickle')"
   ]
  },
  {
   "cell_type": "code",
   "execution_count": 4,
   "metadata": {
    "scrolled": false
   },
   "outputs": [
    {
     "data": {
      "text/plain": [
       "['viewPos_XYZ',\n",
       " 'viewMat_4x4',\n",
       " 'trialNumber',\n",
       " 'blockNumber',\n",
       " 'IOD',\n",
       " 'IPD',\n",
       " 'ballPos_XYZ',\n",
       " 'cycEyeInHead_XYZ',\n",
       " 'leftEyeInHead_XYZ',\n",
       " 'rightEyeInHead_XYZ',\n",
       " 'leftEyePos_XYZ',\n",
       " 'rightEyePos_XYZ',\n",
       " 'calibrationPos_XYZ',\n",
       " 'calibrationCounter',\n",
       " 'eyeTimeStamp',\n",
       " 'frameTime',\n",
       " 'eventFlag']"
      ]
     },
     "execution_count": 4,
     "metadata": {},
     "output_type": "execute_result"
    }
   ],
   "source": [
    "list(datafile.columns)"
   ]
  },
  {
   "cell_type": "code",
   "execution_count": 5,
   "metadata": {
    "collapsed": true
   },
   "outputs": [],
   "source": [
    "datafile['cycEyeInHead_XYZ'] = datafile['cycEyeInHead_XYZ'].apply(lambda row: [-row[0],row[1],row[2]])"
   ]
  },
  {
   "cell_type": "code",
   "execution_count": 6,
   "metadata": {
    "collapsed": true
   },
   "outputs": [],
   "source": [
    "# def drawVector(row):\n",
    "\n",
    "#     #viewPos_XYZ = row['viewPos_XYZ']\n",
    "#     eihDir_xyz = row['cycEyeInHead_XYZ']\n",
    "#     #cycGIWEndpoint_XYZ = np.add(viewPos_XYZ, + np.multiply(cycGIW_XYZ,5))\n",
    "\n",
    "#     calibrationPos_XYZ = row['calibrationPos_XYZ']\n",
    "    \n",
    "#     eihDir = go.Scatter3d(x=[0,eihDir_xyz[0]*5],\n",
    "#         y=[0,eihDir_xyz[2]*5],\n",
    "#         z=[0,eihDir_xyz[1]*5],\n",
    "#         mode='lines',\n",
    "#         line = dict(\n",
    "#           color=('rgb(20, 0, 145)'),\n",
    "#           width = 2)\n",
    "#         )\n",
    "    \n",
    "#     headPos = go.Scatter3d(x=[0],\n",
    "#                            y=[0],\n",
    "#                            z=[0],\n",
    "#                            mode='markers',\n",
    "#                            marker={'color': '#48186a', 'size': 10},\n",
    "#                           )\n",
    "    \n",
    "#     calibPos = go.Scatter3d(x=[calibrationPos_XYZ[0]],\n",
    "#                            y=[calibrationPos_XYZ[2]],\n",
    "#                            z=[calibrationPos_XYZ[1]],\n",
    "#                            mode='markers',\n",
    "#                            marker={'color': 'rgb(0,144,144)', 'size': 5},\n",
    "#                           )\n",
    "    \n",
    "#     return([headPos,eihDir,calibPos])"
   ]
  },
  {
   "cell_type": "code",
   "execution_count": 7,
   "metadata": {
    "collapsed": true
   },
   "outputs": [],
   "source": [
    "# allTraces = []\n",
    "\n",
    "# for i in range(1000,1009):\n",
    "\n",
    "#     calibPt = gbTrial.get_group(i)\n",
    "#     traces = np.array(calibPt.apply(lambda row: drawVector(row),axis=1))\n",
    "#     traces = [item for sublist in traces for item in sublist]\n",
    "#     allTraces.extend(traces)\n"
   ]
  },
  {
   "cell_type": "code",
   "execution_count": 8,
   "metadata": {
    "collapsed": true
   },
   "outputs": [],
   "source": [
    "\n",
    "# # gbTrial = datafile.groupby('trialNumber')\n",
    "\n",
    "# # calibPt = gbTrial.get_group(1002)\n",
    "# # traces = np.array(calibPt.apply(lambda row: drawVector(row),axis=1))\n",
    "# # traces = [item for sublist in traces for item in sublist]\n",
    "\n",
    "\n",
    "\n",
    "# width = 800\n",
    "# height = 800\n",
    "# xRange = [-2,2]\n",
    "# yRange = [-1,3]\n",
    "# zRange = [-2,2]\n",
    "\n",
    "# layout = go.Layout(title=\"Gaze in World\", \n",
    "#                 width=width,\n",
    "#                 height=height,\n",
    "#                 showlegend=False,\n",
    "#                 scene=go.Scene(aspectmode='manual',\n",
    "#                             aspectratio=dict(x=1, y=1, z=1),\n",
    "#                             xaxis=dict(range=xRange, title='x Axis'),\n",
    "#                             yaxis=dict(range=yRange, title='y Axis'),\n",
    "#                             zaxis=dict(range=zRange, title='z Axis'),\n",
    "\n",
    "#                            ),\n",
    "#                 margin=go.Margin(t=100),\n",
    "#                 hovermode='closest',\n",
    "\n",
    "#                 )\n",
    "\n",
    "\n",
    "# fig=go.Figure(data=list(allTraces),layout=layout)\n",
    "\n",
    "\n",
    "# iplot(fig)"
   ]
  },
  {
   "cell_type": "markdown",
   "metadata": {},
   "source": [
    "A function that prepares the EIH ray for drawing in a plotly figure"
   ]
  },
  {
   "cell_type": "code",
   "execution_count": 9,
   "metadata": {
    "collapsed": true
   },
   "outputs": [],
   "source": [
    "def drawEIHRay(row):\n",
    "\n",
    "    eihDir_xyz = row['cycEyeInHead_XYZ']\n",
    "    \n",
    "    eihDir = go.Scatter3d(x=[0,eihDir_xyz[0]*2],\n",
    "        y=[0,eihDir_xyz[2]*2],\n",
    "        z=[0,eihDir_xyz[1]*2],\n",
    "        mode='lines',\n",
    "        line = dict(\n",
    "          color=('rgb(20, 0, 145)'),\n",
    "          width = 2)\n",
    "        )\n",
    "    \n",
    "    return eihDir\n"
   ]
  },
  {
   "cell_type": "code",
   "execution_count": 10,
   "metadata": {
    "collapsed": true
   },
   "outputs": [],
   "source": [
    "gbTrial = datafile.groupby('trialNumber')\n",
    "\n",
    "allTraces = []\n",
    "calibPt_pt = []\n",
    "\n",
    "for i in range(1000,1009):\n",
    "    \n",
    "    calibPt = gbTrial.get_group(i)\n",
    "    traces = np.array(calibPt.apply(lambda row: drawEIHRay(row),axis=1))\n",
    "    allTraces.extend(traces)\n",
    "    \n",
    "    calibPt_pt.extend( gbTrial.get_group(i).head(1)['calibrationPos_XYZ'].values )\n"
   ]
  },
  {
   "cell_type": "code",
   "execution_count": 11,
   "metadata": {},
   "outputs": [
    {
     "data": {
      "application/vnd.plotly.v1+json": {
       "data": [
        {
         "line": {
          "color": "rgb(20, 0, 145)",
          "width": 2
         },
         "mode": "lines",
         "type": "scatter3d",
         "x": [
          0,
          -0.258302
         ],
         "y": [
          0,
          1.88447
         ],
         "z": [
          0,
          -0.618104
         ]
        },
        {
         "line": {
          "color": "rgb(20, 0, 145)",
          "width": 2
         },
         "mode": "lines",
         "type": "scatter3d",
         "x": [
          0,
          -0.257598
         ],
         "y": [
          0,
          1.886034
         ],
         "z": [
          0,
          -0.613614
         ]
        },
        {
         "line": {
          "color": "rgb(20, 0, 145)",
          "width": 2
         },
         "mode": "lines",
         "type": "scatter3d",
         "x": [
          0,
          -0.257598
         ],
         "y": [
          0,
          1.886034
         ],
         "z": [
          0,
          -0.613614
         ]
        },
        {
         "line": {
          "color": "rgb(20, 0, 145)",
          "width": 2
         },
         "mode": "lines",
         "type": "scatter3d",
         "x": [
          0,
          -0.259086
         ],
         "y": [
          0,
          1.884134
         ],
         "z": [
          0,
          -0.618802
         ]
        },
        {
         "line": {
          "color": "rgb(20, 0, 145)",
          "width": 2
         },
         "mode": "lines",
         "type": "scatter3d",
         "x": [
          0,
          -0.26093
         ],
         "y": [
          0,
          1.884678
         ],
         "z": [
          0,
          -0.616366
         ]
        },
        {
         "line": {
          "color": "rgb(20, 0, 145)",
          "width": 2
         },
         "mode": "lines",
         "type": "scatter3d",
         "x": [
          0,
          -0.262744
         ],
         "y": [
          0,
          1.884534
         ],
         "z": [
          0,
          -0.616036
         ]
        },
        {
         "line": {
          "color": "rgb(20, 0, 145)",
          "width": 2
         },
         "mode": "lines",
         "type": "scatter3d",
         "x": [
          0,
          -0.258652
         ],
         "y": [
          0,
          1.883452
         ],
         "z": [
          0,
          -0.621056
         ]
        },
        {
         "line": {
          "color": "rgb(20, 0, 145)",
          "width": 2
         },
         "mode": "lines",
         "type": "scatter3d",
         "x": [
          0,
          -0.258652
         ],
         "y": [
          0,
          1.883452
         ],
         "z": [
          0,
          -0.621056
         ]
        },
        {
         "line": {
          "color": "rgb(20, 0, 145)",
          "width": 2
         },
         "mode": "lines",
         "type": "scatter3d",
         "x": [
          0,
          -0.257008
         ],
         "y": [
          0,
          1.883558
         ],
         "z": [
          0,
          -0.621412
         ]
        },
        {
         "line": {
          "color": "rgb(20, 0, 145)",
          "width": 2
         },
         "mode": "lines",
         "type": "scatter3d",
         "x": [
          0,
          -0.258392
         ],
         "y": [
          0,
          1.882908
         ],
         "z": [
          0,
          -0.622808
         ]
        },
        {
         "line": {
          "color": "rgb(20, 0, 145)",
          "width": 2
         },
         "mode": "lines",
         "type": "scatter3d",
         "x": [
          0,
          -0.255662
         ],
         "y": [
          0,
          1.883386
         ],
         "z": [
          0,
          -0.622492
         ]
        },
        {
         "line": {
          "color": "rgb(20, 0, 145)",
          "width": 2
         },
         "mode": "lines",
         "type": "scatter3d",
         "x": [
          0,
          -0.266306
         ],
         "y": [
          0,
          1.881078
         ],
         "z": [
          0,
          -0.625002
         ]
        },
        {
         "line": {
          "color": "rgb(20, 0, 145)",
          "width": 2
         },
         "mode": "lines",
         "type": "scatter3d",
         "x": [
          0,
          -0.266306
         ],
         "y": [
          0,
          1.881078
         ],
         "z": [
          0,
          -0.625002
         ]
        },
        {
         "line": {
          "color": "rgb(20, 0, 145)",
          "width": 2
         },
         "mode": "lines",
         "type": "scatter3d",
         "x": [
          0,
          -0.26327
         ],
         "y": [
          0,
          1.881482
         ],
         "z": [
          0,
          -0.625072
         ]
        },
        {
         "line": {
          "color": "rgb(20, 0, 145)",
          "width": 2
         },
         "mode": "lines",
         "type": "scatter3d",
         "x": [
          0,
          -0.267388
         ],
         "y": [
          0,
          1.88056
         ],
         "z": [
          0,
          -0.626098
         ]
        },
        {
         "line": {
          "color": "rgb(20, 0, 145)",
          "width": 2
         },
         "mode": "lines",
         "type": "scatter3d",
         "x": [
          0,
          -0.264084
         ],
         "y": [
          0,
          1.879454
         ],
         "z": [
          0,
          -0.630802
         ]
        },
        {
         "line": {
          "color": "rgb(20, 0, 145)",
          "width": 2
         },
         "mode": "lines",
         "type": "scatter3d",
         "x": [
          0,
          -0.263846
         ],
         "y": [
          0,
          1.88119
         ],
         "z": [
          0,
          -0.625706
         ]
        },
        {
         "line": {
          "color": "rgb(20, 0, 145)",
          "width": 2
         },
         "mode": "lines",
         "type": "scatter3d",
         "x": [
          0,
          -0.264598
         ],
         "y": [
          0,
          1.879664
         ],
         "z": [
          0,
          -0.629964
         ]
        },
        {
         "line": {
          "color": "rgb(20, 0, 145)",
          "width": 2
         },
         "mode": "lines",
         "type": "scatter3d",
         "x": [
          0,
          -0.264598
         ],
         "y": [
          0,
          1.879664
         ],
         "z": [
          0,
          -0.629964
         ]
        },
        {
         "line": {
          "color": "rgb(20, 0, 145)",
          "width": 2
         },
         "mode": "lines",
         "type": "scatter3d",
         "x": [
          0,
          -0.264436
         ],
         "y": [
          0,
          1.880024
         ],
         "z": [
          0,
          -0.628952
         ]
        },
        {
         "line": {
          "color": "rgb(20, 0, 145)",
          "width": 2
         },
         "mode": "lines",
         "type": "scatter3d",
         "x": [
          0,
          -0.268784
         ],
         "y": [
          0,
          1.88008
         ],
         "z": [
          0,
          -0.626938
         ]
        },
        {
         "line": {
          "color": "rgb(20, 0, 145)",
          "width": 2
         },
         "mode": "lines",
         "type": "scatter3d",
         "x": [
          0,
          -0.26742
         ],
         "y": [
          0,
          1.880908
         ],
         "z": [
          0,
          -0.62504
         ]
        },
        {
         "line": {
          "color": "rgb(20, 0, 145)",
          "width": 2
         },
         "mode": "lines",
         "type": "scatter3d",
         "x": [
          0,
          -0.26528
         ],
         "y": [
          0,
          1.881914
         ],
         "z": [
          0,
          -0.622918
         ]
        },
        {
         "line": {
          "color": "rgb(20, 0, 145)",
          "width": 2
         },
         "mode": "lines",
         "type": "scatter3d",
         "x": [
          0,
          -0.264488
         ],
         "y": [
          0,
          1.881798
         ],
         "z": [
          0,
          -0.623604
         ]
        },
        {
         "line": {
          "color": "rgb(20, 0, 145)",
          "width": 2
         },
         "mode": "lines",
         "type": "scatter3d",
         "x": [
          0,
          -0.264488
         ],
         "y": [
          0,
          1.881798
         ],
         "z": [
          0,
          -0.623604
         ]
        },
        {
         "line": {
          "color": "rgb(20, 0, 145)",
          "width": 2
         },
         "mode": "lines",
         "type": "scatter3d",
         "x": [
          0,
          -0.263192
         ],
         "y": [
          0,
          1.88165
         ],
         "z": [
          0,
          -0.6246
         ]
        },
        {
         "line": {
          "color": "rgb(20, 0, 145)",
          "width": 2
         },
         "mode": "lines",
         "type": "scatter3d",
         "x": [
          0,
          -0.26344
         ],
         "y": [
          0,
          1.879836
         ],
         "z": [
          0,
          -0.629932
         ]
        },
        {
         "line": {
          "color": "rgb(20, 0, 145)",
          "width": 2
         },
         "mode": "lines",
         "type": "scatter3d",
         "x": [
          0,
          -0.262272
         ],
         "y": [
          0,
          1.88191
         ],
         "z": [
          0,
          -0.6242
         ]
        },
        {
         "line": {
          "color": "rgb(20, 0, 145)",
          "width": 2
         },
         "mode": "lines",
         "type": "scatter3d",
         "x": [
          0,
          -0.265636
         ],
         "y": [
          0,
          1.881308
         ],
         "z": [
          0,
          -0.624596
         ]
        },
        {
         "line": {
          "color": "rgb(20, 0, 145)",
          "width": 2
         },
         "mode": "lines",
         "type": "scatter3d",
         "x": [
          0,
          -0.265636
         ],
         "y": [
          0,
          1.881308
         ],
         "z": [
          0,
          -0.624596
         ]
        },
        {
         "line": {
          "color": "rgb(20, 0, 145)",
          "width": 2
         },
         "mode": "lines",
         "type": "scatter3d",
         "x": [
          0,
          -0.265582
         ],
         "y": [
          0,
          1.880652
         ],
         "z": [
          0,
          -0.62659
         ]
        },
        {
         "line": {
          "color": "rgb(20, 0, 145)",
          "width": 2
         },
         "mode": "lines",
         "type": "scatter3d",
         "x": [
          0,
          -0.261866
         ],
         "y": [
          0,
          1.881052
         ],
         "z": [
          0,
          -0.626952
         ]
        },
        {
         "line": {
          "color": "rgb(20, 0, 145)",
          "width": 2
         },
         "mode": "lines",
         "type": "scatter3d",
         "x": [
          0,
          -0.262534
         ],
         "y": [
          0,
          1.882548
         ],
         "z": [
          0,
          -0.622164
         ]
        },
        {
         "line": {
          "color": "rgb(20, 0, 145)",
          "width": 2
         },
         "mode": "lines",
         "type": "scatter3d",
         "x": [
          0,
          -0.262534
         ],
         "y": [
          0,
          1.882548
         ],
         "z": [
          0,
          -0.622164
         ]
        },
        {
         "line": {
          "color": "rgb(20, 0, 145)",
          "width": 2
         },
         "mode": "lines",
         "type": "scatter3d",
         "x": [
          0,
          -0.260234
         ],
         "y": [
          0,
          1.882222
         ],
         "z": [
          0,
          -0.624114
         ]
        },
        {
         "line": {
          "color": "rgb(20, 0, 145)",
          "width": 2
         },
         "mode": "lines",
         "type": "scatter3d",
         "x": [
          0,
          -0.264262
         ],
         "y": [
          0,
          1.881246
         ],
         "z": [
          0,
          -0.625364
         ]
        },
        {
         "line": {
          "color": "rgb(20, 0, 145)",
          "width": 2
         },
         "mode": "lines",
         "type": "scatter3d",
         "x": [
          0,
          -0.258822
         ],
         "y": [
          0,
          1.880954
         ],
         "z": [
          0,
          -0.628508
         ]
        },
        {
         "line": {
          "color": "rgb(20, 0, 145)",
          "width": 2
         },
         "mode": "lines",
         "type": "scatter3d",
         "x": [
          0,
          -0.26153
         ],
         "y": [
          0,
          1.88147
         ],
         "z": [
          0,
          -0.62584
         ]
        },
        {
         "line": {
          "color": "rgb(20, 0, 145)",
          "width": 2
         },
         "mode": "lines",
         "type": "scatter3d",
         "x": [
          0,
          -0.26153
         ],
         "y": [
          0,
          1.88147
         ],
         "z": [
          0,
          -0.62584
         ]
        },
        {
         "line": {
          "color": "rgb(20, 0, 145)",
          "width": 2
         },
         "mode": "lines",
         "type": "scatter3d",
         "x": [
          0,
          -0.26441
         ],
         "y": [
          0,
          1.88005
         ],
         "z": [
          0,
          -0.62889
         ]
        },
        {
         "line": {
          "color": "rgb(20, 0, 145)",
          "width": 2
         },
         "mode": "lines",
         "type": "scatter3d",
         "x": [
          0,
          -0.262914
         ],
         "y": [
          0,
          1.880694
         ],
         "z": [
          0,
          -0.627586
         ]
        },
        {
         "line": {
          "color": "rgb(20, 0, 145)",
          "width": 2
         },
         "mode": "lines",
         "type": "scatter3d",
         "x": [
          0,
          -0.264796
         ],
         "y": [
          0,
          1.88061
         ],
         "z": [
          0,
          -0.627048
         ]
        },
        {
         "line": {
          "color": "rgb(20, 0, 145)",
          "width": 2
         },
         "mode": "lines",
         "type": "scatter3d",
         "x": [
          0,
          -0.260188
         ],
         "y": [
          0,
          1.881156
         ],
         "z": [
          0,
          -0.627342
         ]
        },
        {
         "line": {
          "color": "rgb(20, 0, 145)",
          "width": 2
         },
         "mode": "lines",
         "type": "scatter3d",
         "x": [
          0,
          -0.260188
         ],
         "y": [
          0,
          1.881156
         ],
         "z": [
          0,
          -0.627342
         ]
        },
        {
         "line": {
          "color": "rgb(20, 0, 145)",
          "width": 2
         },
         "mode": "lines",
         "type": "scatter3d",
         "x": [
          0,
          -0.260338
         ],
         "y": [
          0,
          1.881078
         ],
         "z": [
          0,
          -0.627508
         ]
        },
        {
         "line": {
          "color": "rgb(20, 0, 145)",
          "width": 2
         },
         "mode": "lines",
         "type": "scatter3d",
         "x": [
          0,
          -0.260828
         ],
         "y": [
          0,
          1.880534
         ],
         "z": [
          0,
          -0.628936
         ]
        },
        {
         "line": {
          "color": "rgb(20, 0, 145)",
          "width": 2
         },
         "mode": "lines",
         "type": "scatter3d",
         "x": [
          0,
          -0.261514
         ],
         "y": [
          0,
          1.880892
         ],
         "z": [
          0,
          -0.627578
         ]
        },
        {
         "line": {
          "color": "rgb(20, 0, 145)",
          "width": 2
         },
         "mode": "lines",
         "type": "scatter3d",
         "x": [
          0,
          -0.26247
         ],
         "y": [
          0,
          1.8803
         ],
         "z": [
          0,
          -0.628954
         ]
        },
        {
         "line": {
          "color": "rgb(20, 0, 145)",
          "width": 2
         },
         "mode": "lines",
         "type": "scatter3d",
         "x": [
          0,
          -0.26247
         ],
         "y": [
          0,
          1.8803
         ],
         "z": [
          0,
          -0.628954
         ]
        },
        {
         "line": {
          "color": "rgb(20, 0, 145)",
          "width": 2
         },
         "mode": "lines",
         "type": "scatter3d",
         "x": [
          0,
          -0.259286
         ],
         "y": [
          0,
          1.880678
         ],
         "z": [
          0,
          -0.629142
         ]
        },
        {
         "line": {
          "color": "rgb(20, 0, 145)",
          "width": 2
         },
         "mode": "lines",
         "type": "scatter3d",
         "x": [
          0,
          -0.259694
         ],
         "y": [
          0,
          1.881018
         ],
         "z": [
          0,
          -0.627956
         ]
        },
        {
         "line": {
          "color": "rgb(20, 0, 145)",
          "width": 2
         },
         "mode": "lines",
         "type": "scatter3d",
         "x": [
          0,
          -0.25867
         ],
         "y": [
          0,
          1.880976
         ],
         "z": [
          0,
          -0.628508
         ]
        },
        {
         "line": {
          "color": "rgb(20, 0, 145)",
          "width": 2
         },
         "mode": "lines",
         "type": "scatter3d",
         "x": [
          0,
          -0.259922
         ],
         "y": [
          0,
          1.881428
         ],
         "z": [
          0,
          -0.626634
         ]
        },
        {
         "line": {
          "color": "rgb(20, 0, 145)",
          "width": 2
         },
         "mode": "lines",
         "type": "scatter3d",
         "x": [
          0,
          -0.256304
         ],
         "y": [
          0,
          1.88177
         ],
         "z": [
          0,
          -0.627094
         ]
        },
        {
         "line": {
          "color": "rgb(20, 0, 145)",
          "width": 2
         },
         "mode": "lines",
         "type": "scatter3d",
         "x": [
          0,
          -0.256304
         ],
         "y": [
          0,
          1.88177
         ],
         "z": [
          0,
          -0.627094
         ]
        },
        {
         "line": {
          "color": "rgb(20, 0, 145)",
          "width": 2
         },
         "mode": "lines",
         "type": "scatter3d",
         "x": [
          0,
          -0.255894
         ],
         "y": [
          0,
          1.881834
         ],
         "z": [
          0,
          -0.627072
         ]
        },
        {
         "line": {
          "color": "rgb(20, 0, 145)",
          "width": 2
         },
         "mode": "lines",
         "type": "scatter3d",
         "x": [
          0,
          -0.25711
         ],
         "y": [
          0,
          1.881066
         ],
         "z": [
          0,
          -0.628874
         ]
        },
        {
         "line": {
          "color": "rgb(20, 0, 145)",
          "width": 2
         },
         "mode": "lines",
         "type": "scatter3d",
         "x": [
          0,
          -0.25629
         ],
         "y": [
          0,
          1.881194
         ],
         "z": [
          0,
          -0.62883
         ]
        },
        {
         "line": {
          "color": "rgb(20, 0, 145)",
          "width": 2
         },
         "mode": "lines",
         "type": "scatter3d",
         "x": [
          0,
          -0.25854
         ],
         "y": [
          0,
          1.88046
         ],
         "z": [
          0,
          -0.630102
         ]
        },
        {
         "line": {
          "color": "rgb(20, 0, 145)",
          "width": 2
         },
         "mode": "lines",
         "type": "scatter3d",
         "x": [
          0,
          -0.25854
         ],
         "y": [
          0,
          1.88046
         ],
         "z": [
          0,
          -0.630102
         ]
        },
        {
         "line": {
          "color": "rgb(20, 0, 145)",
          "width": 2
         },
         "mode": "lines",
         "type": "scatter3d",
         "x": [
          0,
          -0.255992
         ],
         "y": [
          0,
          1.88169
         ],
         "z": [
          0,
          -0.627466
         ]
        },
        {
         "line": {
          "color": "rgb(20, 0, 145)",
          "width": 2
         },
         "mode": "lines",
         "type": "scatter3d",
         "x": [
          0,
          -0.258886
         ],
         "y": [
          0,
          1.880598
         ],
         "z": [
          0,
          -0.629548
         ]
        },
        {
         "line": {
          "color": "rgb(20, 0, 145)",
          "width": 2
         },
         "mode": "lines",
         "type": "scatter3d",
         "x": [
          0,
          -0.255818
         ],
         "y": [
          0,
          1.882424
         ],
         "z": [
          0,
          -0.62533
         ]
        },
        {
         "line": {
          "color": "rgb(20, 0, 145)",
          "width": 2
         },
         "mode": "lines",
         "type": "scatter3d",
         "x": [
          0,
          -0.254714
         ],
         "y": [
          0,
          1.882514
         ],
         "z": [
          0,
          -0.625508
         ]
        },
        {
         "line": {
          "color": "rgb(20, 0, 145)",
          "width": 2
         },
         "mode": "lines",
         "type": "scatter3d",
         "x": [
          0,
          -0.254714
         ],
         "y": [
          0,
          1.882514
         ],
         "z": [
          0,
          -0.625508
         ]
        },
        {
         "line": {
          "color": "rgb(20, 0, 145)",
          "width": 2
         },
         "mode": "lines",
         "type": "scatter3d",
         "x": [
          0,
          -0.254464
         ],
         "y": [
          0,
          1.882096
         ],
         "z": [
          0,
          -0.626864
         ]
        },
        {
         "line": {
          "color": "rgb(20, 0, 145)",
          "width": 2
         },
         "mode": "lines",
         "type": "scatter3d",
         "x": [
          0,
          -0.249782
         ],
         "y": [
          0,
          1.88397
         ],
         "z": [
          0,
          -0.62311
         ]
        },
        {
         "line": {
          "color": "rgb(20, 0, 145)",
          "width": 2
         },
         "mode": "lines",
         "type": "scatter3d",
         "x": [
          0,
          -0.253246
         ],
         "y": [
          0,
          1.882786
         ],
         "z": [
          0,
          -0.625286
         ]
        },
        {
         "line": {
          "color": "rgb(20, 0, 145)",
          "width": 2
         },
         "mode": "lines",
         "type": "scatter3d",
         "x": [
          0,
          -0.253246
         ],
         "y": [
          0,
          1.882786
         ],
         "z": [
          0,
          -0.625286
         ]
        },
        {
         "line": {
          "color": "rgb(20, 0, 145)",
          "width": 2
         },
         "mode": "lines",
         "type": "scatter3d",
         "x": [
          0,
          -0.258584
         ],
         "y": [
          0,
          1.884434
         ],
         "z": [
          0,
          -0.618096
         ]
        },
        {
         "line": {
          "color": "rgb(20, 0, 145)",
          "width": 2
         },
         "mode": "lines",
         "type": "scatter3d",
         "x": [
          0,
          -0.259678
         ],
         "y": [
          0,
          1.885474
         ],
         "z": [
          0,
          -0.614458
         ]
        },
        {
         "line": {
          "color": "rgb(20, 0, 145)",
          "width": 2
         },
         "mode": "lines",
         "type": "scatter3d",
         "x": [
          0,
          -0.256704
         ],
         "y": [
          0,
          1.885314
         ],
         "z": [
          0,
          -0.616192
         ]
        },
        {
         "line": {
          "color": "rgb(20, 0, 145)",
          "width": 2
         },
         "mode": "lines",
         "type": "scatter3d",
         "x": [
          0,
          -0.255714
         ],
         "y": [
          0,
          1.886168
         ],
         "z": [
          0,
          -0.613986
         ]
        },
        {
         "line": {
          "color": "rgb(20, 0, 145)",
          "width": 2
         },
         "mode": "lines",
         "type": "scatter3d",
         "x": [
          0,
          -0.255642
         ],
         "y": [
          0,
          1.885792
         ],
         "z": [
          0,
          -0.615174
         ]
        },
        {
         "line": {
          "color": "rgb(20, 0, 145)",
          "width": 2
         },
         "mode": "lines",
         "type": "scatter3d",
         "x": [
          0,
          -0.255642
         ],
         "y": [
          0,
          1.885792
         ],
         "z": [
          0,
          -0.615174
         ]
        },
        {
         "line": {
          "color": "rgb(20, 0, 145)",
          "width": 2
         },
         "mode": "lines",
         "type": "scatter3d",
         "x": [
          0,
          -0.258122
         ],
         "y": [
          0,
          1.885292
         ],
         "z": [
          0,
          -0.615668
         ]
        },
        {
         "line": {
          "color": "rgb(20, 0, 145)",
          "width": 2
         },
         "mode": "lines",
         "type": "scatter3d",
         "x": [
          0,
          -0.255508
         ],
         "y": [
          0,
          1.886888
         ],
         "z": [
          0,
          -0.611856
         ]
        },
        {
         "line": {
          "color": "rgb(20, 0, 145)",
          "width": 2
         },
         "mode": "lines",
         "type": "scatter3d",
         "x": [
          0,
          -0.253754
         ],
         "y": [
          0,
          1.884302
         ],
         "z": [
          0,
          -0.620496
         ]
        },
        {
         "line": {
          "color": "rgb(20, 0, 145)",
          "width": 2
         },
         "mode": "lines",
         "type": "scatter3d",
         "x": [
          0,
          -0.253754
         ],
         "y": [
          0,
          1.884302
         ],
         "z": [
          0,
          -0.620496
         ]
        },
        {
         "line": {
          "color": "rgb(20, 0, 145)",
          "width": 2
         },
         "mode": "lines",
         "type": "scatter3d",
         "x": [
          0,
          -0.25578
         ],
         "y": [
          0,
          1.88416
         ],
         "z": [
          0,
          -0.620094
         ]
        },
        {
         "line": {
          "color": "rgb(20, 0, 145)",
          "width": 2
         },
         "mode": "lines",
         "type": "scatter3d",
         "x": [
          0,
          -0.255996
         ],
         "y": [
          0,
          1.884508
         ],
         "z": [
          0,
          -0.618948
         ]
        },
        {
         "line": {
          "color": "rgb(20, 0, 145)",
          "width": 2
         },
         "mode": "lines",
         "type": "scatter3d",
         "x": [
          0,
          -0.253586
         ],
         "y": [
          0,
          1.885034
         ],
         "z": [
          0,
          -0.618338
         ]
        },
        {
         "line": {
          "color": "rgb(20, 0, 145)",
          "width": 2
         },
         "mode": "lines",
         "type": "scatter3d",
         "x": [
          0,
          -0.250784
         ],
         "y": [
          0,
          1.88532
         ],
         "z": [
          0,
          -0.61861
         ]
        },
        {
         "line": {
          "color": "rgb(20, 0, 145)",
          "width": 2
         },
         "mode": "lines",
         "type": "scatter3d",
         "x": [
          0,
          -0.250784
         ],
         "y": [
          0,
          1.88532
         ],
         "z": [
          0,
          -0.61861
         ]
        },
        {
         "line": {
          "color": "rgb(20, 0, 145)",
          "width": 2
         },
         "mode": "lines",
         "type": "scatter3d",
         "x": [
          0,
          -0.254034
         ],
         "y": [
          0,
          1.88564
         ],
         "z": [
          0,
          -0.616304
         ]
        },
        {
         "line": {
          "color": "rgb(20, 0, 145)",
          "width": 2
         },
         "mode": "lines",
         "type": "scatter3d",
         "x": [
          0,
          -0.258406
         ],
         "y": [
          0,
          1.88303
         ],
         "z": [
          0,
          -0.622434
         ]
        },
        {
         "line": {
          "color": "rgb(20, 0, 145)",
          "width": 2
         },
         "mode": "lines",
         "type": "scatter3d",
         "x": [
          0,
          -0.250358
         ],
         "y": [
          0,
          1.88488
         ],
         "z": [
          0,
          -0.620116
         ]
        },
        {
         "line": {
          "color": "rgb(20, 0, 145)",
          "width": 2
         },
         "mode": "lines",
         "type": "scatter3d",
         "x": [
          0,
          -0.24949
         ],
         "y": [
          0,
          1.88449
         ],
         "z": [
          0,
          -0.62165
         ]
        },
        {
         "line": {
          "color": "rgb(20, 0, 145)",
          "width": 2
         },
         "mode": "lines",
         "type": "scatter3d",
         "x": [
          0,
          -0.24949
         ],
         "y": [
          0,
          1.88449
         ],
         "z": [
          0,
          -0.62165
         ]
        },
        {
         "line": {
          "color": "rgb(20, 0, 145)",
          "width": 2
         },
         "mode": "lines",
         "type": "scatter3d",
         "x": [
          0,
          -0.24981
         ],
         "y": [
          0,
          1.884636
         ],
         "z": [
          0,
          -0.621084
         ]
        },
        {
         "line": {
          "color": "rgb(20, 0, 145)",
          "width": 2
         },
         "mode": "lines",
         "type": "scatter3d",
         "x": [
          0,
          -0.249778
         ],
         "y": [
          0,
          1.885448
         ],
         "z": [
          0,
          -0.618624
         ]
        },
        {
         "line": {
          "color": "rgb(20, 0, 145)",
          "width": 2
         },
         "mode": "lines",
         "type": "scatter3d",
         "x": [
          0,
          -0.245978
         ],
         "y": [
          0,
          1.884886
         ],
         "z": [
          0,
          -0.62185
         ]
        },
        {
         "line": {
          "color": "rgb(20, 0, 145)",
          "width": 2
         },
         "mode": "lines",
         "type": "scatter3d",
         "x": [
          0,
          -0.249828
         ],
         "y": [
          0,
          1.883854
         ],
         "z": [
          0,
          -0.623442
         ]
        },
        {
         "line": {
          "color": "rgb(20, 0, 145)",
          "width": 2
         },
         "mode": "lines",
         "type": "scatter3d",
         "x": [
          0,
          -0.249828
         ],
         "y": [
          0,
          1.883854
         ],
         "z": [
          0,
          -0.623442
         ]
        },
        {
         "line": {
          "color": "rgb(20, 0, 145)",
          "width": 2
         },
         "mode": "lines",
         "type": "scatter3d",
         "x": [
          0,
          -0.242876
         ],
         "y": [
          0,
          1.883844
         ],
         "z": [
          0,
          -0.62621
         ]
        },
        {
         "line": {
          "color": "rgb(20, 0, 145)",
          "width": 2
         },
         "mode": "lines",
         "type": "scatter3d",
         "x": [
          0,
          -0.242876
         ],
         "y": [
          0,
          1.883844
         ],
         "z": [
          0,
          -0.62621
         ]
        },
        {
         "line": {
          "color": "rgb(20, 0, 145)",
          "width": 2
         },
         "mode": "lines",
         "type": "scatter3d",
         "x": [
          0,
          -0.233912
         ],
         "y": [
          0,
          1.888026
         ],
         "z": [
          0,
          -0.61696
         ]
        },
        {
         "line": {
          "color": "rgb(20, 0, 145)",
          "width": 2
         },
         "mode": "lines",
         "type": "scatter3d",
         "x": [
          0,
          -0.234684
         ],
         "y": [
          0,
          1.886378
         ],
         "z": [
          0,
          -0.621694
         ]
        },
        {
         "line": {
          "color": "rgb(20, 0, 145)",
          "width": 2
         },
         "mode": "lines",
         "type": "scatter3d",
         "x": [
          0,
          -0.234684
         ],
         "y": [
          0,
          1.886378
         ],
         "z": [
          0,
          -0.621694
         ]
        },
        {
         "line": {
          "color": "rgb(20, 0, 145)",
          "width": 2
         },
         "mode": "lines",
         "type": "scatter3d",
         "x": [
          0,
          -0.237642
         ],
         "y": [
          0,
          1.88705
         ],
         "z": [
          0,
          -0.618522
         ]
        },
        {
         "line": {
          "color": "rgb(20, 0, 145)",
          "width": 2
         },
         "mode": "lines",
         "type": "scatter3d",
         "x": [
          0,
          -0.01359276
         ],
         "y": [
          0,
          1.89159
         ],
         "z": [
          0,
          -0.649386
         ]
        },
        {
         "line": {
          "color": "rgb(20, 0, 145)",
          "width": 2
         },
         "mode": "lines",
         "type": "scatter3d",
         "x": [
          0,
          -0.01144308
         ],
         "y": [
          0,
          1.891418
         ],
         "z": [
          0,
          -0.649928
         ]
        },
        {
         "line": {
          "color": "rgb(20, 0, 145)",
          "width": 2
         },
         "mode": "lines",
         "type": "scatter3d",
         "x": [
          0,
          -0.01144308
         ],
         "y": [
          0,
          1.891418
         ],
         "z": [
          0,
          -0.649928
         ]
        },
        {
         "line": {
          "color": "rgb(20, 0, 145)",
          "width": 2
         },
         "mode": "lines",
         "type": "scatter3d",
         "x": [
          0,
          -0.01008678
         ],
         "y": [
          0,
          1.891688
         ],
         "z": [
          0,
          -0.649164
         ]
        },
        {
         "line": {
          "color": "rgb(20, 0, 145)",
          "width": 2
         },
         "mode": "lines",
         "type": "scatter3d",
         "x": [
          0,
          -0.01158798
         ],
         "y": [
          0,
          1.893084
         ],
         "z": [
          0,
          -0.645058
         ]
        },
        {
         "line": {
          "color": "rgb(20, 0, 145)",
          "width": 2
         },
         "mode": "lines",
         "type": "scatter3d",
         "x": [
          0,
          -0.0084648
         ],
         "y": [
          0,
          1.891022
         ],
         "z": [
          0,
          -0.651124
         ]
        },
        {
         "line": {
          "color": "rgb(20, 0, 145)",
          "width": 2
         },
         "mode": "lines",
         "type": "scatter3d",
         "x": [
          0,
          -0.00836622
         ],
         "y": [
          0,
          1.893934
         ],
         "z": [
          0,
          -0.642604
         ]
        },
        {
         "line": {
          "color": "rgb(20, 0, 145)",
          "width": 2
         },
         "mode": "lines",
         "type": "scatter3d",
         "x": [
          0,
          -0.0138453
         ],
         "y": [
          0,
          1.891124
         ],
         "z": [
          0,
          -0.650738
         ]
        },
        {
         "line": {
          "color": "rgb(20, 0, 145)",
          "width": 2
         },
         "mode": "lines",
         "type": "scatter3d",
         "x": [
          0,
          -0.0138453
         ],
         "y": [
          0,
          1.891124
         ],
         "z": [
          0,
          -0.650738
         ]
        },
        {
         "line": {
          "color": "rgb(20, 0, 145)",
          "width": 2
         },
         "mode": "lines",
         "type": "scatter3d",
         "x": [
          0,
          -0.00890144
         ],
         "y": [
          0,
          1.892824
         ],
         "z": [
          0,
          -0.645864
         ]
        },
        {
         "line": {
          "color": "rgb(20, 0, 145)",
          "width": 2
         },
         "mode": "lines",
         "type": "scatter3d",
         "x": [
          0,
          -0.0089996
         ],
         "y": [
          0,
          1.893944
         ],
         "z": [
          0,
          -0.642568
         ]
        },
        {
         "line": {
          "color": "rgb(20, 0, 145)",
          "width": 2
         },
         "mode": "lines",
         "type": "scatter3d",
         "x": [
          0,
          -0.01204646
         ],
         "y": [
          0,
          1.8907
         ],
         "z": [
          0,
          -0.652002
         ]
        },
        {
         "line": {
          "color": "rgb(20, 0, 145)",
          "width": 2
         },
         "mode": "lines",
         "type": "scatter3d",
         "x": [
          0,
          -0.01204646
         ],
         "y": [
          0,
          1.8907
         ],
         "z": [
          0,
          -0.652002
         ]
        },
        {
         "line": {
          "color": "rgb(20, 0, 145)",
          "width": 2
         },
         "mode": "lines",
         "type": "scatter3d",
         "x": [
          0,
          -0.00955072
         ],
         "y": [
          0,
          1.890366
         ],
         "z": [
          0,
          -0.653014
         ]
        },
        {
         "line": {
          "color": "rgb(20, 0, 145)",
          "width": 2
         },
         "mode": "lines",
         "type": "scatter3d",
         "x": [
          0,
          -0.01735642
         ],
         "y": [
          0,
          1.89007
         ],
         "z": [
          0,
          -0.653708
         ]
        },
        {
         "line": {
          "color": "rgb(20, 0, 145)",
          "width": 2
         },
         "mode": "lines",
         "type": "scatter3d",
         "x": [
          0,
          -0.01230984
         ],
         "y": [
          0,
          1.889296
         ],
         "z": [
          0,
          -0.656056
         ]
        },
        {
         "line": {
          "color": "rgb(20, 0, 145)",
          "width": 2
         },
         "mode": "lines",
         "type": "scatter3d",
         "x": [
          0,
          -0.01434466
         ],
         "y": [
          0,
          1.888296
         ],
         "z": [
          0,
          -0.658884
         ]
        },
        {
         "line": {
          "color": "rgb(20, 0, 145)",
          "width": 2
         },
         "mode": "lines",
         "type": "scatter3d",
         "x": [
          0,
          -0.01315174
         ],
         "y": [
          0,
          1.889812
         ],
         "z": [
          0,
          -0.65455
         ]
        },
        {
         "line": {
          "color": "rgb(20, 0, 145)",
          "width": 2
         },
         "mode": "lines",
         "type": "scatter3d",
         "x": [
          0,
          -0.01315174
         ],
         "y": [
          0,
          1.889812
         ],
         "z": [
          0,
          -0.65455
         ]
        },
        {
         "line": {
          "color": "rgb(20, 0, 145)",
          "width": 2
         },
         "mode": "lines",
         "type": "scatter3d",
         "x": [
          0,
          -0.01117448
         ],
         "y": [
          0,
          1.891112
         ],
         "z": [
          0,
          -0.650824
         ]
        },
        {
         "line": {
          "color": "rgb(20, 0, 145)",
          "width": 2
         },
         "mode": "lines",
         "type": "scatter3d",
         "x": [
          0,
          -0.00998916
         ],
         "y": [
          0,
          1.889844
         ],
         "z": [
          0,
          -0.654512
         ]
        },
        {
         "line": {
          "color": "rgb(20, 0, 145)",
          "width": 2
         },
         "mode": "lines",
         "type": "scatter3d",
         "x": [
          0,
          -0.01255968
         ],
         "y": [
          0,
          1.889282
         ],
         "z": [
          0,
          -0.656088
         ]
        },
        {
         "line": {
          "color": "rgb(20, 0, 145)",
          "width": 2
         },
         "mode": "lines",
         "type": "scatter3d",
         "x": [
          0,
          -0.01255968
         ],
         "y": [
          0,
          1.889282
         ],
         "z": [
          0,
          -0.656088
         ]
        },
        {
         "line": {
          "color": "rgb(20, 0, 145)",
          "width": 2
         },
         "mode": "lines",
         "type": "scatter3d",
         "x": [
          0,
          -0.00562716
         ],
         "y": [
          0,
          1.890116
         ],
         "z": [
          0,
          -0.653782
         ]
        },
        {
         "line": {
          "color": "rgb(20, 0, 145)",
          "width": 2
         },
         "mode": "lines",
         "type": "scatter3d",
         "x": [
          0,
          -0.00961856
         ],
         "y": [
          0,
          1.8899
         ],
         "z": [
          0,
          -0.65436
         ]
        },
        {
         "line": {
          "color": "rgb(20, 0, 145)",
          "width": 2
         },
         "mode": "lines",
         "type": "scatter3d",
         "x": [
          0,
          -0.0104028
         ],
         "y": [
          0,
          1.890166
         ],
         "z": [
          0,
          -0.653578
         ]
        },
        {
         "line": {
          "color": "rgb(20, 0, 145)",
          "width": 2
         },
         "mode": "lines",
         "type": "scatter3d",
         "x": [
          0,
          -0.01097408
         ],
         "y": [
          0,
          1.888712
         ],
         "z": [
          0,
          -0.657758
         ]
        },
        {
         "line": {
          "color": "rgb(20, 0, 145)",
          "width": 2
         },
         "mode": "lines",
         "type": "scatter3d",
         "x": [
          0,
          -0.01097408
         ],
         "y": [
          0,
          1.888712
         ],
         "z": [
          0,
          -0.657758
         ]
        },
        {
         "line": {
          "color": "rgb(20, 0, 145)",
          "width": 2
         },
         "mode": "lines",
         "type": "scatter3d",
         "x": [
          0,
          -0.01255564
         ],
         "y": [
          0,
          1.888142
         ],
         "z": [
          0,
          -0.659362
         ]
        },
        {
         "line": {
          "color": "rgb(20, 0, 145)",
          "width": 2
         },
         "mode": "lines",
         "type": "scatter3d",
         "x": [
          0,
          -0.01064284
         ],
         "y": [
          0,
          1.888134
         ],
         "z": [
          0,
          -0.659422
         ]
        },
        {
         "line": {
          "color": "rgb(20, 0, 145)",
          "width": 2
         },
         "mode": "lines",
         "type": "scatter3d",
         "x": [
          0,
          -0.01299558
         ],
         "y": [
          0,
          1.88749
         ],
         "z": [
          0,
          -0.661218
         ]
        },
        {
         "line": {
          "color": "rgb(20, 0, 145)",
          "width": 2
         },
         "mode": "lines",
         "type": "scatter3d",
         "x": [
          0,
          -0.0124644
         ],
         "y": [
          0,
          1.887272
         ],
         "z": [
          0,
          -0.661854
         ]
        },
        {
         "line": {
          "color": "rgb(20, 0, 145)",
          "width": 2
         },
         "mode": "lines",
         "type": "scatter3d",
         "x": [
          0,
          -0.01303322
         ],
         "y": [
          0,
          1.888454
         ],
         "z": [
          0,
          -0.658462
         ]
        },
        {
         "line": {
          "color": "rgb(20, 0, 145)",
          "width": 2
         },
         "mode": "lines",
         "type": "scatter3d",
         "x": [
          0,
          -0.01303322
         ],
         "y": [
          0,
          1.888454
         ],
         "z": [
          0,
          -0.658462
         ]
        },
        {
         "line": {
          "color": "rgb(20, 0, 145)",
          "width": 2
         },
         "mode": "lines",
         "type": "scatter3d",
         "x": [
          0,
          -0.01445224
         ],
         "y": [
          0,
          1.88653
         ],
         "z": [
          0,
          -0.663926
         ]
        },
        {
         "line": {
          "color": "rgb(20, 0, 145)",
          "width": 2
         },
         "mode": "lines",
         "type": "scatter3d",
         "x": [
          0,
          -0.01766026
         ],
         "y": [
          0,
          1.886334
         ],
         "z": [
          0,
          -0.664402
         ]
        },
        {
         "line": {
          "color": "rgb(20, 0, 145)",
          "width": 2
         },
         "mode": "lines",
         "type": "scatter3d",
         "x": [
          0,
          -0.0242596
         ],
         "y": [
          0,
          1.88675
         ],
         "z": [
          0,
          -0.663014
         ]
        },
        {
         "line": {
          "color": "rgb(20, 0, 145)",
          "width": 2
         },
         "mode": "lines",
         "type": "scatter3d",
         "x": [
          0,
          -0.0251978
         ],
         "y": [
          0,
          1.885556
         ],
         "z": [
          0,
          -0.666366
         ]
        },
        {
         "line": {
          "color": "rgb(20, 0, 145)",
          "width": 2
         },
         "mode": "lines",
         "type": "scatter3d",
         "x": [
          0,
          -0.0238566
         ],
         "y": [
          0,
          1.88675
         ],
         "z": [
          0,
          -0.663026
         ]
        },
        {
         "line": {
          "color": "rgb(20, 0, 145)",
          "width": 2
         },
         "mode": "lines",
         "type": "scatter3d",
         "x": [
          0,
          -0.0227464
         ],
         "y": [
          0,
          1.887454
         ],
         "z": [
          0,
          -0.661062
         ]
        },
        {
         "line": {
          "color": "rgb(20, 0, 145)",
          "width": 2
         },
         "mode": "lines",
         "type": "scatter3d",
         "x": [
          0,
          -0.0262374
         ],
         "y": [
          0,
          1.88656
         ],
         "z": [
          0,
          -0.663476
         ]
        },
        {
         "line": {
          "color": "rgb(20, 0, 145)",
          "width": 2
         },
         "mode": "lines",
         "type": "scatter3d",
         "x": [
          0,
          -0.0135913
         ],
         "y": [
          0,
          1.887226
         ],
         "z": [
          0,
          -0.661962
         ]
        },
        {
         "line": {
          "color": "rgb(20, 0, 145)",
          "width": 2
         },
         "mode": "lines",
         "type": "scatter3d",
         "x": [
          0,
          -0.01502344
         ],
         "y": [
          0,
          1.884438
         ],
         "z": [
          0,
          -0.669826
         ]
        },
        {
         "line": {
          "color": "rgb(20, 0, 145)",
          "width": 2
         },
         "mode": "lines",
         "type": "scatter3d",
         "x": [
          0,
          -0.01763126
         ],
         "y": [
          0,
          1.882684
         ],
         "z": [
          0,
          -0.67468
         ]
        },
        {
         "line": {
          "color": "rgb(20, 0, 145)",
          "width": 2
         },
         "mode": "lines",
         "type": "scatter3d",
         "x": [
          0,
          -0.01899352
         ],
         "y": [
          0,
          1.88333
         ],
         "z": [
          0,
          -0.672838
         ]
        },
        {
         "line": {
          "color": "rgb(20, 0, 145)",
          "width": 2
         },
         "mode": "lines",
         "type": "scatter3d",
         "x": [
          0,
          -0.01483978
         ],
         "y": [
          0,
          1.883576
         ],
         "z": [
          0,
          -0.672248
         ]
        },
        {
         "line": {
          "color": "rgb(20, 0, 145)",
          "width": 2
         },
         "mode": "lines",
         "type": "scatter3d",
         "x": [
          0,
          -0.0253452
         ],
         "y": [
          0,
          1.88026
         ],
         "z": [
          0,
          -0.68116
         ]
        },
        {
         "line": {
          "color": "rgb(20, 0, 145)",
          "width": 2
         },
         "mode": "lines",
         "type": "scatter3d",
         "x": [
          0,
          -0.0253452
         ],
         "y": [
          0,
          1.88026
         ],
         "z": [
          0,
          -0.68116
         ]
        },
        {
         "line": {
          "color": "rgb(20, 0, 145)",
          "width": 2
         },
         "mode": "lines",
         "type": "scatter3d",
         "x": [
          0,
          -0.0228706
         ],
         "y": [
          0,
          1.87956
         ],
         "z": [
          0,
          -0.683178
         ]
        },
        {
         "line": {
          "color": "rgb(20, 0, 145)",
          "width": 2
         },
         "mode": "lines",
         "type": "scatter3d",
         "x": [
          0,
          -0.0203358
         ],
         "y": [
          0,
          1.87862
         ],
         "z": [
          0,
          -0.685838
         ]
        },
        {
         "line": {
          "color": "rgb(20, 0, 145)",
          "width": 2
         },
         "mode": "lines",
         "type": "scatter3d",
         "x": [
          0,
          -0.0256216
         ],
         "y": [
          0,
          1.877976
         ],
         "z": [
          0,
          -0.687424
         ]
        },
        {
         "line": {
          "color": "rgb(20, 0, 145)",
          "width": 2
         },
         "mode": "lines",
         "type": "scatter3d",
         "x": [
          0,
          -0.025691
         ],
         "y": [
          0,
          1.877486
         ],
         "z": [
          0,
          -0.688758
         ]
        },
        {
         "line": {
          "color": "rgb(20, 0, 145)",
          "width": 2
         },
         "mode": "lines",
         "type": "scatter3d",
         "x": [
          0,
          -0.025691
         ],
         "y": [
          0,
          1.877486
         ],
         "z": [
          0,
          -0.688758
         ]
        },
        {
         "line": {
          "color": "rgb(20, 0, 145)",
          "width": 2
         },
         "mode": "lines",
         "type": "scatter3d",
         "x": [
          0,
          -0.0228546
         ],
         "y": [
          0,
          1.878534
         ],
         "z": [
          0,
          -0.685996
         ]
        },
        {
         "line": {
          "color": "rgb(20, 0, 145)",
          "width": 2
         },
         "mode": "lines",
         "type": "scatter3d",
         "x": [
          0,
          -0.0247962
         ],
         "y": [
          0,
          1.877752
         ],
         "z": [
          0,
          -0.688064
         ]
        },
        {
         "line": {
          "color": "rgb(20, 0, 145)",
          "width": 2
         },
         "mode": "lines",
         "type": "scatter3d",
         "x": [
          0,
          -0.0250124
         ],
         "y": [
          0,
          1.877824
         ],
         "z": [
          0,
          -0.687858
         ]
        },
        {
         "line": {
          "color": "rgb(20, 0, 145)",
          "width": 2
         },
         "mode": "lines",
         "type": "scatter3d",
         "x": [
          0,
          -0.025733
         ],
         "y": [
          0,
          1.877578
         ],
         "z": [
          0,
          -0.688504
         ]
        },
        {
         "line": {
          "color": "rgb(20, 0, 145)",
          "width": 2
         },
         "mode": "lines",
         "type": "scatter3d",
         "x": [
          0,
          -0.025733
         ],
         "y": [
          0,
          1.877578
         ],
         "z": [
          0,
          -0.688504
         ]
        },
        {
         "line": {
          "color": "rgb(20, 0, 145)",
          "width": 2
         },
         "mode": "lines",
         "type": "scatter3d",
         "x": [
          0,
          -0.0272442
         ],
         "y": [
          0,
          1.876548
         ],
         "z": [
          0,
          -0.691248
         ]
        },
        {
         "line": {
          "color": "rgb(20, 0, 145)",
          "width": 2
         },
         "mode": "lines",
         "type": "scatter3d",
         "x": [
          0,
          -0.029519
         ],
         "y": [
          0,
          1.875672
         ],
         "z": [
          0,
          -0.69353
         ]
        },
        {
         "line": {
          "color": "rgb(20, 0, 145)",
          "width": 2
         },
         "mode": "lines",
         "type": "scatter3d",
         "x": [
          0,
          -0.0330256
         ],
         "y": [
          0,
          1.874552
         ],
         "z": [
          0,
          -0.69639
         ]
        },
        {
         "line": {
          "color": "rgb(20, 0, 145)",
          "width": 2
         },
         "mode": "lines",
         "type": "scatter3d",
         "x": [
          0,
          -0.0330256
         ],
         "y": [
          0,
          1.874552
         ],
         "z": [
          0,
          -0.69639
         ]
        },
        {
         "line": {
          "color": "rgb(20, 0, 145)",
          "width": 2
         },
         "mode": "lines",
         "type": "scatter3d",
         "x": [
          0,
          -0.0332258
         ],
         "y": [
          0,
          1.876214
         ],
         "z": [
          0,
          -0.691892
         ]
        },
        {
         "line": {
          "color": "rgb(20, 0, 145)",
          "width": 2
         },
         "mode": "lines",
         "type": "scatter3d",
         "x": [
          0,
          -0.0282792
         ],
         "y": [
          0,
          1.875552
         ],
         "z": [
          0,
          -0.693904
         ]
        },
        {
         "line": {
          "color": "rgb(20, 0, 145)",
          "width": 2
         },
         "mode": "lines",
         "type": "scatter3d",
         "x": [
          0,
          -0.027656
         ],
         "y": [
          0,
          1.881402
         ],
         "z": [
          0,
          -0.677912
         ]
        },
        {
         "line": {
          "color": "rgb(20, 0, 145)",
          "width": 2
         },
         "mode": "lines",
         "type": "scatter3d",
         "x": [
          0,
          -0.028457
         ],
         "y": [
          0,
          1.88014
         ],
         "z": [
          0,
          -0.681372
         ]
        },
        {
         "line": {
          "color": "rgb(20, 0, 145)",
          "width": 2
         },
         "mode": "lines",
         "type": "scatter3d",
         "x": [
          0,
          -0.0230146
         ],
         "y": [
          0,
          1.880792
         ],
         "z": [
          0,
          -0.679776
         ]
        },
        {
         "line": {
          "color": "rgb(20, 0, 145)",
          "width": 2
         },
         "mode": "lines",
         "type": "scatter3d",
         "x": [
          0,
          -0.0230146
         ],
         "y": [
          0,
          1.880792
         ],
         "z": [
          0,
          -0.679776
         ]
        },
        {
         "line": {
          "color": "rgb(20, 0, 145)",
          "width": 2
         },
         "mode": "lines",
         "type": "scatter3d",
         "x": [
          0,
          -0.0238006
         ],
         "y": [
          0,
          1.88177
         ],
         "z": [
          0,
          -0.677032
         ]
        },
        {
         "line": {
          "color": "rgb(20, 0, 145)",
          "width": 2
         },
         "mode": "lines",
         "type": "scatter3d",
         "x": [
          0,
          -0.0226066
         ],
         "y": [
          0,
          1.880698
         ],
         "z": [
          0,
          -0.680044
         ]
        },
        {
         "line": {
          "color": "rgb(20, 0, 145)",
          "width": 2
         },
         "mode": "lines",
         "type": "scatter3d",
         "x": [
          0,
          -0.0206544
         ],
         "y": [
          0,
          1.88062
         ],
         "z": [
          0,
          -0.680324
         ]
        },
        {
         "line": {
          "color": "rgb(20, 0, 145)",
          "width": 2
         },
         "mode": "lines",
         "type": "scatter3d",
         "x": [
          0,
          -0.0206544
         ],
         "y": [
          0,
          1.88062
         ],
         "z": [
          0,
          -0.680324
         ]
        },
        {
         "line": {
          "color": "rgb(20, 0, 145)",
          "width": 2
         },
         "mode": "lines",
         "type": "scatter3d",
         "x": [
          0,
          -0.0230328
         ],
         "y": [
          0,
          1.878908
         ],
         "z": [
          0,
          -0.684964
         ]
        },
        {
         "line": {
          "color": "rgb(20, 0, 145)",
          "width": 2
         },
         "mode": "lines",
         "type": "scatter3d",
         "x": [
          0,
          -0.0228144
         ],
         "y": [
          0,
          1.876896
         ],
         "z": [
          0,
          -0.690466
         ]
        },
        {
         "line": {
          "color": "rgb(20, 0, 145)",
          "width": 2
         },
         "mode": "lines",
         "type": "scatter3d",
         "x": [
          0,
          -0.0249658
         ],
         "y": [
          0,
          1.87822
         ],
         "z": [
          0,
          -0.686782
         ]
        },
        {
         "line": {
          "color": "rgb(20, 0, 145)",
          "width": 2
         },
         "mode": "lines",
         "type": "scatter3d",
         "x": [
          0,
          -0.029402
         ],
         "y": [
          0,
          1.87712
         ],
         "z": [
          0,
          -0.689604
         ]
        },
        {
         "line": {
          "color": "rgb(20, 0, 145)",
          "width": 2
         },
         "mode": "lines",
         "type": "scatter3d",
         "x": [
          0,
          -0.0262146
         ],
         "y": [
          0,
          1.880586
         ],
         "z": [
          0,
          -0.680226
         ]
        },
        {
         "line": {
          "color": "rgb(20, 0, 145)",
          "width": 2
         },
         "mode": "lines",
         "type": "scatter3d",
         "x": [
          0,
          -0.0262146
         ],
         "y": [
          0,
          1.880586
         ],
         "z": [
          0,
          -0.680226
         ]
        },
        {
         "line": {
          "color": "rgb(20, 0, 145)",
          "width": 2
         },
         "mode": "lines",
         "type": "scatter3d",
         "x": [
          0,
          -0.0283382
         ],
         "y": [
          0,
          1.87636
         ],
         "z": [
          0,
          -0.691718
         ]
        },
        {
         "line": {
          "color": "rgb(20, 0, 145)",
          "width": 2
         },
         "mode": "lines",
         "type": "scatter3d",
         "x": [
          0,
          -0.0286582
         ],
         "y": [
          0,
          1.877942
         ],
         "z": [
          0,
          -0.687392
         ]
        },
        {
         "line": {
          "color": "rgb(20, 0, 145)",
          "width": 2
         },
         "mode": "lines",
         "type": "scatter3d",
         "x": [
          0,
          -0.0333506
         ],
         "y": [
          0,
          1.876084
         ],
         "z": [
          0,
          -0.692238
         ]
        },
        {
         "line": {
          "color": "rgb(20, 0, 145)",
          "width": 2
         },
         "mode": "lines",
         "type": "scatter3d",
         "x": [
          0,
          -0.0305434
         ],
         "y": [
          0,
          1.877336
         ],
         "z": [
          0,
          -0.68897
         ]
        },
        {
         "line": {
          "color": "rgb(20, 0, 145)",
          "width": 2
         },
         "mode": "lines",
         "type": "scatter3d",
         "x": [
          0,
          -0.0305434
         ],
         "y": [
          0,
          1.877336
         ],
         "z": [
          0,
          -0.68897
         ]
        },
        {
         "line": {
          "color": "rgb(20, 0, 145)",
          "width": 2
         },
         "mode": "lines",
         "type": "scatter3d",
         "x": [
          0,
          -0.0261594
         ],
         "y": [
          0,
          1.88191
         ],
         "z": [
          0,
          -0.676558
         ]
        },
        {
         "line": {
          "color": "rgb(20, 0, 145)",
          "width": 2
         },
         "mode": "lines",
         "type": "scatter3d",
         "x": [
          0,
          -0.0304356
         ],
         "y": [
          0,
          1.87764
         ],
         "z": [
          0,
          -0.688142
         ]
        },
        {
         "line": {
          "color": "rgb(20, 0, 145)",
          "width": 2
         },
         "mode": "lines",
         "type": "scatter3d",
         "x": [
          0,
          -0.0294076
         ],
         "y": [
          0,
          1.87633
         ],
         "z": [
          0,
          -0.69175
         ]
        },
        {
         "line": {
          "color": "rgb(20, 0, 145)",
          "width": 2
         },
         "mode": "lines",
         "type": "scatter3d",
         "x": [
          0,
          -0.0294076
         ],
         "y": [
          0,
          1.87633
         ],
         "z": [
          0,
          -0.69175
         ]
        },
        {
         "line": {
          "color": "rgb(20, 0, 145)",
          "width": 2
         },
         "mode": "lines",
         "type": "scatter3d",
         "x": [
          0,
          -0.0277582
         ],
         "y": [
          0,
          1.87939
         ],
         "z": [
          0,
          -0.683462
         ]
        },
        {
         "line": {
          "color": "rgb(20, 0, 145)",
          "width": 2
         },
         "mode": "lines",
         "type": "scatter3d",
         "x": [
          0,
          -0.0252112
         ],
         "y": [
          0,
          1.882074
         ],
         "z": [
          0,
          -0.676136
         ]
        },
        {
         "line": {
          "color": "rgb(20, 0, 145)",
          "width": 2
         },
         "mode": "lines",
         "type": "scatter3d",
         "x": [
          0,
          -0.0240952
         ],
         "y": [
          0,
          1.882932
         ],
         "z": [
          0,
          -0.673784
         ]
        },
        {
         "line": {
          "color": "rgb(20, 0, 145)",
          "width": 2
         },
         "mode": "lines",
         "type": "scatter3d",
         "x": [
          0,
          -0.0263378
         ],
         "y": [
          0,
          1.882276
         ],
         "z": [
          0,
          -0.675534
         ]
        },
        {
         "line": {
          "color": "rgb(20, 0, 145)",
          "width": 2
         },
         "mode": "lines",
         "type": "scatter3d",
         "x": [
          0,
          -0.0232486
         ],
         "y": [
          0,
          1.885784
         ],
         "z": [
          0,
          -0.665792
         ]
        },
        {
         "line": {
          "color": "rgb(20, 0, 145)",
          "width": 2
         },
         "mode": "lines",
         "type": "scatter3d",
         "x": [
          0,
          -0.0232486
         ],
         "y": [
          0,
          1.885784
         ],
         "z": [
          0,
          -0.665792
         ]
        },
        {
         "line": {
          "color": "rgb(20, 0, 145)",
          "width": 2
         },
         "mode": "lines",
         "type": "scatter3d",
         "x": [
          0,
          -0.0246028
         ],
         "y": [
          0,
          1.884774
         ],
         "z": [
          0,
          -0.668596
         ]
        },
        {
         "line": {
          "color": "rgb(20, 0, 145)",
          "width": 2
         },
         "mode": "lines",
         "type": "scatter3d",
         "x": [
          0,
          -0.0212168
         ],
         "y": [
          0,
          1.88167
         ],
         "z": [
          0,
          -0.677398
         ]
        },
        {
         "line": {
          "color": "rgb(20, 0, 145)",
          "width": 2
         },
         "mode": "lines",
         "type": "scatter3d",
         "x": [
          0,
          -0.0256154
         ],
         "y": [
          0,
          1.878948
         ],
         "z": [
          0,
          -0.68476
         ]
        },
        {
         "line": {
          "color": "rgb(20, 0, 145)",
          "width": 2
         },
         "mode": "lines",
         "type": "scatter3d",
         "x": [
          0,
          -0.0268664
         ],
         "y": [
          0,
          1.879786
         ],
         "z": [
          0,
          -0.682412
         ]
        },
        {
         "line": {
          "color": "rgb(20, 0, 145)",
          "width": 2
         },
         "mode": "lines",
         "type": "scatter3d",
         "x": [
          0,
          -0.0268664
         ],
         "y": [
          0,
          1.879786
         ],
         "z": [
          0,
          -0.682412
         ]
        },
        {
         "line": {
          "color": "rgb(20, 0, 145)",
          "width": 2
         },
         "mode": "lines",
         "type": "scatter3d",
         "x": [
          0,
          -0.0276834
         ],
         "y": [
          0,
          1.880082
         ],
         "z": [
          0,
          -0.68156
         ]
        },
        {
         "line": {
          "color": "rgb(20, 0, 145)",
          "width": 2
         },
         "mode": "lines",
         "type": "scatter3d",
         "x": [
          0,
          -0.0251716
         ],
         "y": [
          0,
          1.879824
         ],
         "z": [
          0,
          -0.682368
         ]
        },
        {
         "line": {
          "color": "rgb(20, 0, 145)",
          "width": 2
         },
         "mode": "lines",
         "type": "scatter3d",
         "x": [
          0,
          0.1963716
         ],
         "y": [
          0,
          1.879678
         ],
         "z": [
          0,
          -0.654406
         ]
        },
        {
         "line": {
          "color": "rgb(20, 0, 145)",
          "width": 2
         },
         "mode": "lines",
         "type": "scatter3d",
         "x": [
          0,
          0.1923424
         ],
         "y": [
          0,
          1.878452
         ],
         "z": [
          0,
          -0.659108
         ]
        },
        {
         "line": {
          "color": "rgb(20, 0, 145)",
          "width": 2
         },
         "mode": "lines",
         "type": "scatter3d",
         "x": [
          0,
          0.1923424
         ],
         "y": [
          0,
          1.878452
         ],
         "z": [
          0,
          -0.659108
         ]
        },
        {
         "line": {
          "color": "rgb(20, 0, 145)",
          "width": 2
         },
         "mode": "lines",
         "type": "scatter3d",
         "x": [
          0,
          0.190139
         ],
         "y": [
          0,
          1.88102
         ],
         "z": [
          0,
          -0.652392
         ]
        },
        {
         "line": {
          "color": "rgb(20, 0, 145)",
          "width": 2
         },
         "mode": "lines",
         "type": "scatter3d",
         "x": [
          0,
          0.1920304
         ],
         "y": [
          0,
          1.881468
         ],
         "z": [
          0,
          -0.650542
         ]
        },
        {
         "line": {
          "color": "rgb(20, 0, 145)",
          "width": 2
         },
         "mode": "lines",
         "type": "scatter3d",
         "x": [
          0,
          0.1857408
         ],
         "y": [
          0,
          1.879244
         ],
         "z": [
          0,
          -0.658742
         ]
        },
        {
         "line": {
          "color": "rgb(20, 0, 145)",
          "width": 2
         },
         "mode": "lines",
         "type": "scatter3d",
         "x": [
          0,
          0.191738
         ],
         "y": [
          0,
          1.881058
         ],
         "z": [
          0,
          -0.651812
         ]
        },
        {
         "line": {
          "color": "rgb(20, 0, 145)",
          "width": 2
         },
         "mode": "lines",
         "type": "scatter3d",
         "x": [
          0,
          0.1797566
         ],
         "y": [
          0,
          1.882612
         ],
         "z": [
          0,
          -0.65074
         ]
        },
        {
         "line": {
          "color": "rgb(20, 0, 145)",
          "width": 2
         },
         "mode": "lines",
         "type": "scatter3d",
         "x": [
          0,
          0.1797566
         ],
         "y": [
          0,
          1.882612
         ],
         "z": [
          0,
          -0.65074
         ]
        },
        {
         "line": {
          "color": "rgb(20, 0, 145)",
          "width": 2
         },
         "mode": "lines",
         "type": "scatter3d",
         "x": [
          0,
          0.1909882
         ],
         "y": [
          0,
          1.885214
         ],
         "z": [
          0,
          -0.639918
         ]
        },
        {
         "line": {
          "color": "rgb(20, 0, 145)",
          "width": 2
         },
         "mode": "lines",
         "type": "scatter3d",
         "x": [
          0,
          0.184482
         ],
         "y": [
          0,
          1.882596
         ],
         "z": [
          0,
          -0.64946
         ]
        },
        {
         "line": {
          "color": "rgb(20, 0, 145)",
          "width": 2
         },
         "mode": "lines",
         "type": "scatter3d",
         "x": [
          0,
          0.184482
         ],
         "y": [
          0,
          1.882596
         ],
         "z": [
          0,
          -0.64946
         ]
        },
        {
         "line": {
          "color": "rgb(20, 0, 145)",
          "width": 2
         },
         "mode": "lines",
         "type": "scatter3d",
         "x": [
          0,
          0.1799268
         ],
         "y": [
          0,
          1.883464
         ],
         "z": [
          0,
          -0.648222
         ]
        },
        {
         "line": {
          "color": "rgb(20, 0, 145)",
          "width": 2
         },
         "mode": "lines",
         "type": "scatter3d",
         "x": [
          0,
          0.188701
         ],
         "y": [
          0,
          1.883178
         ],
         "z": [
          0,
          -0.646556
         ]
        },
        {
         "line": {
          "color": "rgb(20, 0, 145)",
          "width": 2
         },
         "mode": "lines",
         "type": "scatter3d",
         "x": [
          0,
          0.1742866
         ],
         "y": [
          0,
          1.885036
         ],
         "z": [
          0,
          -0.645184
         ]
        },
        {
         "line": {
          "color": "rgb(20, 0, 145)",
          "width": 2
         },
         "mode": "lines",
         "type": "scatter3d",
         "x": [
          0,
          0.1847546
         ],
         "y": [
          0,
          1.884592
         ],
         "z": [
          0,
          -0.64357
         ]
        },
        {
         "line": {
          "color": "rgb(20, 0, 145)",
          "width": 2
         },
         "mode": "lines",
         "type": "scatter3d",
         "x": [
          0,
          0.1806858
         ],
         "y": [
          0,
          1.882164
         ],
         "z": [
          0,
          -0.651778
         ]
        },
        {
         "line": {
          "color": "rgb(20, 0, 145)",
          "width": 2
         },
         "mode": "lines",
         "type": "scatter3d",
         "x": [
          0,
          0.1806858
         ],
         "y": [
          0,
          1.882164
         ],
         "z": [
          0,
          -0.651778
         ]
        },
        {
         "line": {
          "color": "rgb(20, 0, 145)",
          "width": 2
         },
         "mode": "lines",
         "type": "scatter3d",
         "x": [
          0,
          0.1756114
         ],
         "y": [
          0,
          1.883334
         ],
         "z": [
          0,
          -0.649782
         ]
        },
        {
         "line": {
          "color": "rgb(20, 0, 145)",
          "width": 2
         },
         "mode": "lines",
         "type": "scatter3d",
         "x": [
          0,
          0.1831328
         ],
         "y": [
          0,
          1.880812
         ],
         "z": [
          0,
          -0.65499
         ]
        },
        {
         "line": {
          "color": "rgb(20, 0, 145)",
          "width": 2
         },
         "mode": "lines",
         "type": "scatter3d",
         "x": [
          0,
          0.1747332
         ],
         "y": [
          0,
          1.881662
         ],
         "z": [
          0,
          -0.654842
         ]
        },
        {
         "line": {
          "color": "rgb(20, 0, 145)",
          "width": 2
         },
         "mode": "lines",
         "type": "scatter3d",
         "x": [
          0,
          0.1747332
         ],
         "y": [
          0,
          1.881662
         ],
         "z": [
          0,
          -0.654842
         ]
        },
        {
         "line": {
          "color": "rgb(20, 0, 145)",
          "width": 2
         },
         "mode": "lines",
         "type": "scatter3d",
         "x": [
          0,
          0.187586
         ],
         "y": [
          0,
          1.885078
         ],
         "z": [
          0,
          -0.641324
         ]
        },
        {
         "line": {
          "color": "rgb(20, 0, 145)",
          "width": 2
         },
         "mode": "lines",
         "type": "scatter3d",
         "x": [
          0,
          0.1943228
         ],
         "y": [
          0,
          1.88347
         ],
         "z": [
          0,
          -0.644032
         ]
        },
        {
         "line": {
          "color": "rgb(20, 0, 145)",
          "width": 2
         },
         "mode": "lines",
         "type": "scatter3d",
         "x": [
          0,
          0.200712
         ],
         "y": [
          0,
          1.882838
         ],
         "z": [
          0,
          -0.643924
         ]
        },
        {
         "line": {
          "color": "rgb(20, 0, 145)",
          "width": 2
         },
         "mode": "lines",
         "type": "scatter3d",
         "x": [
          0,
          0.195385
         ],
         "y": [
          0,
          1.880614
         ],
         "z": [
          0,
          -0.65201
         ]
        },
        {
         "line": {
          "color": "rgb(20, 0, 145)",
          "width": 2
         },
         "mode": "lines",
         "type": "scatter3d",
         "x": [
          0,
          0.199628
         ],
         "y": [
          0,
          1.879734
         ],
         "z": [
          0,
          -0.653262
         ]
        },
        {
         "line": {
          "color": "rgb(20, 0, 145)",
          "width": 2
         },
         "mode": "lines",
         "type": "scatter3d",
         "x": [
          0,
          0.199628
         ],
         "y": [
          0,
          1.879734
         ],
         "z": [
          0,
          -0.653262
         ]
        },
        {
         "line": {
          "color": "rgb(20, 0, 145)",
          "width": 2
         },
         "mode": "lines",
         "type": "scatter3d",
         "x": [
          0,
          0.201838
         ],
         "y": [
          0,
          1.881146
         ],
         "z": [
          0,
          -0.6485
         ]
        },
        {
         "line": {
          "color": "rgb(20, 0, 145)",
          "width": 2
         },
         "mode": "lines",
         "type": "scatter3d",
         "x": [
          0,
          0.1991992
         ],
         "y": [
          0,
          1.878644
         ],
         "z": [
          0,
          -0.656518
         ]
        },
        {
         "line": {
          "color": "rgb(20, 0, 145)",
          "width": 2
         },
         "mode": "lines",
         "type": "scatter3d",
         "x": [
          0,
          0.1976472
         ],
         "y": [
          0,
          1.879014
         ],
         "z": [
          0,
          -0.65593
         ]
        },
        {
         "line": {
          "color": "rgb(20, 0, 145)",
          "width": 2
         },
         "mode": "lines",
         "type": "scatter3d",
         "x": [
          0,
          0.1955962
         ],
         "y": [
          0,
          1.88132
         ],
         "z": [
          0,
          -0.649906
         ]
        },
        {
         "line": {
          "color": "rgb(20, 0, 145)",
          "width": 2
         },
         "mode": "lines",
         "type": "scatter3d",
         "x": [
          0,
          0.1980534
         ],
         "y": [
          0,
          1.879114
         ],
         "z": [
          0,
          -0.65552
         ]
        },
        {
         "line": {
          "color": "rgb(20, 0, 145)",
          "width": 2
         },
         "mode": "lines",
         "type": "scatter3d",
         "x": [
          0,
          0.1934168
         ],
         "y": [
          0,
          1.879468
         ],
         "z": [
          0,
          -0.655892
         ]
        },
        {
         "line": {
          "color": "rgb(20, 0, 145)",
          "width": 2
         },
         "mode": "lines",
         "type": "scatter3d",
         "x": [
          0,
          0.1957368
         ],
         "y": [
          0,
          1.880958
         ],
         "z": [
          0,
          -0.65091
         ]
        },
        {
         "line": {
          "color": "rgb(20, 0, 145)",
          "width": 2
         },
         "mode": "lines",
         "type": "scatter3d",
         "x": [
          0,
          0.1957368
         ],
         "y": [
          0,
          1.880958
         ],
         "z": [
          0,
          -0.65091
         ]
        },
        {
         "line": {
          "color": "rgb(20, 0, 145)",
          "width": 2
         },
         "mode": "lines",
         "type": "scatter3d",
         "x": [
          0,
          0.1880838
         ],
         "y": [
          0,
          1.880126
         ],
         "z": [
          0,
          -0.655556
         ]
        },
        {
         "line": {
          "color": "rgb(20, 0, 145)",
          "width": 2
         },
         "mode": "lines",
         "type": "scatter3d",
         "x": [
          0,
          0.180787
         ],
         "y": [
          0,
          1.879874
         ],
         "z": [
          0,
          -0.658322
         ]
        },
        {
         "line": {
          "color": "rgb(20, 0, 145)",
          "width": 2
         },
         "mode": "lines",
         "type": "scatter3d",
         "x": [
          0,
          0.1728852
         ],
         "y": [
          0,
          1.878908
         ],
         "z": [
          0,
          -0.663188
         ]
        },
        {
         "line": {
          "color": "rgb(20, 0, 145)",
          "width": 2
         },
         "mode": "lines",
         "type": "scatter3d",
         "x": [
          0,
          0.1819476
         ],
         "y": [
          0,
          1.881686
         ],
         "z": [
          0,
          -0.6528
         ]
        },
        {
         "line": {
          "color": "rgb(20, 0, 145)",
          "width": 2
         },
         "mode": "lines",
         "type": "scatter3d",
         "x": [
          0,
          0.1769688
         ],
         "y": [
          0,
          1.878992
         ],
         "z": [
          0,
          -0.661868
         ]
        },
        {
         "line": {
          "color": "rgb(20, 0, 145)",
          "width": 2
         },
         "mode": "lines",
         "type": "scatter3d",
         "x": [
          0,
          0.1769688
         ],
         "y": [
          0,
          1.878992
         ],
         "z": [
          0,
          -0.661868
         ]
        },
        {
         "line": {
          "color": "rgb(20, 0, 145)",
          "width": 2
         },
         "mode": "lines",
         "type": "scatter3d",
         "x": [
          0,
          0.1809554
         ],
         "y": [
          0,
          1.882734
         ],
         "z": [
          0,
          -0.650052
         ]
        },
        {
         "line": {
          "color": "rgb(20, 0, 145)",
          "width": 2
         },
         "mode": "lines",
         "type": "scatter3d",
         "x": [
          0,
          0.173271
         ],
         "y": [
          0,
          1.882296
         ],
         "z": [
          0,
          -0.653406
         ]
        },
        {
         "line": {
          "color": "rgb(20, 0, 145)",
          "width": 2
         },
         "mode": "lines",
         "type": "scatter3d",
         "x": [
          0,
          0.1800972
         ],
         "y": [
          0,
          1.88272
         ],
         "z": [
          0,
          -0.650328
         ]
        },
        {
         "line": {
          "color": "rgb(20, 0, 145)",
          "width": 2
         },
         "mode": "lines",
         "type": "scatter3d",
         "x": [
          0,
          0.1800972
         ],
         "y": [
          0,
          1.88272
         ],
         "z": [
          0,
          -0.650328
         ]
        },
        {
         "line": {
          "color": "rgb(20, 0, 145)",
          "width": 2
         },
         "mode": "lines",
         "type": "scatter3d",
         "x": [
          0,
          0.1765818
         ],
         "y": [
          0,
          1.88282
         ],
         "z": [
          0,
          -0.651004
         ]
        },
        {
         "line": {
          "color": "rgb(20, 0, 145)",
          "width": 2
         },
         "mode": "lines",
         "type": "scatter3d",
         "x": [
          0,
          0.1735354
         ],
         "y": [
          0,
          1.881208
         ],
         "z": [
          0,
          -0.656462
         ]
        },
        {
         "line": {
          "color": "rgb(20, 0, 145)",
          "width": 2
         },
         "mode": "lines",
         "type": "scatter3d",
         "x": [
          0,
          0.1782484
         ],
         "y": [
          0,
          1.880126
         ],
         "z": [
          0,
          -0.658296
         ]
        },
        {
         "line": {
          "color": "rgb(20, 0, 145)",
          "width": 2
         },
         "mode": "lines",
         "type": "scatter3d",
         "x": [
          0,
          0.1696922
         ],
         "y": [
          0,
          1.879782
         ],
         "z": [
          0,
          -0.661532
         ]
        },
        {
         "line": {
          "color": "rgb(20, 0, 145)",
          "width": 2
         },
         "mode": "lines",
         "type": "scatter3d",
         "x": [
          0,
          0.1858136
         ],
         "y": [
          0,
          1.883406
         ],
         "z": [
          0,
          -0.64673
         ]
        },
        {
         "line": {
          "color": "rgb(20, 0, 145)",
          "width": 2
         },
         "mode": "lines",
         "type": "scatter3d",
         "x": [
          0,
          0.1858136
         ],
         "y": [
          0,
          1.883406
         ],
         "z": [
          0,
          -0.64673
         ]
        },
        {
         "line": {
          "color": "rgb(20, 0, 145)",
          "width": 2
         },
         "mode": "lines",
         "type": "scatter3d",
         "x": [
          0,
          0.1759298
         ],
         "y": [
          0,
          1.883128
         ],
         "z": [
          0,
          -0.650288
         ]
        },
        {
         "line": {
          "color": "rgb(20, 0, 145)",
          "width": 2
         },
         "mode": "lines",
         "type": "scatter3d",
         "x": [
          0,
          0.1775746
         ],
         "y": [
          0,
          1.884164
         ],
         "z": [
          0,
          -0.646834
         ]
        },
        {
         "line": {
          "color": "rgb(20, 0, 145)",
          "width": 2
         },
         "mode": "lines",
         "type": "scatter3d",
         "x": [
          0,
          0.1709468
         ],
         "y": [
          0,
          1.882546
         ],
         "z": [
          0,
          -0.653298
         ]
        },
        {
         "line": {
          "color": "rgb(20, 0, 145)",
          "width": 2
         },
         "mode": "lines",
         "type": "scatter3d",
         "x": [
          0,
          0.1743166
         ],
         "y": [
          0,
          1.880786
         ],
         "z": [
          0,
          -0.657466
         ]
        },
        {
         "line": {
          "color": "rgb(20, 0, 145)",
          "width": 2
         },
         "mode": "lines",
         "type": "scatter3d",
         "x": [
          0,
          0.1743166
         ],
         "y": [
          0,
          1.880786
         ],
         "z": [
          0,
          -0.657466
         ]
        },
        {
         "line": {
          "color": "rgb(20, 0, 145)",
          "width": 2
         },
         "mode": "lines",
         "type": "scatter3d",
         "x": [
          0,
          0.177672
         ],
         "y": [
          0,
          1.880868
         ],
         "z": [
          0,
          -0.656326
         ]
        },
        {
         "line": {
          "color": "rgb(20, 0, 145)",
          "width": 2
         },
         "mode": "lines",
         "type": "scatter3d",
         "x": [
          0,
          0.1683256
         ],
         "y": [
          0,
          1.880794
         ],
         "z": [
          0,
          -0.659002
         ]
        },
        {
         "line": {
          "color": "rgb(20, 0, 145)",
          "width": 2
         },
         "mode": "lines",
         "type": "scatter3d",
         "x": [
          0,
          0.1832526
         ],
         "y": [
          0,
          1.882104
         ],
         "z": [
          0,
          -0.651234
         ]
        },
        {
         "line": {
          "color": "rgb(20, 0, 145)",
          "width": 2
         },
         "mode": "lines",
         "type": "scatter3d",
         "x": [
          0,
          0.1745826
         ],
         "y": [
          0,
          1.881414
         ],
         "z": [
          0,
          -0.65559
         ]
        },
        {
         "line": {
          "color": "rgb(20, 0, 145)",
          "width": 2
         },
         "mode": "lines",
         "type": "scatter3d",
         "x": [
          0,
          0.1745826
         ],
         "y": [
          0,
          1.881414
         ],
         "z": [
          0,
          -0.65559
         ]
        },
        {
         "line": {
          "color": "rgb(20, 0, 145)",
          "width": 2
         },
         "mode": "lines",
         "type": "scatter3d",
         "x": [
          0,
          0.1783842
         ],
         "y": [
          0,
          1.882674
         ],
         "z": [
          0,
          -0.650934
         ]
        },
        {
         "line": {
          "color": "rgb(20, 0, 145)",
          "width": 2
         },
         "mode": "lines",
         "type": "scatter3d",
         "x": [
          0,
          0.1777044
         ],
         "y": [
          0,
          1.881292
         ],
         "z": [
          0,
          -0.655106
         ]
        },
        {
         "line": {
          "color": "rgb(20, 0, 145)",
          "width": 2
         },
         "mode": "lines",
         "type": "scatter3d",
         "x": [
          0,
          0.1725028
         ],
         "y": [
          0,
          1.881968
         ],
         "z": [
          0,
          -0.65455
         ]
        },
        {
         "line": {
          "color": "rgb(20, 0, 145)",
          "width": 2
         },
         "mode": "lines",
         "type": "scatter3d",
         "x": [
          0,
          0.1838968
         ],
         "y": [
          0,
          1.883458
         ],
         "z": [
          0,
          -0.647122
         ]
        },
        {
         "line": {
          "color": "rgb(20, 0, 145)",
          "width": 2
         },
         "mode": "lines",
         "type": "scatter3d",
         "x": [
          0,
          0.1838968
         ],
         "y": [
          0,
          1.883458
         ],
         "z": [
          0,
          -0.647122
         ]
        },
        {
         "line": {
          "color": "rgb(20, 0, 145)",
          "width": 2
         },
         "mode": "lines",
         "type": "scatter3d",
         "x": [
          0,
          0.1738764
         ],
         "y": [
          0,
          1.881126
         ],
         "z": [
          0,
          -0.656608
         ]
        },
        {
         "line": {
          "color": "rgb(20, 0, 145)",
          "width": 2
         },
         "mode": "lines",
         "type": "scatter3d",
         "x": [
          0,
          0.1769566
         ],
         "y": [
          0,
          1.88268
         ],
         "z": [
          0,
          -0.651308
         ]
        },
        {
         "line": {
          "color": "rgb(20, 0, 145)",
          "width": 2
         },
         "mode": "lines",
         "type": "scatter3d",
         "x": [
          0,
          0.1782786
         ],
         "y": [
          0,
          1.880774
         ],
         "z": [
          0,
          -0.656434
         ]
        },
        {
         "line": {
          "color": "rgb(20, 0, 145)",
          "width": 2
         },
         "mode": "lines",
         "type": "scatter3d",
         "x": [
          0,
          0.1816604
         ],
         "y": [
          0,
          1.884054
         ],
         "z": [
          0,
          -0.64602
         ]
        },
        {
         "line": {
          "color": "rgb(20, 0, 145)",
          "width": 2
         },
         "mode": "lines",
         "type": "scatter3d",
         "x": [
          0,
          0.1816604
         ],
         "y": [
          0,
          1.884054
         ],
         "z": [
          0,
          -0.64602
         ]
        },
        {
         "line": {
          "color": "rgb(20, 0, 145)",
          "width": 2
         },
         "mode": "lines",
         "type": "scatter3d",
         "x": [
          0,
          0.1840016
         ],
         "y": [
          0,
          1.880996
         ],
         "z": [
          0,
          -0.654216
         ]
        },
        {
         "line": {
          "color": "rgb(20, 0, 145)",
          "width": 2
         },
         "mode": "lines",
         "type": "scatter3d",
         "x": [
          0,
          0.1705586
         ],
         "y": [
          0,
          1.879134
         ],
         "z": [
          0,
          -0.66315
         ]
        },
        {
         "line": {
          "color": "rgb(20, 0, 145)",
          "width": 2
         },
         "mode": "lines",
         "type": "scatter3d",
         "x": [
          0,
          0.1859962
         ],
         "y": [
          0,
          1.879742
         ],
         "z": [
          0,
          -0.65725
         ]
        },
        {
         "line": {
          "color": "rgb(20, 0, 145)",
          "width": 2
         },
         "mode": "lines",
         "type": "scatter3d",
         "x": [
          0,
          0.1726786
         ],
         "y": [
          0,
          1.880018
         ],
         "z": [
          0,
          -0.660086
         ]
        },
        {
         "line": {
          "color": "rgb(20, 0, 145)",
          "width": 2
         },
         "mode": "lines",
         "type": "scatter3d",
         "x": [
          0,
          0.1726786
         ],
         "y": [
          0,
          1.880018
         ],
         "z": [
          0,
          -0.660086
         ]
        },
        {
         "line": {
          "color": "rgb(20, 0, 145)",
          "width": 2
         },
         "mode": "lines",
         "type": "scatter3d",
         "x": [
          0,
          0.1816886
         ],
         "y": [
          0,
          1.881256
         ],
         "z": [
          0,
          -0.654112
         ]
        },
        {
         "line": {
          "color": "rgb(20, 0, 145)",
          "width": 2
         },
         "mode": "lines",
         "type": "scatter3d",
         "x": [
          0,
          0.1754976
         ],
         "y": [
          0,
          1.881082
         ],
         "z": [
          0,
          -0.6563
         ]
        },
        {
         "line": {
          "color": "rgb(20, 0, 145)",
          "width": 2
         },
         "mode": "lines",
         "type": "scatter3d",
         "x": [
          0,
          0.1794558
         ],
         "y": [
          0,
          1.881922
         ],
         "z": [
          0,
          -0.652814
         ]
        },
        {
         "line": {
          "color": "rgb(20, 0, 145)",
          "width": 2
         },
         "mode": "lines",
         "type": "scatter3d",
         "x": [
          0,
          0.1817726
         ],
         "y": [
          0,
          1.881048
         ],
         "z": [
          0,
          -0.654692
         ]
        },
        {
         "line": {
          "color": "rgb(20, 0, 145)",
          "width": 2
         },
         "mode": "lines",
         "type": "scatter3d",
         "x": [
          0,
          0.1817726
         ],
         "y": [
          0,
          1.881048
         ],
         "z": [
          0,
          -0.654692
         ]
        },
        {
         "line": {
          "color": "rgb(20, 0, 145)",
          "width": 2
         },
         "mode": "lines",
         "type": "scatter3d",
         "x": [
          0,
          0.1774742
         ],
         "y": [
          0,
          1.881656
         ],
         "z": [
          0,
          -0.654124
         ]
        },
        {
         "line": {
          "color": "rgb(20, 0, 145)",
          "width": 2
         },
         "mode": "lines",
         "type": "scatter3d",
         "x": [
          0,
          0.1830008
         ],
         "y": [
          0,
          1.881072
         ],
         "z": [
          0,
          -0.654276
         ]
        },
        {
         "line": {
          "color": "rgb(20, 0, 145)",
          "width": 2
         },
         "mode": "lines",
         "type": "scatter3d",
         "x": [
          0,
          0.1814004
         ],
         "y": [
          0,
          1.88208
         ],
         "z": [
          0,
          -0.651818
         ]
        },
        {
         "line": {
          "color": "rgb(20, 0, 145)",
          "width": 2
         },
         "mode": "lines",
         "type": "scatter3d",
         "x": [
          0,
          0.184693
         ],
         "y": [
          0,
          1.883244
         ],
         "z": [
          0,
          -0.64752
         ]
        },
        {
         "line": {
          "color": "rgb(20, 0, 145)",
          "width": 2
         },
         "mode": "lines",
         "type": "scatter3d",
         "x": [
          0,
          0.184693
         ],
         "y": [
          0,
          1.883244
         ],
         "z": [
          0,
          -0.64752
         ]
        },
        {
         "line": {
          "color": "rgb(20, 0, 145)",
          "width": 2
         },
         "mode": "lines",
         "type": "scatter3d",
         "x": [
          0,
          0.1868988
         ],
         "y": [
          0,
          1.882152
         ],
         "z": [
          0,
          -0.650058
         ]
        },
        {
         "line": {
          "color": "rgb(20, 0, 145)",
          "width": 2
         },
         "mode": "lines",
         "type": "scatter3d",
         "x": [
          0,
          0.1838012
         ],
         "y": [
          0,
          1.882714
         ],
         "z": [
          0,
          -0.649314
         ]
        },
        {
         "line": {
          "color": "rgb(20, 0, 145)",
          "width": 2
         },
         "mode": "lines",
         "type": "scatter3d",
         "x": [
          0,
          0.1931156
         ],
         "y": [
          0,
          1.883246
         ],
         "z": [
          0,
          -0.645054
         ]
        },
        {
         "line": {
          "color": "rgb(20, 0, 145)",
          "width": 2
         },
         "mode": "lines",
         "type": "scatter3d",
         "x": [
          0,
          0.1821232
         ],
         "y": [
          0,
          1.880656
         ],
         "z": [
          0,
          -0.655714
         ]
        },
        {
         "line": {
          "color": "rgb(20, 0, 145)",
          "width": 2
         },
         "mode": "lines",
         "type": "scatter3d",
         "x": [
          0,
          0.1930616
         ],
         "y": [
          0,
          1.884134
         ],
         "z": [
          0,
          -0.64247
         ]
        },
        {
         "line": {
          "color": "rgb(20, 0, 145)",
          "width": 2
         },
         "mode": "lines",
         "type": "scatter3d",
         "x": [
          0,
          0.1930616
         ],
         "y": [
          0,
          1.884134
         ],
         "z": [
          0,
          -0.64247
         ]
        },
        {
         "line": {
          "color": "rgb(20, 0, 145)",
          "width": 2
         },
         "mode": "lines",
         "type": "scatter3d",
         "x": [
          0,
          0.1837508
         ],
         "y": [
          0,
          1.881326
         ],
         "z": [
          0,
          -0.653334
         ]
        },
        {
         "line": {
          "color": "rgb(20, 0, 145)",
          "width": 2
         },
         "mode": "lines",
         "type": "scatter3d",
         "x": [
          0,
          0.1810272
         ],
         "y": [
          0,
          1.880826
         ],
         "z": [
          0,
          -0.65553
         ]
        },
        {
         "line": {
          "color": "rgb(20, 0, 145)",
          "width": 2
         },
         "mode": "lines",
         "type": "scatter3d",
         "x": [
          0,
          0.1810272
         ],
         "y": [
          0,
          1.880826
         ],
         "z": [
          0,
          -0.65553
         ]
        },
        {
         "line": {
          "color": "rgb(20, 0, 145)",
          "width": 2
         },
         "mode": "lines",
         "type": "scatter3d",
         "x": [
          0,
          0.1893624
         ],
         "y": [
          0,
          1.882218
         ],
         "z": [
          0,
          -0.649152
         ]
        },
        {
         "line": {
          "color": "rgb(20, 0, 145)",
          "width": 2
         },
         "mode": "lines",
         "type": "scatter3d",
         "x": [
          0,
          0.1834808
         ],
         "y": [
          0,
          1.881626
         ],
         "z": [
          0,
          -0.65255
         ]
        },
        {
         "line": {
          "color": "rgb(20, 0, 145)",
          "width": 2
         },
         "mode": "lines",
         "type": "scatter3d",
         "x": [
          0,
          0.1876198
         ],
         "y": [
          0,
          1.883232
         ],
         "z": [
          0,
          -0.64671
         ]
        },
        {
         "line": {
          "color": "rgb(20, 0, 145)",
          "width": 2
         },
         "mode": "lines",
         "type": "scatter3d",
         "x": [
          0,
          0.1808108
         ],
         "y": [
          0,
          1.882998
         ],
         "z": [
          0,
          -0.64933
         ]
        },
        {
         "line": {
          "color": "rgb(20, 0, 145)",
          "width": 2
         },
         "mode": "lines",
         "type": "scatter3d",
         "x": [
          0,
          -0.226612
         ],
         "y": [
          0,
          1.987118
         ],
         "z": [
          0,
          -0.00251254
         ]
        },
        {
         "line": {
          "color": "rgb(20, 0, 145)",
          "width": 2
         },
         "mode": "lines",
         "type": "scatter3d",
         "x": [
          0,
          -0.226612
         ],
         "y": [
          0,
          1.987118
         ],
         "z": [
          0,
          -0.00251254
         ]
        },
        {
         "line": {
          "color": "rgb(20, 0, 145)",
          "width": 2
         },
         "mode": "lines",
         "type": "scatter3d",
         "x": [
          0,
          -0.222148
         ],
         "y": [
          0,
          1.98762
         ],
         "z": [
          0,
          -0.00387968
         ]
        },
        {
         "line": {
          "color": "rgb(20, 0, 145)",
          "width": 2
         },
         "mode": "lines",
         "type": "scatter3d",
         "x": [
          0,
          -0.241238
         ],
         "y": [
          0,
          1.985394
         ],
         "z": [
          0,
          -0.00365654
         ]
        },
        {
         "line": {
          "color": "rgb(20, 0, 145)",
          "width": 2
         },
         "mode": "lines",
         "type": "scatter3d",
         "x": [
          0,
          -0.23576
         ],
         "y": [
          0,
          1.986054
         ],
         "z": [
          0,
          -0.003094
         ]
        },
        {
         "line": {
          "color": "rgb(20, 0, 145)",
          "width": 2
         },
         "mode": "lines",
         "type": "scatter3d",
         "x": [
          0,
          -0.239658
         ],
         "y": [
          0,
          1.985578
         ],
         "z": [
          0,
          -0.00675102
         ]
        },
        {
         "line": {
          "color": "rgb(20, 0, 145)",
          "width": 2
         },
         "mode": "lines",
         "type": "scatter3d",
         "x": [
          0,
          -0.239658
         ],
         "y": [
          0,
          1.985578
         ],
         "z": [
          0,
          -0.00675102
         ]
        },
        {
         "line": {
          "color": "rgb(20, 0, 145)",
          "width": 2
         },
         "mode": "lines",
         "type": "scatter3d",
         "x": [
          0,
          -0.236348
         ],
         "y": [
          0,
          1.985978
         ],
         "z": [
          0,
          -0.0057792
         ]
        },
        {
         "line": {
          "color": "rgb(20, 0, 145)",
          "width": 2
         },
         "mode": "lines",
         "type": "scatter3d",
         "x": [
          0,
          -0.239894
         ],
         "y": [
          0,
          1.98554
         ],
         "z": [
          0,
          -0.00922258
         ]
        },
        {
         "line": {
          "color": "rgb(20, 0, 145)",
          "width": 2
         },
         "mode": "lines",
         "type": "scatter3d",
         "x": [
          0,
          -0.2337
         ],
         "y": [
          0,
          1.986294
         ],
         "z": [
          0,
          -0.00410312
         ]
        },
        {
         "line": {
          "color": "rgb(20, 0, 145)",
          "width": 2
         },
         "mode": "lines",
         "type": "scatter3d",
         "x": [
          0,
          -0.237162
         ],
         "y": [
          0,
          1.985872
         ],
         "z": [
          0,
          -0.00842036
         ]
        },
        {
         "line": {
          "color": "rgb(20, 0, 145)",
          "width": 2
         },
         "mode": "lines",
         "type": "scatter3d",
         "x": [
          0,
          -0.236944
         ],
         "y": [
          0,
          1.98591
         ],
         "z": [
          0,
          -0.00469172
         ]
        },
        {
         "line": {
          "color": "rgb(20, 0, 145)",
          "width": 2
         },
         "mode": "lines",
         "type": "scatter3d",
         "x": [
          0,
          -0.236944
         ],
         "y": [
          0,
          1.98591
         ],
         "z": [
          0,
          -0.00469172
         ]
        },
        {
         "line": {
          "color": "rgb(20, 0, 145)",
          "width": 2
         },
         "mode": "lines",
         "type": "scatter3d",
         "x": [
          0,
          -0.236234
         ],
         "y": [
          0,
          1.985946
         ],
         "z": [
          0,
          -0.01459638
         ]
        },
        {
         "line": {
          "color": "rgb(20, 0, 145)",
          "width": 2
         },
         "mode": "lines",
         "type": "scatter3d",
         "x": [
          0,
          -0.232248
         ],
         "y": [
          0,
          1.986454
         ],
         "z": [
          0,
          -0.00796142
         ]
        },
        {
         "line": {
          "color": "rgb(20, 0, 145)",
          "width": 2
         },
         "mode": "lines",
         "type": "scatter3d",
         "x": [
          0,
          -0.231858
         ],
         "y": [
          0,
          1.986484
         ],
         "z": [
          0,
          -0.01100466
         ]
        },
        {
         "line": {
          "color": "rgb(20, 0, 145)",
          "width": 2
         },
         "mode": "lines",
         "type": "scatter3d",
         "x": [
          0,
          -0.231858
         ],
         "y": [
          0,
          1.986484
         ],
         "z": [
          0,
          -0.01100466
         ]
        },
        {
         "line": {
          "color": "rgb(20, 0, 145)",
          "width": 2
         },
         "mode": "lines",
         "type": "scatter3d",
         "x": [
          0,
          -0.23951
         ],
         "y": [
          0,
          1.985588
         ],
         "z": [
          0,
          -0.008758
         ]
        },
        {
         "line": {
          "color": "rgb(20, 0, 145)",
          "width": 2
         },
         "mode": "lines",
         "type": "scatter3d",
         "x": [
          0,
          -0.23147
         ],
         "y": [
          0,
          1.986528
         ],
         "z": [
          0,
          -0.01120332
         ]
        },
        {
         "line": {
          "color": "rgb(20, 0, 145)",
          "width": 2
         },
         "mode": "lines",
         "type": "scatter3d",
         "x": [
          0,
          -0.23147
         ],
         "y": [
          0,
          1.986528
         ],
         "z": [
          0,
          -0.01120332
         ]
        },
        {
         "line": {
          "color": "rgb(20, 0, 145)",
          "width": 2
         },
         "mode": "lines",
         "type": "scatter3d",
         "x": [
          0,
          -0.246336
         ],
         "y": [
          0,
          1.984732
         ],
         "z": [
          0,
          -0.01270618
         ]
        },
        {
         "line": {
          "color": "rgb(20, 0, 145)",
          "width": 2
         },
         "mode": "lines",
         "type": "scatter3d",
         "x": [
          0,
          -0.246336
         ],
         "y": [
          0,
          1.984732
         ],
         "z": [
          0,
          -0.01270618
         ]
        },
        {
         "line": {
          "color": "rgb(20, 0, 145)",
          "width": 2
         },
         "mode": "lines",
         "type": "scatter3d",
         "x": [
          0,
          -0.246574
         ],
         "y": [
          0,
          1.984724
         ],
         "z": [
          0,
          -0.00865494
         ]
        },
        {
         "line": {
          "color": "rgb(20, 0, 145)",
          "width": 2
         },
         "mode": "lines",
         "type": "scatter3d",
         "x": [
          0,
          -0.250356
         ],
         "y": [
          0,
          1.984254
         ],
         "z": [
          0,
          -0.00772602
         ]
        },
        {
         "line": {
          "color": "rgb(20, 0, 145)",
          "width": 2
         },
         "mode": "lines",
         "type": "scatter3d",
         "x": [
          0,
          -0.244588
         ],
         "y": [
          0,
          1.984982
         ],
         "z": [
          0,
          -0.00498988
         ]
        },
        {
         "line": {
          "color": "rgb(20, 0, 145)",
          "width": 2
         },
         "mode": "lines",
         "type": "scatter3d",
         "x": [
          0,
          -0.248894
         ],
         "y": [
          0,
          1.984412
         ],
         "z": [
          0,
          -0.01283776
         ]
        },
        {
         "line": {
          "color": "rgb(20, 0, 145)",
          "width": 2
         },
         "mode": "lines",
         "type": "scatter3d",
         "x": [
          0,
          -0.244958
         ],
         "y": [
          0,
          1.984932
         ],
         "z": [
          0,
          -0.00610254
         ]
        },
        {
         "line": {
          "color": "rgb(20, 0, 145)",
          "width": 2
         },
         "mode": "lines",
         "type": "scatter3d",
         "x": [
          0,
          -0.244958
         ],
         "y": [
          0,
          1.984932
         ],
         "z": [
          0,
          -0.00610254
         ]
        },
        {
         "line": {
          "color": "rgb(20, 0, 145)",
          "width": 2
         },
         "mode": "lines",
         "type": "scatter3d",
         "x": [
          0,
          -0.245622
         ],
         "y": [
          0,
          1.984814
         ],
         "z": [
          0,
          -0.0136319
         ]
        },
        {
         "line": {
          "color": "rgb(20, 0, 145)",
          "width": 2
         },
         "mode": "lines",
         "type": "scatter3d",
         "x": [
          0,
          -0.244788
         ],
         "y": [
          0,
          1.984948
         ],
         "z": [
          0,
          -0.0079885
         ]
        },
        {
         "line": {
          "color": "rgb(20, 0, 145)",
          "width": 2
         },
         "mode": "lines",
         "type": "scatter3d",
         "x": [
          0,
          -0.244788
         ],
         "y": [
          0,
          1.984948
         ],
         "z": [
          0,
          -0.0079885
         ]
        },
        {
         "line": {
          "color": "rgb(20, 0, 145)",
          "width": 2
         },
         "mode": "lines",
         "type": "scatter3d",
         "x": [
          0,
          -0.241844
         ],
         "y": [
          0,
          1.985294
         ],
         "z": [
          0,
          -0.01086104
         ]
        },
        {
         "line": {
          "color": "rgb(20, 0, 145)",
          "width": 2
         },
         "mode": "lines",
         "type": "scatter3d",
         "x": [
          0,
          -0.237158
         ],
         "y": [
          0,
          1.985864
         ],
         "z": [
          0,
          -0.00983
         ]
        },
        {
         "line": {
          "color": "rgb(20, 0, 145)",
          "width": 2
         },
         "mode": "lines",
         "type": "scatter3d",
         "x": [
          0,
          -0.24436
         ],
         "y": [
          0,
          1.984934
         ],
         "z": [
          0,
          -0.01799056
         ]
        },
        {
         "line": {
          "color": "rgb(20, 0, 145)",
          "width": 2
         },
         "mode": "lines",
         "type": "scatter3d",
         "x": [
          0,
          -0.235042
         ],
         "y": [
          0,
          1.986104
         ],
         "z": [
          0,
          -0.01220202
         ]
        },
        {
         "line": {
          "color": "rgb(20, 0, 145)",
          "width": 2
         },
         "mode": "lines",
         "type": "scatter3d",
         "x": [
          0,
          -0.236846
         ],
         "y": [
          0,
          1.98587
         ],
         "z": [
          0,
          -0.01502688
         ]
        },
        {
         "line": {
          "color": "rgb(20, 0, 145)",
          "width": 2
         },
         "mode": "lines",
         "type": "scatter3d",
         "x": [
          0,
          -0.23886
         ],
         "y": [
          0,
          1.985632
         ],
         "z": [
          0,
          -0.01444234
         ]
        },
        {
         "line": {
          "color": "rgb(20, 0, 145)",
          "width": 2
         },
         "mode": "lines",
         "type": "scatter3d",
         "x": [
          0,
          -0.239508
         ],
         "y": [
          0,
          1.98558
         ],
         "z": [
          0,
          -0.01056196
         ]
        },
        {
         "line": {
          "color": "rgb(20, 0, 145)",
          "width": 2
         },
         "mode": "lines",
         "type": "scatter3d",
         "x": [
          0,
          -0.243926
         ],
         "y": [
          0,
          1.985042
         ],
         "z": [
          0,
          -0.01040036
         ]
        },
        {
         "line": {
          "color": "rgb(20, 0, 145)",
          "width": 2
         },
         "mode": "lines",
         "type": "scatter3d",
         "x": [
          0,
          -0.245176
         ],
         "y": [
          0,
          1.984872
         ],
         "z": [
          0,
          -0.01319808
         ]
        },
        {
         "line": {
          "color": "rgb(20, 0, 145)",
          "width": 2
         },
         "mode": "lines",
         "type": "scatter3d",
         "x": [
          0,
          -0.242724
         ],
         "y": [
          0,
          1.98519
         ],
         "z": [
          0,
          -0.01024284
         ]
        },
        {
         "line": {
          "color": "rgb(20, 0, 145)",
          "width": 2
         },
         "mode": "lines",
         "type": "scatter3d",
         "x": [
          0,
          -0.23999
         ],
         "y": [
          0,
          1.985528
         ],
         "z": [
          0,
          -0.0092769
         ]
        },
        {
         "line": {
          "color": "rgb(20, 0, 145)",
          "width": 2
         },
         "mode": "lines",
         "type": "scatter3d",
         "x": [
          0,
          -0.235318
         ],
         "y": [
          0,
          1.986088
         ],
         "z": [
          0,
          -0.00882498
         ]
        },
        {
         "line": {
          "color": "rgb(20, 0, 145)",
          "width": 2
         },
         "mode": "lines",
         "type": "scatter3d",
         "x": [
          0,
          -0.237246
         ],
         "y": [
          0,
          1.985844
         ],
         "z": [
          0,
          -0.01169742
         ]
        },
        {
         "line": {
          "color": "rgb(20, 0, 145)",
          "width": 2
         },
         "mode": "lines",
         "type": "scatter3d",
         "x": [
          0,
          -0.236632
         ],
         "y": [
          0,
          1.98592
         ],
         "z": [
          0,
          -0.0110984
         ]
        },
        {
         "line": {
          "color": "rgb(20, 0, 145)",
          "width": 2
         },
         "mode": "lines",
         "type": "scatter3d",
         "x": [
          0,
          -0.236632
         ],
         "y": [
          0,
          1.98592
         ],
         "z": [
          0,
          -0.0110984
         ]
        },
        {
         "line": {
          "color": "rgb(20, 0, 145)",
          "width": 2
         },
         "mode": "lines",
         "type": "scatter3d",
         "x": [
          0,
          -0.235092
         ],
         "y": [
          0,
          1.986094
         ],
         "z": [
          0,
          -0.01288222
         ]
        },
        {
         "line": {
          "color": "rgb(20, 0, 145)",
          "width": 2
         },
         "mode": "lines",
         "type": "scatter3d",
         "x": [
          0,
          -0.234406
         ],
         "y": [
          0,
          1.986152
         ],
         "z": [
          0,
          -0.01605492
         ]
        },
        {
         "line": {
          "color": "rgb(20, 0, 145)",
          "width": 2
         },
         "mode": "lines",
         "type": "scatter3d",
         "x": [
          0,
          -0.227762
         ],
         "y": [
          0,
          1.986966
         ],
         "z": [
          0,
          -0.00965296
         ]
        },
        {
         "line": {
          "color": "rgb(20, 0, 145)",
          "width": 2
         },
         "mode": "lines",
         "type": "scatter3d",
         "x": [
          0,
          -0.23625
         ],
         "y": [
          0,
          1.98594
         ],
         "z": [
          0,
          -0.0151757
         ]
        },
        {
         "line": {
          "color": "rgb(20, 0, 145)",
          "width": 2
         },
         "mode": "lines",
         "type": "scatter3d",
         "x": [
          0,
          -0.23625
         ],
         "y": [
          0,
          1.98594
         ],
         "z": [
          0,
          -0.0151757
         ]
        },
        {
         "line": {
          "color": "rgb(20, 0, 145)",
          "width": 2
         },
         "mode": "lines",
         "type": "scatter3d",
         "x": [
          0,
          -0.226498
         ],
         "y": [
          0,
          1.98708
         ],
         "z": [
          0,
          -0.01452828
         ]
        },
        {
         "line": {
          "color": "rgb(20, 0, 145)",
          "width": 2
         },
         "mode": "lines",
         "type": "scatter3d",
         "x": [
          0,
          -0.227416
         ],
         "y": [
          0,
          1.986974
         ],
         "z": [
          0,
          -0.01460536
         ]
        },
        {
         "line": {
          "color": "rgb(20, 0, 145)",
          "width": 2
         },
         "mode": "lines",
         "type": "scatter3d",
         "x": [
          0,
          -0.224116
         ],
         "y": [
          0,
          1.987362
         ],
         "z": [
          0,
          -0.01272686
         ]
        },
        {
         "line": {
          "color": "rgb(20, 0, 145)",
          "width": 2
         },
         "mode": "lines",
         "type": "scatter3d",
         "x": [
          0,
          -0.227174
         ],
         "y": [
          0,
          1.986996
         ],
         "z": [
          0,
          -0.01534028
         ]
        },
        {
         "line": {
          "color": "rgb(20, 0, 145)",
          "width": 2
         },
         "mode": "lines",
         "type": "scatter3d",
         "x": [
          0,
          -0.222582
         ],
         "y": [
          0,
          1.987512
         ],
         "z": [
          0,
          -0.01589984
         ]
        },
        {
         "line": {
          "color": "rgb(20, 0, 145)",
          "width": 2
         },
         "mode": "lines",
         "type": "scatter3d",
         "x": [
          0,
          -0.222582
         ],
         "y": [
          0,
          1.987512
         ],
         "z": [
          0,
          -0.01589984
         ]
        },
        {
         "line": {
          "color": "rgb(20, 0, 145)",
          "width": 2
         },
         "mode": "lines",
         "type": "scatter3d",
         "x": [
          0,
          -0.22032
         ],
         "y": [
          0,
          1.987818
         ],
         "z": [
          0,
          -0.0064664
         ]
        },
        {
         "line": {
          "color": "rgb(20, 0, 145)",
          "width": 2
         },
         "mode": "lines",
         "type": "scatter3d",
         "x": [
          0,
          -0.222964
         ],
         "y": [
          0,
          1.98746
         ],
         "z": [
          0,
          -0.01696312
         ]
        },
        {
         "line": {
          "color": "rgb(20, 0, 145)",
          "width": 2
         },
         "mode": "lines",
         "type": "scatter3d",
         "x": [
          0,
          -0.218056
         ],
         "y": [
          0,
          1.988034
         ],
         "z": [
          0,
          -0.01307648
         ]
        },
        {
         "line": {
          "color": "rgb(20, 0, 145)",
          "width": 2
         },
         "mode": "lines",
         "type": "scatter3d",
         "x": [
          0,
          -0.218056
         ],
         "y": [
          0,
          1.988034
         ],
         "z": [
          0,
          -0.01307648
         ]
        },
        {
         "line": {
          "color": "rgb(20, 0, 145)",
          "width": 2
         },
         "mode": "lines",
         "type": "scatter3d",
         "x": [
          0,
          -0.220864
         ],
         "y": [
          0,
          1.987736
         ],
         "z": [
          0,
          -0.01099078
         ]
        },
        {
         "line": {
          "color": "rgb(20, 0, 145)",
          "width": 2
         },
         "mode": "lines",
         "type": "scatter3d",
         "x": [
          0,
          -0.21738
         ],
         "y": [
          0,
          1.988118
         ],
         "z": [
          0,
          -0.01140516
         ]
        },
        {
         "line": {
          "color": "rgb(20, 0, 145)",
          "width": 2
         },
         "mode": "lines",
         "type": "scatter3d",
         "x": [
          0,
          -0.2193
         ],
         "y": [
          0,
          1.987906
         ],
         "z": [
          0,
          -0.01186102
         ]
        },
        {
         "line": {
          "color": "rgb(20, 0, 145)",
          "width": 2
         },
         "mode": "lines",
         "type": "scatter3d",
         "x": [
          0,
          -0.219798
         ],
         "y": [
          0,
          1.987824
         ],
         "z": [
          0,
          -0.01566092
         ]
        },
        {
         "line": {
          "color": "rgb(20, 0, 145)",
          "width": 2
         },
         "mode": "lines",
         "type": "scatter3d",
         "x": [
          0,
          -0.219798
         ],
         "y": [
          0,
          1.987824
         ],
         "z": [
          0,
          -0.01566092
         ]
        },
        {
         "line": {
          "color": "rgb(20, 0, 145)",
          "width": 2
         },
         "mode": "lines",
         "type": "scatter3d",
         "x": [
          0,
          -0.223474
         ],
         "y": [
          0,
          1.987436
         ],
         "z": [
          0,
          -0.01268284
         ]
        },
        {
         "line": {
          "color": "rgb(20, 0, 145)",
          "width": 2
         },
         "mode": "lines",
         "type": "scatter3d",
         "x": [
          0,
          -0.222238
         ],
         "y": [
          0,
          1.987568
         ],
         "z": [
          0,
          -0.01362512
         ]
        },
        {
         "line": {
          "color": "rgb(20, 0, 145)",
          "width": 2
         },
         "mode": "lines",
         "type": "scatter3d",
         "x": [
          0,
          -0.2242
         ],
         "y": [
          0,
          1.987344
         ],
         "z": [
          0,
          -0.01419772
         ]
        },
        {
         "line": {
          "color": "rgb(20, 0, 145)",
          "width": 2
         },
         "mode": "lines",
         "type": "scatter3d",
         "x": [
          0,
          -0.224784
         ],
         "y": [
          0,
          1.987272
         ],
         "z": [
          0,
          -0.01490072
         ]
        },
        {
         "line": {
          "color": "rgb(20, 0, 145)",
          "width": 2
         },
         "mode": "lines",
         "type": "scatter3d",
         "x": [
          0,
          -0.224784
         ],
         "y": [
          0,
          1.987272
         ],
         "z": [
          0,
          -0.01490072
         ]
        },
        {
         "line": {
          "color": "rgb(20, 0, 145)",
          "width": 2
         },
         "mode": "lines",
         "type": "scatter3d",
         "x": [
          0,
          -0.231992
         ],
         "y": [
          0,
          1.986448
         ],
         "z": [
          0,
          -0.01435774
         ]
        },
        {
         "line": {
          "color": "rgb(20, 0, 145)",
          "width": 2
         },
         "mode": "lines",
         "type": "scatter3d",
         "x": [
          0,
          -0.231414
         ],
         "y": [
          0,
          1.986532
         ],
         "z": [
          0,
          -0.0116761
         ]
        },
        {
         "line": {
          "color": "rgb(20, 0, 145)",
          "width": 2
         },
         "mode": "lines",
         "type": "scatter3d",
         "x": [
          0,
          -0.230378
         ],
         "y": [
          0,
          1.98665
         ],
         "z": [
          0,
          -0.01226992
         ]
        },
        {
         "line": {
          "color": "rgb(20, 0, 145)",
          "width": 2
         },
         "mode": "lines",
         "type": "scatter3d",
         "x": [
          0,
          -0.23293
         ],
         "y": [
          0,
          1.98635
         ],
         "z": [
          0,
          -0.01243848
         ]
        },
        {
         "line": {
          "color": "rgb(20, 0, 145)",
          "width": 2
         },
         "mode": "lines",
         "type": "scatter3d",
         "x": [
          0,
          -0.23293
         ],
         "y": [
          0,
          1.98635
         ],
         "z": [
          0,
          -0.01243848
         ]
        },
        {
         "line": {
          "color": "rgb(20, 0, 145)",
          "width": 2
         },
         "mode": "lines",
         "type": "scatter3d",
         "x": [
          0,
          -0.233152
         ],
         "y": [
          0,
          1.986292
         ],
         "z": [
          0,
          -0.0167821
         ]
        },
        {
         "line": {
          "color": "rgb(20, 0, 145)",
          "width": 2
         },
         "mode": "lines",
         "type": "scatter3d",
         "x": [
          0,
          -0.234772
         ],
         "y": [
          0,
          1.986128
         ],
         "z": [
          0,
          -0.01332542
         ]
        },
        {
         "line": {
          "color": "rgb(20, 0, 145)",
          "width": 2
         },
         "mode": "lines",
         "type": "scatter3d",
         "x": [
          0,
          -0.24521
         ],
         "y": [
          0,
          1.984908
         ],
         "z": [
          0,
          -0.003596
         ]
        },
        {
         "line": {
          "color": "rgb(20, 0, 145)",
          "width": 2
         },
         "mode": "lines",
         "type": "scatter3d",
         "x": [
          0,
          -0.242762
         ],
         "y": [
          0,
          1.98521
         ],
         "z": [
          0,
          -0.00210834
         ]
        },
        {
         "line": {
          "color": "rgb(20, 0, 145)",
          "width": 2
         },
         "mode": "lines",
         "type": "scatter3d",
         "x": [
          0,
          -0.242762
         ],
         "y": [
          0,
          1.98521
         ],
         "z": [
          0,
          -0.00210834
         ]
        },
        {
         "line": {
          "color": "rgb(20, 0, 145)",
          "width": 2
         },
         "mode": "lines",
         "type": "scatter3d",
         "x": [
          0,
          -0.244384
         ],
         "y": [
          0,
          1.985012
         ],
         "z": [
          0,
          -0.001327786
         ]
        },
        {
         "line": {
          "color": "rgb(20, 0, 145)",
          "width": 2
         },
         "mode": "lines",
         "type": "scatter3d",
         "x": [
          0,
          -0.238632
         ],
         "y": [
          0,
          1.985712
         ],
         "z": [
          0,
          8.21536e-05
         ]
        },
        {
         "line": {
          "color": "rgb(20, 0, 145)",
          "width": 2
         },
         "mode": "lines",
         "type": "scatter3d",
         "x": [
          0,
          -0.24129
         ],
         "y": [
          0,
          1.98539
         ],
         "z": [
          0,
          -0.00242934
         ]
        },
        {
         "line": {
          "color": "rgb(20, 0, 145)",
          "width": 2
         },
         "mode": "lines",
         "type": "scatter3d",
         "x": [
          0,
          -0.241288
         ],
         "y": [
          0,
          1.985388
         ],
         "z": [
          0,
          -0.00341504
         ]
        },
        {
         "line": {
          "color": "rgb(20, 0, 145)",
          "width": 2
         },
         "mode": "lines",
         "type": "scatter3d",
         "x": [
          0,
          -0.241748
         ],
         "y": [
          0,
          1.98533
         ],
         "z": [
          0,
          -0.00454994
         ]
        },
        {
         "line": {
          "color": "rgb(20, 0, 145)",
          "width": 2
         },
         "mode": "lines",
         "type": "scatter3d",
         "x": [
          0,
          -0.241748
         ],
         "y": [
          0,
          1.98533
         ],
         "z": [
          0,
          -0.00454994
         ]
        },
        {
         "line": {
          "color": "rgb(20, 0, 145)",
          "width": 2
         },
         "mode": "lines",
         "type": "scatter3d",
         "x": [
          0,
          -0.241098
         ],
         "y": [
          0,
          1.985412
         ],
         "z": [
          0,
          -0.00293624
         ]
        },
        {
         "line": {
          "color": "rgb(20, 0, 145)",
          "width": 2
         },
         "mode": "lines",
         "type": "scatter3d",
         "x": [
          0,
          -0.24125
         ],
         "y": [
          0,
          1.985392
         ],
         "z": [
          0,
          -0.00430128
         ]
        },
        {
         "line": {
          "color": "rgb(20, 0, 145)",
          "width": 2
         },
         "mode": "lines",
         "type": "scatter3d",
         "x": [
          0,
          -0.235886
         ],
         "y": [
          0,
          1.986028
         ],
         "z": [
          0,
          -0.00709226
         ]
        },
        {
         "line": {
          "color": "rgb(20, 0, 145)",
          "width": 2
         },
         "mode": "lines",
         "type": "scatter3d",
         "x": [
          0,
          -0.238378
         ],
         "y": [
          0,
          1.985712
         ],
         "z": [
          0,
          -0.01122452
         ]
        },
        {
         "line": {
          "color": "rgb(20, 0, 145)",
          "width": 2
         },
         "mode": "lines",
         "type": "scatter3d",
         "x": [
          0,
          -0.238378
         ],
         "y": [
          0,
          1.985712
         ],
         "z": [
          0,
          -0.01122452
         ]
        },
        {
         "line": {
          "color": "rgb(20, 0, 145)",
          "width": 2
         },
         "mode": "lines",
         "type": "scatter3d",
         "x": [
          0,
          -0.236116
         ],
         "y": [
          0,
          1.985976
         ],
         "z": [
          0,
          -0.01227226
         ]
        },
        {
         "line": {
          "color": "rgb(20, 0, 145)",
          "width": 2
         },
         "mode": "lines",
         "type": "scatter3d",
         "x": [
          0,
          -0.240476
         ],
         "y": [
          0,
          1.985426
         ],
         "z": [
          0,
          -0.01606386
         ]
        },
        {
         "line": {
          "color": "rgb(20, 0, 145)",
          "width": 2
         },
         "mode": "lines",
         "type": "scatter3d",
         "x": [
          0,
          -0.24116
         ],
         "y": [
          0,
          1.985358
         ],
         "z": [
          0,
          -0.01407356
         ]
        },
        {
         "line": {
          "color": "rgb(20, 0, 145)",
          "width": 2
         },
         "mode": "lines",
         "type": "scatter3d",
         "x": [
          0,
          -0.24116
         ],
         "y": [
          0,
          1.985358
         ],
         "z": [
          0,
          -0.01407356
         ]
        },
        {
         "line": {
          "color": "rgb(20, 0, 145)",
          "width": 2
         },
         "mode": "lines",
         "type": "scatter3d",
         "x": [
          0,
          -0.239636
         ],
         "y": [
          0,
          1.98555
         ],
         "z": [
          0,
          -0.0130117
         ]
        },
        {
         "line": {
          "color": "rgb(20, 0, 145)",
          "width": 2
         },
         "mode": "lines",
         "type": "scatter3d",
         "x": [
          0,
          -0.243388
         ],
         "y": [
          0,
          1.985046
         ],
         "z": [
          0,
          -0.01886128
         ]
        },
        {
         "line": {
          "color": "rgb(20, 0, 145)",
          "width": 2
         },
         "mode": "lines",
         "type": "scatter3d",
         "x": [
          0,
          -0.243854
         ],
         "y": [
          0,
          1.985008
         ],
         "z": [
          0,
          -0.01675882
         ]
        },
        {
         "line": {
          "color": "rgb(20, 0, 145)",
          "width": 2
         },
         "mode": "lines",
         "type": "scatter3d",
         "x": [
          0,
          -0.239088
         ],
         "y": [
          0,
          1.98559
         ],
         "z": [
          0,
          -0.01637034
         ]
        },
        {
         "line": {
          "color": "rgb(20, 0, 145)",
          "width": 2
         },
         "mode": "lines",
         "type": "scatter3d",
         "x": [
          0,
          0.0454582
         ],
         "y": [
          0,
          1.999372
         ],
         "z": [
          0,
          -0.0211772
         ]
        },
        {
         "line": {
          "color": "rgb(20, 0, 145)",
          "width": 2
         },
         "mode": "lines",
         "type": "scatter3d",
         "x": [
          0,
          0.0454582
         ],
         "y": [
          0,
          1.999372
         ],
         "z": [
          0,
          -0.0211772
         ]
        },
        {
         "line": {
          "color": "rgb(20, 0, 145)",
          "width": 2
         },
         "mode": "lines",
         "type": "scatter3d",
         "x": [
          0,
          0.049713
         ],
         "y": [
          0,
          1.99925
         ],
         "z": [
          0,
          -0.022927
         ]
        },
        {
         "line": {
          "color": "rgb(20, 0, 145)",
          "width": 2
         },
         "mode": "lines",
         "type": "scatter3d",
         "x": [
          0,
          0.053093
         ],
         "y": [
          0,
          1.999168
         ],
         "z": [
          0,
          -0.0225768
         ]
        },
        {
         "line": {
          "color": "rgb(20, 0, 145)",
          "width": 2
         },
         "mode": "lines",
         "type": "scatter3d",
         "x": [
          0,
          0.0513288
         ],
         "y": [
          0,
          1.999226
         ],
         "z": [
          0,
          -0.0214892
         ]
        },
        {
         "line": {
          "color": "rgb(20, 0, 145)",
          "width": 2
         },
         "mode": "lines",
         "type": "scatter3d",
         "x": [
          0,
          0.0528192
         ],
         "y": [
          0,
          1.999198
         ],
         "z": [
          0,
          -0.020491
         ]
        },
        {
         "line": {
          "color": "rgb(20, 0, 145)",
          "width": 2
         },
         "mode": "lines",
         "type": "scatter3d",
         "x": [
          0,
          0.0528192
         ],
         "y": [
          0,
          1.999198
         ],
         "z": [
          0,
          -0.020491
         ]
        },
        {
         "line": {
          "color": "rgb(20, 0, 145)",
          "width": 2
         },
         "mode": "lines",
         "type": "scatter3d",
         "x": [
          0,
          0.0578858
         ],
         "y": [
          0,
          1.999066
         ],
         "z": [
          0,
          -0.01964112
         ]
        },
        {
         "line": {
          "color": "rgb(20, 0, 145)",
          "width": 2
         },
         "mode": "lines",
         "type": "scatter3d",
         "x": [
          0,
          0.0541838
         ],
         "y": [
          0,
          1.999184
         ],
         "z": [
          0,
          -0.01802452
         ]
        },
        {
         "line": {
          "color": "rgb(20, 0, 145)",
          "width": 2
         },
         "mode": "lines",
         "type": "scatter3d",
         "x": [
          0,
          0.0615182
         ],
         "y": [
          0,
          1.998962
         ],
         "z": [
          0,
          -0.01921142
         ]
        },
        {
         "line": {
          "color": "rgb(20, 0, 145)",
          "width": 2
         },
         "mode": "lines",
         "type": "scatter3d",
         "x": [
          0,
          0.0563656
         ],
         "y": [
          0,
          1.999118
         ],
         "z": [
          0,
          -0.01874336
         ]
        },
        {
         "line": {
          "color": "rgb(20, 0, 145)",
          "width": 2
         },
         "mode": "lines",
         "type": "scatter3d",
         "x": [
          0,
          0.0563656
         ],
         "y": [
          0,
          1.999118
         ],
         "z": [
          0,
          -0.01874336
         ]
        },
        {
         "line": {
          "color": "rgb(20, 0, 145)",
          "width": 2
         },
         "mode": "lines",
         "type": "scatter3d",
         "x": [
          0,
          0.0538776
         ],
         "y": [
          0,
          1.999138
         ],
         "z": [
          0,
          -0.0234026
         ]
        },
        {
         "line": {
          "color": "rgb(20, 0, 145)",
          "width": 2
         },
         "mode": "lines",
         "type": "scatter3d",
         "x": [
          0,
          0.0607654
         ],
         "y": [
          0,
          1.998984
         ],
         "z": [
          0,
          -0.01920274
         ]
        },
        {
         "line": {
          "color": "rgb(20, 0, 145)",
          "width": 2
         },
         "mode": "lines",
         "type": "scatter3d",
         "x": [
          0,
          0.055266
         ],
         "y": [
          0,
          1.999148
         ],
         "z": [
          0,
          -0.0188173
         ]
        },
        {
         "line": {
          "color": "rgb(20, 0, 145)",
          "width": 2
         },
         "mode": "lines",
         "type": "scatter3d",
         "x": [
          0,
          0.055266
         ],
         "y": [
          0,
          1.999148
         ],
         "z": [
          0,
          -0.0188173
         ]
        },
        {
         "line": {
          "color": "rgb(20, 0, 145)",
          "width": 2
         },
         "mode": "lines",
         "type": "scatter3d",
         "x": [
          0,
          0.0627362
         ],
         "y": [
          0,
          1.998934
         ],
         "z": [
          0,
          -0.0181638
         ]
        },
        {
         "line": {
          "color": "rgb(20, 0, 145)",
          "width": 2
         },
         "mode": "lines",
         "type": "scatter3d",
         "x": [
          0,
          0.0627362
         ],
         "y": [
          0,
          1.998934
         ],
         "z": [
          0,
          -0.0181638
         ]
        },
        {
         "line": {
          "color": "rgb(20, 0, 145)",
          "width": 2
         },
         "mode": "lines",
         "type": "scatter3d",
         "x": [
          0,
          0.0621436
         ],
         "y": [
          0,
          1.998954
         ],
         "z": [
          0,
          -0.01780946
         ]
        },
        {
         "line": {
          "color": "rgb(20, 0, 145)",
          "width": 2
         },
         "mode": "lines",
         "type": "scatter3d",
         "x": [
          0,
          0.0532068
         ],
         "y": [
          0,
          1.99922
         ],
         "z": [
          0,
          -0.01698962
         ]
        },
        {
         "line": {
          "color": "rgb(20, 0, 145)",
          "width": 2
         },
         "mode": "lines",
         "type": "scatter3d",
         "x": [
          0,
          0.059445
         ],
         "y": [
          0,
          1.999016
         ],
         "z": [
          0,
          -0.0201294
         ]
        },
        {
         "line": {
          "color": "rgb(20, 0, 145)",
          "width": 2
         },
         "mode": "lines",
         "type": "scatter3d",
         "x": [
          0,
          0.059445
         ],
         "y": [
          0,
          1.999016
         ],
         "z": [
          0,
          -0.0201294
         ]
        },
        {
         "line": {
          "color": "rgb(20, 0, 145)",
          "width": 2
         },
         "mode": "lines",
         "type": "scatter3d",
         "x": [
          0,
          0.0569762
         ],
         "y": [
          0,
          1.999036
         ],
         "z": [
          0,
          -0.02473
         ]
        },
        {
         "line": {
          "color": "rgb(20, 0, 145)",
          "width": 2
         },
         "mode": "lines",
         "type": "scatter3d",
         "x": [
          0,
          0.058089
         ],
         "y": [
          0,
          1.999022
         ],
         "z": [
          0,
          -0.0230866
         ]
        },
        {
         "line": {
          "color": "rgb(20, 0, 145)",
          "width": 2
         },
         "mode": "lines",
         "type": "scatter3d",
         "x": [
          0,
          0.0593142
         ],
         "y": [
          0,
          1.998978
         ],
         "z": [
          0,
          -0.0238272
         ]
        },
        {
         "line": {
          "color": "rgb(20, 0, 145)",
          "width": 2
         },
         "mode": "lines",
         "type": "scatter3d",
         "x": [
          0,
          0.0601288
         ],
         "y": [
          0,
          1.99898
         ],
         "z": [
          0,
          -0.0214384
         ]
        },
        {
         "line": {
          "color": "rgb(20, 0, 145)",
          "width": 2
         },
         "mode": "lines",
         "type": "scatter3d",
         "x": [
          0,
          0.0601288
         ],
         "y": [
          0,
          1.99898
         ],
         "z": [
          0,
          -0.0214384
         ]
        },
        {
         "line": {
          "color": "rgb(20, 0, 145)",
          "width": 2
         },
         "mode": "lines",
         "type": "scatter3d",
         "x": [
          0,
          0.061467
         ],
         "y": [
          0,
          1.998914
         ],
         "z": [
          0,
          -0.0237164
         ]
        },
        {
         "line": {
          "color": "rgb(20, 0, 145)",
          "width": 2
         },
         "mode": "lines",
         "type": "scatter3d",
         "x": [
          0,
          0.0545352
         ],
         "y": [
          0,
          1.999124
         ],
         "z": [
          0,
          -0.0229246
         ]
        },
        {
         "line": {
          "color": "rgb(20, 0, 145)",
          "width": 2
         },
         "mode": "lines",
         "type": "scatter3d",
         "x": [
          0,
          0.0565692
         ],
         "y": [
          0,
          1.99909
         ],
         "z": [
          0,
          -0.0210022
         ]
        },
        {
         "line": {
          "color": "rgb(20, 0, 145)",
          "width": 2
         },
         "mode": "lines",
         "type": "scatter3d",
         "x": [
          0,
          0.0527848
         ],
         "y": [
          0,
          1.99912
         ],
         "z": [
          0,
          -0.0270508
         ]
        },
        {
         "line": {
          "color": "rgb(20, 0, 145)",
          "width": 2
         },
         "mode": "lines",
         "type": "scatter3d",
         "x": [
          0,
          0.0527848
         ],
         "y": [
          0,
          1.99912
         ],
         "z": [
          0,
          -0.0270508
         ]
        },
        {
         "line": {
          "color": "rgb(20, 0, 145)",
          "width": 2
         },
         "mode": "lines",
         "type": "scatter3d",
         "x": [
          0,
          0.0644504
         ],
         "y": [
          0,
          1.998808
         ],
         "z": [
          0,
          -0.0247844
         ]
        },
        {
         "line": {
          "color": "rgb(20, 0, 145)",
          "width": 2
         },
         "mode": "lines",
         "type": "scatter3d",
         "x": [
          0,
          0.0587458
         ],
         "y": [
          0,
          1.99904
         ],
         "z": [
          0,
          -0.01961096
         ]
        },
        {
         "line": {
          "color": "rgb(20, 0, 145)",
          "width": 2
         },
         "mode": "lines",
         "type": "scatter3d",
         "x": [
          0,
          0.0673098
         ],
         "y": [
          0,
          1.998738
         ],
         "z": [
          0,
          -0.0227146
         ]
        },
        {
         "line": {
          "color": "rgb(20, 0, 145)",
          "width": 2
         },
         "mode": "lines",
         "type": "scatter3d",
         "x": [
          0,
          0.06236
         ],
         "y": [
          0,
          1.998934
         ],
         "z": [
          0,
          -0.01924436
         ]
        },
        {
         "line": {
          "color": "rgb(20, 0, 145)",
          "width": 2
         },
         "mode": "lines",
         "type": "scatter3d",
         "x": [
          0,
          0.06236
         ],
         "y": [
          0,
          1.998934
         ],
         "z": [
          0,
          -0.01924436
         ]
        },
        {
         "line": {
          "color": "rgb(20, 0, 145)",
          "width": 2
         },
         "mode": "lines",
         "type": "scatter3d",
         "x": [
          0,
          0.0587706
         ],
         "y": [
          0,
          1.999014
         ],
         "z": [
          0,
          -0.0221804
         ]
        },
        {
         "line": {
          "color": "rgb(20, 0, 145)",
          "width": 2
         },
         "mode": "lines",
         "type": "scatter3d",
         "x": [
          0,
          0.0591794
         ],
         "y": [
          0,
          1.999022
         ],
         "z": [
          0,
          -0.02029
         ]
        },
        {
         "line": {
          "color": "rgb(20, 0, 145)",
          "width": 2
         },
         "mode": "lines",
         "type": "scatter3d",
         "x": [
          0,
          0.0565862
         ],
         "y": [
          0,
          1.999102
         ],
         "z": [
          0,
          -0.0197233
         ]
        },
        {
         "line": {
          "color": "rgb(20, 0, 145)",
          "width": 2
         },
         "mode": "lines",
         "type": "scatter3d",
         "x": [
          0,
          0.0579806
         ],
         "y": [
          0,
          1.999012
         ],
         "z": [
          0,
          -0.0243264
         ]
        },
        {
         "line": {
          "color": "rgb(20, 0, 145)",
          "width": 2
         },
         "mode": "lines",
         "type": "scatter3d",
         "x": [
          0,
          0.0579806
         ],
         "y": [
          0,
          1.999012
         ],
         "z": [
          0,
          -0.0243264
         ]
        },
        {
         "line": {
          "color": "rgb(20, 0, 145)",
          "width": 2
         },
         "mode": "lines",
         "type": "scatter3d",
         "x": [
          0,
          0.060795
         ],
         "y": [
          0,
          1.99891
         ],
         "z": [
          0,
          -0.025674
         ]
        },
        {
         "line": {
          "color": "rgb(20, 0, 145)",
          "width": 2
         },
         "mode": "lines",
         "type": "scatter3d",
         "x": [
          0,
          0.0558574
         ],
         "y": [
          0,
          1.999098
         ],
         "z": [
          0,
          -0.0221254
         ]
        },
        {
         "line": {
          "color": "rgb(20, 0, 145)",
          "width": 2
         },
         "mode": "lines",
         "type": "scatter3d",
         "x": [
          0,
          0.05617
         ],
         "y": [
          0,
          1.999108
         ],
         "z": [
          0,
          -0.0202804
         ]
        },
        {
         "line": {
          "color": "rgb(20, 0, 145)",
          "width": 2
         },
         "mode": "lines",
         "type": "scatter3d",
         "x": [
          0,
          0.0524664
         ],
         "y": [
          0,
          1.999228
         ],
         "z": [
          0,
          -0.01832438
         ]
        },
        {
         "line": {
          "color": "rgb(20, 0, 145)",
          "width": 2
         },
         "mode": "lines",
         "type": "scatter3d",
         "x": [
          0,
          0.0524664
         ],
         "y": [
          0,
          1.999228
         ],
         "z": [
          0,
          -0.01832438
         ]
        },
        {
         "line": {
          "color": "rgb(20, 0, 145)",
          "width": 2
         },
         "mode": "lines",
         "type": "scatter3d",
         "x": [
          0,
          0.0549142
         ],
         "y": [
          0,
          1.999046
         ],
         "z": [
          0,
          -0.0282624
         ]
        },
        {
         "line": {
          "color": "rgb(20, 0, 145)",
          "width": 2
         },
         "mode": "lines",
         "type": "scatter3d",
         "x": [
          0,
          0.0571866
         ],
         "y": [
          0,
          1.999014
         ],
         "z": [
          0,
          -0.0259552
         ]
        },
        {
         "line": {
          "color": "rgb(20, 0, 145)",
          "width": 2
         },
         "mode": "lines",
         "type": "scatter3d",
         "x": [
          0,
          0.0555176
         ],
         "y": [
          0,
          1.99912
         ],
         "z": [
          0,
          -0.0208192
         ]
        },
        {
         "line": {
          "color": "rgb(20, 0, 145)",
          "width": 2
         },
         "mode": "lines",
         "type": "scatter3d",
         "x": [
          0,
          0.0518272
         ],
         "y": [
          0,
          1.999208
         ],
         "z": [
          0,
          -0.0218956
         ]
        },
        {
         "line": {
          "color": "rgb(20, 0, 145)",
          "width": 2
         },
         "mode": "lines",
         "type": "scatter3d",
         "x": [
          0,
          0.0518272
         ],
         "y": [
          0,
          1.999208
         ],
         "z": [
          0,
          -0.0218956
         ]
        },
        {
         "line": {
          "color": "rgb(20, 0, 145)",
          "width": 2
         },
         "mode": "lines",
         "type": "scatter3d",
         "x": [
          0,
          0.0471734
         ],
         "y": [
          0,
          1.999308
         ],
         "z": [
          0,
          -0.023337
         ]
        },
        {
         "line": {
          "color": "rgb(20, 0, 145)",
          "width": 2
         },
         "mode": "lines",
         "type": "scatter3d",
         "x": [
          0,
          0.050567
         ],
         "y": [
          0,
          1.999172
         ],
         "z": [
          0,
          -0.0274696
         ]
        },
        {
         "line": {
          "color": "rgb(20, 0, 145)",
          "width": 2
         },
         "mode": "lines",
         "type": "scatter3d",
         "x": [
          0,
          0.045084
         ],
         "y": [
          0,
          1.999346
         ],
         "z": [
          0,
          -0.0242014
         ]
        },
        {
         "line": {
          "color": "rgb(20, 0, 145)",
          "width": 2
         },
         "mode": "lines",
         "type": "scatter3d",
         "x": [
          0,
          0.0570194
         ],
         "y": [
          0,
          1.999012
         ],
         "z": [
          0,
          -0.0264858
         ]
        },
        {
         "line": {
          "color": "rgb(20, 0, 145)",
          "width": 2
         },
         "mode": "lines",
         "type": "scatter3d",
         "x": [
          0,
          0.0570194
         ],
         "y": [
          0,
          1.999012
         ],
         "z": [
          0,
          -0.0264858
         ]
        },
        {
         "line": {
          "color": "rgb(20, 0, 145)",
          "width": 2
         },
         "mode": "lines",
         "type": "scatter3d",
         "x": [
          0,
          0.0504158
         ],
         "y": [
          0,
          1.999198
         ],
         "z": [
          0,
          -0.0257782
         ]
        },
        {
         "line": {
          "color": "rgb(20, 0, 145)",
          "width": 2
         },
         "mode": "lines",
         "type": "scatter3d",
         "x": [
          0,
          0.049173
         ],
         "y": [
          0,
          1.999182
         ],
         "z": [
          0,
          -0.029253
         ]
        },
        {
         "line": {
          "color": "rgb(20, 0, 145)",
          "width": 2
         },
         "mode": "lines",
         "type": "scatter3d",
         "x": [
          0,
          0.0461176
         ],
         "y": [
          0,
          1.999356
         ],
         "z": [
          0,
          -0.0212308
         ]
        },
        {
         "line": {
          "color": "rgb(20, 0, 145)",
          "width": 2
         },
         "mode": "lines",
         "type": "scatter3d",
         "x": [
          0,
          0.0445532
         ],
         "y": [
          0,
          1.99939
         ],
         "z": [
          0,
          -0.0212938
         ]
        },
        {
         "line": {
          "color": "rgb(20, 0, 145)",
          "width": 2
         },
         "mode": "lines",
         "type": "scatter3d",
         "x": [
          0,
          0.0445532
         ],
         "y": [
          0,
          1.99939
         ],
         "z": [
          0,
          -0.0212938
         ]
        },
        {
         "line": {
          "color": "rgb(20, 0, 145)",
          "width": 2
         },
         "mode": "lines",
         "type": "scatter3d",
         "x": [
          0,
          0.0483516
         ],
         "y": [
          0,
          1.999262
         ],
         "z": [
          0,
          -0.0248068
         ]
        },
        {
         "line": {
          "color": "rgb(20, 0, 145)",
          "width": 2
         },
         "mode": "lines",
         "type": "scatter3d",
         "x": [
          0,
          0.0418828
         ],
         "y": [
          0,
          1.999428
         ],
         "z": [
          0,
          -0.023089
         ]
        },
        {
         "line": {
          "color": "rgb(20, 0, 145)",
          "width": 2
         },
         "mode": "lines",
         "type": "scatter3d",
         "x": [
          0,
          0.0485764
         ],
         "y": [
          0,
          1.999304
         ],
         "z": [
          0,
          -0.0205958
         ]
        },
        {
         "line": {
          "color": "rgb(20, 0, 145)",
          "width": 2
         },
         "mode": "lines",
         "type": "scatter3d",
         "x": [
          0,
          0.0485764
         ],
         "y": [
          0,
          1.999304
         ],
         "z": [
          0,
          -0.0205958
         ]
        },
        {
         "line": {
          "color": "rgb(20, 0, 145)",
          "width": 2
         },
         "mode": "lines",
         "type": "scatter3d",
         "x": [
          0,
          0.0475976
         ],
         "y": [
          0,
          1.999306
         ],
         "z": [
          0,
          -0.0225352
         ]
        },
        {
         "line": {
          "color": "rgb(20, 0, 145)",
          "width": 2
         },
         "mode": "lines",
         "type": "scatter3d",
         "x": [
          0,
          0.0510552
         ],
         "y": [
          0,
          1.999208
         ],
         "z": [
          0,
          -0.0236714
         ]
        },
        {
         "line": {
          "color": "rgb(20, 0, 145)",
          "width": 2
         },
         "mode": "lines",
         "type": "scatter3d",
         "x": [
          0,
          0.0499968
         ],
         "y": [
          0,
          1.999232
         ],
         "z": [
          0,
          -0.0238472
         ]
        },
        {
         "line": {
          "color": "rgb(20, 0, 145)",
          "width": 2
         },
         "mode": "lines",
         "type": "scatter3d",
         "x": [
          0,
          0.050424
         ],
         "y": [
          0,
          1.999248
         ],
         "z": [
          0,
          -0.0216226
         ]
        },
        {
         "line": {
          "color": "rgb(20, 0, 145)",
          "width": 2
         },
         "mode": "lines",
         "type": "scatter3d",
         "x": [
          0,
          0.0485158
         ],
         "y": [
          0,
          1.999252
         ],
         "z": [
          0,
          -0.0252048
         ]
        },
        {
         "line": {
          "color": "rgb(20, 0, 145)",
          "width": 2
         },
         "mode": "lines",
         "type": "scatter3d",
         "x": [
          0,
          0.0485158
         ],
         "y": [
          0,
          1.999252
         ],
         "z": [
          0,
          -0.0252048
         ]
        },
        {
         "line": {
          "color": "rgb(20, 0, 145)",
          "width": 2
         },
         "mode": "lines",
         "type": "scatter3d",
         "x": [
          0,
          0.0478454
         ],
         "y": [
          0,
          1.999268
         ],
         "z": [
          0,
          -0.0252714
         ]
        },
        {
         "line": {
          "color": "rgb(20, 0, 145)",
          "width": 2
         },
         "mode": "lines",
         "type": "scatter3d",
         "x": [
          0,
          0.0520658
         ],
         "y": [
          0,
          1.999182
         ],
         "z": [
          0,
          -0.0236378
         ]
        },
        {
         "line": {
          "color": "rgb(20, 0, 145)",
          "width": 2
         },
         "mode": "lines",
         "type": "scatter3d",
         "x": [
          0,
          0.049184
         ],
         "y": [
          0,
          1.999298
         ],
         "z": [
          0,
          -0.01972822
         ]
        },
        {
         "line": {
          "color": "rgb(20, 0, 145)",
          "width": 2
         },
         "mode": "lines",
         "type": "scatter3d",
         "x": [
          0,
          0.051204
         ],
         "y": [
          0,
          1.999184
         ],
         "z": [
          0,
          -0.0253766
         ]
        },
        {
         "line": {
          "color": "rgb(20, 0, 145)",
          "width": 2
         },
         "mode": "lines",
         "type": "scatter3d",
         "x": [
          0,
          0.051204
         ],
         "y": [
          0,
          1.999184
         ],
         "z": [
          0,
          -0.0253766
         ]
        },
        {
         "line": {
          "color": "rgb(20, 0, 145)",
          "width": 2
         },
         "mode": "lines",
         "type": "scatter3d",
         "x": [
          0,
          0.0472888
         ],
         "y": [
          0,
          1.999344
         ],
         "z": [
          0,
          -0.01972732
         ]
        },
        {
         "line": {
          "color": "rgb(20, 0, 145)",
          "width": 2
         },
         "mode": "lines",
         "type": "scatter3d",
         "x": [
          0,
          0.0581508
         ],
         "y": [
          0,
          1.998926
         ],
         "z": [
          0,
          -0.0302582
         ]
        },
        {
         "line": {
          "color": "rgb(20, 0, 145)",
          "width": 2
         },
         "mode": "lines",
         "type": "scatter3d",
         "x": [
          0,
          0.0539784
         ],
         "y": [
          0,
          1.999136
         ],
         "z": [
          0,
          -0.023237
         ]
        },
        {
         "line": {
          "color": "rgb(20, 0, 145)",
          "width": 2
         },
         "mode": "lines",
         "type": "scatter3d",
         "x": [
          0,
          0.0539784
         ],
         "y": [
          0,
          1.999136
         ],
         "z": [
          0,
          -0.023237
         ]
        },
        {
         "line": {
          "color": "rgb(20, 0, 145)",
          "width": 2
         },
         "mode": "lines",
         "type": "scatter3d",
         "x": [
          0,
          0.048071
         ],
         "y": [
          0,
          1.999302
         ],
         "z": [
          0,
          -0.0218484
         ]
        },
        {
         "line": {
          "color": "rgb(20, 0, 145)",
          "width": 2
         },
         "mode": "lines",
         "type": "scatter3d",
         "x": [
          0,
          0.057862
         ],
         "y": [
          0,
          1.999014
         ],
         "z": [
          0,
          -0.0244272
         ]
        },
        {
         "line": {
          "color": "rgb(20, 0, 145)",
          "width": 2
         },
         "mode": "lines",
         "type": "scatter3d",
         "x": [
          0,
          0.057231
         ],
         "y": [
          0,
          1.999042
         ],
         "z": [
          0,
          -0.0235968
         ]
        },
        {
         "line": {
          "color": "rgb(20, 0, 145)",
          "width": 2
         },
         "mode": "lines",
         "type": "scatter3d",
         "x": [
          0,
          0.043312
         ],
         "y": [
          0,
          1.999378
         ],
         "z": [
          0,
          -0.024676
         ]
        },
        {
         "line": {
          "color": "rgb(20, 0, 145)",
          "width": 2
         },
         "mode": "lines",
         "type": "scatter3d",
         "x": [
          0,
          0.0512374
         ],
         "y": [
          0,
          1.999244
         ],
         "z": [
          0,
          -0.01989252
         ]
        },
        {
         "line": {
          "color": "rgb(20, 0, 145)",
          "width": 2
         },
         "mode": "lines",
         "type": "scatter3d",
         "x": [
          0,
          0.0512374
         ],
         "y": [
          0,
          1.999244
         ],
         "z": [
          0,
          -0.01989252
         ]
        },
        {
         "line": {
          "color": "rgb(20, 0, 145)",
          "width": 2
         },
         "mode": "lines",
         "type": "scatter3d",
         "x": [
          0,
          0.048158
         ],
         "y": [
          0,
          1.999192
         ],
         "z": [
          0,
          -0.0302524
         ]
        },
        {
         "line": {
          "color": "rgb(20, 0, 145)",
          "width": 2
         },
         "mode": "lines",
         "type": "scatter3d",
         "x": [
          0,
          0.0529122
         ],
         "y": [
          0,
          1.999178
         ],
         "z": [
          0,
          -0.022156
         ]
        },
        {
         "line": {
          "color": "rgb(20, 0, 145)",
          "width": 2
         },
         "mode": "lines",
         "type": "scatter3d",
         "x": [
          0,
          0.0503674
         ],
         "y": [
          0,
          1.99917
         ],
         "z": [
          0,
          -0.0280394
         ]
        },
        {
         "line": {
          "color": "rgb(20, 0, 145)",
          "width": 2
         },
         "mode": "lines",
         "type": "scatter3d",
         "x": [
          0,
          0.0532014
         ],
         "y": [
          0,
          1.999154
         ],
         "z": [
          0,
          -0.0234824
         ]
        },
        {
         "line": {
          "color": "rgb(20, 0, 145)",
          "width": 2
         },
         "mode": "lines",
         "type": "scatter3d",
         "x": [
          0,
          0.0532014
         ],
         "y": [
          0,
          1.999154
         ],
         "z": [
          0,
          -0.0234824
         ]
        },
        {
         "line": {
          "color": "rgb(20, 0, 145)",
          "width": 2
         },
         "mode": "lines",
         "type": "scatter3d",
         "x": [
          0,
          0.0469586
         ],
         "y": [
          0,
          1.999346
         ],
         "z": [
          0,
          -0.0201676
         ]
        },
        {
         "line": {
          "color": "rgb(20, 0, 145)",
          "width": 2
         },
         "mode": "lines",
         "type": "scatter3d",
         "x": [
          0,
          0.052855
         ],
         "y": [
          0,
          1.999152
         ],
         "z": [
          0,
          -0.024376
         ]
        },
        {
         "line": {
          "color": "rgb(20, 0, 145)",
          "width": 2
         },
         "mode": "lines",
         "type": "scatter3d",
         "x": [
          0,
          0.0518156
         ],
         "y": [
          0,
          1.999198
         ],
         "z": [
          0,
          -0.0227712
         ]
        },
        {
         "line": {
          "color": "rgb(20, 0, 145)",
          "width": 2
         },
         "mode": "lines",
         "type": "scatter3d",
         "x": [
          0,
          0.0518156
         ],
         "y": [
          0,
          1.999198
         ],
         "z": [
          0,
          -0.0227712
         ]
        },
        {
         "line": {
          "color": "rgb(20, 0, 145)",
          "width": 2
         },
         "mode": "lines",
         "type": "scatter3d",
         "x": [
          0,
          0.0522266
         ],
         "y": [
          0,
          1.999174
         ],
         "z": [
          0,
          -0.0239884
         ]
        },
        {
         "line": {
          "color": "rgb(20, 0, 145)",
          "width": 2
         },
         "mode": "lines",
         "type": "scatter3d",
         "x": [
          0,
          0.0461642
         ],
         "y": [
          0,
          1.999274
         ],
         "z": [
          0,
          -0.0278488
         ]
        },
        {
         "line": {
          "color": "rgb(20, 0, 145)",
          "width": 2
         },
         "mode": "lines",
         "type": "scatter3d",
         "x": [
          0,
          0.0463232
         ],
         "y": [
          0,
          1.999316
         ],
         "z": [
          0,
          -0.0242454
         ]
        },
        {
         "line": {
          "color": "rgb(20, 0, 145)",
          "width": 2
         },
         "mode": "lines",
         "type": "scatter3d",
         "x": [
          0,
          0.0492712
         ],
         "y": [
          0,
          1.99921
         ],
         "z": [
          0,
          -0.0270886
         ]
        },
        {
         "line": {
          "color": "rgb(20, 0, 145)",
          "width": 2
         },
         "mode": "lines",
         "type": "scatter3d",
         "x": [
          0,
          0.27303
         ],
         "y": [
          0,
          1.981196
         ],
         "z": [
          0,
          -0.01772078
         ]
        },
        {
         "line": {
          "color": "rgb(20, 0, 145)",
          "width": 2
         },
         "mode": "lines",
         "type": "scatter3d",
         "x": [
          0,
          0.273086
         ],
         "y": [
          0,
          1.98118
         ],
         "z": [
          0,
          -0.01865864
         ]
        },
        {
         "line": {
          "color": "rgb(20, 0, 145)",
          "width": 2
         },
         "mode": "lines",
         "type": "scatter3d",
         "x": [
          0,
          0.27153
         ],
         "y": [
          0,
          1.981368
         ],
         "z": [
          0,
          -0.0212036
         ]
        },
        {
         "line": {
          "color": "rgb(20, 0, 145)",
          "width": 2
         },
         "mode": "lines",
         "type": "scatter3d",
         "x": [
          0,
          0.27153
         ],
         "y": [
          0,
          1.981368
         ],
         "z": [
          0,
          -0.0212036
         ]
        },
        {
         "line": {
          "color": "rgb(20, 0, 145)",
          "width": 2
         },
         "mode": "lines",
         "type": "scatter3d",
         "x": [
          0,
          0.268276
         ],
         "y": [
          0,
          1.981842
         ],
         "z": [
          0,
          -0.01806614
         ]
        },
        {
         "line": {
          "color": "rgb(20, 0, 145)",
          "width": 2
         },
         "mode": "lines",
         "type": "scatter3d",
         "x": [
          0,
          0.2661
         ],
         "y": [
          0,
          1.982106
         ],
         "z": [
          0,
          -0.021153
         ]
        },
        {
         "line": {
          "color": "rgb(20, 0, 145)",
          "width": 2
         },
         "mode": "lines",
         "type": "scatter3d",
         "x": [
          0,
          0.26565
         ],
         "y": [
          0,
          1.98215
         ],
         "z": [
          0,
          -0.0226154
         ]
        },
        {
         "line": {
          "color": "rgb(20, 0, 145)",
          "width": 2
         },
         "mode": "lines",
         "type": "scatter3d",
         "x": [
          0,
          0.266244
         ],
         "y": [
          0,
          1.98209
         ],
         "z": [
          0,
          -0.0208634
         ]
        },
        {
         "line": {
          "color": "rgb(20, 0, 145)",
          "width": 2
         },
         "mode": "lines",
         "type": "scatter3d",
         "x": [
          0,
          0.266244
         ],
         "y": [
          0,
          1.98209
         ],
         "z": [
          0,
          -0.0208634
         ]
        },
        {
         "line": {
          "color": "rgb(20, 0, 145)",
          "width": 2
         },
         "mode": "lines",
         "type": "scatter3d",
         "x": [
          0,
          0.267468
         ],
         "y": [
          0,
          1.981932
         ],
         "z": [
          0,
          -0.020141
         ]
        },
        {
         "line": {
          "color": "rgb(20, 0, 145)",
          "width": 2
         },
         "mode": "lines",
         "type": "scatter3d",
         "x": [
          0,
          0.264738
         ],
         "y": [
          0,
          1.982284
         ],
         "z": [
          0,
          -0.021563
         ]
        },
        {
         "line": {
          "color": "rgb(20, 0, 145)",
          "width": 2
         },
         "mode": "lines",
         "type": "scatter3d",
         "x": [
          0,
          0.266328
         ],
         "y": [
          0,
          1.982118
         ],
         "z": [
          0,
          -0.01669042
         ]
        },
        {
         "line": {
          "color": "rgb(20, 0, 145)",
          "width": 2
         },
         "mode": "lines",
         "type": "scatter3d",
         "x": [
          0,
          0.266328
         ],
         "y": [
          0,
          1.982118
         ],
         "z": [
          0,
          -0.01669042
         ]
        },
        {
         "line": {
          "color": "rgb(20, 0, 145)",
          "width": 2
         },
         "mode": "lines",
         "type": "scatter3d",
         "x": [
          0,
          0.2605
         ],
         "y": [
          0,
          1.982872
         ],
         "z": [
          0,
          -0.0188692
         ]
        },
        {
         "line": {
          "color": "rgb(20, 0, 145)",
          "width": 2
         },
         "mode": "lines",
         "type": "scatter3d",
         "x": [
          0,
          0.26285
         ],
         "y": [
          0,
          1.982566
         ],
         "z": [
          0,
          -0.01840682
         ]
        },
        {
         "line": {
          "color": "rgb(20, 0, 145)",
          "width": 2
         },
         "mode": "lines",
         "type": "scatter3d",
         "x": [
          0,
          0.264256
         ],
         "y": [
          0,
          1.982358
         ],
         "z": [
          0,
          -0.0205808
         ]
        },
        {
         "line": {
          "color": "rgb(20, 0, 145)",
          "width": 2
         },
         "mode": "lines",
         "type": "scatter3d",
         "x": [
          0,
          0.260812
         ],
         "y": [
          0,
          1.982836
         ],
         "z": [
          0,
          -0.01837582
         ]
        },
        {
         "line": {
          "color": "rgb(20, 0, 145)",
          "width": 2
         },
         "mode": "lines",
         "type": "scatter3d",
         "x": [
          0,
          0.264032
         ],
         "y": [
          0,
          1.982388
         ],
         "z": [
          0,
          -0.0206728
         ]
        },
        {
         "line": {
          "color": "rgb(20, 0, 145)",
          "width": 2
         },
         "mode": "lines",
         "type": "scatter3d",
         "x": [
          0,
          0.264032
         ],
         "y": [
          0,
          1.982388
         ],
         "z": [
          0,
          -0.0206728
         ]
        },
        {
         "line": {
          "color": "rgb(20, 0, 145)",
          "width": 2
         },
         "mode": "lines",
         "type": "scatter3d",
         "x": [
          0,
          0.258842
         ],
         "y": [
          0,
          1.983046
         ],
         "z": [
          0,
          -0.0230954
         ]
        },
        {
         "line": {
          "color": "rgb(20, 0, 145)",
          "width": 2
         },
         "mode": "lines",
         "type": "scatter3d",
         "x": [
          0,
          0.258192
         ],
         "y": [
          0,
          1.983152
         ],
         "z": [
          0,
          -0.0210034
         ]
        },
        {
         "line": {
          "color": "rgb(20, 0, 145)",
          "width": 2
         },
         "mode": "lines",
         "type": "scatter3d",
         "x": [
          0,
          0.263106
         ],
         "y": [
          0,
          1.9825
         ],
         "z": [
          0,
          -0.0216816
         ]
        },
        {
         "line": {
          "color": "rgb(20, 0, 145)",
          "width": 2
         },
         "mode": "lines",
         "type": "scatter3d",
         "x": [
          0,
          0.256318
         ],
         "y": [
          0,
          1.983408
         ],
         "z": [
          0,
          -0.01986374
         ]
        },
        {
         "line": {
          "color": "rgb(20, 0, 145)",
          "width": 2
         },
         "mode": "lines",
         "type": "scatter3d",
         "x": [
          0,
          0.256318
         ],
         "y": [
          0,
          1.983408
         ],
         "z": [
          0,
          -0.01986374
         ]
        },
        {
         "line": {
          "color": "rgb(20, 0, 145)",
          "width": 2
         },
         "mode": "lines",
         "type": "scatter3d",
         "x": [
          0,
          0.262156
         ],
         "y": [
          0,
          1.982646
         ],
         "z": [
          0,
          -0.01968646
         ]
        },
        {
         "line": {
          "color": "rgb(20, 0, 145)",
          "width": 2
         },
         "mode": "lines",
         "type": "scatter3d",
         "x": [
          0,
          0.261012
         ],
         "y": [
          0,
          1.982762
         ],
         "z": [
          0,
          -0.02298
         ]
        },
        {
         "line": {
          "color": "rgb(20, 0, 145)",
          "width": 2
         },
         "mode": "lines",
         "type": "scatter3d",
         "x": [
          0,
          0.26399
         ],
         "y": [
          0,
          1.98238
         ],
         "z": [
          0,
          -0.021812
         ]
        },
        {
         "line": {
          "color": "rgb(20, 0, 145)",
          "width": 2
         },
         "mode": "lines",
         "type": "scatter3d",
         "x": [
          0,
          0.267712
         ],
         "y": [
          0,
          1.981948
         ],
         "z": [
          0,
          -0.01458228
         ]
        },
        {
         "line": {
          "color": "rgb(20, 0, 145)",
          "width": 2
         },
         "mode": "lines",
         "type": "scatter3d",
         "x": [
          0,
          0.267712
         ],
         "y": [
          0,
          1.981948
         ],
         "z": [
          0,
          -0.01458228
         ]
        },
        {
         "line": {
          "color": "rgb(20, 0, 145)",
          "width": 2
         },
         "mode": "lines",
         "type": "scatter3d",
         "x": [
          0,
          0.26465
         ],
         "y": [
          0,
          1.982376
         ],
         "z": [
          0,
          -0.0121645
         ]
        },
        {
         "line": {
          "color": "rgb(20, 0, 145)",
          "width": 2
         },
         "mode": "lines",
         "type": "scatter3d",
         "x": [
          0,
          0.26545
         ],
         "y": [
          0,
          1.982244
         ],
         "z": [
          0,
          -0.01574968
         ]
        },
        {
         "line": {
          "color": "rgb(20, 0, 145)",
          "width": 2
         },
         "mode": "lines",
         "type": "scatter3d",
         "x": [
          0,
          0.262716
         ],
         "y": [
          0,
          1.982598
         ],
         "z": [
          0,
          -0.01682028
         ]
        },
        {
         "line": {
          "color": "rgb(20, 0, 145)",
          "width": 2
         },
         "mode": "lines",
         "type": "scatter3d",
         "x": [
          0,
          0.262716
         ],
         "y": [
          0,
          1.982598
         ],
         "z": [
          0,
          -0.01682028
         ]
        },
        {
         "line": {
          "color": "rgb(20, 0, 145)",
          "width": 2
         },
         "mode": "lines",
         "type": "scatter3d",
         "x": [
          0,
          0.261688
         ],
         "y": [
          0,
          1.982732
         ],
         "z": [
          0,
          -0.0170388
         ]
        },
        {
         "line": {
          "color": "rgb(20, 0, 145)",
          "width": 2
         },
         "mode": "lines",
         "type": "scatter3d",
         "x": [
          0,
          0.260318
         ],
         "y": [
          0,
          1.98289
         ],
         "z": [
          0,
          -0.0195676
         ]
        },
        {
         "line": {
          "color": "rgb(20, 0, 145)",
          "width": 2
         },
         "mode": "lines",
         "type": "scatter3d",
         "x": [
          0,
          0.26566
         ],
         "y": [
          0,
          1.982216
         ],
         "z": [
          0,
          -0.01573912
         ]
        },
        {
         "line": {
          "color": "rgb(20, 0, 145)",
          "width": 2
         },
         "mode": "lines",
         "type": "scatter3d",
         "x": [
          0,
          0.262692
         ],
         "y": [
          0,
          1.982582
         ],
         "z": [
          0,
          -0.01898014
         ]
        },
        {
         "line": {
          "color": "rgb(20, 0, 145)",
          "width": 2
         },
         "mode": "lines",
         "type": "scatter3d",
         "x": [
          0,
          0.265564
         ],
         "y": [
          0,
          1.982194
         ],
         "z": [
          0,
          -0.01961072
         ]
        },
        {
         "line": {
          "color": "rgb(20, 0, 145)",
          "width": 2
         },
         "mode": "lines",
         "type": "scatter3d",
         "x": [
          0,
          0.265564
         ],
         "y": [
          0,
          1.982194
         ],
         "z": [
          0,
          -0.01961072
         ]
        },
        {
         "line": {
          "color": "rgb(20, 0, 145)",
          "width": 2
         },
         "mode": "lines",
         "type": "scatter3d",
         "x": [
          0,
          0.263844
         ],
         "y": [
          0,
          1.982448
         ],
         "z": [
          0,
          -0.01702448
         ]
        },
        {
         "line": {
          "color": "rgb(20, 0, 145)",
          "width": 2
         },
         "mode": "lines",
         "type": "scatter3d",
         "x": [
          0,
          0.263636
         ],
         "y": [
          0,
          1.98247
         ],
         "z": [
          0,
          -0.0176272
         ]
        },
        {
         "line": {
          "color": "rgb(20, 0, 145)",
          "width": 2
         },
         "mode": "lines",
         "type": "scatter3d",
         "x": [
          0,
          0.261098
         ],
         "y": [
          0,
          1.982776
         ],
         "z": [
          0,
          -0.0207284
         ]
        },
        {
         "line": {
          "color": "rgb(20, 0, 145)",
          "width": 2
         },
         "mode": "lines",
         "type": "scatter3d",
         "x": [
          0,
          0.256068
         ],
         "y": [
          0,
          1.983464
         ],
         "z": [
          0,
          -0.0172187
         ]
        },
        {
         "line": {
          "color": "rgb(20, 0, 145)",
          "width": 2
         },
         "mode": "lines",
         "type": "scatter3d",
         "x": [
          0,
          0.256068
         ],
         "y": [
          0,
          1.983464
         ],
         "z": [
          0,
          -0.0172187
         ]
        },
        {
         "line": {
          "color": "rgb(20, 0, 145)",
          "width": 2
         },
         "mode": "lines",
         "type": "scatter3d",
         "x": [
          0,
          0.261498
         ],
         "y": [
          0,
          1.982736
         ],
         "z": [
          0,
          -0.01930304
         ]
        },
        {
         "line": {
          "color": "rgb(20, 0, 145)",
          "width": 2
         },
         "mode": "lines",
         "type": "scatter3d",
         "x": [
          0,
          0.263396
         ],
         "y": [
          0,
          1.98249
         ],
         "z": [
          0,
          -0.0188417
         ]
        },
        {
         "line": {
          "color": "rgb(20, 0, 145)",
          "width": 2
         },
         "mode": "lines",
         "type": "scatter3d",
         "x": [
          0,
          0.262022
         ],
         "y": [
          0,
          1.982708
         ],
         "z": [
          0,
          -0.01458676
         ]
        },
        {
         "line": {
          "color": "rgb(20, 0, 145)",
          "width": 2
         },
         "mode": "lines",
         "type": "scatter3d",
         "x": [
          0,
          0.260652
         ],
         "y": [
          0,
          1.98288
         ],
         "z": [
          0,
          -0.01580432
         ]
        },
        {
         "line": {
          "color": "rgb(20, 0, 145)",
          "width": 2
         },
         "mode": "lines",
         "type": "scatter3d",
         "x": [
          0,
          0.264918
         ],
         "y": [
          0,
          1.982288
         ],
         "z": [
          0,
          -0.01876066
         ]
        },
        {
         "line": {
          "color": "rgb(20, 0, 145)",
          "width": 2
         },
         "mode": "lines",
         "type": "scatter3d",
         "x": [
          0,
          0.264918
         ],
         "y": [
          0,
          1.982288
         ],
         "z": [
          0,
          -0.01876066
         ]
        },
        {
         "line": {
          "color": "rgb(20, 0, 145)",
          "width": 2
         },
         "mode": "lines",
         "type": "scatter3d",
         "x": [
          0,
          0.266514
         ],
         "y": [
          0,
          1.982082
         ],
         "z": [
          0,
          -0.017891
         ]
        },
        {
         "line": {
          "color": "rgb(20, 0, 145)",
          "width": 2
         },
         "mode": "lines",
         "type": "scatter3d",
         "x": [
          0,
          0.260242
         ],
         "y": [
          0,
          1.982906
         ],
         "z": [
          0,
          -0.01881572
         ]
        },
        {
         "line": {
          "color": "rgb(20, 0, 145)",
          "width": 2
         },
         "mode": "lines",
         "type": "scatter3d",
         "x": [
          0,
          0.262438
         ],
         "y": [
          0,
          1.982612
         ],
         "z": [
          0,
          -0.01937122
         ]
        },
        {
         "line": {
          "color": "rgb(20, 0, 145)",
          "width": 2
         },
         "mode": "lines",
         "type": "scatter3d",
         "x": [
          0,
          0.262438
         ],
         "y": [
          0,
          1.982612
         ],
         "z": [
          0,
          -0.01937122
         ]
        },
        {
         "line": {
          "color": "rgb(20, 0, 145)",
          "width": 2
         },
         "mode": "lines",
         "type": "scatter3d",
         "x": [
          0,
          0.263192
         ],
         "y": [
          0,
          1.98252
         ],
         "z": [
          0,
          -0.01863022
         ]
        },
        {
         "line": {
          "color": "rgb(20, 0, 145)",
          "width": 2
         },
         "mode": "lines",
         "type": "scatter3d",
         "x": [
          0,
          0.262952
         ],
         "y": [
          0,
          1.982542
         ],
         "z": [
          0,
          -0.0195943
         ]
        },
        {
         "line": {
          "color": "rgb(20, 0, 145)",
          "width": 2
         },
         "mode": "lines",
         "type": "scatter3d",
         "x": [
          0,
          0.26279
         ],
         "y": [
          0,
          1.98258
         ],
         "z": [
          0,
          -0.0177201
         ]
        },
        {
         "line": {
          "color": "rgb(20, 0, 145)",
          "width": 2
         },
         "mode": "lines",
         "type": "scatter3d",
         "x": [
          0,
          0.261512
         ],
         "y": [
          0,
          1.982732
         ],
         "z": [
          0,
          -0.01959516
         ]
        },
        {
         "line": {
          "color": "rgb(20, 0, 145)",
          "width": 2
         },
         "mode": "lines",
         "type": "scatter3d",
         "x": [
          0,
          0.261512
         ],
         "y": [
          0,
          1.982732
         ],
         "z": [
          0,
          -0.01959516
         ]
        },
        {
         "line": {
          "color": "rgb(20, 0, 145)",
          "width": 2
         },
         "mode": "lines",
         "type": "scatter3d",
         "x": [
          0,
          0.264832
         ],
         "y": [
          0,
          1.982332
         ],
         "z": [
          0,
          -0.01507174
         ]
        },
        {
         "line": {
          "color": "rgb(20, 0, 145)",
          "width": 2
         },
         "mode": "lines",
         "type": "scatter3d",
         "x": [
          0,
          0.261654
         ],
         "y": [
          0,
          1.982722
         ],
         "z": [
          0,
          -0.01863216
         ]
        },
        {
         "line": {
          "color": "rgb(20, 0, 145)",
          "width": 2
         },
         "mode": "lines",
         "type": "scatter3d",
         "x": [
          0,
          0.263214
         ],
         "y": [
          0,
          1.98249
         ],
         "z": [
          0,
          -0.0212318
         ]
        },
        {
         "line": {
          "color": "rgb(20, 0, 145)",
          "width": 2
         },
         "mode": "lines",
         "type": "scatter3d",
         "x": [
          0,
          0.263774
         ],
         "y": [
          0,
          1.98243
         ],
         "z": [
          0,
          -0.01981732
         ]
        },
        {
         "line": {
          "color": "rgb(20, 0, 145)",
          "width": 2
         },
         "mode": "lines",
         "type": "scatter3d",
         "x": [
          0,
          0.263774
         ],
         "y": [
          0,
          1.98243
         ],
         "z": [
          0,
          -0.01981732
         ]
        },
        {
         "line": {
          "color": "rgb(20, 0, 145)",
          "width": 2
         },
         "mode": "lines",
         "type": "scatter3d",
         "x": [
          0,
          0.2612
         ],
         "y": [
          0,
          1.98277
         ],
         "z": [
          0,
          -0.01985502
         ]
        },
        {
         "line": {
          "color": "rgb(20, 0, 145)",
          "width": 2
         },
         "mode": "lines",
         "type": "scatter3d",
         "x": [
          0,
          0.268552
         ],
         "y": [
          0,
          1.981816
         ],
         "z": [
          0,
          -0.01695296
         ]
        },
        {
         "line": {
          "color": "rgb(20, 0, 145)",
          "width": 2
         },
         "mode": "lines",
         "type": "scatter3d",
         "x": [
          0,
          0.264106
         ],
         "y": [
          0,
          1.982372
         ],
         "z": [
          0,
          -0.0211832
         ]
        },
        {
         "line": {
          "color": "rgb(20, 0, 145)",
          "width": 2
         },
         "mode": "lines",
         "type": "scatter3d",
         "x": [
          0,
          0.26439
         ],
         "y": [
          0,
          1.982354
         ],
         "z": [
          0,
          -0.01931494
         ]
        },
        {
         "line": {
          "color": "rgb(20, 0, 145)",
          "width": 2
         },
         "mode": "lines",
         "type": "scatter3d",
         "x": [
          0,
          0.26439
         ],
         "y": [
          0,
          1.982354
         ],
         "z": [
          0,
          -0.01931494
         ]
        },
        {
         "line": {
          "color": "rgb(20, 0, 145)",
          "width": 2
         },
         "mode": "lines",
         "type": "scatter3d",
         "x": [
          0,
          0.264856
         ],
         "y": [
          0,
          1.982276
         ],
         "z": [
          0,
          -0.0208354
         ]
        },
        {
         "line": {
          "color": "rgb(20, 0, 145)",
          "width": 2
         },
         "mode": "lines",
         "type": "scatter3d",
         "x": [
          0,
          0.26502
         ],
         "y": [
          0,
          1.982272
         ],
         "z": [
          0,
          -0.01910962
         ]
        },
        {
         "line": {
          "color": "rgb(20, 0, 145)",
          "width": 2
         },
         "mode": "lines",
         "type": "scatter3d",
         "x": [
          0,
          0.265822
         ],
         "y": [
          0,
          1.982134
         ],
         "z": [
          0,
          -0.0220718
         ]
        },
        {
         "line": {
          "color": "rgb(20, 0, 145)",
          "width": 2
         },
         "mode": "lines",
         "type": "scatter3d",
         "x": [
          0,
          0.264052
         ],
         "y": [
          0,
          1.982382
         ],
         "z": [
          0,
          -0.0210046
         ]
        },
        {
         "line": {
          "color": "rgb(20, 0, 145)",
          "width": 2
         },
         "mode": "lines",
         "type": "scatter3d",
         "x": [
          0,
          0.264052
         ],
         "y": [
          0,
          1.982382
         ],
         "z": [
          0,
          -0.0210046
         ]
        },
        {
         "line": {
          "color": "rgb(20, 0, 145)",
          "width": 2
         },
         "mode": "lines",
         "type": "scatter3d",
         "x": [
          0,
          0.265246
         ],
         "y": [
          0,
          1.982242
         ],
         "z": [
          0,
          -0.01897598
         ]
        },
        {
         "line": {
          "color": "rgb(20, 0, 145)",
          "width": 2
         },
         "mode": "lines",
         "type": "scatter3d",
         "x": [
          0,
          0.268508
         ],
         "y": [
          0,
          1.981812
         ],
         "z": [
          0,
          -0.01811678
         ]
        },
        {
         "line": {
          "color": "rgb(20, 0, 145)",
          "width": 2
         },
         "mode": "lines",
         "type": "scatter3d",
         "x": [
          0,
          0.269442
         ],
         "y": [
          0,
          1.98165
         ],
         "z": [
          0,
          -0.021508
         ]
        },
        {
         "line": {
          "color": "rgb(20, 0, 145)",
          "width": 2
         },
         "mode": "lines",
         "type": "scatter3d",
         "x": [
          0,
          0.264062
         ],
         "y": [
          0,
          1.982352
         ],
         "z": [
          0,
          -0.0235778
         ]
        },
        {
         "line": {
          "color": "rgb(20, 0, 145)",
          "width": 2
         },
         "mode": "lines",
         "type": "scatter3d",
         "x": [
          0,
          0.268982
         ],
         "y": [
          0,
          1.981682
         ],
         "z": [
          0,
          -0.0242058
         ]
        },
        {
         "line": {
          "color": "rgb(20, 0, 145)",
          "width": 2
         },
         "mode": "lines",
         "type": "scatter3d",
         "x": [
          0,
          0.268982
         ],
         "y": [
          0,
          1.981682
         ],
         "z": [
          0,
          -0.0242058
         ]
        },
        {
         "line": {
          "color": "rgb(20, 0, 145)",
          "width": 2
         },
         "mode": "lines",
         "type": "scatter3d",
         "x": [
          0,
          0.2687
         ],
         "y": [
          0,
          1.981744
         ],
         "z": [
          0,
          -0.0221508
         ]
        },
        {
         "line": {
          "color": "rgb(20, 0, 145)",
          "width": 2
         },
         "mode": "lines",
         "type": "scatter3d",
         "x": [
          0,
          0.263646
         ],
         "y": [
          0,
          1.982336
         ],
         "z": [
          0,
          -0.0288512
         ]
        },
        {
         "line": {
          "color": "rgb(20, 0, 145)",
          "width": 2
         },
         "mode": "lines",
         "type": "scatter3d",
         "x": [
          0,
          0.269422
         ],
         "y": [
          0,
          1.981576
         ],
         "z": [
          0,
          -0.0277194
         ]
        },
        {
         "line": {
          "color": "rgb(20, 0, 145)",
          "width": 2
         },
         "mode": "lines",
         "type": "scatter3d",
         "x": [
          0,
          0.269422
         ],
         "y": [
          0,
          1.981576
         ],
         "z": [
          0,
          -0.0277194
         ]
        },
        {
         "line": {
          "color": "rgb(20, 0, 145)",
          "width": 2
         },
         "mode": "lines",
         "type": "scatter3d",
         "x": [
          0,
          0.265654
         ],
         "y": [
          0,
          1.982062
         ],
         "z": [
          0,
          -0.0292832
         ]
        },
        {
         "line": {
          "color": "rgb(20, 0, 145)",
          "width": 2
         },
         "mode": "lines",
         "type": "scatter3d",
         "x": [
          0,
          0.269234
         ],
         "y": [
          0,
          1.981596
         ],
         "z": [
          0,
          -0.0280708
         ]
        },
        {
         "line": {
          "color": "rgb(20, 0, 145)",
          "width": 2
         },
         "mode": "lines",
         "type": "scatter3d",
         "x": [
          0,
          0.267408
         ],
         "y": [
          0,
          1.981772
         ],
         "z": [
          0,
          -0.0327884
         ]
        },
        {
         "line": {
          "color": "rgb(20, 0, 145)",
          "width": 2
         },
         "mode": "lines",
         "type": "scatter3d",
         "x": [
          0,
          0.260304
         ],
         "y": [
          0,
          1.98276
         ],
         "z": [
          0,
          -0.0301434
         ]
        },
        {
         "line": {
          "color": "rgb(20, 0, 145)",
          "width": 2
         },
         "mode": "lines",
         "type": "scatter3d",
         "x": [
          0,
          0.260304
         ],
         "y": [
          0,
          1.98276
         ],
         "z": [
          0,
          -0.0301434
         ]
        },
        {
         "line": {
          "color": "rgb(20, 0, 145)",
          "width": 2
         },
         "mode": "lines",
         "type": "scatter3d",
         "x": [
          0,
          0.264794
         ],
         "y": [
          0,
          1.98214
         ],
         "z": [
          0,
          -0.0317482
         ]
        },
        {
         "line": {
          "color": "rgb(20, 0, 145)",
          "width": 2
         },
         "mode": "lines",
         "type": "scatter3d",
         "x": [
          0,
          0.262426
         ],
         "y": [
          0,
          1.982458
         ],
         "z": [
          0,
          -0.031498
         ]
        },
        {
         "line": {
          "color": "rgb(20, 0, 145)",
          "width": 2
         },
         "mode": "lines",
         "type": "scatter3d",
         "x": [
          0,
          0.264342
         ],
         "y": [
          0,
          1.9822
         ],
         "z": [
          0,
          -0.0317082
         ]
        },
        {
         "line": {
          "color": "rgb(20, 0, 145)",
          "width": 2
         },
         "mode": "lines",
         "type": "scatter3d",
         "x": [
          0,
          0.263736
         ],
         "y": [
          0,
          1.982338
         ],
         "z": [
          0,
          -0.0278856
         ]
        },
        {
         "line": {
          "color": "rgb(20, 0, 145)",
          "width": 2
         },
         "mode": "lines",
         "type": "scatter3d",
         "x": [
          0,
          0.263736
         ],
         "y": [
          0,
          1.982338
         ],
         "z": [
          0,
          -0.0278856
         ]
        },
        {
         "line": {
          "color": "rgb(20, 0, 145)",
          "width": 2
         },
         "mode": "lines",
         "type": "scatter3d",
         "x": [
          0,
          0.263524
         ],
         "y": [
          0,
          1.982318
         ],
         "z": [
          0,
          -0.0311148
         ]
        },
        {
         "line": {
          "color": "rgb(20, 0, 145)",
          "width": 2
         },
         "mode": "lines",
         "type": "scatter3d",
         "x": [
          0,
          0.263198
         ],
         "y": [
          0,
          1.982376
         ],
         "z": [
          0,
          -0.0301636
         ]
        },
        {
         "line": {
          "color": "rgb(20, 0, 145)",
          "width": 2
         },
         "mode": "lines",
         "type": "scatter3d",
         "x": [
          0,
          0.25994
         ],
         "y": [
          0,
          1.982836
         ],
         "z": [
          0,
          -0.028141
         ]
        },
        {
         "line": {
          "color": "rgb(20, 0, 145)",
          "width": 2
         },
         "mode": "lines",
         "type": "scatter3d",
         "x": [
          0,
          0.262638
         ],
         "y": [
          0,
          1.98248
         ],
         "z": [
          0,
          -0.0281208
         ]
        },
        {
         "line": {
          "color": "rgb(20, 0, 145)",
          "width": 2
         },
         "mode": "lines",
         "type": "scatter3d",
         "x": [
          0,
          0.262638
         ],
         "y": [
          0,
          1.98248
         ],
         "z": [
          0,
          -0.0281208
         ]
        },
        {
         "line": {
          "color": "rgb(20, 0, 145)",
          "width": 2
         },
         "mode": "lines",
         "type": "scatter3d",
         "x": [
          0,
          0.254334
         ],
         "y": [
          0,
          1.983584
         ],
         "z": [
          0,
          -0.0266316
         ]
        },
        {
         "line": {
          "color": "rgb(20, 0, 145)",
          "width": 2
         },
         "mode": "lines",
         "type": "scatter3d",
         "x": [
          0,
          -0.229914
         ],
         "y": [
          0,
          1.881448
         ],
         "z": [
          0,
          0.638198
         ]
        },
        {
         "line": {
          "color": "rgb(20, 0, 145)",
          "width": 2
         },
         "mode": "lines",
         "type": "scatter3d",
         "x": [
          0,
          -0.23082
         ],
         "y": [
          0,
          1.880344
         ],
         "z": [
          0,
          0.641112
         ]
        },
        {
         "line": {
          "color": "rgb(20, 0, 145)",
          "width": 2
         },
         "mode": "lines",
         "type": "scatter3d",
         "x": [
          0,
          -0.23082
         ],
         "y": [
          0,
          1.880344
         ],
         "z": [
          0,
          0.641112
         ]
        },
        {
         "line": {
          "color": "rgb(20, 0, 145)",
          "width": 2
         },
         "mode": "lines",
         "type": "scatter3d",
         "x": [
          0,
          -0.230978
         ],
         "y": [
          0,
          1.88089
         ],
         "z": [
          0,
          0.639454
         ]
        },
        {
         "line": {
          "color": "rgb(20, 0, 145)",
          "width": 2
         },
         "mode": "lines",
         "type": "scatter3d",
         "x": [
          0,
          -0.229276
         ],
         "y": [
          0,
          1.881294
         ],
         "z": [
          0,
          0.638876
         ]
        },
        {
         "line": {
          "color": "rgb(20, 0, 145)",
          "width": 2
         },
         "mode": "lines",
         "type": "scatter3d",
         "x": [
          0,
          -0.230652
         ],
         "y": [
          0,
          1.88075
         ],
         "z": [
          0,
          0.639982
         ]
        },
        {
         "line": {
          "color": "rgb(20, 0, 145)",
          "width": 2
         },
         "mode": "lines",
         "type": "scatter3d",
         "x": [
          0,
          -0.22939
         ],
         "y": [
          0,
          1.881002
         ],
         "z": [
          0,
          0.639694
         ]
        },
        {
         "line": {
          "color": "rgb(20, 0, 145)",
          "width": 2
         },
         "mode": "lines",
         "type": "scatter3d",
         "x": [
          0,
          -0.22939
         ],
         "y": [
          0,
          1.881002
         ],
         "z": [
          0,
          0.639694
         ]
        },
        {
         "line": {
          "color": "rgb(20, 0, 145)",
          "width": 2
         },
         "mode": "lines",
         "type": "scatter3d",
         "x": [
          0,
          -0.230326
         ],
         "y": [
          0,
          1.88152
         ],
         "z": [
          0,
          0.637832
         ]
        },
        {
         "line": {
          "color": "rgb(20, 0, 145)",
          "width": 2
         },
         "mode": "lines",
         "type": "scatter3d",
         "x": [
          0,
          -0.229328
         ],
         "y": [
          0,
          1.881428
         ],
         "z": [
          0,
          0.638464
         ]
        },
        {
         "line": {
          "color": "rgb(20, 0, 145)",
          "width": 2
         },
         "mode": "lines",
         "type": "scatter3d",
         "x": [
          0,
          -0.230988
         ],
         "y": [
          0,
          1.882146
         ],
         "z": [
          0,
          0.635744
         ]
        },
        {
         "line": {
          "color": "rgb(20, 0, 145)",
          "width": 2
         },
         "mode": "lines",
         "type": "scatter3d",
         "x": [
          0,
          -0.229242
         ],
         "y": [
          0,
          1.881532
         ],
         "z": [
          0,
          0.638188
         ]
        },
        {
         "line": {
          "color": "rgb(20, 0, 145)",
          "width": 2
         },
         "mode": "lines",
         "type": "scatter3d",
         "x": [
          0,
          -0.232248
         ],
         "y": [
          0,
          1.882814
         ],
         "z": [
          0,
          0.633302
         ]
        },
        {
         "line": {
          "color": "rgb(20, 0, 145)",
          "width": 2
         },
         "mode": "lines",
         "type": "scatter3d",
         "x": [
          0,
          -0.232248
         ],
         "y": [
          0,
          1.882814
         ],
         "z": [
          0,
          0.633302
         ]
        },
        {
         "line": {
          "color": "rgb(20, 0, 145)",
          "width": 2
         },
         "mode": "lines",
         "type": "scatter3d",
         "x": [
          0,
          -0.229744
         ],
         "y": [
          0,
          1.881734
         ],
         "z": [
          0,
          0.637412
         ]
        },
        {
         "line": {
          "color": "rgb(20, 0, 145)",
          "width": 2
         },
         "mode": "lines",
         "type": "scatter3d",
         "x": [
          0,
          -0.229942
         ],
         "y": [
          0,
          1.88161
         ],
         "z": [
          0,
          0.637706
         ]
        },
        {
         "line": {
          "color": "rgb(20, 0, 145)",
          "width": 2
         },
         "mode": "lines",
         "type": "scatter3d",
         "x": [
          0,
          -0.229588
         ],
         "y": [
          0,
          1.882918
         ],
         "z": [
          0,
          0.633966
         ]
        },
        {
         "line": {
          "color": "rgb(20, 0, 145)",
          "width": 2
         },
         "mode": "lines",
         "type": "scatter3d",
         "x": [
          0,
          -0.229588
         ],
         "y": [
          0,
          1.882918
         ],
         "z": [
          0,
          0.633966
         ]
        },
        {
         "line": {
          "color": "rgb(20, 0, 145)",
          "width": 2
         },
         "mode": "lines",
         "type": "scatter3d",
         "x": [
          0,
          -0.231436
         ],
         "y": [
          0,
          1.88157
         ],
         "z": [
          0,
          0.637282
         ]
        },
        {
         "line": {
          "color": "rgb(20, 0, 145)",
          "width": 2
         },
         "mode": "lines",
         "type": "scatter3d",
         "x": [
          0,
          -0.231896
         ],
         "y": [
          0,
          1.8812
         ],
         "z": [
          0,
          0.63821
         ]
        },
        {
         "line": {
          "color": "rgb(20, 0, 145)",
          "width": 2
         },
         "mode": "lines",
         "type": "scatter3d",
         "x": [
          0,
          -0.226802
         ],
         "y": [
          0,
          1.882712
         ],
         "z": [
          0,
          0.635576
         ]
        },
        {
         "line": {
          "color": "rgb(20, 0, 145)",
          "width": 2
         },
         "mode": "lines",
         "type": "scatter3d",
         "x": [
          0,
          -0.226802
         ],
         "y": [
          0,
          1.882712
         ],
         "z": [
          0,
          0.635576
         ]
        },
        {
         "line": {
          "color": "rgb(20, 0, 145)",
          "width": 2
         },
         "mode": "lines",
         "type": "scatter3d",
         "x": [
          0,
          -0.218382
         ],
         "y": [
          0,
          1.88103
         ],
         "z": [
          0,
          0.643456
         ]
        },
        {
         "line": {
          "color": "rgb(20, 0, 145)",
          "width": 2
         },
         "mode": "lines",
         "type": "scatter3d",
         "x": [
          0,
          -0.22415
         ],
         "y": [
          0,
          1.880988
         ],
         "z": [
          0,
          0.641594
         ]
        },
        {
         "line": {
          "color": "rgb(20, 0, 145)",
          "width": 2
         },
         "mode": "lines",
         "type": "scatter3d",
         "x": [
          0,
          -0.22627
         ],
         "y": [
          0,
          1.879922
         ],
         "z": [
          0,
          0.64397
         ]
        },
        {
         "line": {
          "color": "rgb(20, 0, 145)",
          "width": 2
         },
         "mode": "lines",
         "type": "scatter3d",
         "x": [
          0,
          -0.226074
         ],
         "y": [
          0,
          1.879884
         ],
         "z": [
          0,
          0.644148
         ]
        },
        {
         "line": {
          "color": "rgb(20, 0, 145)",
          "width": 2
         },
         "mode": "lines",
         "type": "scatter3d",
         "x": [
          0,
          -0.22352
         ],
         "y": [
          0,
          1.88146
         ],
         "z": [
          0,
          0.64043
         ]
        },
        {
         "line": {
          "color": "rgb(20, 0, 145)",
          "width": 2
         },
         "mode": "lines",
         "type": "scatter3d",
         "x": [
          0,
          -0.22352
         ],
         "y": [
          0,
          1.88146
         ],
         "z": [
          0,
          0.64043
         ]
        },
        {
         "line": {
          "color": "rgb(20, 0, 145)",
          "width": 2
         },
         "mode": "lines",
         "type": "scatter3d",
         "x": [
          0,
          -0.226008
         ],
         "y": [
          0,
          1.880072
         ],
         "z": [
          0,
          0.643622
         ]
        },
        {
         "line": {
          "color": "rgb(20, 0, 145)",
          "width": 2
         },
         "mode": "lines",
         "type": "scatter3d",
         "x": [
          0,
          -0.22418
         ],
         "y": [
          0,
          1.88004
         ],
         "z": [
          0,
          0.644358
         ]
        },
        {
         "line": {
          "color": "rgb(20, 0, 145)",
          "width": 2
         },
         "mode": "lines",
         "type": "scatter3d",
         "x": [
          0,
          -0.221908
         ],
         "y": [
          0,
          1.879932
         ],
         "z": [
          0,
          0.645452
         ]
        },
        {
         "line": {
          "color": "rgb(20, 0, 145)",
          "width": 2
         },
         "mode": "lines",
         "type": "scatter3d",
         "x": [
          0,
          -0.225284
         ],
         "y": [
          0,
          1.880032
         ],
         "z": [
          0,
          0.64399
         ]
        },
        {
         "line": {
          "color": "rgb(20, 0, 145)",
          "width": 2
         },
         "mode": "lines",
         "type": "scatter3d",
         "x": [
          0,
          -0.225284
         ],
         "y": [
          0,
          1.880032
         ],
         "z": [
          0,
          0.64399
         ]
        },
        {
         "line": {
          "color": "rgb(20, 0, 145)",
          "width": 2
         },
         "mode": "lines",
         "type": "scatter3d",
         "x": [
          0,
          -0.226022
         ],
         "y": [
          0,
          1.880558
         ],
         "z": [
          0,
          0.642198
         ]
        },
        {
         "line": {
          "color": "rgb(20, 0, 145)",
          "width": 2
         },
         "mode": "lines",
         "type": "scatter3d",
         "x": [
          0,
          -0.221574
         ],
         "y": [
          0,
          1.880772
         ],
         "z": [
          0,
          0.643116
         ]
        },
        {
         "line": {
          "color": "rgb(20, 0, 145)",
          "width": 2
         },
         "mode": "lines",
         "type": "scatter3d",
         "x": [
          0,
          -0.219834
         ],
         "y": [
          0,
          1.88168
         ],
         "z": [
          0,
          0.641054
         ]
        },
        {
         "line": {
          "color": "rgb(20, 0, 145)",
          "width": 2
         },
         "mode": "lines",
         "type": "scatter3d",
         "x": [
          0,
          -0.223588
         ],
         "y": [
          0,
          1.880364
         ],
         "z": [
          0,
          0.643614
         ]
        },
        {
         "line": {
          "color": "rgb(20, 0, 145)",
          "width": 2
         },
         "mode": "lines",
         "type": "scatter3d",
         "x": [
          0,
          -0.219026
         ],
         "y": [
          0,
          1.881298
         ],
         "z": [
          0,
          0.642452
         ]
        },
        {
         "line": {
          "color": "rgb(20, 0, 145)",
          "width": 2
         },
         "mode": "lines",
         "type": "scatter3d",
         "x": [
          0,
          -0.219026
         ],
         "y": [
          0,
          1.881298
         ],
         "z": [
          0,
          0.642452
         ]
        },
        {
         "line": {
          "color": "rgb(20, 0, 145)",
          "width": 2
         },
         "mode": "lines",
         "type": "scatter3d",
         "x": [
          0,
          -0.22113
         ],
         "y": [
          0,
          1.880988
         ],
         "z": [
          0,
          0.642638
         ]
        },
        {
         "line": {
          "color": "rgb(20, 0, 145)",
          "width": 2
         },
         "mode": "lines",
         "type": "scatter3d",
         "x": [
          0,
          -0.21786
         ],
         "y": [
          0,
          1.881376
         ],
         "z": [
          0,
          0.642618
         ]
        },
        {
         "line": {
          "color": "rgb(20, 0, 145)",
          "width": 2
         },
         "mode": "lines",
         "type": "scatter3d",
         "x": [
          0,
          -0.221394
         ],
         "y": [
          0,
          1.88275
         ],
         "z": [
          0,
          0.63737
         ]
        },
        {
         "line": {
          "color": "rgb(20, 0, 145)",
          "width": 2
         },
         "mode": "lines",
         "type": "scatter3d",
         "x": [
          0,
          -0.221394
         ],
         "y": [
          0,
          1.88275
         ],
         "z": [
          0,
          0.63737
         ]
        },
        {
         "line": {
          "color": "rgb(20, 0, 145)",
          "width": 2
         },
         "mode": "lines",
         "type": "scatter3d",
         "x": [
          0,
          -0.219672
         ],
         "y": [
          0,
          1.882184
         ],
         "z": [
          0,
          0.639632
         ]
        },
        {
         "line": {
          "color": "rgb(20, 0, 145)",
          "width": 2
         },
         "mode": "lines",
         "type": "scatter3d",
         "x": [
          0,
          -0.219842
         ],
         "y": [
          0,
          1.881874
         ],
         "z": [
          0,
          0.640484
         ]
        },
        {
         "line": {
          "color": "rgb(20, 0, 145)",
          "width": 2
         },
         "mode": "lines",
         "type": "scatter3d",
         "x": [
          0,
          -0.21984
         ],
         "y": [
          0,
          1.88069
         ],
         "z": [
          0,
          0.643954
         ]
        },
        {
         "line": {
          "color": "rgb(20, 0, 145)",
          "width": 2
         },
         "mode": "lines",
         "type": "scatter3d",
         "x": [
          0,
          -0.219916
         ],
         "y": [
          0,
          1.882548
         ],
         "z": [
          0,
          0.638474
         ]
        },
        {
         "line": {
          "color": "rgb(20, 0, 145)",
          "width": 2
         },
         "mode": "lines",
         "type": "scatter3d",
         "x": [
          0,
          -0.219916
         ],
         "y": [
          0,
          1.882548
         ],
         "z": [
          0,
          0.638474
         ]
        },
        {
         "line": {
          "color": "rgb(20, 0, 145)",
          "width": 2
         },
         "mode": "lines",
         "type": "scatter3d",
         "x": [
          0,
          -0.218276
         ],
         "y": [
          0,
          1.881614
         ],
         "z": [
          0,
          0.641782
         ]
        },
        {
         "line": {
          "color": "rgb(20, 0, 145)",
          "width": 2
         },
         "mode": "lines",
         "type": "scatter3d",
         "x": [
          0,
          -0.216222
         ],
         "y": [
          0,
          1.883488
         ],
         "z": [
          0,
          0.636964
         ]
        },
        {
         "line": {
          "color": "rgb(20, 0, 145)",
          "width": 2
         },
         "mode": "lines",
         "type": "scatter3d",
         "x": [
          0,
          -0.216352
         ],
         "y": [
          0,
          1.882772
         ],
         "z": [
          0,
          0.63903
         ]
        },
        {
         "line": {
          "color": "rgb(20, 0, 145)",
          "width": 2
         },
         "mode": "lines",
         "type": "scatter3d",
         "x": [
          0,
          -0.216352
         ],
         "y": [
          0,
          1.882772
         ],
         "z": [
          0,
          0.63903
         ]
        },
        {
         "line": {
          "color": "rgb(20, 0, 145)",
          "width": 2
         },
         "mode": "lines",
         "type": "scatter3d",
         "x": [
          0,
          -0.220456
         ],
         "y": [
          0,
          1.88162
         ],
         "z": [
          0,
          0.641022
         ]
        },
        {
         "line": {
          "color": "rgb(20, 0, 145)",
          "width": 2
         },
         "mode": "lines",
         "type": "scatter3d",
         "x": [
          0,
          -0.214824
         ],
         "y": [
          0,
          1.88168
         ],
         "z": [
          0,
          0.64275
         ]
        },
        {
         "line": {
          "color": "rgb(20, 0, 145)",
          "width": 2
         },
         "mode": "lines",
         "type": "scatter3d",
         "x": [
          0,
          -0.218394
         ],
         "y": [
          0,
          1.881612
         ],
         "z": [
          0,
          0.641748
         ]
        },
        {
         "line": {
          "color": "rgb(20, 0, 145)",
          "width": 2
         },
         "mode": "lines",
         "type": "scatter3d",
         "x": [
          0,
          -0.216692
         ],
         "y": [
          0,
          1.882466
         ],
         "z": [
          0,
          0.63982
         ]
        },
        {
         "line": {
          "color": "rgb(20, 0, 145)",
          "width": 2
         },
         "mode": "lines",
         "type": "scatter3d",
         "x": [
          0,
          -0.217538
         ],
         "y": [
          0,
          1.881714
         ],
         "z": [
          0,
          0.641736
         ]
        },
        {
         "line": {
          "color": "rgb(20, 0, 145)",
          "width": 2
         },
         "mode": "lines",
         "type": "scatter3d",
         "x": [
          0,
          -0.217538
         ],
         "y": [
          0,
          1.881714
         ],
         "z": [
          0,
          0.641736
         ]
        },
        {
         "line": {
          "color": "rgb(20, 0, 145)",
          "width": 2
         },
         "mode": "lines",
         "type": "scatter3d",
         "x": [
          0,
          -0.217386
         ],
         "y": [
          0,
          1.88154
         ],
         "z": [
          0,
          0.642304
         ]
        },
        {
         "line": {
          "color": "rgb(20, 0, 145)",
          "width": 2
         },
         "mode": "lines",
         "type": "scatter3d",
         "x": [
          0,
          -0.217016
         ],
         "y": [
          0,
          1.882654
         ],
         "z": [
          0,
          0.639156
         ]
        },
        {
         "line": {
          "color": "rgb(20, 0, 145)",
          "width": 2
         },
         "mode": "lines",
         "type": "scatter3d",
         "x": [
          0,
          -0.216984
         ],
         "y": [
          0,
          1.882196
         ],
         "z": [
          0,
          0.64051
         ]
        },
        {
         "line": {
          "color": "rgb(20, 0, 145)",
          "width": 2
         },
         "mode": "lines",
         "type": "scatter3d",
         "x": [
          0,
          -0.215964
         ],
         "y": [
          0,
          1.883006
         ],
         "z": [
          0,
          0.638474
         ]
        },
        {
         "line": {
          "color": "rgb(20, 0, 145)",
          "width": 2
         },
         "mode": "lines",
         "type": "scatter3d",
         "x": [
          0,
          -0.21648
         ],
         "y": [
          0,
          1.883078
         ],
         "z": [
          0,
          0.638088
         ]
        },
        {
         "line": {
          "color": "rgb(20, 0, 145)",
          "width": 2
         },
         "mode": "lines",
         "type": "scatter3d",
         "x": [
          0,
          -0.21648
         ],
         "y": [
          0,
          1.883078
         ],
         "z": [
          0,
          0.638088
         ]
        },
        {
         "line": {
          "color": "rgb(20, 0, 145)",
          "width": 2
         },
         "mode": "lines",
         "type": "scatter3d",
         "x": [
          0,
          -0.218392
         ],
         "y": [
          0,
          1.881866
         ],
         "z": [
          0,
          0.641006
         ]
        },
        {
         "line": {
          "color": "rgb(20, 0, 145)",
          "width": 2
         },
         "mode": "lines",
         "type": "scatter3d",
         "x": [
          0,
          -0.220168
         ],
         "y": [
          0,
          1.881878
         ],
         "z": [
          0,
          0.64036
         ]
        },
        {
         "line": {
          "color": "rgb(20, 0, 145)",
          "width": 2
         },
         "mode": "lines",
         "type": "scatter3d",
         "x": [
          0,
          -0.218378
         ],
         "y": [
          0,
          1.881324
         ],
         "z": [
          0,
          0.642598
         ]
        },
        {
         "line": {
          "color": "rgb(20, 0, 145)",
          "width": 2
         },
         "mode": "lines",
         "type": "scatter3d",
         "x": [
          0,
          -0.218378
         ],
         "y": [
          0,
          1.881324
         ],
         "z": [
          0,
          0.642598
         ]
        },
        {
         "line": {
          "color": "rgb(20, 0, 145)",
          "width": 2
         },
         "mode": "lines",
         "type": "scatter3d",
         "x": [
          0,
          -0.216534
         ],
         "y": [
          0,
          1.88427
         ],
         "z": [
          0,
          0.634542
         ]
        },
        {
         "line": {
          "color": "rgb(20, 0, 145)",
          "width": 2
         },
         "mode": "lines",
         "type": "scatter3d",
         "x": [
          0,
          -0.21736
         ],
         "y": [
          0,
          1.883794
         ],
         "z": [
          0,
          0.635668
         ]
        },
        {
         "line": {
          "color": "rgb(20, 0, 145)",
          "width": 2
         },
         "mode": "lines",
         "type": "scatter3d",
         "x": [
          0,
          -0.217734
         ],
         "y": [
          0,
          1.88408
         ],
         "z": [
          0,
          0.634692
         ]
        },
        {
         "line": {
          "color": "rgb(20, 0, 145)",
          "width": 2
         },
         "mode": "lines",
         "type": "scatter3d",
         "x": [
          0,
          -0.21959
         ],
         "y": [
          0,
          1.882846
         ],
         "z": [
          0,
          0.63771
         ]
        },
        {
         "line": {
          "color": "rgb(20, 0, 145)",
          "width": 2
         },
         "mode": "lines",
         "type": "scatter3d",
         "x": [
          0,
          -0.21959
         ],
         "y": [
          0,
          1.882846
         ],
         "z": [
          0,
          0.63771
         ]
        },
        {
         "line": {
          "color": "rgb(20, 0, 145)",
          "width": 2
         },
         "mode": "lines",
         "type": "scatter3d",
         "x": [
          0,
          -0.21515
         ],
         "y": [
          0,
          1.884448
         ],
         "z": [
          0,
          0.63448
         ]
        },
        {
         "line": {
          "color": "rgb(20, 0, 145)",
          "width": 2
         },
         "mode": "lines",
         "type": "scatter3d",
         "x": [
          0,
          -0.217206
         ],
         "y": [
          0,
          1.883526
         ],
         "z": [
          0,
          0.636516
         ]
        },
        {
         "line": {
          "color": "rgb(20, 0, 145)",
          "width": 2
         },
         "mode": "lines",
         "type": "scatter3d",
         "x": [
          0,
          -0.215998
         ],
         "y": [
          0,
          1.884742
         ],
         "z": [
          0,
          0.63332
         ]
        },
        {
         "line": {
          "color": "rgb(20, 0, 145)",
          "width": 2
         },
         "mode": "lines",
         "type": "scatter3d",
         "x": [
          0,
          -0.215998
         ],
         "y": [
          0,
          1.884742
         ],
         "z": [
          0,
          0.63332
         ]
        },
        {
         "line": {
          "color": "rgb(20, 0, 145)",
          "width": 2
         },
         "mode": "lines",
         "type": "scatter3d",
         "x": [
          0,
          -0.216814
         ],
         "y": [
          0,
          1.883794
         ],
         "z": [
          0,
          0.635856
         ]
        },
        {
         "line": {
          "color": "rgb(20, 0, 145)",
          "width": 2
         },
         "mode": "lines",
         "type": "scatter3d",
         "x": [
          0,
          -0.217768
         ],
         "y": [
          0,
          1.883524
         ],
         "z": [
          0,
          0.63633
         ]
        },
        {
         "line": {
          "color": "rgb(20, 0, 145)",
          "width": 2
         },
         "mode": "lines",
         "type": "scatter3d",
         "x": [
          0,
          -0.218678
         ],
         "y": [
          0,
          1.884286
         ],
         "z": [
          0,
          0.633758
         ]
        },
        {
         "line": {
          "color": "rgb(20, 0, 145)",
          "width": 2
         },
         "mode": "lines",
         "type": "scatter3d",
         "x": [
          0,
          -0.217832
         ],
         "y": [
          0,
          1.884602
         ],
         "z": [
          0,
          0.633108
         ]
        },
        {
         "line": {
          "color": "rgb(20, 0, 145)",
          "width": 2
         },
         "mode": "lines",
         "type": "scatter3d",
         "x": [
          0,
          -0.218036
         ],
         "y": [
          0,
          1.885208
         ],
         "z": [
          0,
          0.63123
         ]
        },
        {
         "line": {
          "color": "rgb(20, 0, 145)",
          "width": 2
         },
         "mode": "lines",
         "type": "scatter3d",
         "x": [
          0,
          -0.218036
         ],
         "y": [
          0,
          1.885208
         ],
         "z": [
          0,
          0.63123
         ]
        },
        {
         "line": {
          "color": "rgb(20, 0, 145)",
          "width": 2
         },
         "mode": "lines",
         "type": "scatter3d",
         "x": [
          0,
          -0.219924
         ],
         "y": [
          0,
          1.884152
         ],
         "z": [
          0,
          0.633726
         ]
        },
        {
         "line": {
          "color": "rgb(20, 0, 145)",
          "width": 2
         },
         "mode": "lines",
         "type": "scatter3d",
         "x": [
          0,
          -0.21689
         ],
         "y": [
          0,
          1.88559
         ],
         "z": [
          0,
          0.630482
         ]
        },
        {
         "line": {
          "color": "rgb(20, 0, 145)",
          "width": 2
         },
         "mode": "lines",
         "type": "scatter3d",
         "x": [
          0,
          -0.21991
         ],
         "y": [
          0,
          1.883844
         ],
         "z": [
          0,
          0.634646
         ]
        },
        {
         "line": {
          "color": "rgb(20, 0, 145)",
          "width": 2
         },
         "mode": "lines",
         "type": "scatter3d",
         "x": [
          0,
          -0.214834
         ],
         "y": [
          0,
          1.88509
         ],
         "z": [
          0,
          0.63268
         ]
        },
        {
         "line": {
          "color": "rgb(20, 0, 145)",
          "width": 2
         },
         "mode": "lines",
         "type": "scatter3d",
         "x": [
          0,
          -0.214834
         ],
         "y": [
          0,
          1.88509
         ],
         "z": [
          0,
          0.63268
         ]
        },
        {
         "line": {
          "color": "rgb(20, 0, 145)",
          "width": 2
         },
         "mode": "lines",
         "type": "scatter3d",
         "x": [
          0,
          -0.217168
         ],
         "y": [
          0,
          1.885794
         ],
         "z": [
          0,
          0.629778
         ]
        },
        {
         "line": {
          "color": "rgb(20, 0, 145)",
          "width": 2
         },
         "mode": "lines",
         "type": "scatter3d",
         "x": [
          0,
          -0.217806
         ],
         "y": [
          0,
          1.883208
         ],
         "z": [
          0,
          0.637252
         ]
        },
        {
         "line": {
          "color": "rgb(20, 0, 145)",
          "width": 2
         },
         "mode": "lines",
         "type": "scatter3d",
         "x": [
          0,
          -0.212196
         ],
         "y": [
          0,
          1.881956
         ],
         "z": [
          0,
          0.642816
         ]
        },
        {
         "line": {
          "color": "rgb(20, 0, 145)",
          "width": 2
         },
         "mode": "lines",
         "type": "scatter3d",
         "x": [
          0,
          -0.20928
         ],
         "y": [
          0,
          1.881364
         ],
         "z": [
          0,
          0.645504
         ]
        },
        {
         "line": {
          "color": "rgb(20, 0, 145)",
          "width": 2
         },
         "mode": "lines",
         "type": "scatter3d",
         "x": [
          0,
          -0.211008
         ],
         "y": [
          0,
          1.88012
         ],
         "z": [
          0,
          0.648558
         ]
        },
        {
         "line": {
          "color": "rgb(20, 0, 145)",
          "width": 2
         },
         "mode": "lines",
         "type": "scatter3d",
         "x": [
          0,
          -0.211008
         ],
         "y": [
          0,
          1.88012
         ],
         "z": [
          0,
          0.648558
         ]
        },
        {
         "line": {
          "color": "rgb(20, 0, 145)",
          "width": 2
         },
         "mode": "lines",
         "type": "scatter3d",
         "x": [
          0,
          -0.217658
         ],
         "y": [
          0,
          1.878266
         ],
         "z": [
          0,
          0.65172
         ]
        },
        {
         "line": {
          "color": "rgb(20, 0, 145)",
          "width": 2
         },
         "mode": "lines",
         "type": "scatter3d",
         "x": [
          0,
          -0.217094
         ],
         "y": [
          0,
          1.878102
         ],
         "z": [
          0,
          0.652382
         ]
        },
        {
         "line": {
          "color": "rgb(20, 0, 145)",
          "width": 2
         },
         "mode": "lines",
         "type": "scatter3d",
         "x": [
          0,
          -0.218618
         ],
         "y": [
          0,
          1.878662
         ],
         "z": [
          0,
          0.65026
         ]
        },
        {
         "line": {
          "color": "rgb(20, 0, 145)",
          "width": 2
         },
         "mode": "lines",
         "type": "scatter3d",
         "x": [
          0,
          -0.215526
         ],
         "y": [
          0,
          1.879118
         ],
         "z": [
          0,
          0.649974
         ]
        },
        {
         "line": {
          "color": "rgb(20, 0, 145)",
          "width": 2
         },
         "mode": "lines",
         "type": "scatter3d",
         "x": [
          0,
          -0.2093
         ],
         "y": [
          0,
          1.8825
         ],
         "z": [
          0,
          0.642172
         ]
        },
        {
         "line": {
          "color": "rgb(20, 0, 145)",
          "width": 2
         },
         "mode": "lines",
         "type": "scatter3d",
         "x": [
          0,
          -0.20731
         ],
         "y": [
          0,
          1.884356
         ],
         "z": [
          0,
          0.637358
         ]
        },
        {
         "line": {
          "color": "rgb(20, 0, 145)",
          "width": 2
         },
         "mode": "lines",
         "type": "scatter3d",
         "x": [
          0,
          -0.0275842
         ],
         "y": [
          0,
          1.888012
         ],
         "z": [
          0,
          0.659282
         ]
        },
        {
         "line": {
          "color": "rgb(20, 0, 145)",
          "width": 2
         },
         "mode": "lines",
         "type": "scatter3d",
         "x": [
          0,
          -0.031196
         ],
         "y": [
          0,
          1.888734
         ],
         "z": [
          0,
          0.657046
         ]
        },
        {
         "line": {
          "color": "rgb(20, 0, 145)",
          "width": 2
         },
         "mode": "lines",
         "type": "scatter3d",
         "x": [
          0,
          -0.027978
         ],
         "y": [
          0,
          1.887538
         ],
         "z": [
          0,
          0.660618
         ]
        },
        {
         "line": {
          "color": "rgb(20, 0, 145)",
          "width": 2
         },
         "mode": "lines",
         "type": "scatter3d",
         "x": [
          0,
          -0.027978
         ],
         "y": [
          0,
          1.887538
         ],
         "z": [
          0,
          0.660618
         ]
        },
        {
         "line": {
          "color": "rgb(20, 0, 145)",
          "width": 2
         },
         "mode": "lines",
         "type": "scatter3d",
         "x": [
          0,
          -0.0311938
         ],
         "y": [
          0,
          1.888736
         ],
         "z": [
          0,
          0.65704
         ]
        },
        {
         "line": {
          "color": "rgb(20, 0, 145)",
          "width": 2
         },
         "mode": "lines",
         "type": "scatter3d",
         "x": [
          0,
          -0.028224
         ],
         "y": [
          0,
          1.88893
         ],
         "z": [
          0,
          0.656618
         ]
        },
        {
         "line": {
          "color": "rgb(20, 0, 145)",
          "width": 2
         },
         "mode": "lines",
         "type": "scatter3d",
         "x": [
          0,
          -0.0318616
         ],
         "y": [
          0,
          1.889326
         ],
         "z": [
          0,
          0.655308
         ]
        },
        {
         "line": {
          "color": "rgb(20, 0, 145)",
          "width": 2
         },
         "mode": "lines",
         "type": "scatter3d",
         "x": [
          0,
          -0.0292886
         ],
         "y": [
          0,
          1.889892
         ],
         "z": [
          0,
          0.653798
         ]
        },
        {
         "line": {
          "color": "rgb(20, 0, 145)",
          "width": 2
         },
         "mode": "lines",
         "type": "scatter3d",
         "x": [
          0,
          -0.0292886
         ],
         "y": [
          0,
          1.889892
         ],
         "z": [
          0,
          0.653798
         ]
        },
        {
         "line": {
          "color": "rgb(20, 0, 145)",
          "width": 2
         },
         "mode": "lines",
         "type": "scatter3d",
         "x": [
          0,
          -0.030904
         ],
         "y": [
          0,
          1.889804
         ],
         "z": [
          0,
          0.653976
         ]
        },
        {
         "line": {
          "color": "rgb(20, 0, 145)",
          "width": 2
         },
         "mode": "lines",
         "type": "scatter3d",
         "x": [
          0,
          -0.029631
         ],
         "y": [
          0,
          1.890356
         ],
         "z": [
          0,
          0.65244
         ]
        },
        {
         "line": {
          "color": "rgb(20, 0, 145)",
          "width": 2
         },
         "mode": "lines",
         "type": "scatter3d",
         "x": [
          0,
          -0.0305558
         ],
         "y": [
          0,
          1.890746
         ],
         "z": [
          0,
          0.651268
         ]
        },
        {
         "line": {
          "color": "rgb(20, 0, 145)",
          "width": 2
         },
         "mode": "lines",
         "type": "scatter3d",
         "x": [
          0,
          -0.0281102
         ],
         "y": [
          0,
          1.891976
         ],
         "z": [
          0,
          0.647796
         ]
        },
        {
         "line": {
          "color": "rgb(20, 0, 145)",
          "width": 2
         },
         "mode": "lines",
         "type": "scatter3d",
         "x": [
          0,
          -0.0281102
         ],
         "y": [
          0,
          1.891976
         ],
         "z": [
          0,
          0.647796
         ]
        },
        {
         "line": {
          "color": "rgb(20, 0, 145)",
          "width": 2
         },
         "mode": "lines",
         "type": "scatter3d",
         "x": [
          0,
          -0.025504
         ],
         "y": [
          0,
          1.892884
         ],
         "z": [
          0,
          0.645244
         ]
        },
        {
         "line": {
          "color": "rgb(20, 0, 145)",
          "width": 2
         },
         "mode": "lines",
         "type": "scatter3d",
         "x": [
          0,
          -0.0279886
         ],
         "y": [
          0,
          1.892656
         ],
         "z": [
          0,
          0.645812
         ]
        },
        {
         "line": {
          "color": "rgb(20, 0, 145)",
          "width": 2
         },
         "mode": "lines",
         "type": "scatter3d",
         "x": [
          0,
          -0.0284958
         ],
         "y": [
          0,
          1.8931
         ],
         "z": [
          0,
          0.644482
         ]
        },
        {
         "line": {
          "color": "rgb(20, 0, 145)",
          "width": 2
         },
         "mode": "lines",
         "type": "scatter3d",
         "x": [
          0,
          -0.0284958
         ],
         "y": [
          0,
          1.8931
         ],
         "z": [
          0,
          0.644482
         ]
        },
        {
         "line": {
          "color": "rgb(20, 0, 145)",
          "width": 2
         },
         "mode": "lines",
         "type": "scatter3d",
         "x": [
          0,
          -0.0303686
         ],
         "y": [
          0,
          1.894192
         ],
         "z": [
          0,
          0.64118
         ]
        },
        {
         "line": {
          "color": "rgb(20, 0, 145)",
          "width": 2
         },
         "mode": "lines",
         "type": "scatter3d",
         "x": [
          0,
          -0.0259756
         ],
         "y": [
          0,
          1.893606
         ],
         "z": [
          0,
          0.643104
         ]
        },
        {
         "line": {
          "color": "rgb(20, 0, 145)",
          "width": 2
         },
         "mode": "lines",
         "type": "scatter3d",
         "x": [
          0,
          -0.0317866
         ],
         "y": [
          0,
          1.893784
         ],
         "z": [
          0,
          0.642318
         ]
        },
        {
         "line": {
          "color": "rgb(20, 0, 145)",
          "width": 2
         },
         "mode": "lines",
         "type": "scatter3d",
         "x": [
          0,
          -0.0285552
         ],
         "y": [
          0,
          1.893628
         ],
         "z": [
          0,
          0.64293
         ]
        },
        {
         "line": {
          "color": "rgb(20, 0, 145)",
          "width": 2
         },
         "mode": "lines",
         "type": "scatter3d",
         "x": [
          0,
          -0.0320712
         ],
         "y": [
          0,
          1.891488
         ],
         "z": [
          0,
          0.649034
         ]
        },
        {
         "line": {
          "color": "rgb(20, 0, 145)",
          "width": 2
         },
         "mode": "lines",
         "type": "scatter3d",
         "x": [
          0,
          -0.0320712
         ],
         "y": [
          0,
          1.891488
         ],
         "z": [
          0,
          0.649034
         ]
        },
        {
         "line": {
          "color": "rgb(20, 0, 145)",
          "width": 2
         },
         "mode": "lines",
         "type": "scatter3d",
         "x": [
          0,
          -0.0295862
         ],
         "y": [
          0,
          1.891656
         ],
         "z": [
          0,
          0.648662
         ]
        },
        {
         "line": {
          "color": "rgb(20, 0, 145)",
          "width": 2
         },
         "mode": "lines",
         "type": "scatter3d",
         "x": [
          0,
          -0.0306554
         ],
         "y": [
          0,
          1.892606
         ],
         "z": [
          0,
          0.645832
         ]
        },
        {
         "line": {
          "color": "rgb(20, 0, 145)",
          "width": 2
         },
         "mode": "lines",
         "type": "scatter3d",
         "x": [
          0,
          -0.0296678
         ],
         "y": [
          0,
          1.891344
         ],
         "z": [
          0,
          0.649564
         ]
        },
        {
         "line": {
          "color": "rgb(20, 0, 145)",
          "width": 2
         },
         "mode": "lines",
         "type": "scatter3d",
         "x": [
          0,
          -0.0278684
         ],
         "y": [
          0,
          1.89287
         ],
         "z": [
          0,
          0.645186
         ]
        },
        {
         "line": {
          "color": "rgb(20, 0, 145)",
          "width": 2
         },
         "mode": "lines",
         "type": "scatter3d",
         "x": [
          0,
          -0.0278684
         ],
         "y": [
          0,
          1.89287
         ],
         "z": [
          0,
          0.645186
         ]
        },
        {
         "line": {
          "color": "rgb(20, 0, 145)",
          "width": 2
         },
         "mode": "lines",
         "type": "scatter3d",
         "x": [
          0,
          -0.0302714
         ],
         "y": [
          0,
          1.891658
         ],
         "z": [
          0,
          0.648626
         ]
        },
        {
         "line": {
          "color": "rgb(20, 0, 145)",
          "width": 2
         },
         "mode": "lines",
         "type": "scatter3d",
         "x": [
          0,
          -0.03099
         ],
         "y": [
          0,
          1.890948
         ],
         "z": [
          0,
          0.650658
         ]
        },
        {
         "line": {
          "color": "rgb(20, 0, 145)",
          "width": 2
         },
         "mode": "lines",
         "type": "scatter3d",
         "x": [
          0,
          -0.032236
         ],
         "y": [
          0,
          1.891698
         ],
         "z": [
          0,
          0.648414
         ]
        },
        {
         "line": {
          "color": "rgb(20, 0, 145)",
          "width": 2
         },
         "mode": "lines",
         "type": "scatter3d",
         "x": [
          0,
          -0.032236
         ],
         "y": [
          0,
          1.891698
         ],
         "z": [
          0,
          0.648414
         ]
        },
        {
         "line": {
          "color": "rgb(20, 0, 145)",
          "width": 2
         },
         "mode": "lines",
         "type": "scatter3d",
         "x": [
          0,
          -0.0292842
         ],
         "y": [
          0,
          1.891266
         ],
         "z": [
          0,
          0.649812
         ]
        },
        {
         "line": {
          "color": "rgb(20, 0, 145)",
          "width": 2
         },
         "mode": "lines",
         "type": "scatter3d",
         "x": [
          0,
          -0.029078
         ],
         "y": [
          0,
          1.892976
         ],
         "z": [
          0,
          0.644824
         ]
        },
        {
         "line": {
          "color": "rgb(20, 0, 145)",
          "width": 2
         },
         "mode": "lines",
         "type": "scatter3d",
         "x": [
          0,
          -0.02892
         ],
         "y": [
          0,
          1.891446
         ],
         "z": [
          0,
          0.649306
         ]
        },
        {
         "line": {
          "color": "rgb(20, 0, 145)",
          "width": 2
         },
         "mode": "lines",
         "type": "scatter3d",
         "x": [
          0,
          -0.0302572
         ],
         "y": [
          0,
          1.891788
         ],
         "z": [
          0,
          0.648248
         ]
        },
        {
         "line": {
          "color": "rgb(20, 0, 145)",
          "width": 2
         },
         "mode": "lines",
         "type": "scatter3d",
         "x": [
          0,
          -0.0285502
         ],
         "y": [
          0,
          1.89205
         ],
         "z": [
          0,
          0.64756
         ]
        },
        {
         "line": {
          "color": "rgb(20, 0, 145)",
          "width": 2
         },
         "mode": "lines",
         "type": "scatter3d",
         "x": [
          0,
          -0.0285502
         ],
         "y": [
          0,
          1.89205
         ],
         "z": [
          0,
          0.64756
         ]
        },
        {
         "line": {
          "color": "rgb(20, 0, 145)",
          "width": 2
         },
         "mode": "lines",
         "type": "scatter3d",
         "x": [
          0,
          -0.0310472
         ],
         "y": [
          0,
          1.892114
         ],
         "z": [
          0,
          0.647258
         ]
        },
        {
         "line": {
          "color": "rgb(20, 0, 145)",
          "width": 2
         },
         "mode": "lines",
         "type": "scatter3d",
         "x": [
          0,
          -0.0273702
         ],
         "y": [
          0,
          1.89491
         ],
         "z": [
          0,
          0.63919
         ]
        },
        {
         "line": {
          "color": "rgb(20, 0, 145)",
          "width": 2
         },
         "mode": "lines",
         "type": "scatter3d",
         "x": [
          0,
          -0.023204
         ],
         "y": [
          0,
          1.900584
         ],
         "z": [
          0,
          0.622288
         ]
        },
        {
         "line": {
          "color": "rgb(20, 0, 145)",
          "width": 2
         },
         "mode": "lines",
         "type": "scatter3d",
         "x": [
          0,
          0.001197766
         ],
         "y": [
          0,
          1.90769
         ],
         "z": [
          0,
          0.600598
         ]
        },
        {
         "line": {
          "color": "rgb(20, 0, 145)",
          "width": 2
         },
         "mode": "lines",
         "type": "scatter3d",
         "x": [
          0,
          0.001197766
         ],
         "y": [
          0,
          1.90769
         ],
         "z": [
          0,
          0.600598
         ]
        },
        {
         "line": {
          "color": "rgb(20, 0, 145)",
          "width": 2
         },
         "mode": "lines",
         "type": "scatter3d",
         "x": [
          0,
          0.0246534
         ],
         "y": [
          0,
          1.904016
         ],
         "z": [
          0,
          0.611652
         ]
        },
        {
         "line": {
          "color": "rgb(20, 0, 145)",
          "width": 2
         },
         "mode": "lines",
         "type": "scatter3d",
         "x": [
          0,
          0.0344024
         ],
         "y": [
          0,
          1.896512
         ],
         "z": [
          0,
          0.634082
         ]
        },
        {
         "line": {
          "color": "rgb(20, 0, 145)",
          "width": 2
         },
         "mode": "lines",
         "type": "scatter3d",
         "x": [
          0,
          0.0387388
         ],
         "y": [
          0,
          1.894384
         ],
         "z": [
          0,
          0.64016
         ]
        },
        {
         "line": {
          "color": "rgb(20, 0, 145)",
          "width": 2
         },
         "mode": "lines",
         "type": "scatter3d",
         "x": [
          0,
          0.0268282
         ],
         "y": [
          0,
          1.887326
         ],
         "z": [
          0,
          0.661274
         ]
        },
        {
         "line": {
          "color": "rgb(20, 0, 145)",
          "width": 2
         },
         "mode": "lines",
         "type": "scatter3d",
         "x": [
          0,
          0.0268282
         ],
         "y": [
          0,
          1.887326
         ],
         "z": [
          0,
          0.661274
         ]
        },
        {
         "line": {
          "color": "rgb(20, 0, 145)",
          "width": 2
         },
         "mode": "lines",
         "type": "scatter3d",
         "x": [
          0,
          0.01626382
         ],
         "y": [
          0,
          1.890352
         ],
         "z": [
          0,
          0.65292
         ]
        },
        {
         "line": {
          "color": "rgb(20, 0, 145)",
          "width": 2
         },
         "mode": "lines",
         "type": "scatter3d",
         "x": [
          0,
          0.00811786
         ],
         "y": [
          0,
          1.89085
         ],
         "z": [
          0,
          0.65163
         ]
        },
        {
         "line": {
          "color": "rgb(20, 0, 145)",
          "width": 2
         },
         "mode": "lines",
         "type": "scatter3d",
         "x": [
          0,
          0.000507692
         ],
         "y": [
          0,
          1.89243
         ],
         "z": [
          0,
          0.647074
         ]
        },
        {
         "line": {
          "color": "rgb(20, 0, 145)",
          "width": 2
         },
         "mode": "lines",
         "type": "scatter3d",
         "x": [
          0,
          -0.0026875
         ],
         "y": [
          0,
          1.894498
         ],
         "z": [
          0,
          0.64099
         ]
        },
        {
         "line": {
          "color": "rgb(20, 0, 145)",
          "width": 2
         },
         "mode": "lines",
         "type": "scatter3d",
         "x": [
          0,
          -0.0026875
         ],
         "y": [
          0,
          1.894498
         ],
         "z": [
          0,
          0.64099
         ]
        },
        {
         "line": {
          "color": "rgb(20, 0, 145)",
          "width": 2
         },
         "mode": "lines",
         "type": "scatter3d",
         "x": [
          0,
          0.00240614
         ],
         "y": [
          0,
          1.894944
         ],
         "z": [
          0,
          0.639676
         ]
        },
        {
         "line": {
          "color": "rgb(20, 0, 145)",
          "width": 2
         },
         "mode": "lines",
         "type": "scatter3d",
         "x": [
          0,
          -0.000938938
         ],
         "y": [
          0,
          1.894284
         ],
         "z": [
          0,
          0.641626
         ]
        },
        {
         "line": {
          "color": "rgb(20, 0, 145)",
          "width": 2
         },
         "mode": "lines",
         "type": "scatter3d",
         "x": [
          0,
          0.00232406
         ],
         "y": [
          0,
          1.895632
         ],
         "z": [
          0,
          0.637634
         ]
        },
        {
         "line": {
          "color": "rgb(20, 0, 145)",
          "width": 2
         },
         "mode": "lines",
         "type": "scatter3d",
         "x": [
          0,
          -0.0023555
         ],
         "y": [
          0,
          1.896892
         ],
         "z": [
          0,
          0.633876
         ]
        },
        {
         "line": {
          "color": "rgb(20, 0, 145)",
          "width": 2
         },
         "mode": "lines",
         "type": "scatter3d",
         "x": [
          0,
          -0.00026757
         ],
         "y": [
          0,
          1.89521
         ],
         "z": [
          0,
          0.63889
         ]
        },
        {
         "line": {
          "color": "rgb(20, 0, 145)",
          "width": 2
         },
         "mode": "lines",
         "type": "scatter3d",
         "x": [
          0,
          -0.00026757
         ],
         "y": [
          0,
          1.89521
         ],
         "z": [
          0,
          0.63889
         ]
        },
        {
         "line": {
          "color": "rgb(20, 0, 145)",
          "width": 2
         },
         "mode": "lines",
         "type": "scatter3d",
         "x": [
          0,
          0.0001136336
         ],
         "y": [
          0,
          1.895842
         ],
         "z": [
          0,
          0.637014
         ]
        },
        {
         "line": {
          "color": "rgb(20, 0, 145)",
          "width": 2
         },
         "mode": "lines",
         "type": "scatter3d",
         "x": [
          0,
          -0.00280624
         ],
         "y": [
          0,
          1.89596
         ],
         "z": [
          0,
          0.636652
         ]
        },
        {
         "line": {
          "color": "rgb(20, 0, 145)",
          "width": 2
         },
         "mode": "lines",
         "type": "scatter3d",
         "x": [
          0,
          -0.00280624
         ],
         "y": [
          0,
          1.89596
         ],
         "z": [
          0,
          0.636652
         ]
        },
        {
         "line": {
          "color": "rgb(20, 0, 145)",
          "width": 2
         },
         "mode": "lines",
         "type": "scatter3d",
         "x": [
          0,
          -0.001753024
         ],
         "y": [
          0,
          1.893772
         ],
         "z": [
          0,
          0.643136
         ]
        },
        {
         "line": {
          "color": "rgb(20, 0, 145)",
          "width": 2
         },
         "mode": "lines",
         "type": "scatter3d",
         "x": [
          0,
          -0.001332424
         ],
         "y": [
          0,
          1.893246
         ],
         "z": [
          0,
          0.644684
         ]
        },
        {
         "line": {
          "color": "rgb(20, 0, 145)",
          "width": 2
         },
         "mode": "lines",
         "type": "scatter3d",
         "x": [
          0,
          -0.00388438
         ],
         "y": [
          0,
          1.892356
         ],
         "z": [
          0,
          0.647284
         ]
        },
        {
         "line": {
          "color": "rgb(20, 0, 145)",
          "width": 2
         },
         "mode": "lines",
         "type": "scatter3d",
         "x": [
          0,
          -0.00244086
         ],
         "y": [
          0,
          1.891568
         ],
         "z": [
          0,
          0.649588
         ]
        },
        {
         "line": {
          "color": "rgb(20, 0, 145)",
          "width": 2
         },
         "mode": "lines",
         "type": "scatter3d",
         "x": [
          0,
          -0.00313818
         ],
         "y": [
          0,
          1.891354
         ],
         "z": [
          0,
          0.65021
         ]
        },
        {
         "line": {
          "color": "rgb(20, 0, 145)",
          "width": 2
         },
         "mode": "lines",
         "type": "scatter3d",
         "x": [
          0,
          -0.00313818
         ],
         "y": [
          0,
          1.891354
         ],
         "z": [
          0,
          0.65021
         ]
        },
        {
         "line": {
          "color": "rgb(20, 0, 145)",
          "width": 2
         },
         "mode": "lines",
         "type": "scatter3d",
         "x": [
          0,
          -0.00223098
         ],
         "y": [
          0,
          1.890686
         ],
         "z": [
          0,
          0.652152
         ]
        },
        {
         "line": {
          "color": "rgb(20, 0, 145)",
          "width": 2
         },
         "mode": "lines",
         "type": "scatter3d",
         "x": [
          0,
          -0.000333238
         ],
         "y": [
          0,
          1.891384
         ],
         "z": [
          0,
          0.65013
         ]
        },
        {
         "line": {
          "color": "rgb(20, 0, 145)",
          "width": 2
         },
         "mode": "lines",
         "type": "scatter3d",
         "x": [
          0,
          -0.001461194
         ],
         "y": [
          0,
          1.891384
         ],
         "z": [
          0,
          0.650126
         ]
        },
        {
         "line": {
          "color": "rgb(20, 0, 145)",
          "width": 2
         },
         "mode": "lines",
         "type": "scatter3d",
         "x": [
          0,
          -0.0029896
         ],
         "y": [
          0,
          1.89117
         ],
         "z": [
          0,
          0.650744
         ]
        },
        {
         "line": {
          "color": "rgb(20, 0, 145)",
          "width": 2
         },
         "mode": "lines",
         "type": "scatter3d",
         "x": [
          0,
          -0.00499368
         ],
         "y": [
          0,
          1.889288
         ],
         "z": [
          0,
          0.656178
         ]
        },
        {
         "line": {
          "color": "rgb(20, 0, 145)",
          "width": 2
         },
         "mode": "lines",
         "type": "scatter3d",
         "x": [
          0,
          -0.00499368
         ],
         "y": [
          0,
          1.889288
         ],
         "z": [
          0,
          0.656178
         ]
        },
        {
         "line": {
          "color": "rgb(20, 0, 145)",
          "width": 2
         },
         "mode": "lines",
         "type": "scatter3d",
         "x": [
          0,
          -0.00339532
         ],
         "y": [
          0,
          1.89115
         ],
         "z": [
          0,
          0.6508
         ]
        },
        {
         "line": {
          "color": "rgb(20, 0, 145)",
          "width": 2
         },
         "mode": "lines",
         "type": "scatter3d",
         "x": [
          0,
          -0.00321652
         ],
         "y": [
          0,
          1.890562
         ],
         "z": [
          0,
          0.652508
         ]
        },
        {
         "line": {
          "color": "rgb(20, 0, 145)",
          "width": 2
         },
         "mode": "lines",
         "type": "scatter3d",
         "x": [
          0,
          -0.00447062
         ],
         "y": [
          0,
          1.890046
         ],
         "z": [
          0,
          0.653994
         ]
        },
        {
         "line": {
          "color": "rgb(20, 0, 145)",
          "width": 2
         },
         "mode": "lines",
         "type": "scatter3d",
         "x": [
          0,
          -0.00447062
         ],
         "y": [
          0,
          1.890046
         ],
         "z": [
          0,
          0.653994
         ]
        },
        {
         "line": {
          "color": "rgb(20, 0, 145)",
          "width": 2
         },
         "mode": "lines",
         "type": "scatter3d",
         "x": [
          0,
          -0.00812364
         ],
         "y": [
          0,
          1.889748
         ],
         "z": [
          0,
          0.654816
         ]
        },
        {
         "line": {
          "color": "rgb(20, 0, 145)",
          "width": 2
         },
         "mode": "lines",
         "type": "scatter3d",
         "x": [
          0,
          -0.00691842
         ],
         "y": [
          0,
          1.890668
         ],
         "z": [
          0,
          0.65217
         ]
        },
        {
         "line": {
          "color": "rgb(20, 0, 145)",
          "width": 2
         },
         "mode": "lines",
         "type": "scatter3d",
         "x": [
          0,
          -0.00591838
         ],
         "y": [
          0,
          1.889242
         ],
         "z": [
          0,
          0.656302
         ]
        },
        {
         "line": {
          "color": "rgb(20, 0, 145)",
          "width": 2
         },
         "mode": "lines",
         "type": "scatter3d",
         "x": [
          0,
          -0.0067534
         ],
         "y": [
          0,
          1.890004
         ],
         "z": [
          0,
          0.654096
         ]
        },
        {
         "line": {
          "color": "rgb(20, 0, 145)",
          "width": 2
         },
         "mode": "lines",
         "type": "scatter3d",
         "x": [
          0,
          -0.0067534
         ],
         "y": [
          0,
          1.890004
         ],
         "z": [
          0,
          0.654096
         ]
        },
        {
         "line": {
          "color": "rgb(20, 0, 145)",
          "width": 2
         },
         "mode": "lines",
         "type": "scatter3d",
         "x": [
          0,
          -0.00927956
         ],
         "y": [
          0,
          1.89142
         ],
         "z": [
          0,
          0.649954
         ]
        },
        {
         "line": {
          "color": "rgb(20, 0, 145)",
          "width": 2
         },
         "mode": "lines",
         "type": "scatter3d",
         "x": [
          0,
          -0.00722574
         ],
         "y": [
          0,
          1.890574
         ],
         "z": [
          0,
          0.652442
         ]
        },
        {
         "line": {
          "color": "rgb(20, 0, 145)",
          "width": 2
         },
         "mode": "lines",
         "type": "scatter3d",
         "x": [
          0,
          -0.010015
         ],
         "y": [
          0,
          1.890328
         ],
         "z": [
          0,
          0.653118
         ]
        },
        {
         "line": {
          "color": "rgb(20, 0, 145)",
          "width": 2
         },
         "mode": "lines",
         "type": "scatter3d",
         "x": [
          0,
          -0.0094743
         ],
         "y": [
          0,
          1.891216
         ],
         "z": [
          0,
          0.650544
         ]
        },
        {
         "line": {
          "color": "rgb(20, 0, 145)",
          "width": 2
         },
         "mode": "lines",
         "type": "scatter3d",
         "x": [
          0,
          -0.0094743
         ],
         "y": [
          0,
          1.891216
         ],
         "z": [
          0,
          0.650544
         ]
        },
        {
         "line": {
          "color": "rgb(20, 0, 145)",
          "width": 2
         },
         "mode": "lines",
         "type": "scatter3d",
         "x": [
          0,
          -0.00737596
         ],
         "y": [
          0,
          1.891662
         ],
         "z": [
          0,
          0.64928
         ]
        },
        {
         "line": {
          "color": "rgb(20, 0, 145)",
          "width": 2
         },
         "mode": "lines",
         "type": "scatter3d",
         "x": [
          0,
          -0.00965694
         ],
         "y": [
          0,
          1.892544
         ],
         "z": [
          0,
          0.64667
         ]
        },
        {
         "line": {
          "color": "rgb(20, 0, 145)",
          "width": 2
         },
         "mode": "lines",
         "type": "scatter3d",
         "x": [
          0,
          -0.01071622
         ],
         "y": [
          0,
          1.89171
         ],
         "z": [
          0,
          0.64909
         ]
        },
        {
         "line": {
          "color": "rgb(20, 0, 145)",
          "width": 2
         },
         "mode": "lines",
         "type": "scatter3d",
         "x": [
          0,
          -0.01044702
         ],
         "y": [
          0,
          1.892778
         ],
         "z": [
          0,
          0.645976
         ]
        },
        {
         "line": {
          "color": "rgb(20, 0, 145)",
          "width": 2
         },
         "mode": "lines",
         "type": "scatter3d",
         "x": [
          0,
          -0.01044702
         ],
         "y": [
          0,
          1.892778
         ],
         "z": [
          0,
          0.645976
         ]
        },
        {
         "line": {
          "color": "rgb(20, 0, 145)",
          "width": 2
         },
         "mode": "lines",
         "type": "scatter3d",
         "x": [
          0,
          -0.00843292
         ],
         "y": [
          0,
          1.891318
         ],
         "z": [
          0,
          0.650264
         ]
        },
        {
         "line": {
          "color": "rgb(20, 0, 145)",
          "width": 2
         },
         "mode": "lines",
         "type": "scatter3d",
         "x": [
          0,
          -0.00918532
         ],
         "y": [
          0,
          1.892824
         ],
         "z": [
          0,
          0.645858
         ]
        },
        {
         "line": {
          "color": "rgb(20, 0, 145)",
          "width": 2
         },
         "mode": "lines",
         "type": "scatter3d",
         "x": [
          0,
          -0.00769004
         ],
         "y": [
          0,
          1.892066
         ],
         "z": [
          0,
          0.648092
         ]
        },
        {
         "line": {
          "color": "rgb(20, 0, 145)",
          "width": 2
         },
         "mode": "lines",
         "type": "scatter3d",
         "x": [
          0,
          -0.01487422
         ],
         "y": [
          0,
          1.891576
         ],
         "z": [
          0,
          0.649402
         ]
        },
        {
         "line": {
          "color": "rgb(20, 0, 145)",
          "width": 2
         },
         "mode": "lines",
         "type": "scatter3d",
         "x": [
          0,
          -0.0115748
         ],
         "y": [
          0,
          1.893428
         ],
         "z": [
          0,
          0.644046
         ]
        },
        {
         "line": {
          "color": "rgb(20, 0, 145)",
          "width": 2
         },
         "mode": "lines",
         "type": "scatter3d",
         "x": [
          0,
          -0.0115748
         ],
         "y": [
          0,
          1.893428
         ],
         "z": [
          0,
          0.644046
         ]
        },
        {
         "line": {
          "color": "rgb(20, 0, 145)",
          "width": 2
         },
         "mode": "lines",
         "type": "scatter3d",
         "x": [
          0,
          0.275772
         ],
         "y": [
          0,
          1.886714
         ],
         "z": [
          0,
          0.603542
         ]
        },
        {
         "line": {
          "color": "rgb(20, 0, 145)",
          "width": 2
         },
         "mode": "lines",
         "type": "scatter3d",
         "x": [
          0,
          0.276378
         ],
         "y": [
          0,
          1.886842
         ],
         "z": [
          0,
          0.602862
         ]
        },
        {
         "line": {
          "color": "rgb(20, 0, 145)",
          "width": 2
         },
         "mode": "lines",
         "type": "scatter3d",
         "x": [
          0,
          0.276374
         ],
         "y": [
          0,
          1.886382
         ],
         "z": [
          0,
          0.604302
         ]
        },
        {
         "line": {
          "color": "rgb(20, 0, 145)",
          "width": 2
         },
         "mode": "lines",
         "type": "scatter3d",
         "x": [
          0,
          0.276166
         ],
         "y": [
          0,
          1.887598
         ],
         "z": [
          0,
          0.60059
         ]
        },
        {
         "line": {
          "color": "rgb(20, 0, 145)",
          "width": 2
         },
         "mode": "lines",
         "type": "scatter3d",
         "x": [
          0,
          0.276166
         ],
         "y": [
          0,
          1.887598
         ],
         "z": [
          0,
          0.60059
         ]
        },
        {
         "line": {
          "color": "rgb(20, 0, 145)",
          "width": 2
         },
         "mode": "lines",
         "type": "scatter3d",
         "x": [
          0,
          0.272318
         ],
         "y": [
          0,
          1.886936
         ],
         "z": [
          0,
          0.60441
         ]
        },
        {
         "line": {
          "color": "rgb(20, 0, 145)",
          "width": 2
         },
         "mode": "lines",
         "type": "scatter3d",
         "x": [
          0,
          0.27537
         ],
         "y": [
          0,
          1.885608
         ],
         "z": [
          0,
          0.607168
         ]
        },
        {
         "line": {
          "color": "rgb(20, 0, 145)",
          "width": 2
         },
         "mode": "lines",
         "type": "scatter3d",
         "x": [
          0,
          0.276134
         ],
         "y": [
          0,
          1.887072
         ],
         "z": [
          0,
          0.602252
         ]
        },
        {
         "line": {
          "color": "rgb(20, 0, 145)",
          "width": 2
         },
         "mode": "lines",
         "type": "scatter3d",
         "x": [
          0,
          0.27357
         ],
         "y": [
          0,
          1.88727
         ],
         "z": [
          0,
          0.602802
         ]
        },
        {
         "line": {
          "color": "rgb(20, 0, 145)",
          "width": 2
         },
         "mode": "lines",
         "type": "scatter3d",
         "x": [
          0,
          0.27357
         ],
         "y": [
          0,
          1.88727
         ],
         "z": [
          0,
          0.602802
         ]
        },
        {
         "line": {
          "color": "rgb(20, 0, 145)",
          "width": 2
         },
         "mode": "lines",
         "type": "scatter3d",
         "x": [
          0,
          0.27633
         ],
         "y": [
          0,
          1.887256
         ],
         "z": [
          0,
          0.60159
         ]
        },
        {
         "line": {
          "color": "rgb(20, 0, 145)",
          "width": 2
         },
         "mode": "lines",
         "type": "scatter3d",
         "x": [
          0,
          0.271294
         ],
         "y": [
          0,
          1.886632
         ],
         "z": [
          0,
          0.605822
         ]
        },
        {
         "line": {
          "color": "rgb(20, 0, 145)",
          "width": 2
         },
         "mode": "lines",
         "type": "scatter3d",
         "x": [
          0,
          0.273028
         ],
         "y": [
          0,
          1.887774
         ],
         "z": [
          0,
          0.601472
         ]
        },
        {
         "line": {
          "color": "rgb(20, 0, 145)",
          "width": 2
         },
         "mode": "lines",
         "type": "scatter3d",
         "x": [
          0,
          0.273028
         ],
         "y": [
          0,
          1.887774
         ],
         "z": [
          0,
          0.601472
         ]
        },
        {
         "line": {
          "color": "rgb(20, 0, 145)",
          "width": 2
         },
         "mode": "lines",
         "type": "scatter3d",
         "x": [
          0,
          0.27528
         ],
         "y": [
          0,
          1.886902
         ],
         "z": [
          0,
          0.603178
         ]
        },
        {
         "line": {
          "color": "rgb(20, 0, 145)",
          "width": 2
         },
         "mode": "lines",
         "type": "scatter3d",
         "x": [
          0,
          0.274612
         ],
         "y": [
          0,
          1.887222
         ],
         "z": [
          0,
          0.602476
         ]
        },
        {
         "line": {
          "color": "rgb(20, 0, 145)",
          "width": 2
         },
         "mode": "lines",
         "type": "scatter3d",
         "x": [
          0,
          0.273838
         ],
         "y": [
          0,
          1.887424
         ],
         "z": [
          0,
          0.602202
         ]
        },
        {
         "line": {
          "color": "rgb(20, 0, 145)",
          "width": 2
         },
         "mode": "lines",
         "type": "scatter3d",
         "x": [
          0,
          0.27306
         ],
         "y": [
          0,
          1.887606
         ],
         "z": [
          0,
          0.60198
         ]
        },
        {
         "line": {
          "color": "rgb(20, 0, 145)",
          "width": 2
         },
         "mode": "lines",
         "type": "scatter3d",
         "x": [
          0,
          0.273786
         ],
         "y": [
          0,
          1.887744
         ],
         "z": [
          0,
          0.601216
         ]
        },
        {
         "line": {
          "color": "rgb(20, 0, 145)",
          "width": 2
         },
         "mode": "lines",
         "type": "scatter3d",
         "x": [
          0,
          0.273786
         ],
         "y": [
          0,
          1.887744
         ],
         "z": [
          0,
          0.601216
         ]
        },
        {
         "line": {
          "color": "rgb(20, 0, 145)",
          "width": 2
         },
         "mode": "lines",
         "type": "scatter3d",
         "x": [
          0,
          0.271696
         ],
         "y": [
          0,
          1.888946
         ],
         "z": [
          0,
          0.598386
         ]
        },
        {
         "line": {
          "color": "rgb(20, 0, 145)",
          "width": 2
         },
         "mode": "lines",
         "type": "scatter3d",
         "x": [
          0,
          0.274898
         ],
         "y": [
          0,
          1.887502
         ],
         "z": [
          0,
          0.601474
         ]
        },
        {
         "line": {
          "color": "rgb(20, 0, 145)",
          "width": 2
         },
         "mode": "lines",
         "type": "scatter3d",
         "x": [
          0,
          0.271998
         ],
         "y": [
          0,
          1.888094
         ],
         "z": [
          0,
          0.600932
         ]
        },
        {
         "line": {
          "color": "rgb(20, 0, 145)",
          "width": 2
         },
         "mode": "lines",
         "type": "scatter3d",
         "x": [
          0,
          0.271998
         ],
         "y": [
          0,
          1.888094
         ],
         "z": [
          0,
          0.600932
         ]
        },
        {
         "line": {
          "color": "rgb(20, 0, 145)",
          "width": 2
         },
         "mode": "lines",
         "type": "scatter3d",
         "x": [
          0,
          0.27365
         ],
         "y": [
          0,
          1.888156
         ],
         "z": [
          0,
          0.599982
         ]
        },
        {
         "line": {
          "color": "rgb(20, 0, 145)",
          "width": 2
         },
         "mode": "lines",
         "type": "scatter3d",
         "x": [
          0,
          0.276008
         ],
         "y": [
          0,
          1.88809
         ],
         "z": [
          0,
          0.59911
         ]
        },
        {
         "line": {
          "color": "rgb(20, 0, 145)",
          "width": 2
         },
         "mode": "lines",
         "type": "scatter3d",
         "x": [
          0,
          0.273884
         ],
         "y": [
          0,
          1.888224
         ],
         "z": [
          0,
          0.599668
         ]
        },
        {
         "line": {
          "color": "rgb(20, 0, 145)",
          "width": 2
         },
         "mode": "lines",
         "type": "scatter3d",
         "x": [
          0,
          0.268864
         ],
         "y": [
          0,
          1.889626
         ],
         "z": [
          0,
          0.597516
         ]
        },
        {
         "line": {
          "color": "rgb(20, 0, 145)",
          "width": 2
         },
         "mode": "lines",
         "type": "scatter3d",
         "x": [
          0,
          0.271752
         ],
         "y": [
          0,
          1.888782
         ],
         "z": [
          0,
          0.598876
         ]
        },
        {
         "line": {
          "color": "rgb(20, 0, 145)",
          "width": 2
         },
         "mode": "lines",
         "type": "scatter3d",
         "x": [
          0,
          0.271752
         ],
         "y": [
          0,
          1.888782
         ],
         "z": [
          0,
          0.598876
         ]
        },
        {
         "line": {
          "color": "rgb(20, 0, 145)",
          "width": 2
         },
         "mode": "lines",
         "type": "scatter3d",
         "x": [
          0,
          0.27013
         ],
         "y": [
          0,
          1.889274
         ],
         "z": [
          0,
          0.598058
         ]
        },
        {
         "line": {
          "color": "rgb(20, 0, 145)",
          "width": 2
         },
         "mode": "lines",
         "type": "scatter3d",
         "x": [
          0,
          0.26979
         ],
         "y": [
          0,
          1.88977
         ],
         "z": [
          0,
          0.596642
         ]
        },
        {
         "line": {
          "color": "rgb(20, 0, 145)",
          "width": 2
         },
         "mode": "lines",
         "type": "scatter3d",
         "x": [
          0,
          0.265828
         ],
         "y": [
          0,
          1.890104
         ],
         "z": [
          0,
          0.59736
         ]
        },
        {
         "line": {
          "color": "rgb(20, 0, 145)",
          "width": 2
         },
         "mode": "lines",
         "type": "scatter3d",
         "x": [
          0,
          0.269144
         ],
         "y": [
          0,
          1.890274
         ],
         "z": [
          0,
          0.595336
         ]
        },
        {
         "line": {
          "color": "rgb(20, 0, 145)",
          "width": 2
         },
         "mode": "lines",
         "type": "scatter3d",
         "x": [
          0,
          0.269144
         ],
         "y": [
          0,
          1.890274
         ],
         "z": [
          0,
          0.595336
         ]
        },
        {
         "line": {
          "color": "rgb(20, 0, 145)",
          "width": 2
         },
         "mode": "lines",
         "type": "scatter3d",
         "x": [
          0,
          0.266572
         ],
         "y": [
          0,
          1.89031
         ],
         "z": [
          0,
          0.596378
         ]
        },
        {
         "line": {
          "color": "rgb(20, 0, 145)",
          "width": 2
         },
         "mode": "lines",
         "type": "scatter3d",
         "x": [
          0,
          0.265642
         ],
         "y": [
          0,
          1.891054
         ],
         "z": [
          0,
          0.594432
         ]
        },
        {
         "line": {
          "color": "rgb(20, 0, 145)",
          "width": 2
         },
         "mode": "lines",
         "type": "scatter3d",
         "x": [
          0,
          0.266866
         ],
         "y": [
          0,
          1.890758
         ],
         "z": [
          0,
          0.594824
         ]
        },
        {
         "line": {
          "color": "rgb(20, 0, 145)",
          "width": 2
         },
         "mode": "lines",
         "type": "scatter3d",
         "x": [
          0,
          0.269438
         ],
         "y": [
          0,
          1.89033
         ],
         "z": [
          0,
          0.595026
         ]
        },
        {
         "line": {
          "color": "rgb(20, 0, 145)",
          "width": 2
         },
         "mode": "lines",
         "type": "scatter3d",
         "x": [
          0,
          0.269438
         ],
         "y": [
          0,
          1.89033
         ],
         "z": [
          0,
          0.595026
         ]
        },
        {
         "line": {
          "color": "rgb(20, 0, 145)",
          "width": 2
         },
         "mode": "lines",
         "type": "scatter3d",
         "x": [
          0,
          0.268076
         ],
         "y": [
          0,
          1.889086
         ],
         "z": [
          0,
          0.599578
         ]
        },
        {
         "line": {
          "color": "rgb(20, 0, 145)",
          "width": 2
         },
         "mode": "lines",
         "type": "scatter3d",
         "x": [
          0,
          0.266102
         ],
         "y": [
          0,
          1.888952
         ],
         "z": [
          0,
          0.600878
         ]
        },
        {
         "line": {
          "color": "rgb(20, 0, 145)",
          "width": 2
         },
         "mode": "lines",
         "type": "scatter3d",
         "x": [
          0,
          0.266018
         ],
         "y": [
          0,
          1.890248
         ],
         "z": [
          0,
          0.596824
         ]
        },
        {
         "line": {
          "color": "rgb(20, 0, 145)",
          "width": 2
         },
         "mode": "lines",
         "type": "scatter3d",
         "x": [
          0,
          0.26133
         ],
         "y": [
          0,
          1.889824
         ],
         "z": [
          0,
          0.600228
         ]
        },
        {
         "line": {
          "color": "rgb(20, 0, 145)",
          "width": 2
         },
         "mode": "lines",
         "type": "scatter3d",
         "x": [
          0,
          0.26133
         ],
         "y": [
          0,
          1.889824
         ],
         "z": [
          0,
          0.600228
         ]
        },
        {
         "line": {
          "color": "rgb(20, 0, 145)",
          "width": 2
         },
         "mode": "lines",
         "type": "scatter3d",
         "x": [
          0,
          0.26444
         ],
         "y": [
          0,
          1.890584
         ],
         "z": [
          0,
          0.59646
         ]
        },
        {
         "line": {
          "color": "rgb(20, 0, 145)",
          "width": 2
         },
         "mode": "lines",
         "type": "scatter3d",
         "x": [
          0,
          0.25762
         ],
         "y": [
          0,
          1.891038
         ],
         "z": [
          0,
          0.598002
         ]
        },
        {
         "line": {
          "color": "rgb(20, 0, 145)",
          "width": 2
         },
         "mode": "lines",
         "type": "scatter3d",
         "x": [
          0,
          0.263304
         ],
         "y": [
          0,
          1.891702
         ],
         "z": [
          0,
          0.593408
         ]
        },
        {
         "line": {
          "color": "rgb(20, 0, 145)",
          "width": 2
         },
         "mode": "lines",
         "type": "scatter3d",
         "x": [
          0,
          0.257662
         ],
         "y": [
          0,
          1.89154
         ],
         "z": [
          0,
          0.596394
         ]
        },
        {
         "line": {
          "color": "rgb(20, 0, 145)",
          "width": 2
         },
         "mode": "lines",
         "type": "scatter3d",
         "x": [
          0,
          0.257662
         ],
         "y": [
          0,
          1.89154
         ],
         "z": [
          0,
          0.596394
         ]
        },
        {
         "line": {
          "color": "rgb(20, 0, 145)",
          "width": 2
         },
         "mode": "lines",
         "type": "scatter3d",
         "x": [
          0,
          0.252914
         ],
         "y": [
          0,
          1.891086
         ],
         "z": [
          0,
          0.599858
         ]
        },
        {
         "line": {
          "color": "rgb(20, 0, 145)",
          "width": 2
         },
         "mode": "lines",
         "type": "scatter3d",
         "x": [
          0,
          0.25932
         ],
         "y": [
          0,
          1.891124
         ],
         "z": [
          0,
          0.596994
         ]
        },
        {
         "line": {
          "color": "rgb(20, 0, 145)",
          "width": 2
         },
         "mode": "lines",
         "type": "scatter3d",
         "x": [
          0,
          0.25829
         ],
         "y": [
          0,
          1.890338
         ],
         "z": [
          0,
          0.599926
         ]
        },
        {
         "line": {
          "color": "rgb(20, 0, 145)",
          "width": 2
         },
         "mode": "lines",
         "type": "scatter3d",
         "x": [
          0,
          0.261856
         ],
         "y": [
          0,
          1.891316
         ],
         "z": [
          0,
          0.595278
         ]
        },
        {
         "line": {
          "color": "rgb(20, 0, 145)",
          "width": 2
         },
         "mode": "lines",
         "type": "scatter3d",
         "x": [
          0,
          0.261856
         ],
         "y": [
          0,
          1.891316
         ],
         "z": [
          0,
          0.595278
         ]
        },
        {
         "line": {
          "color": "rgb(20, 0, 145)",
          "width": 2
         },
         "mode": "lines",
         "type": "scatter3d",
         "x": [
          0,
          0.253342
         ],
         "y": [
          0,
          1.890874
         ],
         "z": [
          0,
          0.600342
         ]
        },
        {
         "line": {
          "color": "rgb(20, 0, 145)",
          "width": 2
         },
         "mode": "lines",
         "type": "scatter3d",
         "x": [
          0,
          0.259448
         ],
         "y": [
          0,
          1.892088
         ],
         "z": [
          0,
          0.59388
         ]
        },
        {
         "line": {
          "color": "rgb(20, 0, 145)",
          "width": 2
         },
         "mode": "lines",
         "type": "scatter3d",
         "x": [
          0,
          0.256432
         ],
         "y": [
          0,
          1.891122
         ],
         "z": [
          0,
          0.59825
         ]
        },
        {
         "line": {
          "color": "rgb(20, 0, 145)",
          "width": 2
         },
         "mode": "lines",
         "type": "scatter3d",
         "x": [
          0,
          0.259112
         ],
         "y": [
          0,
          1.891848
         ],
         "z": [
          0,
          0.59479
         ]
        },
        {
         "line": {
          "color": "rgb(20, 0, 145)",
          "width": 2
         },
         "mode": "lines",
         "type": "scatter3d",
         "x": [
          0,
          0.259112
         ],
         "y": [
          0,
          1.891848
         ],
         "z": [
          0,
          0.59479
         ]
        },
        {
         "line": {
          "color": "rgb(20, 0, 145)",
          "width": 2
         },
         "mode": "lines",
         "type": "scatter3d",
         "x": [
          0,
          0.260448
         ],
         "y": [
          0,
          1.891594
         ],
         "z": [
          0,
          0.595012
         ]
        },
        {
         "line": {
          "color": "rgb(20, 0, 145)",
          "width": 2
         },
         "mode": "lines",
         "type": "scatter3d",
         "x": [
          0,
          0.258944
         ],
         "y": [
          0,
          1.890478
         ],
         "z": [
          0,
          0.5992
         ]
        },
        {
         "line": {
          "color": "rgb(20, 0, 145)",
          "width": 2
         },
         "mode": "lines",
         "type": "scatter3d",
         "x": [
          0,
          0.259556
         ],
         "y": [
          0,
          1.890548
         ],
         "z": [
          0,
          0.598718
         ]
        },
        {
         "line": {
          "color": "rgb(20, 0, 145)",
          "width": 2
         },
         "mode": "lines",
         "type": "scatter3d",
         "x": [
          0,
          0.258494
         ],
         "y": [
          0,
          1.890722
         ],
         "z": [
          0,
          0.598622
         ]
        },
        {
         "line": {
          "color": "rgb(20, 0, 145)",
          "width": 2
         },
         "mode": "lines",
         "type": "scatter3d",
         "x": [
          0,
          0.258494
         ],
         "y": [
          0,
          1.890722
         ],
         "z": [
          0,
          0.598622
         ]
        },
        {
         "line": {
          "color": "rgb(20, 0, 145)",
          "width": 2
         },
         "mode": "lines",
         "type": "scatter3d",
         "x": [
          0,
          0.262066
         ],
         "y": [
          0,
          1.89134
         ],
         "z": [
          0,
          0.59511
         ]
        },
        {
         "line": {
          "color": "rgb(20, 0, 145)",
          "width": 2
         },
         "mode": "lines",
         "type": "scatter3d",
         "x": [
          0,
          0.25975
         ],
         "y": [
          0,
          1.892004
         ],
         "z": [
          0,
          0.594014
         ]
        },
        {
         "line": {
          "color": "rgb(20, 0, 145)",
          "width": 2
         },
         "mode": "lines",
         "type": "scatter3d",
         "x": [
          0,
          0.26142
         ],
         "y": [
          0,
          1.890902
         ],
         "z": [
          0,
          0.596782
         ]
        },
        {
         "line": {
          "color": "rgb(20, 0, 145)",
          "width": 2
         },
         "mode": "lines",
         "type": "scatter3d",
         "x": [
          0,
          0.25713
         ],
         "y": [
          0,
          1.891996
         ],
         "z": [
          0,
          0.595176
         ]
        },
        {
         "line": {
          "color": "rgb(20, 0, 145)",
          "width": 2
         },
         "mode": "lines",
         "type": "scatter3d",
         "x": [
          0,
          0.25713
         ],
         "y": [
          0,
          1.891996
         ],
         "z": [
          0,
          0.595176
         ]
        },
        {
         "line": {
          "color": "rgb(20, 0, 145)",
          "width": 2
         },
         "mode": "lines",
         "type": "scatter3d",
         "x": [
          0,
          0.25409
         ],
         "y": [
          0,
          1.89286
         ],
         "z": [
          0,
          0.593732
         ]
        },
        {
         "line": {
          "color": "rgb(20, 0, 145)",
          "width": 2
         },
         "mode": "lines",
         "type": "scatter3d",
         "x": [
          0,
          0.255862
         ],
         "y": [
          0,
          1.894144
         ],
         "z": [
          0,
          0.58886
         ]
        },
        {
         "line": {
          "color": "rgb(20, 0, 145)",
          "width": 2
         },
         "mode": "lines",
         "type": "scatter3d",
         "x": [
          0,
          0.255684
         ],
         "y": [
          0,
          1.892954
         ],
         "z": [
          0,
          0.592746
         ]
        },
        {
         "line": {
          "color": "rgb(20, 0, 145)",
          "width": 2
         },
         "mode": "lines",
         "type": "scatter3d",
         "x": [
          0,
          0.252768
         ],
         "y": [
          0,
          1.893336
         ],
         "z": [
          0,
          0.592778
         ]
        },
        {
         "line": {
          "color": "rgb(20, 0, 145)",
          "width": 2
         },
         "mode": "lines",
         "type": "scatter3d",
         "x": [
          0,
          0.252768
         ],
         "y": [
          0,
          1.893336
         ],
         "z": [
          0,
          0.592778
         ]
        },
        {
         "line": {
          "color": "rgb(20, 0, 145)",
          "width": 2
         },
         "mode": "lines",
         "type": "scatter3d",
         "x": [
          0,
          0.25652
         ],
         "y": [
          0,
          1.893192
         ],
         "z": [
          0,
          0.591624
         ]
        },
        {
         "line": {
          "color": "rgb(20, 0, 145)",
          "width": 2
         },
         "mode": "lines",
         "type": "scatter3d",
         "x": [
          0,
          0.259008
         ],
         "y": [
          0,
          1.892444
         ],
         "z": [
          0,
          0.592936
         ]
        },
        {
         "line": {
          "color": "rgb(20, 0, 145)",
          "width": 2
         },
         "mode": "lines",
         "type": "scatter3d",
         "x": [
          0,
          0.262102
         ],
         "y": [
          0,
          1.892466
         ],
         "z": [
          0,
          0.591504
         ]
        },
        {
         "line": {
          "color": "rgb(20, 0, 145)",
          "width": 2
         },
         "mode": "lines",
         "type": "scatter3d",
         "x": [
          0,
          0.262862
         ],
         "y": [
          0,
          1.89324
         ],
         "z": [
          0,
          0.588682
         ]
        },
        {
         "line": {
          "color": "rgb(20, 0, 145)",
          "width": 2
         },
         "mode": "lines",
         "type": "scatter3d",
         "x": [
          0,
          0.262862
         ],
         "y": [
          0,
          1.89324
         ],
         "z": [
          0,
          0.588682
         ]
        },
        {
         "line": {
          "color": "rgb(20, 0, 145)",
          "width": 2
         },
         "mode": "lines",
         "type": "scatter3d",
         "x": [
          0,
          0.26107
         ],
         "y": [
          0,
          1.893142
         ],
         "z": [
          0,
          0.589792
         ]
        },
        {
         "line": {
          "color": "rgb(20, 0, 145)",
          "width": 2
         },
         "mode": "lines",
         "type": "scatter3d",
         "x": [
          0,
          0.265006
         ],
         "y": [
          0,
          1.891914
         ],
         "z": [
          0,
          0.591976
         ]
        },
        {
         "line": {
          "color": "rgb(20, 0, 145)",
          "width": 2
         },
         "mode": "lines",
         "type": "scatter3d",
         "x": [
          0,
          0.266006
         ],
         "y": [
          0,
          1.89299
         ],
         "z": [
          0,
          0.588072
         ]
        },
        {
         "line": {
          "color": "rgb(20, 0, 145)",
          "width": 2
         },
         "mode": "lines",
         "type": "scatter3d",
         "x": [
          0,
          0.262988
         ],
         "y": [
          0,
          1.893528
         ],
         "z": [
          0,
          0.587698
         ]
        },
        {
         "line": {
          "color": "rgb(20, 0, 145)",
          "width": 2
         },
         "mode": "lines",
         "type": "scatter3d",
         "x": [
          0,
          0.262988
         ],
         "y": [
          0,
          1.893528
         ],
         "z": [
          0,
          0.587698
         ]
        },
        {
         "line": {
          "color": "rgb(20, 0, 145)",
          "width": 2
         },
         "mode": "lines",
         "type": "scatter3d",
         "x": [
          0,
          0.260396
         ],
         "y": [
          0,
          1.892916
         ],
         "z": [
          0,
          0.590816
         ]
        },
        {
         "line": {
          "color": "rgb(20, 0, 145)",
          "width": 2
         },
         "mode": "lines",
         "type": "scatter3d",
         "x": [
          0,
          0.260738
         ],
         "y": [
          0,
          1.893898
         ],
         "z": [
          0,
          0.587506
         ]
        },
        {
         "line": {
          "color": "rgb(20, 0, 145)",
          "width": 2
         },
         "mode": "lines",
         "type": "scatter3d",
         "x": [
          0,
          0.256556
         ],
         "y": [
          0,
          1.89562
         ],
         "z": [
          0,
          0.583786
         ]
        },
        {
         "line": {
          "color": "rgb(20, 0, 145)",
          "width": 2
         },
         "mode": "lines",
         "type": "scatter3d",
         "x": [
          0,
          0.256096
         ],
         "y": [
          0,
          1.895174
         ],
         "z": [
          0,
          0.58543
         ]
        },
        {
         "line": {
          "color": "rgb(20, 0, 145)",
          "width": 2
         },
         "mode": "lines",
         "type": "scatter3d",
         "x": [
          0,
          0.256096
         ],
         "y": [
          0,
          1.895174
         ],
         "z": [
          0,
          0.58543
         ]
        },
        {
         "line": {
          "color": "rgb(20, 0, 145)",
          "width": 2
         },
         "mode": "lines",
         "type": "scatter3d",
         "x": [
          0,
          0.261714
         ],
         "y": [
          0,
          1.894534
         ],
         "z": [
          0,
          0.58502
         ]
        },
        {
         "line": {
          "color": "rgb(20, 0, 145)",
          "width": 2
         },
         "mode": "lines",
         "type": "scatter3d",
         "x": [
          0,
          0.258154
         ],
         "y": [
          0,
          1.894522
         ],
         "z": [
          0,
          0.58664
         ]
        },
        {
         "line": {
          "color": "rgb(20, 0, 145)",
          "width": 2
         },
         "mode": "lines",
         "type": "scatter3d",
         "x": [
          0,
          0.260638
         ],
         "y": [
          0,
          1.89359
         ],
         "z": [
          0,
          0.588548
         ]
        },
        {
         "line": {
          "color": "rgb(20, 0, 145)",
          "width": 2
         },
         "mode": "lines",
         "type": "scatter3d",
         "x": [
          0,
          0.25825
         ],
         "y": [
          0,
          1.894206
         ],
         "z": [
          0,
          0.587614
         ]
        },
        {
         "line": {
          "color": "rgb(20, 0, 145)",
          "width": 2
         },
         "mode": "lines",
         "type": "scatter3d",
         "x": [
          0,
          0.25825
         ],
         "y": [
          0,
          1.894206
         ],
         "z": [
          0,
          0.587614
         ]
        },
        {
         "line": {
          "color": "rgb(20, 0, 145)",
          "width": 2
         },
         "mode": "lines",
         "type": "scatter3d",
         "x": [
          0,
          0.260422
         ],
         "y": [
          0,
          1.894644
         ],
         "z": [
          0,
          0.585238
         ]
        },
        {
         "line": {
          "color": "rgb(20, 0, 145)",
          "width": 2
         },
         "mode": "lines",
         "type": "scatter3d",
         "x": [
          0,
          0.258388
         ],
         "y": [
          0,
          1.895576
         ],
         "z": [
          0,
          0.583118
         ]
        },
        {
         "line": {
          "color": "rgb(20, 0, 145)",
          "width": 2
         },
         "mode": "lines",
         "type": "scatter3d",
         "x": [
          0,
          0.254664
         ],
         "y": [
          0,
          1.895832
         ],
         "z": [
          0,
          0.583926
         ]
        },
        {
         "line": {
          "color": "rgb(20, 0, 145)",
          "width": 2
         },
         "mode": "lines",
         "type": "scatter3d",
         "x": [
          0,
          0.260202
         ],
         "y": [
          0,
          1.895384
         ],
         "z": [
          0,
          0.582938
         ]
        },
        {
         "line": {
          "color": "rgb(20, 0, 145)",
          "width": 2
         },
         "mode": "lines",
         "type": "scatter3d",
         "x": [
          0,
          0.260202
         ],
         "y": [
          0,
          1.895384
         ],
         "z": [
          0,
          0.582938
         ]
        },
        {
         "marker": {
          "color": "#48186a",
          "size": 10
         },
         "mode": "markers",
         "type": "scatter3d",
         "x": [
          0
         ],
         "y": [
          0
         ],
         "z": [
          0
         ]
        },
        {
         "marker": {
          "color": "rgb(0,144,144)",
          "size": 5
         },
         "mode": "markers",
         "type": "scatter3d",
         "x": [
          -0.20000000298023224,
          0,
          0.20000000298023224,
          -0.20000000298023224,
          0,
          0.20000000298023224,
          -0.20000000298023224,
          0,
          0.20000000298023224
         ],
         "y": [
          1.5,
          1.5,
          1.5,
          1.5,
          1.5,
          1.5,
          1.5,
          1.5,
          1.5
         ],
         "z": [
          -0.5,
          -0.5,
          -0.5,
          0,
          0,
          0,
          0.5,
          0.5,
          0.5
         ]
        }
       ],
       "layout": {
        "height": 800,
        "hovermode": "closest",
        "margin": {
         "t": 100
        },
        "scene": {
         "aspectmode": "manual",
         "aspectratio": {
          "x": 1,
          "y": 1,
          "z": 1
         },
         "xaxis": {
          "range": [
           -1,
           1
          ],
          "title": "x Axis"
         },
         "yaxis": {
          "range": [
           -1,
           3
          ],
          "title": "y Axis"
         },
         "zaxis": {
          "range": [
           -2,
           2
          ],
          "title": "z Axis"
         }
        },
        "showlegend": false,
        "title": "Calibration - EIH Space",
        "width": 800
       }
      },
      "text/html": [
       "<div id=\"03192b69-e133-4e4d-9afc-8421100b12d1\" style=\"height: 800px; width: 800px;\" class=\"plotly-graph-div\"></div><script type=\"text/javascript\">require([\"plotly\"], function(Plotly) { window.PLOTLYENV=window.PLOTLYENV || {};window.PLOTLYENV.BASE_URL=\"https://plot.ly\";Plotly.newPlot(\"03192b69-e133-4e4d-9afc-8421100b12d1\", [{\"mode\": \"lines\", \"y\": [0, 1.88447], \"x\": [0, -0.258302], \"line\": {\"color\": \"rgb(20, 0, 145)\", \"width\": 2}, \"z\": [0, -0.618104], \"type\": \"scatter3d\"}, {\"mode\": \"lines\", \"y\": [0, 1.886034], \"x\": [0, -0.257598], \"line\": {\"color\": \"rgb(20, 0, 145)\", \"width\": 2}, \"z\": [0, -0.613614], \"type\": \"scatter3d\"}, {\"mode\": \"lines\", \"y\": [0, 1.886034], \"x\": [0, -0.257598], \"line\": {\"color\": \"rgb(20, 0, 145)\", \"width\": 2}, \"z\": [0, -0.613614], \"type\": \"scatter3d\"}, {\"mode\": \"lines\", \"y\": [0, 1.884134], \"x\": [0, -0.259086], \"line\": {\"color\": \"rgb(20, 0, 145)\", \"width\": 2}, \"z\": [0, -0.618802], \"type\": \"scatter3d\"}, {\"mode\": \"lines\", \"y\": [0, 1.884678], \"x\": [0, -0.26093], \"line\": {\"color\": \"rgb(20, 0, 145)\", \"width\": 2}, \"z\": [0, -0.616366], \"type\": \"scatter3d\"}, {\"mode\": \"lines\", \"y\": [0, 1.884534], \"x\": [0, -0.262744], \"line\": {\"color\": \"rgb(20, 0, 145)\", \"width\": 2}, \"z\": [0, -0.616036], \"type\": \"scatter3d\"}, {\"mode\": \"lines\", \"y\": [0, 1.883452], \"x\": [0, -0.258652], \"line\": {\"color\": \"rgb(20, 0, 145)\", \"width\": 2}, \"z\": [0, -0.621056], \"type\": \"scatter3d\"}, {\"mode\": \"lines\", \"y\": [0, 1.883452], \"x\": [0, -0.258652], \"line\": {\"color\": \"rgb(20, 0, 145)\", \"width\": 2}, \"z\": [0, -0.621056], \"type\": \"scatter3d\"}, {\"mode\": \"lines\", \"y\": [0, 1.883558], \"x\": [0, -0.257008], \"line\": {\"color\": \"rgb(20, 0, 145)\", \"width\": 2}, \"z\": [0, -0.621412], \"type\": \"scatter3d\"}, {\"mode\": \"lines\", \"y\": [0, 1.882908], \"x\": [0, -0.258392], \"line\": {\"color\": \"rgb(20, 0, 145)\", \"width\": 2}, \"z\": [0, -0.622808], \"type\": \"scatter3d\"}, {\"mode\": \"lines\", \"y\": [0, 1.883386], \"x\": [0, -0.255662], \"line\": {\"color\": \"rgb(20, 0, 145)\", \"width\": 2}, \"z\": [0, -0.622492], \"type\": \"scatter3d\"}, {\"mode\": \"lines\", \"y\": [0, 1.881078], \"x\": [0, -0.266306], \"line\": {\"color\": \"rgb(20, 0, 145)\", \"width\": 2}, \"z\": [0, -0.625002], \"type\": \"scatter3d\"}, {\"mode\": \"lines\", \"y\": [0, 1.881078], \"x\": [0, -0.266306], \"line\": {\"color\": \"rgb(20, 0, 145)\", \"width\": 2}, \"z\": [0, -0.625002], \"type\": \"scatter3d\"}, {\"mode\": \"lines\", \"y\": [0, 1.881482], \"x\": [0, -0.26327], \"line\": {\"color\": \"rgb(20, 0, 145)\", \"width\": 2}, \"z\": [0, -0.625072], \"type\": \"scatter3d\"}, {\"mode\": \"lines\", \"y\": [0, 1.88056], \"x\": [0, -0.267388], \"line\": {\"color\": \"rgb(20, 0, 145)\", \"width\": 2}, \"z\": [0, -0.626098], \"type\": \"scatter3d\"}, {\"mode\": \"lines\", \"y\": [0, 1.879454], \"x\": [0, -0.264084], \"line\": {\"color\": \"rgb(20, 0, 145)\", \"width\": 2}, \"z\": [0, -0.630802], \"type\": \"scatter3d\"}, {\"mode\": \"lines\", \"y\": [0, 1.88119], \"x\": [0, -0.263846], \"line\": {\"color\": \"rgb(20, 0, 145)\", \"width\": 2}, \"z\": [0, -0.625706], \"type\": \"scatter3d\"}, {\"mode\": \"lines\", \"y\": [0, 1.879664], \"x\": [0, -0.264598], \"line\": {\"color\": \"rgb(20, 0, 145)\", \"width\": 2}, \"z\": [0, -0.629964], \"type\": \"scatter3d\"}, {\"mode\": \"lines\", \"y\": [0, 1.879664], \"x\": [0, -0.264598], \"line\": {\"color\": \"rgb(20, 0, 145)\", \"width\": 2}, \"z\": [0, -0.629964], \"type\": \"scatter3d\"}, {\"mode\": \"lines\", \"y\": [0, 1.880024], \"x\": [0, -0.264436], \"line\": {\"color\": \"rgb(20, 0, 145)\", \"width\": 2}, \"z\": [0, -0.628952], \"type\": \"scatter3d\"}, {\"mode\": \"lines\", \"y\": [0, 1.88008], \"x\": [0, -0.268784], \"line\": {\"color\": \"rgb(20, 0, 145)\", \"width\": 2}, \"z\": [0, -0.626938], \"type\": \"scatter3d\"}, {\"mode\": \"lines\", \"y\": [0, 1.880908], \"x\": [0, -0.26742], \"line\": {\"color\": \"rgb(20, 0, 145)\", \"width\": 2}, \"z\": [0, -0.62504], \"type\": \"scatter3d\"}, {\"mode\": \"lines\", \"y\": [0, 1.881914], \"x\": [0, -0.26528], \"line\": {\"color\": \"rgb(20, 0, 145)\", \"width\": 2}, \"z\": [0, -0.622918], \"type\": \"scatter3d\"}, {\"mode\": \"lines\", \"y\": [0, 1.881798], \"x\": [0, -0.264488], \"line\": {\"color\": \"rgb(20, 0, 145)\", \"width\": 2}, \"z\": [0, -0.623604], \"type\": \"scatter3d\"}, {\"mode\": \"lines\", \"y\": [0, 1.881798], \"x\": [0, -0.264488], \"line\": {\"color\": \"rgb(20, 0, 145)\", \"width\": 2}, \"z\": [0, -0.623604], \"type\": \"scatter3d\"}, {\"mode\": \"lines\", \"y\": [0, 1.88165], \"x\": [0, -0.263192], \"line\": {\"color\": \"rgb(20, 0, 145)\", \"width\": 2}, \"z\": [0, -0.6246], \"type\": \"scatter3d\"}, {\"mode\": \"lines\", \"y\": [0, 1.879836], \"x\": [0, -0.26344], \"line\": {\"color\": \"rgb(20, 0, 145)\", \"width\": 2}, \"z\": [0, -0.629932], \"type\": \"scatter3d\"}, {\"mode\": \"lines\", \"y\": [0, 1.88191], \"x\": [0, -0.262272], \"line\": {\"color\": \"rgb(20, 0, 145)\", \"width\": 2}, \"z\": [0, -0.6242], \"type\": \"scatter3d\"}, {\"mode\": \"lines\", \"y\": [0, 1.881308], \"x\": [0, -0.265636], \"line\": {\"color\": \"rgb(20, 0, 145)\", \"width\": 2}, \"z\": [0, -0.624596], \"type\": \"scatter3d\"}, {\"mode\": \"lines\", \"y\": [0, 1.881308], \"x\": [0, -0.265636], \"line\": {\"color\": \"rgb(20, 0, 145)\", \"width\": 2}, \"z\": [0, -0.624596], \"type\": \"scatter3d\"}, {\"mode\": \"lines\", \"y\": [0, 1.880652], \"x\": [0, -0.265582], \"line\": {\"color\": \"rgb(20, 0, 145)\", \"width\": 2}, \"z\": [0, -0.62659], \"type\": \"scatter3d\"}, {\"mode\": \"lines\", \"y\": [0, 1.881052], \"x\": [0, -0.261866], \"line\": {\"color\": \"rgb(20, 0, 145)\", \"width\": 2}, \"z\": [0, -0.626952], \"type\": \"scatter3d\"}, {\"mode\": \"lines\", \"y\": [0, 1.882548], \"x\": [0, -0.262534], \"line\": {\"color\": \"rgb(20, 0, 145)\", \"width\": 2}, \"z\": [0, -0.622164], \"type\": \"scatter3d\"}, {\"mode\": \"lines\", \"y\": [0, 1.882548], \"x\": [0, -0.262534], \"line\": {\"color\": \"rgb(20, 0, 145)\", \"width\": 2}, \"z\": [0, -0.622164], \"type\": \"scatter3d\"}, {\"mode\": \"lines\", \"y\": [0, 1.882222], \"x\": [0, -0.260234], \"line\": {\"color\": \"rgb(20, 0, 145)\", \"width\": 2}, \"z\": [0, -0.624114], \"type\": \"scatter3d\"}, {\"mode\": \"lines\", \"y\": [0, 1.881246], \"x\": [0, -0.264262], \"line\": {\"color\": \"rgb(20, 0, 145)\", \"width\": 2}, \"z\": [0, -0.625364], \"type\": \"scatter3d\"}, {\"mode\": \"lines\", \"y\": [0, 1.880954], \"x\": [0, -0.258822], \"line\": {\"color\": \"rgb(20, 0, 145)\", \"width\": 2}, \"z\": [0, -0.628508], \"type\": \"scatter3d\"}, {\"mode\": \"lines\", \"y\": [0, 1.88147], \"x\": [0, -0.26153], \"line\": {\"color\": \"rgb(20, 0, 145)\", \"width\": 2}, \"z\": [0, -0.62584], \"type\": \"scatter3d\"}, {\"mode\": \"lines\", \"y\": [0, 1.88147], \"x\": [0, -0.26153], \"line\": {\"color\": \"rgb(20, 0, 145)\", \"width\": 2}, \"z\": [0, -0.62584], \"type\": \"scatter3d\"}, {\"mode\": \"lines\", \"y\": [0, 1.88005], \"x\": [0, -0.26441], \"line\": {\"color\": \"rgb(20, 0, 145)\", \"width\": 2}, \"z\": [0, -0.62889], \"type\": \"scatter3d\"}, {\"mode\": \"lines\", \"y\": [0, 1.880694], \"x\": [0, -0.262914], \"line\": {\"color\": \"rgb(20, 0, 145)\", \"width\": 2}, \"z\": [0, -0.627586], \"type\": \"scatter3d\"}, {\"mode\": \"lines\", \"y\": [0, 1.88061], \"x\": [0, -0.264796], \"line\": {\"color\": \"rgb(20, 0, 145)\", \"width\": 2}, \"z\": [0, -0.627048], \"type\": \"scatter3d\"}, {\"mode\": \"lines\", \"y\": [0, 1.881156], \"x\": [0, -0.260188], \"line\": {\"color\": \"rgb(20, 0, 145)\", \"width\": 2}, \"z\": [0, -0.627342], \"type\": \"scatter3d\"}, {\"mode\": \"lines\", \"y\": [0, 1.881156], \"x\": [0, -0.260188], \"line\": {\"color\": \"rgb(20, 0, 145)\", \"width\": 2}, \"z\": [0, -0.627342], \"type\": \"scatter3d\"}, {\"mode\": \"lines\", \"y\": [0, 1.881078], \"x\": [0, -0.260338], \"line\": {\"color\": \"rgb(20, 0, 145)\", \"width\": 2}, \"z\": [0, -0.627508], \"type\": \"scatter3d\"}, {\"mode\": \"lines\", \"y\": [0, 1.880534], \"x\": [0, -0.260828], \"line\": {\"color\": \"rgb(20, 0, 145)\", \"width\": 2}, \"z\": [0, -0.628936], \"type\": \"scatter3d\"}, {\"mode\": \"lines\", \"y\": [0, 1.880892], \"x\": [0, -0.261514], \"line\": {\"color\": \"rgb(20, 0, 145)\", \"width\": 2}, \"z\": [0, -0.627578], \"type\": \"scatter3d\"}, {\"mode\": \"lines\", \"y\": [0, 1.8803], \"x\": [0, -0.26247], \"line\": {\"color\": \"rgb(20, 0, 145)\", \"width\": 2}, \"z\": [0, -0.628954], \"type\": \"scatter3d\"}, {\"mode\": \"lines\", \"y\": [0, 1.8803], \"x\": [0, -0.26247], \"line\": {\"color\": \"rgb(20, 0, 145)\", \"width\": 2}, \"z\": [0, -0.628954], \"type\": \"scatter3d\"}, {\"mode\": \"lines\", \"y\": [0, 1.880678], \"x\": [0, -0.259286], \"line\": {\"color\": \"rgb(20, 0, 145)\", \"width\": 2}, \"z\": [0, -0.629142], \"type\": \"scatter3d\"}, {\"mode\": \"lines\", \"y\": [0, 1.881018], \"x\": [0, -0.259694], \"line\": {\"color\": \"rgb(20, 0, 145)\", \"width\": 2}, \"z\": [0, -0.627956], \"type\": \"scatter3d\"}, {\"mode\": \"lines\", \"y\": [0, 1.880976], \"x\": [0, -0.25867], \"line\": {\"color\": \"rgb(20, 0, 145)\", \"width\": 2}, \"z\": [0, -0.628508], \"type\": \"scatter3d\"}, {\"mode\": \"lines\", \"y\": [0, 1.881428], \"x\": [0, -0.259922], \"line\": {\"color\": \"rgb(20, 0, 145)\", \"width\": 2}, \"z\": [0, -0.626634], \"type\": \"scatter3d\"}, {\"mode\": \"lines\", \"y\": [0, 1.88177], \"x\": [0, -0.256304], \"line\": {\"color\": \"rgb(20, 0, 145)\", \"width\": 2}, \"z\": [0, -0.627094], \"type\": \"scatter3d\"}, {\"mode\": \"lines\", \"y\": [0, 1.88177], \"x\": [0, -0.256304], \"line\": {\"color\": \"rgb(20, 0, 145)\", \"width\": 2}, \"z\": [0, -0.627094], \"type\": \"scatter3d\"}, {\"mode\": \"lines\", \"y\": [0, 1.881834], \"x\": [0, -0.255894], \"line\": {\"color\": \"rgb(20, 0, 145)\", \"width\": 2}, \"z\": [0, -0.627072], \"type\": \"scatter3d\"}, {\"mode\": \"lines\", \"y\": [0, 1.881066], \"x\": [0, -0.25711], \"line\": {\"color\": \"rgb(20, 0, 145)\", \"width\": 2}, \"z\": [0, -0.628874], \"type\": \"scatter3d\"}, {\"mode\": \"lines\", \"y\": [0, 1.881194], \"x\": [0, -0.25629], \"line\": {\"color\": \"rgb(20, 0, 145)\", \"width\": 2}, \"z\": [0, -0.62883], \"type\": \"scatter3d\"}, {\"mode\": \"lines\", \"y\": [0, 1.88046], \"x\": [0, -0.25854], \"line\": {\"color\": \"rgb(20, 0, 145)\", \"width\": 2}, \"z\": [0, -0.630102], \"type\": \"scatter3d\"}, {\"mode\": \"lines\", \"y\": [0, 1.88046], \"x\": [0, -0.25854], \"line\": {\"color\": \"rgb(20, 0, 145)\", \"width\": 2}, \"z\": [0, -0.630102], \"type\": \"scatter3d\"}, {\"mode\": \"lines\", \"y\": [0, 1.88169], \"x\": [0, -0.255992], \"line\": {\"color\": \"rgb(20, 0, 145)\", \"width\": 2}, \"z\": [0, -0.627466], \"type\": \"scatter3d\"}, {\"mode\": \"lines\", \"y\": [0, 1.880598], \"x\": [0, -0.258886], \"line\": {\"color\": \"rgb(20, 0, 145)\", \"width\": 2}, \"z\": [0, -0.629548], \"type\": \"scatter3d\"}, {\"mode\": \"lines\", \"y\": [0, 1.882424], \"x\": [0, -0.255818], \"line\": {\"color\": \"rgb(20, 0, 145)\", \"width\": 2}, \"z\": [0, -0.62533], \"type\": \"scatter3d\"}, {\"mode\": \"lines\", \"y\": [0, 1.882514], \"x\": [0, -0.254714], \"line\": {\"color\": \"rgb(20, 0, 145)\", \"width\": 2}, \"z\": [0, -0.625508], \"type\": \"scatter3d\"}, {\"mode\": \"lines\", \"y\": [0, 1.882514], \"x\": [0, -0.254714], \"line\": {\"color\": \"rgb(20, 0, 145)\", \"width\": 2}, \"z\": [0, -0.625508], \"type\": \"scatter3d\"}, {\"mode\": \"lines\", \"y\": [0, 1.882096], \"x\": [0, -0.254464], \"line\": {\"color\": \"rgb(20, 0, 145)\", \"width\": 2}, \"z\": [0, -0.626864], \"type\": \"scatter3d\"}, {\"mode\": \"lines\", \"y\": [0, 1.88397], \"x\": [0, -0.249782], \"line\": {\"color\": \"rgb(20, 0, 145)\", \"width\": 2}, \"z\": [0, -0.62311], \"type\": \"scatter3d\"}, {\"mode\": \"lines\", \"y\": [0, 1.882786], \"x\": [0, -0.253246], \"line\": {\"color\": \"rgb(20, 0, 145)\", \"width\": 2}, \"z\": [0, -0.625286], \"type\": \"scatter3d\"}, {\"mode\": \"lines\", \"y\": [0, 1.882786], \"x\": [0, -0.253246], \"line\": {\"color\": \"rgb(20, 0, 145)\", \"width\": 2}, \"z\": [0, -0.625286], \"type\": \"scatter3d\"}, {\"mode\": \"lines\", \"y\": [0, 1.884434], \"x\": [0, -0.258584], \"line\": {\"color\": \"rgb(20, 0, 145)\", \"width\": 2}, \"z\": [0, -0.618096], \"type\": \"scatter3d\"}, {\"mode\": \"lines\", \"y\": [0, 1.885474], \"x\": [0, -0.259678], \"line\": {\"color\": \"rgb(20, 0, 145)\", \"width\": 2}, \"z\": [0, -0.614458], \"type\": \"scatter3d\"}, {\"mode\": \"lines\", \"y\": [0, 1.885314], \"x\": [0, -0.256704], \"line\": {\"color\": \"rgb(20, 0, 145)\", \"width\": 2}, \"z\": [0, -0.616192], \"type\": \"scatter3d\"}, {\"mode\": \"lines\", \"y\": [0, 1.886168], \"x\": [0, -0.255714], \"line\": {\"color\": \"rgb(20, 0, 145)\", \"width\": 2}, \"z\": [0, -0.613986], \"type\": \"scatter3d\"}, {\"mode\": \"lines\", \"y\": [0, 1.885792], \"x\": [0, -0.255642], \"line\": {\"color\": \"rgb(20, 0, 145)\", \"width\": 2}, \"z\": [0, -0.615174], \"type\": \"scatter3d\"}, {\"mode\": \"lines\", \"y\": [0, 1.885792], \"x\": [0, -0.255642], \"line\": {\"color\": \"rgb(20, 0, 145)\", \"width\": 2}, \"z\": [0, -0.615174], \"type\": \"scatter3d\"}, {\"mode\": \"lines\", \"y\": [0, 1.885292], \"x\": [0, -0.258122], \"line\": {\"color\": \"rgb(20, 0, 145)\", \"width\": 2}, \"z\": [0, -0.615668], \"type\": \"scatter3d\"}, {\"mode\": \"lines\", \"y\": [0, 1.886888], \"x\": [0, -0.255508], \"line\": {\"color\": \"rgb(20, 0, 145)\", \"width\": 2}, \"z\": [0, -0.611856], \"type\": \"scatter3d\"}, {\"mode\": \"lines\", \"y\": [0, 1.884302], \"x\": [0, -0.253754], \"line\": {\"color\": \"rgb(20, 0, 145)\", \"width\": 2}, \"z\": [0, -0.620496], \"type\": \"scatter3d\"}, {\"mode\": \"lines\", \"y\": [0, 1.884302], \"x\": [0, -0.253754], \"line\": {\"color\": \"rgb(20, 0, 145)\", \"width\": 2}, \"z\": [0, -0.620496], \"type\": \"scatter3d\"}, {\"mode\": \"lines\", \"y\": [0, 1.88416], \"x\": [0, -0.25578], \"line\": {\"color\": \"rgb(20, 0, 145)\", \"width\": 2}, \"z\": [0, -0.620094], \"type\": \"scatter3d\"}, {\"mode\": \"lines\", \"y\": [0, 1.884508], \"x\": [0, -0.255996], \"line\": {\"color\": \"rgb(20, 0, 145)\", \"width\": 2}, \"z\": [0, -0.618948], \"type\": \"scatter3d\"}, {\"mode\": \"lines\", \"y\": [0, 1.885034], \"x\": [0, -0.253586], \"line\": {\"color\": \"rgb(20, 0, 145)\", \"width\": 2}, \"z\": [0, -0.618338], \"type\": \"scatter3d\"}, {\"mode\": \"lines\", \"y\": [0, 1.88532], \"x\": [0, -0.250784], \"line\": {\"color\": \"rgb(20, 0, 145)\", \"width\": 2}, \"z\": [0, -0.61861], \"type\": \"scatter3d\"}, {\"mode\": \"lines\", \"y\": [0, 1.88532], \"x\": [0, -0.250784], \"line\": {\"color\": \"rgb(20, 0, 145)\", \"width\": 2}, \"z\": [0, -0.61861], \"type\": \"scatter3d\"}, {\"mode\": \"lines\", \"y\": [0, 1.88564], \"x\": [0, -0.254034], \"line\": {\"color\": \"rgb(20, 0, 145)\", \"width\": 2}, \"z\": [0, -0.616304], \"type\": \"scatter3d\"}, {\"mode\": \"lines\", \"y\": [0, 1.88303], \"x\": [0, -0.258406], \"line\": {\"color\": \"rgb(20, 0, 145)\", \"width\": 2}, \"z\": [0, -0.622434], \"type\": \"scatter3d\"}, {\"mode\": \"lines\", \"y\": [0, 1.88488], \"x\": [0, -0.250358], \"line\": {\"color\": \"rgb(20, 0, 145)\", \"width\": 2}, \"z\": [0, -0.620116], \"type\": \"scatter3d\"}, {\"mode\": \"lines\", \"y\": [0, 1.88449], \"x\": [0, -0.24949], \"line\": {\"color\": \"rgb(20, 0, 145)\", \"width\": 2}, \"z\": [0, -0.62165], \"type\": \"scatter3d\"}, {\"mode\": \"lines\", \"y\": [0, 1.88449], \"x\": [0, -0.24949], \"line\": {\"color\": \"rgb(20, 0, 145)\", \"width\": 2}, \"z\": [0, -0.62165], \"type\": \"scatter3d\"}, {\"mode\": \"lines\", \"y\": [0, 1.884636], \"x\": [0, -0.24981], \"line\": {\"color\": \"rgb(20, 0, 145)\", \"width\": 2}, \"z\": [0, -0.621084], \"type\": \"scatter3d\"}, {\"mode\": \"lines\", \"y\": [0, 1.885448], \"x\": [0, -0.249778], \"line\": {\"color\": \"rgb(20, 0, 145)\", \"width\": 2}, \"z\": [0, -0.618624], \"type\": \"scatter3d\"}, {\"mode\": \"lines\", \"y\": [0, 1.884886], \"x\": [0, -0.245978], \"line\": {\"color\": \"rgb(20, 0, 145)\", \"width\": 2}, \"z\": [0, -0.62185], \"type\": \"scatter3d\"}, {\"mode\": \"lines\", \"y\": [0, 1.883854], \"x\": [0, -0.249828], \"line\": {\"color\": \"rgb(20, 0, 145)\", \"width\": 2}, \"z\": [0, -0.623442], \"type\": \"scatter3d\"}, {\"mode\": \"lines\", \"y\": [0, 1.883854], \"x\": [0, -0.249828], \"line\": {\"color\": \"rgb(20, 0, 145)\", \"width\": 2}, \"z\": [0, -0.623442], \"type\": \"scatter3d\"}, {\"mode\": \"lines\", \"y\": [0, 1.883844], \"x\": [0, -0.242876], \"line\": {\"color\": \"rgb(20, 0, 145)\", \"width\": 2}, \"z\": [0, -0.62621], \"type\": \"scatter3d\"}, {\"mode\": \"lines\", \"y\": [0, 1.883844], \"x\": [0, -0.242876], \"line\": {\"color\": \"rgb(20, 0, 145)\", \"width\": 2}, \"z\": [0, -0.62621], \"type\": \"scatter3d\"}, {\"mode\": \"lines\", \"y\": [0, 1.888026], \"x\": [0, -0.233912], \"line\": {\"color\": \"rgb(20, 0, 145)\", \"width\": 2}, \"z\": [0, -0.61696], \"type\": \"scatter3d\"}, {\"mode\": \"lines\", \"y\": [0, 1.886378], \"x\": [0, -0.234684], \"line\": {\"color\": \"rgb(20, 0, 145)\", \"width\": 2}, \"z\": [0, -0.621694], \"type\": \"scatter3d\"}, {\"mode\": \"lines\", \"y\": [0, 1.886378], \"x\": [0, -0.234684], \"line\": {\"color\": \"rgb(20, 0, 145)\", \"width\": 2}, \"z\": [0, -0.621694], \"type\": \"scatter3d\"}, {\"mode\": \"lines\", \"y\": [0, 1.88705], \"x\": [0, -0.237642], \"line\": {\"color\": \"rgb(20, 0, 145)\", \"width\": 2}, \"z\": [0, -0.618522], \"type\": \"scatter3d\"}, {\"mode\": \"lines\", \"y\": [0, 1.89159], \"x\": [0, -0.01359276], \"line\": {\"color\": \"rgb(20, 0, 145)\", \"width\": 2}, \"z\": [0, -0.649386], \"type\": \"scatter3d\"}, {\"mode\": \"lines\", \"y\": [0, 1.891418], \"x\": [0, -0.01144308], \"line\": {\"color\": \"rgb(20, 0, 145)\", \"width\": 2}, \"z\": [0, -0.649928], \"type\": \"scatter3d\"}, {\"mode\": \"lines\", \"y\": [0, 1.891418], \"x\": [0, -0.01144308], \"line\": {\"color\": \"rgb(20, 0, 145)\", \"width\": 2}, \"z\": [0, -0.649928], \"type\": \"scatter3d\"}, {\"mode\": \"lines\", \"y\": [0, 1.891688], \"x\": [0, -0.01008678], \"line\": {\"color\": \"rgb(20, 0, 145)\", \"width\": 2}, \"z\": [0, -0.649164], \"type\": \"scatter3d\"}, {\"mode\": \"lines\", \"y\": [0, 1.893084], \"x\": [0, -0.01158798], \"line\": {\"color\": \"rgb(20, 0, 145)\", \"width\": 2}, \"z\": [0, -0.645058], \"type\": \"scatter3d\"}, {\"mode\": \"lines\", \"y\": [0, 1.891022], \"x\": [0, -0.0084648], \"line\": {\"color\": \"rgb(20, 0, 145)\", \"width\": 2}, \"z\": [0, -0.651124], \"type\": \"scatter3d\"}, {\"mode\": \"lines\", \"y\": [0, 1.893934], \"x\": [0, -0.00836622], \"line\": {\"color\": \"rgb(20, 0, 145)\", \"width\": 2}, \"z\": [0, -0.642604], \"type\": \"scatter3d\"}, {\"mode\": \"lines\", \"y\": [0, 1.891124], \"x\": [0, -0.0138453], \"line\": {\"color\": \"rgb(20, 0, 145)\", \"width\": 2}, \"z\": [0, -0.650738], \"type\": \"scatter3d\"}, {\"mode\": \"lines\", \"y\": [0, 1.891124], \"x\": [0, -0.0138453], \"line\": {\"color\": \"rgb(20, 0, 145)\", \"width\": 2}, \"z\": [0, -0.650738], \"type\": \"scatter3d\"}, {\"mode\": \"lines\", \"y\": [0, 1.892824], \"x\": [0, -0.00890144], \"line\": {\"color\": \"rgb(20, 0, 145)\", \"width\": 2}, \"z\": [0, -0.645864], \"type\": \"scatter3d\"}, {\"mode\": \"lines\", \"y\": [0, 1.893944], \"x\": [0, -0.0089996], \"line\": {\"color\": \"rgb(20, 0, 145)\", \"width\": 2}, \"z\": [0, -0.642568], \"type\": \"scatter3d\"}, {\"mode\": \"lines\", \"y\": [0, 1.8907], \"x\": [0, -0.01204646], \"line\": {\"color\": \"rgb(20, 0, 145)\", \"width\": 2}, \"z\": [0, -0.652002], \"type\": \"scatter3d\"}, {\"mode\": \"lines\", \"y\": [0, 1.8907], \"x\": [0, -0.01204646], \"line\": {\"color\": \"rgb(20, 0, 145)\", \"width\": 2}, \"z\": [0, -0.652002], \"type\": \"scatter3d\"}, {\"mode\": \"lines\", \"y\": [0, 1.890366], \"x\": [0, -0.00955072], \"line\": {\"color\": \"rgb(20, 0, 145)\", \"width\": 2}, \"z\": [0, -0.653014], \"type\": \"scatter3d\"}, {\"mode\": \"lines\", \"y\": [0, 1.89007], \"x\": [0, -0.01735642], \"line\": {\"color\": \"rgb(20, 0, 145)\", \"width\": 2}, \"z\": [0, -0.653708], \"type\": \"scatter3d\"}, {\"mode\": \"lines\", \"y\": [0, 1.889296], \"x\": [0, -0.01230984], \"line\": {\"color\": \"rgb(20, 0, 145)\", \"width\": 2}, \"z\": [0, -0.656056], \"type\": \"scatter3d\"}, {\"mode\": \"lines\", \"y\": [0, 1.888296], \"x\": [0, -0.01434466], \"line\": {\"color\": \"rgb(20, 0, 145)\", \"width\": 2}, \"z\": [0, -0.658884], \"type\": \"scatter3d\"}, {\"mode\": \"lines\", \"y\": [0, 1.889812], \"x\": [0, -0.01315174], \"line\": {\"color\": \"rgb(20, 0, 145)\", \"width\": 2}, \"z\": [0, -0.65455], \"type\": \"scatter3d\"}, {\"mode\": \"lines\", \"y\": [0, 1.889812], \"x\": [0, -0.01315174], \"line\": {\"color\": \"rgb(20, 0, 145)\", \"width\": 2}, \"z\": [0, -0.65455], \"type\": \"scatter3d\"}, {\"mode\": \"lines\", \"y\": [0, 1.891112], \"x\": [0, -0.01117448], \"line\": {\"color\": \"rgb(20, 0, 145)\", \"width\": 2}, \"z\": [0, -0.650824], \"type\": \"scatter3d\"}, {\"mode\": \"lines\", \"y\": [0, 1.889844], \"x\": [0, -0.00998916], \"line\": {\"color\": \"rgb(20, 0, 145)\", \"width\": 2}, \"z\": [0, -0.654512], \"type\": \"scatter3d\"}, {\"mode\": \"lines\", \"y\": [0, 1.889282], \"x\": [0, -0.01255968], \"line\": {\"color\": \"rgb(20, 0, 145)\", \"width\": 2}, \"z\": [0, -0.656088], \"type\": \"scatter3d\"}, {\"mode\": \"lines\", \"y\": [0, 1.889282], \"x\": [0, -0.01255968], \"line\": {\"color\": \"rgb(20, 0, 145)\", \"width\": 2}, \"z\": [0, -0.656088], \"type\": \"scatter3d\"}, {\"mode\": \"lines\", \"y\": [0, 1.890116], \"x\": [0, -0.00562716], \"line\": {\"color\": \"rgb(20, 0, 145)\", \"width\": 2}, \"z\": [0, -0.653782], \"type\": \"scatter3d\"}, {\"mode\": \"lines\", \"y\": [0, 1.8899], \"x\": [0, -0.00961856], \"line\": {\"color\": \"rgb(20, 0, 145)\", \"width\": 2}, \"z\": [0, -0.65436], \"type\": \"scatter3d\"}, {\"mode\": \"lines\", \"y\": [0, 1.890166], \"x\": [0, -0.0104028], \"line\": {\"color\": \"rgb(20, 0, 145)\", \"width\": 2}, \"z\": [0, -0.653578], \"type\": \"scatter3d\"}, {\"mode\": \"lines\", \"y\": [0, 1.888712], \"x\": [0, -0.01097408], \"line\": {\"color\": \"rgb(20, 0, 145)\", \"width\": 2}, \"z\": [0, -0.657758], \"type\": \"scatter3d\"}, {\"mode\": \"lines\", \"y\": [0, 1.888712], \"x\": [0, -0.01097408], \"line\": {\"color\": \"rgb(20, 0, 145)\", \"width\": 2}, \"z\": [0, -0.657758], \"type\": \"scatter3d\"}, {\"mode\": \"lines\", \"y\": [0, 1.888142], \"x\": [0, -0.01255564], \"line\": {\"color\": \"rgb(20, 0, 145)\", \"width\": 2}, \"z\": [0, -0.659362], \"type\": \"scatter3d\"}, {\"mode\": \"lines\", \"y\": [0, 1.888134], \"x\": [0, -0.01064284], \"line\": {\"color\": \"rgb(20, 0, 145)\", \"width\": 2}, \"z\": [0, -0.659422], \"type\": \"scatter3d\"}, {\"mode\": \"lines\", \"y\": [0, 1.88749], \"x\": [0, -0.01299558], \"line\": {\"color\": \"rgb(20, 0, 145)\", \"width\": 2}, \"z\": [0, -0.661218], \"type\": \"scatter3d\"}, {\"mode\": \"lines\", \"y\": [0, 1.887272], \"x\": [0, -0.0124644], \"line\": {\"color\": \"rgb(20, 0, 145)\", \"width\": 2}, \"z\": [0, -0.661854], \"type\": \"scatter3d\"}, {\"mode\": \"lines\", \"y\": [0, 1.888454], \"x\": [0, -0.01303322], \"line\": {\"color\": \"rgb(20, 0, 145)\", \"width\": 2}, \"z\": [0, -0.658462], \"type\": \"scatter3d\"}, {\"mode\": \"lines\", \"y\": [0, 1.888454], \"x\": [0, -0.01303322], \"line\": {\"color\": \"rgb(20, 0, 145)\", \"width\": 2}, \"z\": [0, -0.658462], \"type\": \"scatter3d\"}, {\"mode\": \"lines\", \"y\": [0, 1.88653], \"x\": [0, -0.01445224], \"line\": {\"color\": \"rgb(20, 0, 145)\", \"width\": 2}, \"z\": [0, -0.663926], \"type\": \"scatter3d\"}, {\"mode\": \"lines\", \"y\": [0, 1.886334], \"x\": [0, -0.01766026], \"line\": {\"color\": \"rgb(20, 0, 145)\", \"width\": 2}, \"z\": [0, -0.664402], \"type\": \"scatter3d\"}, {\"mode\": \"lines\", \"y\": [0, 1.88675], \"x\": [0, -0.0242596], \"line\": {\"color\": \"rgb(20, 0, 145)\", \"width\": 2}, \"z\": [0, -0.663014], \"type\": \"scatter3d\"}, {\"mode\": \"lines\", \"y\": [0, 1.885556], \"x\": [0, -0.0251978], \"line\": {\"color\": \"rgb(20, 0, 145)\", \"width\": 2}, \"z\": [0, -0.666366], \"type\": \"scatter3d\"}, {\"mode\": \"lines\", \"y\": [0, 1.88675], \"x\": [0, -0.0238566], \"line\": {\"color\": \"rgb(20, 0, 145)\", \"width\": 2}, \"z\": [0, -0.663026], \"type\": \"scatter3d\"}, {\"mode\": \"lines\", \"y\": [0, 1.887454], \"x\": [0, -0.0227464], \"line\": {\"color\": \"rgb(20, 0, 145)\", \"width\": 2}, \"z\": [0, -0.661062], \"type\": \"scatter3d\"}, {\"mode\": \"lines\", \"y\": [0, 1.88656], \"x\": [0, -0.0262374], \"line\": {\"color\": \"rgb(20, 0, 145)\", \"width\": 2}, \"z\": [0, -0.663476], \"type\": \"scatter3d\"}, {\"mode\": \"lines\", \"y\": [0, 1.887226], \"x\": [0, -0.0135913], \"line\": {\"color\": \"rgb(20, 0, 145)\", \"width\": 2}, \"z\": [0, -0.661962], \"type\": \"scatter3d\"}, {\"mode\": \"lines\", \"y\": [0, 1.884438], \"x\": [0, -0.01502344], \"line\": {\"color\": \"rgb(20, 0, 145)\", \"width\": 2}, \"z\": [0, -0.669826], \"type\": \"scatter3d\"}, {\"mode\": \"lines\", \"y\": [0, 1.882684], \"x\": [0, -0.01763126], \"line\": {\"color\": \"rgb(20, 0, 145)\", \"width\": 2}, \"z\": [0, -0.67468], \"type\": \"scatter3d\"}, {\"mode\": \"lines\", \"y\": [0, 1.88333], \"x\": [0, -0.01899352], \"line\": {\"color\": \"rgb(20, 0, 145)\", \"width\": 2}, \"z\": [0, -0.672838], \"type\": \"scatter3d\"}, {\"mode\": \"lines\", \"y\": [0, 1.883576], \"x\": [0, -0.01483978], \"line\": {\"color\": \"rgb(20, 0, 145)\", \"width\": 2}, \"z\": [0, -0.672248], \"type\": \"scatter3d\"}, {\"mode\": \"lines\", \"y\": [0, 1.88026], \"x\": [0, -0.0253452], \"line\": {\"color\": \"rgb(20, 0, 145)\", \"width\": 2}, \"z\": [0, -0.68116], \"type\": \"scatter3d\"}, {\"mode\": \"lines\", \"y\": [0, 1.88026], \"x\": [0, -0.0253452], \"line\": {\"color\": \"rgb(20, 0, 145)\", \"width\": 2}, \"z\": [0, -0.68116], \"type\": \"scatter3d\"}, {\"mode\": \"lines\", \"y\": [0, 1.87956], \"x\": [0, -0.0228706], \"line\": {\"color\": \"rgb(20, 0, 145)\", \"width\": 2}, \"z\": [0, -0.683178], \"type\": \"scatter3d\"}, {\"mode\": \"lines\", \"y\": [0, 1.87862], \"x\": [0, -0.0203358], \"line\": {\"color\": \"rgb(20, 0, 145)\", \"width\": 2}, \"z\": [0, -0.685838], \"type\": \"scatter3d\"}, {\"mode\": \"lines\", \"y\": [0, 1.877976], \"x\": [0, -0.0256216], \"line\": {\"color\": \"rgb(20, 0, 145)\", \"width\": 2}, \"z\": [0, -0.687424], \"type\": \"scatter3d\"}, {\"mode\": \"lines\", \"y\": [0, 1.877486], \"x\": [0, -0.025691], \"line\": {\"color\": \"rgb(20, 0, 145)\", \"width\": 2}, \"z\": [0, -0.688758], \"type\": \"scatter3d\"}, {\"mode\": \"lines\", \"y\": [0, 1.877486], \"x\": [0, -0.025691], \"line\": {\"color\": \"rgb(20, 0, 145)\", \"width\": 2}, \"z\": [0, -0.688758], \"type\": \"scatter3d\"}, {\"mode\": \"lines\", \"y\": [0, 1.878534], \"x\": [0, -0.0228546], \"line\": {\"color\": \"rgb(20, 0, 145)\", \"width\": 2}, \"z\": [0, -0.685996], \"type\": \"scatter3d\"}, {\"mode\": \"lines\", \"y\": [0, 1.877752], \"x\": [0, -0.0247962], \"line\": {\"color\": \"rgb(20, 0, 145)\", \"width\": 2}, \"z\": [0, -0.688064], \"type\": \"scatter3d\"}, {\"mode\": \"lines\", \"y\": [0, 1.877824], \"x\": [0, -0.0250124], \"line\": {\"color\": \"rgb(20, 0, 145)\", \"width\": 2}, \"z\": [0, -0.687858], \"type\": \"scatter3d\"}, {\"mode\": \"lines\", \"y\": [0, 1.877578], \"x\": [0, -0.025733], \"line\": {\"color\": \"rgb(20, 0, 145)\", \"width\": 2}, \"z\": [0, -0.688504], \"type\": \"scatter3d\"}, {\"mode\": \"lines\", \"y\": [0, 1.877578], \"x\": [0, -0.025733], \"line\": {\"color\": \"rgb(20, 0, 145)\", \"width\": 2}, \"z\": [0, -0.688504], \"type\": \"scatter3d\"}, {\"mode\": \"lines\", \"y\": [0, 1.876548], \"x\": [0, -0.0272442], \"line\": {\"color\": \"rgb(20, 0, 145)\", \"width\": 2}, \"z\": [0, -0.691248], \"type\": \"scatter3d\"}, {\"mode\": \"lines\", \"y\": [0, 1.875672], \"x\": [0, -0.029519], \"line\": {\"color\": \"rgb(20, 0, 145)\", \"width\": 2}, \"z\": [0, -0.69353], \"type\": \"scatter3d\"}, {\"mode\": \"lines\", \"y\": [0, 1.874552], \"x\": [0, -0.0330256], \"line\": {\"color\": \"rgb(20, 0, 145)\", \"width\": 2}, \"z\": [0, -0.69639], \"type\": \"scatter3d\"}, {\"mode\": \"lines\", \"y\": [0, 1.874552], \"x\": [0, -0.0330256], \"line\": {\"color\": \"rgb(20, 0, 145)\", \"width\": 2}, \"z\": [0, -0.69639], \"type\": \"scatter3d\"}, {\"mode\": \"lines\", \"y\": [0, 1.876214], \"x\": [0, -0.0332258], \"line\": {\"color\": \"rgb(20, 0, 145)\", \"width\": 2}, \"z\": [0, -0.691892], \"type\": \"scatter3d\"}, {\"mode\": \"lines\", \"y\": [0, 1.875552], \"x\": [0, -0.0282792], \"line\": {\"color\": \"rgb(20, 0, 145)\", \"width\": 2}, \"z\": [0, -0.693904], \"type\": \"scatter3d\"}, {\"mode\": \"lines\", \"y\": [0, 1.881402], \"x\": [0, -0.027656], \"line\": {\"color\": \"rgb(20, 0, 145)\", \"width\": 2}, \"z\": [0, -0.677912], \"type\": \"scatter3d\"}, {\"mode\": \"lines\", \"y\": [0, 1.88014], \"x\": [0, -0.028457], \"line\": {\"color\": \"rgb(20, 0, 145)\", \"width\": 2}, \"z\": [0, -0.681372], \"type\": \"scatter3d\"}, {\"mode\": \"lines\", \"y\": [0, 1.880792], \"x\": [0, -0.0230146], \"line\": {\"color\": \"rgb(20, 0, 145)\", \"width\": 2}, \"z\": [0, -0.679776], \"type\": \"scatter3d\"}, {\"mode\": \"lines\", \"y\": [0, 1.880792], \"x\": [0, -0.0230146], \"line\": {\"color\": \"rgb(20, 0, 145)\", \"width\": 2}, \"z\": [0, -0.679776], \"type\": \"scatter3d\"}, {\"mode\": \"lines\", \"y\": [0, 1.88177], \"x\": [0, -0.0238006], \"line\": {\"color\": \"rgb(20, 0, 145)\", \"width\": 2}, \"z\": [0, -0.677032], \"type\": \"scatter3d\"}, {\"mode\": \"lines\", \"y\": [0, 1.880698], \"x\": [0, -0.0226066], \"line\": {\"color\": \"rgb(20, 0, 145)\", \"width\": 2}, \"z\": [0, -0.680044], \"type\": \"scatter3d\"}, {\"mode\": \"lines\", \"y\": [0, 1.88062], \"x\": [0, -0.0206544], \"line\": {\"color\": \"rgb(20, 0, 145)\", \"width\": 2}, \"z\": [0, -0.680324], \"type\": \"scatter3d\"}, {\"mode\": \"lines\", \"y\": [0, 1.88062], \"x\": [0, -0.0206544], \"line\": {\"color\": \"rgb(20, 0, 145)\", \"width\": 2}, \"z\": [0, -0.680324], \"type\": \"scatter3d\"}, {\"mode\": \"lines\", \"y\": [0, 1.878908], \"x\": [0, -0.0230328], \"line\": {\"color\": \"rgb(20, 0, 145)\", \"width\": 2}, \"z\": [0, -0.684964], \"type\": \"scatter3d\"}, {\"mode\": \"lines\", \"y\": [0, 1.876896], \"x\": [0, -0.0228144], \"line\": {\"color\": \"rgb(20, 0, 145)\", \"width\": 2}, \"z\": [0, -0.690466], \"type\": \"scatter3d\"}, {\"mode\": \"lines\", \"y\": [0, 1.87822], \"x\": [0, -0.0249658], \"line\": {\"color\": \"rgb(20, 0, 145)\", \"width\": 2}, \"z\": [0, -0.686782], \"type\": \"scatter3d\"}, {\"mode\": \"lines\", \"y\": [0, 1.87712], \"x\": [0, -0.029402], \"line\": {\"color\": \"rgb(20, 0, 145)\", \"width\": 2}, \"z\": [0, -0.689604], \"type\": \"scatter3d\"}, {\"mode\": \"lines\", \"y\": [0, 1.880586], \"x\": [0, -0.0262146], \"line\": {\"color\": \"rgb(20, 0, 145)\", \"width\": 2}, \"z\": [0, -0.680226], \"type\": \"scatter3d\"}, {\"mode\": \"lines\", \"y\": [0, 1.880586], \"x\": [0, -0.0262146], \"line\": {\"color\": \"rgb(20, 0, 145)\", \"width\": 2}, \"z\": [0, -0.680226], \"type\": \"scatter3d\"}, {\"mode\": \"lines\", \"y\": [0, 1.87636], \"x\": [0, -0.0283382], \"line\": {\"color\": \"rgb(20, 0, 145)\", \"width\": 2}, \"z\": [0, -0.691718], \"type\": \"scatter3d\"}, {\"mode\": \"lines\", \"y\": [0, 1.877942], \"x\": [0, -0.0286582], \"line\": {\"color\": \"rgb(20, 0, 145)\", \"width\": 2}, \"z\": [0, -0.687392], \"type\": \"scatter3d\"}, {\"mode\": \"lines\", \"y\": [0, 1.876084], \"x\": [0, -0.0333506], \"line\": {\"color\": \"rgb(20, 0, 145)\", \"width\": 2}, \"z\": [0, -0.692238], \"type\": \"scatter3d\"}, {\"mode\": \"lines\", \"y\": [0, 1.877336], \"x\": [0, -0.0305434], \"line\": {\"color\": \"rgb(20, 0, 145)\", \"width\": 2}, \"z\": [0, -0.68897], \"type\": \"scatter3d\"}, {\"mode\": \"lines\", \"y\": [0, 1.877336], \"x\": [0, -0.0305434], \"line\": {\"color\": \"rgb(20, 0, 145)\", \"width\": 2}, \"z\": [0, -0.68897], \"type\": \"scatter3d\"}, {\"mode\": \"lines\", \"y\": [0, 1.88191], \"x\": [0, -0.0261594], \"line\": {\"color\": \"rgb(20, 0, 145)\", \"width\": 2}, \"z\": [0, -0.676558], \"type\": \"scatter3d\"}, {\"mode\": \"lines\", \"y\": [0, 1.87764], \"x\": [0, -0.0304356], \"line\": {\"color\": \"rgb(20, 0, 145)\", \"width\": 2}, \"z\": [0, -0.688142], \"type\": \"scatter3d\"}, {\"mode\": \"lines\", \"y\": [0, 1.87633], \"x\": [0, -0.0294076], \"line\": {\"color\": \"rgb(20, 0, 145)\", \"width\": 2}, \"z\": [0, -0.69175], \"type\": \"scatter3d\"}, {\"mode\": \"lines\", \"y\": [0, 1.87633], \"x\": [0, -0.0294076], \"line\": {\"color\": \"rgb(20, 0, 145)\", \"width\": 2}, \"z\": [0, -0.69175], \"type\": \"scatter3d\"}, {\"mode\": \"lines\", \"y\": [0, 1.87939], \"x\": [0, -0.0277582], \"line\": {\"color\": \"rgb(20, 0, 145)\", \"width\": 2}, \"z\": [0, -0.683462], \"type\": \"scatter3d\"}, {\"mode\": \"lines\", \"y\": [0, 1.882074], \"x\": [0, -0.0252112], \"line\": {\"color\": \"rgb(20, 0, 145)\", \"width\": 2}, \"z\": [0, -0.676136], \"type\": \"scatter3d\"}, {\"mode\": \"lines\", \"y\": [0, 1.882932], \"x\": [0, -0.0240952], \"line\": {\"color\": \"rgb(20, 0, 145)\", \"width\": 2}, \"z\": [0, -0.673784], \"type\": \"scatter3d\"}, {\"mode\": \"lines\", \"y\": [0, 1.882276], \"x\": [0, -0.0263378], \"line\": {\"color\": \"rgb(20, 0, 145)\", \"width\": 2}, \"z\": [0, -0.675534], \"type\": \"scatter3d\"}, {\"mode\": \"lines\", \"y\": [0, 1.885784], \"x\": [0, -0.0232486], \"line\": {\"color\": \"rgb(20, 0, 145)\", \"width\": 2}, \"z\": [0, -0.665792], \"type\": \"scatter3d\"}, {\"mode\": \"lines\", \"y\": [0, 1.885784], \"x\": [0, -0.0232486], \"line\": {\"color\": \"rgb(20, 0, 145)\", \"width\": 2}, \"z\": [0, -0.665792], \"type\": \"scatter3d\"}, {\"mode\": \"lines\", \"y\": [0, 1.884774], \"x\": [0, -0.0246028], \"line\": {\"color\": \"rgb(20, 0, 145)\", \"width\": 2}, \"z\": [0, -0.668596], \"type\": \"scatter3d\"}, {\"mode\": \"lines\", \"y\": [0, 1.88167], \"x\": [0, -0.0212168], \"line\": {\"color\": \"rgb(20, 0, 145)\", \"width\": 2}, \"z\": [0, -0.677398], \"type\": \"scatter3d\"}, {\"mode\": \"lines\", \"y\": [0, 1.878948], \"x\": [0, -0.0256154], \"line\": {\"color\": \"rgb(20, 0, 145)\", \"width\": 2}, \"z\": [0, -0.68476], \"type\": \"scatter3d\"}, {\"mode\": \"lines\", \"y\": [0, 1.879786], \"x\": [0, -0.0268664], \"line\": {\"color\": \"rgb(20, 0, 145)\", \"width\": 2}, \"z\": [0, -0.682412], \"type\": \"scatter3d\"}, {\"mode\": \"lines\", \"y\": [0, 1.879786], \"x\": [0, -0.0268664], \"line\": {\"color\": \"rgb(20, 0, 145)\", \"width\": 2}, \"z\": [0, -0.682412], \"type\": \"scatter3d\"}, {\"mode\": \"lines\", \"y\": [0, 1.880082], \"x\": [0, -0.0276834], \"line\": {\"color\": \"rgb(20, 0, 145)\", \"width\": 2}, \"z\": [0, -0.68156], \"type\": \"scatter3d\"}, {\"mode\": \"lines\", \"y\": [0, 1.879824], \"x\": [0, -0.0251716], \"line\": {\"color\": \"rgb(20, 0, 145)\", \"width\": 2}, \"z\": [0, -0.682368], \"type\": \"scatter3d\"}, {\"mode\": \"lines\", \"y\": [0, 1.879678], \"x\": [0, 0.1963716], \"line\": {\"color\": \"rgb(20, 0, 145)\", \"width\": 2}, \"z\": [0, -0.654406], \"type\": \"scatter3d\"}, {\"mode\": \"lines\", \"y\": [0, 1.878452], \"x\": [0, 0.1923424], \"line\": {\"color\": \"rgb(20, 0, 145)\", \"width\": 2}, \"z\": [0, -0.659108], \"type\": \"scatter3d\"}, {\"mode\": \"lines\", \"y\": [0, 1.878452], \"x\": [0, 0.1923424], \"line\": {\"color\": \"rgb(20, 0, 145)\", \"width\": 2}, \"z\": [0, -0.659108], \"type\": \"scatter3d\"}, {\"mode\": \"lines\", \"y\": [0, 1.88102], \"x\": [0, 0.190139], \"line\": {\"color\": \"rgb(20, 0, 145)\", \"width\": 2}, \"z\": [0, -0.652392], \"type\": \"scatter3d\"}, {\"mode\": \"lines\", \"y\": [0, 1.881468], \"x\": [0, 0.1920304], \"line\": {\"color\": \"rgb(20, 0, 145)\", \"width\": 2}, \"z\": [0, -0.650542], \"type\": \"scatter3d\"}, {\"mode\": \"lines\", \"y\": [0, 1.879244], \"x\": [0, 0.1857408], \"line\": {\"color\": \"rgb(20, 0, 145)\", \"width\": 2}, \"z\": [0, -0.658742], \"type\": \"scatter3d\"}, {\"mode\": \"lines\", \"y\": [0, 1.881058], \"x\": [0, 0.191738], \"line\": {\"color\": \"rgb(20, 0, 145)\", \"width\": 2}, \"z\": [0, -0.651812], \"type\": \"scatter3d\"}, {\"mode\": \"lines\", \"y\": [0, 1.882612], \"x\": [0, 0.1797566], \"line\": {\"color\": \"rgb(20, 0, 145)\", \"width\": 2}, \"z\": [0, -0.65074], \"type\": \"scatter3d\"}, {\"mode\": \"lines\", \"y\": [0, 1.882612], \"x\": [0, 0.1797566], \"line\": {\"color\": \"rgb(20, 0, 145)\", \"width\": 2}, \"z\": [0, -0.65074], \"type\": \"scatter3d\"}, {\"mode\": \"lines\", \"y\": [0, 1.885214], \"x\": [0, 0.1909882], \"line\": {\"color\": \"rgb(20, 0, 145)\", \"width\": 2}, \"z\": [0, -0.639918], \"type\": \"scatter3d\"}, {\"mode\": \"lines\", \"y\": [0, 1.882596], \"x\": [0, 0.184482], \"line\": {\"color\": \"rgb(20, 0, 145)\", \"width\": 2}, \"z\": [0, -0.64946], \"type\": \"scatter3d\"}, {\"mode\": \"lines\", \"y\": [0, 1.882596], \"x\": [0, 0.184482], \"line\": {\"color\": \"rgb(20, 0, 145)\", \"width\": 2}, \"z\": [0, -0.64946], \"type\": \"scatter3d\"}, {\"mode\": \"lines\", \"y\": [0, 1.883464], \"x\": [0, 0.1799268], \"line\": {\"color\": \"rgb(20, 0, 145)\", \"width\": 2}, \"z\": [0, -0.648222], \"type\": \"scatter3d\"}, {\"mode\": \"lines\", \"y\": [0, 1.883178], \"x\": [0, 0.188701], \"line\": {\"color\": \"rgb(20, 0, 145)\", \"width\": 2}, \"z\": [0, -0.646556], \"type\": \"scatter3d\"}, {\"mode\": \"lines\", \"y\": [0, 1.885036], \"x\": [0, 0.1742866], \"line\": {\"color\": \"rgb(20, 0, 145)\", \"width\": 2}, \"z\": [0, -0.645184], \"type\": \"scatter3d\"}, {\"mode\": \"lines\", \"y\": [0, 1.884592], \"x\": [0, 0.1847546], \"line\": {\"color\": \"rgb(20, 0, 145)\", \"width\": 2}, \"z\": [0, -0.64357], \"type\": \"scatter3d\"}, {\"mode\": \"lines\", \"y\": [0, 1.882164], \"x\": [0, 0.1806858], \"line\": {\"color\": \"rgb(20, 0, 145)\", \"width\": 2}, \"z\": [0, -0.651778], \"type\": \"scatter3d\"}, {\"mode\": \"lines\", \"y\": [0, 1.882164], \"x\": [0, 0.1806858], \"line\": {\"color\": \"rgb(20, 0, 145)\", \"width\": 2}, \"z\": [0, -0.651778], \"type\": \"scatter3d\"}, {\"mode\": \"lines\", \"y\": [0, 1.883334], \"x\": [0, 0.1756114], \"line\": {\"color\": \"rgb(20, 0, 145)\", \"width\": 2}, \"z\": [0, -0.649782], \"type\": \"scatter3d\"}, {\"mode\": \"lines\", \"y\": [0, 1.880812], \"x\": [0, 0.1831328], \"line\": {\"color\": \"rgb(20, 0, 145)\", \"width\": 2}, \"z\": [0, -0.65499], \"type\": \"scatter3d\"}, {\"mode\": \"lines\", \"y\": [0, 1.881662], \"x\": [0, 0.1747332], \"line\": {\"color\": \"rgb(20, 0, 145)\", \"width\": 2}, \"z\": [0, -0.654842], \"type\": \"scatter3d\"}, {\"mode\": \"lines\", \"y\": [0, 1.881662], \"x\": [0, 0.1747332], \"line\": {\"color\": \"rgb(20, 0, 145)\", \"width\": 2}, \"z\": [0, -0.654842], \"type\": \"scatter3d\"}, {\"mode\": \"lines\", \"y\": [0, 1.885078], \"x\": [0, 0.187586], \"line\": {\"color\": \"rgb(20, 0, 145)\", \"width\": 2}, \"z\": [0, -0.641324], \"type\": \"scatter3d\"}, {\"mode\": \"lines\", \"y\": [0, 1.88347], \"x\": [0, 0.1943228], \"line\": {\"color\": \"rgb(20, 0, 145)\", \"width\": 2}, \"z\": [0, -0.644032], \"type\": \"scatter3d\"}, {\"mode\": \"lines\", \"y\": [0, 1.882838], \"x\": [0, 0.200712], \"line\": {\"color\": \"rgb(20, 0, 145)\", \"width\": 2}, \"z\": [0, -0.643924], \"type\": \"scatter3d\"}, {\"mode\": \"lines\", \"y\": [0, 1.880614], \"x\": [0, 0.195385], \"line\": {\"color\": \"rgb(20, 0, 145)\", \"width\": 2}, \"z\": [0, -0.65201], \"type\": \"scatter3d\"}, {\"mode\": \"lines\", \"y\": [0, 1.879734], \"x\": [0, 0.199628], \"line\": {\"color\": \"rgb(20, 0, 145)\", \"width\": 2}, \"z\": [0, -0.653262], \"type\": \"scatter3d\"}, {\"mode\": \"lines\", \"y\": [0, 1.879734], \"x\": [0, 0.199628], \"line\": {\"color\": \"rgb(20, 0, 145)\", \"width\": 2}, \"z\": [0, -0.653262], \"type\": \"scatter3d\"}, {\"mode\": \"lines\", \"y\": [0, 1.881146], \"x\": [0, 0.201838], \"line\": {\"color\": \"rgb(20, 0, 145)\", \"width\": 2}, \"z\": [0, -0.6485], \"type\": \"scatter3d\"}, {\"mode\": \"lines\", \"y\": [0, 1.878644], \"x\": [0, 0.1991992], \"line\": {\"color\": \"rgb(20, 0, 145)\", \"width\": 2}, \"z\": [0, -0.656518], \"type\": \"scatter3d\"}, {\"mode\": \"lines\", \"y\": [0, 1.879014], \"x\": [0, 0.1976472], \"line\": {\"color\": \"rgb(20, 0, 145)\", \"width\": 2}, \"z\": [0, -0.65593], \"type\": \"scatter3d\"}, {\"mode\": \"lines\", \"y\": [0, 1.88132], \"x\": [0, 0.1955962], \"line\": {\"color\": \"rgb(20, 0, 145)\", \"width\": 2}, \"z\": [0, -0.649906], \"type\": \"scatter3d\"}, {\"mode\": \"lines\", \"y\": [0, 1.879114], \"x\": [0, 0.1980534], \"line\": {\"color\": \"rgb(20, 0, 145)\", \"width\": 2}, \"z\": [0, -0.65552], \"type\": \"scatter3d\"}, {\"mode\": \"lines\", \"y\": [0, 1.879468], \"x\": [0, 0.1934168], \"line\": {\"color\": \"rgb(20, 0, 145)\", \"width\": 2}, \"z\": [0, -0.655892], \"type\": \"scatter3d\"}, {\"mode\": \"lines\", \"y\": [0, 1.880958], \"x\": [0, 0.1957368], \"line\": {\"color\": \"rgb(20, 0, 145)\", \"width\": 2}, \"z\": [0, -0.65091], \"type\": \"scatter3d\"}, {\"mode\": \"lines\", \"y\": [0, 1.880958], \"x\": [0, 0.1957368], \"line\": {\"color\": \"rgb(20, 0, 145)\", \"width\": 2}, \"z\": [0, -0.65091], \"type\": \"scatter3d\"}, {\"mode\": \"lines\", \"y\": [0, 1.880126], \"x\": [0, 0.1880838], \"line\": {\"color\": \"rgb(20, 0, 145)\", \"width\": 2}, \"z\": [0, -0.655556], \"type\": \"scatter3d\"}, {\"mode\": \"lines\", \"y\": [0, 1.879874], \"x\": [0, 0.180787], \"line\": {\"color\": \"rgb(20, 0, 145)\", \"width\": 2}, \"z\": [0, -0.658322], \"type\": \"scatter3d\"}, {\"mode\": \"lines\", \"y\": [0, 1.878908], \"x\": [0, 0.1728852], \"line\": {\"color\": \"rgb(20, 0, 145)\", \"width\": 2}, \"z\": [0, -0.663188], \"type\": \"scatter3d\"}, {\"mode\": \"lines\", \"y\": [0, 1.881686], \"x\": [0, 0.1819476], \"line\": {\"color\": \"rgb(20, 0, 145)\", \"width\": 2}, \"z\": [0, -0.6528], \"type\": \"scatter3d\"}, {\"mode\": \"lines\", \"y\": [0, 1.878992], \"x\": [0, 0.1769688], \"line\": {\"color\": \"rgb(20, 0, 145)\", \"width\": 2}, \"z\": [0, -0.661868], \"type\": \"scatter3d\"}, {\"mode\": \"lines\", \"y\": [0, 1.878992], \"x\": [0, 0.1769688], \"line\": {\"color\": \"rgb(20, 0, 145)\", \"width\": 2}, \"z\": [0, -0.661868], \"type\": \"scatter3d\"}, {\"mode\": \"lines\", \"y\": [0, 1.882734], \"x\": [0, 0.1809554], \"line\": {\"color\": \"rgb(20, 0, 145)\", \"width\": 2}, \"z\": [0, -0.650052], \"type\": \"scatter3d\"}, {\"mode\": \"lines\", \"y\": [0, 1.882296], \"x\": [0, 0.173271], \"line\": {\"color\": \"rgb(20, 0, 145)\", \"width\": 2}, \"z\": [0, -0.653406], \"type\": \"scatter3d\"}, {\"mode\": \"lines\", \"y\": [0, 1.88272], \"x\": [0, 0.1800972], \"line\": {\"color\": \"rgb(20, 0, 145)\", \"width\": 2}, \"z\": [0, -0.650328], \"type\": \"scatter3d\"}, {\"mode\": \"lines\", \"y\": [0, 1.88272], \"x\": [0, 0.1800972], \"line\": {\"color\": \"rgb(20, 0, 145)\", \"width\": 2}, \"z\": [0, -0.650328], \"type\": \"scatter3d\"}, {\"mode\": \"lines\", \"y\": [0, 1.88282], \"x\": [0, 0.1765818], \"line\": {\"color\": \"rgb(20, 0, 145)\", \"width\": 2}, \"z\": [0, -0.651004], \"type\": \"scatter3d\"}, {\"mode\": \"lines\", \"y\": [0, 1.881208], \"x\": [0, 0.1735354], \"line\": {\"color\": \"rgb(20, 0, 145)\", \"width\": 2}, \"z\": [0, -0.656462], \"type\": \"scatter3d\"}, {\"mode\": \"lines\", \"y\": [0, 1.880126], \"x\": [0, 0.1782484], \"line\": {\"color\": \"rgb(20, 0, 145)\", \"width\": 2}, \"z\": [0, -0.658296], \"type\": \"scatter3d\"}, {\"mode\": \"lines\", \"y\": [0, 1.879782], \"x\": [0, 0.1696922], \"line\": {\"color\": \"rgb(20, 0, 145)\", \"width\": 2}, \"z\": [0, -0.661532], \"type\": \"scatter3d\"}, {\"mode\": \"lines\", \"y\": [0, 1.883406], \"x\": [0, 0.1858136], \"line\": {\"color\": \"rgb(20, 0, 145)\", \"width\": 2}, \"z\": [0, -0.64673], \"type\": \"scatter3d\"}, {\"mode\": \"lines\", \"y\": [0, 1.883406], \"x\": [0, 0.1858136], \"line\": {\"color\": \"rgb(20, 0, 145)\", \"width\": 2}, \"z\": [0, -0.64673], \"type\": \"scatter3d\"}, {\"mode\": \"lines\", \"y\": [0, 1.883128], \"x\": [0, 0.1759298], \"line\": {\"color\": \"rgb(20, 0, 145)\", \"width\": 2}, \"z\": [0, -0.650288], \"type\": \"scatter3d\"}, {\"mode\": \"lines\", \"y\": [0, 1.884164], \"x\": [0, 0.1775746], \"line\": {\"color\": \"rgb(20, 0, 145)\", \"width\": 2}, \"z\": [0, -0.646834], \"type\": \"scatter3d\"}, {\"mode\": \"lines\", \"y\": [0, 1.882546], \"x\": [0, 0.1709468], \"line\": {\"color\": \"rgb(20, 0, 145)\", \"width\": 2}, \"z\": [0, -0.653298], \"type\": \"scatter3d\"}, {\"mode\": \"lines\", \"y\": [0, 1.880786], \"x\": [0, 0.1743166], \"line\": {\"color\": \"rgb(20, 0, 145)\", \"width\": 2}, \"z\": [0, -0.657466], \"type\": \"scatter3d\"}, {\"mode\": \"lines\", \"y\": [0, 1.880786], \"x\": [0, 0.1743166], \"line\": {\"color\": \"rgb(20, 0, 145)\", \"width\": 2}, \"z\": [0, -0.657466], \"type\": \"scatter3d\"}, {\"mode\": \"lines\", \"y\": [0, 1.880868], \"x\": [0, 0.177672], \"line\": {\"color\": \"rgb(20, 0, 145)\", \"width\": 2}, \"z\": [0, -0.656326], \"type\": \"scatter3d\"}, {\"mode\": \"lines\", \"y\": [0, 1.880794], \"x\": [0, 0.1683256], \"line\": {\"color\": \"rgb(20, 0, 145)\", \"width\": 2}, \"z\": [0, -0.659002], \"type\": \"scatter3d\"}, {\"mode\": \"lines\", \"y\": [0, 1.882104], \"x\": [0, 0.1832526], \"line\": {\"color\": \"rgb(20, 0, 145)\", \"width\": 2}, \"z\": [0, -0.651234], \"type\": \"scatter3d\"}, {\"mode\": \"lines\", \"y\": [0, 1.881414], \"x\": [0, 0.1745826], \"line\": {\"color\": \"rgb(20, 0, 145)\", \"width\": 2}, \"z\": [0, -0.65559], \"type\": \"scatter3d\"}, {\"mode\": \"lines\", \"y\": [0, 1.881414], \"x\": [0, 0.1745826], \"line\": {\"color\": \"rgb(20, 0, 145)\", \"width\": 2}, \"z\": [0, -0.65559], \"type\": \"scatter3d\"}, {\"mode\": \"lines\", \"y\": [0, 1.882674], \"x\": [0, 0.1783842], \"line\": {\"color\": \"rgb(20, 0, 145)\", \"width\": 2}, \"z\": [0, -0.650934], \"type\": \"scatter3d\"}, {\"mode\": \"lines\", \"y\": [0, 1.881292], \"x\": [0, 0.1777044], \"line\": {\"color\": \"rgb(20, 0, 145)\", \"width\": 2}, \"z\": [0, -0.655106], \"type\": \"scatter3d\"}, {\"mode\": \"lines\", \"y\": [0, 1.881968], \"x\": [0, 0.1725028], \"line\": {\"color\": \"rgb(20, 0, 145)\", \"width\": 2}, \"z\": [0, -0.65455], \"type\": \"scatter3d\"}, {\"mode\": \"lines\", \"y\": [0, 1.883458], \"x\": [0, 0.1838968], \"line\": {\"color\": \"rgb(20, 0, 145)\", \"width\": 2}, \"z\": [0, -0.647122], \"type\": \"scatter3d\"}, {\"mode\": \"lines\", \"y\": [0, 1.883458], \"x\": [0, 0.1838968], \"line\": {\"color\": \"rgb(20, 0, 145)\", \"width\": 2}, \"z\": [0, -0.647122], \"type\": \"scatter3d\"}, {\"mode\": \"lines\", \"y\": [0, 1.881126], \"x\": [0, 0.1738764], \"line\": {\"color\": \"rgb(20, 0, 145)\", \"width\": 2}, \"z\": [0, -0.656608], \"type\": \"scatter3d\"}, {\"mode\": \"lines\", \"y\": [0, 1.88268], \"x\": [0, 0.1769566], \"line\": {\"color\": \"rgb(20, 0, 145)\", \"width\": 2}, \"z\": [0, -0.651308], \"type\": \"scatter3d\"}, {\"mode\": \"lines\", \"y\": [0, 1.880774], \"x\": [0, 0.1782786], \"line\": {\"color\": \"rgb(20, 0, 145)\", \"width\": 2}, \"z\": [0, -0.656434], \"type\": \"scatter3d\"}, {\"mode\": \"lines\", \"y\": [0, 1.884054], \"x\": [0, 0.1816604], \"line\": {\"color\": \"rgb(20, 0, 145)\", \"width\": 2}, \"z\": [0, -0.64602], \"type\": \"scatter3d\"}, {\"mode\": \"lines\", \"y\": [0, 1.884054], \"x\": [0, 0.1816604], \"line\": {\"color\": \"rgb(20, 0, 145)\", \"width\": 2}, \"z\": [0, -0.64602], \"type\": \"scatter3d\"}, {\"mode\": \"lines\", \"y\": [0, 1.880996], \"x\": [0, 0.1840016], \"line\": {\"color\": \"rgb(20, 0, 145)\", \"width\": 2}, \"z\": [0, -0.654216], \"type\": \"scatter3d\"}, {\"mode\": \"lines\", \"y\": [0, 1.879134], \"x\": [0, 0.1705586], \"line\": {\"color\": \"rgb(20, 0, 145)\", \"width\": 2}, \"z\": [0, -0.66315], \"type\": \"scatter3d\"}, {\"mode\": \"lines\", \"y\": [0, 1.879742], \"x\": [0, 0.1859962], \"line\": {\"color\": \"rgb(20, 0, 145)\", \"width\": 2}, \"z\": [0, -0.65725], \"type\": \"scatter3d\"}, {\"mode\": \"lines\", \"y\": [0, 1.880018], \"x\": [0, 0.1726786], \"line\": {\"color\": \"rgb(20, 0, 145)\", \"width\": 2}, \"z\": [0, -0.660086], \"type\": \"scatter3d\"}, {\"mode\": \"lines\", \"y\": [0, 1.880018], \"x\": [0, 0.1726786], \"line\": {\"color\": \"rgb(20, 0, 145)\", \"width\": 2}, \"z\": [0, -0.660086], \"type\": \"scatter3d\"}, {\"mode\": \"lines\", \"y\": [0, 1.881256], \"x\": [0, 0.1816886], \"line\": {\"color\": \"rgb(20, 0, 145)\", \"width\": 2}, \"z\": [0, -0.654112], \"type\": \"scatter3d\"}, {\"mode\": \"lines\", \"y\": [0, 1.881082], \"x\": [0, 0.1754976], \"line\": {\"color\": \"rgb(20, 0, 145)\", \"width\": 2}, \"z\": [0, -0.6563], \"type\": \"scatter3d\"}, {\"mode\": \"lines\", \"y\": [0, 1.881922], \"x\": [0, 0.1794558], \"line\": {\"color\": \"rgb(20, 0, 145)\", \"width\": 2}, \"z\": [0, -0.652814], \"type\": \"scatter3d\"}, {\"mode\": \"lines\", \"y\": [0, 1.881048], \"x\": [0, 0.1817726], \"line\": {\"color\": \"rgb(20, 0, 145)\", \"width\": 2}, \"z\": [0, -0.654692], \"type\": \"scatter3d\"}, {\"mode\": \"lines\", \"y\": [0, 1.881048], \"x\": [0, 0.1817726], \"line\": {\"color\": \"rgb(20, 0, 145)\", \"width\": 2}, \"z\": [0, -0.654692], \"type\": \"scatter3d\"}, {\"mode\": \"lines\", \"y\": [0, 1.881656], \"x\": [0, 0.1774742], \"line\": {\"color\": \"rgb(20, 0, 145)\", \"width\": 2}, \"z\": [0, -0.654124], \"type\": \"scatter3d\"}, {\"mode\": \"lines\", \"y\": [0, 1.881072], \"x\": [0, 0.1830008], \"line\": {\"color\": \"rgb(20, 0, 145)\", \"width\": 2}, \"z\": [0, -0.654276], \"type\": \"scatter3d\"}, {\"mode\": \"lines\", \"y\": [0, 1.88208], \"x\": [0, 0.1814004], \"line\": {\"color\": \"rgb(20, 0, 145)\", \"width\": 2}, \"z\": [0, -0.651818], \"type\": \"scatter3d\"}, {\"mode\": \"lines\", \"y\": [0, 1.883244], \"x\": [0, 0.184693], \"line\": {\"color\": \"rgb(20, 0, 145)\", \"width\": 2}, \"z\": [0, -0.64752], \"type\": \"scatter3d\"}, {\"mode\": \"lines\", \"y\": [0, 1.883244], \"x\": [0, 0.184693], \"line\": {\"color\": \"rgb(20, 0, 145)\", \"width\": 2}, \"z\": [0, -0.64752], \"type\": \"scatter3d\"}, {\"mode\": \"lines\", \"y\": [0, 1.882152], \"x\": [0, 0.1868988], \"line\": {\"color\": \"rgb(20, 0, 145)\", \"width\": 2}, \"z\": [0, -0.650058], \"type\": \"scatter3d\"}, {\"mode\": \"lines\", \"y\": [0, 1.882714], \"x\": [0, 0.1838012], \"line\": {\"color\": \"rgb(20, 0, 145)\", \"width\": 2}, \"z\": [0, -0.649314], \"type\": \"scatter3d\"}, {\"mode\": \"lines\", \"y\": [0, 1.883246], \"x\": [0, 0.1931156], \"line\": {\"color\": \"rgb(20, 0, 145)\", \"width\": 2}, \"z\": [0, -0.645054], \"type\": \"scatter3d\"}, {\"mode\": \"lines\", \"y\": [0, 1.880656], \"x\": [0, 0.1821232], \"line\": {\"color\": \"rgb(20, 0, 145)\", \"width\": 2}, \"z\": [0, -0.655714], \"type\": \"scatter3d\"}, {\"mode\": \"lines\", \"y\": [0, 1.884134], \"x\": [0, 0.1930616], \"line\": {\"color\": \"rgb(20, 0, 145)\", \"width\": 2}, \"z\": [0, -0.64247], \"type\": \"scatter3d\"}, {\"mode\": \"lines\", \"y\": [0, 1.884134], \"x\": [0, 0.1930616], \"line\": {\"color\": \"rgb(20, 0, 145)\", \"width\": 2}, \"z\": [0, -0.64247], \"type\": \"scatter3d\"}, {\"mode\": \"lines\", \"y\": [0, 1.881326], \"x\": [0, 0.1837508], \"line\": {\"color\": \"rgb(20, 0, 145)\", \"width\": 2}, \"z\": [0, -0.653334], \"type\": \"scatter3d\"}, {\"mode\": \"lines\", \"y\": [0, 1.880826], \"x\": [0, 0.1810272], \"line\": {\"color\": \"rgb(20, 0, 145)\", \"width\": 2}, \"z\": [0, -0.65553], \"type\": \"scatter3d\"}, {\"mode\": \"lines\", \"y\": [0, 1.880826], \"x\": [0, 0.1810272], \"line\": {\"color\": \"rgb(20, 0, 145)\", \"width\": 2}, \"z\": [0, -0.65553], \"type\": \"scatter3d\"}, {\"mode\": \"lines\", \"y\": [0, 1.882218], \"x\": [0, 0.1893624], \"line\": {\"color\": \"rgb(20, 0, 145)\", \"width\": 2}, \"z\": [0, -0.649152], \"type\": \"scatter3d\"}, {\"mode\": \"lines\", \"y\": [0, 1.881626], \"x\": [0, 0.1834808], \"line\": {\"color\": \"rgb(20, 0, 145)\", \"width\": 2}, \"z\": [0, -0.65255], \"type\": \"scatter3d\"}, {\"mode\": \"lines\", \"y\": [0, 1.883232], \"x\": [0, 0.1876198], \"line\": {\"color\": \"rgb(20, 0, 145)\", \"width\": 2}, \"z\": [0, -0.64671], \"type\": \"scatter3d\"}, {\"mode\": \"lines\", \"y\": [0, 1.882998], \"x\": [0, 0.1808108], \"line\": {\"color\": \"rgb(20, 0, 145)\", \"width\": 2}, \"z\": [0, -0.64933], \"type\": \"scatter3d\"}, {\"mode\": \"lines\", \"y\": [0, 1.987118], \"x\": [0, -0.226612], \"line\": {\"color\": \"rgb(20, 0, 145)\", \"width\": 2}, \"z\": [0, -0.00251254], \"type\": \"scatter3d\"}, {\"mode\": \"lines\", \"y\": [0, 1.987118], \"x\": [0, -0.226612], \"line\": {\"color\": \"rgb(20, 0, 145)\", \"width\": 2}, \"z\": [0, -0.00251254], \"type\": \"scatter3d\"}, {\"mode\": \"lines\", \"y\": [0, 1.98762], \"x\": [0, -0.222148], \"line\": {\"color\": \"rgb(20, 0, 145)\", \"width\": 2}, \"z\": [0, -0.00387968], \"type\": \"scatter3d\"}, {\"mode\": \"lines\", \"y\": [0, 1.985394], \"x\": [0, -0.241238], \"line\": {\"color\": \"rgb(20, 0, 145)\", \"width\": 2}, \"z\": [0, -0.00365654], \"type\": \"scatter3d\"}, {\"mode\": \"lines\", \"y\": [0, 1.986054], \"x\": [0, -0.23576], \"line\": {\"color\": \"rgb(20, 0, 145)\", \"width\": 2}, \"z\": [0, -0.003094], \"type\": \"scatter3d\"}, {\"mode\": \"lines\", \"y\": [0, 1.985578], \"x\": [0, -0.239658], \"line\": {\"color\": \"rgb(20, 0, 145)\", \"width\": 2}, \"z\": [0, -0.00675102], \"type\": \"scatter3d\"}, {\"mode\": \"lines\", \"y\": [0, 1.985578], \"x\": [0, -0.239658], \"line\": {\"color\": \"rgb(20, 0, 145)\", \"width\": 2}, \"z\": [0, -0.00675102], \"type\": \"scatter3d\"}, {\"mode\": \"lines\", \"y\": [0, 1.985978], \"x\": [0, -0.236348], \"line\": {\"color\": \"rgb(20, 0, 145)\", \"width\": 2}, \"z\": [0, -0.0057792], \"type\": \"scatter3d\"}, {\"mode\": \"lines\", \"y\": [0, 1.98554], \"x\": [0, -0.239894], \"line\": {\"color\": \"rgb(20, 0, 145)\", \"width\": 2}, \"z\": [0, -0.00922258], \"type\": \"scatter3d\"}, {\"mode\": \"lines\", \"y\": [0, 1.986294], \"x\": [0, -0.2337], \"line\": {\"color\": \"rgb(20, 0, 145)\", \"width\": 2}, \"z\": [0, -0.00410312], \"type\": \"scatter3d\"}, {\"mode\": \"lines\", \"y\": [0, 1.985872], \"x\": [0, -0.237162], \"line\": {\"color\": \"rgb(20, 0, 145)\", \"width\": 2}, \"z\": [0, -0.00842036], \"type\": \"scatter3d\"}, {\"mode\": \"lines\", \"y\": [0, 1.98591], \"x\": [0, -0.236944], \"line\": {\"color\": \"rgb(20, 0, 145)\", \"width\": 2}, \"z\": [0, -0.00469172], \"type\": \"scatter3d\"}, {\"mode\": \"lines\", \"y\": [0, 1.98591], \"x\": [0, -0.236944], \"line\": {\"color\": \"rgb(20, 0, 145)\", \"width\": 2}, \"z\": [0, -0.00469172], \"type\": \"scatter3d\"}, {\"mode\": \"lines\", \"y\": [0, 1.985946], \"x\": [0, -0.236234], \"line\": {\"color\": \"rgb(20, 0, 145)\", \"width\": 2}, \"z\": [0, -0.01459638], \"type\": \"scatter3d\"}, {\"mode\": \"lines\", \"y\": [0, 1.986454], \"x\": [0, -0.232248], \"line\": {\"color\": \"rgb(20, 0, 145)\", \"width\": 2}, \"z\": [0, -0.00796142], \"type\": \"scatter3d\"}, {\"mode\": \"lines\", \"y\": [0, 1.986484], \"x\": [0, -0.231858], \"line\": {\"color\": \"rgb(20, 0, 145)\", \"width\": 2}, \"z\": [0, -0.01100466], \"type\": \"scatter3d\"}, {\"mode\": \"lines\", \"y\": [0, 1.986484], \"x\": [0, -0.231858], \"line\": {\"color\": \"rgb(20, 0, 145)\", \"width\": 2}, \"z\": [0, -0.01100466], \"type\": \"scatter3d\"}, {\"mode\": \"lines\", \"y\": [0, 1.985588], \"x\": [0, -0.23951], \"line\": {\"color\": \"rgb(20, 0, 145)\", \"width\": 2}, \"z\": [0, -0.008758], \"type\": \"scatter3d\"}, {\"mode\": \"lines\", \"y\": [0, 1.986528], \"x\": [0, -0.23147], \"line\": {\"color\": \"rgb(20, 0, 145)\", \"width\": 2}, \"z\": [0, -0.01120332], \"type\": \"scatter3d\"}, {\"mode\": \"lines\", \"y\": [0, 1.986528], \"x\": [0, -0.23147], \"line\": {\"color\": \"rgb(20, 0, 145)\", \"width\": 2}, \"z\": [0, -0.01120332], \"type\": \"scatter3d\"}, {\"mode\": \"lines\", \"y\": [0, 1.984732], \"x\": [0, -0.246336], \"line\": {\"color\": \"rgb(20, 0, 145)\", \"width\": 2}, \"z\": [0, -0.01270618], \"type\": \"scatter3d\"}, {\"mode\": \"lines\", \"y\": [0, 1.984732], \"x\": [0, -0.246336], \"line\": {\"color\": \"rgb(20, 0, 145)\", \"width\": 2}, \"z\": [0, -0.01270618], \"type\": \"scatter3d\"}, {\"mode\": \"lines\", \"y\": [0, 1.984724], \"x\": [0, -0.246574], \"line\": {\"color\": \"rgb(20, 0, 145)\", \"width\": 2}, \"z\": [0, -0.00865494], \"type\": \"scatter3d\"}, {\"mode\": \"lines\", \"y\": [0, 1.984254], \"x\": [0, -0.250356], \"line\": {\"color\": \"rgb(20, 0, 145)\", \"width\": 2}, \"z\": [0, -0.00772602], \"type\": \"scatter3d\"}, {\"mode\": \"lines\", \"y\": [0, 1.984982], \"x\": [0, -0.244588], \"line\": {\"color\": \"rgb(20, 0, 145)\", \"width\": 2}, \"z\": [0, -0.00498988], \"type\": \"scatter3d\"}, {\"mode\": \"lines\", \"y\": [0, 1.984412], \"x\": [0, -0.248894], \"line\": {\"color\": \"rgb(20, 0, 145)\", \"width\": 2}, \"z\": [0, -0.01283776], \"type\": \"scatter3d\"}, {\"mode\": \"lines\", \"y\": [0, 1.984932], \"x\": [0, -0.244958], \"line\": {\"color\": \"rgb(20, 0, 145)\", \"width\": 2}, \"z\": [0, -0.00610254], \"type\": \"scatter3d\"}, {\"mode\": \"lines\", \"y\": [0, 1.984932], \"x\": [0, -0.244958], \"line\": {\"color\": \"rgb(20, 0, 145)\", \"width\": 2}, \"z\": [0, -0.00610254], \"type\": \"scatter3d\"}, {\"mode\": \"lines\", \"y\": [0, 1.984814], \"x\": [0, -0.245622], \"line\": {\"color\": \"rgb(20, 0, 145)\", \"width\": 2}, \"z\": [0, -0.0136319], \"type\": \"scatter3d\"}, {\"mode\": \"lines\", \"y\": [0, 1.984948], \"x\": [0, -0.244788], \"line\": {\"color\": \"rgb(20, 0, 145)\", \"width\": 2}, \"z\": [0, -0.0079885], \"type\": \"scatter3d\"}, {\"mode\": \"lines\", \"y\": [0, 1.984948], \"x\": [0, -0.244788], \"line\": {\"color\": \"rgb(20, 0, 145)\", \"width\": 2}, \"z\": [0, -0.0079885], \"type\": \"scatter3d\"}, {\"mode\": \"lines\", \"y\": [0, 1.985294], \"x\": [0, -0.241844], \"line\": {\"color\": \"rgb(20, 0, 145)\", \"width\": 2}, \"z\": [0, -0.01086104], \"type\": \"scatter3d\"}, {\"mode\": \"lines\", \"y\": [0, 1.985864], \"x\": [0, -0.237158], \"line\": {\"color\": \"rgb(20, 0, 145)\", \"width\": 2}, \"z\": [0, -0.00983], \"type\": \"scatter3d\"}, {\"mode\": \"lines\", \"y\": [0, 1.984934], \"x\": [0, -0.24436], \"line\": {\"color\": \"rgb(20, 0, 145)\", \"width\": 2}, \"z\": [0, -0.01799056], \"type\": \"scatter3d\"}, {\"mode\": \"lines\", \"y\": [0, 1.986104], \"x\": [0, -0.235042], \"line\": {\"color\": \"rgb(20, 0, 145)\", \"width\": 2}, \"z\": [0, -0.01220202], \"type\": \"scatter3d\"}, {\"mode\": \"lines\", \"y\": [0, 1.98587], \"x\": [0, -0.236846], \"line\": {\"color\": \"rgb(20, 0, 145)\", \"width\": 2}, \"z\": [0, -0.01502688], \"type\": \"scatter3d\"}, {\"mode\": \"lines\", \"y\": [0, 1.985632], \"x\": [0, -0.23886], \"line\": {\"color\": \"rgb(20, 0, 145)\", \"width\": 2}, \"z\": [0, -0.01444234], \"type\": \"scatter3d\"}, {\"mode\": \"lines\", \"y\": [0, 1.98558], \"x\": [0, -0.239508], \"line\": {\"color\": \"rgb(20, 0, 145)\", \"width\": 2}, \"z\": [0, -0.01056196], \"type\": \"scatter3d\"}, {\"mode\": \"lines\", \"y\": [0, 1.985042], \"x\": [0, -0.243926], \"line\": {\"color\": \"rgb(20, 0, 145)\", \"width\": 2}, \"z\": [0, -0.01040036], \"type\": \"scatter3d\"}, {\"mode\": \"lines\", \"y\": [0, 1.984872], \"x\": [0, -0.245176], \"line\": {\"color\": \"rgb(20, 0, 145)\", \"width\": 2}, \"z\": [0, -0.01319808], \"type\": \"scatter3d\"}, {\"mode\": \"lines\", \"y\": [0, 1.98519], \"x\": [0, -0.242724], \"line\": {\"color\": \"rgb(20, 0, 145)\", \"width\": 2}, \"z\": [0, -0.01024284], \"type\": \"scatter3d\"}, {\"mode\": \"lines\", \"y\": [0, 1.985528], \"x\": [0, -0.23999], \"line\": {\"color\": \"rgb(20, 0, 145)\", \"width\": 2}, \"z\": [0, -0.0092769], \"type\": \"scatter3d\"}, {\"mode\": \"lines\", \"y\": [0, 1.986088], \"x\": [0, -0.235318], \"line\": {\"color\": \"rgb(20, 0, 145)\", \"width\": 2}, \"z\": [0, -0.00882498], \"type\": \"scatter3d\"}, {\"mode\": \"lines\", \"y\": [0, 1.985844], \"x\": [0, -0.237246], \"line\": {\"color\": \"rgb(20, 0, 145)\", \"width\": 2}, \"z\": [0, -0.01169742], \"type\": \"scatter3d\"}, {\"mode\": \"lines\", \"y\": [0, 1.98592], \"x\": [0, -0.236632], \"line\": {\"color\": \"rgb(20, 0, 145)\", \"width\": 2}, \"z\": [0, -0.0110984], \"type\": \"scatter3d\"}, {\"mode\": \"lines\", \"y\": [0, 1.98592], \"x\": [0, -0.236632], \"line\": {\"color\": \"rgb(20, 0, 145)\", \"width\": 2}, \"z\": [0, -0.0110984], \"type\": \"scatter3d\"}, {\"mode\": \"lines\", \"y\": [0, 1.986094], \"x\": [0, -0.235092], \"line\": {\"color\": \"rgb(20, 0, 145)\", \"width\": 2}, \"z\": [0, -0.01288222], \"type\": \"scatter3d\"}, {\"mode\": \"lines\", \"y\": [0, 1.986152], \"x\": [0, -0.234406], \"line\": {\"color\": \"rgb(20, 0, 145)\", \"width\": 2}, \"z\": [0, -0.01605492], \"type\": \"scatter3d\"}, {\"mode\": \"lines\", \"y\": [0, 1.986966], \"x\": [0, -0.227762], \"line\": {\"color\": \"rgb(20, 0, 145)\", \"width\": 2}, \"z\": [0, -0.00965296], \"type\": \"scatter3d\"}, {\"mode\": \"lines\", \"y\": [0, 1.98594], \"x\": [0, -0.23625], \"line\": {\"color\": \"rgb(20, 0, 145)\", \"width\": 2}, \"z\": [0, -0.0151757], \"type\": \"scatter3d\"}, {\"mode\": \"lines\", \"y\": [0, 1.98594], \"x\": [0, -0.23625], \"line\": {\"color\": \"rgb(20, 0, 145)\", \"width\": 2}, \"z\": [0, -0.0151757], \"type\": \"scatter3d\"}, {\"mode\": \"lines\", \"y\": [0, 1.98708], \"x\": [0, -0.226498], \"line\": {\"color\": \"rgb(20, 0, 145)\", \"width\": 2}, \"z\": [0, -0.01452828], \"type\": \"scatter3d\"}, {\"mode\": \"lines\", \"y\": [0, 1.986974], \"x\": [0, -0.227416], \"line\": {\"color\": \"rgb(20, 0, 145)\", \"width\": 2}, \"z\": [0, -0.01460536], \"type\": \"scatter3d\"}, {\"mode\": \"lines\", \"y\": [0, 1.987362], \"x\": [0, -0.224116], \"line\": {\"color\": \"rgb(20, 0, 145)\", \"width\": 2}, \"z\": [0, -0.01272686], \"type\": \"scatter3d\"}, {\"mode\": \"lines\", \"y\": [0, 1.986996], \"x\": [0, -0.227174], \"line\": {\"color\": \"rgb(20, 0, 145)\", \"width\": 2}, \"z\": [0, -0.01534028], \"type\": \"scatter3d\"}, {\"mode\": \"lines\", \"y\": [0, 1.987512], \"x\": [0, -0.222582], \"line\": {\"color\": \"rgb(20, 0, 145)\", \"width\": 2}, \"z\": [0, -0.01589984], \"type\": \"scatter3d\"}, {\"mode\": \"lines\", \"y\": [0, 1.987512], \"x\": [0, -0.222582], \"line\": {\"color\": \"rgb(20, 0, 145)\", \"width\": 2}, \"z\": [0, -0.01589984], \"type\": \"scatter3d\"}, {\"mode\": \"lines\", \"y\": [0, 1.987818], \"x\": [0, -0.22032], \"line\": {\"color\": \"rgb(20, 0, 145)\", \"width\": 2}, \"z\": [0, -0.0064664], \"type\": \"scatter3d\"}, {\"mode\": \"lines\", \"y\": [0, 1.98746], \"x\": [0, -0.222964], \"line\": {\"color\": \"rgb(20, 0, 145)\", \"width\": 2}, \"z\": [0, -0.01696312], \"type\": \"scatter3d\"}, {\"mode\": \"lines\", \"y\": [0, 1.988034], \"x\": [0, -0.218056], \"line\": {\"color\": \"rgb(20, 0, 145)\", \"width\": 2}, \"z\": [0, -0.01307648], \"type\": \"scatter3d\"}, {\"mode\": \"lines\", \"y\": [0, 1.988034], \"x\": [0, -0.218056], \"line\": {\"color\": \"rgb(20, 0, 145)\", \"width\": 2}, \"z\": [0, -0.01307648], \"type\": \"scatter3d\"}, {\"mode\": \"lines\", \"y\": [0, 1.987736], \"x\": [0, -0.220864], \"line\": {\"color\": \"rgb(20, 0, 145)\", \"width\": 2}, \"z\": [0, -0.01099078], \"type\": \"scatter3d\"}, {\"mode\": \"lines\", \"y\": [0, 1.988118], \"x\": [0, -0.21738], \"line\": {\"color\": \"rgb(20, 0, 145)\", \"width\": 2}, \"z\": [0, -0.01140516], \"type\": \"scatter3d\"}, {\"mode\": \"lines\", \"y\": [0, 1.987906], \"x\": [0, -0.2193], \"line\": {\"color\": \"rgb(20, 0, 145)\", \"width\": 2}, \"z\": [0, -0.01186102], \"type\": \"scatter3d\"}, {\"mode\": \"lines\", \"y\": [0, 1.987824], \"x\": [0, -0.219798], \"line\": {\"color\": \"rgb(20, 0, 145)\", \"width\": 2}, \"z\": [0, -0.01566092], \"type\": \"scatter3d\"}, {\"mode\": \"lines\", \"y\": [0, 1.987824], \"x\": [0, -0.219798], \"line\": {\"color\": \"rgb(20, 0, 145)\", \"width\": 2}, \"z\": [0, -0.01566092], \"type\": \"scatter3d\"}, {\"mode\": \"lines\", \"y\": [0, 1.987436], \"x\": [0, -0.223474], \"line\": {\"color\": \"rgb(20, 0, 145)\", \"width\": 2}, \"z\": [0, -0.01268284], \"type\": \"scatter3d\"}, {\"mode\": \"lines\", \"y\": [0, 1.987568], \"x\": [0, -0.222238], \"line\": {\"color\": \"rgb(20, 0, 145)\", \"width\": 2}, \"z\": [0, -0.01362512], \"type\": \"scatter3d\"}, {\"mode\": \"lines\", \"y\": [0, 1.987344], \"x\": [0, -0.2242], \"line\": {\"color\": \"rgb(20, 0, 145)\", \"width\": 2}, \"z\": [0, -0.01419772], \"type\": \"scatter3d\"}, {\"mode\": \"lines\", \"y\": [0, 1.987272], \"x\": [0, -0.224784], \"line\": {\"color\": \"rgb(20, 0, 145)\", \"width\": 2}, \"z\": [0, -0.01490072], \"type\": \"scatter3d\"}, {\"mode\": \"lines\", \"y\": [0, 1.987272], \"x\": [0, -0.224784], \"line\": {\"color\": \"rgb(20, 0, 145)\", \"width\": 2}, \"z\": [0, -0.01490072], \"type\": \"scatter3d\"}, {\"mode\": \"lines\", \"y\": [0, 1.986448], \"x\": [0, -0.231992], \"line\": {\"color\": \"rgb(20, 0, 145)\", \"width\": 2}, \"z\": [0, -0.01435774], \"type\": \"scatter3d\"}, {\"mode\": \"lines\", \"y\": [0, 1.986532], \"x\": [0, -0.231414], \"line\": {\"color\": \"rgb(20, 0, 145)\", \"width\": 2}, \"z\": [0, -0.0116761], \"type\": \"scatter3d\"}, {\"mode\": \"lines\", \"y\": [0, 1.98665], \"x\": [0, -0.230378], \"line\": {\"color\": \"rgb(20, 0, 145)\", \"width\": 2}, \"z\": [0, -0.01226992], \"type\": \"scatter3d\"}, {\"mode\": \"lines\", \"y\": [0, 1.98635], \"x\": [0, -0.23293], \"line\": {\"color\": \"rgb(20, 0, 145)\", \"width\": 2}, \"z\": [0, -0.01243848], \"type\": \"scatter3d\"}, {\"mode\": \"lines\", \"y\": [0, 1.98635], \"x\": [0, -0.23293], \"line\": {\"color\": \"rgb(20, 0, 145)\", \"width\": 2}, \"z\": [0, -0.01243848], \"type\": \"scatter3d\"}, {\"mode\": \"lines\", \"y\": [0, 1.986292], \"x\": [0, -0.233152], \"line\": {\"color\": \"rgb(20, 0, 145)\", \"width\": 2}, \"z\": [0, -0.0167821], \"type\": \"scatter3d\"}, {\"mode\": \"lines\", \"y\": [0, 1.986128], \"x\": [0, -0.234772], \"line\": {\"color\": \"rgb(20, 0, 145)\", \"width\": 2}, \"z\": [0, -0.01332542], \"type\": \"scatter3d\"}, {\"mode\": \"lines\", \"y\": [0, 1.984908], \"x\": [0, -0.24521], \"line\": {\"color\": \"rgb(20, 0, 145)\", \"width\": 2}, \"z\": [0, -0.003596], \"type\": \"scatter3d\"}, {\"mode\": \"lines\", \"y\": [0, 1.98521], \"x\": [0, -0.242762], \"line\": {\"color\": \"rgb(20, 0, 145)\", \"width\": 2}, \"z\": [0, -0.00210834], \"type\": \"scatter3d\"}, {\"mode\": \"lines\", \"y\": [0, 1.98521], \"x\": [0, -0.242762], \"line\": {\"color\": \"rgb(20, 0, 145)\", \"width\": 2}, \"z\": [0, -0.00210834], \"type\": \"scatter3d\"}, {\"mode\": \"lines\", \"y\": [0, 1.985012], \"x\": [0, -0.244384], \"line\": {\"color\": \"rgb(20, 0, 145)\", \"width\": 2}, \"z\": [0, -0.001327786], \"type\": \"scatter3d\"}, {\"mode\": \"lines\", \"y\": [0, 1.985712], \"x\": [0, -0.238632], \"line\": {\"color\": \"rgb(20, 0, 145)\", \"width\": 2}, \"z\": [0, 8.21536e-05], \"type\": \"scatter3d\"}, {\"mode\": \"lines\", \"y\": [0, 1.98539], \"x\": [0, -0.24129], \"line\": {\"color\": \"rgb(20, 0, 145)\", \"width\": 2}, \"z\": [0, -0.00242934], \"type\": \"scatter3d\"}, {\"mode\": \"lines\", \"y\": [0, 1.985388], \"x\": [0, -0.241288], \"line\": {\"color\": \"rgb(20, 0, 145)\", \"width\": 2}, \"z\": [0, -0.00341504], \"type\": \"scatter3d\"}, {\"mode\": \"lines\", \"y\": [0, 1.98533], \"x\": [0, -0.241748], \"line\": {\"color\": \"rgb(20, 0, 145)\", \"width\": 2}, \"z\": [0, -0.00454994], \"type\": \"scatter3d\"}, {\"mode\": \"lines\", \"y\": [0, 1.98533], \"x\": [0, -0.241748], \"line\": {\"color\": \"rgb(20, 0, 145)\", \"width\": 2}, \"z\": [0, -0.00454994], \"type\": \"scatter3d\"}, {\"mode\": \"lines\", \"y\": [0, 1.985412], \"x\": [0, -0.241098], \"line\": {\"color\": \"rgb(20, 0, 145)\", \"width\": 2}, \"z\": [0, -0.00293624], \"type\": \"scatter3d\"}, {\"mode\": \"lines\", \"y\": [0, 1.985392], \"x\": [0, -0.24125], \"line\": {\"color\": \"rgb(20, 0, 145)\", \"width\": 2}, \"z\": [0, -0.00430128], \"type\": \"scatter3d\"}, {\"mode\": \"lines\", \"y\": [0, 1.986028], \"x\": [0, -0.235886], \"line\": {\"color\": \"rgb(20, 0, 145)\", \"width\": 2}, \"z\": [0, -0.00709226], \"type\": \"scatter3d\"}, {\"mode\": \"lines\", \"y\": [0, 1.985712], \"x\": [0, -0.238378], \"line\": {\"color\": \"rgb(20, 0, 145)\", \"width\": 2}, \"z\": [0, -0.01122452], \"type\": \"scatter3d\"}, {\"mode\": \"lines\", \"y\": [0, 1.985712], \"x\": [0, -0.238378], \"line\": {\"color\": \"rgb(20, 0, 145)\", \"width\": 2}, \"z\": [0, -0.01122452], \"type\": \"scatter3d\"}, {\"mode\": \"lines\", \"y\": [0, 1.985976], \"x\": [0, -0.236116], \"line\": {\"color\": \"rgb(20, 0, 145)\", \"width\": 2}, \"z\": [0, -0.01227226], \"type\": \"scatter3d\"}, {\"mode\": \"lines\", \"y\": [0, 1.985426], \"x\": [0, -0.240476], \"line\": {\"color\": \"rgb(20, 0, 145)\", \"width\": 2}, \"z\": [0, -0.01606386], \"type\": \"scatter3d\"}, {\"mode\": \"lines\", \"y\": [0, 1.985358], \"x\": [0, -0.24116], \"line\": {\"color\": \"rgb(20, 0, 145)\", \"width\": 2}, \"z\": [0, -0.01407356], \"type\": \"scatter3d\"}, {\"mode\": \"lines\", \"y\": [0, 1.985358], \"x\": [0, -0.24116], \"line\": {\"color\": \"rgb(20, 0, 145)\", \"width\": 2}, \"z\": [0, -0.01407356], \"type\": \"scatter3d\"}, {\"mode\": \"lines\", \"y\": [0, 1.98555], \"x\": [0, -0.239636], \"line\": {\"color\": \"rgb(20, 0, 145)\", \"width\": 2}, \"z\": [0, -0.0130117], \"type\": \"scatter3d\"}, {\"mode\": \"lines\", \"y\": [0, 1.985046], \"x\": [0, -0.243388], \"line\": {\"color\": \"rgb(20, 0, 145)\", \"width\": 2}, \"z\": [0, -0.01886128], \"type\": \"scatter3d\"}, {\"mode\": \"lines\", \"y\": [0, 1.985008], \"x\": [0, -0.243854], \"line\": {\"color\": \"rgb(20, 0, 145)\", \"width\": 2}, \"z\": [0, -0.01675882], \"type\": \"scatter3d\"}, {\"mode\": \"lines\", \"y\": [0, 1.98559], \"x\": [0, -0.239088], \"line\": {\"color\": \"rgb(20, 0, 145)\", \"width\": 2}, \"z\": [0, -0.01637034], \"type\": \"scatter3d\"}, {\"mode\": \"lines\", \"y\": [0, 1.999372], \"x\": [0, 0.0454582], \"line\": {\"color\": \"rgb(20, 0, 145)\", \"width\": 2}, \"z\": [0, -0.0211772], \"type\": \"scatter3d\"}, {\"mode\": \"lines\", \"y\": [0, 1.999372], \"x\": [0, 0.0454582], \"line\": {\"color\": \"rgb(20, 0, 145)\", \"width\": 2}, \"z\": [0, -0.0211772], \"type\": \"scatter3d\"}, {\"mode\": \"lines\", \"y\": [0, 1.99925], \"x\": [0, 0.049713], \"line\": {\"color\": \"rgb(20, 0, 145)\", \"width\": 2}, \"z\": [0, -0.022927], \"type\": \"scatter3d\"}, {\"mode\": \"lines\", \"y\": [0, 1.999168], \"x\": [0, 0.053093], \"line\": {\"color\": \"rgb(20, 0, 145)\", \"width\": 2}, \"z\": [0, -0.0225768], \"type\": \"scatter3d\"}, {\"mode\": \"lines\", \"y\": [0, 1.999226], \"x\": [0, 0.0513288], \"line\": {\"color\": \"rgb(20, 0, 145)\", \"width\": 2}, \"z\": [0, -0.0214892], \"type\": \"scatter3d\"}, {\"mode\": \"lines\", \"y\": [0, 1.999198], \"x\": [0, 0.0528192], \"line\": {\"color\": \"rgb(20, 0, 145)\", \"width\": 2}, \"z\": [0, -0.020491], \"type\": \"scatter3d\"}, {\"mode\": \"lines\", \"y\": [0, 1.999198], \"x\": [0, 0.0528192], \"line\": {\"color\": \"rgb(20, 0, 145)\", \"width\": 2}, \"z\": [0, -0.020491], \"type\": \"scatter3d\"}, {\"mode\": \"lines\", \"y\": [0, 1.999066], \"x\": [0, 0.0578858], \"line\": {\"color\": \"rgb(20, 0, 145)\", \"width\": 2}, \"z\": [0, -0.01964112], \"type\": \"scatter3d\"}, {\"mode\": \"lines\", \"y\": [0, 1.999184], \"x\": [0, 0.0541838], \"line\": {\"color\": \"rgb(20, 0, 145)\", \"width\": 2}, \"z\": [0, -0.01802452], \"type\": \"scatter3d\"}, {\"mode\": \"lines\", \"y\": [0, 1.998962], \"x\": [0, 0.0615182], \"line\": {\"color\": \"rgb(20, 0, 145)\", \"width\": 2}, \"z\": [0, -0.01921142], \"type\": \"scatter3d\"}, {\"mode\": \"lines\", \"y\": [0, 1.999118], \"x\": [0, 0.0563656], \"line\": {\"color\": \"rgb(20, 0, 145)\", \"width\": 2}, \"z\": [0, -0.01874336], \"type\": \"scatter3d\"}, {\"mode\": \"lines\", \"y\": [0, 1.999118], \"x\": [0, 0.0563656], \"line\": {\"color\": \"rgb(20, 0, 145)\", \"width\": 2}, \"z\": [0, -0.01874336], \"type\": \"scatter3d\"}, {\"mode\": \"lines\", \"y\": [0, 1.999138], \"x\": [0, 0.0538776], \"line\": {\"color\": \"rgb(20, 0, 145)\", \"width\": 2}, \"z\": [0, -0.0234026], \"type\": \"scatter3d\"}, {\"mode\": \"lines\", \"y\": [0, 1.998984], \"x\": [0, 0.0607654], \"line\": {\"color\": \"rgb(20, 0, 145)\", \"width\": 2}, \"z\": [0, -0.01920274], \"type\": \"scatter3d\"}, {\"mode\": \"lines\", \"y\": [0, 1.999148], \"x\": [0, 0.055266], \"line\": {\"color\": \"rgb(20, 0, 145)\", \"width\": 2}, \"z\": [0, -0.0188173], \"type\": \"scatter3d\"}, {\"mode\": \"lines\", \"y\": [0, 1.999148], \"x\": [0, 0.055266], \"line\": {\"color\": \"rgb(20, 0, 145)\", \"width\": 2}, \"z\": [0, -0.0188173], \"type\": \"scatter3d\"}, {\"mode\": \"lines\", \"y\": [0, 1.998934], \"x\": [0, 0.0627362], \"line\": {\"color\": \"rgb(20, 0, 145)\", \"width\": 2}, \"z\": [0, -0.0181638], \"type\": \"scatter3d\"}, {\"mode\": \"lines\", \"y\": [0, 1.998934], \"x\": [0, 0.0627362], \"line\": {\"color\": \"rgb(20, 0, 145)\", \"width\": 2}, \"z\": [0, -0.0181638], \"type\": \"scatter3d\"}, {\"mode\": \"lines\", \"y\": [0, 1.998954], \"x\": [0, 0.0621436], \"line\": {\"color\": \"rgb(20, 0, 145)\", \"width\": 2}, \"z\": [0, -0.01780946], \"type\": \"scatter3d\"}, {\"mode\": \"lines\", \"y\": [0, 1.99922], \"x\": [0, 0.0532068], \"line\": {\"color\": \"rgb(20, 0, 145)\", \"width\": 2}, \"z\": [0, -0.01698962], \"type\": \"scatter3d\"}, {\"mode\": \"lines\", \"y\": [0, 1.999016], \"x\": [0, 0.059445], \"line\": {\"color\": \"rgb(20, 0, 145)\", \"width\": 2}, \"z\": [0, -0.0201294], \"type\": \"scatter3d\"}, {\"mode\": \"lines\", \"y\": [0, 1.999016], \"x\": [0, 0.059445], \"line\": {\"color\": \"rgb(20, 0, 145)\", \"width\": 2}, \"z\": [0, -0.0201294], \"type\": \"scatter3d\"}, {\"mode\": \"lines\", \"y\": [0, 1.999036], \"x\": [0, 0.0569762], \"line\": {\"color\": \"rgb(20, 0, 145)\", \"width\": 2}, \"z\": [0, -0.02473], \"type\": \"scatter3d\"}, {\"mode\": \"lines\", \"y\": [0, 1.999022], \"x\": [0, 0.058089], \"line\": {\"color\": \"rgb(20, 0, 145)\", \"width\": 2}, \"z\": [0, -0.0230866], \"type\": \"scatter3d\"}, {\"mode\": \"lines\", \"y\": [0, 1.998978], \"x\": [0, 0.0593142], \"line\": {\"color\": \"rgb(20, 0, 145)\", \"width\": 2}, \"z\": [0, -0.0238272], \"type\": \"scatter3d\"}, {\"mode\": \"lines\", \"y\": [0, 1.99898], \"x\": [0, 0.0601288], \"line\": {\"color\": \"rgb(20, 0, 145)\", \"width\": 2}, \"z\": [0, -0.0214384], \"type\": \"scatter3d\"}, {\"mode\": \"lines\", \"y\": [0, 1.99898], \"x\": [0, 0.0601288], \"line\": {\"color\": \"rgb(20, 0, 145)\", \"width\": 2}, \"z\": [0, -0.0214384], \"type\": \"scatter3d\"}, {\"mode\": \"lines\", \"y\": [0, 1.998914], \"x\": [0, 0.061467], \"line\": {\"color\": \"rgb(20, 0, 145)\", \"width\": 2}, \"z\": [0, -0.0237164], \"type\": \"scatter3d\"}, {\"mode\": \"lines\", \"y\": [0, 1.999124], \"x\": [0, 0.0545352], \"line\": {\"color\": \"rgb(20, 0, 145)\", \"width\": 2}, \"z\": [0, -0.0229246], \"type\": \"scatter3d\"}, {\"mode\": \"lines\", \"y\": [0, 1.99909], \"x\": [0, 0.0565692], \"line\": {\"color\": \"rgb(20, 0, 145)\", \"width\": 2}, \"z\": [0, -0.0210022], \"type\": \"scatter3d\"}, {\"mode\": \"lines\", \"y\": [0, 1.99912], \"x\": [0, 0.0527848], \"line\": {\"color\": \"rgb(20, 0, 145)\", \"width\": 2}, \"z\": [0, -0.0270508], \"type\": \"scatter3d\"}, {\"mode\": \"lines\", \"y\": [0, 1.99912], \"x\": [0, 0.0527848], \"line\": {\"color\": \"rgb(20, 0, 145)\", \"width\": 2}, \"z\": [0, -0.0270508], \"type\": \"scatter3d\"}, {\"mode\": \"lines\", \"y\": [0, 1.998808], \"x\": [0, 0.0644504], \"line\": {\"color\": \"rgb(20, 0, 145)\", \"width\": 2}, \"z\": [0, -0.0247844], \"type\": \"scatter3d\"}, {\"mode\": \"lines\", \"y\": [0, 1.99904], \"x\": [0, 0.0587458], \"line\": {\"color\": \"rgb(20, 0, 145)\", \"width\": 2}, \"z\": [0, -0.01961096], \"type\": \"scatter3d\"}, {\"mode\": \"lines\", \"y\": [0, 1.998738], \"x\": [0, 0.0673098], \"line\": {\"color\": \"rgb(20, 0, 145)\", \"width\": 2}, \"z\": [0, -0.0227146], \"type\": \"scatter3d\"}, {\"mode\": \"lines\", \"y\": [0, 1.998934], \"x\": [0, 0.06236], \"line\": {\"color\": \"rgb(20, 0, 145)\", \"width\": 2}, \"z\": [0, -0.01924436], \"type\": \"scatter3d\"}, {\"mode\": \"lines\", \"y\": [0, 1.998934], \"x\": [0, 0.06236], \"line\": {\"color\": \"rgb(20, 0, 145)\", \"width\": 2}, \"z\": [0, -0.01924436], \"type\": \"scatter3d\"}, {\"mode\": \"lines\", \"y\": [0, 1.999014], \"x\": [0, 0.0587706], \"line\": {\"color\": \"rgb(20, 0, 145)\", \"width\": 2}, \"z\": [0, -0.0221804], \"type\": \"scatter3d\"}, {\"mode\": \"lines\", \"y\": [0, 1.999022], \"x\": [0, 0.0591794], \"line\": {\"color\": \"rgb(20, 0, 145)\", \"width\": 2}, \"z\": [0, -0.02029], \"type\": \"scatter3d\"}, {\"mode\": \"lines\", \"y\": [0, 1.999102], \"x\": [0, 0.0565862], \"line\": {\"color\": \"rgb(20, 0, 145)\", \"width\": 2}, \"z\": [0, -0.0197233], \"type\": \"scatter3d\"}, {\"mode\": \"lines\", \"y\": [0, 1.999012], \"x\": [0, 0.0579806], \"line\": {\"color\": \"rgb(20, 0, 145)\", \"width\": 2}, \"z\": [0, -0.0243264], \"type\": \"scatter3d\"}, {\"mode\": \"lines\", \"y\": [0, 1.999012], \"x\": [0, 0.0579806], \"line\": {\"color\": \"rgb(20, 0, 145)\", \"width\": 2}, \"z\": [0, -0.0243264], \"type\": \"scatter3d\"}, {\"mode\": \"lines\", \"y\": [0, 1.99891], \"x\": [0, 0.060795], \"line\": {\"color\": \"rgb(20, 0, 145)\", \"width\": 2}, \"z\": [0, -0.025674], \"type\": \"scatter3d\"}, {\"mode\": \"lines\", \"y\": [0, 1.999098], \"x\": [0, 0.0558574], \"line\": {\"color\": \"rgb(20, 0, 145)\", \"width\": 2}, \"z\": [0, -0.0221254], \"type\": \"scatter3d\"}, {\"mode\": \"lines\", \"y\": [0, 1.999108], \"x\": [0, 0.05617], \"line\": {\"color\": \"rgb(20, 0, 145)\", \"width\": 2}, \"z\": [0, -0.0202804], \"type\": \"scatter3d\"}, {\"mode\": \"lines\", \"y\": [0, 1.999228], \"x\": [0, 0.0524664], \"line\": {\"color\": \"rgb(20, 0, 145)\", \"width\": 2}, \"z\": [0, -0.01832438], \"type\": \"scatter3d\"}, {\"mode\": \"lines\", \"y\": [0, 1.999228], \"x\": [0, 0.0524664], \"line\": {\"color\": \"rgb(20, 0, 145)\", \"width\": 2}, \"z\": [0, -0.01832438], \"type\": \"scatter3d\"}, {\"mode\": \"lines\", \"y\": [0, 1.999046], \"x\": [0, 0.0549142], \"line\": {\"color\": \"rgb(20, 0, 145)\", \"width\": 2}, \"z\": [0, -0.0282624], \"type\": \"scatter3d\"}, {\"mode\": \"lines\", \"y\": [0, 1.999014], \"x\": [0, 0.0571866], \"line\": {\"color\": \"rgb(20, 0, 145)\", \"width\": 2}, \"z\": [0, -0.0259552], \"type\": \"scatter3d\"}, {\"mode\": \"lines\", \"y\": [0, 1.99912], \"x\": [0, 0.0555176], \"line\": {\"color\": \"rgb(20, 0, 145)\", \"width\": 2}, \"z\": [0, -0.0208192], \"type\": \"scatter3d\"}, {\"mode\": \"lines\", \"y\": [0, 1.999208], \"x\": [0, 0.0518272], \"line\": {\"color\": \"rgb(20, 0, 145)\", \"width\": 2}, \"z\": [0, -0.0218956], \"type\": \"scatter3d\"}, {\"mode\": \"lines\", \"y\": [0, 1.999208], \"x\": [0, 0.0518272], \"line\": {\"color\": \"rgb(20, 0, 145)\", \"width\": 2}, \"z\": [0, -0.0218956], \"type\": \"scatter3d\"}, {\"mode\": \"lines\", \"y\": [0, 1.999308], \"x\": [0, 0.0471734], \"line\": {\"color\": \"rgb(20, 0, 145)\", \"width\": 2}, \"z\": [0, -0.023337], \"type\": \"scatter3d\"}, {\"mode\": \"lines\", \"y\": [0, 1.999172], \"x\": [0, 0.050567], \"line\": {\"color\": \"rgb(20, 0, 145)\", \"width\": 2}, \"z\": [0, -0.0274696], \"type\": \"scatter3d\"}, {\"mode\": \"lines\", \"y\": [0, 1.999346], \"x\": [0, 0.045084], \"line\": {\"color\": \"rgb(20, 0, 145)\", \"width\": 2}, \"z\": [0, -0.0242014], \"type\": \"scatter3d\"}, {\"mode\": \"lines\", \"y\": [0, 1.999012], \"x\": [0, 0.0570194], \"line\": {\"color\": \"rgb(20, 0, 145)\", \"width\": 2}, \"z\": [0, -0.0264858], \"type\": \"scatter3d\"}, {\"mode\": \"lines\", \"y\": [0, 1.999012], \"x\": [0, 0.0570194], \"line\": {\"color\": \"rgb(20, 0, 145)\", \"width\": 2}, \"z\": [0, -0.0264858], \"type\": \"scatter3d\"}, {\"mode\": \"lines\", \"y\": [0, 1.999198], \"x\": [0, 0.0504158], \"line\": {\"color\": \"rgb(20, 0, 145)\", \"width\": 2}, \"z\": [0, -0.0257782], \"type\": \"scatter3d\"}, {\"mode\": \"lines\", \"y\": [0, 1.999182], \"x\": [0, 0.049173], \"line\": {\"color\": \"rgb(20, 0, 145)\", \"width\": 2}, \"z\": [0, -0.029253], \"type\": \"scatter3d\"}, {\"mode\": \"lines\", \"y\": [0, 1.999356], \"x\": [0, 0.0461176], \"line\": {\"color\": \"rgb(20, 0, 145)\", \"width\": 2}, \"z\": [0, -0.0212308], \"type\": \"scatter3d\"}, {\"mode\": \"lines\", \"y\": [0, 1.99939], \"x\": [0, 0.0445532], \"line\": {\"color\": \"rgb(20, 0, 145)\", \"width\": 2}, \"z\": [0, -0.0212938], \"type\": \"scatter3d\"}, {\"mode\": \"lines\", \"y\": [0, 1.99939], \"x\": [0, 0.0445532], \"line\": {\"color\": \"rgb(20, 0, 145)\", \"width\": 2}, \"z\": [0, -0.0212938], \"type\": \"scatter3d\"}, {\"mode\": \"lines\", \"y\": [0, 1.999262], \"x\": [0, 0.0483516], \"line\": {\"color\": \"rgb(20, 0, 145)\", \"width\": 2}, \"z\": [0, -0.0248068], \"type\": \"scatter3d\"}, {\"mode\": \"lines\", \"y\": [0, 1.999428], \"x\": [0, 0.0418828], \"line\": {\"color\": \"rgb(20, 0, 145)\", \"width\": 2}, \"z\": [0, -0.023089], \"type\": \"scatter3d\"}, {\"mode\": \"lines\", \"y\": [0, 1.999304], \"x\": [0, 0.0485764], \"line\": {\"color\": \"rgb(20, 0, 145)\", \"width\": 2}, \"z\": [0, -0.0205958], \"type\": \"scatter3d\"}, {\"mode\": \"lines\", \"y\": [0, 1.999304], \"x\": [0, 0.0485764], \"line\": {\"color\": \"rgb(20, 0, 145)\", \"width\": 2}, \"z\": [0, -0.0205958], \"type\": \"scatter3d\"}, {\"mode\": \"lines\", \"y\": [0, 1.999306], \"x\": [0, 0.0475976], \"line\": {\"color\": \"rgb(20, 0, 145)\", \"width\": 2}, \"z\": [0, -0.0225352], \"type\": \"scatter3d\"}, {\"mode\": \"lines\", \"y\": [0, 1.999208], \"x\": [0, 0.0510552], \"line\": {\"color\": \"rgb(20, 0, 145)\", \"width\": 2}, \"z\": [0, -0.0236714], \"type\": \"scatter3d\"}, {\"mode\": \"lines\", \"y\": [0, 1.999232], \"x\": [0, 0.0499968], \"line\": {\"color\": \"rgb(20, 0, 145)\", \"width\": 2}, \"z\": [0, -0.0238472], \"type\": \"scatter3d\"}, {\"mode\": \"lines\", \"y\": [0, 1.999248], \"x\": [0, 0.050424], \"line\": {\"color\": \"rgb(20, 0, 145)\", \"width\": 2}, \"z\": [0, -0.0216226], \"type\": \"scatter3d\"}, {\"mode\": \"lines\", \"y\": [0, 1.999252], \"x\": [0, 0.0485158], \"line\": {\"color\": \"rgb(20, 0, 145)\", \"width\": 2}, \"z\": [0, -0.0252048], \"type\": \"scatter3d\"}, {\"mode\": \"lines\", \"y\": [0, 1.999252], \"x\": [0, 0.0485158], \"line\": {\"color\": \"rgb(20, 0, 145)\", \"width\": 2}, \"z\": [0, -0.0252048], \"type\": \"scatter3d\"}, {\"mode\": \"lines\", \"y\": [0, 1.999268], \"x\": [0, 0.0478454], \"line\": {\"color\": \"rgb(20, 0, 145)\", \"width\": 2}, \"z\": [0, -0.0252714], \"type\": \"scatter3d\"}, {\"mode\": \"lines\", \"y\": [0, 1.999182], \"x\": [0, 0.0520658], \"line\": {\"color\": \"rgb(20, 0, 145)\", \"width\": 2}, \"z\": [0, -0.0236378], \"type\": \"scatter3d\"}, {\"mode\": \"lines\", \"y\": [0, 1.999298], \"x\": [0, 0.049184], \"line\": {\"color\": \"rgb(20, 0, 145)\", \"width\": 2}, \"z\": [0, -0.01972822], \"type\": \"scatter3d\"}, {\"mode\": \"lines\", \"y\": [0, 1.999184], \"x\": [0, 0.051204], \"line\": {\"color\": \"rgb(20, 0, 145)\", \"width\": 2}, \"z\": [0, -0.0253766], \"type\": \"scatter3d\"}, {\"mode\": \"lines\", \"y\": [0, 1.999184], \"x\": [0, 0.051204], \"line\": {\"color\": \"rgb(20, 0, 145)\", \"width\": 2}, \"z\": [0, -0.0253766], \"type\": \"scatter3d\"}, {\"mode\": \"lines\", \"y\": [0, 1.999344], \"x\": [0, 0.0472888], \"line\": {\"color\": \"rgb(20, 0, 145)\", \"width\": 2}, \"z\": [0, -0.01972732], \"type\": \"scatter3d\"}, {\"mode\": \"lines\", \"y\": [0, 1.998926], \"x\": [0, 0.0581508], \"line\": {\"color\": \"rgb(20, 0, 145)\", \"width\": 2}, \"z\": [0, -0.0302582], \"type\": \"scatter3d\"}, {\"mode\": \"lines\", \"y\": [0, 1.999136], \"x\": [0, 0.0539784], \"line\": {\"color\": \"rgb(20, 0, 145)\", \"width\": 2}, \"z\": [0, -0.023237], \"type\": \"scatter3d\"}, {\"mode\": \"lines\", \"y\": [0, 1.999136], \"x\": [0, 0.0539784], \"line\": {\"color\": \"rgb(20, 0, 145)\", \"width\": 2}, \"z\": [0, -0.023237], \"type\": \"scatter3d\"}, {\"mode\": \"lines\", \"y\": [0, 1.999302], \"x\": [0, 0.048071], \"line\": {\"color\": \"rgb(20, 0, 145)\", \"width\": 2}, \"z\": [0, -0.0218484], \"type\": \"scatter3d\"}, {\"mode\": \"lines\", \"y\": [0, 1.999014], \"x\": [0, 0.057862], \"line\": {\"color\": \"rgb(20, 0, 145)\", \"width\": 2}, \"z\": [0, -0.0244272], \"type\": \"scatter3d\"}, {\"mode\": \"lines\", \"y\": [0, 1.999042], \"x\": [0, 0.057231], \"line\": {\"color\": \"rgb(20, 0, 145)\", \"width\": 2}, \"z\": [0, -0.0235968], \"type\": \"scatter3d\"}, {\"mode\": \"lines\", \"y\": [0, 1.999378], \"x\": [0, 0.043312], \"line\": {\"color\": \"rgb(20, 0, 145)\", \"width\": 2}, \"z\": [0, -0.024676], \"type\": \"scatter3d\"}, {\"mode\": \"lines\", \"y\": [0, 1.999244], \"x\": [0, 0.0512374], \"line\": {\"color\": \"rgb(20, 0, 145)\", \"width\": 2}, \"z\": [0, -0.01989252], \"type\": \"scatter3d\"}, {\"mode\": \"lines\", \"y\": [0, 1.999244], \"x\": [0, 0.0512374], \"line\": {\"color\": \"rgb(20, 0, 145)\", \"width\": 2}, \"z\": [0, -0.01989252], \"type\": \"scatter3d\"}, {\"mode\": \"lines\", \"y\": [0, 1.999192], \"x\": [0, 0.048158], \"line\": {\"color\": \"rgb(20, 0, 145)\", \"width\": 2}, \"z\": [0, -0.0302524], \"type\": \"scatter3d\"}, {\"mode\": \"lines\", \"y\": [0, 1.999178], \"x\": [0, 0.0529122], \"line\": {\"color\": \"rgb(20, 0, 145)\", \"width\": 2}, \"z\": [0, -0.022156], \"type\": \"scatter3d\"}, {\"mode\": \"lines\", \"y\": [0, 1.99917], \"x\": [0, 0.0503674], \"line\": {\"color\": \"rgb(20, 0, 145)\", \"width\": 2}, \"z\": [0, -0.0280394], \"type\": \"scatter3d\"}, {\"mode\": \"lines\", \"y\": [0, 1.999154], \"x\": [0, 0.0532014], \"line\": {\"color\": \"rgb(20, 0, 145)\", \"width\": 2}, \"z\": [0, -0.0234824], \"type\": \"scatter3d\"}, {\"mode\": \"lines\", \"y\": [0, 1.999154], \"x\": [0, 0.0532014], \"line\": {\"color\": \"rgb(20, 0, 145)\", \"width\": 2}, \"z\": [0, -0.0234824], \"type\": \"scatter3d\"}, {\"mode\": \"lines\", \"y\": [0, 1.999346], \"x\": [0, 0.0469586], \"line\": {\"color\": \"rgb(20, 0, 145)\", \"width\": 2}, \"z\": [0, -0.0201676], \"type\": \"scatter3d\"}, {\"mode\": \"lines\", \"y\": [0, 1.999152], \"x\": [0, 0.052855], \"line\": {\"color\": \"rgb(20, 0, 145)\", \"width\": 2}, \"z\": [0, -0.024376], \"type\": \"scatter3d\"}, {\"mode\": \"lines\", \"y\": [0, 1.999198], \"x\": [0, 0.0518156], \"line\": {\"color\": \"rgb(20, 0, 145)\", \"width\": 2}, \"z\": [0, -0.0227712], \"type\": \"scatter3d\"}, {\"mode\": \"lines\", \"y\": [0, 1.999198], \"x\": [0, 0.0518156], \"line\": {\"color\": \"rgb(20, 0, 145)\", \"width\": 2}, \"z\": [0, -0.0227712], \"type\": \"scatter3d\"}, {\"mode\": \"lines\", \"y\": [0, 1.999174], \"x\": [0, 0.0522266], \"line\": {\"color\": \"rgb(20, 0, 145)\", \"width\": 2}, \"z\": [0, -0.0239884], \"type\": \"scatter3d\"}, {\"mode\": \"lines\", \"y\": [0, 1.999274], \"x\": [0, 0.0461642], \"line\": {\"color\": \"rgb(20, 0, 145)\", \"width\": 2}, \"z\": [0, -0.0278488], \"type\": \"scatter3d\"}, {\"mode\": \"lines\", \"y\": [0, 1.999316], \"x\": [0, 0.0463232], \"line\": {\"color\": \"rgb(20, 0, 145)\", \"width\": 2}, \"z\": [0, -0.0242454], \"type\": \"scatter3d\"}, {\"mode\": \"lines\", \"y\": [0, 1.99921], \"x\": [0, 0.0492712], \"line\": {\"color\": \"rgb(20, 0, 145)\", \"width\": 2}, \"z\": [0, -0.0270886], \"type\": \"scatter3d\"}, {\"mode\": \"lines\", \"y\": [0, 1.981196], \"x\": [0, 0.27303], \"line\": {\"color\": \"rgb(20, 0, 145)\", \"width\": 2}, \"z\": [0, -0.01772078], \"type\": \"scatter3d\"}, {\"mode\": \"lines\", \"y\": [0, 1.98118], \"x\": [0, 0.273086], \"line\": {\"color\": \"rgb(20, 0, 145)\", \"width\": 2}, \"z\": [0, -0.01865864], \"type\": \"scatter3d\"}, {\"mode\": \"lines\", \"y\": [0, 1.981368], \"x\": [0, 0.27153], \"line\": {\"color\": \"rgb(20, 0, 145)\", \"width\": 2}, \"z\": [0, -0.0212036], \"type\": \"scatter3d\"}, {\"mode\": \"lines\", \"y\": [0, 1.981368], \"x\": [0, 0.27153], \"line\": {\"color\": \"rgb(20, 0, 145)\", \"width\": 2}, \"z\": [0, -0.0212036], \"type\": \"scatter3d\"}, {\"mode\": \"lines\", \"y\": [0, 1.981842], \"x\": [0, 0.268276], \"line\": {\"color\": \"rgb(20, 0, 145)\", \"width\": 2}, \"z\": [0, -0.01806614], \"type\": \"scatter3d\"}, {\"mode\": \"lines\", \"y\": [0, 1.982106], \"x\": [0, 0.2661], \"line\": {\"color\": \"rgb(20, 0, 145)\", \"width\": 2}, \"z\": [0, -0.021153], \"type\": \"scatter3d\"}, {\"mode\": \"lines\", \"y\": [0, 1.98215], \"x\": [0, 0.26565], \"line\": {\"color\": \"rgb(20, 0, 145)\", \"width\": 2}, \"z\": [0, -0.0226154], \"type\": \"scatter3d\"}, {\"mode\": \"lines\", \"y\": [0, 1.98209], \"x\": [0, 0.266244], \"line\": {\"color\": \"rgb(20, 0, 145)\", \"width\": 2}, \"z\": [0, -0.0208634], \"type\": \"scatter3d\"}, {\"mode\": \"lines\", \"y\": [0, 1.98209], \"x\": [0, 0.266244], \"line\": {\"color\": \"rgb(20, 0, 145)\", \"width\": 2}, \"z\": [0, -0.0208634], \"type\": \"scatter3d\"}, {\"mode\": \"lines\", \"y\": [0, 1.981932], \"x\": [0, 0.267468], \"line\": {\"color\": \"rgb(20, 0, 145)\", \"width\": 2}, \"z\": [0, -0.020141], \"type\": \"scatter3d\"}, {\"mode\": \"lines\", \"y\": [0, 1.982284], \"x\": [0, 0.264738], \"line\": {\"color\": \"rgb(20, 0, 145)\", \"width\": 2}, \"z\": [0, -0.021563], \"type\": \"scatter3d\"}, {\"mode\": \"lines\", \"y\": [0, 1.982118], \"x\": [0, 0.266328], \"line\": {\"color\": \"rgb(20, 0, 145)\", \"width\": 2}, \"z\": [0, -0.01669042], \"type\": \"scatter3d\"}, {\"mode\": \"lines\", \"y\": [0, 1.982118], \"x\": [0, 0.266328], \"line\": {\"color\": \"rgb(20, 0, 145)\", \"width\": 2}, \"z\": [0, -0.01669042], \"type\": \"scatter3d\"}, {\"mode\": \"lines\", \"y\": [0, 1.982872], \"x\": [0, 0.2605], \"line\": {\"color\": \"rgb(20, 0, 145)\", \"width\": 2}, \"z\": [0, -0.0188692], \"type\": \"scatter3d\"}, {\"mode\": \"lines\", \"y\": [0, 1.982566], \"x\": [0, 0.26285], \"line\": {\"color\": \"rgb(20, 0, 145)\", \"width\": 2}, \"z\": [0, -0.01840682], \"type\": \"scatter3d\"}, {\"mode\": \"lines\", \"y\": [0, 1.982358], \"x\": [0, 0.264256], \"line\": {\"color\": \"rgb(20, 0, 145)\", \"width\": 2}, \"z\": [0, -0.0205808], \"type\": \"scatter3d\"}, {\"mode\": \"lines\", \"y\": [0, 1.982836], \"x\": [0, 0.260812], \"line\": {\"color\": \"rgb(20, 0, 145)\", \"width\": 2}, \"z\": [0, -0.01837582], \"type\": \"scatter3d\"}, {\"mode\": \"lines\", \"y\": [0, 1.982388], \"x\": [0, 0.264032], \"line\": {\"color\": \"rgb(20, 0, 145)\", \"width\": 2}, \"z\": [0, -0.0206728], \"type\": \"scatter3d\"}, {\"mode\": \"lines\", \"y\": [0, 1.982388], \"x\": [0, 0.264032], \"line\": {\"color\": \"rgb(20, 0, 145)\", \"width\": 2}, \"z\": [0, -0.0206728], \"type\": \"scatter3d\"}, {\"mode\": \"lines\", \"y\": [0, 1.983046], \"x\": [0, 0.258842], \"line\": {\"color\": \"rgb(20, 0, 145)\", \"width\": 2}, \"z\": [0, -0.0230954], \"type\": \"scatter3d\"}, {\"mode\": \"lines\", \"y\": [0, 1.983152], \"x\": [0, 0.258192], \"line\": {\"color\": \"rgb(20, 0, 145)\", \"width\": 2}, \"z\": [0, -0.0210034], \"type\": \"scatter3d\"}, {\"mode\": \"lines\", \"y\": [0, 1.9825], \"x\": [0, 0.263106], \"line\": {\"color\": \"rgb(20, 0, 145)\", \"width\": 2}, \"z\": [0, -0.0216816], \"type\": \"scatter3d\"}, {\"mode\": \"lines\", \"y\": [0, 1.983408], \"x\": [0, 0.256318], \"line\": {\"color\": \"rgb(20, 0, 145)\", \"width\": 2}, \"z\": [0, -0.01986374], \"type\": \"scatter3d\"}, {\"mode\": \"lines\", \"y\": [0, 1.983408], \"x\": [0, 0.256318], \"line\": {\"color\": \"rgb(20, 0, 145)\", \"width\": 2}, \"z\": [0, -0.01986374], \"type\": \"scatter3d\"}, {\"mode\": \"lines\", \"y\": [0, 1.982646], \"x\": [0, 0.262156], \"line\": {\"color\": \"rgb(20, 0, 145)\", \"width\": 2}, \"z\": [0, -0.01968646], \"type\": \"scatter3d\"}, {\"mode\": \"lines\", \"y\": [0, 1.982762], \"x\": [0, 0.261012], \"line\": {\"color\": \"rgb(20, 0, 145)\", \"width\": 2}, \"z\": [0, -0.02298], \"type\": \"scatter3d\"}, {\"mode\": \"lines\", \"y\": [0, 1.98238], \"x\": [0, 0.26399], \"line\": {\"color\": \"rgb(20, 0, 145)\", \"width\": 2}, \"z\": [0, -0.021812], \"type\": \"scatter3d\"}, {\"mode\": \"lines\", \"y\": [0, 1.981948], \"x\": [0, 0.267712], \"line\": {\"color\": \"rgb(20, 0, 145)\", \"width\": 2}, \"z\": [0, -0.01458228], \"type\": \"scatter3d\"}, {\"mode\": \"lines\", \"y\": [0, 1.981948], \"x\": [0, 0.267712], \"line\": {\"color\": \"rgb(20, 0, 145)\", \"width\": 2}, \"z\": [0, -0.01458228], \"type\": \"scatter3d\"}, {\"mode\": \"lines\", \"y\": [0, 1.982376], \"x\": [0, 0.26465], \"line\": {\"color\": \"rgb(20, 0, 145)\", \"width\": 2}, \"z\": [0, -0.0121645], \"type\": \"scatter3d\"}, {\"mode\": \"lines\", \"y\": [0, 1.982244], \"x\": [0, 0.26545], \"line\": {\"color\": \"rgb(20, 0, 145)\", \"width\": 2}, \"z\": [0, -0.01574968], \"type\": \"scatter3d\"}, {\"mode\": \"lines\", \"y\": [0, 1.982598], \"x\": [0, 0.262716], \"line\": {\"color\": \"rgb(20, 0, 145)\", \"width\": 2}, \"z\": [0, -0.01682028], \"type\": \"scatter3d\"}, {\"mode\": \"lines\", \"y\": [0, 1.982598], \"x\": [0, 0.262716], \"line\": {\"color\": \"rgb(20, 0, 145)\", \"width\": 2}, \"z\": [0, -0.01682028], \"type\": \"scatter3d\"}, {\"mode\": \"lines\", \"y\": [0, 1.982732], \"x\": [0, 0.261688], \"line\": {\"color\": \"rgb(20, 0, 145)\", \"width\": 2}, \"z\": [0, -0.0170388], \"type\": \"scatter3d\"}, {\"mode\": \"lines\", \"y\": [0, 1.98289], \"x\": [0, 0.260318], \"line\": {\"color\": \"rgb(20, 0, 145)\", \"width\": 2}, \"z\": [0, -0.0195676], \"type\": \"scatter3d\"}, {\"mode\": \"lines\", \"y\": [0, 1.982216], \"x\": [0, 0.26566], \"line\": {\"color\": \"rgb(20, 0, 145)\", \"width\": 2}, \"z\": [0, -0.01573912], \"type\": \"scatter3d\"}, {\"mode\": \"lines\", \"y\": [0, 1.982582], \"x\": [0, 0.262692], \"line\": {\"color\": \"rgb(20, 0, 145)\", \"width\": 2}, \"z\": [0, -0.01898014], \"type\": \"scatter3d\"}, {\"mode\": \"lines\", \"y\": [0, 1.982194], \"x\": [0, 0.265564], \"line\": {\"color\": \"rgb(20, 0, 145)\", \"width\": 2}, \"z\": [0, -0.01961072], \"type\": \"scatter3d\"}, {\"mode\": \"lines\", \"y\": [0, 1.982194], \"x\": [0, 0.265564], \"line\": {\"color\": \"rgb(20, 0, 145)\", \"width\": 2}, \"z\": [0, -0.01961072], \"type\": \"scatter3d\"}, {\"mode\": \"lines\", \"y\": [0, 1.982448], \"x\": [0, 0.263844], \"line\": {\"color\": \"rgb(20, 0, 145)\", \"width\": 2}, \"z\": [0, -0.01702448], \"type\": \"scatter3d\"}, {\"mode\": \"lines\", \"y\": [0, 1.98247], \"x\": [0, 0.263636], \"line\": {\"color\": \"rgb(20, 0, 145)\", \"width\": 2}, \"z\": [0, -0.0176272], \"type\": \"scatter3d\"}, {\"mode\": \"lines\", \"y\": [0, 1.982776], \"x\": [0, 0.261098], \"line\": {\"color\": \"rgb(20, 0, 145)\", \"width\": 2}, \"z\": [0, -0.0207284], \"type\": \"scatter3d\"}, {\"mode\": \"lines\", \"y\": [0, 1.983464], \"x\": [0, 0.256068], \"line\": {\"color\": \"rgb(20, 0, 145)\", \"width\": 2}, \"z\": [0, -0.0172187], \"type\": \"scatter3d\"}, {\"mode\": \"lines\", \"y\": [0, 1.983464], \"x\": [0, 0.256068], \"line\": {\"color\": \"rgb(20, 0, 145)\", \"width\": 2}, \"z\": [0, -0.0172187], \"type\": \"scatter3d\"}, {\"mode\": \"lines\", \"y\": [0, 1.982736], \"x\": [0, 0.261498], \"line\": {\"color\": \"rgb(20, 0, 145)\", \"width\": 2}, \"z\": [0, -0.01930304], \"type\": \"scatter3d\"}, {\"mode\": \"lines\", \"y\": [0, 1.98249], \"x\": [0, 0.263396], \"line\": {\"color\": \"rgb(20, 0, 145)\", \"width\": 2}, \"z\": [0, -0.0188417], \"type\": \"scatter3d\"}, {\"mode\": \"lines\", \"y\": [0, 1.982708], \"x\": [0, 0.262022], \"line\": {\"color\": \"rgb(20, 0, 145)\", \"width\": 2}, \"z\": [0, -0.01458676], \"type\": \"scatter3d\"}, {\"mode\": \"lines\", \"y\": [0, 1.98288], \"x\": [0, 0.260652], \"line\": {\"color\": \"rgb(20, 0, 145)\", \"width\": 2}, \"z\": [0, -0.01580432], \"type\": \"scatter3d\"}, {\"mode\": \"lines\", \"y\": [0, 1.982288], \"x\": [0, 0.264918], \"line\": {\"color\": \"rgb(20, 0, 145)\", \"width\": 2}, \"z\": [0, -0.01876066], \"type\": \"scatter3d\"}, {\"mode\": \"lines\", \"y\": [0, 1.982288], \"x\": [0, 0.264918], \"line\": {\"color\": \"rgb(20, 0, 145)\", \"width\": 2}, \"z\": [0, -0.01876066], \"type\": \"scatter3d\"}, {\"mode\": \"lines\", \"y\": [0, 1.982082], \"x\": [0, 0.266514], \"line\": {\"color\": \"rgb(20, 0, 145)\", \"width\": 2}, \"z\": [0, -0.017891], \"type\": \"scatter3d\"}, {\"mode\": \"lines\", \"y\": [0, 1.982906], \"x\": [0, 0.260242], \"line\": {\"color\": \"rgb(20, 0, 145)\", \"width\": 2}, \"z\": [0, -0.01881572], \"type\": \"scatter3d\"}, {\"mode\": \"lines\", \"y\": [0, 1.982612], \"x\": [0, 0.262438], \"line\": {\"color\": \"rgb(20, 0, 145)\", \"width\": 2}, \"z\": [0, -0.01937122], \"type\": \"scatter3d\"}, {\"mode\": \"lines\", \"y\": [0, 1.982612], \"x\": [0, 0.262438], \"line\": {\"color\": \"rgb(20, 0, 145)\", \"width\": 2}, \"z\": [0, -0.01937122], \"type\": \"scatter3d\"}, {\"mode\": \"lines\", \"y\": [0, 1.98252], \"x\": [0, 0.263192], \"line\": {\"color\": \"rgb(20, 0, 145)\", \"width\": 2}, \"z\": [0, -0.01863022], \"type\": \"scatter3d\"}, {\"mode\": \"lines\", \"y\": [0, 1.982542], \"x\": [0, 0.262952], \"line\": {\"color\": \"rgb(20, 0, 145)\", \"width\": 2}, \"z\": [0, -0.0195943], \"type\": \"scatter3d\"}, {\"mode\": \"lines\", \"y\": [0, 1.98258], \"x\": [0, 0.26279], \"line\": {\"color\": \"rgb(20, 0, 145)\", \"width\": 2}, \"z\": [0, -0.0177201], \"type\": \"scatter3d\"}, {\"mode\": \"lines\", \"y\": [0, 1.982732], \"x\": [0, 0.261512], \"line\": {\"color\": \"rgb(20, 0, 145)\", \"width\": 2}, \"z\": [0, -0.01959516], \"type\": \"scatter3d\"}, {\"mode\": \"lines\", \"y\": [0, 1.982732], \"x\": [0, 0.261512], \"line\": {\"color\": \"rgb(20, 0, 145)\", \"width\": 2}, \"z\": [0, -0.01959516], \"type\": \"scatter3d\"}, {\"mode\": \"lines\", \"y\": [0, 1.982332], \"x\": [0, 0.264832], \"line\": {\"color\": \"rgb(20, 0, 145)\", \"width\": 2}, \"z\": [0, -0.01507174], \"type\": \"scatter3d\"}, {\"mode\": \"lines\", \"y\": [0, 1.982722], \"x\": [0, 0.261654], \"line\": {\"color\": \"rgb(20, 0, 145)\", \"width\": 2}, \"z\": [0, -0.01863216], \"type\": \"scatter3d\"}, {\"mode\": \"lines\", \"y\": [0, 1.98249], \"x\": [0, 0.263214], \"line\": {\"color\": \"rgb(20, 0, 145)\", \"width\": 2}, \"z\": [0, -0.0212318], \"type\": \"scatter3d\"}, {\"mode\": \"lines\", \"y\": [0, 1.98243], \"x\": [0, 0.263774], \"line\": {\"color\": \"rgb(20, 0, 145)\", \"width\": 2}, \"z\": [0, -0.01981732], \"type\": \"scatter3d\"}, {\"mode\": \"lines\", \"y\": [0, 1.98243], \"x\": [0, 0.263774], \"line\": {\"color\": \"rgb(20, 0, 145)\", \"width\": 2}, \"z\": [0, -0.01981732], \"type\": \"scatter3d\"}, {\"mode\": \"lines\", \"y\": [0, 1.98277], \"x\": [0, 0.2612], \"line\": {\"color\": \"rgb(20, 0, 145)\", \"width\": 2}, \"z\": [0, -0.01985502], \"type\": \"scatter3d\"}, {\"mode\": \"lines\", \"y\": [0, 1.981816], \"x\": [0, 0.268552], \"line\": {\"color\": \"rgb(20, 0, 145)\", \"width\": 2}, \"z\": [0, -0.01695296], \"type\": \"scatter3d\"}, {\"mode\": \"lines\", \"y\": [0, 1.982372], \"x\": [0, 0.264106], \"line\": {\"color\": \"rgb(20, 0, 145)\", \"width\": 2}, \"z\": [0, -0.0211832], \"type\": \"scatter3d\"}, {\"mode\": \"lines\", \"y\": [0, 1.982354], \"x\": [0, 0.26439], \"line\": {\"color\": \"rgb(20, 0, 145)\", \"width\": 2}, \"z\": [0, -0.01931494], \"type\": \"scatter3d\"}, {\"mode\": \"lines\", \"y\": [0, 1.982354], \"x\": [0, 0.26439], \"line\": {\"color\": \"rgb(20, 0, 145)\", \"width\": 2}, \"z\": [0, -0.01931494], \"type\": \"scatter3d\"}, {\"mode\": \"lines\", \"y\": [0, 1.982276], \"x\": [0, 0.264856], \"line\": {\"color\": \"rgb(20, 0, 145)\", \"width\": 2}, \"z\": [0, -0.0208354], \"type\": \"scatter3d\"}, {\"mode\": \"lines\", \"y\": [0, 1.982272], \"x\": [0, 0.26502], \"line\": {\"color\": \"rgb(20, 0, 145)\", \"width\": 2}, \"z\": [0, -0.01910962], \"type\": \"scatter3d\"}, {\"mode\": \"lines\", \"y\": [0, 1.982134], \"x\": [0, 0.265822], \"line\": {\"color\": \"rgb(20, 0, 145)\", \"width\": 2}, \"z\": [0, -0.0220718], \"type\": \"scatter3d\"}, {\"mode\": \"lines\", \"y\": [0, 1.982382], \"x\": [0, 0.264052], \"line\": {\"color\": \"rgb(20, 0, 145)\", \"width\": 2}, \"z\": [0, -0.0210046], \"type\": \"scatter3d\"}, {\"mode\": \"lines\", \"y\": [0, 1.982382], \"x\": [0, 0.264052], \"line\": {\"color\": \"rgb(20, 0, 145)\", \"width\": 2}, \"z\": [0, -0.0210046], \"type\": \"scatter3d\"}, {\"mode\": \"lines\", \"y\": [0, 1.982242], \"x\": [0, 0.265246], \"line\": {\"color\": \"rgb(20, 0, 145)\", \"width\": 2}, \"z\": [0, -0.01897598], \"type\": \"scatter3d\"}, {\"mode\": \"lines\", \"y\": [0, 1.981812], \"x\": [0, 0.268508], \"line\": {\"color\": \"rgb(20, 0, 145)\", \"width\": 2}, \"z\": [0, -0.01811678], \"type\": \"scatter3d\"}, {\"mode\": \"lines\", \"y\": [0, 1.98165], \"x\": [0, 0.269442], \"line\": {\"color\": \"rgb(20, 0, 145)\", \"width\": 2}, \"z\": [0, -0.021508], \"type\": \"scatter3d\"}, {\"mode\": \"lines\", \"y\": [0, 1.982352], \"x\": [0, 0.264062], \"line\": {\"color\": \"rgb(20, 0, 145)\", \"width\": 2}, \"z\": [0, -0.0235778], \"type\": \"scatter3d\"}, {\"mode\": \"lines\", \"y\": [0, 1.981682], \"x\": [0, 0.268982], \"line\": {\"color\": \"rgb(20, 0, 145)\", \"width\": 2}, \"z\": [0, -0.0242058], \"type\": \"scatter3d\"}, {\"mode\": \"lines\", \"y\": [0, 1.981682], \"x\": [0, 0.268982], \"line\": {\"color\": \"rgb(20, 0, 145)\", \"width\": 2}, \"z\": [0, -0.0242058], \"type\": \"scatter3d\"}, {\"mode\": \"lines\", \"y\": [0, 1.981744], \"x\": [0, 0.2687], \"line\": {\"color\": \"rgb(20, 0, 145)\", \"width\": 2}, \"z\": [0, -0.0221508], \"type\": \"scatter3d\"}, {\"mode\": \"lines\", \"y\": [0, 1.982336], \"x\": [0, 0.263646], \"line\": {\"color\": \"rgb(20, 0, 145)\", \"width\": 2}, \"z\": [0, -0.0288512], \"type\": \"scatter3d\"}, {\"mode\": \"lines\", \"y\": [0, 1.981576], \"x\": [0, 0.269422], \"line\": {\"color\": \"rgb(20, 0, 145)\", \"width\": 2}, \"z\": [0, -0.0277194], \"type\": \"scatter3d\"}, {\"mode\": \"lines\", \"y\": [0, 1.981576], \"x\": [0, 0.269422], \"line\": {\"color\": \"rgb(20, 0, 145)\", \"width\": 2}, \"z\": [0, -0.0277194], \"type\": \"scatter3d\"}, {\"mode\": \"lines\", \"y\": [0, 1.982062], \"x\": [0, 0.265654], \"line\": {\"color\": \"rgb(20, 0, 145)\", \"width\": 2}, \"z\": [0, -0.0292832], \"type\": \"scatter3d\"}, {\"mode\": \"lines\", \"y\": [0, 1.981596], \"x\": [0, 0.269234], \"line\": {\"color\": \"rgb(20, 0, 145)\", \"width\": 2}, \"z\": [0, -0.0280708], \"type\": \"scatter3d\"}, {\"mode\": \"lines\", \"y\": [0, 1.981772], \"x\": [0, 0.267408], \"line\": {\"color\": \"rgb(20, 0, 145)\", \"width\": 2}, \"z\": [0, -0.0327884], \"type\": \"scatter3d\"}, {\"mode\": \"lines\", \"y\": [0, 1.98276], \"x\": [0, 0.260304], \"line\": {\"color\": \"rgb(20, 0, 145)\", \"width\": 2}, \"z\": [0, -0.0301434], \"type\": \"scatter3d\"}, {\"mode\": \"lines\", \"y\": [0, 1.98276], \"x\": [0, 0.260304], \"line\": {\"color\": \"rgb(20, 0, 145)\", \"width\": 2}, \"z\": [0, -0.0301434], \"type\": \"scatter3d\"}, {\"mode\": \"lines\", \"y\": [0, 1.98214], \"x\": [0, 0.264794], \"line\": {\"color\": \"rgb(20, 0, 145)\", \"width\": 2}, \"z\": [0, -0.0317482], \"type\": \"scatter3d\"}, {\"mode\": \"lines\", \"y\": [0, 1.982458], \"x\": [0, 0.262426], \"line\": {\"color\": \"rgb(20, 0, 145)\", \"width\": 2}, \"z\": [0, -0.031498], \"type\": \"scatter3d\"}, {\"mode\": \"lines\", \"y\": [0, 1.9822], \"x\": [0, 0.264342], \"line\": {\"color\": \"rgb(20, 0, 145)\", \"width\": 2}, \"z\": [0, -0.0317082], \"type\": \"scatter3d\"}, {\"mode\": \"lines\", \"y\": [0, 1.982338], \"x\": [0, 0.263736], \"line\": {\"color\": \"rgb(20, 0, 145)\", \"width\": 2}, \"z\": [0, -0.0278856], \"type\": \"scatter3d\"}, {\"mode\": \"lines\", \"y\": [0, 1.982338], \"x\": [0, 0.263736], \"line\": {\"color\": \"rgb(20, 0, 145)\", \"width\": 2}, \"z\": [0, -0.0278856], \"type\": \"scatter3d\"}, {\"mode\": \"lines\", \"y\": [0, 1.982318], \"x\": [0, 0.263524], \"line\": {\"color\": \"rgb(20, 0, 145)\", \"width\": 2}, \"z\": [0, -0.0311148], \"type\": \"scatter3d\"}, {\"mode\": \"lines\", \"y\": [0, 1.982376], \"x\": [0, 0.263198], \"line\": {\"color\": \"rgb(20, 0, 145)\", \"width\": 2}, \"z\": [0, -0.0301636], \"type\": \"scatter3d\"}, {\"mode\": \"lines\", \"y\": [0, 1.982836], \"x\": [0, 0.25994], \"line\": {\"color\": \"rgb(20, 0, 145)\", \"width\": 2}, \"z\": [0, -0.028141], \"type\": \"scatter3d\"}, {\"mode\": \"lines\", \"y\": [0, 1.98248], \"x\": [0, 0.262638], \"line\": {\"color\": \"rgb(20, 0, 145)\", \"width\": 2}, \"z\": [0, -0.0281208], \"type\": \"scatter3d\"}, {\"mode\": \"lines\", \"y\": [0, 1.98248], \"x\": [0, 0.262638], \"line\": {\"color\": \"rgb(20, 0, 145)\", \"width\": 2}, \"z\": [0, -0.0281208], \"type\": \"scatter3d\"}, {\"mode\": \"lines\", \"y\": [0, 1.983584], \"x\": [0, 0.254334], \"line\": {\"color\": \"rgb(20, 0, 145)\", \"width\": 2}, \"z\": [0, -0.0266316], \"type\": \"scatter3d\"}, {\"mode\": \"lines\", \"y\": [0, 1.881448], \"x\": [0, -0.229914], \"line\": {\"color\": \"rgb(20, 0, 145)\", \"width\": 2}, \"z\": [0, 0.638198], \"type\": \"scatter3d\"}, {\"mode\": \"lines\", \"y\": [0, 1.880344], \"x\": [0, -0.23082], \"line\": {\"color\": \"rgb(20, 0, 145)\", \"width\": 2}, \"z\": [0, 0.641112], \"type\": \"scatter3d\"}, {\"mode\": \"lines\", \"y\": [0, 1.880344], \"x\": [0, -0.23082], \"line\": {\"color\": \"rgb(20, 0, 145)\", \"width\": 2}, \"z\": [0, 0.641112], \"type\": \"scatter3d\"}, {\"mode\": \"lines\", \"y\": [0, 1.88089], \"x\": [0, -0.230978], \"line\": {\"color\": \"rgb(20, 0, 145)\", \"width\": 2}, \"z\": [0, 0.639454], \"type\": \"scatter3d\"}, {\"mode\": \"lines\", \"y\": [0, 1.881294], \"x\": [0, -0.229276], \"line\": {\"color\": \"rgb(20, 0, 145)\", \"width\": 2}, \"z\": [0, 0.638876], \"type\": \"scatter3d\"}, {\"mode\": \"lines\", \"y\": [0, 1.88075], \"x\": [0, -0.230652], \"line\": {\"color\": \"rgb(20, 0, 145)\", \"width\": 2}, \"z\": [0, 0.639982], \"type\": \"scatter3d\"}, {\"mode\": \"lines\", \"y\": [0, 1.881002], \"x\": [0, -0.22939], \"line\": {\"color\": \"rgb(20, 0, 145)\", \"width\": 2}, \"z\": [0, 0.639694], \"type\": \"scatter3d\"}, {\"mode\": \"lines\", \"y\": [0, 1.881002], \"x\": [0, -0.22939], \"line\": {\"color\": \"rgb(20, 0, 145)\", \"width\": 2}, \"z\": [0, 0.639694], \"type\": \"scatter3d\"}, {\"mode\": \"lines\", \"y\": [0, 1.88152], \"x\": [0, -0.230326], \"line\": {\"color\": \"rgb(20, 0, 145)\", \"width\": 2}, \"z\": [0, 0.637832], \"type\": \"scatter3d\"}, {\"mode\": \"lines\", \"y\": [0, 1.881428], \"x\": [0, -0.229328], \"line\": {\"color\": \"rgb(20, 0, 145)\", \"width\": 2}, \"z\": [0, 0.638464], \"type\": \"scatter3d\"}, {\"mode\": \"lines\", \"y\": [0, 1.882146], \"x\": [0, -0.230988], \"line\": {\"color\": \"rgb(20, 0, 145)\", \"width\": 2}, \"z\": [0, 0.635744], \"type\": \"scatter3d\"}, {\"mode\": \"lines\", \"y\": [0, 1.881532], \"x\": [0, -0.229242], \"line\": {\"color\": \"rgb(20, 0, 145)\", \"width\": 2}, \"z\": [0, 0.638188], \"type\": \"scatter3d\"}, {\"mode\": \"lines\", \"y\": [0, 1.882814], \"x\": [0, -0.232248], \"line\": {\"color\": \"rgb(20, 0, 145)\", \"width\": 2}, \"z\": [0, 0.633302], \"type\": \"scatter3d\"}, {\"mode\": \"lines\", \"y\": [0, 1.882814], \"x\": [0, -0.232248], \"line\": {\"color\": \"rgb(20, 0, 145)\", \"width\": 2}, \"z\": [0, 0.633302], \"type\": \"scatter3d\"}, {\"mode\": \"lines\", \"y\": [0, 1.881734], \"x\": [0, -0.229744], \"line\": {\"color\": \"rgb(20, 0, 145)\", \"width\": 2}, \"z\": [0, 0.637412], \"type\": \"scatter3d\"}, {\"mode\": \"lines\", \"y\": [0, 1.88161], \"x\": [0, -0.229942], \"line\": {\"color\": \"rgb(20, 0, 145)\", \"width\": 2}, \"z\": [0, 0.637706], \"type\": \"scatter3d\"}, {\"mode\": \"lines\", \"y\": [0, 1.882918], \"x\": [0, -0.229588], \"line\": {\"color\": \"rgb(20, 0, 145)\", \"width\": 2}, \"z\": [0, 0.633966], \"type\": \"scatter3d\"}, {\"mode\": \"lines\", \"y\": [0, 1.882918], \"x\": [0, -0.229588], \"line\": {\"color\": \"rgb(20, 0, 145)\", \"width\": 2}, \"z\": [0, 0.633966], \"type\": \"scatter3d\"}, {\"mode\": \"lines\", \"y\": [0, 1.88157], \"x\": [0, -0.231436], \"line\": {\"color\": \"rgb(20, 0, 145)\", \"width\": 2}, \"z\": [0, 0.637282], \"type\": \"scatter3d\"}, {\"mode\": \"lines\", \"y\": [0, 1.8812], \"x\": [0, -0.231896], \"line\": {\"color\": \"rgb(20, 0, 145)\", \"width\": 2}, \"z\": [0, 0.63821], \"type\": \"scatter3d\"}, {\"mode\": \"lines\", \"y\": [0, 1.882712], \"x\": [0, -0.226802], \"line\": {\"color\": \"rgb(20, 0, 145)\", \"width\": 2}, \"z\": [0, 0.635576], \"type\": \"scatter3d\"}, {\"mode\": \"lines\", \"y\": [0, 1.882712], \"x\": [0, -0.226802], \"line\": {\"color\": \"rgb(20, 0, 145)\", \"width\": 2}, \"z\": [0, 0.635576], \"type\": \"scatter3d\"}, {\"mode\": \"lines\", \"y\": [0, 1.88103], \"x\": [0, -0.218382], \"line\": {\"color\": \"rgb(20, 0, 145)\", \"width\": 2}, \"z\": [0, 0.643456], \"type\": \"scatter3d\"}, {\"mode\": \"lines\", \"y\": [0, 1.880988], \"x\": [0, -0.22415], \"line\": {\"color\": \"rgb(20, 0, 145)\", \"width\": 2}, \"z\": [0, 0.641594], \"type\": \"scatter3d\"}, {\"mode\": \"lines\", \"y\": [0, 1.879922], \"x\": [0, -0.22627], \"line\": {\"color\": \"rgb(20, 0, 145)\", \"width\": 2}, \"z\": [0, 0.64397], \"type\": \"scatter3d\"}, {\"mode\": \"lines\", \"y\": [0, 1.879884], \"x\": [0, -0.226074], \"line\": {\"color\": \"rgb(20, 0, 145)\", \"width\": 2}, \"z\": [0, 0.644148], \"type\": \"scatter3d\"}, {\"mode\": \"lines\", \"y\": [0, 1.88146], \"x\": [0, -0.22352], \"line\": {\"color\": \"rgb(20, 0, 145)\", \"width\": 2}, \"z\": [0, 0.64043], \"type\": \"scatter3d\"}, {\"mode\": \"lines\", \"y\": [0, 1.88146], \"x\": [0, -0.22352], \"line\": {\"color\": \"rgb(20, 0, 145)\", \"width\": 2}, \"z\": [0, 0.64043], \"type\": \"scatter3d\"}, {\"mode\": \"lines\", \"y\": [0, 1.880072], \"x\": [0, -0.226008], \"line\": {\"color\": \"rgb(20, 0, 145)\", \"width\": 2}, \"z\": [0, 0.643622], \"type\": \"scatter3d\"}, {\"mode\": \"lines\", \"y\": [0, 1.88004], \"x\": [0, -0.22418], \"line\": {\"color\": \"rgb(20, 0, 145)\", \"width\": 2}, \"z\": [0, 0.644358], \"type\": \"scatter3d\"}, {\"mode\": \"lines\", \"y\": [0, 1.879932], \"x\": [0, -0.221908], \"line\": {\"color\": \"rgb(20, 0, 145)\", \"width\": 2}, \"z\": [0, 0.645452], \"type\": \"scatter3d\"}, {\"mode\": \"lines\", \"y\": [0, 1.880032], \"x\": [0, -0.225284], \"line\": {\"color\": \"rgb(20, 0, 145)\", \"width\": 2}, \"z\": [0, 0.64399], \"type\": \"scatter3d\"}, {\"mode\": \"lines\", \"y\": [0, 1.880032], \"x\": [0, -0.225284], \"line\": {\"color\": \"rgb(20, 0, 145)\", \"width\": 2}, \"z\": [0, 0.64399], \"type\": \"scatter3d\"}, {\"mode\": \"lines\", \"y\": [0, 1.880558], \"x\": [0, -0.226022], \"line\": {\"color\": \"rgb(20, 0, 145)\", \"width\": 2}, \"z\": [0, 0.642198], \"type\": \"scatter3d\"}, {\"mode\": \"lines\", \"y\": [0, 1.880772], \"x\": [0, -0.221574], \"line\": {\"color\": \"rgb(20, 0, 145)\", \"width\": 2}, \"z\": [0, 0.643116], \"type\": \"scatter3d\"}, {\"mode\": \"lines\", \"y\": [0, 1.88168], \"x\": [0, -0.219834], \"line\": {\"color\": \"rgb(20, 0, 145)\", \"width\": 2}, \"z\": [0, 0.641054], \"type\": \"scatter3d\"}, {\"mode\": \"lines\", \"y\": [0, 1.880364], \"x\": [0, -0.223588], \"line\": {\"color\": \"rgb(20, 0, 145)\", \"width\": 2}, \"z\": [0, 0.643614], \"type\": \"scatter3d\"}, {\"mode\": \"lines\", \"y\": [0, 1.881298], \"x\": [0, -0.219026], \"line\": {\"color\": \"rgb(20, 0, 145)\", \"width\": 2}, \"z\": [0, 0.642452], \"type\": \"scatter3d\"}, {\"mode\": \"lines\", \"y\": [0, 1.881298], \"x\": [0, -0.219026], \"line\": {\"color\": \"rgb(20, 0, 145)\", \"width\": 2}, \"z\": [0, 0.642452], \"type\": \"scatter3d\"}, {\"mode\": \"lines\", \"y\": [0, 1.880988], \"x\": [0, -0.22113], \"line\": {\"color\": \"rgb(20, 0, 145)\", \"width\": 2}, \"z\": [0, 0.642638], \"type\": \"scatter3d\"}, {\"mode\": \"lines\", \"y\": [0, 1.881376], \"x\": [0, -0.21786], \"line\": {\"color\": \"rgb(20, 0, 145)\", \"width\": 2}, \"z\": [0, 0.642618], \"type\": \"scatter3d\"}, {\"mode\": \"lines\", \"y\": [0, 1.88275], \"x\": [0, -0.221394], \"line\": {\"color\": \"rgb(20, 0, 145)\", \"width\": 2}, \"z\": [0, 0.63737], \"type\": \"scatter3d\"}, {\"mode\": \"lines\", \"y\": [0, 1.88275], \"x\": [0, -0.221394], \"line\": {\"color\": \"rgb(20, 0, 145)\", \"width\": 2}, \"z\": [0, 0.63737], \"type\": \"scatter3d\"}, {\"mode\": \"lines\", \"y\": [0, 1.882184], \"x\": [0, -0.219672], \"line\": {\"color\": \"rgb(20, 0, 145)\", \"width\": 2}, \"z\": [0, 0.639632], \"type\": \"scatter3d\"}, {\"mode\": \"lines\", \"y\": [0, 1.881874], \"x\": [0, -0.219842], \"line\": {\"color\": \"rgb(20, 0, 145)\", \"width\": 2}, \"z\": [0, 0.640484], \"type\": \"scatter3d\"}, {\"mode\": \"lines\", \"y\": [0, 1.88069], \"x\": [0, -0.21984], \"line\": {\"color\": \"rgb(20, 0, 145)\", \"width\": 2}, \"z\": [0, 0.643954], \"type\": \"scatter3d\"}, {\"mode\": \"lines\", \"y\": [0, 1.882548], \"x\": [0, -0.219916], \"line\": {\"color\": \"rgb(20, 0, 145)\", \"width\": 2}, \"z\": [0, 0.638474], \"type\": \"scatter3d\"}, {\"mode\": \"lines\", \"y\": [0, 1.882548], \"x\": [0, -0.219916], \"line\": {\"color\": \"rgb(20, 0, 145)\", \"width\": 2}, \"z\": [0, 0.638474], \"type\": \"scatter3d\"}, {\"mode\": \"lines\", \"y\": [0, 1.881614], \"x\": [0, -0.218276], \"line\": {\"color\": \"rgb(20, 0, 145)\", \"width\": 2}, \"z\": [0, 0.641782], \"type\": \"scatter3d\"}, {\"mode\": \"lines\", \"y\": [0, 1.883488], \"x\": [0, -0.216222], \"line\": {\"color\": \"rgb(20, 0, 145)\", \"width\": 2}, \"z\": [0, 0.636964], \"type\": \"scatter3d\"}, {\"mode\": \"lines\", \"y\": [0, 1.882772], \"x\": [0, -0.216352], \"line\": {\"color\": \"rgb(20, 0, 145)\", \"width\": 2}, \"z\": [0, 0.63903], \"type\": \"scatter3d\"}, {\"mode\": \"lines\", \"y\": [0, 1.882772], \"x\": [0, -0.216352], \"line\": {\"color\": \"rgb(20, 0, 145)\", \"width\": 2}, \"z\": [0, 0.63903], \"type\": \"scatter3d\"}, {\"mode\": \"lines\", \"y\": [0, 1.88162], \"x\": [0, -0.220456], \"line\": {\"color\": \"rgb(20, 0, 145)\", \"width\": 2}, \"z\": [0, 0.641022], \"type\": \"scatter3d\"}, {\"mode\": \"lines\", \"y\": [0, 1.88168], \"x\": [0, -0.214824], \"line\": {\"color\": \"rgb(20, 0, 145)\", \"width\": 2}, \"z\": [0, 0.64275], \"type\": \"scatter3d\"}, {\"mode\": \"lines\", \"y\": [0, 1.881612], \"x\": [0, -0.218394], \"line\": {\"color\": \"rgb(20, 0, 145)\", \"width\": 2}, \"z\": [0, 0.641748], \"type\": \"scatter3d\"}, {\"mode\": \"lines\", \"y\": [0, 1.882466], \"x\": [0, -0.216692], \"line\": {\"color\": \"rgb(20, 0, 145)\", \"width\": 2}, \"z\": [0, 0.63982], \"type\": \"scatter3d\"}, {\"mode\": \"lines\", \"y\": [0, 1.881714], \"x\": [0, -0.217538], \"line\": {\"color\": \"rgb(20, 0, 145)\", \"width\": 2}, \"z\": [0, 0.641736], \"type\": \"scatter3d\"}, {\"mode\": \"lines\", \"y\": [0, 1.881714], \"x\": [0, -0.217538], \"line\": {\"color\": \"rgb(20, 0, 145)\", \"width\": 2}, \"z\": [0, 0.641736], \"type\": \"scatter3d\"}, {\"mode\": \"lines\", \"y\": [0, 1.88154], \"x\": [0, -0.217386], \"line\": {\"color\": \"rgb(20, 0, 145)\", \"width\": 2}, \"z\": [0, 0.642304], \"type\": \"scatter3d\"}, {\"mode\": \"lines\", \"y\": [0, 1.882654], \"x\": [0, -0.217016], \"line\": {\"color\": \"rgb(20, 0, 145)\", \"width\": 2}, \"z\": [0, 0.639156], \"type\": \"scatter3d\"}, {\"mode\": \"lines\", \"y\": [0, 1.882196], \"x\": [0, -0.216984], \"line\": {\"color\": \"rgb(20, 0, 145)\", \"width\": 2}, \"z\": [0, 0.64051], \"type\": \"scatter3d\"}, {\"mode\": \"lines\", \"y\": [0, 1.883006], \"x\": [0, -0.215964], \"line\": {\"color\": \"rgb(20, 0, 145)\", \"width\": 2}, \"z\": [0, 0.638474], \"type\": \"scatter3d\"}, {\"mode\": \"lines\", \"y\": [0, 1.883078], \"x\": [0, -0.21648], \"line\": {\"color\": \"rgb(20, 0, 145)\", \"width\": 2}, \"z\": [0, 0.638088], \"type\": \"scatter3d\"}, {\"mode\": \"lines\", \"y\": [0, 1.883078], \"x\": [0, -0.21648], \"line\": {\"color\": \"rgb(20, 0, 145)\", \"width\": 2}, \"z\": [0, 0.638088], \"type\": \"scatter3d\"}, {\"mode\": \"lines\", \"y\": [0, 1.881866], \"x\": [0, -0.218392], \"line\": {\"color\": \"rgb(20, 0, 145)\", \"width\": 2}, \"z\": [0, 0.641006], \"type\": \"scatter3d\"}, {\"mode\": \"lines\", \"y\": [0, 1.881878], \"x\": [0, -0.220168], \"line\": {\"color\": \"rgb(20, 0, 145)\", \"width\": 2}, \"z\": [0, 0.64036], \"type\": \"scatter3d\"}, {\"mode\": \"lines\", \"y\": [0, 1.881324], \"x\": [0, -0.218378], \"line\": {\"color\": \"rgb(20, 0, 145)\", \"width\": 2}, \"z\": [0, 0.642598], \"type\": \"scatter3d\"}, {\"mode\": \"lines\", \"y\": [0, 1.881324], \"x\": [0, -0.218378], \"line\": {\"color\": \"rgb(20, 0, 145)\", \"width\": 2}, \"z\": [0, 0.642598], \"type\": \"scatter3d\"}, {\"mode\": \"lines\", \"y\": [0, 1.88427], \"x\": [0, -0.216534], \"line\": {\"color\": \"rgb(20, 0, 145)\", \"width\": 2}, \"z\": [0, 0.634542], \"type\": \"scatter3d\"}, {\"mode\": \"lines\", \"y\": [0, 1.883794], \"x\": [0, -0.21736], \"line\": {\"color\": \"rgb(20, 0, 145)\", \"width\": 2}, \"z\": [0, 0.635668], \"type\": \"scatter3d\"}, {\"mode\": \"lines\", \"y\": [0, 1.88408], \"x\": [0, -0.217734], \"line\": {\"color\": \"rgb(20, 0, 145)\", \"width\": 2}, \"z\": [0, 0.634692], \"type\": \"scatter3d\"}, {\"mode\": \"lines\", \"y\": [0, 1.882846], \"x\": [0, -0.21959], \"line\": {\"color\": \"rgb(20, 0, 145)\", \"width\": 2}, \"z\": [0, 0.63771], \"type\": \"scatter3d\"}, {\"mode\": \"lines\", \"y\": [0, 1.882846], \"x\": [0, -0.21959], \"line\": {\"color\": \"rgb(20, 0, 145)\", \"width\": 2}, \"z\": [0, 0.63771], \"type\": \"scatter3d\"}, {\"mode\": \"lines\", \"y\": [0, 1.884448], \"x\": [0, -0.21515], \"line\": {\"color\": \"rgb(20, 0, 145)\", \"width\": 2}, \"z\": [0, 0.63448], \"type\": \"scatter3d\"}, {\"mode\": \"lines\", \"y\": [0, 1.883526], \"x\": [0, -0.217206], \"line\": {\"color\": \"rgb(20, 0, 145)\", \"width\": 2}, \"z\": [0, 0.636516], \"type\": \"scatter3d\"}, {\"mode\": \"lines\", \"y\": [0, 1.884742], \"x\": [0, -0.215998], \"line\": {\"color\": \"rgb(20, 0, 145)\", \"width\": 2}, \"z\": [0, 0.63332], \"type\": \"scatter3d\"}, {\"mode\": \"lines\", \"y\": [0, 1.884742], \"x\": [0, -0.215998], \"line\": {\"color\": \"rgb(20, 0, 145)\", \"width\": 2}, \"z\": [0, 0.63332], \"type\": \"scatter3d\"}, {\"mode\": \"lines\", \"y\": [0, 1.883794], \"x\": [0, -0.216814], \"line\": {\"color\": \"rgb(20, 0, 145)\", \"width\": 2}, \"z\": [0, 0.635856], \"type\": \"scatter3d\"}, {\"mode\": \"lines\", \"y\": [0, 1.883524], \"x\": [0, -0.217768], \"line\": {\"color\": \"rgb(20, 0, 145)\", \"width\": 2}, \"z\": [0, 0.63633], \"type\": \"scatter3d\"}, {\"mode\": \"lines\", \"y\": [0, 1.884286], \"x\": [0, -0.218678], \"line\": {\"color\": \"rgb(20, 0, 145)\", \"width\": 2}, \"z\": [0, 0.633758], \"type\": \"scatter3d\"}, {\"mode\": \"lines\", \"y\": [0, 1.884602], \"x\": [0, -0.217832], \"line\": {\"color\": \"rgb(20, 0, 145)\", \"width\": 2}, \"z\": [0, 0.633108], \"type\": \"scatter3d\"}, {\"mode\": \"lines\", \"y\": [0, 1.885208], \"x\": [0, -0.218036], \"line\": {\"color\": \"rgb(20, 0, 145)\", \"width\": 2}, \"z\": [0, 0.63123], \"type\": \"scatter3d\"}, {\"mode\": \"lines\", \"y\": [0, 1.885208], \"x\": [0, -0.218036], \"line\": {\"color\": \"rgb(20, 0, 145)\", \"width\": 2}, \"z\": [0, 0.63123], \"type\": \"scatter3d\"}, {\"mode\": \"lines\", \"y\": [0, 1.884152], \"x\": [0, -0.219924], \"line\": {\"color\": \"rgb(20, 0, 145)\", \"width\": 2}, \"z\": [0, 0.633726], \"type\": \"scatter3d\"}, {\"mode\": \"lines\", \"y\": [0, 1.88559], \"x\": [0, -0.21689], \"line\": {\"color\": \"rgb(20, 0, 145)\", \"width\": 2}, \"z\": [0, 0.630482], \"type\": \"scatter3d\"}, {\"mode\": \"lines\", \"y\": [0, 1.883844], \"x\": [0, -0.21991], \"line\": {\"color\": \"rgb(20, 0, 145)\", \"width\": 2}, \"z\": [0, 0.634646], \"type\": \"scatter3d\"}, {\"mode\": \"lines\", \"y\": [0, 1.88509], \"x\": [0, -0.214834], \"line\": {\"color\": \"rgb(20, 0, 145)\", \"width\": 2}, \"z\": [0, 0.63268], \"type\": \"scatter3d\"}, {\"mode\": \"lines\", \"y\": [0, 1.88509], \"x\": [0, -0.214834], \"line\": {\"color\": \"rgb(20, 0, 145)\", \"width\": 2}, \"z\": [0, 0.63268], \"type\": \"scatter3d\"}, {\"mode\": \"lines\", \"y\": [0, 1.885794], \"x\": [0, -0.217168], \"line\": {\"color\": \"rgb(20, 0, 145)\", \"width\": 2}, \"z\": [0, 0.629778], \"type\": \"scatter3d\"}, {\"mode\": \"lines\", \"y\": [0, 1.883208], \"x\": [0, -0.217806], \"line\": {\"color\": \"rgb(20, 0, 145)\", \"width\": 2}, \"z\": [0, 0.637252], \"type\": \"scatter3d\"}, {\"mode\": \"lines\", \"y\": [0, 1.881956], \"x\": [0, -0.212196], \"line\": {\"color\": \"rgb(20, 0, 145)\", \"width\": 2}, \"z\": [0, 0.642816], \"type\": \"scatter3d\"}, {\"mode\": \"lines\", \"y\": [0, 1.881364], \"x\": [0, -0.20928], \"line\": {\"color\": \"rgb(20, 0, 145)\", \"width\": 2}, \"z\": [0, 0.645504], \"type\": \"scatter3d\"}, {\"mode\": \"lines\", \"y\": [0, 1.88012], \"x\": [0, -0.211008], \"line\": {\"color\": \"rgb(20, 0, 145)\", \"width\": 2}, \"z\": [0, 0.648558], \"type\": \"scatter3d\"}, {\"mode\": \"lines\", \"y\": [0, 1.88012], \"x\": [0, -0.211008], \"line\": {\"color\": \"rgb(20, 0, 145)\", \"width\": 2}, \"z\": [0, 0.648558], \"type\": \"scatter3d\"}, {\"mode\": \"lines\", \"y\": [0, 1.878266], \"x\": [0, -0.217658], \"line\": {\"color\": \"rgb(20, 0, 145)\", \"width\": 2}, \"z\": [0, 0.65172], \"type\": \"scatter3d\"}, {\"mode\": \"lines\", \"y\": [0, 1.878102], \"x\": [0, -0.217094], \"line\": {\"color\": \"rgb(20, 0, 145)\", \"width\": 2}, \"z\": [0, 0.652382], \"type\": \"scatter3d\"}, {\"mode\": \"lines\", \"y\": [0, 1.878662], \"x\": [0, -0.218618], \"line\": {\"color\": \"rgb(20, 0, 145)\", \"width\": 2}, \"z\": [0, 0.65026], \"type\": \"scatter3d\"}, {\"mode\": \"lines\", \"y\": [0, 1.879118], \"x\": [0, -0.215526], \"line\": {\"color\": \"rgb(20, 0, 145)\", \"width\": 2}, \"z\": [0, 0.649974], \"type\": \"scatter3d\"}, {\"mode\": \"lines\", \"y\": [0, 1.8825], \"x\": [0, -0.2093], \"line\": {\"color\": \"rgb(20, 0, 145)\", \"width\": 2}, \"z\": [0, 0.642172], \"type\": \"scatter3d\"}, {\"mode\": \"lines\", \"y\": [0, 1.884356], \"x\": [0, -0.20731], \"line\": {\"color\": \"rgb(20, 0, 145)\", \"width\": 2}, \"z\": [0, 0.637358], \"type\": \"scatter3d\"}, {\"mode\": \"lines\", \"y\": [0, 1.888012], \"x\": [0, -0.0275842], \"line\": {\"color\": \"rgb(20, 0, 145)\", \"width\": 2}, \"z\": [0, 0.659282], \"type\": \"scatter3d\"}, {\"mode\": \"lines\", \"y\": [0, 1.888734], \"x\": [0, -0.031196], \"line\": {\"color\": \"rgb(20, 0, 145)\", \"width\": 2}, \"z\": [0, 0.657046], \"type\": \"scatter3d\"}, {\"mode\": \"lines\", \"y\": [0, 1.887538], \"x\": [0, -0.027978], \"line\": {\"color\": \"rgb(20, 0, 145)\", \"width\": 2}, \"z\": [0, 0.660618], \"type\": \"scatter3d\"}, {\"mode\": \"lines\", \"y\": [0, 1.887538], \"x\": [0, -0.027978], \"line\": {\"color\": \"rgb(20, 0, 145)\", \"width\": 2}, \"z\": [0, 0.660618], \"type\": \"scatter3d\"}, {\"mode\": \"lines\", \"y\": [0, 1.888736], \"x\": [0, -0.0311938], \"line\": {\"color\": \"rgb(20, 0, 145)\", \"width\": 2}, \"z\": [0, 0.65704], \"type\": \"scatter3d\"}, {\"mode\": \"lines\", \"y\": [0, 1.88893], \"x\": [0, -0.028224], \"line\": {\"color\": \"rgb(20, 0, 145)\", \"width\": 2}, \"z\": [0, 0.656618], \"type\": \"scatter3d\"}, {\"mode\": \"lines\", \"y\": [0, 1.889326], \"x\": [0, -0.0318616], \"line\": {\"color\": \"rgb(20, 0, 145)\", \"width\": 2}, \"z\": [0, 0.655308], \"type\": \"scatter3d\"}, {\"mode\": \"lines\", \"y\": [0, 1.889892], \"x\": [0, -0.0292886], \"line\": {\"color\": \"rgb(20, 0, 145)\", \"width\": 2}, \"z\": [0, 0.653798], \"type\": \"scatter3d\"}, {\"mode\": \"lines\", \"y\": [0, 1.889892], \"x\": [0, -0.0292886], \"line\": {\"color\": \"rgb(20, 0, 145)\", \"width\": 2}, \"z\": [0, 0.653798], \"type\": \"scatter3d\"}, {\"mode\": \"lines\", \"y\": [0, 1.889804], \"x\": [0, -0.030904], \"line\": {\"color\": \"rgb(20, 0, 145)\", \"width\": 2}, \"z\": [0, 0.653976], \"type\": \"scatter3d\"}, {\"mode\": \"lines\", \"y\": [0, 1.890356], \"x\": [0, -0.029631], \"line\": {\"color\": \"rgb(20, 0, 145)\", \"width\": 2}, \"z\": [0, 0.65244], \"type\": \"scatter3d\"}, {\"mode\": \"lines\", \"y\": [0, 1.890746], \"x\": [0, -0.0305558], \"line\": {\"color\": \"rgb(20, 0, 145)\", \"width\": 2}, \"z\": [0, 0.651268], \"type\": \"scatter3d\"}, {\"mode\": \"lines\", \"y\": [0, 1.891976], \"x\": [0, -0.0281102], \"line\": {\"color\": \"rgb(20, 0, 145)\", \"width\": 2}, \"z\": [0, 0.647796], \"type\": \"scatter3d\"}, {\"mode\": \"lines\", \"y\": [0, 1.891976], \"x\": [0, -0.0281102], \"line\": {\"color\": \"rgb(20, 0, 145)\", \"width\": 2}, \"z\": [0, 0.647796], \"type\": \"scatter3d\"}, {\"mode\": \"lines\", \"y\": [0, 1.892884], \"x\": [0, -0.025504], \"line\": {\"color\": \"rgb(20, 0, 145)\", \"width\": 2}, \"z\": [0, 0.645244], \"type\": \"scatter3d\"}, {\"mode\": \"lines\", \"y\": [0, 1.892656], \"x\": [0, -0.0279886], \"line\": {\"color\": \"rgb(20, 0, 145)\", \"width\": 2}, \"z\": [0, 0.645812], \"type\": \"scatter3d\"}, {\"mode\": \"lines\", \"y\": [0, 1.8931], \"x\": [0, -0.0284958], \"line\": {\"color\": \"rgb(20, 0, 145)\", \"width\": 2}, \"z\": [0, 0.644482], \"type\": \"scatter3d\"}, {\"mode\": \"lines\", \"y\": [0, 1.8931], \"x\": [0, -0.0284958], \"line\": {\"color\": \"rgb(20, 0, 145)\", \"width\": 2}, \"z\": [0, 0.644482], \"type\": \"scatter3d\"}, {\"mode\": \"lines\", \"y\": [0, 1.894192], \"x\": [0, -0.0303686], \"line\": {\"color\": \"rgb(20, 0, 145)\", \"width\": 2}, \"z\": [0, 0.64118], \"type\": \"scatter3d\"}, {\"mode\": \"lines\", \"y\": [0, 1.893606], \"x\": [0, -0.0259756], \"line\": {\"color\": \"rgb(20, 0, 145)\", \"width\": 2}, \"z\": [0, 0.643104], \"type\": \"scatter3d\"}, {\"mode\": \"lines\", \"y\": [0, 1.893784], \"x\": [0, -0.0317866], \"line\": {\"color\": \"rgb(20, 0, 145)\", \"width\": 2}, \"z\": [0, 0.642318], \"type\": \"scatter3d\"}, {\"mode\": \"lines\", \"y\": [0, 1.893628], \"x\": [0, -0.0285552], \"line\": {\"color\": \"rgb(20, 0, 145)\", \"width\": 2}, \"z\": [0, 0.64293], \"type\": \"scatter3d\"}, {\"mode\": \"lines\", \"y\": [0, 1.891488], \"x\": [0, -0.0320712], \"line\": {\"color\": \"rgb(20, 0, 145)\", \"width\": 2}, \"z\": [0, 0.649034], \"type\": \"scatter3d\"}, {\"mode\": \"lines\", \"y\": [0, 1.891488], \"x\": [0, -0.0320712], \"line\": {\"color\": \"rgb(20, 0, 145)\", \"width\": 2}, \"z\": [0, 0.649034], \"type\": \"scatter3d\"}, {\"mode\": \"lines\", \"y\": [0, 1.891656], \"x\": [0, -0.0295862], \"line\": {\"color\": \"rgb(20, 0, 145)\", \"width\": 2}, \"z\": [0, 0.648662], \"type\": \"scatter3d\"}, {\"mode\": \"lines\", \"y\": [0, 1.892606], \"x\": [0, -0.0306554], \"line\": {\"color\": \"rgb(20, 0, 145)\", \"width\": 2}, \"z\": [0, 0.645832], \"type\": \"scatter3d\"}, {\"mode\": \"lines\", \"y\": [0, 1.891344], \"x\": [0, -0.0296678], \"line\": {\"color\": \"rgb(20, 0, 145)\", \"width\": 2}, \"z\": [0, 0.649564], \"type\": \"scatter3d\"}, {\"mode\": \"lines\", \"y\": [0, 1.89287], \"x\": [0, -0.0278684], \"line\": {\"color\": \"rgb(20, 0, 145)\", \"width\": 2}, \"z\": [0, 0.645186], \"type\": \"scatter3d\"}, {\"mode\": \"lines\", \"y\": [0, 1.89287], \"x\": [0, -0.0278684], \"line\": {\"color\": \"rgb(20, 0, 145)\", \"width\": 2}, \"z\": [0, 0.645186], \"type\": \"scatter3d\"}, {\"mode\": \"lines\", \"y\": [0, 1.891658], \"x\": [0, -0.0302714], \"line\": {\"color\": \"rgb(20, 0, 145)\", \"width\": 2}, \"z\": [0, 0.648626], \"type\": \"scatter3d\"}, {\"mode\": \"lines\", \"y\": [0, 1.890948], \"x\": [0, -0.03099], \"line\": {\"color\": \"rgb(20, 0, 145)\", \"width\": 2}, \"z\": [0, 0.650658], \"type\": \"scatter3d\"}, {\"mode\": \"lines\", \"y\": [0, 1.891698], \"x\": [0, -0.032236], \"line\": {\"color\": \"rgb(20, 0, 145)\", \"width\": 2}, \"z\": [0, 0.648414], \"type\": \"scatter3d\"}, {\"mode\": \"lines\", \"y\": [0, 1.891698], \"x\": [0, -0.032236], \"line\": {\"color\": \"rgb(20, 0, 145)\", \"width\": 2}, \"z\": [0, 0.648414], \"type\": \"scatter3d\"}, {\"mode\": \"lines\", \"y\": [0, 1.891266], \"x\": [0, -0.0292842], \"line\": {\"color\": \"rgb(20, 0, 145)\", \"width\": 2}, \"z\": [0, 0.649812], \"type\": \"scatter3d\"}, {\"mode\": \"lines\", \"y\": [0, 1.892976], \"x\": [0, -0.029078], \"line\": {\"color\": \"rgb(20, 0, 145)\", \"width\": 2}, \"z\": [0, 0.644824], \"type\": \"scatter3d\"}, {\"mode\": \"lines\", \"y\": [0, 1.891446], \"x\": [0, -0.02892], \"line\": {\"color\": \"rgb(20, 0, 145)\", \"width\": 2}, \"z\": [0, 0.649306], \"type\": \"scatter3d\"}, {\"mode\": \"lines\", \"y\": [0, 1.891788], \"x\": [0, -0.0302572], \"line\": {\"color\": \"rgb(20, 0, 145)\", \"width\": 2}, \"z\": [0, 0.648248], \"type\": \"scatter3d\"}, {\"mode\": \"lines\", \"y\": [0, 1.89205], \"x\": [0, -0.0285502], \"line\": {\"color\": \"rgb(20, 0, 145)\", \"width\": 2}, \"z\": [0, 0.64756], \"type\": \"scatter3d\"}, {\"mode\": \"lines\", \"y\": [0, 1.89205], \"x\": [0, -0.0285502], \"line\": {\"color\": \"rgb(20, 0, 145)\", \"width\": 2}, \"z\": [0, 0.64756], \"type\": \"scatter3d\"}, {\"mode\": \"lines\", \"y\": [0, 1.892114], \"x\": [0, -0.0310472], \"line\": {\"color\": \"rgb(20, 0, 145)\", \"width\": 2}, \"z\": [0, 0.647258], \"type\": \"scatter3d\"}, {\"mode\": \"lines\", \"y\": [0, 1.89491], \"x\": [0, -0.0273702], \"line\": {\"color\": \"rgb(20, 0, 145)\", \"width\": 2}, \"z\": [0, 0.63919], \"type\": \"scatter3d\"}, {\"mode\": \"lines\", \"y\": [0, 1.900584], \"x\": [0, -0.023204], \"line\": {\"color\": \"rgb(20, 0, 145)\", \"width\": 2}, \"z\": [0, 0.622288], \"type\": \"scatter3d\"}, {\"mode\": \"lines\", \"y\": [0, 1.90769], \"x\": [0, 0.001197766], \"line\": {\"color\": \"rgb(20, 0, 145)\", \"width\": 2}, \"z\": [0, 0.600598], \"type\": \"scatter3d\"}, {\"mode\": \"lines\", \"y\": [0, 1.90769], \"x\": [0, 0.001197766], \"line\": {\"color\": \"rgb(20, 0, 145)\", \"width\": 2}, \"z\": [0, 0.600598], \"type\": \"scatter3d\"}, {\"mode\": \"lines\", \"y\": [0, 1.904016], \"x\": [0, 0.0246534], \"line\": {\"color\": \"rgb(20, 0, 145)\", \"width\": 2}, \"z\": [0, 0.611652], \"type\": \"scatter3d\"}, {\"mode\": \"lines\", \"y\": [0, 1.896512], \"x\": [0, 0.0344024], \"line\": {\"color\": \"rgb(20, 0, 145)\", \"width\": 2}, \"z\": [0, 0.634082], \"type\": \"scatter3d\"}, {\"mode\": \"lines\", \"y\": [0, 1.894384], \"x\": [0, 0.0387388], \"line\": {\"color\": \"rgb(20, 0, 145)\", \"width\": 2}, \"z\": [0, 0.64016], \"type\": \"scatter3d\"}, {\"mode\": \"lines\", \"y\": [0, 1.887326], \"x\": [0, 0.0268282], \"line\": {\"color\": \"rgb(20, 0, 145)\", \"width\": 2}, \"z\": [0, 0.661274], \"type\": \"scatter3d\"}, {\"mode\": \"lines\", \"y\": [0, 1.887326], \"x\": [0, 0.0268282], \"line\": {\"color\": \"rgb(20, 0, 145)\", \"width\": 2}, \"z\": [0, 0.661274], \"type\": \"scatter3d\"}, {\"mode\": \"lines\", \"y\": [0, 1.890352], \"x\": [0, 0.01626382], \"line\": {\"color\": \"rgb(20, 0, 145)\", \"width\": 2}, \"z\": [0, 0.65292], \"type\": \"scatter3d\"}, {\"mode\": \"lines\", \"y\": [0, 1.89085], \"x\": [0, 0.00811786], \"line\": {\"color\": \"rgb(20, 0, 145)\", \"width\": 2}, \"z\": [0, 0.65163], \"type\": \"scatter3d\"}, {\"mode\": \"lines\", \"y\": [0, 1.89243], \"x\": [0, 0.000507692], \"line\": {\"color\": \"rgb(20, 0, 145)\", \"width\": 2}, \"z\": [0, 0.647074], \"type\": \"scatter3d\"}, {\"mode\": \"lines\", \"y\": [0, 1.894498], \"x\": [0, -0.0026875], \"line\": {\"color\": \"rgb(20, 0, 145)\", \"width\": 2}, \"z\": [0, 0.64099], \"type\": \"scatter3d\"}, {\"mode\": \"lines\", \"y\": [0, 1.894498], \"x\": [0, -0.0026875], \"line\": {\"color\": \"rgb(20, 0, 145)\", \"width\": 2}, \"z\": [0, 0.64099], \"type\": \"scatter3d\"}, {\"mode\": \"lines\", \"y\": [0, 1.894944], \"x\": [0, 0.00240614], \"line\": {\"color\": \"rgb(20, 0, 145)\", \"width\": 2}, \"z\": [0, 0.639676], \"type\": \"scatter3d\"}, {\"mode\": \"lines\", \"y\": [0, 1.894284], \"x\": [0, -0.000938938], \"line\": {\"color\": \"rgb(20, 0, 145)\", \"width\": 2}, \"z\": [0, 0.641626], \"type\": \"scatter3d\"}, {\"mode\": \"lines\", \"y\": [0, 1.895632], \"x\": [0, 0.00232406], \"line\": {\"color\": \"rgb(20, 0, 145)\", \"width\": 2}, \"z\": [0, 0.637634], \"type\": \"scatter3d\"}, {\"mode\": \"lines\", \"y\": [0, 1.896892], \"x\": [0, -0.0023555], \"line\": {\"color\": \"rgb(20, 0, 145)\", \"width\": 2}, \"z\": [0, 0.633876], \"type\": \"scatter3d\"}, {\"mode\": \"lines\", \"y\": [0, 1.89521], \"x\": [0, -0.00026757], \"line\": {\"color\": \"rgb(20, 0, 145)\", \"width\": 2}, \"z\": [0, 0.63889], \"type\": \"scatter3d\"}, {\"mode\": \"lines\", \"y\": [0, 1.89521], \"x\": [0, -0.00026757], \"line\": {\"color\": \"rgb(20, 0, 145)\", \"width\": 2}, \"z\": [0, 0.63889], \"type\": \"scatter3d\"}, {\"mode\": \"lines\", \"y\": [0, 1.895842], \"x\": [0, 0.0001136336], \"line\": {\"color\": \"rgb(20, 0, 145)\", \"width\": 2}, \"z\": [0, 0.637014], \"type\": \"scatter3d\"}, {\"mode\": \"lines\", \"y\": [0, 1.89596], \"x\": [0, -0.00280624], \"line\": {\"color\": \"rgb(20, 0, 145)\", \"width\": 2}, \"z\": [0, 0.636652], \"type\": \"scatter3d\"}, {\"mode\": \"lines\", \"y\": [0, 1.89596], \"x\": [0, -0.00280624], \"line\": {\"color\": \"rgb(20, 0, 145)\", \"width\": 2}, \"z\": [0, 0.636652], \"type\": \"scatter3d\"}, {\"mode\": \"lines\", \"y\": [0, 1.893772], \"x\": [0, -0.001753024], \"line\": {\"color\": \"rgb(20, 0, 145)\", \"width\": 2}, \"z\": [0, 0.643136], \"type\": \"scatter3d\"}, {\"mode\": \"lines\", \"y\": [0, 1.893246], \"x\": [0, -0.001332424], \"line\": {\"color\": \"rgb(20, 0, 145)\", \"width\": 2}, \"z\": [0, 0.644684], \"type\": \"scatter3d\"}, {\"mode\": \"lines\", \"y\": [0, 1.892356], \"x\": [0, -0.00388438], \"line\": {\"color\": \"rgb(20, 0, 145)\", \"width\": 2}, \"z\": [0, 0.647284], \"type\": \"scatter3d\"}, {\"mode\": \"lines\", \"y\": [0, 1.891568], \"x\": [0, -0.00244086], \"line\": {\"color\": \"rgb(20, 0, 145)\", \"width\": 2}, \"z\": [0, 0.649588], \"type\": \"scatter3d\"}, {\"mode\": \"lines\", \"y\": [0, 1.891354], \"x\": [0, -0.00313818], \"line\": {\"color\": \"rgb(20, 0, 145)\", \"width\": 2}, \"z\": [0, 0.65021], \"type\": \"scatter3d\"}, {\"mode\": \"lines\", \"y\": [0, 1.891354], \"x\": [0, -0.00313818], \"line\": {\"color\": \"rgb(20, 0, 145)\", \"width\": 2}, \"z\": [0, 0.65021], \"type\": \"scatter3d\"}, {\"mode\": \"lines\", \"y\": [0, 1.890686], \"x\": [0, -0.00223098], \"line\": {\"color\": \"rgb(20, 0, 145)\", \"width\": 2}, \"z\": [0, 0.652152], \"type\": \"scatter3d\"}, {\"mode\": \"lines\", \"y\": [0, 1.891384], \"x\": [0, -0.000333238], \"line\": {\"color\": \"rgb(20, 0, 145)\", \"width\": 2}, \"z\": [0, 0.65013], \"type\": \"scatter3d\"}, {\"mode\": \"lines\", \"y\": [0, 1.891384], \"x\": [0, -0.001461194], \"line\": {\"color\": \"rgb(20, 0, 145)\", \"width\": 2}, \"z\": [0, 0.650126], \"type\": \"scatter3d\"}, {\"mode\": \"lines\", \"y\": [0, 1.89117], \"x\": [0, -0.0029896], \"line\": {\"color\": \"rgb(20, 0, 145)\", \"width\": 2}, \"z\": [0, 0.650744], \"type\": \"scatter3d\"}, {\"mode\": \"lines\", \"y\": [0, 1.889288], \"x\": [0, -0.00499368], \"line\": {\"color\": \"rgb(20, 0, 145)\", \"width\": 2}, \"z\": [0, 0.656178], \"type\": \"scatter3d\"}, {\"mode\": \"lines\", \"y\": [0, 1.889288], \"x\": [0, -0.00499368], \"line\": {\"color\": \"rgb(20, 0, 145)\", \"width\": 2}, \"z\": [0, 0.656178], \"type\": \"scatter3d\"}, {\"mode\": \"lines\", \"y\": [0, 1.89115], \"x\": [0, -0.00339532], \"line\": {\"color\": \"rgb(20, 0, 145)\", \"width\": 2}, \"z\": [0, 0.6508], \"type\": \"scatter3d\"}, {\"mode\": \"lines\", \"y\": [0, 1.890562], \"x\": [0, -0.00321652], \"line\": {\"color\": \"rgb(20, 0, 145)\", \"width\": 2}, \"z\": [0, 0.652508], \"type\": \"scatter3d\"}, {\"mode\": \"lines\", \"y\": [0, 1.890046], \"x\": [0, -0.00447062], \"line\": {\"color\": \"rgb(20, 0, 145)\", \"width\": 2}, \"z\": [0, 0.653994], \"type\": \"scatter3d\"}, {\"mode\": \"lines\", \"y\": [0, 1.890046], \"x\": [0, -0.00447062], \"line\": {\"color\": \"rgb(20, 0, 145)\", \"width\": 2}, \"z\": [0, 0.653994], \"type\": \"scatter3d\"}, {\"mode\": \"lines\", \"y\": [0, 1.889748], \"x\": [0, -0.00812364], \"line\": {\"color\": \"rgb(20, 0, 145)\", \"width\": 2}, \"z\": [0, 0.654816], \"type\": \"scatter3d\"}, {\"mode\": \"lines\", \"y\": [0, 1.890668], \"x\": [0, -0.00691842], \"line\": {\"color\": \"rgb(20, 0, 145)\", \"width\": 2}, \"z\": [0, 0.65217], \"type\": \"scatter3d\"}, {\"mode\": \"lines\", \"y\": [0, 1.889242], \"x\": [0, -0.00591838], \"line\": {\"color\": \"rgb(20, 0, 145)\", \"width\": 2}, \"z\": [0, 0.656302], \"type\": \"scatter3d\"}, {\"mode\": \"lines\", \"y\": [0, 1.890004], \"x\": [0, -0.0067534], \"line\": {\"color\": \"rgb(20, 0, 145)\", \"width\": 2}, \"z\": [0, 0.654096], \"type\": \"scatter3d\"}, {\"mode\": \"lines\", \"y\": [0, 1.890004], \"x\": [0, -0.0067534], \"line\": {\"color\": \"rgb(20, 0, 145)\", \"width\": 2}, \"z\": [0, 0.654096], \"type\": \"scatter3d\"}, {\"mode\": \"lines\", \"y\": [0, 1.89142], \"x\": [0, -0.00927956], \"line\": {\"color\": \"rgb(20, 0, 145)\", \"width\": 2}, \"z\": [0, 0.649954], \"type\": \"scatter3d\"}, {\"mode\": \"lines\", \"y\": [0, 1.890574], \"x\": [0, -0.00722574], \"line\": {\"color\": \"rgb(20, 0, 145)\", \"width\": 2}, \"z\": [0, 0.652442], \"type\": \"scatter3d\"}, {\"mode\": \"lines\", \"y\": [0, 1.890328], \"x\": [0, -0.010015], \"line\": {\"color\": \"rgb(20, 0, 145)\", \"width\": 2}, \"z\": [0, 0.653118], \"type\": \"scatter3d\"}, {\"mode\": \"lines\", \"y\": [0, 1.891216], \"x\": [0, -0.0094743], \"line\": {\"color\": \"rgb(20, 0, 145)\", \"width\": 2}, \"z\": [0, 0.650544], \"type\": \"scatter3d\"}, {\"mode\": \"lines\", \"y\": [0, 1.891216], \"x\": [0, -0.0094743], \"line\": {\"color\": \"rgb(20, 0, 145)\", \"width\": 2}, \"z\": [0, 0.650544], \"type\": \"scatter3d\"}, {\"mode\": \"lines\", \"y\": [0, 1.891662], \"x\": [0, -0.00737596], \"line\": {\"color\": \"rgb(20, 0, 145)\", \"width\": 2}, \"z\": [0, 0.64928], \"type\": \"scatter3d\"}, {\"mode\": \"lines\", \"y\": [0, 1.892544], \"x\": [0, -0.00965694], \"line\": {\"color\": \"rgb(20, 0, 145)\", \"width\": 2}, \"z\": [0, 0.64667], \"type\": \"scatter3d\"}, {\"mode\": \"lines\", \"y\": [0, 1.89171], \"x\": [0, -0.01071622], \"line\": {\"color\": \"rgb(20, 0, 145)\", \"width\": 2}, \"z\": [0, 0.64909], \"type\": \"scatter3d\"}, {\"mode\": \"lines\", \"y\": [0, 1.892778], \"x\": [0, -0.01044702], \"line\": {\"color\": \"rgb(20, 0, 145)\", \"width\": 2}, \"z\": [0, 0.645976], \"type\": \"scatter3d\"}, {\"mode\": \"lines\", \"y\": [0, 1.892778], \"x\": [0, -0.01044702], \"line\": {\"color\": \"rgb(20, 0, 145)\", \"width\": 2}, \"z\": [0, 0.645976], \"type\": \"scatter3d\"}, {\"mode\": \"lines\", \"y\": [0, 1.891318], \"x\": [0, -0.00843292], \"line\": {\"color\": \"rgb(20, 0, 145)\", \"width\": 2}, \"z\": [0, 0.650264], \"type\": \"scatter3d\"}, {\"mode\": \"lines\", \"y\": [0, 1.892824], \"x\": [0, -0.00918532], \"line\": {\"color\": \"rgb(20, 0, 145)\", \"width\": 2}, \"z\": [0, 0.645858], \"type\": \"scatter3d\"}, {\"mode\": \"lines\", \"y\": [0, 1.892066], \"x\": [0, -0.00769004], \"line\": {\"color\": \"rgb(20, 0, 145)\", \"width\": 2}, \"z\": [0, 0.648092], \"type\": \"scatter3d\"}, {\"mode\": \"lines\", \"y\": [0, 1.891576], \"x\": [0, -0.01487422], \"line\": {\"color\": \"rgb(20, 0, 145)\", \"width\": 2}, \"z\": [0, 0.649402], \"type\": \"scatter3d\"}, {\"mode\": \"lines\", \"y\": [0, 1.893428], \"x\": [0, -0.0115748], \"line\": {\"color\": \"rgb(20, 0, 145)\", \"width\": 2}, \"z\": [0, 0.644046], \"type\": \"scatter3d\"}, {\"mode\": \"lines\", \"y\": [0, 1.893428], \"x\": [0, -0.0115748], \"line\": {\"color\": \"rgb(20, 0, 145)\", \"width\": 2}, \"z\": [0, 0.644046], \"type\": \"scatter3d\"}, {\"mode\": \"lines\", \"y\": [0, 1.886714], \"x\": [0, 0.275772], \"line\": {\"color\": \"rgb(20, 0, 145)\", \"width\": 2}, \"z\": [0, 0.603542], \"type\": \"scatter3d\"}, {\"mode\": \"lines\", \"y\": [0, 1.886842], \"x\": [0, 0.276378], \"line\": {\"color\": \"rgb(20, 0, 145)\", \"width\": 2}, \"z\": [0, 0.602862], \"type\": \"scatter3d\"}, {\"mode\": \"lines\", \"y\": [0, 1.886382], \"x\": [0, 0.276374], \"line\": {\"color\": \"rgb(20, 0, 145)\", \"width\": 2}, \"z\": [0, 0.604302], \"type\": \"scatter3d\"}, {\"mode\": \"lines\", \"y\": [0, 1.887598], \"x\": [0, 0.276166], \"line\": {\"color\": \"rgb(20, 0, 145)\", \"width\": 2}, \"z\": [0, 0.60059], \"type\": \"scatter3d\"}, {\"mode\": \"lines\", \"y\": [0, 1.887598], \"x\": [0, 0.276166], \"line\": {\"color\": \"rgb(20, 0, 145)\", \"width\": 2}, \"z\": [0, 0.60059], \"type\": \"scatter3d\"}, {\"mode\": \"lines\", \"y\": [0, 1.886936], \"x\": [0, 0.272318], \"line\": {\"color\": \"rgb(20, 0, 145)\", \"width\": 2}, \"z\": [0, 0.60441], \"type\": \"scatter3d\"}, {\"mode\": \"lines\", \"y\": [0, 1.885608], \"x\": [0, 0.27537], \"line\": {\"color\": \"rgb(20, 0, 145)\", \"width\": 2}, \"z\": [0, 0.607168], \"type\": \"scatter3d\"}, {\"mode\": \"lines\", \"y\": [0, 1.887072], \"x\": [0, 0.276134], \"line\": {\"color\": \"rgb(20, 0, 145)\", \"width\": 2}, \"z\": [0, 0.602252], \"type\": \"scatter3d\"}, {\"mode\": \"lines\", \"y\": [0, 1.88727], \"x\": [0, 0.27357], \"line\": {\"color\": \"rgb(20, 0, 145)\", \"width\": 2}, \"z\": [0, 0.602802], \"type\": \"scatter3d\"}, {\"mode\": \"lines\", \"y\": [0, 1.88727], \"x\": [0, 0.27357], \"line\": {\"color\": \"rgb(20, 0, 145)\", \"width\": 2}, \"z\": [0, 0.602802], \"type\": \"scatter3d\"}, {\"mode\": \"lines\", \"y\": [0, 1.887256], \"x\": [0, 0.27633], \"line\": {\"color\": \"rgb(20, 0, 145)\", \"width\": 2}, \"z\": [0, 0.60159], \"type\": \"scatter3d\"}, {\"mode\": \"lines\", \"y\": [0, 1.886632], \"x\": [0, 0.271294], \"line\": {\"color\": \"rgb(20, 0, 145)\", \"width\": 2}, \"z\": [0, 0.605822], \"type\": \"scatter3d\"}, {\"mode\": \"lines\", \"y\": [0, 1.887774], \"x\": [0, 0.273028], \"line\": {\"color\": \"rgb(20, 0, 145)\", \"width\": 2}, \"z\": [0, 0.601472], \"type\": \"scatter3d\"}, {\"mode\": \"lines\", \"y\": [0, 1.887774], \"x\": [0, 0.273028], \"line\": {\"color\": \"rgb(20, 0, 145)\", \"width\": 2}, \"z\": [0, 0.601472], \"type\": \"scatter3d\"}, {\"mode\": \"lines\", \"y\": [0, 1.886902], \"x\": [0, 0.27528], \"line\": {\"color\": \"rgb(20, 0, 145)\", \"width\": 2}, \"z\": [0, 0.603178], \"type\": \"scatter3d\"}, {\"mode\": \"lines\", \"y\": [0, 1.887222], \"x\": [0, 0.274612], \"line\": {\"color\": \"rgb(20, 0, 145)\", \"width\": 2}, \"z\": [0, 0.602476], \"type\": \"scatter3d\"}, {\"mode\": \"lines\", \"y\": [0, 1.887424], \"x\": [0, 0.273838], \"line\": {\"color\": \"rgb(20, 0, 145)\", \"width\": 2}, \"z\": [0, 0.602202], \"type\": \"scatter3d\"}, {\"mode\": \"lines\", \"y\": [0, 1.887606], \"x\": [0, 0.27306], \"line\": {\"color\": \"rgb(20, 0, 145)\", \"width\": 2}, \"z\": [0, 0.60198], \"type\": \"scatter3d\"}, {\"mode\": \"lines\", \"y\": [0, 1.887744], \"x\": [0, 0.273786], \"line\": {\"color\": \"rgb(20, 0, 145)\", \"width\": 2}, \"z\": [0, 0.601216], \"type\": \"scatter3d\"}, {\"mode\": \"lines\", \"y\": [0, 1.887744], \"x\": [0, 0.273786], \"line\": {\"color\": \"rgb(20, 0, 145)\", \"width\": 2}, \"z\": [0, 0.601216], \"type\": \"scatter3d\"}, {\"mode\": \"lines\", \"y\": [0, 1.888946], \"x\": [0, 0.271696], \"line\": {\"color\": \"rgb(20, 0, 145)\", \"width\": 2}, \"z\": [0, 0.598386], \"type\": \"scatter3d\"}, {\"mode\": \"lines\", \"y\": [0, 1.887502], \"x\": [0, 0.274898], \"line\": {\"color\": \"rgb(20, 0, 145)\", \"width\": 2}, \"z\": [0, 0.601474], \"type\": \"scatter3d\"}, {\"mode\": \"lines\", \"y\": [0, 1.888094], \"x\": [0, 0.271998], \"line\": {\"color\": \"rgb(20, 0, 145)\", \"width\": 2}, \"z\": [0, 0.600932], \"type\": \"scatter3d\"}, {\"mode\": \"lines\", \"y\": [0, 1.888094], \"x\": [0, 0.271998], \"line\": {\"color\": \"rgb(20, 0, 145)\", \"width\": 2}, \"z\": [0, 0.600932], \"type\": \"scatter3d\"}, {\"mode\": \"lines\", \"y\": [0, 1.888156], \"x\": [0, 0.27365], \"line\": {\"color\": \"rgb(20, 0, 145)\", \"width\": 2}, \"z\": [0, 0.599982], \"type\": \"scatter3d\"}, {\"mode\": \"lines\", \"y\": [0, 1.88809], \"x\": [0, 0.276008], \"line\": {\"color\": \"rgb(20, 0, 145)\", \"width\": 2}, \"z\": [0, 0.59911], \"type\": \"scatter3d\"}, {\"mode\": \"lines\", \"y\": [0, 1.888224], \"x\": [0, 0.273884], \"line\": {\"color\": \"rgb(20, 0, 145)\", \"width\": 2}, \"z\": [0, 0.599668], \"type\": \"scatter3d\"}, {\"mode\": \"lines\", \"y\": [0, 1.889626], \"x\": [0, 0.268864], \"line\": {\"color\": \"rgb(20, 0, 145)\", \"width\": 2}, \"z\": [0, 0.597516], \"type\": \"scatter3d\"}, {\"mode\": \"lines\", \"y\": [0, 1.888782], \"x\": [0, 0.271752], \"line\": {\"color\": \"rgb(20, 0, 145)\", \"width\": 2}, \"z\": [0, 0.598876], \"type\": \"scatter3d\"}, {\"mode\": \"lines\", \"y\": [0, 1.888782], \"x\": [0, 0.271752], \"line\": {\"color\": \"rgb(20, 0, 145)\", \"width\": 2}, \"z\": [0, 0.598876], \"type\": \"scatter3d\"}, {\"mode\": \"lines\", \"y\": [0, 1.889274], \"x\": [0, 0.27013], \"line\": {\"color\": \"rgb(20, 0, 145)\", \"width\": 2}, \"z\": [0, 0.598058], \"type\": \"scatter3d\"}, {\"mode\": \"lines\", \"y\": [0, 1.88977], \"x\": [0, 0.26979], \"line\": {\"color\": \"rgb(20, 0, 145)\", \"width\": 2}, \"z\": [0, 0.596642], \"type\": \"scatter3d\"}, {\"mode\": \"lines\", \"y\": [0, 1.890104], \"x\": [0, 0.265828], \"line\": {\"color\": \"rgb(20, 0, 145)\", \"width\": 2}, \"z\": [0, 0.59736], \"type\": \"scatter3d\"}, {\"mode\": \"lines\", \"y\": [0, 1.890274], \"x\": [0, 0.269144], \"line\": {\"color\": \"rgb(20, 0, 145)\", \"width\": 2}, \"z\": [0, 0.595336], \"type\": \"scatter3d\"}, {\"mode\": \"lines\", \"y\": [0, 1.890274], \"x\": [0, 0.269144], \"line\": {\"color\": \"rgb(20, 0, 145)\", \"width\": 2}, \"z\": [0, 0.595336], \"type\": \"scatter3d\"}, {\"mode\": \"lines\", \"y\": [0, 1.89031], \"x\": [0, 0.266572], \"line\": {\"color\": \"rgb(20, 0, 145)\", \"width\": 2}, \"z\": [0, 0.596378], \"type\": \"scatter3d\"}, {\"mode\": \"lines\", \"y\": [0, 1.891054], \"x\": [0, 0.265642], \"line\": {\"color\": \"rgb(20, 0, 145)\", \"width\": 2}, \"z\": [0, 0.594432], \"type\": \"scatter3d\"}, {\"mode\": \"lines\", \"y\": [0, 1.890758], \"x\": [0, 0.266866], \"line\": {\"color\": \"rgb(20, 0, 145)\", \"width\": 2}, \"z\": [0, 0.594824], \"type\": \"scatter3d\"}, {\"mode\": \"lines\", \"y\": [0, 1.89033], \"x\": [0, 0.269438], \"line\": {\"color\": \"rgb(20, 0, 145)\", \"width\": 2}, \"z\": [0, 0.595026], \"type\": \"scatter3d\"}, {\"mode\": \"lines\", \"y\": [0, 1.89033], \"x\": [0, 0.269438], \"line\": {\"color\": \"rgb(20, 0, 145)\", \"width\": 2}, \"z\": [0, 0.595026], \"type\": \"scatter3d\"}, {\"mode\": \"lines\", \"y\": [0, 1.889086], \"x\": [0, 0.268076], \"line\": {\"color\": \"rgb(20, 0, 145)\", \"width\": 2}, \"z\": [0, 0.599578], \"type\": \"scatter3d\"}, {\"mode\": \"lines\", \"y\": [0, 1.888952], \"x\": [0, 0.266102], \"line\": {\"color\": \"rgb(20, 0, 145)\", \"width\": 2}, \"z\": [0, 0.600878], \"type\": \"scatter3d\"}, {\"mode\": \"lines\", \"y\": [0, 1.890248], \"x\": [0, 0.266018], \"line\": {\"color\": \"rgb(20, 0, 145)\", \"width\": 2}, \"z\": [0, 0.596824], \"type\": \"scatter3d\"}, {\"mode\": \"lines\", \"y\": [0, 1.889824], \"x\": [0, 0.26133], \"line\": {\"color\": \"rgb(20, 0, 145)\", \"width\": 2}, \"z\": [0, 0.600228], \"type\": \"scatter3d\"}, {\"mode\": \"lines\", \"y\": [0, 1.889824], \"x\": [0, 0.26133], \"line\": {\"color\": \"rgb(20, 0, 145)\", \"width\": 2}, \"z\": [0, 0.600228], \"type\": \"scatter3d\"}, {\"mode\": \"lines\", \"y\": [0, 1.890584], \"x\": [0, 0.26444], \"line\": {\"color\": \"rgb(20, 0, 145)\", \"width\": 2}, \"z\": [0, 0.59646], \"type\": \"scatter3d\"}, {\"mode\": \"lines\", \"y\": [0, 1.891038], \"x\": [0, 0.25762], \"line\": {\"color\": \"rgb(20, 0, 145)\", \"width\": 2}, \"z\": [0, 0.598002], \"type\": \"scatter3d\"}, {\"mode\": \"lines\", \"y\": [0, 1.891702], \"x\": [0, 0.263304], \"line\": {\"color\": \"rgb(20, 0, 145)\", \"width\": 2}, \"z\": [0, 0.593408], \"type\": \"scatter3d\"}, {\"mode\": \"lines\", \"y\": [0, 1.89154], \"x\": [0, 0.257662], \"line\": {\"color\": \"rgb(20, 0, 145)\", \"width\": 2}, \"z\": [0, 0.596394], \"type\": \"scatter3d\"}, {\"mode\": \"lines\", \"y\": [0, 1.89154], \"x\": [0, 0.257662], \"line\": {\"color\": \"rgb(20, 0, 145)\", \"width\": 2}, \"z\": [0, 0.596394], \"type\": \"scatter3d\"}, {\"mode\": \"lines\", \"y\": [0, 1.891086], \"x\": [0, 0.252914], \"line\": {\"color\": \"rgb(20, 0, 145)\", \"width\": 2}, \"z\": [0, 0.599858], \"type\": \"scatter3d\"}, {\"mode\": \"lines\", \"y\": [0, 1.891124], \"x\": [0, 0.25932], \"line\": {\"color\": \"rgb(20, 0, 145)\", \"width\": 2}, \"z\": [0, 0.596994], \"type\": \"scatter3d\"}, {\"mode\": \"lines\", \"y\": [0, 1.890338], \"x\": [0, 0.25829], \"line\": {\"color\": \"rgb(20, 0, 145)\", \"width\": 2}, \"z\": [0, 0.599926], \"type\": \"scatter3d\"}, {\"mode\": \"lines\", \"y\": [0, 1.891316], \"x\": [0, 0.261856], \"line\": {\"color\": \"rgb(20, 0, 145)\", \"width\": 2}, \"z\": [0, 0.595278], \"type\": \"scatter3d\"}, {\"mode\": \"lines\", \"y\": [0, 1.891316], \"x\": [0, 0.261856], \"line\": {\"color\": \"rgb(20, 0, 145)\", \"width\": 2}, \"z\": [0, 0.595278], \"type\": \"scatter3d\"}, {\"mode\": \"lines\", \"y\": [0, 1.890874], \"x\": [0, 0.253342], \"line\": {\"color\": \"rgb(20, 0, 145)\", \"width\": 2}, \"z\": [0, 0.600342], \"type\": \"scatter3d\"}, {\"mode\": \"lines\", \"y\": [0, 1.892088], \"x\": [0, 0.259448], \"line\": {\"color\": \"rgb(20, 0, 145)\", \"width\": 2}, \"z\": [0, 0.59388], \"type\": \"scatter3d\"}, {\"mode\": \"lines\", \"y\": [0, 1.891122], \"x\": [0, 0.256432], \"line\": {\"color\": \"rgb(20, 0, 145)\", \"width\": 2}, \"z\": [0, 0.59825], \"type\": \"scatter3d\"}, {\"mode\": \"lines\", \"y\": [0, 1.891848], \"x\": [0, 0.259112], \"line\": {\"color\": \"rgb(20, 0, 145)\", \"width\": 2}, \"z\": [0, 0.59479], \"type\": \"scatter3d\"}, {\"mode\": \"lines\", \"y\": [0, 1.891848], \"x\": [0, 0.259112], \"line\": {\"color\": \"rgb(20, 0, 145)\", \"width\": 2}, \"z\": [0, 0.59479], \"type\": \"scatter3d\"}, {\"mode\": \"lines\", \"y\": [0, 1.891594], \"x\": [0, 0.260448], \"line\": {\"color\": \"rgb(20, 0, 145)\", \"width\": 2}, \"z\": [0, 0.595012], \"type\": \"scatter3d\"}, {\"mode\": \"lines\", \"y\": [0, 1.890478], \"x\": [0, 0.258944], \"line\": {\"color\": \"rgb(20, 0, 145)\", \"width\": 2}, \"z\": [0, 0.5992], \"type\": \"scatter3d\"}, {\"mode\": \"lines\", \"y\": [0, 1.890548], \"x\": [0, 0.259556], \"line\": {\"color\": \"rgb(20, 0, 145)\", \"width\": 2}, \"z\": [0, 0.598718], \"type\": \"scatter3d\"}, {\"mode\": \"lines\", \"y\": [0, 1.890722], \"x\": [0, 0.258494], \"line\": {\"color\": \"rgb(20, 0, 145)\", \"width\": 2}, \"z\": [0, 0.598622], \"type\": \"scatter3d\"}, {\"mode\": \"lines\", \"y\": [0, 1.890722], \"x\": [0, 0.258494], \"line\": {\"color\": \"rgb(20, 0, 145)\", \"width\": 2}, \"z\": [0, 0.598622], \"type\": \"scatter3d\"}, {\"mode\": \"lines\", \"y\": [0, 1.89134], \"x\": [0, 0.262066], \"line\": {\"color\": \"rgb(20, 0, 145)\", \"width\": 2}, \"z\": [0, 0.59511], \"type\": \"scatter3d\"}, {\"mode\": \"lines\", \"y\": [0, 1.892004], \"x\": [0, 0.25975], \"line\": {\"color\": \"rgb(20, 0, 145)\", \"width\": 2}, \"z\": [0, 0.594014], \"type\": \"scatter3d\"}, {\"mode\": \"lines\", \"y\": [0, 1.890902], \"x\": [0, 0.26142], \"line\": {\"color\": \"rgb(20, 0, 145)\", \"width\": 2}, \"z\": [0, 0.596782], \"type\": \"scatter3d\"}, {\"mode\": \"lines\", \"y\": [0, 1.891996], \"x\": [0, 0.25713], \"line\": {\"color\": \"rgb(20, 0, 145)\", \"width\": 2}, \"z\": [0, 0.595176], \"type\": \"scatter3d\"}, {\"mode\": \"lines\", \"y\": [0, 1.891996], \"x\": [0, 0.25713], \"line\": {\"color\": \"rgb(20, 0, 145)\", \"width\": 2}, \"z\": [0, 0.595176], \"type\": \"scatter3d\"}, {\"mode\": \"lines\", \"y\": [0, 1.89286], \"x\": [0, 0.25409], \"line\": {\"color\": \"rgb(20, 0, 145)\", \"width\": 2}, \"z\": [0, 0.593732], \"type\": \"scatter3d\"}, {\"mode\": \"lines\", \"y\": [0, 1.894144], \"x\": [0, 0.255862], \"line\": {\"color\": \"rgb(20, 0, 145)\", \"width\": 2}, \"z\": [0, 0.58886], \"type\": \"scatter3d\"}, {\"mode\": \"lines\", \"y\": [0, 1.892954], \"x\": [0, 0.255684], \"line\": {\"color\": \"rgb(20, 0, 145)\", \"width\": 2}, \"z\": [0, 0.592746], \"type\": \"scatter3d\"}, {\"mode\": \"lines\", \"y\": [0, 1.893336], \"x\": [0, 0.252768], \"line\": {\"color\": \"rgb(20, 0, 145)\", \"width\": 2}, \"z\": [0, 0.592778], \"type\": \"scatter3d\"}, {\"mode\": \"lines\", \"y\": [0, 1.893336], \"x\": [0, 0.252768], \"line\": {\"color\": \"rgb(20, 0, 145)\", \"width\": 2}, \"z\": [0, 0.592778], \"type\": \"scatter3d\"}, {\"mode\": \"lines\", \"y\": [0, 1.893192], \"x\": [0, 0.25652], \"line\": {\"color\": \"rgb(20, 0, 145)\", \"width\": 2}, \"z\": [0, 0.591624], \"type\": \"scatter3d\"}, {\"mode\": \"lines\", \"y\": [0, 1.892444], \"x\": [0, 0.259008], \"line\": {\"color\": \"rgb(20, 0, 145)\", \"width\": 2}, \"z\": [0, 0.592936], \"type\": \"scatter3d\"}, {\"mode\": \"lines\", \"y\": [0, 1.892466], \"x\": [0, 0.262102], \"line\": {\"color\": \"rgb(20, 0, 145)\", \"width\": 2}, \"z\": [0, 0.591504], \"type\": \"scatter3d\"}, {\"mode\": \"lines\", \"y\": [0, 1.89324], \"x\": [0, 0.262862], \"line\": {\"color\": \"rgb(20, 0, 145)\", \"width\": 2}, \"z\": [0, 0.588682], \"type\": \"scatter3d\"}, {\"mode\": \"lines\", \"y\": [0, 1.89324], \"x\": [0, 0.262862], \"line\": {\"color\": \"rgb(20, 0, 145)\", \"width\": 2}, \"z\": [0, 0.588682], \"type\": \"scatter3d\"}, {\"mode\": \"lines\", \"y\": [0, 1.893142], \"x\": [0, 0.26107], \"line\": {\"color\": \"rgb(20, 0, 145)\", \"width\": 2}, \"z\": [0, 0.589792], \"type\": \"scatter3d\"}, {\"mode\": \"lines\", \"y\": [0, 1.891914], \"x\": [0, 0.265006], \"line\": {\"color\": \"rgb(20, 0, 145)\", \"width\": 2}, \"z\": [0, 0.591976], \"type\": \"scatter3d\"}, {\"mode\": \"lines\", \"y\": [0, 1.89299], \"x\": [0, 0.266006], \"line\": {\"color\": \"rgb(20, 0, 145)\", \"width\": 2}, \"z\": [0, 0.588072], \"type\": \"scatter3d\"}, {\"mode\": \"lines\", \"y\": [0, 1.893528], \"x\": [0, 0.262988], \"line\": {\"color\": \"rgb(20, 0, 145)\", \"width\": 2}, \"z\": [0, 0.587698], \"type\": \"scatter3d\"}, {\"mode\": \"lines\", \"y\": [0, 1.893528], \"x\": [0, 0.262988], \"line\": {\"color\": \"rgb(20, 0, 145)\", \"width\": 2}, \"z\": [0, 0.587698], \"type\": \"scatter3d\"}, {\"mode\": \"lines\", \"y\": [0, 1.892916], \"x\": [0, 0.260396], \"line\": {\"color\": \"rgb(20, 0, 145)\", \"width\": 2}, \"z\": [0, 0.590816], \"type\": \"scatter3d\"}, {\"mode\": \"lines\", \"y\": [0, 1.893898], \"x\": [0, 0.260738], \"line\": {\"color\": \"rgb(20, 0, 145)\", \"width\": 2}, \"z\": [0, 0.587506], \"type\": \"scatter3d\"}, {\"mode\": \"lines\", \"y\": [0, 1.89562], \"x\": [0, 0.256556], \"line\": {\"color\": \"rgb(20, 0, 145)\", \"width\": 2}, \"z\": [0, 0.583786], \"type\": \"scatter3d\"}, {\"mode\": \"lines\", \"y\": [0, 1.895174], \"x\": [0, 0.256096], \"line\": {\"color\": \"rgb(20, 0, 145)\", \"width\": 2}, \"z\": [0, 0.58543], \"type\": \"scatter3d\"}, {\"mode\": \"lines\", \"y\": [0, 1.895174], \"x\": [0, 0.256096], \"line\": {\"color\": \"rgb(20, 0, 145)\", \"width\": 2}, \"z\": [0, 0.58543], \"type\": \"scatter3d\"}, {\"mode\": \"lines\", \"y\": [0, 1.894534], \"x\": [0, 0.261714], \"line\": {\"color\": \"rgb(20, 0, 145)\", \"width\": 2}, \"z\": [0, 0.58502], \"type\": \"scatter3d\"}, {\"mode\": \"lines\", \"y\": [0, 1.894522], \"x\": [0, 0.258154], \"line\": {\"color\": \"rgb(20, 0, 145)\", \"width\": 2}, \"z\": [0, 0.58664], \"type\": \"scatter3d\"}, {\"mode\": \"lines\", \"y\": [0, 1.89359], \"x\": [0, 0.260638], \"line\": {\"color\": \"rgb(20, 0, 145)\", \"width\": 2}, \"z\": [0, 0.588548], \"type\": \"scatter3d\"}, {\"mode\": \"lines\", \"y\": [0, 1.894206], \"x\": [0, 0.25825], \"line\": {\"color\": \"rgb(20, 0, 145)\", \"width\": 2}, \"z\": [0, 0.587614], \"type\": \"scatter3d\"}, {\"mode\": \"lines\", \"y\": [0, 1.894206], \"x\": [0, 0.25825], \"line\": {\"color\": \"rgb(20, 0, 145)\", \"width\": 2}, \"z\": [0, 0.587614], \"type\": \"scatter3d\"}, {\"mode\": \"lines\", \"y\": [0, 1.894644], \"x\": [0, 0.260422], \"line\": {\"color\": \"rgb(20, 0, 145)\", \"width\": 2}, \"z\": [0, 0.585238], \"type\": \"scatter3d\"}, {\"mode\": \"lines\", \"y\": [0, 1.895576], \"x\": [0, 0.258388], \"line\": {\"color\": \"rgb(20, 0, 145)\", \"width\": 2}, \"z\": [0, 0.583118], \"type\": \"scatter3d\"}, {\"mode\": \"lines\", \"y\": [0, 1.895832], \"x\": [0, 0.254664], \"line\": {\"color\": \"rgb(20, 0, 145)\", \"width\": 2}, \"z\": [0, 0.583926], \"type\": \"scatter3d\"}, {\"mode\": \"lines\", \"y\": [0, 1.895384], \"x\": [0, 0.260202], \"line\": {\"color\": \"rgb(20, 0, 145)\", \"width\": 2}, \"z\": [0, 0.582938], \"type\": \"scatter3d\"}, {\"mode\": \"lines\", \"y\": [0, 1.895384], \"x\": [0, 0.260202], \"line\": {\"color\": \"rgb(20, 0, 145)\", \"width\": 2}, \"z\": [0, 0.582938], \"type\": \"scatter3d\"}, {\"marker\": {\"color\": \"#48186a\", \"size\": 10}, \"mode\": \"markers\", \"y\": [0], \"x\": [0], \"z\": [0], \"type\": \"scatter3d\"}, {\"marker\": {\"color\": \"rgb(0,144,144)\", \"size\": 5}, \"mode\": \"markers\", \"y\": [1.5, 1.5, 1.5, 1.5, 1.5, 1.5, 1.5, 1.5, 1.5], \"x\": [-0.20000000298023224, 0.0, 0.20000000298023224, -0.20000000298023224, 0.0, 0.20000000298023224, -0.20000000298023224, 0.0, 0.20000000298023224], \"z\": [-0.5, -0.5, -0.5, 0.0, 0.0, 0.0, 0.5, 0.5, 0.5], \"type\": \"scatter3d\"}], {\"showlegend\": false, \"title\": \"Calibration - EIH Space\", \"scene\": {\"aspectratio\": {\"y\": 1, \"x\": 1, \"z\": 1}, \"aspectmode\": \"manual\", \"zaxis\": {\"range\": [-2, 2], \"title\": \"z Axis\"}, \"xaxis\": {\"range\": [-1, 1], \"title\": \"x Axis\"}, \"yaxis\": {\"range\": [-1, 3], \"title\": \"y Axis\"}}, \"height\": 800, \"width\": 800, \"hovermode\": \"closest\", \"margin\": {\"t\": 100}}, {\"linkText\": \"Export to plot.ly\", \"showLink\": true})});</script>"
      ],
      "text/vnd.plotly.v1+html": [
       "<div id=\"03192b69-e133-4e4d-9afc-8421100b12d1\" style=\"height: 800px; width: 800px;\" class=\"plotly-graph-div\"></div><script type=\"text/javascript\">require([\"plotly\"], function(Plotly) { window.PLOTLYENV=window.PLOTLYENV || {};window.PLOTLYENV.BASE_URL=\"https://plot.ly\";Plotly.newPlot(\"03192b69-e133-4e4d-9afc-8421100b12d1\", [{\"mode\": \"lines\", \"y\": [0, 1.88447], \"x\": [0, -0.258302], \"line\": {\"color\": \"rgb(20, 0, 145)\", \"width\": 2}, \"z\": [0, -0.618104], \"type\": \"scatter3d\"}, {\"mode\": \"lines\", \"y\": [0, 1.886034], \"x\": [0, -0.257598], \"line\": {\"color\": \"rgb(20, 0, 145)\", \"width\": 2}, \"z\": [0, -0.613614], \"type\": \"scatter3d\"}, {\"mode\": \"lines\", \"y\": [0, 1.886034], \"x\": [0, -0.257598], \"line\": {\"color\": \"rgb(20, 0, 145)\", \"width\": 2}, \"z\": [0, -0.613614], \"type\": \"scatter3d\"}, {\"mode\": \"lines\", \"y\": [0, 1.884134], \"x\": [0, -0.259086], \"line\": {\"color\": \"rgb(20, 0, 145)\", \"width\": 2}, \"z\": [0, -0.618802], \"type\": \"scatter3d\"}, {\"mode\": \"lines\", \"y\": [0, 1.884678], \"x\": [0, -0.26093], \"line\": {\"color\": \"rgb(20, 0, 145)\", \"width\": 2}, \"z\": [0, -0.616366], \"type\": \"scatter3d\"}, {\"mode\": \"lines\", \"y\": [0, 1.884534], \"x\": [0, -0.262744], \"line\": {\"color\": \"rgb(20, 0, 145)\", \"width\": 2}, \"z\": [0, -0.616036], \"type\": \"scatter3d\"}, {\"mode\": \"lines\", \"y\": [0, 1.883452], \"x\": [0, -0.258652], \"line\": {\"color\": \"rgb(20, 0, 145)\", \"width\": 2}, \"z\": [0, -0.621056], \"type\": \"scatter3d\"}, {\"mode\": \"lines\", \"y\": [0, 1.883452], \"x\": [0, -0.258652], \"line\": {\"color\": \"rgb(20, 0, 145)\", \"width\": 2}, \"z\": [0, -0.621056], \"type\": \"scatter3d\"}, {\"mode\": \"lines\", \"y\": [0, 1.883558], \"x\": [0, -0.257008], \"line\": {\"color\": \"rgb(20, 0, 145)\", \"width\": 2}, \"z\": [0, -0.621412], \"type\": \"scatter3d\"}, {\"mode\": \"lines\", \"y\": [0, 1.882908], \"x\": [0, -0.258392], \"line\": {\"color\": \"rgb(20, 0, 145)\", \"width\": 2}, \"z\": [0, -0.622808], \"type\": \"scatter3d\"}, {\"mode\": \"lines\", \"y\": [0, 1.883386], \"x\": [0, -0.255662], \"line\": {\"color\": \"rgb(20, 0, 145)\", \"width\": 2}, \"z\": [0, -0.622492], \"type\": \"scatter3d\"}, {\"mode\": \"lines\", \"y\": [0, 1.881078], \"x\": [0, -0.266306], \"line\": {\"color\": \"rgb(20, 0, 145)\", \"width\": 2}, \"z\": [0, -0.625002], \"type\": \"scatter3d\"}, {\"mode\": \"lines\", \"y\": [0, 1.881078], \"x\": [0, -0.266306], \"line\": {\"color\": \"rgb(20, 0, 145)\", \"width\": 2}, \"z\": [0, -0.625002], \"type\": \"scatter3d\"}, {\"mode\": \"lines\", \"y\": [0, 1.881482], \"x\": [0, -0.26327], \"line\": {\"color\": \"rgb(20, 0, 145)\", \"width\": 2}, \"z\": [0, -0.625072], \"type\": \"scatter3d\"}, {\"mode\": \"lines\", \"y\": [0, 1.88056], \"x\": [0, -0.267388], \"line\": {\"color\": \"rgb(20, 0, 145)\", \"width\": 2}, \"z\": [0, -0.626098], \"type\": \"scatter3d\"}, {\"mode\": \"lines\", \"y\": [0, 1.879454], \"x\": [0, -0.264084], \"line\": {\"color\": \"rgb(20, 0, 145)\", \"width\": 2}, \"z\": [0, -0.630802], \"type\": \"scatter3d\"}, {\"mode\": \"lines\", \"y\": [0, 1.88119], \"x\": [0, -0.263846], \"line\": {\"color\": \"rgb(20, 0, 145)\", \"width\": 2}, \"z\": [0, -0.625706], \"type\": \"scatter3d\"}, {\"mode\": \"lines\", \"y\": [0, 1.879664], \"x\": [0, -0.264598], \"line\": {\"color\": \"rgb(20, 0, 145)\", \"width\": 2}, \"z\": [0, -0.629964], \"type\": \"scatter3d\"}, {\"mode\": \"lines\", \"y\": [0, 1.879664], \"x\": [0, -0.264598], \"line\": {\"color\": \"rgb(20, 0, 145)\", \"width\": 2}, \"z\": [0, -0.629964], \"type\": \"scatter3d\"}, {\"mode\": \"lines\", \"y\": [0, 1.880024], \"x\": [0, -0.264436], \"line\": {\"color\": \"rgb(20, 0, 145)\", \"width\": 2}, \"z\": [0, -0.628952], \"type\": \"scatter3d\"}, {\"mode\": \"lines\", \"y\": [0, 1.88008], \"x\": [0, -0.268784], \"line\": {\"color\": \"rgb(20, 0, 145)\", \"width\": 2}, \"z\": [0, -0.626938], \"type\": \"scatter3d\"}, {\"mode\": \"lines\", \"y\": [0, 1.880908], \"x\": [0, -0.26742], \"line\": {\"color\": \"rgb(20, 0, 145)\", \"width\": 2}, \"z\": [0, -0.62504], \"type\": \"scatter3d\"}, {\"mode\": \"lines\", \"y\": [0, 1.881914], \"x\": [0, -0.26528], \"line\": {\"color\": \"rgb(20, 0, 145)\", \"width\": 2}, \"z\": [0, -0.622918], \"type\": \"scatter3d\"}, {\"mode\": \"lines\", \"y\": [0, 1.881798], \"x\": [0, -0.264488], \"line\": {\"color\": \"rgb(20, 0, 145)\", \"width\": 2}, \"z\": [0, -0.623604], \"type\": \"scatter3d\"}, {\"mode\": \"lines\", \"y\": [0, 1.881798], \"x\": [0, -0.264488], \"line\": {\"color\": \"rgb(20, 0, 145)\", \"width\": 2}, \"z\": [0, -0.623604], \"type\": \"scatter3d\"}, {\"mode\": \"lines\", \"y\": [0, 1.88165], \"x\": [0, -0.263192], \"line\": {\"color\": \"rgb(20, 0, 145)\", \"width\": 2}, \"z\": [0, -0.6246], \"type\": \"scatter3d\"}, {\"mode\": \"lines\", \"y\": [0, 1.879836], \"x\": [0, -0.26344], \"line\": {\"color\": \"rgb(20, 0, 145)\", \"width\": 2}, \"z\": [0, -0.629932], \"type\": \"scatter3d\"}, {\"mode\": \"lines\", \"y\": [0, 1.88191], \"x\": [0, -0.262272], \"line\": {\"color\": \"rgb(20, 0, 145)\", \"width\": 2}, \"z\": [0, -0.6242], \"type\": \"scatter3d\"}, {\"mode\": \"lines\", \"y\": [0, 1.881308], \"x\": [0, -0.265636], \"line\": {\"color\": \"rgb(20, 0, 145)\", \"width\": 2}, \"z\": [0, -0.624596], \"type\": \"scatter3d\"}, {\"mode\": \"lines\", \"y\": [0, 1.881308], \"x\": [0, -0.265636], \"line\": {\"color\": \"rgb(20, 0, 145)\", \"width\": 2}, \"z\": [0, -0.624596], \"type\": \"scatter3d\"}, {\"mode\": \"lines\", \"y\": [0, 1.880652], \"x\": [0, -0.265582], \"line\": {\"color\": \"rgb(20, 0, 145)\", \"width\": 2}, \"z\": [0, -0.62659], \"type\": \"scatter3d\"}, {\"mode\": \"lines\", \"y\": [0, 1.881052], \"x\": [0, -0.261866], \"line\": {\"color\": \"rgb(20, 0, 145)\", \"width\": 2}, \"z\": [0, -0.626952], \"type\": \"scatter3d\"}, {\"mode\": \"lines\", \"y\": [0, 1.882548], \"x\": [0, -0.262534], \"line\": {\"color\": \"rgb(20, 0, 145)\", \"width\": 2}, \"z\": [0, -0.622164], \"type\": \"scatter3d\"}, {\"mode\": \"lines\", \"y\": [0, 1.882548], \"x\": [0, -0.262534], \"line\": {\"color\": \"rgb(20, 0, 145)\", \"width\": 2}, \"z\": [0, -0.622164], \"type\": \"scatter3d\"}, {\"mode\": \"lines\", \"y\": [0, 1.882222], \"x\": [0, -0.260234], \"line\": {\"color\": \"rgb(20, 0, 145)\", \"width\": 2}, \"z\": [0, -0.624114], \"type\": \"scatter3d\"}, {\"mode\": \"lines\", \"y\": [0, 1.881246], \"x\": [0, -0.264262], \"line\": {\"color\": \"rgb(20, 0, 145)\", \"width\": 2}, \"z\": [0, -0.625364], \"type\": \"scatter3d\"}, {\"mode\": \"lines\", \"y\": [0, 1.880954], \"x\": [0, -0.258822], \"line\": {\"color\": \"rgb(20, 0, 145)\", \"width\": 2}, \"z\": [0, -0.628508], \"type\": \"scatter3d\"}, {\"mode\": \"lines\", \"y\": [0, 1.88147], \"x\": [0, -0.26153], \"line\": {\"color\": \"rgb(20, 0, 145)\", \"width\": 2}, \"z\": [0, -0.62584], \"type\": \"scatter3d\"}, {\"mode\": \"lines\", \"y\": [0, 1.88147], \"x\": [0, -0.26153], \"line\": {\"color\": \"rgb(20, 0, 145)\", \"width\": 2}, \"z\": [0, -0.62584], \"type\": \"scatter3d\"}, {\"mode\": \"lines\", \"y\": [0, 1.88005], \"x\": [0, -0.26441], \"line\": {\"color\": \"rgb(20, 0, 145)\", \"width\": 2}, \"z\": [0, -0.62889], \"type\": \"scatter3d\"}, {\"mode\": \"lines\", \"y\": [0, 1.880694], \"x\": [0, -0.262914], \"line\": {\"color\": \"rgb(20, 0, 145)\", \"width\": 2}, \"z\": [0, -0.627586], \"type\": \"scatter3d\"}, {\"mode\": \"lines\", \"y\": [0, 1.88061], \"x\": [0, -0.264796], \"line\": {\"color\": \"rgb(20, 0, 145)\", \"width\": 2}, \"z\": [0, -0.627048], \"type\": \"scatter3d\"}, {\"mode\": \"lines\", \"y\": [0, 1.881156], \"x\": [0, -0.260188], \"line\": {\"color\": \"rgb(20, 0, 145)\", \"width\": 2}, \"z\": [0, -0.627342], \"type\": \"scatter3d\"}, {\"mode\": \"lines\", \"y\": [0, 1.881156], \"x\": [0, -0.260188], \"line\": {\"color\": \"rgb(20, 0, 145)\", \"width\": 2}, \"z\": [0, -0.627342], \"type\": \"scatter3d\"}, {\"mode\": \"lines\", \"y\": [0, 1.881078], \"x\": [0, -0.260338], \"line\": {\"color\": \"rgb(20, 0, 145)\", \"width\": 2}, \"z\": [0, -0.627508], \"type\": \"scatter3d\"}, {\"mode\": \"lines\", \"y\": [0, 1.880534], \"x\": [0, -0.260828], \"line\": {\"color\": \"rgb(20, 0, 145)\", \"width\": 2}, \"z\": [0, -0.628936], \"type\": \"scatter3d\"}, {\"mode\": \"lines\", \"y\": [0, 1.880892], \"x\": [0, -0.261514], \"line\": {\"color\": \"rgb(20, 0, 145)\", \"width\": 2}, \"z\": [0, -0.627578], \"type\": \"scatter3d\"}, {\"mode\": \"lines\", \"y\": [0, 1.8803], \"x\": [0, -0.26247], \"line\": {\"color\": \"rgb(20, 0, 145)\", \"width\": 2}, \"z\": [0, -0.628954], \"type\": \"scatter3d\"}, {\"mode\": \"lines\", \"y\": [0, 1.8803], \"x\": [0, -0.26247], \"line\": {\"color\": \"rgb(20, 0, 145)\", \"width\": 2}, \"z\": [0, -0.628954], \"type\": \"scatter3d\"}, {\"mode\": \"lines\", \"y\": [0, 1.880678], \"x\": [0, -0.259286], \"line\": {\"color\": \"rgb(20, 0, 145)\", \"width\": 2}, \"z\": [0, -0.629142], \"type\": \"scatter3d\"}, {\"mode\": \"lines\", \"y\": [0, 1.881018], \"x\": [0, -0.259694], \"line\": {\"color\": \"rgb(20, 0, 145)\", \"width\": 2}, \"z\": [0, -0.627956], \"type\": \"scatter3d\"}, {\"mode\": \"lines\", \"y\": [0, 1.880976], \"x\": [0, -0.25867], \"line\": {\"color\": \"rgb(20, 0, 145)\", \"width\": 2}, \"z\": [0, -0.628508], \"type\": \"scatter3d\"}, {\"mode\": \"lines\", \"y\": [0, 1.881428], \"x\": [0, -0.259922], \"line\": {\"color\": \"rgb(20, 0, 145)\", \"width\": 2}, \"z\": [0, -0.626634], \"type\": \"scatter3d\"}, {\"mode\": \"lines\", \"y\": [0, 1.88177], \"x\": [0, -0.256304], \"line\": {\"color\": \"rgb(20, 0, 145)\", \"width\": 2}, \"z\": [0, -0.627094], \"type\": \"scatter3d\"}, {\"mode\": \"lines\", \"y\": [0, 1.88177], \"x\": [0, -0.256304], \"line\": {\"color\": \"rgb(20, 0, 145)\", \"width\": 2}, \"z\": [0, -0.627094], \"type\": \"scatter3d\"}, {\"mode\": \"lines\", \"y\": [0, 1.881834], \"x\": [0, -0.255894], \"line\": {\"color\": \"rgb(20, 0, 145)\", \"width\": 2}, \"z\": [0, -0.627072], \"type\": \"scatter3d\"}, {\"mode\": \"lines\", \"y\": [0, 1.881066], \"x\": [0, -0.25711], \"line\": {\"color\": \"rgb(20, 0, 145)\", \"width\": 2}, \"z\": [0, -0.628874], \"type\": \"scatter3d\"}, {\"mode\": \"lines\", \"y\": [0, 1.881194], \"x\": [0, -0.25629], \"line\": {\"color\": \"rgb(20, 0, 145)\", \"width\": 2}, \"z\": [0, -0.62883], \"type\": \"scatter3d\"}, {\"mode\": \"lines\", \"y\": [0, 1.88046], \"x\": [0, -0.25854], \"line\": {\"color\": \"rgb(20, 0, 145)\", \"width\": 2}, \"z\": [0, -0.630102], \"type\": \"scatter3d\"}, {\"mode\": \"lines\", \"y\": [0, 1.88046], \"x\": [0, -0.25854], \"line\": {\"color\": \"rgb(20, 0, 145)\", \"width\": 2}, \"z\": [0, -0.630102], \"type\": \"scatter3d\"}, {\"mode\": \"lines\", \"y\": [0, 1.88169], \"x\": [0, -0.255992], \"line\": {\"color\": \"rgb(20, 0, 145)\", \"width\": 2}, \"z\": [0, -0.627466], \"type\": \"scatter3d\"}, {\"mode\": \"lines\", \"y\": [0, 1.880598], \"x\": [0, -0.258886], \"line\": {\"color\": \"rgb(20, 0, 145)\", \"width\": 2}, \"z\": [0, -0.629548], \"type\": \"scatter3d\"}, {\"mode\": \"lines\", \"y\": [0, 1.882424], \"x\": [0, -0.255818], \"line\": {\"color\": \"rgb(20, 0, 145)\", \"width\": 2}, \"z\": [0, -0.62533], \"type\": \"scatter3d\"}, {\"mode\": \"lines\", \"y\": [0, 1.882514], \"x\": [0, -0.254714], \"line\": {\"color\": \"rgb(20, 0, 145)\", \"width\": 2}, \"z\": [0, -0.625508], \"type\": \"scatter3d\"}, {\"mode\": \"lines\", \"y\": [0, 1.882514], \"x\": [0, -0.254714], \"line\": {\"color\": \"rgb(20, 0, 145)\", \"width\": 2}, \"z\": [0, -0.625508], \"type\": \"scatter3d\"}, {\"mode\": \"lines\", \"y\": [0, 1.882096], \"x\": [0, -0.254464], \"line\": {\"color\": \"rgb(20, 0, 145)\", \"width\": 2}, \"z\": [0, -0.626864], \"type\": \"scatter3d\"}, {\"mode\": \"lines\", \"y\": [0, 1.88397], \"x\": [0, -0.249782], \"line\": {\"color\": \"rgb(20, 0, 145)\", \"width\": 2}, \"z\": [0, -0.62311], \"type\": \"scatter3d\"}, {\"mode\": \"lines\", \"y\": [0, 1.882786], \"x\": [0, -0.253246], \"line\": {\"color\": \"rgb(20, 0, 145)\", \"width\": 2}, \"z\": [0, -0.625286], \"type\": \"scatter3d\"}, {\"mode\": \"lines\", \"y\": [0, 1.882786], \"x\": [0, -0.253246], \"line\": {\"color\": \"rgb(20, 0, 145)\", \"width\": 2}, \"z\": [0, -0.625286], \"type\": \"scatter3d\"}, {\"mode\": \"lines\", \"y\": [0, 1.884434], \"x\": [0, -0.258584], \"line\": {\"color\": \"rgb(20, 0, 145)\", \"width\": 2}, \"z\": [0, -0.618096], \"type\": \"scatter3d\"}, {\"mode\": \"lines\", \"y\": [0, 1.885474], \"x\": [0, -0.259678], \"line\": {\"color\": \"rgb(20, 0, 145)\", \"width\": 2}, \"z\": [0, -0.614458], \"type\": \"scatter3d\"}, {\"mode\": \"lines\", \"y\": [0, 1.885314], \"x\": [0, -0.256704], \"line\": {\"color\": \"rgb(20, 0, 145)\", \"width\": 2}, \"z\": [0, -0.616192], \"type\": \"scatter3d\"}, {\"mode\": \"lines\", \"y\": [0, 1.886168], \"x\": [0, -0.255714], \"line\": {\"color\": \"rgb(20, 0, 145)\", \"width\": 2}, \"z\": [0, -0.613986], \"type\": \"scatter3d\"}, {\"mode\": \"lines\", \"y\": [0, 1.885792], \"x\": [0, -0.255642], \"line\": {\"color\": \"rgb(20, 0, 145)\", \"width\": 2}, \"z\": [0, -0.615174], \"type\": \"scatter3d\"}, {\"mode\": \"lines\", \"y\": [0, 1.885792], \"x\": [0, -0.255642], \"line\": {\"color\": \"rgb(20, 0, 145)\", \"width\": 2}, \"z\": [0, -0.615174], \"type\": \"scatter3d\"}, {\"mode\": \"lines\", \"y\": [0, 1.885292], \"x\": [0, -0.258122], \"line\": {\"color\": \"rgb(20, 0, 145)\", \"width\": 2}, \"z\": [0, -0.615668], \"type\": \"scatter3d\"}, {\"mode\": \"lines\", \"y\": [0, 1.886888], \"x\": [0, -0.255508], \"line\": {\"color\": \"rgb(20, 0, 145)\", \"width\": 2}, \"z\": [0, -0.611856], \"type\": \"scatter3d\"}, {\"mode\": \"lines\", \"y\": [0, 1.884302], \"x\": [0, -0.253754], \"line\": {\"color\": \"rgb(20, 0, 145)\", \"width\": 2}, \"z\": [0, -0.620496], \"type\": \"scatter3d\"}, {\"mode\": \"lines\", \"y\": [0, 1.884302], \"x\": [0, -0.253754], \"line\": {\"color\": \"rgb(20, 0, 145)\", \"width\": 2}, \"z\": [0, -0.620496], \"type\": \"scatter3d\"}, {\"mode\": \"lines\", \"y\": [0, 1.88416], \"x\": [0, -0.25578], \"line\": {\"color\": \"rgb(20, 0, 145)\", \"width\": 2}, \"z\": [0, -0.620094], \"type\": \"scatter3d\"}, {\"mode\": \"lines\", \"y\": [0, 1.884508], \"x\": [0, -0.255996], \"line\": {\"color\": \"rgb(20, 0, 145)\", \"width\": 2}, \"z\": [0, -0.618948], \"type\": \"scatter3d\"}, {\"mode\": \"lines\", \"y\": [0, 1.885034], \"x\": [0, -0.253586], \"line\": {\"color\": \"rgb(20, 0, 145)\", \"width\": 2}, \"z\": [0, -0.618338], \"type\": \"scatter3d\"}, {\"mode\": \"lines\", \"y\": [0, 1.88532], \"x\": [0, -0.250784], \"line\": {\"color\": \"rgb(20, 0, 145)\", \"width\": 2}, \"z\": [0, -0.61861], \"type\": \"scatter3d\"}, {\"mode\": \"lines\", \"y\": [0, 1.88532], \"x\": [0, -0.250784], \"line\": {\"color\": \"rgb(20, 0, 145)\", \"width\": 2}, \"z\": [0, -0.61861], \"type\": \"scatter3d\"}, {\"mode\": \"lines\", \"y\": [0, 1.88564], \"x\": [0, -0.254034], \"line\": {\"color\": \"rgb(20, 0, 145)\", \"width\": 2}, \"z\": [0, -0.616304], \"type\": \"scatter3d\"}, {\"mode\": \"lines\", \"y\": [0, 1.88303], \"x\": [0, -0.258406], \"line\": {\"color\": \"rgb(20, 0, 145)\", \"width\": 2}, \"z\": [0, -0.622434], \"type\": \"scatter3d\"}, {\"mode\": \"lines\", \"y\": [0, 1.88488], \"x\": [0, -0.250358], \"line\": {\"color\": \"rgb(20, 0, 145)\", \"width\": 2}, \"z\": [0, -0.620116], \"type\": \"scatter3d\"}, {\"mode\": \"lines\", \"y\": [0, 1.88449], \"x\": [0, -0.24949], \"line\": {\"color\": \"rgb(20, 0, 145)\", \"width\": 2}, \"z\": [0, -0.62165], \"type\": \"scatter3d\"}, {\"mode\": \"lines\", \"y\": [0, 1.88449], \"x\": [0, -0.24949], \"line\": {\"color\": \"rgb(20, 0, 145)\", \"width\": 2}, \"z\": [0, -0.62165], \"type\": \"scatter3d\"}, {\"mode\": \"lines\", \"y\": [0, 1.884636], \"x\": [0, -0.24981], \"line\": {\"color\": \"rgb(20, 0, 145)\", \"width\": 2}, \"z\": [0, -0.621084], \"type\": \"scatter3d\"}, {\"mode\": \"lines\", \"y\": [0, 1.885448], \"x\": [0, -0.249778], \"line\": {\"color\": \"rgb(20, 0, 145)\", \"width\": 2}, \"z\": [0, -0.618624], \"type\": \"scatter3d\"}, {\"mode\": \"lines\", \"y\": [0, 1.884886], \"x\": [0, -0.245978], \"line\": {\"color\": \"rgb(20, 0, 145)\", \"width\": 2}, \"z\": [0, -0.62185], \"type\": \"scatter3d\"}, {\"mode\": \"lines\", \"y\": [0, 1.883854], \"x\": [0, -0.249828], \"line\": {\"color\": \"rgb(20, 0, 145)\", \"width\": 2}, \"z\": [0, -0.623442], \"type\": \"scatter3d\"}, {\"mode\": \"lines\", \"y\": [0, 1.883854], \"x\": [0, -0.249828], \"line\": {\"color\": \"rgb(20, 0, 145)\", \"width\": 2}, \"z\": [0, -0.623442], \"type\": \"scatter3d\"}, {\"mode\": \"lines\", \"y\": [0, 1.883844], \"x\": [0, -0.242876], \"line\": {\"color\": \"rgb(20, 0, 145)\", \"width\": 2}, \"z\": [0, -0.62621], \"type\": \"scatter3d\"}, {\"mode\": \"lines\", \"y\": [0, 1.883844], \"x\": [0, -0.242876], \"line\": {\"color\": \"rgb(20, 0, 145)\", \"width\": 2}, \"z\": [0, -0.62621], \"type\": \"scatter3d\"}, {\"mode\": \"lines\", \"y\": [0, 1.888026], \"x\": [0, -0.233912], \"line\": {\"color\": \"rgb(20, 0, 145)\", \"width\": 2}, \"z\": [0, -0.61696], \"type\": \"scatter3d\"}, {\"mode\": \"lines\", \"y\": [0, 1.886378], \"x\": [0, -0.234684], \"line\": {\"color\": \"rgb(20, 0, 145)\", \"width\": 2}, \"z\": [0, -0.621694], \"type\": \"scatter3d\"}, {\"mode\": \"lines\", \"y\": [0, 1.886378], \"x\": [0, -0.234684], \"line\": {\"color\": \"rgb(20, 0, 145)\", \"width\": 2}, \"z\": [0, -0.621694], \"type\": \"scatter3d\"}, {\"mode\": \"lines\", \"y\": [0, 1.88705], \"x\": [0, -0.237642], \"line\": {\"color\": \"rgb(20, 0, 145)\", \"width\": 2}, \"z\": [0, -0.618522], \"type\": \"scatter3d\"}, {\"mode\": \"lines\", \"y\": [0, 1.89159], \"x\": [0, -0.01359276], \"line\": {\"color\": \"rgb(20, 0, 145)\", \"width\": 2}, \"z\": [0, -0.649386], \"type\": \"scatter3d\"}, {\"mode\": \"lines\", \"y\": [0, 1.891418], \"x\": [0, -0.01144308], \"line\": {\"color\": \"rgb(20, 0, 145)\", \"width\": 2}, \"z\": [0, -0.649928], \"type\": \"scatter3d\"}, {\"mode\": \"lines\", \"y\": [0, 1.891418], \"x\": [0, -0.01144308], \"line\": {\"color\": \"rgb(20, 0, 145)\", \"width\": 2}, \"z\": [0, -0.649928], \"type\": \"scatter3d\"}, {\"mode\": \"lines\", \"y\": [0, 1.891688], \"x\": [0, -0.01008678], \"line\": {\"color\": \"rgb(20, 0, 145)\", \"width\": 2}, \"z\": [0, -0.649164], \"type\": \"scatter3d\"}, {\"mode\": \"lines\", \"y\": [0, 1.893084], \"x\": [0, -0.01158798], \"line\": {\"color\": \"rgb(20, 0, 145)\", \"width\": 2}, \"z\": [0, -0.645058], \"type\": \"scatter3d\"}, {\"mode\": \"lines\", \"y\": [0, 1.891022], \"x\": [0, -0.0084648], \"line\": {\"color\": \"rgb(20, 0, 145)\", \"width\": 2}, \"z\": [0, -0.651124], \"type\": \"scatter3d\"}, {\"mode\": \"lines\", \"y\": [0, 1.893934], \"x\": [0, -0.00836622], \"line\": {\"color\": \"rgb(20, 0, 145)\", \"width\": 2}, \"z\": [0, -0.642604], \"type\": \"scatter3d\"}, {\"mode\": \"lines\", \"y\": [0, 1.891124], \"x\": [0, -0.0138453], \"line\": {\"color\": \"rgb(20, 0, 145)\", \"width\": 2}, \"z\": [0, -0.650738], \"type\": \"scatter3d\"}, {\"mode\": \"lines\", \"y\": [0, 1.891124], \"x\": [0, -0.0138453], \"line\": {\"color\": \"rgb(20, 0, 145)\", \"width\": 2}, \"z\": [0, -0.650738], \"type\": \"scatter3d\"}, {\"mode\": \"lines\", \"y\": [0, 1.892824], \"x\": [0, -0.00890144], \"line\": {\"color\": \"rgb(20, 0, 145)\", \"width\": 2}, \"z\": [0, -0.645864], \"type\": \"scatter3d\"}, {\"mode\": \"lines\", \"y\": [0, 1.893944], \"x\": [0, -0.0089996], \"line\": {\"color\": \"rgb(20, 0, 145)\", \"width\": 2}, \"z\": [0, -0.642568], \"type\": \"scatter3d\"}, {\"mode\": \"lines\", \"y\": [0, 1.8907], \"x\": [0, -0.01204646], \"line\": {\"color\": \"rgb(20, 0, 145)\", \"width\": 2}, \"z\": [0, -0.652002], \"type\": \"scatter3d\"}, {\"mode\": \"lines\", \"y\": [0, 1.8907], \"x\": [0, -0.01204646], \"line\": {\"color\": \"rgb(20, 0, 145)\", \"width\": 2}, \"z\": [0, -0.652002], \"type\": \"scatter3d\"}, {\"mode\": \"lines\", \"y\": [0, 1.890366], \"x\": [0, -0.00955072], \"line\": {\"color\": \"rgb(20, 0, 145)\", \"width\": 2}, \"z\": [0, -0.653014], \"type\": \"scatter3d\"}, {\"mode\": \"lines\", \"y\": [0, 1.89007], \"x\": [0, -0.01735642], \"line\": {\"color\": \"rgb(20, 0, 145)\", \"width\": 2}, \"z\": [0, -0.653708], \"type\": \"scatter3d\"}, {\"mode\": \"lines\", \"y\": [0, 1.889296], \"x\": [0, -0.01230984], \"line\": {\"color\": \"rgb(20, 0, 145)\", \"width\": 2}, \"z\": [0, -0.656056], \"type\": \"scatter3d\"}, {\"mode\": \"lines\", \"y\": [0, 1.888296], \"x\": [0, -0.01434466], \"line\": {\"color\": \"rgb(20, 0, 145)\", \"width\": 2}, \"z\": [0, -0.658884], \"type\": \"scatter3d\"}, {\"mode\": \"lines\", \"y\": [0, 1.889812], \"x\": [0, -0.01315174], \"line\": {\"color\": \"rgb(20, 0, 145)\", \"width\": 2}, \"z\": [0, -0.65455], \"type\": \"scatter3d\"}, {\"mode\": \"lines\", \"y\": [0, 1.889812], \"x\": [0, -0.01315174], \"line\": {\"color\": \"rgb(20, 0, 145)\", \"width\": 2}, \"z\": [0, -0.65455], \"type\": \"scatter3d\"}, {\"mode\": \"lines\", \"y\": [0, 1.891112], \"x\": [0, -0.01117448], \"line\": {\"color\": \"rgb(20, 0, 145)\", \"width\": 2}, \"z\": [0, -0.650824], \"type\": \"scatter3d\"}, {\"mode\": \"lines\", \"y\": [0, 1.889844], \"x\": [0, -0.00998916], \"line\": {\"color\": \"rgb(20, 0, 145)\", \"width\": 2}, \"z\": [0, -0.654512], \"type\": \"scatter3d\"}, {\"mode\": \"lines\", \"y\": [0, 1.889282], \"x\": [0, -0.01255968], \"line\": {\"color\": \"rgb(20, 0, 145)\", \"width\": 2}, \"z\": [0, -0.656088], \"type\": \"scatter3d\"}, {\"mode\": \"lines\", \"y\": [0, 1.889282], \"x\": [0, -0.01255968], \"line\": {\"color\": \"rgb(20, 0, 145)\", \"width\": 2}, \"z\": [0, -0.656088], \"type\": \"scatter3d\"}, {\"mode\": \"lines\", \"y\": [0, 1.890116], \"x\": [0, -0.00562716], \"line\": {\"color\": \"rgb(20, 0, 145)\", \"width\": 2}, \"z\": [0, -0.653782], \"type\": \"scatter3d\"}, {\"mode\": \"lines\", \"y\": [0, 1.8899], \"x\": [0, -0.00961856], \"line\": {\"color\": \"rgb(20, 0, 145)\", \"width\": 2}, \"z\": [0, -0.65436], \"type\": \"scatter3d\"}, {\"mode\": \"lines\", \"y\": [0, 1.890166], \"x\": [0, -0.0104028], \"line\": {\"color\": \"rgb(20, 0, 145)\", \"width\": 2}, \"z\": [0, -0.653578], \"type\": \"scatter3d\"}, {\"mode\": \"lines\", \"y\": [0, 1.888712], \"x\": [0, -0.01097408], \"line\": {\"color\": \"rgb(20, 0, 145)\", \"width\": 2}, \"z\": [0, -0.657758], \"type\": \"scatter3d\"}, {\"mode\": \"lines\", \"y\": [0, 1.888712], \"x\": [0, -0.01097408], \"line\": {\"color\": \"rgb(20, 0, 145)\", \"width\": 2}, \"z\": [0, -0.657758], \"type\": \"scatter3d\"}, {\"mode\": \"lines\", \"y\": [0, 1.888142], \"x\": [0, -0.01255564], \"line\": {\"color\": \"rgb(20, 0, 145)\", \"width\": 2}, \"z\": [0, -0.659362], \"type\": \"scatter3d\"}, {\"mode\": \"lines\", \"y\": [0, 1.888134], \"x\": [0, -0.01064284], \"line\": {\"color\": \"rgb(20, 0, 145)\", \"width\": 2}, \"z\": [0, -0.659422], \"type\": \"scatter3d\"}, {\"mode\": \"lines\", \"y\": [0, 1.88749], \"x\": [0, -0.01299558], \"line\": {\"color\": \"rgb(20, 0, 145)\", \"width\": 2}, \"z\": [0, -0.661218], \"type\": \"scatter3d\"}, {\"mode\": \"lines\", \"y\": [0, 1.887272], \"x\": [0, -0.0124644], \"line\": {\"color\": \"rgb(20, 0, 145)\", \"width\": 2}, \"z\": [0, -0.661854], \"type\": \"scatter3d\"}, {\"mode\": \"lines\", \"y\": [0, 1.888454], \"x\": [0, -0.01303322], \"line\": {\"color\": \"rgb(20, 0, 145)\", \"width\": 2}, \"z\": [0, -0.658462], \"type\": \"scatter3d\"}, {\"mode\": \"lines\", \"y\": [0, 1.888454], \"x\": [0, -0.01303322], \"line\": {\"color\": \"rgb(20, 0, 145)\", \"width\": 2}, \"z\": [0, -0.658462], \"type\": \"scatter3d\"}, {\"mode\": \"lines\", \"y\": [0, 1.88653], \"x\": [0, -0.01445224], \"line\": {\"color\": \"rgb(20, 0, 145)\", \"width\": 2}, \"z\": [0, -0.663926], \"type\": \"scatter3d\"}, {\"mode\": \"lines\", \"y\": [0, 1.886334], \"x\": [0, -0.01766026], \"line\": {\"color\": \"rgb(20, 0, 145)\", \"width\": 2}, \"z\": [0, -0.664402], \"type\": \"scatter3d\"}, {\"mode\": \"lines\", \"y\": [0, 1.88675], \"x\": [0, -0.0242596], \"line\": {\"color\": \"rgb(20, 0, 145)\", \"width\": 2}, \"z\": [0, -0.663014], \"type\": \"scatter3d\"}, {\"mode\": \"lines\", \"y\": [0, 1.885556], \"x\": [0, -0.0251978], \"line\": {\"color\": \"rgb(20, 0, 145)\", \"width\": 2}, \"z\": [0, -0.666366], \"type\": \"scatter3d\"}, {\"mode\": \"lines\", \"y\": [0, 1.88675], \"x\": [0, -0.0238566], \"line\": {\"color\": \"rgb(20, 0, 145)\", \"width\": 2}, \"z\": [0, -0.663026], \"type\": \"scatter3d\"}, {\"mode\": \"lines\", \"y\": [0, 1.887454], \"x\": [0, -0.0227464], \"line\": {\"color\": \"rgb(20, 0, 145)\", \"width\": 2}, \"z\": [0, -0.661062], \"type\": \"scatter3d\"}, {\"mode\": \"lines\", \"y\": [0, 1.88656], \"x\": [0, -0.0262374], \"line\": {\"color\": \"rgb(20, 0, 145)\", \"width\": 2}, \"z\": [0, -0.663476], \"type\": \"scatter3d\"}, {\"mode\": \"lines\", \"y\": [0, 1.887226], \"x\": [0, -0.0135913], \"line\": {\"color\": \"rgb(20, 0, 145)\", \"width\": 2}, \"z\": [0, -0.661962], \"type\": \"scatter3d\"}, {\"mode\": \"lines\", \"y\": [0, 1.884438], \"x\": [0, -0.01502344], \"line\": {\"color\": \"rgb(20, 0, 145)\", \"width\": 2}, \"z\": [0, -0.669826], \"type\": \"scatter3d\"}, {\"mode\": \"lines\", \"y\": [0, 1.882684], \"x\": [0, -0.01763126], \"line\": {\"color\": \"rgb(20, 0, 145)\", \"width\": 2}, \"z\": [0, -0.67468], \"type\": \"scatter3d\"}, {\"mode\": \"lines\", \"y\": [0, 1.88333], \"x\": [0, -0.01899352], \"line\": {\"color\": \"rgb(20, 0, 145)\", \"width\": 2}, \"z\": [0, -0.672838], \"type\": \"scatter3d\"}, {\"mode\": \"lines\", \"y\": [0, 1.883576], \"x\": [0, -0.01483978], \"line\": {\"color\": \"rgb(20, 0, 145)\", \"width\": 2}, \"z\": [0, -0.672248], \"type\": \"scatter3d\"}, {\"mode\": \"lines\", \"y\": [0, 1.88026], \"x\": [0, -0.0253452], \"line\": {\"color\": \"rgb(20, 0, 145)\", \"width\": 2}, \"z\": [0, -0.68116], \"type\": \"scatter3d\"}, {\"mode\": \"lines\", \"y\": [0, 1.88026], \"x\": [0, -0.0253452], \"line\": {\"color\": \"rgb(20, 0, 145)\", \"width\": 2}, \"z\": [0, -0.68116], \"type\": \"scatter3d\"}, {\"mode\": \"lines\", \"y\": [0, 1.87956], \"x\": [0, -0.0228706], \"line\": {\"color\": \"rgb(20, 0, 145)\", \"width\": 2}, \"z\": [0, -0.683178], \"type\": \"scatter3d\"}, {\"mode\": \"lines\", \"y\": [0, 1.87862], \"x\": [0, -0.0203358], \"line\": {\"color\": \"rgb(20, 0, 145)\", \"width\": 2}, \"z\": [0, -0.685838], \"type\": \"scatter3d\"}, {\"mode\": \"lines\", \"y\": [0, 1.877976], \"x\": [0, -0.0256216], \"line\": {\"color\": \"rgb(20, 0, 145)\", \"width\": 2}, \"z\": [0, -0.687424], \"type\": \"scatter3d\"}, {\"mode\": \"lines\", \"y\": [0, 1.877486], \"x\": [0, -0.025691], \"line\": {\"color\": \"rgb(20, 0, 145)\", \"width\": 2}, \"z\": [0, -0.688758], \"type\": \"scatter3d\"}, {\"mode\": \"lines\", \"y\": [0, 1.877486], \"x\": [0, -0.025691], \"line\": {\"color\": \"rgb(20, 0, 145)\", \"width\": 2}, \"z\": [0, -0.688758], \"type\": \"scatter3d\"}, {\"mode\": \"lines\", \"y\": [0, 1.878534], \"x\": [0, -0.0228546], \"line\": {\"color\": \"rgb(20, 0, 145)\", \"width\": 2}, \"z\": [0, -0.685996], \"type\": \"scatter3d\"}, {\"mode\": \"lines\", \"y\": [0, 1.877752], \"x\": [0, -0.0247962], \"line\": {\"color\": \"rgb(20, 0, 145)\", \"width\": 2}, \"z\": [0, -0.688064], \"type\": \"scatter3d\"}, {\"mode\": \"lines\", \"y\": [0, 1.877824], \"x\": [0, -0.0250124], \"line\": {\"color\": \"rgb(20, 0, 145)\", \"width\": 2}, \"z\": [0, -0.687858], \"type\": \"scatter3d\"}, {\"mode\": \"lines\", \"y\": [0, 1.877578], \"x\": [0, -0.025733], \"line\": {\"color\": \"rgb(20, 0, 145)\", \"width\": 2}, \"z\": [0, -0.688504], \"type\": \"scatter3d\"}, {\"mode\": \"lines\", \"y\": [0, 1.877578], \"x\": [0, -0.025733], \"line\": {\"color\": \"rgb(20, 0, 145)\", \"width\": 2}, \"z\": [0, -0.688504], \"type\": \"scatter3d\"}, {\"mode\": \"lines\", \"y\": [0, 1.876548], \"x\": [0, -0.0272442], \"line\": {\"color\": \"rgb(20, 0, 145)\", \"width\": 2}, \"z\": [0, -0.691248], \"type\": \"scatter3d\"}, {\"mode\": \"lines\", \"y\": [0, 1.875672], \"x\": [0, -0.029519], \"line\": {\"color\": \"rgb(20, 0, 145)\", \"width\": 2}, \"z\": [0, -0.69353], \"type\": \"scatter3d\"}, {\"mode\": \"lines\", \"y\": [0, 1.874552], \"x\": [0, -0.0330256], \"line\": {\"color\": \"rgb(20, 0, 145)\", \"width\": 2}, \"z\": [0, -0.69639], \"type\": \"scatter3d\"}, {\"mode\": \"lines\", \"y\": [0, 1.874552], \"x\": [0, -0.0330256], \"line\": {\"color\": \"rgb(20, 0, 145)\", \"width\": 2}, \"z\": [0, -0.69639], \"type\": \"scatter3d\"}, {\"mode\": \"lines\", \"y\": [0, 1.876214], \"x\": [0, -0.0332258], \"line\": {\"color\": \"rgb(20, 0, 145)\", \"width\": 2}, \"z\": [0, -0.691892], \"type\": \"scatter3d\"}, {\"mode\": \"lines\", \"y\": [0, 1.875552], \"x\": [0, -0.0282792], \"line\": {\"color\": \"rgb(20, 0, 145)\", \"width\": 2}, \"z\": [0, -0.693904], \"type\": \"scatter3d\"}, {\"mode\": \"lines\", \"y\": [0, 1.881402], \"x\": [0, -0.027656], \"line\": {\"color\": \"rgb(20, 0, 145)\", \"width\": 2}, \"z\": [0, -0.677912], \"type\": \"scatter3d\"}, {\"mode\": \"lines\", \"y\": [0, 1.88014], \"x\": [0, -0.028457], \"line\": {\"color\": \"rgb(20, 0, 145)\", \"width\": 2}, \"z\": [0, -0.681372], \"type\": \"scatter3d\"}, {\"mode\": \"lines\", \"y\": [0, 1.880792], \"x\": [0, -0.0230146], \"line\": {\"color\": \"rgb(20, 0, 145)\", \"width\": 2}, \"z\": [0, -0.679776], \"type\": \"scatter3d\"}, {\"mode\": \"lines\", \"y\": [0, 1.880792], \"x\": [0, -0.0230146], \"line\": {\"color\": \"rgb(20, 0, 145)\", \"width\": 2}, \"z\": [0, -0.679776], \"type\": \"scatter3d\"}, {\"mode\": \"lines\", \"y\": [0, 1.88177], \"x\": [0, -0.0238006], \"line\": {\"color\": \"rgb(20, 0, 145)\", \"width\": 2}, \"z\": [0, -0.677032], \"type\": \"scatter3d\"}, {\"mode\": \"lines\", \"y\": [0, 1.880698], \"x\": [0, -0.0226066], \"line\": {\"color\": \"rgb(20, 0, 145)\", \"width\": 2}, \"z\": [0, -0.680044], \"type\": \"scatter3d\"}, {\"mode\": \"lines\", \"y\": [0, 1.88062], \"x\": [0, -0.0206544], \"line\": {\"color\": \"rgb(20, 0, 145)\", \"width\": 2}, \"z\": [0, -0.680324], \"type\": \"scatter3d\"}, {\"mode\": \"lines\", \"y\": [0, 1.88062], \"x\": [0, -0.0206544], \"line\": {\"color\": \"rgb(20, 0, 145)\", \"width\": 2}, \"z\": [0, -0.680324], \"type\": \"scatter3d\"}, {\"mode\": \"lines\", \"y\": [0, 1.878908], \"x\": [0, -0.0230328], \"line\": {\"color\": \"rgb(20, 0, 145)\", \"width\": 2}, \"z\": [0, -0.684964], \"type\": \"scatter3d\"}, {\"mode\": \"lines\", \"y\": [0, 1.876896], \"x\": [0, -0.0228144], \"line\": {\"color\": \"rgb(20, 0, 145)\", \"width\": 2}, \"z\": [0, -0.690466], \"type\": \"scatter3d\"}, {\"mode\": \"lines\", \"y\": [0, 1.87822], \"x\": [0, -0.0249658], \"line\": {\"color\": \"rgb(20, 0, 145)\", \"width\": 2}, \"z\": [0, -0.686782], \"type\": \"scatter3d\"}, {\"mode\": \"lines\", \"y\": [0, 1.87712], \"x\": [0, -0.029402], \"line\": {\"color\": \"rgb(20, 0, 145)\", \"width\": 2}, \"z\": [0, -0.689604], \"type\": \"scatter3d\"}, {\"mode\": \"lines\", \"y\": [0, 1.880586], \"x\": [0, -0.0262146], \"line\": {\"color\": \"rgb(20, 0, 145)\", \"width\": 2}, \"z\": [0, -0.680226], \"type\": \"scatter3d\"}, {\"mode\": \"lines\", \"y\": [0, 1.880586], \"x\": [0, -0.0262146], \"line\": {\"color\": \"rgb(20, 0, 145)\", \"width\": 2}, \"z\": [0, -0.680226], \"type\": \"scatter3d\"}, {\"mode\": \"lines\", \"y\": [0, 1.87636], \"x\": [0, -0.0283382], \"line\": {\"color\": \"rgb(20, 0, 145)\", \"width\": 2}, \"z\": [0, -0.691718], \"type\": \"scatter3d\"}, {\"mode\": \"lines\", \"y\": [0, 1.877942], \"x\": [0, -0.0286582], \"line\": {\"color\": \"rgb(20, 0, 145)\", \"width\": 2}, \"z\": [0, -0.687392], \"type\": \"scatter3d\"}, {\"mode\": \"lines\", \"y\": [0, 1.876084], \"x\": [0, -0.0333506], \"line\": {\"color\": \"rgb(20, 0, 145)\", \"width\": 2}, \"z\": [0, -0.692238], \"type\": \"scatter3d\"}, {\"mode\": \"lines\", \"y\": [0, 1.877336], \"x\": [0, -0.0305434], \"line\": {\"color\": \"rgb(20, 0, 145)\", \"width\": 2}, \"z\": [0, -0.68897], \"type\": \"scatter3d\"}, {\"mode\": \"lines\", \"y\": [0, 1.877336], \"x\": [0, -0.0305434], \"line\": {\"color\": \"rgb(20, 0, 145)\", \"width\": 2}, \"z\": [0, -0.68897], \"type\": \"scatter3d\"}, {\"mode\": \"lines\", \"y\": [0, 1.88191], \"x\": [0, -0.0261594], \"line\": {\"color\": \"rgb(20, 0, 145)\", \"width\": 2}, \"z\": [0, -0.676558], \"type\": \"scatter3d\"}, {\"mode\": \"lines\", \"y\": [0, 1.87764], \"x\": [0, -0.0304356], \"line\": {\"color\": \"rgb(20, 0, 145)\", \"width\": 2}, \"z\": [0, -0.688142], \"type\": \"scatter3d\"}, {\"mode\": \"lines\", \"y\": [0, 1.87633], \"x\": [0, -0.0294076], \"line\": {\"color\": \"rgb(20, 0, 145)\", \"width\": 2}, \"z\": [0, -0.69175], \"type\": \"scatter3d\"}, {\"mode\": \"lines\", \"y\": [0, 1.87633], \"x\": [0, -0.0294076], \"line\": {\"color\": \"rgb(20, 0, 145)\", \"width\": 2}, \"z\": [0, -0.69175], \"type\": \"scatter3d\"}, {\"mode\": \"lines\", \"y\": [0, 1.87939], \"x\": [0, -0.0277582], \"line\": {\"color\": \"rgb(20, 0, 145)\", \"width\": 2}, \"z\": [0, -0.683462], \"type\": \"scatter3d\"}, {\"mode\": \"lines\", \"y\": [0, 1.882074], \"x\": [0, -0.0252112], \"line\": {\"color\": \"rgb(20, 0, 145)\", \"width\": 2}, \"z\": [0, -0.676136], \"type\": \"scatter3d\"}, {\"mode\": \"lines\", \"y\": [0, 1.882932], \"x\": [0, -0.0240952], \"line\": {\"color\": \"rgb(20, 0, 145)\", \"width\": 2}, \"z\": [0, -0.673784], \"type\": \"scatter3d\"}, {\"mode\": \"lines\", \"y\": [0, 1.882276], \"x\": [0, -0.0263378], \"line\": {\"color\": \"rgb(20, 0, 145)\", \"width\": 2}, \"z\": [0, -0.675534], \"type\": \"scatter3d\"}, {\"mode\": \"lines\", \"y\": [0, 1.885784], \"x\": [0, -0.0232486], \"line\": {\"color\": \"rgb(20, 0, 145)\", \"width\": 2}, \"z\": [0, -0.665792], \"type\": \"scatter3d\"}, {\"mode\": \"lines\", \"y\": [0, 1.885784], \"x\": [0, -0.0232486], \"line\": {\"color\": \"rgb(20, 0, 145)\", \"width\": 2}, \"z\": [0, -0.665792], \"type\": \"scatter3d\"}, {\"mode\": \"lines\", \"y\": [0, 1.884774], \"x\": [0, -0.0246028], \"line\": {\"color\": \"rgb(20, 0, 145)\", \"width\": 2}, \"z\": [0, -0.668596], \"type\": \"scatter3d\"}, {\"mode\": \"lines\", \"y\": [0, 1.88167], \"x\": [0, -0.0212168], \"line\": {\"color\": \"rgb(20, 0, 145)\", \"width\": 2}, \"z\": [0, -0.677398], \"type\": \"scatter3d\"}, {\"mode\": \"lines\", \"y\": [0, 1.878948], \"x\": [0, -0.0256154], \"line\": {\"color\": \"rgb(20, 0, 145)\", \"width\": 2}, \"z\": [0, -0.68476], \"type\": \"scatter3d\"}, {\"mode\": \"lines\", \"y\": [0, 1.879786], \"x\": [0, -0.0268664], \"line\": {\"color\": \"rgb(20, 0, 145)\", \"width\": 2}, \"z\": [0, -0.682412], \"type\": \"scatter3d\"}, {\"mode\": \"lines\", \"y\": [0, 1.879786], \"x\": [0, -0.0268664], \"line\": {\"color\": \"rgb(20, 0, 145)\", \"width\": 2}, \"z\": [0, -0.682412], \"type\": \"scatter3d\"}, {\"mode\": \"lines\", \"y\": [0, 1.880082], \"x\": [0, -0.0276834], \"line\": {\"color\": \"rgb(20, 0, 145)\", \"width\": 2}, \"z\": [0, -0.68156], \"type\": \"scatter3d\"}, {\"mode\": \"lines\", \"y\": [0, 1.879824], \"x\": [0, -0.0251716], \"line\": {\"color\": \"rgb(20, 0, 145)\", \"width\": 2}, \"z\": [0, -0.682368], \"type\": \"scatter3d\"}, {\"mode\": \"lines\", \"y\": [0, 1.879678], \"x\": [0, 0.1963716], \"line\": {\"color\": \"rgb(20, 0, 145)\", \"width\": 2}, \"z\": [0, -0.654406], \"type\": \"scatter3d\"}, {\"mode\": \"lines\", \"y\": [0, 1.878452], \"x\": [0, 0.1923424], \"line\": {\"color\": \"rgb(20, 0, 145)\", \"width\": 2}, \"z\": [0, -0.659108], \"type\": \"scatter3d\"}, {\"mode\": \"lines\", \"y\": [0, 1.878452], \"x\": [0, 0.1923424], \"line\": {\"color\": \"rgb(20, 0, 145)\", \"width\": 2}, \"z\": [0, -0.659108], \"type\": \"scatter3d\"}, {\"mode\": \"lines\", \"y\": [0, 1.88102], \"x\": [0, 0.190139], \"line\": {\"color\": \"rgb(20, 0, 145)\", \"width\": 2}, \"z\": [0, -0.652392], \"type\": \"scatter3d\"}, {\"mode\": \"lines\", \"y\": [0, 1.881468], \"x\": [0, 0.1920304], \"line\": {\"color\": \"rgb(20, 0, 145)\", \"width\": 2}, \"z\": [0, -0.650542], \"type\": \"scatter3d\"}, {\"mode\": \"lines\", \"y\": [0, 1.879244], \"x\": [0, 0.1857408], \"line\": {\"color\": \"rgb(20, 0, 145)\", \"width\": 2}, \"z\": [0, -0.658742], \"type\": \"scatter3d\"}, {\"mode\": \"lines\", \"y\": [0, 1.881058], \"x\": [0, 0.191738], \"line\": {\"color\": \"rgb(20, 0, 145)\", \"width\": 2}, \"z\": [0, -0.651812], \"type\": \"scatter3d\"}, {\"mode\": \"lines\", \"y\": [0, 1.882612], \"x\": [0, 0.1797566], \"line\": {\"color\": \"rgb(20, 0, 145)\", \"width\": 2}, \"z\": [0, -0.65074], \"type\": \"scatter3d\"}, {\"mode\": \"lines\", \"y\": [0, 1.882612], \"x\": [0, 0.1797566], \"line\": {\"color\": \"rgb(20, 0, 145)\", \"width\": 2}, \"z\": [0, -0.65074], \"type\": \"scatter3d\"}, {\"mode\": \"lines\", \"y\": [0, 1.885214], \"x\": [0, 0.1909882], \"line\": {\"color\": \"rgb(20, 0, 145)\", \"width\": 2}, \"z\": [0, -0.639918], \"type\": \"scatter3d\"}, {\"mode\": \"lines\", \"y\": [0, 1.882596], \"x\": [0, 0.184482], \"line\": {\"color\": \"rgb(20, 0, 145)\", \"width\": 2}, \"z\": [0, -0.64946], \"type\": \"scatter3d\"}, {\"mode\": \"lines\", \"y\": [0, 1.882596], \"x\": [0, 0.184482], \"line\": {\"color\": \"rgb(20, 0, 145)\", \"width\": 2}, \"z\": [0, -0.64946], \"type\": \"scatter3d\"}, {\"mode\": \"lines\", \"y\": [0, 1.883464], \"x\": [0, 0.1799268], \"line\": {\"color\": \"rgb(20, 0, 145)\", \"width\": 2}, \"z\": [0, -0.648222], \"type\": \"scatter3d\"}, {\"mode\": \"lines\", \"y\": [0, 1.883178], \"x\": [0, 0.188701], \"line\": {\"color\": \"rgb(20, 0, 145)\", \"width\": 2}, \"z\": [0, -0.646556], \"type\": \"scatter3d\"}, {\"mode\": \"lines\", \"y\": [0, 1.885036], \"x\": [0, 0.1742866], \"line\": {\"color\": \"rgb(20, 0, 145)\", \"width\": 2}, \"z\": [0, -0.645184], \"type\": \"scatter3d\"}, {\"mode\": \"lines\", \"y\": [0, 1.884592], \"x\": [0, 0.1847546], \"line\": {\"color\": \"rgb(20, 0, 145)\", \"width\": 2}, \"z\": [0, -0.64357], \"type\": \"scatter3d\"}, {\"mode\": \"lines\", \"y\": [0, 1.882164], \"x\": [0, 0.1806858], \"line\": {\"color\": \"rgb(20, 0, 145)\", \"width\": 2}, \"z\": [0, -0.651778], \"type\": \"scatter3d\"}, {\"mode\": \"lines\", \"y\": [0, 1.882164], \"x\": [0, 0.1806858], \"line\": {\"color\": \"rgb(20, 0, 145)\", \"width\": 2}, \"z\": [0, -0.651778], \"type\": \"scatter3d\"}, {\"mode\": \"lines\", \"y\": [0, 1.883334], \"x\": [0, 0.1756114], \"line\": {\"color\": \"rgb(20, 0, 145)\", \"width\": 2}, \"z\": [0, -0.649782], \"type\": \"scatter3d\"}, {\"mode\": \"lines\", \"y\": [0, 1.880812], \"x\": [0, 0.1831328], \"line\": {\"color\": \"rgb(20, 0, 145)\", \"width\": 2}, \"z\": [0, -0.65499], \"type\": \"scatter3d\"}, {\"mode\": \"lines\", \"y\": [0, 1.881662], \"x\": [0, 0.1747332], \"line\": {\"color\": \"rgb(20, 0, 145)\", \"width\": 2}, \"z\": [0, -0.654842], \"type\": \"scatter3d\"}, {\"mode\": \"lines\", \"y\": [0, 1.881662], \"x\": [0, 0.1747332], \"line\": {\"color\": \"rgb(20, 0, 145)\", \"width\": 2}, \"z\": [0, -0.654842], \"type\": \"scatter3d\"}, {\"mode\": \"lines\", \"y\": [0, 1.885078], \"x\": [0, 0.187586], \"line\": {\"color\": \"rgb(20, 0, 145)\", \"width\": 2}, \"z\": [0, -0.641324], \"type\": \"scatter3d\"}, {\"mode\": \"lines\", \"y\": [0, 1.88347], \"x\": [0, 0.1943228], \"line\": {\"color\": \"rgb(20, 0, 145)\", \"width\": 2}, \"z\": [0, -0.644032], \"type\": \"scatter3d\"}, {\"mode\": \"lines\", \"y\": [0, 1.882838], \"x\": [0, 0.200712], \"line\": {\"color\": \"rgb(20, 0, 145)\", \"width\": 2}, \"z\": [0, -0.643924], \"type\": \"scatter3d\"}, {\"mode\": \"lines\", \"y\": [0, 1.880614], \"x\": [0, 0.195385], \"line\": {\"color\": \"rgb(20, 0, 145)\", \"width\": 2}, \"z\": [0, -0.65201], \"type\": \"scatter3d\"}, {\"mode\": \"lines\", \"y\": [0, 1.879734], \"x\": [0, 0.199628], \"line\": {\"color\": \"rgb(20, 0, 145)\", \"width\": 2}, \"z\": [0, -0.653262], \"type\": \"scatter3d\"}, {\"mode\": \"lines\", \"y\": [0, 1.879734], \"x\": [0, 0.199628], \"line\": {\"color\": \"rgb(20, 0, 145)\", \"width\": 2}, \"z\": [0, -0.653262], \"type\": \"scatter3d\"}, {\"mode\": \"lines\", \"y\": [0, 1.881146], \"x\": [0, 0.201838], \"line\": {\"color\": \"rgb(20, 0, 145)\", \"width\": 2}, \"z\": [0, -0.6485], \"type\": \"scatter3d\"}, {\"mode\": \"lines\", \"y\": [0, 1.878644], \"x\": [0, 0.1991992], \"line\": {\"color\": \"rgb(20, 0, 145)\", \"width\": 2}, \"z\": [0, -0.656518], \"type\": \"scatter3d\"}, {\"mode\": \"lines\", \"y\": [0, 1.879014], \"x\": [0, 0.1976472], \"line\": {\"color\": \"rgb(20, 0, 145)\", \"width\": 2}, \"z\": [0, -0.65593], \"type\": \"scatter3d\"}, {\"mode\": \"lines\", \"y\": [0, 1.88132], \"x\": [0, 0.1955962], \"line\": {\"color\": \"rgb(20, 0, 145)\", \"width\": 2}, \"z\": [0, -0.649906], \"type\": \"scatter3d\"}, {\"mode\": \"lines\", \"y\": [0, 1.879114], \"x\": [0, 0.1980534], \"line\": {\"color\": \"rgb(20, 0, 145)\", \"width\": 2}, \"z\": [0, -0.65552], \"type\": \"scatter3d\"}, {\"mode\": \"lines\", \"y\": [0, 1.879468], \"x\": [0, 0.1934168], \"line\": {\"color\": \"rgb(20, 0, 145)\", \"width\": 2}, \"z\": [0, -0.655892], \"type\": \"scatter3d\"}, {\"mode\": \"lines\", \"y\": [0, 1.880958], \"x\": [0, 0.1957368], \"line\": {\"color\": \"rgb(20, 0, 145)\", \"width\": 2}, \"z\": [0, -0.65091], \"type\": \"scatter3d\"}, {\"mode\": \"lines\", \"y\": [0, 1.880958], \"x\": [0, 0.1957368], \"line\": {\"color\": \"rgb(20, 0, 145)\", \"width\": 2}, \"z\": [0, -0.65091], \"type\": \"scatter3d\"}, {\"mode\": \"lines\", \"y\": [0, 1.880126], \"x\": [0, 0.1880838], \"line\": {\"color\": \"rgb(20, 0, 145)\", \"width\": 2}, \"z\": [0, -0.655556], \"type\": \"scatter3d\"}, {\"mode\": \"lines\", \"y\": [0, 1.879874], \"x\": [0, 0.180787], \"line\": {\"color\": \"rgb(20, 0, 145)\", \"width\": 2}, \"z\": [0, -0.658322], \"type\": \"scatter3d\"}, {\"mode\": \"lines\", \"y\": [0, 1.878908], \"x\": [0, 0.1728852], \"line\": {\"color\": \"rgb(20, 0, 145)\", \"width\": 2}, \"z\": [0, -0.663188], \"type\": \"scatter3d\"}, {\"mode\": \"lines\", \"y\": [0, 1.881686], \"x\": [0, 0.1819476], \"line\": {\"color\": \"rgb(20, 0, 145)\", \"width\": 2}, \"z\": [0, -0.6528], \"type\": \"scatter3d\"}, {\"mode\": \"lines\", \"y\": [0, 1.878992], \"x\": [0, 0.1769688], \"line\": {\"color\": \"rgb(20, 0, 145)\", \"width\": 2}, \"z\": [0, -0.661868], \"type\": \"scatter3d\"}, {\"mode\": \"lines\", \"y\": [0, 1.878992], \"x\": [0, 0.1769688], \"line\": {\"color\": \"rgb(20, 0, 145)\", \"width\": 2}, \"z\": [0, -0.661868], \"type\": \"scatter3d\"}, {\"mode\": \"lines\", \"y\": [0, 1.882734], \"x\": [0, 0.1809554], \"line\": {\"color\": \"rgb(20, 0, 145)\", \"width\": 2}, \"z\": [0, -0.650052], \"type\": \"scatter3d\"}, {\"mode\": \"lines\", \"y\": [0, 1.882296], \"x\": [0, 0.173271], \"line\": {\"color\": \"rgb(20, 0, 145)\", \"width\": 2}, \"z\": [0, -0.653406], \"type\": \"scatter3d\"}, {\"mode\": \"lines\", \"y\": [0, 1.88272], \"x\": [0, 0.1800972], \"line\": {\"color\": \"rgb(20, 0, 145)\", \"width\": 2}, \"z\": [0, -0.650328], \"type\": \"scatter3d\"}, {\"mode\": \"lines\", \"y\": [0, 1.88272], \"x\": [0, 0.1800972], \"line\": {\"color\": \"rgb(20, 0, 145)\", \"width\": 2}, \"z\": [0, -0.650328], \"type\": \"scatter3d\"}, {\"mode\": \"lines\", \"y\": [0, 1.88282], \"x\": [0, 0.1765818], \"line\": {\"color\": \"rgb(20, 0, 145)\", \"width\": 2}, \"z\": [0, -0.651004], \"type\": \"scatter3d\"}, {\"mode\": \"lines\", \"y\": [0, 1.881208], \"x\": [0, 0.1735354], \"line\": {\"color\": \"rgb(20, 0, 145)\", \"width\": 2}, \"z\": [0, -0.656462], \"type\": \"scatter3d\"}, {\"mode\": \"lines\", \"y\": [0, 1.880126], \"x\": [0, 0.1782484], \"line\": {\"color\": \"rgb(20, 0, 145)\", \"width\": 2}, \"z\": [0, -0.658296], \"type\": \"scatter3d\"}, {\"mode\": \"lines\", \"y\": [0, 1.879782], \"x\": [0, 0.1696922], \"line\": {\"color\": \"rgb(20, 0, 145)\", \"width\": 2}, \"z\": [0, -0.661532], \"type\": \"scatter3d\"}, {\"mode\": \"lines\", \"y\": [0, 1.883406], \"x\": [0, 0.1858136], \"line\": {\"color\": \"rgb(20, 0, 145)\", \"width\": 2}, \"z\": [0, -0.64673], \"type\": \"scatter3d\"}, {\"mode\": \"lines\", \"y\": [0, 1.883406], \"x\": [0, 0.1858136], \"line\": {\"color\": \"rgb(20, 0, 145)\", \"width\": 2}, \"z\": [0, -0.64673], \"type\": \"scatter3d\"}, {\"mode\": \"lines\", \"y\": [0, 1.883128], \"x\": [0, 0.1759298], \"line\": {\"color\": \"rgb(20, 0, 145)\", \"width\": 2}, \"z\": [0, -0.650288], \"type\": \"scatter3d\"}, {\"mode\": \"lines\", \"y\": [0, 1.884164], \"x\": [0, 0.1775746], \"line\": {\"color\": \"rgb(20, 0, 145)\", \"width\": 2}, \"z\": [0, -0.646834], \"type\": \"scatter3d\"}, {\"mode\": \"lines\", \"y\": [0, 1.882546], \"x\": [0, 0.1709468], \"line\": {\"color\": \"rgb(20, 0, 145)\", \"width\": 2}, \"z\": [0, -0.653298], \"type\": \"scatter3d\"}, {\"mode\": \"lines\", \"y\": [0, 1.880786], \"x\": [0, 0.1743166], \"line\": {\"color\": \"rgb(20, 0, 145)\", \"width\": 2}, \"z\": [0, -0.657466], \"type\": \"scatter3d\"}, {\"mode\": \"lines\", \"y\": [0, 1.880786], \"x\": [0, 0.1743166], \"line\": {\"color\": \"rgb(20, 0, 145)\", \"width\": 2}, \"z\": [0, -0.657466], \"type\": \"scatter3d\"}, {\"mode\": \"lines\", \"y\": [0, 1.880868], \"x\": [0, 0.177672], \"line\": {\"color\": \"rgb(20, 0, 145)\", \"width\": 2}, \"z\": [0, -0.656326], \"type\": \"scatter3d\"}, {\"mode\": \"lines\", \"y\": [0, 1.880794], \"x\": [0, 0.1683256], \"line\": {\"color\": \"rgb(20, 0, 145)\", \"width\": 2}, \"z\": [0, -0.659002], \"type\": \"scatter3d\"}, {\"mode\": \"lines\", \"y\": [0, 1.882104], \"x\": [0, 0.1832526], \"line\": {\"color\": \"rgb(20, 0, 145)\", \"width\": 2}, \"z\": [0, -0.651234], \"type\": \"scatter3d\"}, {\"mode\": \"lines\", \"y\": [0, 1.881414], \"x\": [0, 0.1745826], \"line\": {\"color\": \"rgb(20, 0, 145)\", \"width\": 2}, \"z\": [0, -0.65559], \"type\": \"scatter3d\"}, {\"mode\": \"lines\", \"y\": [0, 1.881414], \"x\": [0, 0.1745826], \"line\": {\"color\": \"rgb(20, 0, 145)\", \"width\": 2}, \"z\": [0, -0.65559], \"type\": \"scatter3d\"}, {\"mode\": \"lines\", \"y\": [0, 1.882674], \"x\": [0, 0.1783842], \"line\": {\"color\": \"rgb(20, 0, 145)\", \"width\": 2}, \"z\": [0, -0.650934], \"type\": \"scatter3d\"}, {\"mode\": \"lines\", \"y\": [0, 1.881292], \"x\": [0, 0.1777044], \"line\": {\"color\": \"rgb(20, 0, 145)\", \"width\": 2}, \"z\": [0, -0.655106], \"type\": \"scatter3d\"}, {\"mode\": \"lines\", \"y\": [0, 1.881968], \"x\": [0, 0.1725028], \"line\": {\"color\": \"rgb(20, 0, 145)\", \"width\": 2}, \"z\": [0, -0.65455], \"type\": \"scatter3d\"}, {\"mode\": \"lines\", \"y\": [0, 1.883458], \"x\": [0, 0.1838968], \"line\": {\"color\": \"rgb(20, 0, 145)\", \"width\": 2}, \"z\": [0, -0.647122], \"type\": \"scatter3d\"}, {\"mode\": \"lines\", \"y\": [0, 1.883458], \"x\": [0, 0.1838968], \"line\": {\"color\": \"rgb(20, 0, 145)\", \"width\": 2}, \"z\": [0, -0.647122], \"type\": \"scatter3d\"}, {\"mode\": \"lines\", \"y\": [0, 1.881126], \"x\": [0, 0.1738764], \"line\": {\"color\": \"rgb(20, 0, 145)\", \"width\": 2}, \"z\": [0, -0.656608], \"type\": \"scatter3d\"}, {\"mode\": \"lines\", \"y\": [0, 1.88268], \"x\": [0, 0.1769566], \"line\": {\"color\": \"rgb(20, 0, 145)\", \"width\": 2}, \"z\": [0, -0.651308], \"type\": \"scatter3d\"}, {\"mode\": \"lines\", \"y\": [0, 1.880774], \"x\": [0, 0.1782786], \"line\": {\"color\": \"rgb(20, 0, 145)\", \"width\": 2}, \"z\": [0, -0.656434], \"type\": \"scatter3d\"}, {\"mode\": \"lines\", \"y\": [0, 1.884054], \"x\": [0, 0.1816604], \"line\": {\"color\": \"rgb(20, 0, 145)\", \"width\": 2}, \"z\": [0, -0.64602], \"type\": \"scatter3d\"}, {\"mode\": \"lines\", \"y\": [0, 1.884054], \"x\": [0, 0.1816604], \"line\": {\"color\": \"rgb(20, 0, 145)\", \"width\": 2}, \"z\": [0, -0.64602], \"type\": \"scatter3d\"}, {\"mode\": \"lines\", \"y\": [0, 1.880996], \"x\": [0, 0.1840016], \"line\": {\"color\": \"rgb(20, 0, 145)\", \"width\": 2}, \"z\": [0, -0.654216], \"type\": \"scatter3d\"}, {\"mode\": \"lines\", \"y\": [0, 1.879134], \"x\": [0, 0.1705586], \"line\": {\"color\": \"rgb(20, 0, 145)\", \"width\": 2}, \"z\": [0, -0.66315], \"type\": \"scatter3d\"}, {\"mode\": \"lines\", \"y\": [0, 1.879742], \"x\": [0, 0.1859962], \"line\": {\"color\": \"rgb(20, 0, 145)\", \"width\": 2}, \"z\": [0, -0.65725], \"type\": \"scatter3d\"}, {\"mode\": \"lines\", \"y\": [0, 1.880018], \"x\": [0, 0.1726786], \"line\": {\"color\": \"rgb(20, 0, 145)\", \"width\": 2}, \"z\": [0, -0.660086], \"type\": \"scatter3d\"}, {\"mode\": \"lines\", \"y\": [0, 1.880018], \"x\": [0, 0.1726786], \"line\": {\"color\": \"rgb(20, 0, 145)\", \"width\": 2}, \"z\": [0, -0.660086], \"type\": \"scatter3d\"}, {\"mode\": \"lines\", \"y\": [0, 1.881256], \"x\": [0, 0.1816886], \"line\": {\"color\": \"rgb(20, 0, 145)\", \"width\": 2}, \"z\": [0, -0.654112], \"type\": \"scatter3d\"}, {\"mode\": \"lines\", \"y\": [0, 1.881082], \"x\": [0, 0.1754976], \"line\": {\"color\": \"rgb(20, 0, 145)\", \"width\": 2}, \"z\": [0, -0.6563], \"type\": \"scatter3d\"}, {\"mode\": \"lines\", \"y\": [0, 1.881922], \"x\": [0, 0.1794558], \"line\": {\"color\": \"rgb(20, 0, 145)\", \"width\": 2}, \"z\": [0, -0.652814], \"type\": \"scatter3d\"}, {\"mode\": \"lines\", \"y\": [0, 1.881048], \"x\": [0, 0.1817726], \"line\": {\"color\": \"rgb(20, 0, 145)\", \"width\": 2}, \"z\": [0, -0.654692], \"type\": \"scatter3d\"}, {\"mode\": \"lines\", \"y\": [0, 1.881048], \"x\": [0, 0.1817726], \"line\": {\"color\": \"rgb(20, 0, 145)\", \"width\": 2}, \"z\": [0, -0.654692], \"type\": \"scatter3d\"}, {\"mode\": \"lines\", \"y\": [0, 1.881656], \"x\": [0, 0.1774742], \"line\": {\"color\": \"rgb(20, 0, 145)\", \"width\": 2}, \"z\": [0, -0.654124], \"type\": \"scatter3d\"}, {\"mode\": \"lines\", \"y\": [0, 1.881072], \"x\": [0, 0.1830008], \"line\": {\"color\": \"rgb(20, 0, 145)\", \"width\": 2}, \"z\": [0, -0.654276], \"type\": \"scatter3d\"}, {\"mode\": \"lines\", \"y\": [0, 1.88208], \"x\": [0, 0.1814004], \"line\": {\"color\": \"rgb(20, 0, 145)\", \"width\": 2}, \"z\": [0, -0.651818], \"type\": \"scatter3d\"}, {\"mode\": \"lines\", \"y\": [0, 1.883244], \"x\": [0, 0.184693], \"line\": {\"color\": \"rgb(20, 0, 145)\", \"width\": 2}, \"z\": [0, -0.64752], \"type\": \"scatter3d\"}, {\"mode\": \"lines\", \"y\": [0, 1.883244], \"x\": [0, 0.184693], \"line\": {\"color\": \"rgb(20, 0, 145)\", \"width\": 2}, \"z\": [0, -0.64752], \"type\": \"scatter3d\"}, {\"mode\": \"lines\", \"y\": [0, 1.882152], \"x\": [0, 0.1868988], \"line\": {\"color\": \"rgb(20, 0, 145)\", \"width\": 2}, \"z\": [0, -0.650058], \"type\": \"scatter3d\"}, {\"mode\": \"lines\", \"y\": [0, 1.882714], \"x\": [0, 0.1838012], \"line\": {\"color\": \"rgb(20, 0, 145)\", \"width\": 2}, \"z\": [0, -0.649314], \"type\": \"scatter3d\"}, {\"mode\": \"lines\", \"y\": [0, 1.883246], \"x\": [0, 0.1931156], \"line\": {\"color\": \"rgb(20, 0, 145)\", \"width\": 2}, \"z\": [0, -0.645054], \"type\": \"scatter3d\"}, {\"mode\": \"lines\", \"y\": [0, 1.880656], \"x\": [0, 0.1821232], \"line\": {\"color\": \"rgb(20, 0, 145)\", \"width\": 2}, \"z\": [0, -0.655714], \"type\": \"scatter3d\"}, {\"mode\": \"lines\", \"y\": [0, 1.884134], \"x\": [0, 0.1930616], \"line\": {\"color\": \"rgb(20, 0, 145)\", \"width\": 2}, \"z\": [0, -0.64247], \"type\": \"scatter3d\"}, {\"mode\": \"lines\", \"y\": [0, 1.884134], \"x\": [0, 0.1930616], \"line\": {\"color\": \"rgb(20, 0, 145)\", \"width\": 2}, \"z\": [0, -0.64247], \"type\": \"scatter3d\"}, {\"mode\": \"lines\", \"y\": [0, 1.881326], \"x\": [0, 0.1837508], \"line\": {\"color\": \"rgb(20, 0, 145)\", \"width\": 2}, \"z\": [0, -0.653334], \"type\": \"scatter3d\"}, {\"mode\": \"lines\", \"y\": [0, 1.880826], \"x\": [0, 0.1810272], \"line\": {\"color\": \"rgb(20, 0, 145)\", \"width\": 2}, \"z\": [0, -0.65553], \"type\": \"scatter3d\"}, {\"mode\": \"lines\", \"y\": [0, 1.880826], \"x\": [0, 0.1810272], \"line\": {\"color\": \"rgb(20, 0, 145)\", \"width\": 2}, \"z\": [0, -0.65553], \"type\": \"scatter3d\"}, {\"mode\": \"lines\", \"y\": [0, 1.882218], \"x\": [0, 0.1893624], \"line\": {\"color\": \"rgb(20, 0, 145)\", \"width\": 2}, \"z\": [0, -0.649152], \"type\": \"scatter3d\"}, {\"mode\": \"lines\", \"y\": [0, 1.881626], \"x\": [0, 0.1834808], \"line\": {\"color\": \"rgb(20, 0, 145)\", \"width\": 2}, \"z\": [0, -0.65255], \"type\": \"scatter3d\"}, {\"mode\": \"lines\", \"y\": [0, 1.883232], \"x\": [0, 0.1876198], \"line\": {\"color\": \"rgb(20, 0, 145)\", \"width\": 2}, \"z\": [0, -0.64671], \"type\": \"scatter3d\"}, {\"mode\": \"lines\", \"y\": [0, 1.882998], \"x\": [0, 0.1808108], \"line\": {\"color\": \"rgb(20, 0, 145)\", \"width\": 2}, \"z\": [0, -0.64933], \"type\": \"scatter3d\"}, {\"mode\": \"lines\", \"y\": [0, 1.987118], \"x\": [0, -0.226612], \"line\": {\"color\": \"rgb(20, 0, 145)\", \"width\": 2}, \"z\": [0, -0.00251254], \"type\": \"scatter3d\"}, {\"mode\": \"lines\", \"y\": [0, 1.987118], \"x\": [0, -0.226612], \"line\": {\"color\": \"rgb(20, 0, 145)\", \"width\": 2}, \"z\": [0, -0.00251254], \"type\": \"scatter3d\"}, {\"mode\": \"lines\", \"y\": [0, 1.98762], \"x\": [0, -0.222148], \"line\": {\"color\": \"rgb(20, 0, 145)\", \"width\": 2}, \"z\": [0, -0.00387968], \"type\": \"scatter3d\"}, {\"mode\": \"lines\", \"y\": [0, 1.985394], \"x\": [0, -0.241238], \"line\": {\"color\": \"rgb(20, 0, 145)\", \"width\": 2}, \"z\": [0, -0.00365654], \"type\": \"scatter3d\"}, {\"mode\": \"lines\", \"y\": [0, 1.986054], \"x\": [0, -0.23576], \"line\": {\"color\": \"rgb(20, 0, 145)\", \"width\": 2}, \"z\": [0, -0.003094], \"type\": \"scatter3d\"}, {\"mode\": \"lines\", \"y\": [0, 1.985578], \"x\": [0, -0.239658], \"line\": {\"color\": \"rgb(20, 0, 145)\", \"width\": 2}, \"z\": [0, -0.00675102], \"type\": \"scatter3d\"}, {\"mode\": \"lines\", \"y\": [0, 1.985578], \"x\": [0, -0.239658], \"line\": {\"color\": \"rgb(20, 0, 145)\", \"width\": 2}, \"z\": [0, -0.00675102], \"type\": \"scatter3d\"}, {\"mode\": \"lines\", \"y\": [0, 1.985978], \"x\": [0, -0.236348], \"line\": {\"color\": \"rgb(20, 0, 145)\", \"width\": 2}, \"z\": [0, -0.0057792], \"type\": \"scatter3d\"}, {\"mode\": \"lines\", \"y\": [0, 1.98554], \"x\": [0, -0.239894], \"line\": {\"color\": \"rgb(20, 0, 145)\", \"width\": 2}, \"z\": [0, -0.00922258], \"type\": \"scatter3d\"}, {\"mode\": \"lines\", \"y\": [0, 1.986294], \"x\": [0, -0.2337], \"line\": {\"color\": \"rgb(20, 0, 145)\", \"width\": 2}, \"z\": [0, -0.00410312], \"type\": \"scatter3d\"}, {\"mode\": \"lines\", \"y\": [0, 1.985872], \"x\": [0, -0.237162], \"line\": {\"color\": \"rgb(20, 0, 145)\", \"width\": 2}, \"z\": [0, -0.00842036], \"type\": \"scatter3d\"}, {\"mode\": \"lines\", \"y\": [0, 1.98591], \"x\": [0, -0.236944], \"line\": {\"color\": \"rgb(20, 0, 145)\", \"width\": 2}, \"z\": [0, -0.00469172], \"type\": \"scatter3d\"}, {\"mode\": \"lines\", \"y\": [0, 1.98591], \"x\": [0, -0.236944], \"line\": {\"color\": \"rgb(20, 0, 145)\", \"width\": 2}, \"z\": [0, -0.00469172], \"type\": \"scatter3d\"}, {\"mode\": \"lines\", \"y\": [0, 1.985946], \"x\": [0, -0.236234], \"line\": {\"color\": \"rgb(20, 0, 145)\", \"width\": 2}, \"z\": [0, -0.01459638], \"type\": \"scatter3d\"}, {\"mode\": \"lines\", \"y\": [0, 1.986454], \"x\": [0, -0.232248], \"line\": {\"color\": \"rgb(20, 0, 145)\", \"width\": 2}, \"z\": [0, -0.00796142], \"type\": \"scatter3d\"}, {\"mode\": \"lines\", \"y\": [0, 1.986484], \"x\": [0, -0.231858], \"line\": {\"color\": \"rgb(20, 0, 145)\", \"width\": 2}, \"z\": [0, -0.01100466], \"type\": \"scatter3d\"}, {\"mode\": \"lines\", \"y\": [0, 1.986484], \"x\": [0, -0.231858], \"line\": {\"color\": \"rgb(20, 0, 145)\", \"width\": 2}, \"z\": [0, -0.01100466], \"type\": \"scatter3d\"}, {\"mode\": \"lines\", \"y\": [0, 1.985588], \"x\": [0, -0.23951], \"line\": {\"color\": \"rgb(20, 0, 145)\", \"width\": 2}, \"z\": [0, -0.008758], \"type\": \"scatter3d\"}, {\"mode\": \"lines\", \"y\": [0, 1.986528], \"x\": [0, -0.23147], \"line\": {\"color\": \"rgb(20, 0, 145)\", \"width\": 2}, \"z\": [0, -0.01120332], \"type\": \"scatter3d\"}, {\"mode\": \"lines\", \"y\": [0, 1.986528], \"x\": [0, -0.23147], \"line\": {\"color\": \"rgb(20, 0, 145)\", \"width\": 2}, \"z\": [0, -0.01120332], \"type\": \"scatter3d\"}, {\"mode\": \"lines\", \"y\": [0, 1.984732], \"x\": [0, -0.246336], \"line\": {\"color\": \"rgb(20, 0, 145)\", \"width\": 2}, \"z\": [0, -0.01270618], \"type\": \"scatter3d\"}, {\"mode\": \"lines\", \"y\": [0, 1.984732], \"x\": [0, -0.246336], \"line\": {\"color\": \"rgb(20, 0, 145)\", \"width\": 2}, \"z\": [0, -0.01270618], \"type\": \"scatter3d\"}, {\"mode\": \"lines\", \"y\": [0, 1.984724], \"x\": [0, -0.246574], \"line\": {\"color\": \"rgb(20, 0, 145)\", \"width\": 2}, \"z\": [0, -0.00865494], \"type\": \"scatter3d\"}, {\"mode\": \"lines\", \"y\": [0, 1.984254], \"x\": [0, -0.250356], \"line\": {\"color\": \"rgb(20, 0, 145)\", \"width\": 2}, \"z\": [0, -0.00772602], \"type\": \"scatter3d\"}, {\"mode\": \"lines\", \"y\": [0, 1.984982], \"x\": [0, -0.244588], \"line\": {\"color\": \"rgb(20, 0, 145)\", \"width\": 2}, \"z\": [0, -0.00498988], \"type\": \"scatter3d\"}, {\"mode\": \"lines\", \"y\": [0, 1.984412], \"x\": [0, -0.248894], \"line\": {\"color\": \"rgb(20, 0, 145)\", \"width\": 2}, \"z\": [0, -0.01283776], \"type\": \"scatter3d\"}, {\"mode\": \"lines\", \"y\": [0, 1.984932], \"x\": [0, -0.244958], \"line\": {\"color\": \"rgb(20, 0, 145)\", \"width\": 2}, \"z\": [0, -0.00610254], \"type\": \"scatter3d\"}, {\"mode\": \"lines\", \"y\": [0, 1.984932], \"x\": [0, -0.244958], \"line\": {\"color\": \"rgb(20, 0, 145)\", \"width\": 2}, \"z\": [0, -0.00610254], \"type\": \"scatter3d\"}, {\"mode\": \"lines\", \"y\": [0, 1.984814], \"x\": [0, -0.245622], \"line\": {\"color\": \"rgb(20, 0, 145)\", \"width\": 2}, \"z\": [0, -0.0136319], \"type\": \"scatter3d\"}, {\"mode\": \"lines\", \"y\": [0, 1.984948], \"x\": [0, -0.244788], \"line\": {\"color\": \"rgb(20, 0, 145)\", \"width\": 2}, \"z\": [0, -0.0079885], \"type\": \"scatter3d\"}, {\"mode\": \"lines\", \"y\": [0, 1.984948], \"x\": [0, -0.244788], \"line\": {\"color\": \"rgb(20, 0, 145)\", \"width\": 2}, \"z\": [0, -0.0079885], \"type\": \"scatter3d\"}, {\"mode\": \"lines\", \"y\": [0, 1.985294], \"x\": [0, -0.241844], \"line\": {\"color\": \"rgb(20, 0, 145)\", \"width\": 2}, \"z\": [0, -0.01086104], \"type\": \"scatter3d\"}, {\"mode\": \"lines\", \"y\": [0, 1.985864], \"x\": [0, -0.237158], \"line\": {\"color\": \"rgb(20, 0, 145)\", \"width\": 2}, \"z\": [0, -0.00983], \"type\": \"scatter3d\"}, {\"mode\": \"lines\", \"y\": [0, 1.984934], \"x\": [0, -0.24436], \"line\": {\"color\": \"rgb(20, 0, 145)\", \"width\": 2}, \"z\": [0, -0.01799056], \"type\": \"scatter3d\"}, {\"mode\": \"lines\", \"y\": [0, 1.986104], \"x\": [0, -0.235042], \"line\": {\"color\": \"rgb(20, 0, 145)\", \"width\": 2}, \"z\": [0, -0.01220202], \"type\": \"scatter3d\"}, {\"mode\": \"lines\", \"y\": [0, 1.98587], \"x\": [0, -0.236846], \"line\": {\"color\": \"rgb(20, 0, 145)\", \"width\": 2}, \"z\": [0, -0.01502688], \"type\": \"scatter3d\"}, {\"mode\": \"lines\", \"y\": [0, 1.985632], \"x\": [0, -0.23886], \"line\": {\"color\": \"rgb(20, 0, 145)\", \"width\": 2}, \"z\": [0, -0.01444234], \"type\": \"scatter3d\"}, {\"mode\": \"lines\", \"y\": [0, 1.98558], \"x\": [0, -0.239508], \"line\": {\"color\": \"rgb(20, 0, 145)\", \"width\": 2}, \"z\": [0, -0.01056196], \"type\": \"scatter3d\"}, {\"mode\": \"lines\", \"y\": [0, 1.985042], \"x\": [0, -0.243926], \"line\": {\"color\": \"rgb(20, 0, 145)\", \"width\": 2}, \"z\": [0, -0.01040036], \"type\": \"scatter3d\"}, {\"mode\": \"lines\", \"y\": [0, 1.984872], \"x\": [0, -0.245176], \"line\": {\"color\": \"rgb(20, 0, 145)\", \"width\": 2}, \"z\": [0, -0.01319808], \"type\": \"scatter3d\"}, {\"mode\": \"lines\", \"y\": [0, 1.98519], \"x\": [0, -0.242724], \"line\": {\"color\": \"rgb(20, 0, 145)\", \"width\": 2}, \"z\": [0, -0.01024284], \"type\": \"scatter3d\"}, {\"mode\": \"lines\", \"y\": [0, 1.985528], \"x\": [0, -0.23999], \"line\": {\"color\": \"rgb(20, 0, 145)\", \"width\": 2}, \"z\": [0, -0.0092769], \"type\": \"scatter3d\"}, {\"mode\": \"lines\", \"y\": [0, 1.986088], \"x\": [0, -0.235318], \"line\": {\"color\": \"rgb(20, 0, 145)\", \"width\": 2}, \"z\": [0, -0.00882498], \"type\": \"scatter3d\"}, {\"mode\": \"lines\", \"y\": [0, 1.985844], \"x\": [0, -0.237246], \"line\": {\"color\": \"rgb(20, 0, 145)\", \"width\": 2}, \"z\": [0, -0.01169742], \"type\": \"scatter3d\"}, {\"mode\": \"lines\", \"y\": [0, 1.98592], \"x\": [0, -0.236632], \"line\": {\"color\": \"rgb(20, 0, 145)\", \"width\": 2}, \"z\": [0, -0.0110984], \"type\": \"scatter3d\"}, {\"mode\": \"lines\", \"y\": [0, 1.98592], \"x\": [0, -0.236632], \"line\": {\"color\": \"rgb(20, 0, 145)\", \"width\": 2}, \"z\": [0, -0.0110984], \"type\": \"scatter3d\"}, {\"mode\": \"lines\", \"y\": [0, 1.986094], \"x\": [0, -0.235092], \"line\": {\"color\": \"rgb(20, 0, 145)\", \"width\": 2}, \"z\": [0, -0.01288222], \"type\": \"scatter3d\"}, {\"mode\": \"lines\", \"y\": [0, 1.986152], \"x\": [0, -0.234406], \"line\": {\"color\": \"rgb(20, 0, 145)\", \"width\": 2}, \"z\": [0, -0.01605492], \"type\": \"scatter3d\"}, {\"mode\": \"lines\", \"y\": [0, 1.986966], \"x\": [0, -0.227762], \"line\": {\"color\": \"rgb(20, 0, 145)\", \"width\": 2}, \"z\": [0, -0.00965296], \"type\": \"scatter3d\"}, {\"mode\": \"lines\", \"y\": [0, 1.98594], \"x\": [0, -0.23625], \"line\": {\"color\": \"rgb(20, 0, 145)\", \"width\": 2}, \"z\": [0, -0.0151757], \"type\": \"scatter3d\"}, {\"mode\": \"lines\", \"y\": [0, 1.98594], \"x\": [0, -0.23625], \"line\": {\"color\": \"rgb(20, 0, 145)\", \"width\": 2}, \"z\": [0, -0.0151757], \"type\": \"scatter3d\"}, {\"mode\": \"lines\", \"y\": [0, 1.98708], \"x\": [0, -0.226498], \"line\": {\"color\": \"rgb(20, 0, 145)\", \"width\": 2}, \"z\": [0, -0.01452828], \"type\": \"scatter3d\"}, {\"mode\": \"lines\", \"y\": [0, 1.986974], \"x\": [0, -0.227416], \"line\": {\"color\": \"rgb(20, 0, 145)\", \"width\": 2}, \"z\": [0, -0.01460536], \"type\": \"scatter3d\"}, {\"mode\": \"lines\", \"y\": [0, 1.987362], \"x\": [0, -0.224116], \"line\": {\"color\": \"rgb(20, 0, 145)\", \"width\": 2}, \"z\": [0, -0.01272686], \"type\": \"scatter3d\"}, {\"mode\": \"lines\", \"y\": [0, 1.986996], \"x\": [0, -0.227174], \"line\": {\"color\": \"rgb(20, 0, 145)\", \"width\": 2}, \"z\": [0, -0.01534028], \"type\": \"scatter3d\"}, {\"mode\": \"lines\", \"y\": [0, 1.987512], \"x\": [0, -0.222582], \"line\": {\"color\": \"rgb(20, 0, 145)\", \"width\": 2}, \"z\": [0, -0.01589984], \"type\": \"scatter3d\"}, {\"mode\": \"lines\", \"y\": [0, 1.987512], \"x\": [0, -0.222582], \"line\": {\"color\": \"rgb(20, 0, 145)\", \"width\": 2}, \"z\": [0, -0.01589984], \"type\": \"scatter3d\"}, {\"mode\": \"lines\", \"y\": [0, 1.987818], \"x\": [0, -0.22032], \"line\": {\"color\": \"rgb(20, 0, 145)\", \"width\": 2}, \"z\": [0, -0.0064664], \"type\": \"scatter3d\"}, {\"mode\": \"lines\", \"y\": [0, 1.98746], \"x\": [0, -0.222964], \"line\": {\"color\": \"rgb(20, 0, 145)\", \"width\": 2}, \"z\": [0, -0.01696312], \"type\": \"scatter3d\"}, {\"mode\": \"lines\", \"y\": [0, 1.988034], \"x\": [0, -0.218056], \"line\": {\"color\": \"rgb(20, 0, 145)\", \"width\": 2}, \"z\": [0, -0.01307648], \"type\": \"scatter3d\"}, {\"mode\": \"lines\", \"y\": [0, 1.988034], \"x\": [0, -0.218056], \"line\": {\"color\": \"rgb(20, 0, 145)\", \"width\": 2}, \"z\": [0, -0.01307648], \"type\": \"scatter3d\"}, {\"mode\": \"lines\", \"y\": [0, 1.987736], \"x\": [0, -0.220864], \"line\": {\"color\": \"rgb(20, 0, 145)\", \"width\": 2}, \"z\": [0, -0.01099078], \"type\": \"scatter3d\"}, {\"mode\": \"lines\", \"y\": [0, 1.988118], \"x\": [0, -0.21738], \"line\": {\"color\": \"rgb(20, 0, 145)\", \"width\": 2}, \"z\": [0, -0.01140516], \"type\": \"scatter3d\"}, {\"mode\": \"lines\", \"y\": [0, 1.987906], \"x\": [0, -0.2193], \"line\": {\"color\": \"rgb(20, 0, 145)\", \"width\": 2}, \"z\": [0, -0.01186102], \"type\": \"scatter3d\"}, {\"mode\": \"lines\", \"y\": [0, 1.987824], \"x\": [0, -0.219798], \"line\": {\"color\": \"rgb(20, 0, 145)\", \"width\": 2}, \"z\": [0, -0.01566092], \"type\": \"scatter3d\"}, {\"mode\": \"lines\", \"y\": [0, 1.987824], \"x\": [0, -0.219798], \"line\": {\"color\": \"rgb(20, 0, 145)\", \"width\": 2}, \"z\": [0, -0.01566092], \"type\": \"scatter3d\"}, {\"mode\": \"lines\", \"y\": [0, 1.987436], \"x\": [0, -0.223474], \"line\": {\"color\": \"rgb(20, 0, 145)\", \"width\": 2}, \"z\": [0, -0.01268284], \"type\": \"scatter3d\"}, {\"mode\": \"lines\", \"y\": [0, 1.987568], \"x\": [0, -0.222238], \"line\": {\"color\": \"rgb(20, 0, 145)\", \"width\": 2}, \"z\": [0, -0.01362512], \"type\": \"scatter3d\"}, {\"mode\": \"lines\", \"y\": [0, 1.987344], \"x\": [0, -0.2242], \"line\": {\"color\": \"rgb(20, 0, 145)\", \"width\": 2}, \"z\": [0, -0.01419772], \"type\": \"scatter3d\"}, {\"mode\": \"lines\", \"y\": [0, 1.987272], \"x\": [0, -0.224784], \"line\": {\"color\": \"rgb(20, 0, 145)\", \"width\": 2}, \"z\": [0, -0.01490072], \"type\": \"scatter3d\"}, {\"mode\": \"lines\", \"y\": [0, 1.987272], \"x\": [0, -0.224784], \"line\": {\"color\": \"rgb(20, 0, 145)\", \"width\": 2}, \"z\": [0, -0.01490072], \"type\": \"scatter3d\"}, {\"mode\": \"lines\", \"y\": [0, 1.986448], \"x\": [0, -0.231992], \"line\": {\"color\": \"rgb(20, 0, 145)\", \"width\": 2}, \"z\": [0, -0.01435774], \"type\": \"scatter3d\"}, {\"mode\": \"lines\", \"y\": [0, 1.986532], \"x\": [0, -0.231414], \"line\": {\"color\": \"rgb(20, 0, 145)\", \"width\": 2}, \"z\": [0, -0.0116761], \"type\": \"scatter3d\"}, {\"mode\": \"lines\", \"y\": [0, 1.98665], \"x\": [0, -0.230378], \"line\": {\"color\": \"rgb(20, 0, 145)\", \"width\": 2}, \"z\": [0, -0.01226992], \"type\": \"scatter3d\"}, {\"mode\": \"lines\", \"y\": [0, 1.98635], \"x\": [0, -0.23293], \"line\": {\"color\": \"rgb(20, 0, 145)\", \"width\": 2}, \"z\": [0, -0.01243848], \"type\": \"scatter3d\"}, {\"mode\": \"lines\", \"y\": [0, 1.98635], \"x\": [0, -0.23293], \"line\": {\"color\": \"rgb(20, 0, 145)\", \"width\": 2}, \"z\": [0, -0.01243848], \"type\": \"scatter3d\"}, {\"mode\": \"lines\", \"y\": [0, 1.986292], \"x\": [0, -0.233152], \"line\": {\"color\": \"rgb(20, 0, 145)\", \"width\": 2}, \"z\": [0, -0.0167821], \"type\": \"scatter3d\"}, {\"mode\": \"lines\", \"y\": [0, 1.986128], \"x\": [0, -0.234772], \"line\": {\"color\": \"rgb(20, 0, 145)\", \"width\": 2}, \"z\": [0, -0.01332542], \"type\": \"scatter3d\"}, {\"mode\": \"lines\", \"y\": [0, 1.984908], \"x\": [0, -0.24521], \"line\": {\"color\": \"rgb(20, 0, 145)\", \"width\": 2}, \"z\": [0, -0.003596], \"type\": \"scatter3d\"}, {\"mode\": \"lines\", \"y\": [0, 1.98521], \"x\": [0, -0.242762], \"line\": {\"color\": \"rgb(20, 0, 145)\", \"width\": 2}, \"z\": [0, -0.00210834], \"type\": \"scatter3d\"}, {\"mode\": \"lines\", \"y\": [0, 1.98521], \"x\": [0, -0.242762], \"line\": {\"color\": \"rgb(20, 0, 145)\", \"width\": 2}, \"z\": [0, -0.00210834], \"type\": \"scatter3d\"}, {\"mode\": \"lines\", \"y\": [0, 1.985012], \"x\": [0, -0.244384], \"line\": {\"color\": \"rgb(20, 0, 145)\", \"width\": 2}, \"z\": [0, -0.001327786], \"type\": \"scatter3d\"}, {\"mode\": \"lines\", \"y\": [0, 1.985712], \"x\": [0, -0.238632], \"line\": {\"color\": \"rgb(20, 0, 145)\", \"width\": 2}, \"z\": [0, 8.21536e-05], \"type\": \"scatter3d\"}, {\"mode\": \"lines\", \"y\": [0, 1.98539], \"x\": [0, -0.24129], \"line\": {\"color\": \"rgb(20, 0, 145)\", \"width\": 2}, \"z\": [0, -0.00242934], \"type\": \"scatter3d\"}, {\"mode\": \"lines\", \"y\": [0, 1.985388], \"x\": [0, -0.241288], \"line\": {\"color\": \"rgb(20, 0, 145)\", \"width\": 2}, \"z\": [0, -0.00341504], \"type\": \"scatter3d\"}, {\"mode\": \"lines\", \"y\": [0, 1.98533], \"x\": [0, -0.241748], \"line\": {\"color\": \"rgb(20, 0, 145)\", \"width\": 2}, \"z\": [0, -0.00454994], \"type\": \"scatter3d\"}, {\"mode\": \"lines\", \"y\": [0, 1.98533], \"x\": [0, -0.241748], \"line\": {\"color\": \"rgb(20, 0, 145)\", \"width\": 2}, \"z\": [0, -0.00454994], \"type\": \"scatter3d\"}, {\"mode\": \"lines\", \"y\": [0, 1.985412], \"x\": [0, -0.241098], \"line\": {\"color\": \"rgb(20, 0, 145)\", \"width\": 2}, \"z\": [0, -0.00293624], \"type\": \"scatter3d\"}, {\"mode\": \"lines\", \"y\": [0, 1.985392], \"x\": [0, -0.24125], \"line\": {\"color\": \"rgb(20, 0, 145)\", \"width\": 2}, \"z\": [0, -0.00430128], \"type\": \"scatter3d\"}, {\"mode\": \"lines\", \"y\": [0, 1.986028], \"x\": [0, -0.235886], \"line\": {\"color\": \"rgb(20, 0, 145)\", \"width\": 2}, \"z\": [0, -0.00709226], \"type\": \"scatter3d\"}, {\"mode\": \"lines\", \"y\": [0, 1.985712], \"x\": [0, -0.238378], \"line\": {\"color\": \"rgb(20, 0, 145)\", \"width\": 2}, \"z\": [0, -0.01122452], \"type\": \"scatter3d\"}, {\"mode\": \"lines\", \"y\": [0, 1.985712], \"x\": [0, -0.238378], \"line\": {\"color\": \"rgb(20, 0, 145)\", \"width\": 2}, \"z\": [0, -0.01122452], \"type\": \"scatter3d\"}, {\"mode\": \"lines\", \"y\": [0, 1.985976], \"x\": [0, -0.236116], \"line\": {\"color\": \"rgb(20, 0, 145)\", \"width\": 2}, \"z\": [0, -0.01227226], \"type\": \"scatter3d\"}, {\"mode\": \"lines\", \"y\": [0, 1.985426], \"x\": [0, -0.240476], \"line\": {\"color\": \"rgb(20, 0, 145)\", \"width\": 2}, \"z\": [0, -0.01606386], \"type\": \"scatter3d\"}, {\"mode\": \"lines\", \"y\": [0, 1.985358], \"x\": [0, -0.24116], \"line\": {\"color\": \"rgb(20, 0, 145)\", \"width\": 2}, \"z\": [0, -0.01407356], \"type\": \"scatter3d\"}, {\"mode\": \"lines\", \"y\": [0, 1.985358], \"x\": [0, -0.24116], \"line\": {\"color\": \"rgb(20, 0, 145)\", \"width\": 2}, \"z\": [0, -0.01407356], \"type\": \"scatter3d\"}, {\"mode\": \"lines\", \"y\": [0, 1.98555], \"x\": [0, -0.239636], \"line\": {\"color\": \"rgb(20, 0, 145)\", \"width\": 2}, \"z\": [0, -0.0130117], \"type\": \"scatter3d\"}, {\"mode\": \"lines\", \"y\": [0, 1.985046], \"x\": [0, -0.243388], \"line\": {\"color\": \"rgb(20, 0, 145)\", \"width\": 2}, \"z\": [0, -0.01886128], \"type\": \"scatter3d\"}, {\"mode\": \"lines\", \"y\": [0, 1.985008], \"x\": [0, -0.243854], \"line\": {\"color\": \"rgb(20, 0, 145)\", \"width\": 2}, \"z\": [0, -0.01675882], \"type\": \"scatter3d\"}, {\"mode\": \"lines\", \"y\": [0, 1.98559], \"x\": [0, -0.239088], \"line\": {\"color\": \"rgb(20, 0, 145)\", \"width\": 2}, \"z\": [0, -0.01637034], \"type\": \"scatter3d\"}, {\"mode\": \"lines\", \"y\": [0, 1.999372], \"x\": [0, 0.0454582], \"line\": {\"color\": \"rgb(20, 0, 145)\", \"width\": 2}, \"z\": [0, -0.0211772], \"type\": \"scatter3d\"}, {\"mode\": \"lines\", \"y\": [0, 1.999372], \"x\": [0, 0.0454582], \"line\": {\"color\": \"rgb(20, 0, 145)\", \"width\": 2}, \"z\": [0, -0.0211772], \"type\": \"scatter3d\"}, {\"mode\": \"lines\", \"y\": [0, 1.99925], \"x\": [0, 0.049713], \"line\": {\"color\": \"rgb(20, 0, 145)\", \"width\": 2}, \"z\": [0, -0.022927], \"type\": \"scatter3d\"}, {\"mode\": \"lines\", \"y\": [0, 1.999168], \"x\": [0, 0.053093], \"line\": {\"color\": \"rgb(20, 0, 145)\", \"width\": 2}, \"z\": [0, -0.0225768], \"type\": \"scatter3d\"}, {\"mode\": \"lines\", \"y\": [0, 1.999226], \"x\": [0, 0.0513288], \"line\": {\"color\": \"rgb(20, 0, 145)\", \"width\": 2}, \"z\": [0, -0.0214892], \"type\": \"scatter3d\"}, {\"mode\": \"lines\", \"y\": [0, 1.999198], \"x\": [0, 0.0528192], \"line\": {\"color\": \"rgb(20, 0, 145)\", \"width\": 2}, \"z\": [0, -0.020491], \"type\": \"scatter3d\"}, {\"mode\": \"lines\", \"y\": [0, 1.999198], \"x\": [0, 0.0528192], \"line\": {\"color\": \"rgb(20, 0, 145)\", \"width\": 2}, \"z\": [0, -0.020491], \"type\": \"scatter3d\"}, {\"mode\": \"lines\", \"y\": [0, 1.999066], \"x\": [0, 0.0578858], \"line\": {\"color\": \"rgb(20, 0, 145)\", \"width\": 2}, \"z\": [0, -0.01964112], \"type\": \"scatter3d\"}, {\"mode\": \"lines\", \"y\": [0, 1.999184], \"x\": [0, 0.0541838], \"line\": {\"color\": \"rgb(20, 0, 145)\", \"width\": 2}, \"z\": [0, -0.01802452], \"type\": \"scatter3d\"}, {\"mode\": \"lines\", \"y\": [0, 1.998962], \"x\": [0, 0.0615182], \"line\": {\"color\": \"rgb(20, 0, 145)\", \"width\": 2}, \"z\": [0, -0.01921142], \"type\": \"scatter3d\"}, {\"mode\": \"lines\", \"y\": [0, 1.999118], \"x\": [0, 0.0563656], \"line\": {\"color\": \"rgb(20, 0, 145)\", \"width\": 2}, \"z\": [0, -0.01874336], \"type\": \"scatter3d\"}, {\"mode\": \"lines\", \"y\": [0, 1.999118], \"x\": [0, 0.0563656], \"line\": {\"color\": \"rgb(20, 0, 145)\", \"width\": 2}, \"z\": [0, -0.01874336], \"type\": \"scatter3d\"}, {\"mode\": \"lines\", \"y\": [0, 1.999138], \"x\": [0, 0.0538776], \"line\": {\"color\": \"rgb(20, 0, 145)\", \"width\": 2}, \"z\": [0, -0.0234026], \"type\": \"scatter3d\"}, {\"mode\": \"lines\", \"y\": [0, 1.998984], \"x\": [0, 0.0607654], \"line\": {\"color\": \"rgb(20, 0, 145)\", \"width\": 2}, \"z\": [0, -0.01920274], \"type\": \"scatter3d\"}, {\"mode\": \"lines\", \"y\": [0, 1.999148], \"x\": [0, 0.055266], \"line\": {\"color\": \"rgb(20, 0, 145)\", \"width\": 2}, \"z\": [0, -0.0188173], \"type\": \"scatter3d\"}, {\"mode\": \"lines\", \"y\": [0, 1.999148], \"x\": [0, 0.055266], \"line\": {\"color\": \"rgb(20, 0, 145)\", \"width\": 2}, \"z\": [0, -0.0188173], \"type\": \"scatter3d\"}, {\"mode\": \"lines\", \"y\": [0, 1.998934], \"x\": [0, 0.0627362], \"line\": {\"color\": \"rgb(20, 0, 145)\", \"width\": 2}, \"z\": [0, -0.0181638], \"type\": \"scatter3d\"}, {\"mode\": \"lines\", \"y\": [0, 1.998934], \"x\": [0, 0.0627362], \"line\": {\"color\": \"rgb(20, 0, 145)\", \"width\": 2}, \"z\": [0, -0.0181638], \"type\": \"scatter3d\"}, {\"mode\": \"lines\", \"y\": [0, 1.998954], \"x\": [0, 0.0621436], \"line\": {\"color\": \"rgb(20, 0, 145)\", \"width\": 2}, \"z\": [0, -0.01780946], \"type\": \"scatter3d\"}, {\"mode\": \"lines\", \"y\": [0, 1.99922], \"x\": [0, 0.0532068], \"line\": {\"color\": \"rgb(20, 0, 145)\", \"width\": 2}, \"z\": [0, -0.01698962], \"type\": \"scatter3d\"}, {\"mode\": \"lines\", \"y\": [0, 1.999016], \"x\": [0, 0.059445], \"line\": {\"color\": \"rgb(20, 0, 145)\", \"width\": 2}, \"z\": [0, -0.0201294], \"type\": \"scatter3d\"}, {\"mode\": \"lines\", \"y\": [0, 1.999016], \"x\": [0, 0.059445], \"line\": {\"color\": \"rgb(20, 0, 145)\", \"width\": 2}, \"z\": [0, -0.0201294], \"type\": \"scatter3d\"}, {\"mode\": \"lines\", \"y\": [0, 1.999036], \"x\": [0, 0.0569762], \"line\": {\"color\": \"rgb(20, 0, 145)\", \"width\": 2}, \"z\": [0, -0.02473], \"type\": \"scatter3d\"}, {\"mode\": \"lines\", \"y\": [0, 1.999022], \"x\": [0, 0.058089], \"line\": {\"color\": \"rgb(20, 0, 145)\", \"width\": 2}, \"z\": [0, -0.0230866], \"type\": \"scatter3d\"}, {\"mode\": \"lines\", \"y\": [0, 1.998978], \"x\": [0, 0.0593142], \"line\": {\"color\": \"rgb(20, 0, 145)\", \"width\": 2}, \"z\": [0, -0.0238272], \"type\": \"scatter3d\"}, {\"mode\": \"lines\", \"y\": [0, 1.99898], \"x\": [0, 0.0601288], \"line\": {\"color\": \"rgb(20, 0, 145)\", \"width\": 2}, \"z\": [0, -0.0214384], \"type\": \"scatter3d\"}, {\"mode\": \"lines\", \"y\": [0, 1.99898], \"x\": [0, 0.0601288], \"line\": {\"color\": \"rgb(20, 0, 145)\", \"width\": 2}, \"z\": [0, -0.0214384], \"type\": \"scatter3d\"}, {\"mode\": \"lines\", \"y\": [0, 1.998914], \"x\": [0, 0.061467], \"line\": {\"color\": \"rgb(20, 0, 145)\", \"width\": 2}, \"z\": [0, -0.0237164], \"type\": \"scatter3d\"}, {\"mode\": \"lines\", \"y\": [0, 1.999124], \"x\": [0, 0.0545352], \"line\": {\"color\": \"rgb(20, 0, 145)\", \"width\": 2}, \"z\": [0, -0.0229246], \"type\": \"scatter3d\"}, {\"mode\": \"lines\", \"y\": [0, 1.99909], \"x\": [0, 0.0565692], \"line\": {\"color\": \"rgb(20, 0, 145)\", \"width\": 2}, \"z\": [0, -0.0210022], \"type\": \"scatter3d\"}, {\"mode\": \"lines\", \"y\": [0, 1.99912], \"x\": [0, 0.0527848], \"line\": {\"color\": \"rgb(20, 0, 145)\", \"width\": 2}, \"z\": [0, -0.0270508], \"type\": \"scatter3d\"}, {\"mode\": \"lines\", \"y\": [0, 1.99912], \"x\": [0, 0.0527848], \"line\": {\"color\": \"rgb(20, 0, 145)\", \"width\": 2}, \"z\": [0, -0.0270508], \"type\": \"scatter3d\"}, {\"mode\": \"lines\", \"y\": [0, 1.998808], \"x\": [0, 0.0644504], \"line\": {\"color\": \"rgb(20, 0, 145)\", \"width\": 2}, \"z\": [0, -0.0247844], \"type\": \"scatter3d\"}, {\"mode\": \"lines\", \"y\": [0, 1.99904], \"x\": [0, 0.0587458], \"line\": {\"color\": \"rgb(20, 0, 145)\", \"width\": 2}, \"z\": [0, -0.01961096], \"type\": \"scatter3d\"}, {\"mode\": \"lines\", \"y\": [0, 1.998738], \"x\": [0, 0.0673098], \"line\": {\"color\": \"rgb(20, 0, 145)\", \"width\": 2}, \"z\": [0, -0.0227146], \"type\": \"scatter3d\"}, {\"mode\": \"lines\", \"y\": [0, 1.998934], \"x\": [0, 0.06236], \"line\": {\"color\": \"rgb(20, 0, 145)\", \"width\": 2}, \"z\": [0, -0.01924436], \"type\": \"scatter3d\"}, {\"mode\": \"lines\", \"y\": [0, 1.998934], \"x\": [0, 0.06236], \"line\": {\"color\": \"rgb(20, 0, 145)\", \"width\": 2}, \"z\": [0, -0.01924436], \"type\": \"scatter3d\"}, {\"mode\": \"lines\", \"y\": [0, 1.999014], \"x\": [0, 0.0587706], \"line\": {\"color\": \"rgb(20, 0, 145)\", \"width\": 2}, \"z\": [0, -0.0221804], \"type\": \"scatter3d\"}, {\"mode\": \"lines\", \"y\": [0, 1.999022], \"x\": [0, 0.0591794], \"line\": {\"color\": \"rgb(20, 0, 145)\", \"width\": 2}, \"z\": [0, -0.02029], \"type\": \"scatter3d\"}, {\"mode\": \"lines\", \"y\": [0, 1.999102], \"x\": [0, 0.0565862], \"line\": {\"color\": \"rgb(20, 0, 145)\", \"width\": 2}, \"z\": [0, -0.0197233], \"type\": \"scatter3d\"}, {\"mode\": \"lines\", \"y\": [0, 1.999012], \"x\": [0, 0.0579806], \"line\": {\"color\": \"rgb(20, 0, 145)\", \"width\": 2}, \"z\": [0, -0.0243264], \"type\": \"scatter3d\"}, {\"mode\": \"lines\", \"y\": [0, 1.999012], \"x\": [0, 0.0579806], \"line\": {\"color\": \"rgb(20, 0, 145)\", \"width\": 2}, \"z\": [0, -0.0243264], \"type\": \"scatter3d\"}, {\"mode\": \"lines\", \"y\": [0, 1.99891], \"x\": [0, 0.060795], \"line\": {\"color\": \"rgb(20, 0, 145)\", \"width\": 2}, \"z\": [0, -0.025674], \"type\": \"scatter3d\"}, {\"mode\": \"lines\", \"y\": [0, 1.999098], \"x\": [0, 0.0558574], \"line\": {\"color\": \"rgb(20, 0, 145)\", \"width\": 2}, \"z\": [0, -0.0221254], \"type\": \"scatter3d\"}, {\"mode\": \"lines\", \"y\": [0, 1.999108], \"x\": [0, 0.05617], \"line\": {\"color\": \"rgb(20, 0, 145)\", \"width\": 2}, \"z\": [0, -0.0202804], \"type\": \"scatter3d\"}, {\"mode\": \"lines\", \"y\": [0, 1.999228], \"x\": [0, 0.0524664], \"line\": {\"color\": \"rgb(20, 0, 145)\", \"width\": 2}, \"z\": [0, -0.01832438], \"type\": \"scatter3d\"}, {\"mode\": \"lines\", \"y\": [0, 1.999228], \"x\": [0, 0.0524664], \"line\": {\"color\": \"rgb(20, 0, 145)\", \"width\": 2}, \"z\": [0, -0.01832438], \"type\": \"scatter3d\"}, {\"mode\": \"lines\", \"y\": [0, 1.999046], \"x\": [0, 0.0549142], \"line\": {\"color\": \"rgb(20, 0, 145)\", \"width\": 2}, \"z\": [0, -0.0282624], \"type\": \"scatter3d\"}, {\"mode\": \"lines\", \"y\": [0, 1.999014], \"x\": [0, 0.0571866], \"line\": {\"color\": \"rgb(20, 0, 145)\", \"width\": 2}, \"z\": [0, -0.0259552], \"type\": \"scatter3d\"}, {\"mode\": \"lines\", \"y\": [0, 1.99912], \"x\": [0, 0.0555176], \"line\": {\"color\": \"rgb(20, 0, 145)\", \"width\": 2}, \"z\": [0, -0.0208192], \"type\": \"scatter3d\"}, {\"mode\": \"lines\", \"y\": [0, 1.999208], \"x\": [0, 0.0518272], \"line\": {\"color\": \"rgb(20, 0, 145)\", \"width\": 2}, \"z\": [0, -0.0218956], \"type\": \"scatter3d\"}, {\"mode\": \"lines\", \"y\": [0, 1.999208], \"x\": [0, 0.0518272], \"line\": {\"color\": \"rgb(20, 0, 145)\", \"width\": 2}, \"z\": [0, -0.0218956], \"type\": \"scatter3d\"}, {\"mode\": \"lines\", \"y\": [0, 1.999308], \"x\": [0, 0.0471734], \"line\": {\"color\": \"rgb(20, 0, 145)\", \"width\": 2}, \"z\": [0, -0.023337], \"type\": \"scatter3d\"}, {\"mode\": \"lines\", \"y\": [0, 1.999172], \"x\": [0, 0.050567], \"line\": {\"color\": \"rgb(20, 0, 145)\", \"width\": 2}, \"z\": [0, -0.0274696], \"type\": \"scatter3d\"}, {\"mode\": \"lines\", \"y\": [0, 1.999346], \"x\": [0, 0.045084], \"line\": {\"color\": \"rgb(20, 0, 145)\", \"width\": 2}, \"z\": [0, -0.0242014], \"type\": \"scatter3d\"}, {\"mode\": \"lines\", \"y\": [0, 1.999012], \"x\": [0, 0.0570194], \"line\": {\"color\": \"rgb(20, 0, 145)\", \"width\": 2}, \"z\": [0, -0.0264858], \"type\": \"scatter3d\"}, {\"mode\": \"lines\", \"y\": [0, 1.999012], \"x\": [0, 0.0570194], \"line\": {\"color\": \"rgb(20, 0, 145)\", \"width\": 2}, \"z\": [0, -0.0264858], \"type\": \"scatter3d\"}, {\"mode\": \"lines\", \"y\": [0, 1.999198], \"x\": [0, 0.0504158], \"line\": {\"color\": \"rgb(20, 0, 145)\", \"width\": 2}, \"z\": [0, -0.0257782], \"type\": \"scatter3d\"}, {\"mode\": \"lines\", \"y\": [0, 1.999182], \"x\": [0, 0.049173], \"line\": {\"color\": \"rgb(20, 0, 145)\", \"width\": 2}, \"z\": [0, -0.029253], \"type\": \"scatter3d\"}, {\"mode\": \"lines\", \"y\": [0, 1.999356], \"x\": [0, 0.0461176], \"line\": {\"color\": \"rgb(20, 0, 145)\", \"width\": 2}, \"z\": [0, -0.0212308], \"type\": \"scatter3d\"}, {\"mode\": \"lines\", \"y\": [0, 1.99939], \"x\": [0, 0.0445532], \"line\": {\"color\": \"rgb(20, 0, 145)\", \"width\": 2}, \"z\": [0, -0.0212938], \"type\": \"scatter3d\"}, {\"mode\": \"lines\", \"y\": [0, 1.99939], \"x\": [0, 0.0445532], \"line\": {\"color\": \"rgb(20, 0, 145)\", \"width\": 2}, \"z\": [0, -0.0212938], \"type\": \"scatter3d\"}, {\"mode\": \"lines\", \"y\": [0, 1.999262], \"x\": [0, 0.0483516], \"line\": {\"color\": \"rgb(20, 0, 145)\", \"width\": 2}, \"z\": [0, -0.0248068], \"type\": \"scatter3d\"}, {\"mode\": \"lines\", \"y\": [0, 1.999428], \"x\": [0, 0.0418828], \"line\": {\"color\": \"rgb(20, 0, 145)\", \"width\": 2}, \"z\": [0, -0.023089], \"type\": \"scatter3d\"}, {\"mode\": \"lines\", \"y\": [0, 1.999304], \"x\": [0, 0.0485764], \"line\": {\"color\": \"rgb(20, 0, 145)\", \"width\": 2}, \"z\": [0, -0.0205958], \"type\": \"scatter3d\"}, {\"mode\": \"lines\", \"y\": [0, 1.999304], \"x\": [0, 0.0485764], \"line\": {\"color\": \"rgb(20, 0, 145)\", \"width\": 2}, \"z\": [0, -0.0205958], \"type\": \"scatter3d\"}, {\"mode\": \"lines\", \"y\": [0, 1.999306], \"x\": [0, 0.0475976], \"line\": {\"color\": \"rgb(20, 0, 145)\", \"width\": 2}, \"z\": [0, -0.0225352], \"type\": \"scatter3d\"}, {\"mode\": \"lines\", \"y\": [0, 1.999208], \"x\": [0, 0.0510552], \"line\": {\"color\": \"rgb(20, 0, 145)\", \"width\": 2}, \"z\": [0, -0.0236714], \"type\": \"scatter3d\"}, {\"mode\": \"lines\", \"y\": [0, 1.999232], \"x\": [0, 0.0499968], \"line\": {\"color\": \"rgb(20, 0, 145)\", \"width\": 2}, \"z\": [0, -0.0238472], \"type\": \"scatter3d\"}, {\"mode\": \"lines\", \"y\": [0, 1.999248], \"x\": [0, 0.050424], \"line\": {\"color\": \"rgb(20, 0, 145)\", \"width\": 2}, \"z\": [0, -0.0216226], \"type\": \"scatter3d\"}, {\"mode\": \"lines\", \"y\": [0, 1.999252], \"x\": [0, 0.0485158], \"line\": {\"color\": \"rgb(20, 0, 145)\", \"width\": 2}, \"z\": [0, -0.0252048], \"type\": \"scatter3d\"}, {\"mode\": \"lines\", \"y\": [0, 1.999252], \"x\": [0, 0.0485158], \"line\": {\"color\": \"rgb(20, 0, 145)\", \"width\": 2}, \"z\": [0, -0.0252048], \"type\": \"scatter3d\"}, {\"mode\": \"lines\", \"y\": [0, 1.999268], \"x\": [0, 0.0478454], \"line\": {\"color\": \"rgb(20, 0, 145)\", \"width\": 2}, \"z\": [0, -0.0252714], \"type\": \"scatter3d\"}, {\"mode\": \"lines\", \"y\": [0, 1.999182], \"x\": [0, 0.0520658], \"line\": {\"color\": \"rgb(20, 0, 145)\", \"width\": 2}, \"z\": [0, -0.0236378], \"type\": \"scatter3d\"}, {\"mode\": \"lines\", \"y\": [0, 1.999298], \"x\": [0, 0.049184], \"line\": {\"color\": \"rgb(20, 0, 145)\", \"width\": 2}, \"z\": [0, -0.01972822], \"type\": \"scatter3d\"}, {\"mode\": \"lines\", \"y\": [0, 1.999184], \"x\": [0, 0.051204], \"line\": {\"color\": \"rgb(20, 0, 145)\", \"width\": 2}, \"z\": [0, -0.0253766], \"type\": \"scatter3d\"}, {\"mode\": \"lines\", \"y\": [0, 1.999184], \"x\": [0, 0.051204], \"line\": {\"color\": \"rgb(20, 0, 145)\", \"width\": 2}, \"z\": [0, -0.0253766], \"type\": \"scatter3d\"}, {\"mode\": \"lines\", \"y\": [0, 1.999344], \"x\": [0, 0.0472888], \"line\": {\"color\": \"rgb(20, 0, 145)\", \"width\": 2}, \"z\": [0, -0.01972732], \"type\": \"scatter3d\"}, {\"mode\": \"lines\", \"y\": [0, 1.998926], \"x\": [0, 0.0581508], \"line\": {\"color\": \"rgb(20, 0, 145)\", \"width\": 2}, \"z\": [0, -0.0302582], \"type\": \"scatter3d\"}, {\"mode\": \"lines\", \"y\": [0, 1.999136], \"x\": [0, 0.0539784], \"line\": {\"color\": \"rgb(20, 0, 145)\", \"width\": 2}, \"z\": [0, -0.023237], \"type\": \"scatter3d\"}, {\"mode\": \"lines\", \"y\": [0, 1.999136], \"x\": [0, 0.0539784], \"line\": {\"color\": \"rgb(20, 0, 145)\", \"width\": 2}, \"z\": [0, -0.023237], \"type\": \"scatter3d\"}, {\"mode\": \"lines\", \"y\": [0, 1.999302], \"x\": [0, 0.048071], \"line\": {\"color\": \"rgb(20, 0, 145)\", \"width\": 2}, \"z\": [0, -0.0218484], \"type\": \"scatter3d\"}, {\"mode\": \"lines\", \"y\": [0, 1.999014], \"x\": [0, 0.057862], \"line\": {\"color\": \"rgb(20, 0, 145)\", \"width\": 2}, \"z\": [0, -0.0244272], \"type\": \"scatter3d\"}, {\"mode\": \"lines\", \"y\": [0, 1.999042], \"x\": [0, 0.057231], \"line\": {\"color\": \"rgb(20, 0, 145)\", \"width\": 2}, \"z\": [0, -0.0235968], \"type\": \"scatter3d\"}, {\"mode\": \"lines\", \"y\": [0, 1.999378], \"x\": [0, 0.043312], \"line\": {\"color\": \"rgb(20, 0, 145)\", \"width\": 2}, \"z\": [0, -0.024676], \"type\": \"scatter3d\"}, {\"mode\": \"lines\", \"y\": [0, 1.999244], \"x\": [0, 0.0512374], \"line\": {\"color\": \"rgb(20, 0, 145)\", \"width\": 2}, \"z\": [0, -0.01989252], \"type\": \"scatter3d\"}, {\"mode\": \"lines\", \"y\": [0, 1.999244], \"x\": [0, 0.0512374], \"line\": {\"color\": \"rgb(20, 0, 145)\", \"width\": 2}, \"z\": [0, -0.01989252], \"type\": \"scatter3d\"}, {\"mode\": \"lines\", \"y\": [0, 1.999192], \"x\": [0, 0.048158], \"line\": {\"color\": \"rgb(20, 0, 145)\", \"width\": 2}, \"z\": [0, -0.0302524], \"type\": \"scatter3d\"}, {\"mode\": \"lines\", \"y\": [0, 1.999178], \"x\": [0, 0.0529122], \"line\": {\"color\": \"rgb(20, 0, 145)\", \"width\": 2}, \"z\": [0, -0.022156], \"type\": \"scatter3d\"}, {\"mode\": \"lines\", \"y\": [0, 1.99917], \"x\": [0, 0.0503674], \"line\": {\"color\": \"rgb(20, 0, 145)\", \"width\": 2}, \"z\": [0, -0.0280394], \"type\": \"scatter3d\"}, {\"mode\": \"lines\", \"y\": [0, 1.999154], \"x\": [0, 0.0532014], \"line\": {\"color\": \"rgb(20, 0, 145)\", \"width\": 2}, \"z\": [0, -0.0234824], \"type\": \"scatter3d\"}, {\"mode\": \"lines\", \"y\": [0, 1.999154], \"x\": [0, 0.0532014], \"line\": {\"color\": \"rgb(20, 0, 145)\", \"width\": 2}, \"z\": [0, -0.0234824], \"type\": \"scatter3d\"}, {\"mode\": \"lines\", \"y\": [0, 1.999346], \"x\": [0, 0.0469586], \"line\": {\"color\": \"rgb(20, 0, 145)\", \"width\": 2}, \"z\": [0, -0.0201676], \"type\": \"scatter3d\"}, {\"mode\": \"lines\", \"y\": [0, 1.999152], \"x\": [0, 0.052855], \"line\": {\"color\": \"rgb(20, 0, 145)\", \"width\": 2}, \"z\": [0, -0.024376], \"type\": \"scatter3d\"}, {\"mode\": \"lines\", \"y\": [0, 1.999198], \"x\": [0, 0.0518156], \"line\": {\"color\": \"rgb(20, 0, 145)\", \"width\": 2}, \"z\": [0, -0.0227712], \"type\": \"scatter3d\"}, {\"mode\": \"lines\", \"y\": [0, 1.999198], \"x\": [0, 0.0518156], \"line\": {\"color\": \"rgb(20, 0, 145)\", \"width\": 2}, \"z\": [0, -0.0227712], \"type\": \"scatter3d\"}, {\"mode\": \"lines\", \"y\": [0, 1.999174], \"x\": [0, 0.0522266], \"line\": {\"color\": \"rgb(20, 0, 145)\", \"width\": 2}, \"z\": [0, -0.0239884], \"type\": \"scatter3d\"}, {\"mode\": \"lines\", \"y\": [0, 1.999274], \"x\": [0, 0.0461642], \"line\": {\"color\": \"rgb(20, 0, 145)\", \"width\": 2}, \"z\": [0, -0.0278488], \"type\": \"scatter3d\"}, {\"mode\": \"lines\", \"y\": [0, 1.999316], \"x\": [0, 0.0463232], \"line\": {\"color\": \"rgb(20, 0, 145)\", \"width\": 2}, \"z\": [0, -0.0242454], \"type\": \"scatter3d\"}, {\"mode\": \"lines\", \"y\": [0, 1.99921], \"x\": [0, 0.0492712], \"line\": {\"color\": \"rgb(20, 0, 145)\", \"width\": 2}, \"z\": [0, -0.0270886], \"type\": \"scatter3d\"}, {\"mode\": \"lines\", \"y\": [0, 1.981196], \"x\": [0, 0.27303], \"line\": {\"color\": \"rgb(20, 0, 145)\", \"width\": 2}, \"z\": [0, -0.01772078], \"type\": \"scatter3d\"}, {\"mode\": \"lines\", \"y\": [0, 1.98118], \"x\": [0, 0.273086], \"line\": {\"color\": \"rgb(20, 0, 145)\", \"width\": 2}, \"z\": [0, -0.01865864], \"type\": \"scatter3d\"}, {\"mode\": \"lines\", \"y\": [0, 1.981368], \"x\": [0, 0.27153], \"line\": {\"color\": \"rgb(20, 0, 145)\", \"width\": 2}, \"z\": [0, -0.0212036], \"type\": \"scatter3d\"}, {\"mode\": \"lines\", \"y\": [0, 1.981368], \"x\": [0, 0.27153], \"line\": {\"color\": \"rgb(20, 0, 145)\", \"width\": 2}, \"z\": [0, -0.0212036], \"type\": \"scatter3d\"}, {\"mode\": \"lines\", \"y\": [0, 1.981842], \"x\": [0, 0.268276], \"line\": {\"color\": \"rgb(20, 0, 145)\", \"width\": 2}, \"z\": [0, -0.01806614], \"type\": \"scatter3d\"}, {\"mode\": \"lines\", \"y\": [0, 1.982106], \"x\": [0, 0.2661], \"line\": {\"color\": \"rgb(20, 0, 145)\", \"width\": 2}, \"z\": [0, -0.021153], \"type\": \"scatter3d\"}, {\"mode\": \"lines\", \"y\": [0, 1.98215], \"x\": [0, 0.26565], \"line\": {\"color\": \"rgb(20, 0, 145)\", \"width\": 2}, \"z\": [0, -0.0226154], \"type\": \"scatter3d\"}, {\"mode\": \"lines\", \"y\": [0, 1.98209], \"x\": [0, 0.266244], \"line\": {\"color\": \"rgb(20, 0, 145)\", \"width\": 2}, \"z\": [0, -0.0208634], \"type\": \"scatter3d\"}, {\"mode\": \"lines\", \"y\": [0, 1.98209], \"x\": [0, 0.266244], \"line\": {\"color\": \"rgb(20, 0, 145)\", \"width\": 2}, \"z\": [0, -0.0208634], \"type\": \"scatter3d\"}, {\"mode\": \"lines\", \"y\": [0, 1.981932], \"x\": [0, 0.267468], \"line\": {\"color\": \"rgb(20, 0, 145)\", \"width\": 2}, \"z\": [0, -0.020141], \"type\": \"scatter3d\"}, {\"mode\": \"lines\", \"y\": [0, 1.982284], \"x\": [0, 0.264738], \"line\": {\"color\": \"rgb(20, 0, 145)\", \"width\": 2}, \"z\": [0, -0.021563], \"type\": \"scatter3d\"}, {\"mode\": \"lines\", \"y\": [0, 1.982118], \"x\": [0, 0.266328], \"line\": {\"color\": \"rgb(20, 0, 145)\", \"width\": 2}, \"z\": [0, -0.01669042], \"type\": \"scatter3d\"}, {\"mode\": \"lines\", \"y\": [0, 1.982118], \"x\": [0, 0.266328], \"line\": {\"color\": \"rgb(20, 0, 145)\", \"width\": 2}, \"z\": [0, -0.01669042], \"type\": \"scatter3d\"}, {\"mode\": \"lines\", \"y\": [0, 1.982872], \"x\": [0, 0.2605], \"line\": {\"color\": \"rgb(20, 0, 145)\", \"width\": 2}, \"z\": [0, -0.0188692], \"type\": \"scatter3d\"}, {\"mode\": \"lines\", \"y\": [0, 1.982566], \"x\": [0, 0.26285], \"line\": {\"color\": \"rgb(20, 0, 145)\", \"width\": 2}, \"z\": [0, -0.01840682], \"type\": \"scatter3d\"}, {\"mode\": \"lines\", \"y\": [0, 1.982358], \"x\": [0, 0.264256], \"line\": {\"color\": \"rgb(20, 0, 145)\", \"width\": 2}, \"z\": [0, -0.0205808], \"type\": \"scatter3d\"}, {\"mode\": \"lines\", \"y\": [0, 1.982836], \"x\": [0, 0.260812], \"line\": {\"color\": \"rgb(20, 0, 145)\", \"width\": 2}, \"z\": [0, -0.01837582], \"type\": \"scatter3d\"}, {\"mode\": \"lines\", \"y\": [0, 1.982388], \"x\": [0, 0.264032], \"line\": {\"color\": \"rgb(20, 0, 145)\", \"width\": 2}, \"z\": [0, -0.0206728], \"type\": \"scatter3d\"}, {\"mode\": \"lines\", \"y\": [0, 1.982388], \"x\": [0, 0.264032], \"line\": {\"color\": \"rgb(20, 0, 145)\", \"width\": 2}, \"z\": [0, -0.0206728], \"type\": \"scatter3d\"}, {\"mode\": \"lines\", \"y\": [0, 1.983046], \"x\": [0, 0.258842], \"line\": {\"color\": \"rgb(20, 0, 145)\", \"width\": 2}, \"z\": [0, -0.0230954], \"type\": \"scatter3d\"}, {\"mode\": \"lines\", \"y\": [0, 1.983152], \"x\": [0, 0.258192], \"line\": {\"color\": \"rgb(20, 0, 145)\", \"width\": 2}, \"z\": [0, -0.0210034], \"type\": \"scatter3d\"}, {\"mode\": \"lines\", \"y\": [0, 1.9825], \"x\": [0, 0.263106], \"line\": {\"color\": \"rgb(20, 0, 145)\", \"width\": 2}, \"z\": [0, -0.0216816], \"type\": \"scatter3d\"}, {\"mode\": \"lines\", \"y\": [0, 1.983408], \"x\": [0, 0.256318], \"line\": {\"color\": \"rgb(20, 0, 145)\", \"width\": 2}, \"z\": [0, -0.01986374], \"type\": \"scatter3d\"}, {\"mode\": \"lines\", \"y\": [0, 1.983408], \"x\": [0, 0.256318], \"line\": {\"color\": \"rgb(20, 0, 145)\", \"width\": 2}, \"z\": [0, -0.01986374], \"type\": \"scatter3d\"}, {\"mode\": \"lines\", \"y\": [0, 1.982646], \"x\": [0, 0.262156], \"line\": {\"color\": \"rgb(20, 0, 145)\", \"width\": 2}, \"z\": [0, -0.01968646], \"type\": \"scatter3d\"}, {\"mode\": \"lines\", \"y\": [0, 1.982762], \"x\": [0, 0.261012], \"line\": {\"color\": \"rgb(20, 0, 145)\", \"width\": 2}, \"z\": [0, -0.02298], \"type\": \"scatter3d\"}, {\"mode\": \"lines\", \"y\": [0, 1.98238], \"x\": [0, 0.26399], \"line\": {\"color\": \"rgb(20, 0, 145)\", \"width\": 2}, \"z\": [0, -0.021812], \"type\": \"scatter3d\"}, {\"mode\": \"lines\", \"y\": [0, 1.981948], \"x\": [0, 0.267712], \"line\": {\"color\": \"rgb(20, 0, 145)\", \"width\": 2}, \"z\": [0, -0.01458228], \"type\": \"scatter3d\"}, {\"mode\": \"lines\", \"y\": [0, 1.981948], \"x\": [0, 0.267712], \"line\": {\"color\": \"rgb(20, 0, 145)\", \"width\": 2}, \"z\": [0, -0.01458228], \"type\": \"scatter3d\"}, {\"mode\": \"lines\", \"y\": [0, 1.982376], \"x\": [0, 0.26465], \"line\": {\"color\": \"rgb(20, 0, 145)\", \"width\": 2}, \"z\": [0, -0.0121645], \"type\": \"scatter3d\"}, {\"mode\": \"lines\", \"y\": [0, 1.982244], \"x\": [0, 0.26545], \"line\": {\"color\": \"rgb(20, 0, 145)\", \"width\": 2}, \"z\": [0, -0.01574968], \"type\": \"scatter3d\"}, {\"mode\": \"lines\", \"y\": [0, 1.982598], \"x\": [0, 0.262716], \"line\": {\"color\": \"rgb(20, 0, 145)\", \"width\": 2}, \"z\": [0, -0.01682028], \"type\": \"scatter3d\"}, {\"mode\": \"lines\", \"y\": [0, 1.982598], \"x\": [0, 0.262716], \"line\": {\"color\": \"rgb(20, 0, 145)\", \"width\": 2}, \"z\": [0, -0.01682028], \"type\": \"scatter3d\"}, {\"mode\": \"lines\", \"y\": [0, 1.982732], \"x\": [0, 0.261688], \"line\": {\"color\": \"rgb(20, 0, 145)\", \"width\": 2}, \"z\": [0, -0.0170388], \"type\": \"scatter3d\"}, {\"mode\": \"lines\", \"y\": [0, 1.98289], \"x\": [0, 0.260318], \"line\": {\"color\": \"rgb(20, 0, 145)\", \"width\": 2}, \"z\": [0, -0.0195676], \"type\": \"scatter3d\"}, {\"mode\": \"lines\", \"y\": [0, 1.982216], \"x\": [0, 0.26566], \"line\": {\"color\": \"rgb(20, 0, 145)\", \"width\": 2}, \"z\": [0, -0.01573912], \"type\": \"scatter3d\"}, {\"mode\": \"lines\", \"y\": [0, 1.982582], \"x\": [0, 0.262692], \"line\": {\"color\": \"rgb(20, 0, 145)\", \"width\": 2}, \"z\": [0, -0.01898014], \"type\": \"scatter3d\"}, {\"mode\": \"lines\", \"y\": [0, 1.982194], \"x\": [0, 0.265564], \"line\": {\"color\": \"rgb(20, 0, 145)\", \"width\": 2}, \"z\": [0, -0.01961072], \"type\": \"scatter3d\"}, {\"mode\": \"lines\", \"y\": [0, 1.982194], \"x\": [0, 0.265564], \"line\": {\"color\": \"rgb(20, 0, 145)\", \"width\": 2}, \"z\": [0, -0.01961072], \"type\": \"scatter3d\"}, {\"mode\": \"lines\", \"y\": [0, 1.982448], \"x\": [0, 0.263844], \"line\": {\"color\": \"rgb(20, 0, 145)\", \"width\": 2}, \"z\": [0, -0.01702448], \"type\": \"scatter3d\"}, {\"mode\": \"lines\", \"y\": [0, 1.98247], \"x\": [0, 0.263636], \"line\": {\"color\": \"rgb(20, 0, 145)\", \"width\": 2}, \"z\": [0, -0.0176272], \"type\": \"scatter3d\"}, {\"mode\": \"lines\", \"y\": [0, 1.982776], \"x\": [0, 0.261098], \"line\": {\"color\": \"rgb(20, 0, 145)\", \"width\": 2}, \"z\": [0, -0.0207284], \"type\": \"scatter3d\"}, {\"mode\": \"lines\", \"y\": [0, 1.983464], \"x\": [0, 0.256068], \"line\": {\"color\": \"rgb(20, 0, 145)\", \"width\": 2}, \"z\": [0, -0.0172187], \"type\": \"scatter3d\"}, {\"mode\": \"lines\", \"y\": [0, 1.983464], \"x\": [0, 0.256068], \"line\": {\"color\": \"rgb(20, 0, 145)\", \"width\": 2}, \"z\": [0, -0.0172187], \"type\": \"scatter3d\"}, {\"mode\": \"lines\", \"y\": [0, 1.982736], \"x\": [0, 0.261498], \"line\": {\"color\": \"rgb(20, 0, 145)\", \"width\": 2}, \"z\": [0, -0.01930304], \"type\": \"scatter3d\"}, {\"mode\": \"lines\", \"y\": [0, 1.98249], \"x\": [0, 0.263396], \"line\": {\"color\": \"rgb(20, 0, 145)\", \"width\": 2}, \"z\": [0, -0.0188417], \"type\": \"scatter3d\"}, {\"mode\": \"lines\", \"y\": [0, 1.982708], \"x\": [0, 0.262022], \"line\": {\"color\": \"rgb(20, 0, 145)\", \"width\": 2}, \"z\": [0, -0.01458676], \"type\": \"scatter3d\"}, {\"mode\": \"lines\", \"y\": [0, 1.98288], \"x\": [0, 0.260652], \"line\": {\"color\": \"rgb(20, 0, 145)\", \"width\": 2}, \"z\": [0, -0.01580432], \"type\": \"scatter3d\"}, {\"mode\": \"lines\", \"y\": [0, 1.982288], \"x\": [0, 0.264918], \"line\": {\"color\": \"rgb(20, 0, 145)\", \"width\": 2}, \"z\": [0, -0.01876066], \"type\": \"scatter3d\"}, {\"mode\": \"lines\", \"y\": [0, 1.982288], \"x\": [0, 0.264918], \"line\": {\"color\": \"rgb(20, 0, 145)\", \"width\": 2}, \"z\": [0, -0.01876066], \"type\": \"scatter3d\"}, {\"mode\": \"lines\", \"y\": [0, 1.982082], \"x\": [0, 0.266514], \"line\": {\"color\": \"rgb(20, 0, 145)\", \"width\": 2}, \"z\": [0, -0.017891], \"type\": \"scatter3d\"}, {\"mode\": \"lines\", \"y\": [0, 1.982906], \"x\": [0, 0.260242], \"line\": {\"color\": \"rgb(20, 0, 145)\", \"width\": 2}, \"z\": [0, -0.01881572], \"type\": \"scatter3d\"}, {\"mode\": \"lines\", \"y\": [0, 1.982612], \"x\": [0, 0.262438], \"line\": {\"color\": \"rgb(20, 0, 145)\", \"width\": 2}, \"z\": [0, -0.01937122], \"type\": \"scatter3d\"}, {\"mode\": \"lines\", \"y\": [0, 1.982612], \"x\": [0, 0.262438], \"line\": {\"color\": \"rgb(20, 0, 145)\", \"width\": 2}, \"z\": [0, -0.01937122], \"type\": \"scatter3d\"}, {\"mode\": \"lines\", \"y\": [0, 1.98252], \"x\": [0, 0.263192], \"line\": {\"color\": \"rgb(20, 0, 145)\", \"width\": 2}, \"z\": [0, -0.01863022], \"type\": \"scatter3d\"}, {\"mode\": \"lines\", \"y\": [0, 1.982542], \"x\": [0, 0.262952], \"line\": {\"color\": \"rgb(20, 0, 145)\", \"width\": 2}, \"z\": [0, -0.0195943], \"type\": \"scatter3d\"}, {\"mode\": \"lines\", \"y\": [0, 1.98258], \"x\": [0, 0.26279], \"line\": {\"color\": \"rgb(20, 0, 145)\", \"width\": 2}, \"z\": [0, -0.0177201], \"type\": \"scatter3d\"}, {\"mode\": \"lines\", \"y\": [0, 1.982732], \"x\": [0, 0.261512], \"line\": {\"color\": \"rgb(20, 0, 145)\", \"width\": 2}, \"z\": [0, -0.01959516], \"type\": \"scatter3d\"}, {\"mode\": \"lines\", \"y\": [0, 1.982732], \"x\": [0, 0.261512], \"line\": {\"color\": \"rgb(20, 0, 145)\", \"width\": 2}, \"z\": [0, -0.01959516], \"type\": \"scatter3d\"}, {\"mode\": \"lines\", \"y\": [0, 1.982332], \"x\": [0, 0.264832], \"line\": {\"color\": \"rgb(20, 0, 145)\", \"width\": 2}, \"z\": [0, -0.01507174], \"type\": \"scatter3d\"}, {\"mode\": \"lines\", \"y\": [0, 1.982722], \"x\": [0, 0.261654], \"line\": {\"color\": \"rgb(20, 0, 145)\", \"width\": 2}, \"z\": [0, -0.01863216], \"type\": \"scatter3d\"}, {\"mode\": \"lines\", \"y\": [0, 1.98249], \"x\": [0, 0.263214], \"line\": {\"color\": \"rgb(20, 0, 145)\", \"width\": 2}, \"z\": [0, -0.0212318], \"type\": \"scatter3d\"}, {\"mode\": \"lines\", \"y\": [0, 1.98243], \"x\": [0, 0.263774], \"line\": {\"color\": \"rgb(20, 0, 145)\", \"width\": 2}, \"z\": [0, -0.01981732], \"type\": \"scatter3d\"}, {\"mode\": \"lines\", \"y\": [0, 1.98243], \"x\": [0, 0.263774], \"line\": {\"color\": \"rgb(20, 0, 145)\", \"width\": 2}, \"z\": [0, -0.01981732], \"type\": \"scatter3d\"}, {\"mode\": \"lines\", \"y\": [0, 1.98277], \"x\": [0, 0.2612], \"line\": {\"color\": \"rgb(20, 0, 145)\", \"width\": 2}, \"z\": [0, -0.01985502], \"type\": \"scatter3d\"}, {\"mode\": \"lines\", \"y\": [0, 1.981816], \"x\": [0, 0.268552], \"line\": {\"color\": \"rgb(20, 0, 145)\", \"width\": 2}, \"z\": [0, -0.01695296], \"type\": \"scatter3d\"}, {\"mode\": \"lines\", \"y\": [0, 1.982372], \"x\": [0, 0.264106], \"line\": {\"color\": \"rgb(20, 0, 145)\", \"width\": 2}, \"z\": [0, -0.0211832], \"type\": \"scatter3d\"}, {\"mode\": \"lines\", \"y\": [0, 1.982354], \"x\": [0, 0.26439], \"line\": {\"color\": \"rgb(20, 0, 145)\", \"width\": 2}, \"z\": [0, -0.01931494], \"type\": \"scatter3d\"}, {\"mode\": \"lines\", \"y\": [0, 1.982354], \"x\": [0, 0.26439], \"line\": {\"color\": \"rgb(20, 0, 145)\", \"width\": 2}, \"z\": [0, -0.01931494], \"type\": \"scatter3d\"}, {\"mode\": \"lines\", \"y\": [0, 1.982276], \"x\": [0, 0.264856], \"line\": {\"color\": \"rgb(20, 0, 145)\", \"width\": 2}, \"z\": [0, -0.0208354], \"type\": \"scatter3d\"}, {\"mode\": \"lines\", \"y\": [0, 1.982272], \"x\": [0, 0.26502], \"line\": {\"color\": \"rgb(20, 0, 145)\", \"width\": 2}, \"z\": [0, -0.01910962], \"type\": \"scatter3d\"}, {\"mode\": \"lines\", \"y\": [0, 1.982134], \"x\": [0, 0.265822], \"line\": {\"color\": \"rgb(20, 0, 145)\", \"width\": 2}, \"z\": [0, -0.0220718], \"type\": \"scatter3d\"}, {\"mode\": \"lines\", \"y\": [0, 1.982382], \"x\": [0, 0.264052], \"line\": {\"color\": \"rgb(20, 0, 145)\", \"width\": 2}, \"z\": [0, -0.0210046], \"type\": \"scatter3d\"}, {\"mode\": \"lines\", \"y\": [0, 1.982382], \"x\": [0, 0.264052], \"line\": {\"color\": \"rgb(20, 0, 145)\", \"width\": 2}, \"z\": [0, -0.0210046], \"type\": \"scatter3d\"}, {\"mode\": \"lines\", \"y\": [0, 1.982242], \"x\": [0, 0.265246], \"line\": {\"color\": \"rgb(20, 0, 145)\", \"width\": 2}, \"z\": [0, -0.01897598], \"type\": \"scatter3d\"}, {\"mode\": \"lines\", \"y\": [0, 1.981812], \"x\": [0, 0.268508], \"line\": {\"color\": \"rgb(20, 0, 145)\", \"width\": 2}, \"z\": [0, -0.01811678], \"type\": \"scatter3d\"}, {\"mode\": \"lines\", \"y\": [0, 1.98165], \"x\": [0, 0.269442], \"line\": {\"color\": \"rgb(20, 0, 145)\", \"width\": 2}, \"z\": [0, -0.021508], \"type\": \"scatter3d\"}, {\"mode\": \"lines\", \"y\": [0, 1.982352], \"x\": [0, 0.264062], \"line\": {\"color\": \"rgb(20, 0, 145)\", \"width\": 2}, \"z\": [0, -0.0235778], \"type\": \"scatter3d\"}, {\"mode\": \"lines\", \"y\": [0, 1.981682], \"x\": [0, 0.268982], \"line\": {\"color\": \"rgb(20, 0, 145)\", \"width\": 2}, \"z\": [0, -0.0242058], \"type\": \"scatter3d\"}, {\"mode\": \"lines\", \"y\": [0, 1.981682], \"x\": [0, 0.268982], \"line\": {\"color\": \"rgb(20, 0, 145)\", \"width\": 2}, \"z\": [0, -0.0242058], \"type\": \"scatter3d\"}, {\"mode\": \"lines\", \"y\": [0, 1.981744], \"x\": [0, 0.2687], \"line\": {\"color\": \"rgb(20, 0, 145)\", \"width\": 2}, \"z\": [0, -0.0221508], \"type\": \"scatter3d\"}, {\"mode\": \"lines\", \"y\": [0, 1.982336], \"x\": [0, 0.263646], \"line\": {\"color\": \"rgb(20, 0, 145)\", \"width\": 2}, \"z\": [0, -0.0288512], \"type\": \"scatter3d\"}, {\"mode\": \"lines\", \"y\": [0, 1.981576], \"x\": [0, 0.269422], \"line\": {\"color\": \"rgb(20, 0, 145)\", \"width\": 2}, \"z\": [0, -0.0277194], \"type\": \"scatter3d\"}, {\"mode\": \"lines\", \"y\": [0, 1.981576], \"x\": [0, 0.269422], \"line\": {\"color\": \"rgb(20, 0, 145)\", \"width\": 2}, \"z\": [0, -0.0277194], \"type\": \"scatter3d\"}, {\"mode\": \"lines\", \"y\": [0, 1.982062], \"x\": [0, 0.265654], \"line\": {\"color\": \"rgb(20, 0, 145)\", \"width\": 2}, \"z\": [0, -0.0292832], \"type\": \"scatter3d\"}, {\"mode\": \"lines\", \"y\": [0, 1.981596], \"x\": [0, 0.269234], \"line\": {\"color\": \"rgb(20, 0, 145)\", \"width\": 2}, \"z\": [0, -0.0280708], \"type\": \"scatter3d\"}, {\"mode\": \"lines\", \"y\": [0, 1.981772], \"x\": [0, 0.267408], \"line\": {\"color\": \"rgb(20, 0, 145)\", \"width\": 2}, \"z\": [0, -0.0327884], \"type\": \"scatter3d\"}, {\"mode\": \"lines\", \"y\": [0, 1.98276], \"x\": [0, 0.260304], \"line\": {\"color\": \"rgb(20, 0, 145)\", \"width\": 2}, \"z\": [0, -0.0301434], \"type\": \"scatter3d\"}, {\"mode\": \"lines\", \"y\": [0, 1.98276], \"x\": [0, 0.260304], \"line\": {\"color\": \"rgb(20, 0, 145)\", \"width\": 2}, \"z\": [0, -0.0301434], \"type\": \"scatter3d\"}, {\"mode\": \"lines\", \"y\": [0, 1.98214], \"x\": [0, 0.264794], \"line\": {\"color\": \"rgb(20, 0, 145)\", \"width\": 2}, \"z\": [0, -0.0317482], \"type\": \"scatter3d\"}, {\"mode\": \"lines\", \"y\": [0, 1.982458], \"x\": [0, 0.262426], \"line\": {\"color\": \"rgb(20, 0, 145)\", \"width\": 2}, \"z\": [0, -0.031498], \"type\": \"scatter3d\"}, {\"mode\": \"lines\", \"y\": [0, 1.9822], \"x\": [0, 0.264342], \"line\": {\"color\": \"rgb(20, 0, 145)\", \"width\": 2}, \"z\": [0, -0.0317082], \"type\": \"scatter3d\"}, {\"mode\": \"lines\", \"y\": [0, 1.982338], \"x\": [0, 0.263736], \"line\": {\"color\": \"rgb(20, 0, 145)\", \"width\": 2}, \"z\": [0, -0.0278856], \"type\": \"scatter3d\"}, {\"mode\": \"lines\", \"y\": [0, 1.982338], \"x\": [0, 0.263736], \"line\": {\"color\": \"rgb(20, 0, 145)\", \"width\": 2}, \"z\": [0, -0.0278856], \"type\": \"scatter3d\"}, {\"mode\": \"lines\", \"y\": [0, 1.982318], \"x\": [0, 0.263524], \"line\": {\"color\": \"rgb(20, 0, 145)\", \"width\": 2}, \"z\": [0, -0.0311148], \"type\": \"scatter3d\"}, {\"mode\": \"lines\", \"y\": [0, 1.982376], \"x\": [0, 0.263198], \"line\": {\"color\": \"rgb(20, 0, 145)\", \"width\": 2}, \"z\": [0, -0.0301636], \"type\": \"scatter3d\"}, {\"mode\": \"lines\", \"y\": [0, 1.982836], \"x\": [0, 0.25994], \"line\": {\"color\": \"rgb(20, 0, 145)\", \"width\": 2}, \"z\": [0, -0.028141], \"type\": \"scatter3d\"}, {\"mode\": \"lines\", \"y\": [0, 1.98248], \"x\": [0, 0.262638], \"line\": {\"color\": \"rgb(20, 0, 145)\", \"width\": 2}, \"z\": [0, -0.0281208], \"type\": \"scatter3d\"}, {\"mode\": \"lines\", \"y\": [0, 1.98248], \"x\": [0, 0.262638], \"line\": {\"color\": \"rgb(20, 0, 145)\", \"width\": 2}, \"z\": [0, -0.0281208], \"type\": \"scatter3d\"}, {\"mode\": \"lines\", \"y\": [0, 1.983584], \"x\": [0, 0.254334], \"line\": {\"color\": \"rgb(20, 0, 145)\", \"width\": 2}, \"z\": [0, -0.0266316], \"type\": \"scatter3d\"}, {\"mode\": \"lines\", \"y\": [0, 1.881448], \"x\": [0, -0.229914], \"line\": {\"color\": \"rgb(20, 0, 145)\", \"width\": 2}, \"z\": [0, 0.638198], \"type\": \"scatter3d\"}, {\"mode\": \"lines\", \"y\": [0, 1.880344], \"x\": [0, -0.23082], \"line\": {\"color\": \"rgb(20, 0, 145)\", \"width\": 2}, \"z\": [0, 0.641112], \"type\": \"scatter3d\"}, {\"mode\": \"lines\", \"y\": [0, 1.880344], \"x\": [0, -0.23082], \"line\": {\"color\": \"rgb(20, 0, 145)\", \"width\": 2}, \"z\": [0, 0.641112], \"type\": \"scatter3d\"}, {\"mode\": \"lines\", \"y\": [0, 1.88089], \"x\": [0, -0.230978], \"line\": {\"color\": \"rgb(20, 0, 145)\", \"width\": 2}, \"z\": [0, 0.639454], \"type\": \"scatter3d\"}, {\"mode\": \"lines\", \"y\": [0, 1.881294], \"x\": [0, -0.229276], \"line\": {\"color\": \"rgb(20, 0, 145)\", \"width\": 2}, \"z\": [0, 0.638876], \"type\": \"scatter3d\"}, {\"mode\": \"lines\", \"y\": [0, 1.88075], \"x\": [0, -0.230652], \"line\": {\"color\": \"rgb(20, 0, 145)\", \"width\": 2}, \"z\": [0, 0.639982], \"type\": \"scatter3d\"}, {\"mode\": \"lines\", \"y\": [0, 1.881002], \"x\": [0, -0.22939], \"line\": {\"color\": \"rgb(20, 0, 145)\", \"width\": 2}, \"z\": [0, 0.639694], \"type\": \"scatter3d\"}, {\"mode\": \"lines\", \"y\": [0, 1.881002], \"x\": [0, -0.22939], \"line\": {\"color\": \"rgb(20, 0, 145)\", \"width\": 2}, \"z\": [0, 0.639694], \"type\": \"scatter3d\"}, {\"mode\": \"lines\", \"y\": [0, 1.88152], \"x\": [0, -0.230326], \"line\": {\"color\": \"rgb(20, 0, 145)\", \"width\": 2}, \"z\": [0, 0.637832], \"type\": \"scatter3d\"}, {\"mode\": \"lines\", \"y\": [0, 1.881428], \"x\": [0, -0.229328], \"line\": {\"color\": \"rgb(20, 0, 145)\", \"width\": 2}, \"z\": [0, 0.638464], \"type\": \"scatter3d\"}, {\"mode\": \"lines\", \"y\": [0, 1.882146], \"x\": [0, -0.230988], \"line\": {\"color\": \"rgb(20, 0, 145)\", \"width\": 2}, \"z\": [0, 0.635744], \"type\": \"scatter3d\"}, {\"mode\": \"lines\", \"y\": [0, 1.881532], \"x\": [0, -0.229242], \"line\": {\"color\": \"rgb(20, 0, 145)\", \"width\": 2}, \"z\": [0, 0.638188], \"type\": \"scatter3d\"}, {\"mode\": \"lines\", \"y\": [0, 1.882814], \"x\": [0, -0.232248], \"line\": {\"color\": \"rgb(20, 0, 145)\", \"width\": 2}, \"z\": [0, 0.633302], \"type\": \"scatter3d\"}, {\"mode\": \"lines\", \"y\": [0, 1.882814], \"x\": [0, -0.232248], \"line\": {\"color\": \"rgb(20, 0, 145)\", \"width\": 2}, \"z\": [0, 0.633302], \"type\": \"scatter3d\"}, {\"mode\": \"lines\", \"y\": [0, 1.881734], \"x\": [0, -0.229744], \"line\": {\"color\": \"rgb(20, 0, 145)\", \"width\": 2}, \"z\": [0, 0.637412], \"type\": \"scatter3d\"}, {\"mode\": \"lines\", \"y\": [0, 1.88161], \"x\": [0, -0.229942], \"line\": {\"color\": \"rgb(20, 0, 145)\", \"width\": 2}, \"z\": [0, 0.637706], \"type\": \"scatter3d\"}, {\"mode\": \"lines\", \"y\": [0, 1.882918], \"x\": [0, -0.229588], \"line\": {\"color\": \"rgb(20, 0, 145)\", \"width\": 2}, \"z\": [0, 0.633966], \"type\": \"scatter3d\"}, {\"mode\": \"lines\", \"y\": [0, 1.882918], \"x\": [0, -0.229588], \"line\": {\"color\": \"rgb(20, 0, 145)\", \"width\": 2}, \"z\": [0, 0.633966], \"type\": \"scatter3d\"}, {\"mode\": \"lines\", \"y\": [0, 1.88157], \"x\": [0, -0.231436], \"line\": {\"color\": \"rgb(20, 0, 145)\", \"width\": 2}, \"z\": [0, 0.637282], \"type\": \"scatter3d\"}, {\"mode\": \"lines\", \"y\": [0, 1.8812], \"x\": [0, -0.231896], \"line\": {\"color\": \"rgb(20, 0, 145)\", \"width\": 2}, \"z\": [0, 0.63821], \"type\": \"scatter3d\"}, {\"mode\": \"lines\", \"y\": [0, 1.882712], \"x\": [0, -0.226802], \"line\": {\"color\": \"rgb(20, 0, 145)\", \"width\": 2}, \"z\": [0, 0.635576], \"type\": \"scatter3d\"}, {\"mode\": \"lines\", \"y\": [0, 1.882712], \"x\": [0, -0.226802], \"line\": {\"color\": \"rgb(20, 0, 145)\", \"width\": 2}, \"z\": [0, 0.635576], \"type\": \"scatter3d\"}, {\"mode\": \"lines\", \"y\": [0, 1.88103], \"x\": [0, -0.218382], \"line\": {\"color\": \"rgb(20, 0, 145)\", \"width\": 2}, \"z\": [0, 0.643456], \"type\": \"scatter3d\"}, {\"mode\": \"lines\", \"y\": [0, 1.880988], \"x\": [0, -0.22415], \"line\": {\"color\": \"rgb(20, 0, 145)\", \"width\": 2}, \"z\": [0, 0.641594], \"type\": \"scatter3d\"}, {\"mode\": \"lines\", \"y\": [0, 1.879922], \"x\": [0, -0.22627], \"line\": {\"color\": \"rgb(20, 0, 145)\", \"width\": 2}, \"z\": [0, 0.64397], \"type\": \"scatter3d\"}, {\"mode\": \"lines\", \"y\": [0, 1.879884], \"x\": [0, -0.226074], \"line\": {\"color\": \"rgb(20, 0, 145)\", \"width\": 2}, \"z\": [0, 0.644148], \"type\": \"scatter3d\"}, {\"mode\": \"lines\", \"y\": [0, 1.88146], \"x\": [0, -0.22352], \"line\": {\"color\": \"rgb(20, 0, 145)\", \"width\": 2}, \"z\": [0, 0.64043], \"type\": \"scatter3d\"}, {\"mode\": \"lines\", \"y\": [0, 1.88146], \"x\": [0, -0.22352], \"line\": {\"color\": \"rgb(20, 0, 145)\", \"width\": 2}, \"z\": [0, 0.64043], \"type\": \"scatter3d\"}, {\"mode\": \"lines\", \"y\": [0, 1.880072], \"x\": [0, -0.226008], \"line\": {\"color\": \"rgb(20, 0, 145)\", \"width\": 2}, \"z\": [0, 0.643622], \"type\": \"scatter3d\"}, {\"mode\": \"lines\", \"y\": [0, 1.88004], \"x\": [0, -0.22418], \"line\": {\"color\": \"rgb(20, 0, 145)\", \"width\": 2}, \"z\": [0, 0.644358], \"type\": \"scatter3d\"}, {\"mode\": \"lines\", \"y\": [0, 1.879932], \"x\": [0, -0.221908], \"line\": {\"color\": \"rgb(20, 0, 145)\", \"width\": 2}, \"z\": [0, 0.645452], \"type\": \"scatter3d\"}, {\"mode\": \"lines\", \"y\": [0, 1.880032], \"x\": [0, -0.225284], \"line\": {\"color\": \"rgb(20, 0, 145)\", \"width\": 2}, \"z\": [0, 0.64399], \"type\": \"scatter3d\"}, {\"mode\": \"lines\", \"y\": [0, 1.880032], \"x\": [0, -0.225284], \"line\": {\"color\": \"rgb(20, 0, 145)\", \"width\": 2}, \"z\": [0, 0.64399], \"type\": \"scatter3d\"}, {\"mode\": \"lines\", \"y\": [0, 1.880558], \"x\": [0, -0.226022], \"line\": {\"color\": \"rgb(20, 0, 145)\", \"width\": 2}, \"z\": [0, 0.642198], \"type\": \"scatter3d\"}, {\"mode\": \"lines\", \"y\": [0, 1.880772], \"x\": [0, -0.221574], \"line\": {\"color\": \"rgb(20, 0, 145)\", \"width\": 2}, \"z\": [0, 0.643116], \"type\": \"scatter3d\"}, {\"mode\": \"lines\", \"y\": [0, 1.88168], \"x\": [0, -0.219834], \"line\": {\"color\": \"rgb(20, 0, 145)\", \"width\": 2}, \"z\": [0, 0.641054], \"type\": \"scatter3d\"}, {\"mode\": \"lines\", \"y\": [0, 1.880364], \"x\": [0, -0.223588], \"line\": {\"color\": \"rgb(20, 0, 145)\", \"width\": 2}, \"z\": [0, 0.643614], \"type\": \"scatter3d\"}, {\"mode\": \"lines\", \"y\": [0, 1.881298], \"x\": [0, -0.219026], \"line\": {\"color\": \"rgb(20, 0, 145)\", \"width\": 2}, \"z\": [0, 0.642452], \"type\": \"scatter3d\"}, {\"mode\": \"lines\", \"y\": [0, 1.881298], \"x\": [0, -0.219026], \"line\": {\"color\": \"rgb(20, 0, 145)\", \"width\": 2}, \"z\": [0, 0.642452], \"type\": \"scatter3d\"}, {\"mode\": \"lines\", \"y\": [0, 1.880988], \"x\": [0, -0.22113], \"line\": {\"color\": \"rgb(20, 0, 145)\", \"width\": 2}, \"z\": [0, 0.642638], \"type\": \"scatter3d\"}, {\"mode\": \"lines\", \"y\": [0, 1.881376], \"x\": [0, -0.21786], \"line\": {\"color\": \"rgb(20, 0, 145)\", \"width\": 2}, \"z\": [0, 0.642618], \"type\": \"scatter3d\"}, {\"mode\": \"lines\", \"y\": [0, 1.88275], \"x\": [0, -0.221394], \"line\": {\"color\": \"rgb(20, 0, 145)\", \"width\": 2}, \"z\": [0, 0.63737], \"type\": \"scatter3d\"}, {\"mode\": \"lines\", \"y\": [0, 1.88275], \"x\": [0, -0.221394], \"line\": {\"color\": \"rgb(20, 0, 145)\", \"width\": 2}, \"z\": [0, 0.63737], \"type\": \"scatter3d\"}, {\"mode\": \"lines\", \"y\": [0, 1.882184], \"x\": [0, -0.219672], \"line\": {\"color\": \"rgb(20, 0, 145)\", \"width\": 2}, \"z\": [0, 0.639632], \"type\": \"scatter3d\"}, {\"mode\": \"lines\", \"y\": [0, 1.881874], \"x\": [0, -0.219842], \"line\": {\"color\": \"rgb(20, 0, 145)\", \"width\": 2}, \"z\": [0, 0.640484], \"type\": \"scatter3d\"}, {\"mode\": \"lines\", \"y\": [0, 1.88069], \"x\": [0, -0.21984], \"line\": {\"color\": \"rgb(20, 0, 145)\", \"width\": 2}, \"z\": [0, 0.643954], \"type\": \"scatter3d\"}, {\"mode\": \"lines\", \"y\": [0, 1.882548], \"x\": [0, -0.219916], \"line\": {\"color\": \"rgb(20, 0, 145)\", \"width\": 2}, \"z\": [0, 0.638474], \"type\": \"scatter3d\"}, {\"mode\": \"lines\", \"y\": [0, 1.882548], \"x\": [0, -0.219916], \"line\": {\"color\": \"rgb(20, 0, 145)\", \"width\": 2}, \"z\": [0, 0.638474], \"type\": \"scatter3d\"}, {\"mode\": \"lines\", \"y\": [0, 1.881614], \"x\": [0, -0.218276], \"line\": {\"color\": \"rgb(20, 0, 145)\", \"width\": 2}, \"z\": [0, 0.641782], \"type\": \"scatter3d\"}, {\"mode\": \"lines\", \"y\": [0, 1.883488], \"x\": [0, -0.216222], \"line\": {\"color\": \"rgb(20, 0, 145)\", \"width\": 2}, \"z\": [0, 0.636964], \"type\": \"scatter3d\"}, {\"mode\": \"lines\", \"y\": [0, 1.882772], \"x\": [0, -0.216352], \"line\": {\"color\": \"rgb(20, 0, 145)\", \"width\": 2}, \"z\": [0, 0.63903], \"type\": \"scatter3d\"}, {\"mode\": \"lines\", \"y\": [0, 1.882772], \"x\": [0, -0.216352], \"line\": {\"color\": \"rgb(20, 0, 145)\", \"width\": 2}, \"z\": [0, 0.63903], \"type\": \"scatter3d\"}, {\"mode\": \"lines\", \"y\": [0, 1.88162], \"x\": [0, -0.220456], \"line\": {\"color\": \"rgb(20, 0, 145)\", \"width\": 2}, \"z\": [0, 0.641022], \"type\": \"scatter3d\"}, {\"mode\": \"lines\", \"y\": [0, 1.88168], \"x\": [0, -0.214824], \"line\": {\"color\": \"rgb(20, 0, 145)\", \"width\": 2}, \"z\": [0, 0.64275], \"type\": \"scatter3d\"}, {\"mode\": \"lines\", \"y\": [0, 1.881612], \"x\": [0, -0.218394], \"line\": {\"color\": \"rgb(20, 0, 145)\", \"width\": 2}, \"z\": [0, 0.641748], \"type\": \"scatter3d\"}, {\"mode\": \"lines\", \"y\": [0, 1.882466], \"x\": [0, -0.216692], \"line\": {\"color\": \"rgb(20, 0, 145)\", \"width\": 2}, \"z\": [0, 0.63982], \"type\": \"scatter3d\"}, {\"mode\": \"lines\", \"y\": [0, 1.881714], \"x\": [0, -0.217538], \"line\": {\"color\": \"rgb(20, 0, 145)\", \"width\": 2}, \"z\": [0, 0.641736], \"type\": \"scatter3d\"}, {\"mode\": \"lines\", \"y\": [0, 1.881714], \"x\": [0, -0.217538], \"line\": {\"color\": \"rgb(20, 0, 145)\", \"width\": 2}, \"z\": [0, 0.641736], \"type\": \"scatter3d\"}, {\"mode\": \"lines\", \"y\": [0, 1.88154], \"x\": [0, -0.217386], \"line\": {\"color\": \"rgb(20, 0, 145)\", \"width\": 2}, \"z\": [0, 0.642304], \"type\": \"scatter3d\"}, {\"mode\": \"lines\", \"y\": [0, 1.882654], \"x\": [0, -0.217016], \"line\": {\"color\": \"rgb(20, 0, 145)\", \"width\": 2}, \"z\": [0, 0.639156], \"type\": \"scatter3d\"}, {\"mode\": \"lines\", \"y\": [0, 1.882196], \"x\": [0, -0.216984], \"line\": {\"color\": \"rgb(20, 0, 145)\", \"width\": 2}, \"z\": [0, 0.64051], \"type\": \"scatter3d\"}, {\"mode\": \"lines\", \"y\": [0, 1.883006], \"x\": [0, -0.215964], \"line\": {\"color\": \"rgb(20, 0, 145)\", \"width\": 2}, \"z\": [0, 0.638474], \"type\": \"scatter3d\"}, {\"mode\": \"lines\", \"y\": [0, 1.883078], \"x\": [0, -0.21648], \"line\": {\"color\": \"rgb(20, 0, 145)\", \"width\": 2}, \"z\": [0, 0.638088], \"type\": \"scatter3d\"}, {\"mode\": \"lines\", \"y\": [0, 1.883078], \"x\": [0, -0.21648], \"line\": {\"color\": \"rgb(20, 0, 145)\", \"width\": 2}, \"z\": [0, 0.638088], \"type\": \"scatter3d\"}, {\"mode\": \"lines\", \"y\": [0, 1.881866], \"x\": [0, -0.218392], \"line\": {\"color\": \"rgb(20, 0, 145)\", \"width\": 2}, \"z\": [0, 0.641006], \"type\": \"scatter3d\"}, {\"mode\": \"lines\", \"y\": [0, 1.881878], \"x\": [0, -0.220168], \"line\": {\"color\": \"rgb(20, 0, 145)\", \"width\": 2}, \"z\": [0, 0.64036], \"type\": \"scatter3d\"}, {\"mode\": \"lines\", \"y\": [0, 1.881324], \"x\": [0, -0.218378], \"line\": {\"color\": \"rgb(20, 0, 145)\", \"width\": 2}, \"z\": [0, 0.642598], \"type\": \"scatter3d\"}, {\"mode\": \"lines\", \"y\": [0, 1.881324], \"x\": [0, -0.218378], \"line\": {\"color\": \"rgb(20, 0, 145)\", \"width\": 2}, \"z\": [0, 0.642598], \"type\": \"scatter3d\"}, {\"mode\": \"lines\", \"y\": [0, 1.88427], \"x\": [0, -0.216534], \"line\": {\"color\": \"rgb(20, 0, 145)\", \"width\": 2}, \"z\": [0, 0.634542], \"type\": \"scatter3d\"}, {\"mode\": \"lines\", \"y\": [0, 1.883794], \"x\": [0, -0.21736], \"line\": {\"color\": \"rgb(20, 0, 145)\", \"width\": 2}, \"z\": [0, 0.635668], \"type\": \"scatter3d\"}, {\"mode\": \"lines\", \"y\": [0, 1.88408], \"x\": [0, -0.217734], \"line\": {\"color\": \"rgb(20, 0, 145)\", \"width\": 2}, \"z\": [0, 0.634692], \"type\": \"scatter3d\"}, {\"mode\": \"lines\", \"y\": [0, 1.882846], \"x\": [0, -0.21959], \"line\": {\"color\": \"rgb(20, 0, 145)\", \"width\": 2}, \"z\": [0, 0.63771], \"type\": \"scatter3d\"}, {\"mode\": \"lines\", \"y\": [0, 1.882846], \"x\": [0, -0.21959], \"line\": {\"color\": \"rgb(20, 0, 145)\", \"width\": 2}, \"z\": [0, 0.63771], \"type\": \"scatter3d\"}, {\"mode\": \"lines\", \"y\": [0, 1.884448], \"x\": [0, -0.21515], \"line\": {\"color\": \"rgb(20, 0, 145)\", \"width\": 2}, \"z\": [0, 0.63448], \"type\": \"scatter3d\"}, {\"mode\": \"lines\", \"y\": [0, 1.883526], \"x\": [0, -0.217206], \"line\": {\"color\": \"rgb(20, 0, 145)\", \"width\": 2}, \"z\": [0, 0.636516], \"type\": \"scatter3d\"}, {\"mode\": \"lines\", \"y\": [0, 1.884742], \"x\": [0, -0.215998], \"line\": {\"color\": \"rgb(20, 0, 145)\", \"width\": 2}, \"z\": [0, 0.63332], \"type\": \"scatter3d\"}, {\"mode\": \"lines\", \"y\": [0, 1.884742], \"x\": [0, -0.215998], \"line\": {\"color\": \"rgb(20, 0, 145)\", \"width\": 2}, \"z\": [0, 0.63332], \"type\": \"scatter3d\"}, {\"mode\": \"lines\", \"y\": [0, 1.883794], \"x\": [0, -0.216814], \"line\": {\"color\": \"rgb(20, 0, 145)\", \"width\": 2}, \"z\": [0, 0.635856], \"type\": \"scatter3d\"}, {\"mode\": \"lines\", \"y\": [0, 1.883524], \"x\": [0, -0.217768], \"line\": {\"color\": \"rgb(20, 0, 145)\", \"width\": 2}, \"z\": [0, 0.63633], \"type\": \"scatter3d\"}, {\"mode\": \"lines\", \"y\": [0, 1.884286], \"x\": [0, -0.218678], \"line\": {\"color\": \"rgb(20, 0, 145)\", \"width\": 2}, \"z\": [0, 0.633758], \"type\": \"scatter3d\"}, {\"mode\": \"lines\", \"y\": [0, 1.884602], \"x\": [0, -0.217832], \"line\": {\"color\": \"rgb(20, 0, 145)\", \"width\": 2}, \"z\": [0, 0.633108], \"type\": \"scatter3d\"}, {\"mode\": \"lines\", \"y\": [0, 1.885208], \"x\": [0, -0.218036], \"line\": {\"color\": \"rgb(20, 0, 145)\", \"width\": 2}, \"z\": [0, 0.63123], \"type\": \"scatter3d\"}, {\"mode\": \"lines\", \"y\": [0, 1.885208], \"x\": [0, -0.218036], \"line\": {\"color\": \"rgb(20, 0, 145)\", \"width\": 2}, \"z\": [0, 0.63123], \"type\": \"scatter3d\"}, {\"mode\": \"lines\", \"y\": [0, 1.884152], \"x\": [0, -0.219924], \"line\": {\"color\": \"rgb(20, 0, 145)\", \"width\": 2}, \"z\": [0, 0.633726], \"type\": \"scatter3d\"}, {\"mode\": \"lines\", \"y\": [0, 1.88559], \"x\": [0, -0.21689], \"line\": {\"color\": \"rgb(20, 0, 145)\", \"width\": 2}, \"z\": [0, 0.630482], \"type\": \"scatter3d\"}, {\"mode\": \"lines\", \"y\": [0, 1.883844], \"x\": [0, -0.21991], \"line\": {\"color\": \"rgb(20, 0, 145)\", \"width\": 2}, \"z\": [0, 0.634646], \"type\": \"scatter3d\"}, {\"mode\": \"lines\", \"y\": [0, 1.88509], \"x\": [0, -0.214834], \"line\": {\"color\": \"rgb(20, 0, 145)\", \"width\": 2}, \"z\": [0, 0.63268], \"type\": \"scatter3d\"}, {\"mode\": \"lines\", \"y\": [0, 1.88509], \"x\": [0, -0.214834], \"line\": {\"color\": \"rgb(20, 0, 145)\", \"width\": 2}, \"z\": [0, 0.63268], \"type\": \"scatter3d\"}, {\"mode\": \"lines\", \"y\": [0, 1.885794], \"x\": [0, -0.217168], \"line\": {\"color\": \"rgb(20, 0, 145)\", \"width\": 2}, \"z\": [0, 0.629778], \"type\": \"scatter3d\"}, {\"mode\": \"lines\", \"y\": [0, 1.883208], \"x\": [0, -0.217806], \"line\": {\"color\": \"rgb(20, 0, 145)\", \"width\": 2}, \"z\": [0, 0.637252], \"type\": \"scatter3d\"}, {\"mode\": \"lines\", \"y\": [0, 1.881956], \"x\": [0, -0.212196], \"line\": {\"color\": \"rgb(20, 0, 145)\", \"width\": 2}, \"z\": [0, 0.642816], \"type\": \"scatter3d\"}, {\"mode\": \"lines\", \"y\": [0, 1.881364], \"x\": [0, -0.20928], \"line\": {\"color\": \"rgb(20, 0, 145)\", \"width\": 2}, \"z\": [0, 0.645504], \"type\": \"scatter3d\"}, {\"mode\": \"lines\", \"y\": [0, 1.88012], \"x\": [0, -0.211008], \"line\": {\"color\": \"rgb(20, 0, 145)\", \"width\": 2}, \"z\": [0, 0.648558], \"type\": \"scatter3d\"}, {\"mode\": \"lines\", \"y\": [0, 1.88012], \"x\": [0, -0.211008], \"line\": {\"color\": \"rgb(20, 0, 145)\", \"width\": 2}, \"z\": [0, 0.648558], \"type\": \"scatter3d\"}, {\"mode\": \"lines\", \"y\": [0, 1.878266], \"x\": [0, -0.217658], \"line\": {\"color\": \"rgb(20, 0, 145)\", \"width\": 2}, \"z\": [0, 0.65172], \"type\": \"scatter3d\"}, {\"mode\": \"lines\", \"y\": [0, 1.878102], \"x\": [0, -0.217094], \"line\": {\"color\": \"rgb(20, 0, 145)\", \"width\": 2}, \"z\": [0, 0.652382], \"type\": \"scatter3d\"}, {\"mode\": \"lines\", \"y\": [0, 1.878662], \"x\": [0, -0.218618], \"line\": {\"color\": \"rgb(20, 0, 145)\", \"width\": 2}, \"z\": [0, 0.65026], \"type\": \"scatter3d\"}, {\"mode\": \"lines\", \"y\": [0, 1.879118], \"x\": [0, -0.215526], \"line\": {\"color\": \"rgb(20, 0, 145)\", \"width\": 2}, \"z\": [0, 0.649974], \"type\": \"scatter3d\"}, {\"mode\": \"lines\", \"y\": [0, 1.8825], \"x\": [0, -0.2093], \"line\": {\"color\": \"rgb(20, 0, 145)\", \"width\": 2}, \"z\": [0, 0.642172], \"type\": \"scatter3d\"}, {\"mode\": \"lines\", \"y\": [0, 1.884356], \"x\": [0, -0.20731], \"line\": {\"color\": \"rgb(20, 0, 145)\", \"width\": 2}, \"z\": [0, 0.637358], \"type\": \"scatter3d\"}, {\"mode\": \"lines\", \"y\": [0, 1.888012], \"x\": [0, -0.0275842], \"line\": {\"color\": \"rgb(20, 0, 145)\", \"width\": 2}, \"z\": [0, 0.659282], \"type\": \"scatter3d\"}, {\"mode\": \"lines\", \"y\": [0, 1.888734], \"x\": [0, -0.031196], \"line\": {\"color\": \"rgb(20, 0, 145)\", \"width\": 2}, \"z\": [0, 0.657046], \"type\": \"scatter3d\"}, {\"mode\": \"lines\", \"y\": [0, 1.887538], \"x\": [0, -0.027978], \"line\": {\"color\": \"rgb(20, 0, 145)\", \"width\": 2}, \"z\": [0, 0.660618], \"type\": \"scatter3d\"}, {\"mode\": \"lines\", \"y\": [0, 1.887538], \"x\": [0, -0.027978], \"line\": {\"color\": \"rgb(20, 0, 145)\", \"width\": 2}, \"z\": [0, 0.660618], \"type\": \"scatter3d\"}, {\"mode\": \"lines\", \"y\": [0, 1.888736], \"x\": [0, -0.0311938], \"line\": {\"color\": \"rgb(20, 0, 145)\", \"width\": 2}, \"z\": [0, 0.65704], \"type\": \"scatter3d\"}, {\"mode\": \"lines\", \"y\": [0, 1.88893], \"x\": [0, -0.028224], \"line\": {\"color\": \"rgb(20, 0, 145)\", \"width\": 2}, \"z\": [0, 0.656618], \"type\": \"scatter3d\"}, {\"mode\": \"lines\", \"y\": [0, 1.889326], \"x\": [0, -0.0318616], \"line\": {\"color\": \"rgb(20, 0, 145)\", \"width\": 2}, \"z\": [0, 0.655308], \"type\": \"scatter3d\"}, {\"mode\": \"lines\", \"y\": [0, 1.889892], \"x\": [0, -0.0292886], \"line\": {\"color\": \"rgb(20, 0, 145)\", \"width\": 2}, \"z\": [0, 0.653798], \"type\": \"scatter3d\"}, {\"mode\": \"lines\", \"y\": [0, 1.889892], \"x\": [0, -0.0292886], \"line\": {\"color\": \"rgb(20, 0, 145)\", \"width\": 2}, \"z\": [0, 0.653798], \"type\": \"scatter3d\"}, {\"mode\": \"lines\", \"y\": [0, 1.889804], \"x\": [0, -0.030904], \"line\": {\"color\": \"rgb(20, 0, 145)\", \"width\": 2}, \"z\": [0, 0.653976], \"type\": \"scatter3d\"}, {\"mode\": \"lines\", \"y\": [0, 1.890356], \"x\": [0, -0.029631], \"line\": {\"color\": \"rgb(20, 0, 145)\", \"width\": 2}, \"z\": [0, 0.65244], \"type\": \"scatter3d\"}, {\"mode\": \"lines\", \"y\": [0, 1.890746], \"x\": [0, -0.0305558], \"line\": {\"color\": \"rgb(20, 0, 145)\", \"width\": 2}, \"z\": [0, 0.651268], \"type\": \"scatter3d\"}, {\"mode\": \"lines\", \"y\": [0, 1.891976], \"x\": [0, -0.0281102], \"line\": {\"color\": \"rgb(20, 0, 145)\", \"width\": 2}, \"z\": [0, 0.647796], \"type\": \"scatter3d\"}, {\"mode\": \"lines\", \"y\": [0, 1.891976], \"x\": [0, -0.0281102], \"line\": {\"color\": \"rgb(20, 0, 145)\", \"width\": 2}, \"z\": [0, 0.647796], \"type\": \"scatter3d\"}, {\"mode\": \"lines\", \"y\": [0, 1.892884], \"x\": [0, -0.025504], \"line\": {\"color\": \"rgb(20, 0, 145)\", \"width\": 2}, \"z\": [0, 0.645244], \"type\": \"scatter3d\"}, {\"mode\": \"lines\", \"y\": [0, 1.892656], \"x\": [0, -0.0279886], \"line\": {\"color\": \"rgb(20, 0, 145)\", \"width\": 2}, \"z\": [0, 0.645812], \"type\": \"scatter3d\"}, {\"mode\": \"lines\", \"y\": [0, 1.8931], \"x\": [0, -0.0284958], \"line\": {\"color\": \"rgb(20, 0, 145)\", \"width\": 2}, \"z\": [0, 0.644482], \"type\": \"scatter3d\"}, {\"mode\": \"lines\", \"y\": [0, 1.8931], \"x\": [0, -0.0284958], \"line\": {\"color\": \"rgb(20, 0, 145)\", \"width\": 2}, \"z\": [0, 0.644482], \"type\": \"scatter3d\"}, {\"mode\": \"lines\", \"y\": [0, 1.894192], \"x\": [0, -0.0303686], \"line\": {\"color\": \"rgb(20, 0, 145)\", \"width\": 2}, \"z\": [0, 0.64118], \"type\": \"scatter3d\"}, {\"mode\": \"lines\", \"y\": [0, 1.893606], \"x\": [0, -0.0259756], \"line\": {\"color\": \"rgb(20, 0, 145)\", \"width\": 2}, \"z\": [0, 0.643104], \"type\": \"scatter3d\"}, {\"mode\": \"lines\", \"y\": [0, 1.893784], \"x\": [0, -0.0317866], \"line\": {\"color\": \"rgb(20, 0, 145)\", \"width\": 2}, \"z\": [0, 0.642318], \"type\": \"scatter3d\"}, {\"mode\": \"lines\", \"y\": [0, 1.893628], \"x\": [0, -0.0285552], \"line\": {\"color\": \"rgb(20, 0, 145)\", \"width\": 2}, \"z\": [0, 0.64293], \"type\": \"scatter3d\"}, {\"mode\": \"lines\", \"y\": [0, 1.891488], \"x\": [0, -0.0320712], \"line\": {\"color\": \"rgb(20, 0, 145)\", \"width\": 2}, \"z\": [0, 0.649034], \"type\": \"scatter3d\"}, {\"mode\": \"lines\", \"y\": [0, 1.891488], \"x\": [0, -0.0320712], \"line\": {\"color\": \"rgb(20, 0, 145)\", \"width\": 2}, \"z\": [0, 0.649034], \"type\": \"scatter3d\"}, {\"mode\": \"lines\", \"y\": [0, 1.891656], \"x\": [0, -0.0295862], \"line\": {\"color\": \"rgb(20, 0, 145)\", \"width\": 2}, \"z\": [0, 0.648662], \"type\": \"scatter3d\"}, {\"mode\": \"lines\", \"y\": [0, 1.892606], \"x\": [0, -0.0306554], \"line\": {\"color\": \"rgb(20, 0, 145)\", \"width\": 2}, \"z\": [0, 0.645832], \"type\": \"scatter3d\"}, {\"mode\": \"lines\", \"y\": [0, 1.891344], \"x\": [0, -0.0296678], \"line\": {\"color\": \"rgb(20, 0, 145)\", \"width\": 2}, \"z\": [0, 0.649564], \"type\": \"scatter3d\"}, {\"mode\": \"lines\", \"y\": [0, 1.89287], \"x\": [0, -0.0278684], \"line\": {\"color\": \"rgb(20, 0, 145)\", \"width\": 2}, \"z\": [0, 0.645186], \"type\": \"scatter3d\"}, {\"mode\": \"lines\", \"y\": [0, 1.89287], \"x\": [0, -0.0278684], \"line\": {\"color\": \"rgb(20, 0, 145)\", \"width\": 2}, \"z\": [0, 0.645186], \"type\": \"scatter3d\"}, {\"mode\": \"lines\", \"y\": [0, 1.891658], \"x\": [0, -0.0302714], \"line\": {\"color\": \"rgb(20, 0, 145)\", \"width\": 2}, \"z\": [0, 0.648626], \"type\": \"scatter3d\"}, {\"mode\": \"lines\", \"y\": [0, 1.890948], \"x\": [0, -0.03099], \"line\": {\"color\": \"rgb(20, 0, 145)\", \"width\": 2}, \"z\": [0, 0.650658], \"type\": \"scatter3d\"}, {\"mode\": \"lines\", \"y\": [0, 1.891698], \"x\": [0, -0.032236], \"line\": {\"color\": \"rgb(20, 0, 145)\", \"width\": 2}, \"z\": [0, 0.648414], \"type\": \"scatter3d\"}, {\"mode\": \"lines\", \"y\": [0, 1.891698], \"x\": [0, -0.032236], \"line\": {\"color\": \"rgb(20, 0, 145)\", \"width\": 2}, \"z\": [0, 0.648414], \"type\": \"scatter3d\"}, {\"mode\": \"lines\", \"y\": [0, 1.891266], \"x\": [0, -0.0292842], \"line\": {\"color\": \"rgb(20, 0, 145)\", \"width\": 2}, \"z\": [0, 0.649812], \"type\": \"scatter3d\"}, {\"mode\": \"lines\", \"y\": [0, 1.892976], \"x\": [0, -0.029078], \"line\": {\"color\": \"rgb(20, 0, 145)\", \"width\": 2}, \"z\": [0, 0.644824], \"type\": \"scatter3d\"}, {\"mode\": \"lines\", \"y\": [0, 1.891446], \"x\": [0, -0.02892], \"line\": {\"color\": \"rgb(20, 0, 145)\", \"width\": 2}, \"z\": [0, 0.649306], \"type\": \"scatter3d\"}, {\"mode\": \"lines\", \"y\": [0, 1.891788], \"x\": [0, -0.0302572], \"line\": {\"color\": \"rgb(20, 0, 145)\", \"width\": 2}, \"z\": [0, 0.648248], \"type\": \"scatter3d\"}, {\"mode\": \"lines\", \"y\": [0, 1.89205], \"x\": [0, -0.0285502], \"line\": {\"color\": \"rgb(20, 0, 145)\", \"width\": 2}, \"z\": [0, 0.64756], \"type\": \"scatter3d\"}, {\"mode\": \"lines\", \"y\": [0, 1.89205], \"x\": [0, -0.0285502], \"line\": {\"color\": \"rgb(20, 0, 145)\", \"width\": 2}, \"z\": [0, 0.64756], \"type\": \"scatter3d\"}, {\"mode\": \"lines\", \"y\": [0, 1.892114], \"x\": [0, -0.0310472], \"line\": {\"color\": \"rgb(20, 0, 145)\", \"width\": 2}, \"z\": [0, 0.647258], \"type\": \"scatter3d\"}, {\"mode\": \"lines\", \"y\": [0, 1.89491], \"x\": [0, -0.0273702], \"line\": {\"color\": \"rgb(20, 0, 145)\", \"width\": 2}, \"z\": [0, 0.63919], \"type\": \"scatter3d\"}, {\"mode\": \"lines\", \"y\": [0, 1.900584], \"x\": [0, -0.023204], \"line\": {\"color\": \"rgb(20, 0, 145)\", \"width\": 2}, \"z\": [0, 0.622288], \"type\": \"scatter3d\"}, {\"mode\": \"lines\", \"y\": [0, 1.90769], \"x\": [0, 0.001197766], \"line\": {\"color\": \"rgb(20, 0, 145)\", \"width\": 2}, \"z\": [0, 0.600598], \"type\": \"scatter3d\"}, {\"mode\": \"lines\", \"y\": [0, 1.90769], \"x\": [0, 0.001197766], \"line\": {\"color\": \"rgb(20, 0, 145)\", \"width\": 2}, \"z\": [0, 0.600598], \"type\": \"scatter3d\"}, {\"mode\": \"lines\", \"y\": [0, 1.904016], \"x\": [0, 0.0246534], \"line\": {\"color\": \"rgb(20, 0, 145)\", \"width\": 2}, \"z\": [0, 0.611652], \"type\": \"scatter3d\"}, {\"mode\": \"lines\", \"y\": [0, 1.896512], \"x\": [0, 0.0344024], \"line\": {\"color\": \"rgb(20, 0, 145)\", \"width\": 2}, \"z\": [0, 0.634082], \"type\": \"scatter3d\"}, {\"mode\": \"lines\", \"y\": [0, 1.894384], \"x\": [0, 0.0387388], \"line\": {\"color\": \"rgb(20, 0, 145)\", \"width\": 2}, \"z\": [0, 0.64016], \"type\": \"scatter3d\"}, {\"mode\": \"lines\", \"y\": [0, 1.887326], \"x\": [0, 0.0268282], \"line\": {\"color\": \"rgb(20, 0, 145)\", \"width\": 2}, \"z\": [0, 0.661274], \"type\": \"scatter3d\"}, {\"mode\": \"lines\", \"y\": [0, 1.887326], \"x\": [0, 0.0268282], \"line\": {\"color\": \"rgb(20, 0, 145)\", \"width\": 2}, \"z\": [0, 0.661274], \"type\": \"scatter3d\"}, {\"mode\": \"lines\", \"y\": [0, 1.890352], \"x\": [0, 0.01626382], \"line\": {\"color\": \"rgb(20, 0, 145)\", \"width\": 2}, \"z\": [0, 0.65292], \"type\": \"scatter3d\"}, {\"mode\": \"lines\", \"y\": [0, 1.89085], \"x\": [0, 0.00811786], \"line\": {\"color\": \"rgb(20, 0, 145)\", \"width\": 2}, \"z\": [0, 0.65163], \"type\": \"scatter3d\"}, {\"mode\": \"lines\", \"y\": [0, 1.89243], \"x\": [0, 0.000507692], \"line\": {\"color\": \"rgb(20, 0, 145)\", \"width\": 2}, \"z\": [0, 0.647074], \"type\": \"scatter3d\"}, {\"mode\": \"lines\", \"y\": [0, 1.894498], \"x\": [0, -0.0026875], \"line\": {\"color\": \"rgb(20, 0, 145)\", \"width\": 2}, \"z\": [0, 0.64099], \"type\": \"scatter3d\"}, {\"mode\": \"lines\", \"y\": [0, 1.894498], \"x\": [0, -0.0026875], \"line\": {\"color\": \"rgb(20, 0, 145)\", \"width\": 2}, \"z\": [0, 0.64099], \"type\": \"scatter3d\"}, {\"mode\": \"lines\", \"y\": [0, 1.894944], \"x\": [0, 0.00240614], \"line\": {\"color\": \"rgb(20, 0, 145)\", \"width\": 2}, \"z\": [0, 0.639676], \"type\": \"scatter3d\"}, {\"mode\": \"lines\", \"y\": [0, 1.894284], \"x\": [0, -0.000938938], \"line\": {\"color\": \"rgb(20, 0, 145)\", \"width\": 2}, \"z\": [0, 0.641626], \"type\": \"scatter3d\"}, {\"mode\": \"lines\", \"y\": [0, 1.895632], \"x\": [0, 0.00232406], \"line\": {\"color\": \"rgb(20, 0, 145)\", \"width\": 2}, \"z\": [0, 0.637634], \"type\": \"scatter3d\"}, {\"mode\": \"lines\", \"y\": [0, 1.896892], \"x\": [0, -0.0023555], \"line\": {\"color\": \"rgb(20, 0, 145)\", \"width\": 2}, \"z\": [0, 0.633876], \"type\": \"scatter3d\"}, {\"mode\": \"lines\", \"y\": [0, 1.89521], \"x\": [0, -0.00026757], \"line\": {\"color\": \"rgb(20, 0, 145)\", \"width\": 2}, \"z\": [0, 0.63889], \"type\": \"scatter3d\"}, {\"mode\": \"lines\", \"y\": [0, 1.89521], \"x\": [0, -0.00026757], \"line\": {\"color\": \"rgb(20, 0, 145)\", \"width\": 2}, \"z\": [0, 0.63889], \"type\": \"scatter3d\"}, {\"mode\": \"lines\", \"y\": [0, 1.895842], \"x\": [0, 0.0001136336], \"line\": {\"color\": \"rgb(20, 0, 145)\", \"width\": 2}, \"z\": [0, 0.637014], \"type\": \"scatter3d\"}, {\"mode\": \"lines\", \"y\": [0, 1.89596], \"x\": [0, -0.00280624], \"line\": {\"color\": \"rgb(20, 0, 145)\", \"width\": 2}, \"z\": [0, 0.636652], \"type\": \"scatter3d\"}, {\"mode\": \"lines\", \"y\": [0, 1.89596], \"x\": [0, -0.00280624], \"line\": {\"color\": \"rgb(20, 0, 145)\", \"width\": 2}, \"z\": [0, 0.636652], \"type\": \"scatter3d\"}, {\"mode\": \"lines\", \"y\": [0, 1.893772], \"x\": [0, -0.001753024], \"line\": {\"color\": \"rgb(20, 0, 145)\", \"width\": 2}, \"z\": [0, 0.643136], \"type\": \"scatter3d\"}, {\"mode\": \"lines\", \"y\": [0, 1.893246], \"x\": [0, -0.001332424], \"line\": {\"color\": \"rgb(20, 0, 145)\", \"width\": 2}, \"z\": [0, 0.644684], \"type\": \"scatter3d\"}, {\"mode\": \"lines\", \"y\": [0, 1.892356], \"x\": [0, -0.00388438], \"line\": {\"color\": \"rgb(20, 0, 145)\", \"width\": 2}, \"z\": [0, 0.647284], \"type\": \"scatter3d\"}, {\"mode\": \"lines\", \"y\": [0, 1.891568], \"x\": [0, -0.00244086], \"line\": {\"color\": \"rgb(20, 0, 145)\", \"width\": 2}, \"z\": [0, 0.649588], \"type\": \"scatter3d\"}, {\"mode\": \"lines\", \"y\": [0, 1.891354], \"x\": [0, -0.00313818], \"line\": {\"color\": \"rgb(20, 0, 145)\", \"width\": 2}, \"z\": [0, 0.65021], \"type\": \"scatter3d\"}, {\"mode\": \"lines\", \"y\": [0, 1.891354], \"x\": [0, -0.00313818], \"line\": {\"color\": \"rgb(20, 0, 145)\", \"width\": 2}, \"z\": [0, 0.65021], \"type\": \"scatter3d\"}, {\"mode\": \"lines\", \"y\": [0, 1.890686], \"x\": [0, -0.00223098], \"line\": {\"color\": \"rgb(20, 0, 145)\", \"width\": 2}, \"z\": [0, 0.652152], \"type\": \"scatter3d\"}, {\"mode\": \"lines\", \"y\": [0, 1.891384], \"x\": [0, -0.000333238], \"line\": {\"color\": \"rgb(20, 0, 145)\", \"width\": 2}, \"z\": [0, 0.65013], \"type\": \"scatter3d\"}, {\"mode\": \"lines\", \"y\": [0, 1.891384], \"x\": [0, -0.001461194], \"line\": {\"color\": \"rgb(20, 0, 145)\", \"width\": 2}, \"z\": [0, 0.650126], \"type\": \"scatter3d\"}, {\"mode\": \"lines\", \"y\": [0, 1.89117], \"x\": [0, -0.0029896], \"line\": {\"color\": \"rgb(20, 0, 145)\", \"width\": 2}, \"z\": [0, 0.650744], \"type\": \"scatter3d\"}, {\"mode\": \"lines\", \"y\": [0, 1.889288], \"x\": [0, -0.00499368], \"line\": {\"color\": \"rgb(20, 0, 145)\", \"width\": 2}, \"z\": [0, 0.656178], \"type\": \"scatter3d\"}, {\"mode\": \"lines\", \"y\": [0, 1.889288], \"x\": [0, -0.00499368], \"line\": {\"color\": \"rgb(20, 0, 145)\", \"width\": 2}, \"z\": [0, 0.656178], \"type\": \"scatter3d\"}, {\"mode\": \"lines\", \"y\": [0, 1.89115], \"x\": [0, -0.00339532], \"line\": {\"color\": \"rgb(20, 0, 145)\", \"width\": 2}, \"z\": [0, 0.6508], \"type\": \"scatter3d\"}, {\"mode\": \"lines\", \"y\": [0, 1.890562], \"x\": [0, -0.00321652], \"line\": {\"color\": \"rgb(20, 0, 145)\", \"width\": 2}, \"z\": [0, 0.652508], \"type\": \"scatter3d\"}, {\"mode\": \"lines\", \"y\": [0, 1.890046], \"x\": [0, -0.00447062], \"line\": {\"color\": \"rgb(20, 0, 145)\", \"width\": 2}, \"z\": [0, 0.653994], \"type\": \"scatter3d\"}, {\"mode\": \"lines\", \"y\": [0, 1.890046], \"x\": [0, -0.00447062], \"line\": {\"color\": \"rgb(20, 0, 145)\", \"width\": 2}, \"z\": [0, 0.653994], \"type\": \"scatter3d\"}, {\"mode\": \"lines\", \"y\": [0, 1.889748], \"x\": [0, -0.00812364], \"line\": {\"color\": \"rgb(20, 0, 145)\", \"width\": 2}, \"z\": [0, 0.654816], \"type\": \"scatter3d\"}, {\"mode\": \"lines\", \"y\": [0, 1.890668], \"x\": [0, -0.00691842], \"line\": {\"color\": \"rgb(20, 0, 145)\", \"width\": 2}, \"z\": [0, 0.65217], \"type\": \"scatter3d\"}, {\"mode\": \"lines\", \"y\": [0, 1.889242], \"x\": [0, -0.00591838], \"line\": {\"color\": \"rgb(20, 0, 145)\", \"width\": 2}, \"z\": [0, 0.656302], \"type\": \"scatter3d\"}, {\"mode\": \"lines\", \"y\": [0, 1.890004], \"x\": [0, -0.0067534], \"line\": {\"color\": \"rgb(20, 0, 145)\", \"width\": 2}, \"z\": [0, 0.654096], \"type\": \"scatter3d\"}, {\"mode\": \"lines\", \"y\": [0, 1.890004], \"x\": [0, -0.0067534], \"line\": {\"color\": \"rgb(20, 0, 145)\", \"width\": 2}, \"z\": [0, 0.654096], \"type\": \"scatter3d\"}, {\"mode\": \"lines\", \"y\": [0, 1.89142], \"x\": [0, -0.00927956], \"line\": {\"color\": \"rgb(20, 0, 145)\", \"width\": 2}, \"z\": [0, 0.649954], \"type\": \"scatter3d\"}, {\"mode\": \"lines\", \"y\": [0, 1.890574], \"x\": [0, -0.00722574], \"line\": {\"color\": \"rgb(20, 0, 145)\", \"width\": 2}, \"z\": [0, 0.652442], \"type\": \"scatter3d\"}, {\"mode\": \"lines\", \"y\": [0, 1.890328], \"x\": [0, -0.010015], \"line\": {\"color\": \"rgb(20, 0, 145)\", \"width\": 2}, \"z\": [0, 0.653118], \"type\": \"scatter3d\"}, {\"mode\": \"lines\", \"y\": [0, 1.891216], \"x\": [0, -0.0094743], \"line\": {\"color\": \"rgb(20, 0, 145)\", \"width\": 2}, \"z\": [0, 0.650544], \"type\": \"scatter3d\"}, {\"mode\": \"lines\", \"y\": [0, 1.891216], \"x\": [0, -0.0094743], \"line\": {\"color\": \"rgb(20, 0, 145)\", \"width\": 2}, \"z\": [0, 0.650544], \"type\": \"scatter3d\"}, {\"mode\": \"lines\", \"y\": [0, 1.891662], \"x\": [0, -0.00737596], \"line\": {\"color\": \"rgb(20, 0, 145)\", \"width\": 2}, \"z\": [0, 0.64928], \"type\": \"scatter3d\"}, {\"mode\": \"lines\", \"y\": [0, 1.892544], \"x\": [0, -0.00965694], \"line\": {\"color\": \"rgb(20, 0, 145)\", \"width\": 2}, \"z\": [0, 0.64667], \"type\": \"scatter3d\"}, {\"mode\": \"lines\", \"y\": [0, 1.89171], \"x\": [0, -0.01071622], \"line\": {\"color\": \"rgb(20, 0, 145)\", \"width\": 2}, \"z\": [0, 0.64909], \"type\": \"scatter3d\"}, {\"mode\": \"lines\", \"y\": [0, 1.892778], \"x\": [0, -0.01044702], \"line\": {\"color\": \"rgb(20, 0, 145)\", \"width\": 2}, \"z\": [0, 0.645976], \"type\": \"scatter3d\"}, {\"mode\": \"lines\", \"y\": [0, 1.892778], \"x\": [0, -0.01044702], \"line\": {\"color\": \"rgb(20, 0, 145)\", \"width\": 2}, \"z\": [0, 0.645976], \"type\": \"scatter3d\"}, {\"mode\": \"lines\", \"y\": [0, 1.891318], \"x\": [0, -0.00843292], \"line\": {\"color\": \"rgb(20, 0, 145)\", \"width\": 2}, \"z\": [0, 0.650264], \"type\": \"scatter3d\"}, {\"mode\": \"lines\", \"y\": [0, 1.892824], \"x\": [0, -0.00918532], \"line\": {\"color\": \"rgb(20, 0, 145)\", \"width\": 2}, \"z\": [0, 0.645858], \"type\": \"scatter3d\"}, {\"mode\": \"lines\", \"y\": [0, 1.892066], \"x\": [0, -0.00769004], \"line\": {\"color\": \"rgb(20, 0, 145)\", \"width\": 2}, \"z\": [0, 0.648092], \"type\": \"scatter3d\"}, {\"mode\": \"lines\", \"y\": [0, 1.891576], \"x\": [0, -0.01487422], \"line\": {\"color\": \"rgb(20, 0, 145)\", \"width\": 2}, \"z\": [0, 0.649402], \"type\": \"scatter3d\"}, {\"mode\": \"lines\", \"y\": [0, 1.893428], \"x\": [0, -0.0115748], \"line\": {\"color\": \"rgb(20, 0, 145)\", \"width\": 2}, \"z\": [0, 0.644046], \"type\": \"scatter3d\"}, {\"mode\": \"lines\", \"y\": [0, 1.893428], \"x\": [0, -0.0115748], \"line\": {\"color\": \"rgb(20, 0, 145)\", \"width\": 2}, \"z\": [0, 0.644046], \"type\": \"scatter3d\"}, {\"mode\": \"lines\", \"y\": [0, 1.886714], \"x\": [0, 0.275772], \"line\": {\"color\": \"rgb(20, 0, 145)\", \"width\": 2}, \"z\": [0, 0.603542], \"type\": \"scatter3d\"}, {\"mode\": \"lines\", \"y\": [0, 1.886842], \"x\": [0, 0.276378], \"line\": {\"color\": \"rgb(20, 0, 145)\", \"width\": 2}, \"z\": [0, 0.602862], \"type\": \"scatter3d\"}, {\"mode\": \"lines\", \"y\": [0, 1.886382], \"x\": [0, 0.276374], \"line\": {\"color\": \"rgb(20, 0, 145)\", \"width\": 2}, \"z\": [0, 0.604302], \"type\": \"scatter3d\"}, {\"mode\": \"lines\", \"y\": [0, 1.887598], \"x\": [0, 0.276166], \"line\": {\"color\": \"rgb(20, 0, 145)\", \"width\": 2}, \"z\": [0, 0.60059], \"type\": \"scatter3d\"}, {\"mode\": \"lines\", \"y\": [0, 1.887598], \"x\": [0, 0.276166], \"line\": {\"color\": \"rgb(20, 0, 145)\", \"width\": 2}, \"z\": [0, 0.60059], \"type\": \"scatter3d\"}, {\"mode\": \"lines\", \"y\": [0, 1.886936], \"x\": [0, 0.272318], \"line\": {\"color\": \"rgb(20, 0, 145)\", \"width\": 2}, \"z\": [0, 0.60441], \"type\": \"scatter3d\"}, {\"mode\": \"lines\", \"y\": [0, 1.885608], \"x\": [0, 0.27537], \"line\": {\"color\": \"rgb(20, 0, 145)\", \"width\": 2}, \"z\": [0, 0.607168], \"type\": \"scatter3d\"}, {\"mode\": \"lines\", \"y\": [0, 1.887072], \"x\": [0, 0.276134], \"line\": {\"color\": \"rgb(20, 0, 145)\", \"width\": 2}, \"z\": [0, 0.602252], \"type\": \"scatter3d\"}, {\"mode\": \"lines\", \"y\": [0, 1.88727], \"x\": [0, 0.27357], \"line\": {\"color\": \"rgb(20, 0, 145)\", \"width\": 2}, \"z\": [0, 0.602802], \"type\": \"scatter3d\"}, {\"mode\": \"lines\", \"y\": [0, 1.88727], \"x\": [0, 0.27357], \"line\": {\"color\": \"rgb(20, 0, 145)\", \"width\": 2}, \"z\": [0, 0.602802], \"type\": \"scatter3d\"}, {\"mode\": \"lines\", \"y\": [0, 1.887256], \"x\": [0, 0.27633], \"line\": {\"color\": \"rgb(20, 0, 145)\", \"width\": 2}, \"z\": [0, 0.60159], \"type\": \"scatter3d\"}, {\"mode\": \"lines\", \"y\": [0, 1.886632], \"x\": [0, 0.271294], \"line\": {\"color\": \"rgb(20, 0, 145)\", \"width\": 2}, \"z\": [0, 0.605822], \"type\": \"scatter3d\"}, {\"mode\": \"lines\", \"y\": [0, 1.887774], \"x\": [0, 0.273028], \"line\": {\"color\": \"rgb(20, 0, 145)\", \"width\": 2}, \"z\": [0, 0.601472], \"type\": \"scatter3d\"}, {\"mode\": \"lines\", \"y\": [0, 1.887774], \"x\": [0, 0.273028], \"line\": {\"color\": \"rgb(20, 0, 145)\", \"width\": 2}, \"z\": [0, 0.601472], \"type\": \"scatter3d\"}, {\"mode\": \"lines\", \"y\": [0, 1.886902], \"x\": [0, 0.27528], \"line\": {\"color\": \"rgb(20, 0, 145)\", \"width\": 2}, \"z\": [0, 0.603178], \"type\": \"scatter3d\"}, {\"mode\": \"lines\", \"y\": [0, 1.887222], \"x\": [0, 0.274612], \"line\": {\"color\": \"rgb(20, 0, 145)\", \"width\": 2}, \"z\": [0, 0.602476], \"type\": \"scatter3d\"}, {\"mode\": \"lines\", \"y\": [0, 1.887424], \"x\": [0, 0.273838], \"line\": {\"color\": \"rgb(20, 0, 145)\", \"width\": 2}, \"z\": [0, 0.602202], \"type\": \"scatter3d\"}, {\"mode\": \"lines\", \"y\": [0, 1.887606], \"x\": [0, 0.27306], \"line\": {\"color\": \"rgb(20, 0, 145)\", \"width\": 2}, \"z\": [0, 0.60198], \"type\": \"scatter3d\"}, {\"mode\": \"lines\", \"y\": [0, 1.887744], \"x\": [0, 0.273786], \"line\": {\"color\": \"rgb(20, 0, 145)\", \"width\": 2}, \"z\": [0, 0.601216], \"type\": \"scatter3d\"}, {\"mode\": \"lines\", \"y\": [0, 1.887744], \"x\": [0, 0.273786], \"line\": {\"color\": \"rgb(20, 0, 145)\", \"width\": 2}, \"z\": [0, 0.601216], \"type\": \"scatter3d\"}, {\"mode\": \"lines\", \"y\": [0, 1.888946], \"x\": [0, 0.271696], \"line\": {\"color\": \"rgb(20, 0, 145)\", \"width\": 2}, \"z\": [0, 0.598386], \"type\": \"scatter3d\"}, {\"mode\": \"lines\", \"y\": [0, 1.887502], \"x\": [0, 0.274898], \"line\": {\"color\": \"rgb(20, 0, 145)\", \"width\": 2}, \"z\": [0, 0.601474], \"type\": \"scatter3d\"}, {\"mode\": \"lines\", \"y\": [0, 1.888094], \"x\": [0, 0.271998], \"line\": {\"color\": \"rgb(20, 0, 145)\", \"width\": 2}, \"z\": [0, 0.600932], \"type\": \"scatter3d\"}, {\"mode\": \"lines\", \"y\": [0, 1.888094], \"x\": [0, 0.271998], \"line\": {\"color\": \"rgb(20, 0, 145)\", \"width\": 2}, \"z\": [0, 0.600932], \"type\": \"scatter3d\"}, {\"mode\": \"lines\", \"y\": [0, 1.888156], \"x\": [0, 0.27365], \"line\": {\"color\": \"rgb(20, 0, 145)\", \"width\": 2}, \"z\": [0, 0.599982], \"type\": \"scatter3d\"}, {\"mode\": \"lines\", \"y\": [0, 1.88809], \"x\": [0, 0.276008], \"line\": {\"color\": \"rgb(20, 0, 145)\", \"width\": 2}, \"z\": [0, 0.59911], \"type\": \"scatter3d\"}, {\"mode\": \"lines\", \"y\": [0, 1.888224], \"x\": [0, 0.273884], \"line\": {\"color\": \"rgb(20, 0, 145)\", \"width\": 2}, \"z\": [0, 0.599668], \"type\": \"scatter3d\"}, {\"mode\": \"lines\", \"y\": [0, 1.889626], \"x\": [0, 0.268864], \"line\": {\"color\": \"rgb(20, 0, 145)\", \"width\": 2}, \"z\": [0, 0.597516], \"type\": \"scatter3d\"}, {\"mode\": \"lines\", \"y\": [0, 1.888782], \"x\": [0, 0.271752], \"line\": {\"color\": \"rgb(20, 0, 145)\", \"width\": 2}, \"z\": [0, 0.598876], \"type\": \"scatter3d\"}, {\"mode\": \"lines\", \"y\": [0, 1.888782], \"x\": [0, 0.271752], \"line\": {\"color\": \"rgb(20, 0, 145)\", \"width\": 2}, \"z\": [0, 0.598876], \"type\": \"scatter3d\"}, {\"mode\": \"lines\", \"y\": [0, 1.889274], \"x\": [0, 0.27013], \"line\": {\"color\": \"rgb(20, 0, 145)\", \"width\": 2}, \"z\": [0, 0.598058], \"type\": \"scatter3d\"}, {\"mode\": \"lines\", \"y\": [0, 1.88977], \"x\": [0, 0.26979], \"line\": {\"color\": \"rgb(20, 0, 145)\", \"width\": 2}, \"z\": [0, 0.596642], \"type\": \"scatter3d\"}, {\"mode\": \"lines\", \"y\": [0, 1.890104], \"x\": [0, 0.265828], \"line\": {\"color\": \"rgb(20, 0, 145)\", \"width\": 2}, \"z\": [0, 0.59736], \"type\": \"scatter3d\"}, {\"mode\": \"lines\", \"y\": [0, 1.890274], \"x\": [0, 0.269144], \"line\": {\"color\": \"rgb(20, 0, 145)\", \"width\": 2}, \"z\": [0, 0.595336], \"type\": \"scatter3d\"}, {\"mode\": \"lines\", \"y\": [0, 1.890274], \"x\": [0, 0.269144], \"line\": {\"color\": \"rgb(20, 0, 145)\", \"width\": 2}, \"z\": [0, 0.595336], \"type\": \"scatter3d\"}, {\"mode\": \"lines\", \"y\": [0, 1.89031], \"x\": [0, 0.266572], \"line\": {\"color\": \"rgb(20, 0, 145)\", \"width\": 2}, \"z\": [0, 0.596378], \"type\": \"scatter3d\"}, {\"mode\": \"lines\", \"y\": [0, 1.891054], \"x\": [0, 0.265642], \"line\": {\"color\": \"rgb(20, 0, 145)\", \"width\": 2}, \"z\": [0, 0.594432], \"type\": \"scatter3d\"}, {\"mode\": \"lines\", \"y\": [0, 1.890758], \"x\": [0, 0.266866], \"line\": {\"color\": \"rgb(20, 0, 145)\", \"width\": 2}, \"z\": [0, 0.594824], \"type\": \"scatter3d\"}, {\"mode\": \"lines\", \"y\": [0, 1.89033], \"x\": [0, 0.269438], \"line\": {\"color\": \"rgb(20, 0, 145)\", \"width\": 2}, \"z\": [0, 0.595026], \"type\": \"scatter3d\"}, {\"mode\": \"lines\", \"y\": [0, 1.89033], \"x\": [0, 0.269438], \"line\": {\"color\": \"rgb(20, 0, 145)\", \"width\": 2}, \"z\": [0, 0.595026], \"type\": \"scatter3d\"}, {\"mode\": \"lines\", \"y\": [0, 1.889086], \"x\": [0, 0.268076], \"line\": {\"color\": \"rgb(20, 0, 145)\", \"width\": 2}, \"z\": [0, 0.599578], \"type\": \"scatter3d\"}, {\"mode\": \"lines\", \"y\": [0, 1.888952], \"x\": [0, 0.266102], \"line\": {\"color\": \"rgb(20, 0, 145)\", \"width\": 2}, \"z\": [0, 0.600878], \"type\": \"scatter3d\"}, {\"mode\": \"lines\", \"y\": [0, 1.890248], \"x\": [0, 0.266018], \"line\": {\"color\": \"rgb(20, 0, 145)\", \"width\": 2}, \"z\": [0, 0.596824], \"type\": \"scatter3d\"}, {\"mode\": \"lines\", \"y\": [0, 1.889824], \"x\": [0, 0.26133], \"line\": {\"color\": \"rgb(20, 0, 145)\", \"width\": 2}, \"z\": [0, 0.600228], \"type\": \"scatter3d\"}, {\"mode\": \"lines\", \"y\": [0, 1.889824], \"x\": [0, 0.26133], \"line\": {\"color\": \"rgb(20, 0, 145)\", \"width\": 2}, \"z\": [0, 0.600228], \"type\": \"scatter3d\"}, {\"mode\": \"lines\", \"y\": [0, 1.890584], \"x\": [0, 0.26444], \"line\": {\"color\": \"rgb(20, 0, 145)\", \"width\": 2}, \"z\": [0, 0.59646], \"type\": \"scatter3d\"}, {\"mode\": \"lines\", \"y\": [0, 1.891038], \"x\": [0, 0.25762], \"line\": {\"color\": \"rgb(20, 0, 145)\", \"width\": 2}, \"z\": [0, 0.598002], \"type\": \"scatter3d\"}, {\"mode\": \"lines\", \"y\": [0, 1.891702], \"x\": [0, 0.263304], \"line\": {\"color\": \"rgb(20, 0, 145)\", \"width\": 2}, \"z\": [0, 0.593408], \"type\": \"scatter3d\"}, {\"mode\": \"lines\", \"y\": [0, 1.89154], \"x\": [0, 0.257662], \"line\": {\"color\": \"rgb(20, 0, 145)\", \"width\": 2}, \"z\": [0, 0.596394], \"type\": \"scatter3d\"}, {\"mode\": \"lines\", \"y\": [0, 1.89154], \"x\": [0, 0.257662], \"line\": {\"color\": \"rgb(20, 0, 145)\", \"width\": 2}, \"z\": [0, 0.596394], \"type\": \"scatter3d\"}, {\"mode\": \"lines\", \"y\": [0, 1.891086], \"x\": [0, 0.252914], \"line\": {\"color\": \"rgb(20, 0, 145)\", \"width\": 2}, \"z\": [0, 0.599858], \"type\": \"scatter3d\"}, {\"mode\": \"lines\", \"y\": [0, 1.891124], \"x\": [0, 0.25932], \"line\": {\"color\": \"rgb(20, 0, 145)\", \"width\": 2}, \"z\": [0, 0.596994], \"type\": \"scatter3d\"}, {\"mode\": \"lines\", \"y\": [0, 1.890338], \"x\": [0, 0.25829], \"line\": {\"color\": \"rgb(20, 0, 145)\", \"width\": 2}, \"z\": [0, 0.599926], \"type\": \"scatter3d\"}, {\"mode\": \"lines\", \"y\": [0, 1.891316], \"x\": [0, 0.261856], \"line\": {\"color\": \"rgb(20, 0, 145)\", \"width\": 2}, \"z\": [0, 0.595278], \"type\": \"scatter3d\"}, {\"mode\": \"lines\", \"y\": [0, 1.891316], \"x\": [0, 0.261856], \"line\": {\"color\": \"rgb(20, 0, 145)\", \"width\": 2}, \"z\": [0, 0.595278], \"type\": \"scatter3d\"}, {\"mode\": \"lines\", \"y\": [0, 1.890874], \"x\": [0, 0.253342], \"line\": {\"color\": \"rgb(20, 0, 145)\", \"width\": 2}, \"z\": [0, 0.600342], \"type\": \"scatter3d\"}, {\"mode\": \"lines\", \"y\": [0, 1.892088], \"x\": [0, 0.259448], \"line\": {\"color\": \"rgb(20, 0, 145)\", \"width\": 2}, \"z\": [0, 0.59388], \"type\": \"scatter3d\"}, {\"mode\": \"lines\", \"y\": [0, 1.891122], \"x\": [0, 0.256432], \"line\": {\"color\": \"rgb(20, 0, 145)\", \"width\": 2}, \"z\": [0, 0.59825], \"type\": \"scatter3d\"}, {\"mode\": \"lines\", \"y\": [0, 1.891848], \"x\": [0, 0.259112], \"line\": {\"color\": \"rgb(20, 0, 145)\", \"width\": 2}, \"z\": [0, 0.59479], \"type\": \"scatter3d\"}, {\"mode\": \"lines\", \"y\": [0, 1.891848], \"x\": [0, 0.259112], \"line\": {\"color\": \"rgb(20, 0, 145)\", \"width\": 2}, \"z\": [0, 0.59479], \"type\": \"scatter3d\"}, {\"mode\": \"lines\", \"y\": [0, 1.891594], \"x\": [0, 0.260448], \"line\": {\"color\": \"rgb(20, 0, 145)\", \"width\": 2}, \"z\": [0, 0.595012], \"type\": \"scatter3d\"}, {\"mode\": \"lines\", \"y\": [0, 1.890478], \"x\": [0, 0.258944], \"line\": {\"color\": \"rgb(20, 0, 145)\", \"width\": 2}, \"z\": [0, 0.5992], \"type\": \"scatter3d\"}, {\"mode\": \"lines\", \"y\": [0, 1.890548], \"x\": [0, 0.259556], \"line\": {\"color\": \"rgb(20, 0, 145)\", \"width\": 2}, \"z\": [0, 0.598718], \"type\": \"scatter3d\"}, {\"mode\": \"lines\", \"y\": [0, 1.890722], \"x\": [0, 0.258494], \"line\": {\"color\": \"rgb(20, 0, 145)\", \"width\": 2}, \"z\": [0, 0.598622], \"type\": \"scatter3d\"}, {\"mode\": \"lines\", \"y\": [0, 1.890722], \"x\": [0, 0.258494], \"line\": {\"color\": \"rgb(20, 0, 145)\", \"width\": 2}, \"z\": [0, 0.598622], \"type\": \"scatter3d\"}, {\"mode\": \"lines\", \"y\": [0, 1.89134], \"x\": [0, 0.262066], \"line\": {\"color\": \"rgb(20, 0, 145)\", \"width\": 2}, \"z\": [0, 0.59511], \"type\": \"scatter3d\"}, {\"mode\": \"lines\", \"y\": [0, 1.892004], \"x\": [0, 0.25975], \"line\": {\"color\": \"rgb(20, 0, 145)\", \"width\": 2}, \"z\": [0, 0.594014], \"type\": \"scatter3d\"}, {\"mode\": \"lines\", \"y\": [0, 1.890902], \"x\": [0, 0.26142], \"line\": {\"color\": \"rgb(20, 0, 145)\", \"width\": 2}, \"z\": [0, 0.596782], \"type\": \"scatter3d\"}, {\"mode\": \"lines\", \"y\": [0, 1.891996], \"x\": [0, 0.25713], \"line\": {\"color\": \"rgb(20, 0, 145)\", \"width\": 2}, \"z\": [0, 0.595176], \"type\": \"scatter3d\"}, {\"mode\": \"lines\", \"y\": [0, 1.891996], \"x\": [0, 0.25713], \"line\": {\"color\": \"rgb(20, 0, 145)\", \"width\": 2}, \"z\": [0, 0.595176], \"type\": \"scatter3d\"}, {\"mode\": \"lines\", \"y\": [0, 1.89286], \"x\": [0, 0.25409], \"line\": {\"color\": \"rgb(20, 0, 145)\", \"width\": 2}, \"z\": [0, 0.593732], \"type\": \"scatter3d\"}, {\"mode\": \"lines\", \"y\": [0, 1.894144], \"x\": [0, 0.255862], \"line\": {\"color\": \"rgb(20, 0, 145)\", \"width\": 2}, \"z\": [0, 0.58886], \"type\": \"scatter3d\"}, {\"mode\": \"lines\", \"y\": [0, 1.892954], \"x\": [0, 0.255684], \"line\": {\"color\": \"rgb(20, 0, 145)\", \"width\": 2}, \"z\": [0, 0.592746], \"type\": \"scatter3d\"}, {\"mode\": \"lines\", \"y\": [0, 1.893336], \"x\": [0, 0.252768], \"line\": {\"color\": \"rgb(20, 0, 145)\", \"width\": 2}, \"z\": [0, 0.592778], \"type\": \"scatter3d\"}, {\"mode\": \"lines\", \"y\": [0, 1.893336], \"x\": [0, 0.252768], \"line\": {\"color\": \"rgb(20, 0, 145)\", \"width\": 2}, \"z\": [0, 0.592778], \"type\": \"scatter3d\"}, {\"mode\": \"lines\", \"y\": [0, 1.893192], \"x\": [0, 0.25652], \"line\": {\"color\": \"rgb(20, 0, 145)\", \"width\": 2}, \"z\": [0, 0.591624], \"type\": \"scatter3d\"}, {\"mode\": \"lines\", \"y\": [0, 1.892444], \"x\": [0, 0.259008], \"line\": {\"color\": \"rgb(20, 0, 145)\", \"width\": 2}, \"z\": [0, 0.592936], \"type\": \"scatter3d\"}, {\"mode\": \"lines\", \"y\": [0, 1.892466], \"x\": [0, 0.262102], \"line\": {\"color\": \"rgb(20, 0, 145)\", \"width\": 2}, \"z\": [0, 0.591504], \"type\": \"scatter3d\"}, {\"mode\": \"lines\", \"y\": [0, 1.89324], \"x\": [0, 0.262862], \"line\": {\"color\": \"rgb(20, 0, 145)\", \"width\": 2}, \"z\": [0, 0.588682], \"type\": \"scatter3d\"}, {\"mode\": \"lines\", \"y\": [0, 1.89324], \"x\": [0, 0.262862], \"line\": {\"color\": \"rgb(20, 0, 145)\", \"width\": 2}, \"z\": [0, 0.588682], \"type\": \"scatter3d\"}, {\"mode\": \"lines\", \"y\": [0, 1.893142], \"x\": [0, 0.26107], \"line\": {\"color\": \"rgb(20, 0, 145)\", \"width\": 2}, \"z\": [0, 0.589792], \"type\": \"scatter3d\"}, {\"mode\": \"lines\", \"y\": [0, 1.891914], \"x\": [0, 0.265006], \"line\": {\"color\": \"rgb(20, 0, 145)\", \"width\": 2}, \"z\": [0, 0.591976], \"type\": \"scatter3d\"}, {\"mode\": \"lines\", \"y\": [0, 1.89299], \"x\": [0, 0.266006], \"line\": {\"color\": \"rgb(20, 0, 145)\", \"width\": 2}, \"z\": [0, 0.588072], \"type\": \"scatter3d\"}, {\"mode\": \"lines\", \"y\": [0, 1.893528], \"x\": [0, 0.262988], \"line\": {\"color\": \"rgb(20, 0, 145)\", \"width\": 2}, \"z\": [0, 0.587698], \"type\": \"scatter3d\"}, {\"mode\": \"lines\", \"y\": [0, 1.893528], \"x\": [0, 0.262988], \"line\": {\"color\": \"rgb(20, 0, 145)\", \"width\": 2}, \"z\": [0, 0.587698], \"type\": \"scatter3d\"}, {\"mode\": \"lines\", \"y\": [0, 1.892916], \"x\": [0, 0.260396], \"line\": {\"color\": \"rgb(20, 0, 145)\", \"width\": 2}, \"z\": [0, 0.590816], \"type\": \"scatter3d\"}, {\"mode\": \"lines\", \"y\": [0, 1.893898], \"x\": [0, 0.260738], \"line\": {\"color\": \"rgb(20, 0, 145)\", \"width\": 2}, \"z\": [0, 0.587506], \"type\": \"scatter3d\"}, {\"mode\": \"lines\", \"y\": [0, 1.89562], \"x\": [0, 0.256556], \"line\": {\"color\": \"rgb(20, 0, 145)\", \"width\": 2}, \"z\": [0, 0.583786], \"type\": \"scatter3d\"}, {\"mode\": \"lines\", \"y\": [0, 1.895174], \"x\": [0, 0.256096], \"line\": {\"color\": \"rgb(20, 0, 145)\", \"width\": 2}, \"z\": [0, 0.58543], \"type\": \"scatter3d\"}, {\"mode\": \"lines\", \"y\": [0, 1.895174], \"x\": [0, 0.256096], \"line\": {\"color\": \"rgb(20, 0, 145)\", \"width\": 2}, \"z\": [0, 0.58543], \"type\": \"scatter3d\"}, {\"mode\": \"lines\", \"y\": [0, 1.894534], \"x\": [0, 0.261714], \"line\": {\"color\": \"rgb(20, 0, 145)\", \"width\": 2}, \"z\": [0, 0.58502], \"type\": \"scatter3d\"}, {\"mode\": \"lines\", \"y\": [0, 1.894522], \"x\": [0, 0.258154], \"line\": {\"color\": \"rgb(20, 0, 145)\", \"width\": 2}, \"z\": [0, 0.58664], \"type\": \"scatter3d\"}, {\"mode\": \"lines\", \"y\": [0, 1.89359], \"x\": [0, 0.260638], \"line\": {\"color\": \"rgb(20, 0, 145)\", \"width\": 2}, \"z\": [0, 0.588548], \"type\": \"scatter3d\"}, {\"mode\": \"lines\", \"y\": [0, 1.894206], \"x\": [0, 0.25825], \"line\": {\"color\": \"rgb(20, 0, 145)\", \"width\": 2}, \"z\": [0, 0.587614], \"type\": \"scatter3d\"}, {\"mode\": \"lines\", \"y\": [0, 1.894206], \"x\": [0, 0.25825], \"line\": {\"color\": \"rgb(20, 0, 145)\", \"width\": 2}, \"z\": [0, 0.587614], \"type\": \"scatter3d\"}, {\"mode\": \"lines\", \"y\": [0, 1.894644], \"x\": [0, 0.260422], \"line\": {\"color\": \"rgb(20, 0, 145)\", \"width\": 2}, \"z\": [0, 0.585238], \"type\": \"scatter3d\"}, {\"mode\": \"lines\", \"y\": [0, 1.895576], \"x\": [0, 0.258388], \"line\": {\"color\": \"rgb(20, 0, 145)\", \"width\": 2}, \"z\": [0, 0.583118], \"type\": \"scatter3d\"}, {\"mode\": \"lines\", \"y\": [0, 1.895832], \"x\": [0, 0.254664], \"line\": {\"color\": \"rgb(20, 0, 145)\", \"width\": 2}, \"z\": [0, 0.583926], \"type\": \"scatter3d\"}, {\"mode\": \"lines\", \"y\": [0, 1.895384], \"x\": [0, 0.260202], \"line\": {\"color\": \"rgb(20, 0, 145)\", \"width\": 2}, \"z\": [0, 0.582938], \"type\": \"scatter3d\"}, {\"mode\": \"lines\", \"y\": [0, 1.895384], \"x\": [0, 0.260202], \"line\": {\"color\": \"rgb(20, 0, 145)\", \"width\": 2}, \"z\": [0, 0.582938], \"type\": \"scatter3d\"}, {\"marker\": {\"color\": \"#48186a\", \"size\": 10}, \"mode\": \"markers\", \"y\": [0], \"x\": [0], \"z\": [0], \"type\": \"scatter3d\"}, {\"marker\": {\"color\": \"rgb(0,144,144)\", \"size\": 5}, \"mode\": \"markers\", \"y\": [1.5, 1.5, 1.5, 1.5, 1.5, 1.5, 1.5, 1.5, 1.5], \"x\": [-0.20000000298023224, 0.0, 0.20000000298023224, -0.20000000298023224, 0.0, 0.20000000298023224, -0.20000000298023224, 0.0, 0.20000000298023224], \"z\": [-0.5, -0.5, -0.5, 0.0, 0.0, 0.0, 0.5, 0.5, 0.5], \"type\": \"scatter3d\"}], {\"showlegend\": false, \"title\": \"Calibration - EIH Space\", \"scene\": {\"aspectratio\": {\"y\": 1, \"x\": 1, \"z\": 1}, \"aspectmode\": \"manual\", \"zaxis\": {\"range\": [-2, 2], \"title\": \"z Axis\"}, \"xaxis\": {\"range\": [-1, 1], \"title\": \"x Axis\"}, \"yaxis\": {\"range\": [-1, 3], \"title\": \"y Axis\"}}, \"height\": 800, \"width\": 800, \"hovermode\": \"closest\", \"margin\": {\"t\": 100}}, {\"linkText\": \"Export to plot.ly\", \"showLink\": true})});</script>"
      ]
     },
     "metadata": {},
     "output_type": "display_data"
    }
   ],
   "source": [
    "width = 800\n",
    "height = 800\n",
    "xRange = [-1,1]\n",
    "yRange = [-1,3]\n",
    "zRange = [-2,2]\n",
    "\n",
    "calibPt_pt = np.array(calibPt_pt)\n",
    "calibTrace = go.Scatter3d(x=calibPt_pt[:,0],\n",
    "                           y=calibPt_pt[:,2],\n",
    "                           z=calibPt_pt[:,1],\n",
    "                           mode='markers',\n",
    "                           marker={'color': 'rgb(0,144,144)', 'size': 5},\n",
    "                          )\n",
    "\n",
    "headTrace = go.Scatter3d(x=[0],y=[0],z=[0],\n",
    "                       mode='markers',\n",
    "                       marker={'color': '#48186a', 'size': 10})\n",
    "\n",
    "allTraces.append(headTrace)\n",
    "allTraces.append(calibTrace)\n",
    "\n",
    "layout = go.Layout(title=\"Calibration - EIH Space\", \n",
    "                width=width,\n",
    "                height=height,\n",
    "                showlegend=False,\n",
    "                scene=go.Scene(aspectmode='manual',\n",
    "                               xaxis=dict(range=xRange, title='x Axis'),\n",
    "                               yaxis=dict(range=yRange, title='y Axis'),\n",
    "                               zaxis=dict(range=zRange, title='z Axis'),\n",
    "                               aspectratio=dict(x=1, y=1, z=1),\n",
    "                           ),\n",
    "                margin=go.Margin(t=100),\n",
    "                hovermode='closest',\n",
    "\n",
    "                )\n",
    "\n",
    "\n",
    "fig=go.Figure(data=list(allTraces),layout=layout)\n",
    "\n",
    "iplot(fig)"
   ]
  },
  {
   "cell_type": "markdown",
   "metadata": {},
   "source": [
    "### Lets get measures of angular difference \n",
    "$\\theta = \\arccos( \\hat{eih} • \\hat{cal})$\n",
    "\n",
    "where eih is the normalized eye in head vector, and cal is the normalized direction from the eye to the calibration point"
   ]
  },
  {
   "cell_type": "code",
   "execution_count": 12,
   "metadata": {
    "collapsed": true
   },
   "outputs": [],
   "source": [
    "def calculateGazeError(row):\n",
    "\n",
    "    eyeToPointDir_xyz = row['calibrationPos_XYZ'] / np.linalg.norm(row['calibrationPos_XYZ'])\n",
    "    eihDir_xyz = row['cycEyeInHead_XYZ'] / np.linalg.norm(row['cycEyeInHead_XYZ'])\n",
    "    \n",
    "    if(sum(eihDir_xyz)==0):\n",
    "        return (np.nan,np.nan,np.nan,np.nan,np.nan)\n",
    "\n",
    "    # calculate angular difference along any direction\n",
    "    calErr2D = np.rad2deg( np.arccos( np.vdot(eihDir_xyz,eyeToPointDir_xyz)) )\n",
    "    \n",
    "    # use trig to calculate component of error along azimuth and elevation\n",
    "    \n",
    "    # Azimuth\n",
    "    # tan(alpha) = op/aj = atan(horiz/depth) = atan(x component/z component) \n",
    "    eihAzimuthDeg = np.rad2deg(np.arctan(eihDir_xyz[0]/eihDir_xyz[2]))\n",
    "    calibAzimuthDeg = np.rad2deg(np.arctan(eyeToPointDir_xyz[0]/eyeToPointDir_xyz[2]))\n",
    "    diffAzimuthDeg = eihAzimuthDeg - calibAzimuthDeg\n",
    "    \n",
    "    # Elevation\n",
    "    # tan(alpha) = op/aj = atan(height/depth) = atan(y component/z component) \n",
    "    eihElevationDeg = np.rad2deg(np.arctan(eihDir_xyz[1]/eihDir_xyz[2]))\n",
    "    calibElevationDeg = np.rad2deg(np.arctan(eyeToPointDir_xyz[1]/eyeToPointDir_xyz[2]))\n",
    "    diffElevationDeg = eihElevationDeg - calibElevationDeg\n",
    "    \n",
    "    return (calErr2D,eihAzimuthDeg,eihElevationDeg,calibAzimuthDeg,calibElevationDeg)"
   ]
  },
  {
   "cell_type": "markdown",
   "metadata": {},
   "source": [
    " It will return an error for certain rows.  Can't avoid that!"
   ]
  },
  {
   "cell_type": "code",
   "execution_count": 13,
   "metadata": {},
   "outputs": [
    {
     "name": "stderr",
     "output_type": "stream",
     "text": [
      "/Users/gjdiaz/anaconda/lib/python2.7/site-packages/ipykernel_launcher.py:4: RuntimeWarning:\n",
      "\n",
      "invalid value encountered in true_divide\n",
      "\n"
     ]
    }
   ],
   "source": [
    "out = datafile.apply( lambda row: calculateGazeError(row),axis=1)\n",
    "(calErr2D,eihAzimuthDeg,eihElevationDeg,calibAzimuthDeg,calibElevationDeg) = zip(*out)"
   ]
  },
  {
   "cell_type": "markdown",
   "metadata": {},
   "source": [
    "### Assign values to columns of the dataframe"
   ]
  },
  {
   "cell_type": "code",
   "execution_count": 14,
   "metadata": {
    "collapsed": true
   },
   "outputs": [],
   "source": [
    "datafile['eihAzimuthDeg'] = eihAzimuthDeg\n",
    "datafile['eihElevationDeg'] = eihElevationDeg\n",
    "\n",
    "datafile['calibAzimuthDeg'] = calibAzimuthDeg\n",
    "datafile['calibElevationDeg'] = calibElevationDeg\n",
    "\n",
    "datafile['calErr2D'] = calErr2D"
   ]
  },
  {
   "cell_type": "markdown",
   "metadata": {},
   "source": [
    "Now, lets take the mean and standard deviation using the \"aggregate function\""
   ]
  },
  {
   "cell_type": "code",
   "execution_count": 15,
   "metadata": {
    "collapsed": true
   },
   "outputs": [],
   "source": [
    "gbTrial = datafile.groupby('trialNumber')\n",
    "calibStatsDF = gbTrial.aggregate([np.mean,np.std])"
   ]
  },
  {
   "cell_type": "markdown",
   "metadata": {},
   "source": [
    "Lets have a look at the first grid of points"
   ]
  },
  {
   "cell_type": "markdown",
   "metadata": {},
   "source": [
    "### Beautiful!  Lets plot it"
   ]
  },
  {
   "cell_type": "code",
   "execution_count": 16,
   "metadata": {},
   "outputs": [
    {
     "data": {
      "application/vnd.plotly.v1+json": {
       "data": [
        {
         "marker": {
          "color": "rgb(0,0,0)",
          "size": 10
         },
         "mode": "markers+text",
         "text": [
          "0.31&deg;",
          "1.32&deg;",
          "2.07&deg;",
          "0.89&deg;",
          "1.66&deg;",
          "0.61&deg;",
          "0.93&deg;",
          "0.74&deg;",
          "1.04&deg;"
         ],
         "textfont": {
          "color": "rgba(0,0,0,0.5)",
          "family": "Trebuchet MS",
          "size": 15
         },
         "textposition": "top",
         "type": "scatter",
         "x": [
          -7.594643480439535,
          0,
          7.594643480439535,
          -7.594643480439535,
          0,
          7.594643480439535,
          -7.594643480439535,
          0,
          7.594643480439535
         ],
         "y": [
          -18.43494882292202,
          -18.43494882292202,
          -18.43494882292202,
          0,
          0,
          0,
          18.43494882292202,
          18.43494882292202,
          18.43494882292202
         ]
        },
        {
         "marker": {
          "color": "rgb(0,200,200)",
          "size": 10
         },
         "mode": "markers",
         "type": "scatter",
         "x": [
          -7.787954883624805,
          -0.6223651315943315,
          5.5639123953352305,
          -6.756717359681359,
          1.5340141315218445,
          7.5872083774269505,
          -6.696276226373394,
          -0.3944765761370981,
          7.969637482529411
         ],
         "y": [
          -18.3236989945832,
          -19.622218307830657,
          -19.122860900737695,
          -0.2997056640464426,
          -0.6481029672230402,
          -0.6122557390505532,
          18.765510503939048,
          18.871345425318466,
          17.487044823471862
         ]
        }
       ],
       "layout": {
        "height": 800,
        "hovermode": "closest",
        "margin": {
         "t": 100
        },
        "scene": {
         "aspectmode": "manual",
         "aspectratio": {
          "x": 1,
          "y": 1
         }
        },
        "showlegend": false,
        "title": "Calibration - Head Centered Angular space",
        "width": 800,
        "xaxis": {
         "range": [
          -22,
          22
         ],
         "title": "degrees azimuth"
        },
        "yaxis": {
         "range": [
          -22,
          22
         ],
         "title": "degrees elevation"
        }
       }
      },
      "text/html": [
       "<div id=\"80e2b8f2-6634-4867-ad49-a3c8f8f20c49\" style=\"height: 800px; width: 800px;\" class=\"plotly-graph-div\"></div><script type=\"text/javascript\">require([\"plotly\"], function(Plotly) { window.PLOTLYENV=window.PLOTLYENV || {};window.PLOTLYENV.BASE_URL=\"https://plot.ly\";Plotly.newPlot(\"80e2b8f2-6634-4867-ad49-a3c8f8f20c49\", [{\"textposition\": \"top\", \"textfont\": {\"color\": \"rgba(0,0,0,0.5)\", \"family\": \"Trebuchet MS\", \"size\": 15}, \"text\": [\"0.31&deg;\", \"1.32&deg;\", \"2.07&deg;\", \"0.89&deg;\", \"1.66&deg;\", \"0.61&deg;\", \"0.93&deg;\", \"0.74&deg;\", \"1.04&deg;\"], \"marker\": {\"color\": \"rgb(0,0,0)\", \"size\": 10}, \"mode\": \"markers+text\", \"y\": [-18.43494882292202, -18.43494882292202, -18.43494882292202, 0.0, 0.0, 0.0, 18.43494882292202, 18.43494882292202, 18.43494882292202], \"x\": [-7.594643480439535, 0.0, 7.594643480439535, -7.594643480439535, 0.0, 7.594643480439535, -7.594643480439535, 0.0, 7.594643480439535], \"type\": \"scatter\"}, {\"marker\": {\"color\": \"rgb(0,200,200)\", \"size\": 10}, \"y\": [-18.3236989945832, -19.622218307830657, -19.122860900737695, -0.2997056640464426, -0.6481029672230402, -0.6122557390505532, 18.765510503939048, 18.871345425318466, 17.487044823471862], \"type\": \"scatter\", \"mode\": \"markers\", \"x\": [-7.787954883624805, -0.6223651315943315, 5.5639123953352305, -6.756717359681359, 1.5340141315218445, 7.5872083774269505, -6.696276226373394, -0.3944765761370981, 7.969637482529411]}], {\"showlegend\": false, \"yaxis\": {\"range\": [-22, 22], \"title\": \"degrees elevation\"}, \"title\": \"Calibration - Head Centered Angular space\", \"scene\": {\"aspectratio\": {\"y\": 1, \"x\": 1}, \"aspectmode\": \"manual\"}, \"height\": 800, \"width\": 800, \"xaxis\": {\"range\": [-22, 22], \"title\": \"degrees azimuth\"}, \"hovermode\": \"closest\", \"margin\": {\"t\": 100}}, {\"linkText\": \"Export to plot.ly\", \"showLink\": true})});</script>"
      ],
      "text/vnd.plotly.v1+html": [
       "<div id=\"80e2b8f2-6634-4867-ad49-a3c8f8f20c49\" style=\"height: 800px; width: 800px;\" class=\"plotly-graph-div\"></div><script type=\"text/javascript\">require([\"plotly\"], function(Plotly) { window.PLOTLYENV=window.PLOTLYENV || {};window.PLOTLYENV.BASE_URL=\"https://plot.ly\";Plotly.newPlot(\"80e2b8f2-6634-4867-ad49-a3c8f8f20c49\", [{\"textposition\": \"top\", \"textfont\": {\"color\": \"rgba(0,0,0,0.5)\", \"family\": \"Trebuchet MS\", \"size\": 15}, \"text\": [\"0.31&deg;\", \"1.32&deg;\", \"2.07&deg;\", \"0.89&deg;\", \"1.66&deg;\", \"0.61&deg;\", \"0.93&deg;\", \"0.74&deg;\", \"1.04&deg;\"], \"marker\": {\"color\": \"rgb(0,0,0)\", \"size\": 10}, \"mode\": \"markers+text\", \"y\": [-18.43494882292202, -18.43494882292202, -18.43494882292202, 0.0, 0.0, 0.0, 18.43494882292202, 18.43494882292202, 18.43494882292202], \"x\": [-7.594643480439535, 0.0, 7.594643480439535, -7.594643480439535, 0.0, 7.594643480439535, -7.594643480439535, 0.0, 7.594643480439535], \"type\": \"scatter\"}, {\"marker\": {\"color\": \"rgb(0,200,200)\", \"size\": 10}, \"y\": [-18.3236989945832, -19.622218307830657, -19.122860900737695, -0.2997056640464426, -0.6481029672230402, -0.6122557390505532, 18.765510503939048, 18.871345425318466, 17.487044823471862], \"type\": \"scatter\", \"mode\": \"markers\", \"x\": [-7.787954883624805, -0.6223651315943315, 5.5639123953352305, -6.756717359681359, 1.5340141315218445, 7.5872083774269505, -6.696276226373394, -0.3944765761370981, 7.969637482529411]}], {\"showlegend\": false, \"yaxis\": {\"range\": [-22, 22], \"title\": \"degrees elevation\"}, \"title\": \"Calibration - Head Centered Angular space\", \"scene\": {\"aspectratio\": {\"y\": 1, \"x\": 1}, \"aspectmode\": \"manual\"}, \"height\": 800, \"width\": 800, \"xaxis\": {\"range\": [-22, 22], \"title\": \"degrees azimuth\"}, \"hovermode\": \"closest\", \"margin\": {\"t\": 100}}, {\"linkText\": \"Export to plot.ly\", \"showLink\": true})});</script>"
      ]
     },
     "metadata": {},
     "output_type": "display_data"
    }
   ],
   "source": [
    "width = 800\n",
    "height = 800\n",
    "\n",
    "pts = range(0,9)\n",
    "# pts = range(9,18)\n",
    "# pts = range(18,26)\n",
    "\n",
    "labels = calibStatsDF[('calErr2D','mean')].iloc[pts].values.astype('|S4')\n",
    "labels = [l + str('&deg;') for l in labels]\n",
    "\n",
    "# The calibration points to show\n",
    "\n",
    "\n",
    "calibPoints = go.Scatter(x=calibStatsDF[('calibAzimuthDeg','mean')].iloc[pts],\n",
    "                         y=calibStatsDF[('calibElevationDeg','mean')].iloc[pts],\n",
    "                         mode='markers+text',\n",
    "                         marker={'color': 'rgb(0,0,0)', 'size': 10},\n",
    "                         text = labels,\n",
    "                         textposition='top',\n",
    "                         textfont=dict(\n",
    "                             family='Trebuchet MS',\n",
    "                             size=15,\n",
    "                             color=('rgba(0,0,0,0.5)')),\n",
    "                        )\n",
    "\n",
    "\n",
    "\n",
    "eihPoints = go.Scatter(x=calibStatsDF[('eihAzimuthDeg','mean')].iloc[pts],\n",
    "                       y=calibStatsDF[('eihElevationDeg','mean')].iloc[pts],\n",
    "                       mode='markers',\n",
    "                       marker={'color': 'rgb(0,200,200)', 'size': 10},) \n",
    "#                        error_x=dict(\n",
    "#                            type='data',\n",
    "#                            array=calibStatsDF[('eyeAzimuthDeg','std')][0:9],\n",
    "#                            visible=True\n",
    "#                        ),\n",
    "#                        error_y=dict(\n",
    "#                            type='data',\n",
    "#                            array=calibStatsDF[('eyeElevationDeg','std')][0:9],\n",
    "#                            visible=True\n",
    "#                        )\n",
    "#                      )\n",
    "                       \n",
    "\n",
    "\n",
    "\n",
    "layout = go.Layout(title='Calibration - Head Centered Angular space',\n",
    "                   width=width,\n",
    "                   height=height,\n",
    "                   showlegend=False,\n",
    "                   xaxis=dict(range=[-22,22], title='degrees azimuth'),\n",
    "                   yaxis=dict(range=[-22,22], title='degrees elevation'),\n",
    "                   scene=go.Scene(aspectmode='manual',\n",
    "                                  aspectratio=dict(x=1, y=1),\n",
    "                                 ),\n",
    "                   margin=go.Margin(t=100),\n",
    "                   hovermode='closest')\n",
    "\n",
    "data = [calibPoints,eihPoints]\n",
    "fig=go.Figure(data=data,layout=layout)\n",
    "\n",
    "iplot(fig)"
   ]
  }
 ],
 "metadata": {
  "kernelspec": {
   "display_name": "Python 2",
   "language": "python",
   "name": "python2"
  },
  "language_info": {
   "codemirror_mode": {
    "name": "ipython",
    "version": 2
   },
   "file_extension": ".py",
   "mimetype": "text/x-python",
   "name": "python",
   "nbconvert_exporter": "python",
   "pygments_lexer": "ipython2",
   "version": "2.7.13"
  }
 },
 "nbformat": 4,
 "nbformat_minor": 2
}
