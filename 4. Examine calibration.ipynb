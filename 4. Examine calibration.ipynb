{
 "cells": [
  {
   "cell_type": "markdown",
   "metadata": {},
   "source": [
    "## Import modules, save data to Pandas dataframe"
   ]
  },
  {
   "cell_type": "code",
   "execution_count": 1,
   "metadata": {
    "collapsed": true
   },
   "outputs": [],
   "source": [
    "from __future__ import division, print_function\n",
    "\n",
    "from modules import PerformParser as parser\n",
    "import numpy as np\n",
    "import pandas as pd\n",
    "\n",
    "from plotly.offline import download_plotlyjs, init_notebook_mode, plot, iplot\n",
    "import plotly.graph_objs as go\n",
    "import os\n",
    "np.set_printoptions(precision=2)"
   ]
  },
  {
   "cell_type": "code",
   "execution_count": 2,
   "metadata": {},
   "outputs": [
    {
     "data": {
      "text/html": [
       "<script>requirejs.config({paths: { 'plotly': ['https://cdn.plot.ly/plotly-latest.min']},});if(!window.Plotly) {{require(['plotly'],function(plotly) {window.Plotly=plotly;});}}</script>"
      ],
      "text/vnd.plotly.v1+html": [
       "<script>requirejs.config({paths: { 'plotly': ['https://cdn.plot.ly/plotly-latest.min']},});if(!window.Plotly) {{require(['plotly'],function(plotly) {window.Plotly=plotly;});}}</script>"
      ]
     },
     "metadata": {},
     "output_type": "display_data"
    }
   ],
   "source": [
    "init_notebook_mode(connected=True)"
   ]
  },
  {
   "cell_type": "markdown",
   "metadata": {},
   "source": [
    "# Lets look at the variables stored in our dataframe"
   ]
  },
  {
   "cell_type": "code",
   "execution_count": 3,
   "metadata": {
    "collapsed": true
   },
   "outputs": [],
   "source": [
    "# read dict file, save as pandas DF\n",
    "#datafile = parser.dictFileToDataFrame(\"data/2017-4-14-18-36/exp_data-2017-4-14-18-36.dict\")\n",
    "#datafile = parser.dictFileToDataFrame(\"data/2016-4-19-14-4/exp_data-2016-4-19-14-4.dict\")\n",
    "#datafile = parser.dictFileToDataFrame(\"data/2016-4-29-11-56/exp_data-2016-4-29-11-56.dict\")\n",
    "#datafile = parser.readPerformDict(\"data/2016-4-29-11-56/exp_data-2016-4-29-11-56.dict\")\n",
    "\n",
    "datafile = pd.read_pickle('data/calibration.pickle')"
   ]
  },
  {
   "cell_type": "code",
   "execution_count": 4,
   "metadata": {
    "scrolled": false
   },
   "outputs": [
    {
     "data": {
      "text/plain": [
       "['viewPos_XYZ',\n",
       " 'viewMat_4x4',\n",
       " 'trialNumber',\n",
       " 'blockNumber',\n",
       " 'IOD',\n",
       " 'IPD',\n",
       " 'ballPos_XYZ',\n",
       " 'cycEyeInHead_XYZ',\n",
       " 'leftEyeInHead_XYZ',\n",
       " 'rightEyeInHead_XYZ',\n",
       " 'leftEyePos_XYZ',\n",
       " 'rightEyePos_XYZ',\n",
       " 'calibrationPos_XYZ',\n",
       " 'calibrationCounter',\n",
       " 'eyeTimeStamp',\n",
       " 'frameTime',\n",
       " 'eventFlag']"
      ]
     },
     "execution_count": 4,
     "metadata": {},
     "output_type": "execute_result"
    }
   ],
   "source": [
    "list(datafile.columns)"
   ]
  },
  {
   "cell_type": "markdown",
   "metadata": {},
   "source": [
    "# EIH to GIW"
   ]
  },
  {
   "cell_type": "code",
   "execution_count": 5,
   "metadata": {
    "collapsed": true
   },
   "outputs": [],
   "source": [
    "def eihToGIW(rowIn):\n",
    "    rowIn\n",
    "\n",
    "    # Grab gransformation matrix\n",
    "    headTransform_4x4 = np.reshape(rowIn[\"viewMat_4x4\"],[4,4])\n",
    "\n",
    "    # Transpose\n",
    "    headTransform_4x4 = headTransform_4x4\n",
    "\n",
    "    # Grab cyc EIH direction\n",
    "    cycEyeInHead_XYZ = rowIn['cycEyeInHead_XYZ']\n",
    "    # Add a 1 to convert to homogeneous coordinates\n",
    "    cycEyeInHead_XYZW = np.hstack( [cycEyeInHead_XYZ,1])\n",
    "\n",
    "    # Take the dot product!\n",
    "    cycGIW_XYZW = np.dot( headTransform_4x4,cycEyeInHead_XYZW)\n",
    "    \n",
    "    # You must return as a list or a tuple\n",
    "    return list(cycGIW_XYZW[0:3])"
   ]
  },
  {
   "cell_type": "code",
   "execution_count": 6,
   "metadata": {
    "collapsed": true
   },
   "outputs": [],
   "source": [
    "datafile['cycGIW_XYZ'] = datafile.apply(lambda row: eihToGIW(row),axis=1)"
   ]
  },
  {
   "cell_type": "markdown",
   "metadata": {
    "collapsed": true
   },
   "source": [
    "# Plot a calibration point, gaze vector, etc"
   ]
  },
  {
   "cell_type": "markdown",
   "metadata": {},
   "source": [
    "Convert the datafram data into an array of arrays.\n",
    "For you matlab users, this is your friend."
   ]
  },
  {
   "cell_type": "code",
   "execution_count": 7,
   "metadata": {
    "collapsed": true
   },
   "outputs": [],
   "source": [
    "viewPos_row_XYZ = np.array(map(np.array,datafile['viewPos_XYZ']))"
   ]
  },
  {
   "cell_type": "markdown",
   "metadata": {},
   "source": [
    "Now you can use matlab-like indexing\n",
    "e.g. For all rows, get all X values"
   ]
  },
  {
   "cell_type": "code",
   "execution_count": 8,
   "metadata": {},
   "outputs": [
    {
     "data": {
      "text/plain": [
       "array([-0.99, -1.  , -1.  , ..., -0.97, -0.97, -0.97])"
      ]
     },
     "execution_count": 8,
     "metadata": {},
     "output_type": "execute_result"
    }
   ],
   "source": [
    "viewPos_row_XYZ[:,0]"
   ]
  },
  {
   "cell_type": "code",
   "execution_count": 15,
   "metadata": {
    "collapsed": true
   },
   "outputs": [],
   "source": [
    "def drawVector(row):\n",
    "\n",
    "    #viewPos_XYZ = row['viewPos_XYZ']\n",
    "    eihDir_xyz = row['cycEyeInHead_XYZ']\n",
    "    #cycGIWEndpoint_XYZ = np.add(viewPos_XYZ, + np.multiply(cycGIW_XYZ,5))\n",
    "\n",
    "    calibrationPos_XYZ = row['calibrationPos_XYZ']\n",
    "    \n",
    "    eihDir = go.Scatter3d(x=[0,eihDir_xyz[0]*5],\n",
    "        y=[0,eihDir_xyz[2]*5],\n",
    "        z=[0,eihDir_xyz[1]*5],\n",
    "        mode='lines',\n",
    "        line = dict(\n",
    "          color=('rgb(20, 0, 145)'),\n",
    "          width = 2)\n",
    "        )\n",
    "    \n",
    "    headPos = go.Scatter3d(x=[0],\n",
    "                           y=[0],\n",
    "                           z=[0],\n",
    "                           mode='markers',\n",
    "                           marker={'color': '#48186a', 'size': 10},\n",
    "                          )\n",
    "    \n",
    "    calibPos = go.Scatter3d(x=[calibrationPos_XYZ[0]],\n",
    "                           y=[calibrationPos_XYZ[2]],\n",
    "                           z=[calibrationPos_XYZ[1]],\n",
    "                           mode='markers',\n",
    "                           marker={'color': 'rgb(0,144,144)', 'size': 5},\n",
    "                          )\n",
    "    \n",
    "    return([headPos,eihDir,calibPos])"
   ]
  },
  {
   "cell_type": "code",
   "execution_count": 27,
   "metadata": {},
   "outputs": [
    {
     "data": {
      "text/plain": [
       "array([1000, 1001, 1002, 1003, 1004, 1005, 1006, 1007, 1008, 1009, 1010,\n",
       "       1011, 1012, 1013, 1014, 1015, 1016, 1017, 1018, 1019, 1020, 1021,\n",
       "       1022, 1023, 1024, 1025])"
      ]
     },
     "execution_count": 27,
     "metadata": {},
     "output_type": "execute_result"
    }
   ],
   "source": [
    "gbTrial = datafile.groupby('trialNumber')\n",
    "np.sort(gbTrial.groups.keys())\n"
   ]
  },
  {
   "cell_type": "code",
   "execution_count": 28,
   "metadata": {},
   "outputs": [
    {
     "data": {
      "application/vnd.plotly.v1+json": {
       "data": [
        {
         "marker": {
          "color": "#48186a",
          "size": 10
         },
         "mode": "markers",
         "type": "scatter3d",
         "x": [
          0
         ],
         "y": [
          0
         ],
         "z": [
          0
         ]
        },
        {
         "line": {
          "color": "rgb(20, 0, 145)",
          "width": 2
         },
         "mode": "lines",
         "type": "scatter3d",
         "x": [
          0,
          -0.490929
         ],
         "y": [
          0,
          4.699195
         ],
         "z": [
          0,
          -1.636015
         ]
        },
        {
         "marker": {
          "color": "rgb(0,144,144)",
          "size": 5
         },
         "mode": "markers",
         "type": "scatter3d",
         "x": [
          0.20000000298023224
         ],
         "y": [
          1.5
         ],
         "z": [
          -0.5
         ]
        },
        {
         "marker": {
          "color": "#48186a",
          "size": 10
         },
         "mode": "markers",
         "type": "scatter3d",
         "x": [
          0
         ],
         "y": [
          0
         ],
         "z": [
          0
         ]
        },
        {
         "line": {
          "color": "rgb(20, 0, 145)",
          "width": 2
         },
         "mode": "lines",
         "type": "scatter3d",
         "x": [
          0,
          -0.480856
         ],
         "y": [
          0,
          4.69613
         ],
         "z": [
          0,
          -1.64777
         ]
        },
        {
         "marker": {
          "color": "rgb(0,144,144)",
          "size": 5
         },
         "mode": "markers",
         "type": "scatter3d",
         "x": [
          0.20000000298023224
         ],
         "y": [
          1.5
         ],
         "z": [
          -0.5
         ]
        },
        {
         "marker": {
          "color": "#48186a",
          "size": 10
         },
         "mode": "markers",
         "type": "scatter3d",
         "x": [
          0
         ],
         "y": [
          0
         ],
         "z": [
          0
         ]
        },
        {
         "line": {
          "color": "rgb(20, 0, 145)",
          "width": 2
         },
         "mode": "lines",
         "type": "scatter3d",
         "x": [
          0,
          -0.480856
         ],
         "y": [
          0,
          4.69613
         ],
         "z": [
          0,
          -1.64777
         ]
        },
        {
         "marker": {
          "color": "rgb(0,144,144)",
          "size": 5
         },
         "mode": "markers",
         "type": "scatter3d",
         "x": [
          0.20000000298023224
         ],
         "y": [
          1.5
         ],
         "z": [
          -0.5
         ]
        },
        {
         "marker": {
          "color": "#48186a",
          "size": 10
         },
         "mode": "markers",
         "type": "scatter3d",
         "x": [
          0
         ],
         "y": [
          0
         ],
         "z": [
          0
         ]
        },
        {
         "line": {
          "color": "rgb(20, 0, 145)",
          "width": 2
         },
         "mode": "lines",
         "type": "scatter3d",
         "x": [
          0,
          -0.47534750000000003
         ],
         "y": [
          0,
          4.70255
         ],
         "z": [
          0,
          -1.6309799999999999
         ]
        },
        {
         "marker": {
          "color": "rgb(0,144,144)",
          "size": 5
         },
         "mode": "markers",
         "type": "scatter3d",
         "x": [
          0.20000000298023224
         ],
         "y": [
          1.5
         ],
         "z": [
          -0.5
         ]
        },
        {
         "marker": {
          "color": "#48186a",
          "size": 10
         },
         "mode": "markers",
         "type": "scatter3d",
         "x": [
          0
         ],
         "y": [
          0
         ],
         "z": [
          0
         ]
        },
        {
         "line": {
          "color": "rgb(20, 0, 145)",
          "width": 2
         },
         "mode": "lines",
         "type": "scatter3d",
         "x": [
          0,
          -0.48007599999999995
         ],
         "y": [
          0,
          4.70367
         ],
         "z": [
          0,
          -1.6263549999999998
         ]
        },
        {
         "marker": {
          "color": "rgb(0,144,144)",
          "size": 5
         },
         "mode": "markers",
         "type": "scatter3d",
         "x": [
          0.20000000298023224
         ],
         "y": [
          1.5
         ],
         "z": [
          -0.5
         ]
        },
        {
         "marker": {
          "color": "#48186a",
          "size": 10
         },
         "mode": "markers",
         "type": "scatter3d",
         "x": [
          0
         ],
         "y": [
          0
         ],
         "z": [
          0
         ]
        },
        {
         "line": {
          "color": "rgb(20, 0, 145)",
          "width": 2
         },
         "mode": "lines",
         "type": "scatter3d",
         "x": [
          0,
          -0.46435200000000004
         ],
         "y": [
          0,
          4.69811
         ],
         "z": [
          0,
          -1.6468550000000002
         ]
        },
        {
         "marker": {
          "color": "rgb(0,144,144)",
          "size": 5
         },
         "mode": "markers",
         "type": "scatter3d",
         "x": [
          0.20000000298023224
         ],
         "y": [
          1.5
         ],
         "z": [
          -0.5
         ]
        },
        {
         "marker": {
          "color": "#48186a",
          "size": 10
         },
         "mode": "markers",
         "type": "scatter3d",
         "x": [
          0
         ],
         "y": [
          0
         ],
         "z": [
          0
         ]
        },
        {
         "line": {
          "color": "rgb(20, 0, 145)",
          "width": 2
         },
         "mode": "lines",
         "type": "scatter3d",
         "x": [
          0,
          -0.47934499999999997
         ],
         "y": [
          0,
          4.7026449999999995
         ],
         "z": [
          0,
          -1.62953
         ]
        },
        {
         "marker": {
          "color": "rgb(0,144,144)",
          "size": 5
         },
         "mode": "markers",
         "type": "scatter3d",
         "x": [
          0.20000000298023224
         ],
         "y": [
          1.5
         ],
         "z": [
          -0.5
         ]
        },
        {
         "marker": {
          "color": "#48186a",
          "size": 10
         },
         "mode": "markers",
         "type": "scatter3d",
         "x": [
          0
         ],
         "y": [
          0
         ],
         "z": [
          0
         ]
        },
        {
         "line": {
          "color": "rgb(20, 0, 145)",
          "width": 2
         },
         "mode": "lines",
         "type": "scatter3d",
         "x": [
          0,
          -0.44939149999999994
         ],
         "y": [
          0,
          4.70653
         ],
         "z": [
          0,
          -1.62685
         ]
        },
        {
         "marker": {
          "color": "rgb(0,144,144)",
          "size": 5
         },
         "mode": "markers",
         "type": "scatter3d",
         "x": [
          0.20000000298023224
         ],
         "y": [
          1.5
         ],
         "z": [
          -0.5
         ]
        },
        {
         "marker": {
          "color": "#48186a",
          "size": 10
         },
         "mode": "markers",
         "type": "scatter3d",
         "x": [
          0
         ],
         "y": [
          0
         ],
         "z": [
          0
         ]
        },
        {
         "line": {
          "color": "rgb(20, 0, 145)",
          "width": 2
         },
         "mode": "lines",
         "type": "scatter3d",
         "x": [
          0,
          -0.44939149999999994
         ],
         "y": [
          0,
          4.70653
         ],
         "z": [
          0,
          -1.62685
         ]
        },
        {
         "marker": {
          "color": "rgb(0,144,144)",
          "size": 5
         },
         "mode": "markers",
         "type": "scatter3d",
         "x": [
          0.20000000298023224
         ],
         "y": [
          1.5
         ],
         "z": [
          -0.5
         ]
        },
        {
         "marker": {
          "color": "#48186a",
          "size": 10
         },
         "mode": "markers",
         "type": "scatter3d",
         "x": [
          0
         ],
         "y": [
          0
         ],
         "z": [
          0
         ]
        },
        {
         "line": {
          "color": "rgb(20, 0, 145)",
          "width": 2
         },
         "mode": "lines",
         "type": "scatter3d",
         "x": [
          0,
          -0.4774705
         ],
         "y": [
          0,
          4.713035
         ],
         "z": [
          0,
          -1.5997949999999999
         ]
        },
        {
         "marker": {
          "color": "rgb(0,144,144)",
          "size": 5
         },
         "mode": "markers",
         "type": "scatter3d",
         "x": [
          0.20000000298023224
         ],
         "y": [
          1.5
         ],
         "z": [
          -0.5
         ]
        },
        {
         "marker": {
          "color": "#48186a",
          "size": 10
         },
         "mode": "markers",
         "type": "scatter3d",
         "x": [
          0
         ],
         "y": [
          0
         ],
         "z": [
          0
         ]
        },
        {
         "line": {
          "color": "rgb(20, 0, 145)",
          "width": 2
         },
         "mode": "lines",
         "type": "scatter3d",
         "x": [
          0,
          -0.46120500000000003
         ],
         "y": [
          0,
          4.70649
         ],
         "z": [
          0,
          -1.62365
         ]
        },
        {
         "marker": {
          "color": "rgb(0,144,144)",
          "size": 5
         },
         "mode": "markers",
         "type": "scatter3d",
         "x": [
          0.20000000298023224
         ],
         "y": [
          1.5
         ],
         "z": [
          -0.5
         ]
        },
        {
         "marker": {
          "color": "#48186a",
          "size": 10
         },
         "mode": "markers",
         "type": "scatter3d",
         "x": [
          0
         ],
         "y": [
          0
         ],
         "z": [
          0
         ]
        },
        {
         "line": {
          "color": "rgb(20, 0, 145)",
          "width": 2
         },
         "mode": "lines",
         "type": "scatter3d",
         "x": [
          0,
          -0.46120500000000003
         ],
         "y": [
          0,
          4.70649
         ],
         "z": [
          0,
          -1.62365
         ]
        },
        {
         "marker": {
          "color": "rgb(0,144,144)",
          "size": 5
         },
         "mode": "markers",
         "type": "scatter3d",
         "x": [
          0.20000000298023224
         ],
         "y": [
          1.5
         ],
         "z": [
          -0.5
         ]
        },
        {
         "marker": {
          "color": "#48186a",
          "size": 10
         },
         "mode": "markers",
         "type": "scatter3d",
         "x": [
          0
         ],
         "y": [
          0
         ],
         "z": [
          0
         ]
        },
        {
         "line": {
          "color": "rgb(20, 0, 145)",
          "width": 2
         },
         "mode": "lines",
         "type": "scatter3d",
         "x": [
          0,
          -0.449817
         ],
         "y": [
          0,
          4.70866
         ],
         "z": [
          0,
          -1.620555
         ]
        },
        {
         "marker": {
          "color": "rgb(0,144,144)",
          "size": 5
         },
         "mode": "markers",
         "type": "scatter3d",
         "x": [
          0.20000000298023224
         ],
         "y": [
          1.5
         ],
         "z": [
          -0.5
         ]
        },
        {
         "marker": {
          "color": "#48186a",
          "size": 10
         },
         "mode": "markers",
         "type": "scatter3d",
         "x": [
          0
         ],
         "y": [
          0
         ],
         "z": [
          0
         ]
        },
        {
         "line": {
          "color": "rgb(20, 0, 145)",
          "width": 2
         },
         "mode": "lines",
         "type": "scatter3d",
         "x": [
          0,
          -0.4717525
         ],
         "y": [
          0,
          4.7079450000000005
         ],
         "z": [
          0,
          -1.61639
         ]
        },
        {
         "marker": {
          "color": "rgb(0,144,144)",
          "size": 5
         },
         "mode": "markers",
         "type": "scatter3d",
         "x": [
          0.20000000298023224
         ],
         "y": [
          1.5
         ],
         "z": [
          -0.5
         ]
        },
        {
         "marker": {
          "color": "#48186a",
          "size": 10
         },
         "mode": "markers",
         "type": "scatter3d",
         "x": [
          0
         ],
         "y": [
          0
         ],
         "z": [
          0
         ]
        },
        {
         "line": {
          "color": "rgb(20, 0, 145)",
          "width": 2
         },
         "mode": "lines",
         "type": "scatter3d",
         "x": [
          0,
          -0.43571650000000006
         ],
         "y": [
          0,
          4.71259
         ],
         "z": [
          0,
          -1.61296
         ]
        },
        {
         "marker": {
          "color": "rgb(0,144,144)",
          "size": 5
         },
         "mode": "markers",
         "type": "scatter3d",
         "x": [
          0.20000000298023224
         ],
         "y": [
          1.5
         ],
         "z": [
          -0.5
         ]
        },
        {
         "marker": {
          "color": "#48186a",
          "size": 10
         },
         "mode": "markers",
         "type": "scatter3d",
         "x": [
          0
         ],
         "y": [
          0
         ],
         "z": [
          0
         ]
        },
        {
         "line": {
          "color": "rgb(20, 0, 145)",
          "width": 2
         },
         "mode": "lines",
         "type": "scatter3d",
         "x": [
          0,
          -0.4618865
         ],
         "y": [
          0,
          4.71148
         ],
         "z": [
          0,
          -1.608925
         ]
        },
        {
         "marker": {
          "color": "rgb(0,144,144)",
          "size": 5
         },
         "mode": "markers",
         "type": "scatter3d",
         "x": [
          0.20000000298023224
         ],
         "y": [
          1.5
         ],
         "z": [
          -0.5
         ]
        },
        {
         "marker": {
          "color": "#48186a",
          "size": 10
         },
         "mode": "markers",
         "type": "scatter3d",
         "x": [
          0
         ],
         "y": [
          0
         ],
         "z": [
          0
         ]
        },
        {
         "line": {
          "color": "rgb(20, 0, 145)",
          "width": 2
         },
         "mode": "lines",
         "type": "scatter3d",
         "x": [
          0,
          -0.4517145
         ],
         "y": [
          0,
          4.70541
         ],
         "z": [
          0,
          -1.629445
         ]
        },
        {
         "marker": {
          "color": "rgb(0,144,144)",
          "size": 5
         },
         "mode": "markers",
         "type": "scatter3d",
         "x": [
          0.20000000298023224
         ],
         "y": [
          1.5
         ],
         "z": [
          -0.5
         ]
        },
        {
         "marker": {
          "color": "#48186a",
          "size": 10
         },
         "mode": "markers",
         "type": "scatter3d",
         "x": [
          0
         ],
         "y": [
          0
         ],
         "z": [
          0
         ]
        },
        {
         "line": {
          "color": "rgb(20, 0, 145)",
          "width": 2
         },
         "mode": "lines",
         "type": "scatter3d",
         "x": [
          0,
          -0.4517145
         ],
         "y": [
          0,
          4.70541
         ],
         "z": [
          0,
          -1.629445
         ]
        },
        {
         "marker": {
          "color": "rgb(0,144,144)",
          "size": 5
         },
         "mode": "markers",
         "type": "scatter3d",
         "x": [
          0.20000000298023224
         ],
         "y": [
          1.5
         ],
         "z": [
          -0.5
         ]
        },
        {
         "marker": {
          "color": "#48186a",
          "size": 10
         },
         "mode": "markers",
         "type": "scatter3d",
         "x": [
          0
         ],
         "y": [
          0
         ],
         "z": [
          0
         ]
        },
        {
         "line": {
          "color": "rgb(20, 0, 145)",
          "width": 2
         },
         "mode": "lines",
         "type": "scatter3d",
         "x": [
          0,
          -0.4390285
         ],
         "y": [
          0,
          4.708335
         ],
         "z": [
          0,
          -1.624455
         ]
        },
        {
         "marker": {
          "color": "rgb(0,144,144)",
          "size": 5
         },
         "mode": "markers",
         "type": "scatter3d",
         "x": [
          0.20000000298023224
         ],
         "y": [
          1.5
         ],
         "z": [
          -0.5
         ]
        },
        {
         "marker": {
          "color": "#48186a",
          "size": 10
         },
         "mode": "markers",
         "type": "scatter3d",
         "x": [
          0
         ],
         "y": [
          0
         ],
         "z": [
          0
         ]
        },
        {
         "line": {
          "color": "rgb(20, 0, 145)",
          "width": 2
         },
         "mode": "lines",
         "type": "scatter3d",
         "x": [
          0,
          -0.457832
         ],
         "y": [
          0,
          4.70203
         ],
         "z": [
          0,
          -1.6374749999999998
         ]
        },
        {
         "marker": {
          "color": "rgb(0,144,144)",
          "size": 5
         },
         "mode": "markers",
         "type": "scatter3d",
         "x": [
          0.20000000298023224
         ],
         "y": [
          1.5
         ],
         "z": [
          -0.5
         ]
        },
        {
         "marker": {
          "color": "#48186a",
          "size": 10
         },
         "mode": "markers",
         "type": "scatter3d",
         "x": [
          0
         ],
         "y": [
          0
         ],
         "z": [
          0
         ]
        },
        {
         "line": {
          "color": "rgb(20, 0, 145)",
          "width": 2
         },
         "mode": "lines",
         "type": "scatter3d",
         "x": [
          0,
          -0.436833
         ],
         "y": [
          0,
          4.704155
         ],
         "z": [
          0,
          -1.637105
         ]
        },
        {
         "marker": {
          "color": "rgb(0,144,144)",
          "size": 5
         },
         "mode": "markers",
         "type": "scatter3d",
         "x": [
          0.20000000298023224
         ],
         "y": [
          1.5
         ],
         "z": [
          -0.5
         ]
        },
        {
         "marker": {
          "color": "#48186a",
          "size": 10
         },
         "mode": "markers",
         "type": "scatter3d",
         "x": [
          0
         ],
         "y": [
          0
         ],
         "z": [
          0
         ]
        },
        {
         "line": {
          "color": "rgb(20, 0, 145)",
          "width": 2
         },
         "mode": "lines",
         "type": "scatter3d",
         "x": [
          0,
          -0.436833
         ],
         "y": [
          0,
          4.704155
         ],
         "z": [
          0,
          -1.637105
         ]
        },
        {
         "marker": {
          "color": "rgb(0,144,144)",
          "size": 5
         },
         "mode": "markers",
         "type": "scatter3d",
         "x": [
          0.20000000298023224
         ],
         "y": [
          1.5
         ],
         "z": [
          -0.5
         ]
        },
        {
         "marker": {
          "color": "#48186a",
          "size": 10
         },
         "mode": "markers",
         "type": "scatter3d",
         "x": [
          0
         ],
         "y": [
          0
         ],
         "z": [
          0
         ]
        },
        {
         "line": {
          "color": "rgb(20, 0, 145)",
          "width": 2
         },
         "mode": "lines",
         "type": "scatter3d",
         "x": [
          0,
          -0.468965
         ],
         "y": [
          0,
          4.712695
         ],
         "z": [
          0,
          -1.60331
         ]
        },
        {
         "marker": {
          "color": "rgb(0,144,144)",
          "size": 5
         },
         "mode": "markers",
         "type": "scatter3d",
         "x": [
          0.20000000298023224
         ],
         "y": [
          1.5
         ],
         "z": [
          -0.5
         ]
        },
        {
         "marker": {
          "color": "#48186a",
          "size": 10
         },
         "mode": "markers",
         "type": "scatter3d",
         "x": [
          0
         ],
         "y": [
          0
         ],
         "z": [
          0
         ]
        },
        {
         "line": {
          "color": "rgb(20, 0, 145)",
          "width": 2
         },
         "mode": "lines",
         "type": "scatter3d",
         "x": [
          0,
          -0.485807
         ],
         "y": [
          0,
          4.7086749999999995
         ],
         "z": [
          0,
          -1.6100800000000002
         ]
        },
        {
         "marker": {
          "color": "rgb(0,144,144)",
          "size": 5
         },
         "mode": "markers",
         "type": "scatter3d",
         "x": [
          0.20000000298023224
         ],
         "y": [
          1.5
         ],
         "z": [
          -0.5
         ]
        },
        {
         "marker": {
          "color": "#48186a",
          "size": 10
         },
         "mode": "markers",
         "type": "scatter3d",
         "x": [
          0
         ],
         "y": [
          0
         ],
         "z": [
          0
         ]
        },
        {
         "line": {
          "color": "rgb(20, 0, 145)",
          "width": 2
         },
         "mode": "lines",
         "type": "scatter3d",
         "x": [
          0,
          -0.50178
         ],
         "y": [
          0,
          4.707095
         ],
         "z": [
          0,
          -1.6098100000000002
         ]
        },
        {
         "marker": {
          "color": "rgb(0,144,144)",
          "size": 5
         },
         "mode": "markers",
         "type": "scatter3d",
         "x": [
          0.20000000298023224
         ],
         "y": [
          1.5
         ],
         "z": [
          -0.5
         ]
        },
        {
         "marker": {
          "color": "#48186a",
          "size": 10
         },
         "mode": "markers",
         "type": "scatter3d",
         "x": [
          0
         ],
         "y": [
          0
         ],
         "z": [
          0
         ]
        },
        {
         "line": {
          "color": "rgb(20, 0, 145)",
          "width": 2
         },
         "mode": "lines",
         "type": "scatter3d",
         "x": [
          0,
          -0.4884625
         ],
         "y": [
          0,
          4.701535
         ],
         "z": [
          0,
          -1.6300249999999998
         ]
        },
        {
         "marker": {
          "color": "rgb(0,144,144)",
          "size": 5
         },
         "mode": "markers",
         "type": "scatter3d",
         "x": [
          0.20000000298023224
         ],
         "y": [
          1.5
         ],
         "z": [
          -0.5
         ]
        },
        {
         "marker": {
          "color": "#48186a",
          "size": 10
         },
         "mode": "markers",
         "type": "scatter3d",
         "x": [
          0
         ],
         "y": [
          0
         ],
         "z": [
          0
         ]
        },
        {
         "line": {
          "color": "rgb(20, 0, 145)",
          "width": 2
         },
         "mode": "lines",
         "type": "scatter3d",
         "x": [
          0,
          -0.49907
         ],
         "y": [
          0,
          4.699335
         ],
         "z": [
          0,
          -1.633155
         ]
        },
        {
         "marker": {
          "color": "rgb(0,144,144)",
          "size": 5
         },
         "mode": "markers",
         "type": "scatter3d",
         "x": [
          0.20000000298023224
         ],
         "y": [
          1.5
         ],
         "z": [
          -0.5
         ]
        },
        {
         "marker": {
          "color": "#48186a",
          "size": 10
         },
         "mode": "markers",
         "type": "scatter3d",
         "x": [
          0
         ],
         "y": [
          0
         ],
         "z": [
          0
         ]
        },
        {
         "line": {
          "color": "rgb(20, 0, 145)",
          "width": 2
         },
         "mode": "lines",
         "type": "scatter3d",
         "x": [
          0,
          -0.49907
         ],
         "y": [
          0,
          4.699335
         ],
         "z": [
          0,
          -1.633155
         ]
        },
        {
         "marker": {
          "color": "rgb(0,144,144)",
          "size": 5
         },
         "mode": "markers",
         "type": "scatter3d",
         "x": [
          0.20000000298023224
         ],
         "y": [
          1.5
         ],
         "z": [
          -0.5
         ]
        },
        {
         "marker": {
          "color": "#48186a",
          "size": 10
         },
         "mode": "markers",
         "type": "scatter3d",
         "x": [
          0
         ],
         "y": [
          0
         ],
         "z": [
          0
         ]
        },
        {
         "line": {
          "color": "rgb(20, 0, 145)",
          "width": 2
         },
         "mode": "lines",
         "type": "scatter3d",
         "x": [
          0,
          -0.504595
         ],
         "y": [
          0,
          4.702865
         ],
         "z": [
          0,
          -1.6212499999999999
         ]
        },
        {
         "marker": {
          "color": "rgb(0,144,144)",
          "size": 5
         },
         "mode": "markers",
         "type": "scatter3d",
         "x": [
          0.20000000298023224
         ],
         "y": [
          1.5
         ],
         "z": [
          -0.5
         ]
        },
        {
         "marker": {
          "color": "#48186a",
          "size": 10
         },
         "mode": "markers",
         "type": "scatter3d",
         "x": [
          0
         ],
         "y": [
          0
         ],
         "z": [
          0
         ]
        },
        {
         "line": {
          "color": "rgb(20, 0, 145)",
          "width": 2
         },
         "mode": "lines",
         "type": "scatter3d",
         "x": [
          0,
          -0.497998
         ],
         "y": [
          0,
          4.69661
         ],
         "z": [
          0,
          -1.6412950000000002
         ]
        },
        {
         "marker": {
          "color": "rgb(0,144,144)",
          "size": 5
         },
         "mode": "markers",
         "type": "scatter3d",
         "x": [
          0.20000000298023224
         ],
         "y": [
          1.5
         ],
         "z": [
          -0.5
         ]
        },
        {
         "marker": {
          "color": "#48186a",
          "size": 10
         },
         "mode": "markers",
         "type": "scatter3d",
         "x": [
          0
         ],
         "y": [
          0
         ],
         "z": [
          0
         ]
        },
        {
         "line": {
          "color": "rgb(20, 0, 145)",
          "width": 2
         },
         "mode": "lines",
         "type": "scatter3d",
         "x": [
          0,
          -0.494118
         ],
         "y": [
          0,
          4.697535
         ],
         "z": [
          0,
          -1.639825
         ]
        },
        {
         "marker": {
          "color": "rgb(0,144,144)",
          "size": 5
         },
         "mode": "markers",
         "type": "scatter3d",
         "x": [
          0.20000000298023224
         ],
         "y": [
          1.5
         ],
         "z": [
          -0.5
         ]
        },
        {
         "marker": {
          "color": "#48186a",
          "size": 10
         },
         "mode": "markers",
         "type": "scatter3d",
         "x": [
          0
         ],
         "y": [
          0
         ],
         "z": [
          0
         ]
        },
        {
         "line": {
          "color": "rgb(20, 0, 145)",
          "width": 2
         },
         "mode": "lines",
         "type": "scatter3d",
         "x": [
          0,
          -0.4889905
         ],
         "y": [
          0,
          4.7033000000000005
         ],
         "z": [
          0,
          -1.624765
         ]
        },
        {
         "marker": {
          "color": "rgb(0,144,144)",
          "size": 5
         },
         "mode": "markers",
         "type": "scatter3d",
         "x": [
          0.20000000298023224
         ],
         "y": [
          1.5
         ],
         "z": [
          -0.5
         ]
        },
        {
         "marker": {
          "color": "#48186a",
          "size": 10
         },
         "mode": "markers",
         "type": "scatter3d",
         "x": [
          0
         ],
         "y": [
          0
         ],
         "z": [
          0
         ]
        },
        {
         "line": {
          "color": "rgb(20, 0, 145)",
          "width": 2
         },
         "mode": "lines",
         "type": "scatter3d",
         "x": [
          0,
          -0.4951335
         ],
         "y": [
          0,
          4.697785
         ],
         "z": [
          0,
          -1.6388
         ]
        },
        {
         "marker": {
          "color": "rgb(0,144,144)",
          "size": 5
         },
         "mode": "markers",
         "type": "scatter3d",
         "x": [
          0.20000000298023224
         ],
         "y": [
          1.5
         ],
         "z": [
          -0.5
         ]
        },
        {
         "marker": {
          "color": "#48186a",
          "size": 10
         },
         "mode": "markers",
         "type": "scatter3d",
         "x": [
          0
         ],
         "y": [
          0
         ],
         "z": [
          0
         ]
        },
        {
         "line": {
          "color": "rgb(20, 0, 145)",
          "width": 2
         },
         "mode": "lines",
         "type": "scatter3d",
         "x": [
          0,
          -0.483542
         ],
         "y": [
          0,
          4.69867
         ],
         "z": [
          0,
          -1.6397300000000001
         ]
        },
        {
         "marker": {
          "color": "rgb(0,144,144)",
          "size": 5
         },
         "mode": "markers",
         "type": "scatter3d",
         "x": [
          0.20000000298023224
         ],
         "y": [
          1.5
         ],
         "z": [
          -0.5
         ]
        },
        {
         "marker": {
          "color": "#48186a",
          "size": 10
         },
         "mode": "markers",
         "type": "scatter3d",
         "x": [
          0
         ],
         "y": [
          0
         ],
         "z": [
          0
         ]
        },
        {
         "line": {
          "color": "rgb(20, 0, 145)",
          "width": 2
         },
         "mode": "lines",
         "type": "scatter3d",
         "x": [
          0,
          -0.48934199999999994
         ],
         "y": [
          0,
          4.702395
         ],
         "z": [
          0,
          -1.627275
         ]
        },
        {
         "marker": {
          "color": "rgb(0,144,144)",
          "size": 5
         },
         "mode": "markers",
         "type": "scatter3d",
         "x": [
          0.20000000298023224
         ],
         "y": [
          1.5
         ],
         "z": [
          -0.5
         ]
        },
        {
         "marker": {
          "color": "#48186a",
          "size": 10
         },
         "mode": "markers",
         "type": "scatter3d",
         "x": [
          0
         ],
         "y": [
          0
         ],
         "z": [
          0
         ]
        },
        {
         "line": {
          "color": "rgb(20, 0, 145)",
          "width": 2
         },
         "mode": "lines",
         "type": "scatter3d",
         "x": [
          0,
          -0.48934199999999994
         ],
         "y": [
          0,
          4.702395
         ],
         "z": [
          0,
          -1.627275
         ]
        },
        {
         "marker": {
          "color": "rgb(0,144,144)",
          "size": 5
         },
         "mode": "markers",
         "type": "scatter3d",
         "x": [
          0.20000000298023224
         ],
         "y": [
          1.5
         ],
         "z": [
          -0.5
         ]
        },
        {
         "marker": {
          "color": "#48186a",
          "size": 10
         },
         "mode": "markers",
         "type": "scatter3d",
         "x": [
          0
         ],
         "y": [
          0
         ],
         "z": [
          0
         ]
        },
        {
         "line": {
          "color": "rgb(20, 0, 145)",
          "width": 2
         },
         "mode": "lines",
         "type": "scatter3d",
         "x": [
          0,
          -0.4702095
         ],
         "y": [
          0,
          4.700315
         ],
         "z": [
          0,
          -1.63889
         ]
        },
        {
         "marker": {
          "color": "rgb(0,144,144)",
          "size": 5
         },
         "mode": "markers",
         "type": "scatter3d",
         "x": [
          0.20000000298023224
         ],
         "y": [
          1.5
         ],
         "z": [
          -0.5
         ]
        },
        {
         "marker": {
          "color": "#48186a",
          "size": 10
         },
         "mode": "markers",
         "type": "scatter3d",
         "x": [
          0
         ],
         "y": [
          0
         ],
         "z": [
          0
         ]
        },
        {
         "line": {
          "color": "rgb(20, 0, 145)",
          "width": 2
         },
         "mode": "lines",
         "type": "scatter3d",
         "x": [
          0,
          -0.4519675
         ],
         "y": [
          0,
          4.699685000000001
         ],
         "z": [
          0,
          -1.645805
         ]
        },
        {
         "marker": {
          "color": "rgb(0,144,144)",
          "size": 5
         },
         "mode": "markers",
         "type": "scatter3d",
         "x": [
          0.20000000298023224
         ],
         "y": [
          1.5
         ],
         "z": [
          -0.5
         ]
        },
        {
         "marker": {
          "color": "#48186a",
          "size": 10
         },
         "mode": "markers",
         "type": "scatter3d",
         "x": [
          0
         ],
         "y": [
          0
         ],
         "z": [
          0
         ]
        },
        {
         "line": {
          "color": "rgb(20, 0, 145)",
          "width": 2
         },
         "mode": "lines",
         "type": "scatter3d",
         "x": [
          0,
          -0.43221299999999996
         ],
         "y": [
          0,
          4.69727
         ],
         "z": [
          0,
          -1.65797
         ]
        },
        {
         "marker": {
          "color": "rgb(0,144,144)",
          "size": 5
         },
         "mode": "markers",
         "type": "scatter3d",
         "x": [
          0.20000000298023224
         ],
         "y": [
          1.5
         ],
         "z": [
          -0.5
         ]
        },
        {
         "marker": {
          "color": "#48186a",
          "size": 10
         },
         "mode": "markers",
         "type": "scatter3d",
         "x": [
          0
         ],
         "y": [
          0
         ],
         "z": [
          0
         ]
        },
        {
         "line": {
          "color": "rgb(20, 0, 145)",
          "width": 2
         },
         "mode": "lines",
         "type": "scatter3d",
         "x": [
          0,
          -0.45486899999999997
         ],
         "y": [
          0,
          4.704215
         ],
         "z": [
          0,
          -1.6320000000000001
         ]
        },
        {
         "marker": {
          "color": "rgb(0,144,144)",
          "size": 5
         },
         "mode": "markers",
         "type": "scatter3d",
         "x": [
          0.20000000298023224
         ],
         "y": [
          1.5
         ],
         "z": [
          -0.5
         ]
        },
        {
         "marker": {
          "color": "#48186a",
          "size": 10
         },
         "mode": "markers",
         "type": "scatter3d",
         "x": [
          0
         ],
         "y": [
          0
         ],
         "z": [
          0
         ]
        },
        {
         "line": {
          "color": "rgb(20, 0, 145)",
          "width": 2
         },
         "mode": "lines",
         "type": "scatter3d",
         "x": [
          0,
          -0.44242200000000004
         ],
         "y": [
          0,
          4.69748
         ],
         "z": [
          0,
          -1.65467
         ]
        },
        {
         "marker": {
          "color": "rgb(0,144,144)",
          "size": 5
         },
         "mode": "markers",
         "type": "scatter3d",
         "x": [
          0.20000000298023224
         ],
         "y": [
          1.5
         ],
         "z": [
          -0.5
         ]
        },
        {
         "marker": {
          "color": "#48186a",
          "size": 10
         },
         "mode": "markers",
         "type": "scatter3d",
         "x": [
          0
         ],
         "y": [
          0
         ],
         "z": [
          0
         ]
        },
        {
         "line": {
          "color": "rgb(20, 0, 145)",
          "width": 2
         },
         "mode": "lines",
         "type": "scatter3d",
         "x": [
          0,
          -0.44242200000000004
         ],
         "y": [
          0,
          4.69748
         ],
         "z": [
          0,
          -1.65467
         ]
        },
        {
         "marker": {
          "color": "rgb(0,144,144)",
          "size": 5
         },
         "mode": "markers",
         "type": "scatter3d",
         "x": [
          0.20000000298023224
         ],
         "y": [
          1.5
         ],
         "z": [
          -0.5
         ]
        },
        {
         "marker": {
          "color": "#48186a",
          "size": 10
         },
         "mode": "markers",
         "type": "scatter3d",
         "x": [
          0
         ],
         "y": [
          0
         ],
         "z": [
          0
         ]
        },
        {
         "line": {
          "color": "rgb(20, 0, 145)",
          "width": 2
         },
         "mode": "lines",
         "type": "scatter3d",
         "x": [
          0,
          -0.45238849999999997
         ],
         "y": [
          0,
          4.706835
         ],
         "z": [
          0,
          -1.62513
         ]
        },
        {
         "marker": {
          "color": "rgb(0,144,144)",
          "size": 5
         },
         "mode": "markers",
         "type": "scatter3d",
         "x": [
          0.20000000298023224
         ],
         "y": [
          1.5
         ],
         "z": [
          -0.5
         ]
        },
        {
         "marker": {
          "color": "#48186a",
          "size": 10
         },
         "mode": "markers",
         "type": "scatter3d",
         "x": [
          0
         ],
         "y": [
          0
         ],
         "z": [
          0
         ]
        },
        {
         "line": {
          "color": "rgb(20, 0, 145)",
          "width": 2
         },
         "mode": "lines",
         "type": "scatter3d",
         "x": [
          0,
          -0.4331775
         ],
         "y": [
          0,
          4.70574
         ],
         "z": [
          0,
          -1.633515
         ]
        },
        {
         "marker": {
          "color": "rgb(0,144,144)",
          "size": 5
         },
         "mode": "markers",
         "type": "scatter3d",
         "x": [
          0.20000000298023224
         ],
         "y": [
          1.5
         ],
         "z": [
          -0.5
         ]
        },
        {
         "marker": {
          "color": "#48186a",
          "size": 10
         },
         "mode": "markers",
         "type": "scatter3d",
         "x": [
          0
         ],
         "y": [
          0
         ],
         "z": [
          0
         ]
        },
        {
         "line": {
          "color": "rgb(20, 0, 145)",
          "width": 2
         },
         "mode": "lines",
         "type": "scatter3d",
         "x": [
          0,
          -0.45024300000000006
         ],
         "y": [
          0,
          4.706799999999999
         ],
         "z": [
          0,
          -1.62582
         ]
        },
        {
         "marker": {
          "color": "rgb(0,144,144)",
          "size": 5
         },
         "mode": "markers",
         "type": "scatter3d",
         "x": [
          0.20000000298023224
         ],
         "y": [
          1.5
         ],
         "z": [
          -0.5
         ]
        },
        {
         "marker": {
          "color": "#48186a",
          "size": 10
         },
         "mode": "markers",
         "type": "scatter3d",
         "x": [
          0
         ],
         "y": [
          0
         ],
         "z": [
          0
         ]
        },
        {
         "line": {
          "color": "rgb(20, 0, 145)",
          "width": 2
         },
         "mode": "lines",
         "type": "scatter3d",
         "x": [
          0,
          -0.45024300000000006
         ],
         "y": [
          0,
          4.706799999999999
         ],
         "z": [
          0,
          -1.62582
         ]
        },
        {
         "marker": {
          "color": "rgb(0,144,144)",
          "size": 5
         },
         "mode": "markers",
         "type": "scatter3d",
         "x": [
          0.20000000298023224
         ],
         "y": [
          1.5
         ],
         "z": [
          -0.5
         ]
        },
        {
         "marker": {
          "color": "#48186a",
          "size": 10
         },
         "mode": "markers",
         "type": "scatter3d",
         "x": [
          0
         ],
         "y": [
          0
         ],
         "z": [
          0
         ]
        },
        {
         "line": {
          "color": "rgb(20, 0, 145)",
          "width": 2
         },
         "mode": "lines",
         "type": "scatter3d",
         "x": [
          0,
          -0.4414545
         ],
         "y": [
          0,
          4.70705
         ],
         "z": [
          0,
          -1.62751
         ]
        },
        {
         "marker": {
          "color": "rgb(0,144,144)",
          "size": 5
         },
         "mode": "markers",
         "type": "scatter3d",
         "x": [
          0.20000000298023224
         ],
         "y": [
          1.5
         ],
         "z": [
          -0.5
         ]
        },
        {
         "marker": {
          "color": "#48186a",
          "size": 10
         },
         "mode": "markers",
         "type": "scatter3d",
         "x": [
          0
         ],
         "y": [
          0
         ],
         "z": [
          0
         ]
        },
        {
         "line": {
          "color": "rgb(20, 0, 145)",
          "width": 2
         },
         "mode": "lines",
         "type": "scatter3d",
         "x": [
          0,
          -0.4338385
         ],
         "y": [
          0,
          4.70302
         ],
         "z": [
          0,
          -1.641155
         ]
        },
        {
         "marker": {
          "color": "rgb(0,144,144)",
          "size": 5
         },
         "mode": "markers",
         "type": "scatter3d",
         "x": [
          0.20000000298023224
         ],
         "y": [
          1.5
         ],
         "z": [
          -0.5
         ]
        },
        {
         "marker": {
          "color": "#48186a",
          "size": 10
         },
         "mode": "markers",
         "type": "scatter3d",
         "x": [
          0
         ],
         "y": [
          0
         ],
         "z": [
          0
         ]
        },
        {
         "line": {
          "color": "rgb(20, 0, 145)",
          "width": 2
         },
         "mode": "lines",
         "type": "scatter3d",
         "x": [
          0,
          -0.445621
         ],
         "y": [
          0,
          4.700315
         ],
         "z": [
          0,
          -1.64574
         ]
        },
        {
         "marker": {
          "color": "rgb(0,144,144)",
          "size": 5
         },
         "mode": "markers",
         "type": "scatter3d",
         "x": [
          0.20000000298023224
         ],
         "y": [
          1.5
         ],
         "z": [
          -0.5
         ]
        },
        {
         "marker": {
          "color": "#48186a",
          "size": 10
         },
         "mode": "markers",
         "type": "scatter3d",
         "x": [
          0
         ],
         "y": [
          0
         ],
         "z": [
          0
         ]
        },
        {
         "line": {
          "color": "rgb(20, 0, 145)",
          "width": 2
         },
         "mode": "lines",
         "type": "scatter3d",
         "x": [
          0,
          -0.42423049999999995
         ],
         "y": [
          0,
          4.699455
         ],
         "z": [
          0,
          -1.6538300000000001
         ]
        },
        {
         "marker": {
          "color": "rgb(0,144,144)",
          "size": 5
         },
         "mode": "markers",
         "type": "scatter3d",
         "x": [
          0.20000000298023224
         ],
         "y": [
          1.5
         ],
         "z": [
          -0.5
         ]
        },
        {
         "marker": {
          "color": "#48186a",
          "size": 10
         },
         "mode": "markers",
         "type": "scatter3d",
         "x": [
          0
         ],
         "y": [
          0
         ],
         "z": [
          0
         ]
        },
        {
         "line": {
          "color": "rgb(20, 0, 145)",
          "width": 2
         },
         "mode": "lines",
         "type": "scatter3d",
         "x": [
          0,
          -0.464534
         ],
         "y": [
          0,
          4.708515
         ],
         "z": [
          0,
          -1.616825
         ]
        },
        {
         "marker": {
          "color": "rgb(0,144,144)",
          "size": 5
         },
         "mode": "markers",
         "type": "scatter3d",
         "x": [
          0.20000000298023224
         ],
         "y": [
          1.5
         ],
         "z": [
          -0.5
         ]
        },
        {
         "marker": {
          "color": "#48186a",
          "size": 10
         },
         "mode": "markers",
         "type": "scatter3d",
         "x": [
          0
         ],
         "y": [
          0
         ],
         "z": [
          0
         ]
        },
        {
         "line": {
          "color": "rgb(20, 0, 145)",
          "width": 2
         },
         "mode": "lines",
         "type": "scatter3d",
         "x": [
          0,
          -0.464534
         ],
         "y": [
          0,
          4.708515
         ],
         "z": [
          0,
          -1.616825
         ]
        },
        {
         "marker": {
          "color": "rgb(0,144,144)",
          "size": 5
         },
         "mode": "markers",
         "type": "scatter3d",
         "x": [
          0.20000000298023224
         ],
         "y": [
          1.5
         ],
         "z": [
          -0.5
         ]
        },
        {
         "marker": {
          "color": "#48186a",
          "size": 10
         },
         "mode": "markers",
         "type": "scatter3d",
         "x": [
          0
         ],
         "y": [
          0
         ],
         "z": [
          0
         ]
        },
        {
         "line": {
          "color": "rgb(20, 0, 145)",
          "width": 2
         },
         "mode": "lines",
         "type": "scatter3d",
         "x": [
          0,
          -0.4398245
         ],
         "y": [
          0,
          4.70782
         ],
         "z": [
          0,
          -1.6257199999999998
         ]
        },
        {
         "marker": {
          "color": "rgb(0,144,144)",
          "size": 5
         },
         "mode": "markers",
         "type": "scatter3d",
         "x": [
          0.20000000298023224
         ],
         "y": [
          1.5
         ],
         "z": [
          -0.5
         ]
        },
        {
         "marker": {
          "color": "#48186a",
          "size": 10
         },
         "mode": "markers",
         "type": "scatter3d",
         "x": [
          0
         ],
         "y": [
          0
         ],
         "z": [
          0
         ]
        },
        {
         "line": {
          "color": "rgb(20, 0, 145)",
          "width": 2
         },
         "mode": "lines",
         "type": "scatter3d",
         "x": [
          0,
          -0.4439365
         ],
         "y": [
          0,
          4.7104099999999995
         ],
         "z": [
          0,
          -1.617085
         ]
        },
        {
         "marker": {
          "color": "rgb(0,144,144)",
          "size": 5
         },
         "mode": "markers",
         "type": "scatter3d",
         "x": [
          0.20000000298023224
         ],
         "y": [
          1.5
         ],
         "z": [
          -0.5
         ]
        },
        {
         "marker": {
          "color": "#48186a",
          "size": 10
         },
         "mode": "markers",
         "type": "scatter3d",
         "x": [
          0
         ],
         "y": [
          0
         ],
         "z": [
          0
         ]
        },
        {
         "line": {
          "color": "rgb(20, 0, 145)",
          "width": 2
         },
         "mode": "lines",
         "type": "scatter3d",
         "x": [
          0,
          -0.42736700000000005
         ],
         "y": [
          0,
          4.706365
         ],
         "z": [
          0,
          -1.633245
         ]
        },
        {
         "marker": {
          "color": "rgb(0,144,144)",
          "size": 5
         },
         "mode": "markers",
         "type": "scatter3d",
         "x": [
          0.20000000298023224
         ],
         "y": [
          1.5
         ],
         "z": [
          -0.5
         ]
        },
        {
         "marker": {
          "color": "#48186a",
          "size": 10
         },
         "mode": "markers",
         "type": "scatter3d",
         "x": [
          0
         ],
         "y": [
          0
         ],
         "z": [
          0
         ]
        },
        {
         "line": {
          "color": "rgb(20, 0, 145)",
          "width": 2
         },
         "mode": "lines",
         "type": "scatter3d",
         "x": [
          0,
          -0.4357915
         ],
         "y": [
          0,
          4.701965
         ],
         "z": [
          0,
          -1.643665
         ]
        },
        {
         "marker": {
          "color": "rgb(0,144,144)",
          "size": 5
         },
         "mode": "markers",
         "type": "scatter3d",
         "x": [
          0.20000000298023224
         ],
         "y": [
          1.5
         ],
         "z": [
          -0.5
         ]
        },
        {
         "marker": {
          "color": "#48186a",
          "size": 10
         },
         "mode": "markers",
         "type": "scatter3d",
         "x": [
          0
         ],
         "y": [
          0
         ],
         "z": [
          0
         ]
        },
        {
         "line": {
          "color": "rgb(20, 0, 145)",
          "width": 2
         },
         "mode": "lines",
         "type": "scatter3d",
         "x": [
          0,
          -0.4357915
         ],
         "y": [
          0,
          4.701965
         ],
         "z": [
          0,
          -1.643665
         ]
        },
        {
         "marker": {
          "color": "rgb(0,144,144)",
          "size": 5
         },
         "mode": "markers",
         "type": "scatter3d",
         "x": [
          0.20000000298023224
         ],
         "y": [
          1.5
         ],
         "z": [
          -0.5
         ]
        },
        {
         "marker": {
          "color": "#48186a",
          "size": 10
         },
         "mode": "markers",
         "type": "scatter3d",
         "x": [
          0
         ],
         "y": [
          0
         ],
         "z": [
          0
         ]
        },
        {
         "line": {
          "color": "rgb(20, 0, 145)",
          "width": 2
         },
         "mode": "lines",
         "type": "scatter3d",
         "x": [
          0,
          -0.44418
         ],
         "y": [
          0,
          4.70217
         ],
         "z": [
          0,
          -1.640815
         ]
        },
        {
         "marker": {
          "color": "rgb(0,144,144)",
          "size": 5
         },
         "mode": "markers",
         "type": "scatter3d",
         "x": [
          0.20000000298023224
         ],
         "y": [
          1.5
         ],
         "z": [
          -0.5
         ]
        },
        {
         "marker": {
          "color": "#48186a",
          "size": 10
         },
         "mode": "markers",
         "type": "scatter3d",
         "x": [
          0
         ],
         "y": [
          0
         ],
         "z": [
          0
         ]
        },
        {
         "line": {
          "color": "rgb(20, 0, 145)",
          "width": 2
         },
         "mode": "lines",
         "type": "scatter3d",
         "x": [
          0,
          -0.42081399999999997
         ],
         "y": [
          0,
          4.7019850000000005
         ],
         "z": [
          0,
          -1.647505
         ]
        },
        {
         "marker": {
          "color": "rgb(0,144,144)",
          "size": 5
         },
         "mode": "markers",
         "type": "scatter3d",
         "x": [
          0.20000000298023224
         ],
         "y": [
          1.5
         ],
         "z": [
          -0.5
         ]
        },
        {
         "marker": {
          "color": "#48186a",
          "size": 10
         },
         "mode": "markers",
         "type": "scatter3d",
         "x": [
          0
         ],
         "y": [
          0
         ],
         "z": [
          0
         ]
        },
        {
         "line": {
          "color": "rgb(20, 0, 145)",
          "width": 2
         },
         "mode": "lines",
         "type": "scatter3d",
         "x": [
          0,
          -0.45813149999999997
         ],
         "y": [
          0,
          4.70526
         ],
         "z": [
          0,
          -1.628085
         ]
        },
        {
         "marker": {
          "color": "rgb(0,144,144)",
          "size": 5
         },
         "mode": "markers",
         "type": "scatter3d",
         "x": [
          0.20000000298023224
         ],
         "y": [
          1.5
         ],
         "z": [
          -0.5
         ]
        },
        {
         "marker": {
          "color": "#48186a",
          "size": 10
         },
         "mode": "markers",
         "type": "scatter3d",
         "x": [
          0
         ],
         "y": [
          0
         ],
         "z": [
          0
         ]
        },
        {
         "line": {
          "color": "rgb(20, 0, 145)",
          "width": 2
         },
         "mode": "lines",
         "type": "scatter3d",
         "x": [
          0,
          -0.4364565
         ],
         "y": [
          0,
          4.703535
         ],
         "z": [
          0,
          -1.638975
         ]
        },
        {
         "marker": {
          "color": "rgb(0,144,144)",
          "size": 5
         },
         "mode": "markers",
         "type": "scatter3d",
         "x": [
          0.20000000298023224
         ],
         "y": [
          1.5
         ],
         "z": [
          -0.5
         ]
        },
        {
         "marker": {
          "color": "#48186a",
          "size": 10
         },
         "mode": "markers",
         "type": "scatter3d",
         "x": [
          0
         ],
         "y": [
          0
         ],
         "z": [
          0
         ]
        },
        {
         "line": {
          "color": "rgb(20, 0, 145)",
          "width": 2
         },
         "mode": "lines",
         "type": "scatter3d",
         "x": [
          0,
          -0.4364565
         ],
         "y": [
          0,
          4.703535
         ],
         "z": [
          0,
          -1.638975
         ]
        },
        {
         "marker": {
          "color": "rgb(0,144,144)",
          "size": 5
         },
         "mode": "markers",
         "type": "scatter3d",
         "x": [
          0.20000000298023224
         ],
         "y": [
          1.5
         ],
         "z": [
          -0.5
         ]
        },
        {
         "marker": {
          "color": "#48186a",
          "size": 10
         },
         "mode": "markers",
         "type": "scatter3d",
         "x": [
          0
         ],
         "y": [
          0
         ],
         "z": [
          0
         ]
        },
        {
         "line": {
          "color": "rgb(20, 0, 145)",
          "width": 2
         },
         "mode": "lines",
         "type": "scatter3d",
         "x": [
          0,
          -0.4459605
         ],
         "y": [
          0,
          4.706685
         ],
         "z": [
          0,
          -1.627335
         ]
        },
        {
         "marker": {
          "color": "rgb(0,144,144)",
          "size": 5
         },
         "mode": "markers",
         "type": "scatter3d",
         "x": [
          0.20000000298023224
         ],
         "y": [
          1.5
         ],
         "z": [
          -0.5
         ]
        },
        {
         "marker": {
          "color": "#48186a",
          "size": 10
         },
         "mode": "markers",
         "type": "scatter3d",
         "x": [
          0
         ],
         "y": [
          0
         ],
         "z": [
          0
         ]
        },
        {
         "line": {
          "color": "rgb(20, 0, 145)",
          "width": 2
         },
         "mode": "lines",
         "type": "scatter3d",
         "x": [
          0,
          -0.444261
         ],
         "y": [
          0,
          4.70323
         ],
         "z": [
          0,
          -1.637765
         ]
        },
        {
         "marker": {
          "color": "rgb(0,144,144)",
          "size": 5
         },
         "mode": "markers",
         "type": "scatter3d",
         "x": [
          0.20000000298023224
         ],
         "y": [
          1.5
         ],
         "z": [
          -0.5
         ]
        },
        {
         "marker": {
          "color": "#48186a",
          "size": 10
         },
         "mode": "markers",
         "type": "scatter3d",
         "x": [
          0
         ],
         "y": [
          0
         ],
         "z": [
          0
         ]
        },
        {
         "line": {
          "color": "rgb(20, 0, 145)",
          "width": 2
         },
         "mode": "lines",
         "type": "scatter3d",
         "x": [
          0,
          -0.431257
         ],
         "y": [
          0,
          4.70492
         ],
         "z": [
          0,
          -1.636375
         ]
        },
        {
         "marker": {
          "color": "rgb(0,144,144)",
          "size": 5
         },
         "mode": "markers",
         "type": "scatter3d",
         "x": [
          0.20000000298023224
         ],
         "y": [
          1.5
         ],
         "z": [
          -0.5
         ]
        },
        {
         "marker": {
          "color": "#48186a",
          "size": 10
         },
         "mode": "markers",
         "type": "scatter3d",
         "x": [
          0
         ],
         "y": [
          0
         ],
         "z": [
          0
         ]
        },
        {
         "line": {
          "color": "rgb(20, 0, 145)",
          "width": 2
         },
         "mode": "lines",
         "type": "scatter3d",
         "x": [
          0,
          -0.459742
         ],
         "y": [
          0,
          4.708645000000001
         ],
         "z": [
          0,
          -1.617805
         ]
        },
        {
         "marker": {
          "color": "rgb(0,144,144)",
          "size": 5
         },
         "mode": "markers",
         "type": "scatter3d",
         "x": [
          0.20000000298023224
         ],
         "y": [
          1.5
         ],
         "z": [
          -0.5
         ]
        },
        {
         "marker": {
          "color": "#48186a",
          "size": 10
         },
         "mode": "markers",
         "type": "scatter3d",
         "x": [
          0
         ],
         "y": [
          0
         ],
         "z": [
          0
         ]
        },
        {
         "line": {
          "color": "rgb(20, 0, 145)",
          "width": 2
         },
         "mode": "lines",
         "type": "scatter3d",
         "x": [
          0,
          -0.459742
         ],
         "y": [
          0,
          4.708645000000001
         ],
         "z": [
          0,
          -1.617805
         ]
        },
        {
         "marker": {
          "color": "rgb(0,144,144)",
          "size": 5
         },
         "mode": "markers",
         "type": "scatter3d",
         "x": [
          0.20000000298023224
         ],
         "y": [
          1.5
         ],
         "z": [
          -0.5
         ]
        },
        {
         "marker": {
          "color": "#48186a",
          "size": 10
         },
         "mode": "markers",
         "type": "scatter3d",
         "x": [
          0
         ],
         "y": [
          0
         ],
         "z": [
          0
         ]
        },
        {
         "line": {
          "color": "rgb(20, 0, 145)",
          "width": 2
         },
         "mode": "lines",
         "type": "scatter3d",
         "x": [
          0,
          -0.43469099999999994
         ],
         "y": [
          0,
          4.702815
         ],
         "z": [
          0,
          -1.6415199999999999
         ]
        },
        {
         "marker": {
          "color": "rgb(0,144,144)",
          "size": 5
         },
         "mode": "markers",
         "type": "scatter3d",
         "x": [
          0.20000000298023224
         ],
         "y": [
          1.5
         ],
         "z": [
          -0.5
         ]
        },
        {
         "marker": {
          "color": "#48186a",
          "size": 10
         },
         "mode": "markers",
         "type": "scatter3d",
         "x": [
          0
         ],
         "y": [
          0
         ],
         "z": [
          0
         ]
        },
        {
         "line": {
          "color": "rgb(20, 0, 145)",
          "width": 2
         },
         "mode": "lines",
         "type": "scatter3d",
         "x": [
          0,
          -0.4423915
         ],
         "y": [
          0,
          4.7067
         ],
         "z": [
          0,
          -1.62827
         ]
        },
        {
         "marker": {
          "color": "rgb(0,144,144)",
          "size": 5
         },
         "mode": "markers",
         "type": "scatter3d",
         "x": [
          0.20000000298023224
         ],
         "y": [
          1.5
         ],
         "z": [
          -0.5
         ]
        },
        {
         "marker": {
          "color": "#48186a",
          "size": 10
         },
         "mode": "markers",
         "type": "scatter3d",
         "x": [
          0
         ],
         "y": [
          0
         ],
         "z": [
          0
         ]
        },
        {
         "line": {
          "color": "rgb(20, 0, 145)",
          "width": 2
         },
         "mode": "lines",
         "type": "scatter3d",
         "x": [
          0,
          -0.44569650000000005
         ],
         "y": [
          0,
          4.701935
         ],
         "z": [
          0,
          -1.641085
         ]
        },
        {
         "marker": {
          "color": "rgb(0,144,144)",
          "size": 5
         },
         "mode": "markers",
         "type": "scatter3d",
         "x": [
          0.20000000298023224
         ],
         "y": [
          1.5
         ],
         "z": [
          -0.5
         ]
        },
        {
         "marker": {
          "color": "#48186a",
          "size": 10
         },
         "mode": "markers",
         "type": "scatter3d",
         "x": [
          0
         ],
         "y": [
          0
         ],
         "z": [
          0
         ]
        },
        {
         "line": {
          "color": "rgb(20, 0, 145)",
          "width": 2
         },
         "mode": "lines",
         "type": "scatter3d",
         "x": [
          0,
          -0.45415099999999997
         ],
         "y": [
          0,
          4.710134999999999
         ],
         "z": [
          0,
          -1.61505
         ]
        },
        {
         "marker": {
          "color": "rgb(0,144,144)",
          "size": 5
         },
         "mode": "markers",
         "type": "scatter3d",
         "x": [
          0.20000000298023224
         ],
         "y": [
          1.5
         ],
         "z": [
          -0.5
         ]
        },
        {
         "marker": {
          "color": "#48186a",
          "size": 10
         },
         "mode": "markers",
         "type": "scatter3d",
         "x": [
          0
         ],
         "y": [
          0
         ],
         "z": [
          0
         ]
        },
        {
         "line": {
          "color": "rgb(20, 0, 145)",
          "width": 2
         },
         "mode": "lines",
         "type": "scatter3d",
         "x": [
          0,
          -0.45415099999999997
         ],
         "y": [
          0,
          4.710134999999999
         ],
         "z": [
          0,
          -1.61505
         ]
        },
        {
         "marker": {
          "color": "rgb(0,144,144)",
          "size": 5
         },
         "mode": "markers",
         "type": "scatter3d",
         "x": [
          0.20000000298023224
         ],
         "y": [
          1.5
         ],
         "z": [
          -0.5
         ]
        },
        {
         "marker": {
          "color": "#48186a",
          "size": 10
         },
         "mode": "markers",
         "type": "scatter3d",
         "x": [
          0
         ],
         "y": [
          0
         ],
         "z": [
          0
         ]
        },
        {
         "line": {
          "color": "rgb(20, 0, 145)",
          "width": 2
         },
         "mode": "lines",
         "type": "scatter3d",
         "x": [
          0,
          -0.46000399999999997
         ],
         "y": [
          0,
          4.70249
         ],
         "z": [
          0,
          -1.63554
         ]
        },
        {
         "marker": {
          "color": "rgb(0,144,144)",
          "size": 5
         },
         "mode": "markers",
         "type": "scatter3d",
         "x": [
          0.20000000298023224
         ],
         "y": [
          1.5
         ],
         "z": [
          -0.5
         ]
        },
        {
         "marker": {
          "color": "#48186a",
          "size": 10
         },
         "mode": "markers",
         "type": "scatter3d",
         "x": [
          0
         ],
         "y": [
          0
         ],
         "z": [
          0
         ]
        },
        {
         "line": {
          "color": "rgb(20, 0, 145)",
          "width": 2
         },
         "mode": "lines",
         "type": "scatter3d",
         "x": [
          0,
          -0.4263965
         ],
         "y": [
          0,
          4.697835
         ],
         "z": [
          0,
          -1.657875
         ]
        },
        {
         "marker": {
          "color": "rgb(0,144,144)",
          "size": 5
         },
         "mode": "markers",
         "type": "scatter3d",
         "x": [
          0.20000000298023224
         ],
         "y": [
          1.5
         ],
         "z": [
          -0.5
         ]
        },
        {
         "marker": {
          "color": "#48186a",
          "size": 10
         },
         "mode": "markers",
         "type": "scatter3d",
         "x": [
          0
         ],
         "y": [
          0
         ],
         "z": [
          0
         ]
        },
        {
         "line": {
          "color": "rgb(20, 0, 145)",
          "width": 2
         },
         "mode": "lines",
         "type": "scatter3d",
         "x": [
          0,
          -0.4649905
         ],
         "y": [
          0,
          4.699355
         ],
         "z": [
          0,
          -1.643125
         ]
        },
        {
         "marker": {
          "color": "rgb(0,144,144)",
          "size": 5
         },
         "mode": "markers",
         "type": "scatter3d",
         "x": [
          0.20000000298023224
         ],
         "y": [
          1.5
         ],
         "z": [
          -0.5
         ]
        },
        {
         "marker": {
          "color": "#48186a",
          "size": 10
         },
         "mode": "markers",
         "type": "scatter3d",
         "x": [
          0
         ],
         "y": [
          0
         ],
         "z": [
          0
         ]
        },
        {
         "line": {
          "color": "rgb(20, 0, 145)",
          "width": 2
         },
         "mode": "lines",
         "type": "scatter3d",
         "x": [
          0,
          -0.4316965
         ],
         "y": [
          0,
          4.700045
         ],
         "z": [
          0,
          -1.6502149999999998
         ]
        },
        {
         "marker": {
          "color": "rgb(0,144,144)",
          "size": 5
         },
         "mode": "markers",
         "type": "scatter3d",
         "x": [
          0.20000000298023224
         ],
         "y": [
          1.5
         ],
         "z": [
          -0.5
         ]
        },
        {
         "marker": {
          "color": "#48186a",
          "size": 10
         },
         "mode": "markers",
         "type": "scatter3d",
         "x": [
          0
         ],
         "y": [
          0
         ],
         "z": [
          0
         ]
        },
        {
         "line": {
          "color": "rgb(20, 0, 145)",
          "width": 2
         },
         "mode": "lines",
         "type": "scatter3d",
         "x": [
          0,
          -0.4316965
         ],
         "y": [
          0,
          4.700045
         ],
         "z": [
          0,
          -1.6502149999999998
         ]
        },
        {
         "marker": {
          "color": "rgb(0,144,144)",
          "size": 5
         },
         "mode": "markers",
         "type": "scatter3d",
         "x": [
          0.20000000298023224
         ],
         "y": [
          1.5
         ],
         "z": [
          -0.5
         ]
        },
        {
         "marker": {
          "color": "#48186a",
          "size": 10
         },
         "mode": "markers",
         "type": "scatter3d",
         "x": [
          0
         ],
         "y": [
          0
         ],
         "z": [
          0
         ]
        },
        {
         "line": {
          "color": "rgb(20, 0, 145)",
          "width": 2
         },
         "mode": "lines",
         "type": "scatter3d",
         "x": [
          0,
          -0.4542215
         ],
         "y": [
          0,
          4.70314
         ],
         "z": [
          0,
          -1.63528
         ]
        },
        {
         "marker": {
          "color": "rgb(0,144,144)",
          "size": 5
         },
         "mode": "markers",
         "type": "scatter3d",
         "x": [
          0.20000000298023224
         ],
         "y": [
          1.5
         ],
         "z": [
          -0.5
         ]
        },
        {
         "marker": {
          "color": "#48186a",
          "size": 10
         },
         "mode": "markers",
         "type": "scatter3d",
         "x": [
          0
         ],
         "y": [
          0
         ],
         "z": [
          0
         ]
        },
        {
         "line": {
          "color": "rgb(20, 0, 145)",
          "width": 2
         },
         "mode": "lines",
         "type": "scatter3d",
         "x": [
          0,
          -0.438744
         ],
         "y": [
          0,
          4.702705
         ],
         "z": [
          0,
          -1.64075
         ]
        },
        {
         "marker": {
          "color": "rgb(0,144,144)",
          "size": 5
         },
         "mode": "markers",
         "type": "scatter3d",
         "x": [
          0.20000000298023224
         ],
         "y": [
          1.5
         ],
         "z": [
          -0.5
         ]
        },
        {
         "marker": {
          "color": "#48186a",
          "size": 10
         },
         "mode": "markers",
         "type": "scatter3d",
         "x": [
          0
         ],
         "y": [
          0
         ],
         "z": [
          0
         ]
        },
        {
         "line": {
          "color": "rgb(20, 0, 145)",
          "width": 2
         },
         "mode": "lines",
         "type": "scatter3d",
         "x": [
          0,
          -0.44863949999999997
         ],
         "y": [
          0,
          4.704805
         ],
         "z": [
          0,
          -1.6320350000000001
         ]
        },
        {
         "marker": {
          "color": "rgb(0,144,144)",
          "size": 5
         },
         "mode": "markers",
         "type": "scatter3d",
         "x": [
          0.20000000298023224
         ],
         "y": [
          1.5
         ],
         "z": [
          -0.5
         ]
        },
        {
         "marker": {
          "color": "#48186a",
          "size": 10
         },
         "mode": "markers",
         "type": "scatter3d",
         "x": [
          0
         ],
         "y": [
          0
         ],
         "z": [
          0
         ]
        },
        {
         "line": {
          "color": "rgb(20, 0, 145)",
          "width": 2
         },
         "mode": "lines",
         "type": "scatter3d",
         "x": [
          0,
          -0.4544315
         ],
         "y": [
          0,
          4.7026200000000005
         ],
         "z": [
          0,
          -1.63673
         ]
        },
        {
         "marker": {
          "color": "rgb(0,144,144)",
          "size": 5
         },
         "mode": "markers",
         "type": "scatter3d",
         "x": [
          0.20000000298023224
         ],
         "y": [
          1.5
         ],
         "z": [
          -0.5
         ]
        },
        {
         "marker": {
          "color": "#48186a",
          "size": 10
         },
         "mode": "markers",
         "type": "scatter3d",
         "x": [
          0
         ],
         "y": [
          0
         ],
         "z": [
          0
         ]
        },
        {
         "line": {
          "color": "rgb(20, 0, 145)",
          "width": 2
         },
         "mode": "lines",
         "type": "scatter3d",
         "x": [
          0,
          -0.4544315
         ],
         "y": [
          0,
          4.7026200000000005
         ],
         "z": [
          0,
          -1.63673
         ]
        },
        {
         "marker": {
          "color": "rgb(0,144,144)",
          "size": 5
         },
         "mode": "markers",
         "type": "scatter3d",
         "x": [
          0.20000000298023224
         ],
         "y": [
          1.5
         ],
         "z": [
          -0.5
         ]
        },
        {
         "marker": {
          "color": "#48186a",
          "size": 10
         },
         "mode": "markers",
         "type": "scatter3d",
         "x": [
          0
         ],
         "y": [
          0
         ],
         "z": [
          0
         ]
        },
        {
         "line": {
          "color": "rgb(20, 0, 145)",
          "width": 2
         },
         "mode": "lines",
         "type": "scatter3d",
         "x": [
          0,
          -0.4436855
         ],
         "y": [
          0,
          4.70414
         ],
         "z": [
          0,
          -1.63531
         ]
        },
        {
         "marker": {
          "color": "rgb(0,144,144)",
          "size": 5
         },
         "mode": "markers",
         "type": "scatter3d",
         "x": [
          0.20000000298023224
         ],
         "y": [
          1.5
         ],
         "z": [
          -0.5
         ]
        },
        {
         "marker": {
          "color": "#48186a",
          "size": 10
         },
         "mode": "markers",
         "type": "scatter3d",
         "x": [
          0
         ],
         "y": [
          0
         ],
         "z": [
          0
         ]
        },
        {
         "line": {
          "color": "rgb(20, 0, 145)",
          "width": 2
         },
         "mode": "lines",
         "type": "scatter3d",
         "x": [
          0,
          -0.45750199999999996
         ],
         "y": [
          0,
          4.70268
         ],
         "z": [
          0,
          -1.6356899999999999
         ]
        },
        {
         "marker": {
          "color": "rgb(0,144,144)",
          "size": 5
         },
         "mode": "markers",
         "type": "scatter3d",
         "x": [
          0.20000000298023224
         ],
         "y": [
          1.5
         ],
         "z": [
          -0.5
         ]
        },
        {
         "marker": {
          "color": "#48186a",
          "size": 10
         },
         "mode": "markers",
         "type": "scatter3d",
         "x": [
          0
         ],
         "y": [
          0
         ],
         "z": [
          0
         ]
        },
        {
         "line": {
          "color": "rgb(20, 0, 145)",
          "width": 2
         },
         "mode": "lines",
         "type": "scatter3d",
         "x": [
          0,
          -0.453501
         ],
         "y": [
          0,
          4.7052
         ],
         "z": [
          0,
          -1.629545
         ]
        },
        {
         "marker": {
          "color": "rgb(0,144,144)",
          "size": 5
         },
         "mode": "markers",
         "type": "scatter3d",
         "x": [
          0.20000000298023224
         ],
         "y": [
          1.5
         ],
         "z": [
          -0.5
         ]
        },
        {
         "marker": {
          "color": "#48186a",
          "size": 10
         },
         "mode": "markers",
         "type": "scatter3d",
         "x": [
          0
         ],
         "y": [
          0
         ],
         "z": [
          0
         ]
        },
        {
         "line": {
          "color": "rgb(20, 0, 145)",
          "width": 2
         },
         "mode": "lines",
         "type": "scatter3d",
         "x": [
          0,
          -0.4617325
         ],
         "y": [
          0,
          4.70811
         ],
         "z": [
          0,
          -1.6188
         ]
        },
        {
         "marker": {
          "color": "rgb(0,144,144)",
          "size": 5
         },
         "mode": "markers",
         "type": "scatter3d",
         "x": [
          0.20000000298023224
         ],
         "y": [
          1.5
         ],
         "z": [
          -0.5
         ]
        },
        {
         "marker": {
          "color": "#48186a",
          "size": 10
         },
         "mode": "markers",
         "type": "scatter3d",
         "x": [
          0
         ],
         "y": [
          0
         ],
         "z": [
          0
         ]
        },
        {
         "line": {
          "color": "rgb(20, 0, 145)",
          "width": 2
         },
         "mode": "lines",
         "type": "scatter3d",
         "x": [
          0,
          -0.4617325
         ],
         "y": [
          0,
          4.70811
         ],
         "z": [
          0,
          -1.6188
         ]
        },
        {
         "marker": {
          "color": "rgb(0,144,144)",
          "size": 5
         },
         "mode": "markers",
         "type": "scatter3d",
         "x": [
          0.20000000298023224
         ],
         "y": [
          1.5
         ],
         "z": [
          -0.5
         ]
        },
        {
         "marker": {
          "color": "#48186a",
          "size": 10
         },
         "mode": "markers",
         "type": "scatter3d",
         "x": [
          0
         ],
         "y": [
          0
         ],
         "z": [
          0
         ]
        },
        {
         "line": {
          "color": "rgb(20, 0, 145)",
          "width": 2
         },
         "mode": "lines",
         "type": "scatter3d",
         "x": [
          0,
          -0.467247
         ],
         "y": [
          0,
          4.70538
         ],
         "z": [
          0,
          -1.625145
         ]
        },
        {
         "marker": {
          "color": "rgb(0,144,144)",
          "size": 5
         },
         "mode": "markers",
         "type": "scatter3d",
         "x": [
          0.20000000298023224
         ],
         "y": [
          1.5
         ],
         "z": [
          -0.5
         ]
        },
        {
         "marker": {
          "color": "#48186a",
          "size": 10
         },
         "mode": "markers",
         "type": "scatter3d",
         "x": [
          0
         ],
         "y": [
          0
         ],
         "z": [
          0
         ]
        },
        {
         "line": {
          "color": "rgb(20, 0, 145)",
          "width": 2
         },
         "mode": "lines",
         "type": "scatter3d",
         "x": [
          0,
          -0.459503
         ],
         "y": [
          0,
          4.706785
         ],
         "z": [
          0,
          -1.6232849999999999
         ]
        },
        {
         "marker": {
          "color": "rgb(0,144,144)",
          "size": 5
         },
         "mode": "markers",
         "type": "scatter3d",
         "x": [
          0.20000000298023224
         ],
         "y": [
          1.5
         ],
         "z": [
          -0.5
         ]
        },
        {
         "marker": {
          "color": "#48186a",
          "size": 10
         },
         "mode": "markers",
         "type": "scatter3d",
         "x": [
          0
         ],
         "y": [
          0
         ],
         "z": [
          0
         ]
        },
        {
         "line": {
          "color": "rgb(20, 0, 145)",
          "width": 2
         },
         "mode": "lines",
         "type": "scatter3d",
         "x": [
          0,
          -0.482789
         ],
         "y": [
          0,
          4.708115
         ],
         "z": [
          0,
          -1.612635
         ]
        },
        {
         "marker": {
          "color": "rgb(0,144,144)",
          "size": 5
         },
         "mode": "markers",
         "type": "scatter3d",
         "x": [
          0.20000000298023224
         ],
         "y": [
          1.5
         ],
         "z": [
          -0.5
         ]
        },
        {
         "marker": {
          "color": "#48186a",
          "size": 10
         },
         "mode": "markers",
         "type": "scatter3d",
         "x": [
          0
         ],
         "y": [
          0
         ],
         "z": [
          0
         ]
        },
        {
         "line": {
          "color": "rgb(20, 0, 145)",
          "width": 2
         },
         "mode": "lines",
         "type": "scatter3d",
         "x": [
          0,
          -0.45530800000000005
         ],
         "y": [
          0,
          4.70164
         ],
         "z": [
          0,
          -1.639285
         ]
        },
        {
         "marker": {
          "color": "rgb(0,144,144)",
          "size": 5
         },
         "mode": "markers",
         "type": "scatter3d",
         "x": [
          0.20000000298023224
         ],
         "y": [
          1.5
         ],
         "z": [
          -0.5
         ]
        },
        {
         "marker": {
          "color": "#48186a",
          "size": 10
         },
         "mode": "markers",
         "type": "scatter3d",
         "x": [
          0
         ],
         "y": [
          0
         ],
         "z": [
          0
         ]
        },
        {
         "line": {
          "color": "rgb(20, 0, 145)",
          "width": 2
         },
         "mode": "lines",
         "type": "scatter3d",
         "x": [
          0,
          -0.482654
         ],
         "y": [
          0,
          4.710335
         ],
         "z": [
          0,
          -1.606175
         ]
        },
        {
         "marker": {
          "color": "rgb(0,144,144)",
          "size": 5
         },
         "mode": "markers",
         "type": "scatter3d",
         "x": [
          0.20000000298023224
         ],
         "y": [
          1.5
         ],
         "z": [
          -0.5
         ]
        },
        {
         "marker": {
          "color": "#48186a",
          "size": 10
         },
         "mode": "markers",
         "type": "scatter3d",
         "x": [
          0
         ],
         "y": [
          0
         ],
         "z": [
          0
         ]
        },
        {
         "line": {
          "color": "rgb(20, 0, 145)",
          "width": 2
         },
         "mode": "lines",
         "type": "scatter3d",
         "x": [
          0,
          -0.482654
         ],
         "y": [
          0,
          4.710335
         ],
         "z": [
          0,
          -1.606175
         ]
        },
        {
         "marker": {
          "color": "rgb(0,144,144)",
          "size": 5
         },
         "mode": "markers",
         "type": "scatter3d",
         "x": [
          0.20000000298023224
         ],
         "y": [
          1.5
         ],
         "z": [
          -0.5
         ]
        },
        {
         "marker": {
          "color": "#48186a",
          "size": 10
         },
         "mode": "markers",
         "type": "scatter3d",
         "x": [
          0
         ],
         "y": [
          0
         ],
         "z": [
          0
         ]
        },
        {
         "line": {
          "color": "rgb(20, 0, 145)",
          "width": 2
         },
         "mode": "lines",
         "type": "scatter3d",
         "x": [
          0,
          -0.459377
         ],
         "y": [
          0,
          4.703315
         ],
         "z": [
          0,
          -1.633335
         ]
        },
        {
         "marker": {
          "color": "rgb(0,144,144)",
          "size": 5
         },
         "mode": "markers",
         "type": "scatter3d",
         "x": [
          0.20000000298023224
         ],
         "y": [
          1.5
         ],
         "z": [
          -0.5
         ]
        },
        {
         "marker": {
          "color": "#48186a",
          "size": 10
         },
         "mode": "markers",
         "type": "scatter3d",
         "x": [
          0
         ],
         "y": [
          0
         ],
         "z": [
          0
         ]
        },
        {
         "line": {
          "color": "rgb(20, 0, 145)",
          "width": 2
         },
         "mode": "lines",
         "type": "scatter3d",
         "x": [
          0,
          -0.45256799999999997
         ],
         "y": [
          0,
          4.702065
         ],
         "z": [
          0,
          -1.6388249999999998
         ]
        },
        {
         "marker": {
          "color": "rgb(0,144,144)",
          "size": 5
         },
         "mode": "markers",
         "type": "scatter3d",
         "x": [
          0.20000000298023224
         ],
         "y": [
          1.5
         ],
         "z": [
          -0.5
         ]
        },
        {
         "marker": {
          "color": "#48186a",
          "size": 10
         },
         "mode": "markers",
         "type": "scatter3d",
         "x": [
          0
         ],
         "y": [
          0
         ],
         "z": [
          0
         ]
        },
        {
         "line": {
          "color": "rgb(20, 0, 145)",
          "width": 2
         },
         "mode": "lines",
         "type": "scatter3d",
         "x": [
          0,
          -0.45256799999999997
         ],
         "y": [
          0,
          4.702065
         ],
         "z": [
          0,
          -1.6388249999999998
         ]
        },
        {
         "marker": {
          "color": "rgb(0,144,144)",
          "size": 5
         },
         "mode": "markers",
         "type": "scatter3d",
         "x": [
          0.20000000298023224
         ],
         "y": [
          1.5
         ],
         "z": [
          -0.5
         ]
        },
        {
         "marker": {
          "color": "#48186a",
          "size": 10
         },
         "mode": "markers",
         "type": "scatter3d",
         "x": [
          0
         ],
         "y": [
          0
         ],
         "z": [
          0
         ]
        },
        {
         "line": {
          "color": "rgb(20, 0, 145)",
          "width": 2
         },
         "mode": "lines",
         "type": "scatter3d",
         "x": [
          0,
          -0.473406
         ],
         "y": [
          0,
          4.705545
         ],
         "z": [
          0,
          -1.6228799999999999
         ]
        },
        {
         "marker": {
          "color": "rgb(0,144,144)",
          "size": 5
         },
         "mode": "markers",
         "type": "scatter3d",
         "x": [
          0.20000000298023224
         ],
         "y": [
          1.5
         ],
         "z": [
          -0.5
         ]
        },
        {
         "marker": {
          "color": "#48186a",
          "size": 10
         },
         "mode": "markers",
         "type": "scatter3d",
         "x": [
          0
         ],
         "y": [
          0
         ],
         "z": [
          0
         ]
        },
        {
         "line": {
          "color": "rgb(20, 0, 145)",
          "width": 2
         },
         "mode": "lines",
         "type": "scatter3d",
         "x": [
          0,
          -0.458702
         ],
         "y": [
          0,
          4.704065
         ],
         "z": [
          0,
          -1.6313749999999998
         ]
        },
        {
         "marker": {
          "color": "rgb(0,144,144)",
          "size": 5
         },
         "mode": "markers",
         "type": "scatter3d",
         "x": [
          0.20000000298023224
         ],
         "y": [
          1.5
         ],
         "z": [
          -0.5
         ]
        },
        {
         "marker": {
          "color": "#48186a",
          "size": 10
         },
         "mode": "markers",
         "type": "scatter3d",
         "x": [
          0
         ],
         "y": [
          0
         ],
         "z": [
          0
         ]
        },
        {
         "line": {
          "color": "rgb(20, 0, 145)",
          "width": 2
         },
         "mode": "lines",
         "type": "scatter3d",
         "x": [
          0,
          -0.4690495
         ],
         "y": [
          0,
          4.70808
         ],
         "z": [
          0,
          -1.616775
         ]
        },
        {
         "marker": {
          "color": "rgb(0,144,144)",
          "size": 5
         },
         "mode": "markers",
         "type": "scatter3d",
         "x": [
          0.20000000298023224
         ],
         "y": [
          1.5
         ],
         "z": [
          -0.5
         ]
        },
        {
         "marker": {
          "color": "#48186a",
          "size": 10
         },
         "mode": "markers",
         "type": "scatter3d",
         "x": [
          0
         ],
         "y": [
          0
         ],
         "z": [
          0
         ]
        },
        {
         "line": {
          "color": "rgb(20, 0, 145)",
          "width": 2
         },
         "mode": "lines",
         "type": "scatter3d",
         "x": [
          0,
          -0.45202699999999996
         ],
         "y": [
          0,
          4.707495
         ],
         "z": [
          0,
          -1.623325
         ]
        },
        {
         "marker": {
          "color": "rgb(0,144,144)",
          "size": 5
         },
         "mode": "markers",
         "type": "scatter3d",
         "x": [
          0.20000000298023224
         ],
         "y": [
          1.5
         ],
         "z": [
          -0.5
         ]
        }
       ],
       "layout": {
        "height": 800,
        "hovermode": "closest",
        "margin": {
         "t": 100
        },
        "scene": {
         "aspectmode": "manual",
         "aspectratio": {
          "x": 1,
          "y": 1,
          "z": 1
         },
         "xaxis": {
          "range": [
           -10,
           10
          ],
          "title": "x Axis"
         },
         "yaxis": {
          "range": [
           -10,
           10
          ],
          "title": "y Axis"
         },
         "zaxis": {
          "range": [
           -10,
           10
          ],
          "title": "z Axis"
         }
        },
        "showlegend": false,
        "title": "Gaze in World",
        "width": 800
       }
      },
      "text/html": [
       "<div id=\"4321b4ae-124a-4b28-a50e-f23cd471a51d\" style=\"height: 800px; width: 800px;\" class=\"plotly-graph-div\"></div><script type=\"text/javascript\">require([\"plotly\"], function(Plotly) { window.PLOTLYENV=window.PLOTLYENV || {};window.PLOTLYENV.BASE_URL=\"https://plot.ly\";Plotly.newPlot(\"4321b4ae-124a-4b28-a50e-f23cd471a51d\", [{\"marker\": {\"color\": \"#48186a\", \"size\": 10}, \"mode\": \"markers\", \"y\": [0], \"x\": [0], \"z\": [0], \"type\": \"scatter3d\"}, {\"mode\": \"lines\", \"y\": [0, 4.699195], \"x\": [0, -0.490929], \"line\": {\"color\": \"rgb(20, 0, 145)\", \"width\": 2}, \"z\": [0, -1.636015], \"type\": \"scatter3d\"}, {\"marker\": {\"color\": \"rgb(0,144,144)\", \"size\": 5}, \"mode\": \"markers\", \"y\": [1.5], \"x\": [0.20000000298023224], \"z\": [-0.5], \"type\": \"scatter3d\"}, {\"marker\": {\"color\": \"#48186a\", \"size\": 10}, \"mode\": \"markers\", \"y\": [0], \"x\": [0], \"z\": [0], \"type\": \"scatter3d\"}, {\"mode\": \"lines\", \"y\": [0, 4.69613], \"x\": [0, -0.480856], \"line\": {\"color\": \"rgb(20, 0, 145)\", \"width\": 2}, \"z\": [0, -1.64777], \"type\": \"scatter3d\"}, {\"marker\": {\"color\": \"rgb(0,144,144)\", \"size\": 5}, \"mode\": \"markers\", \"y\": [1.5], \"x\": [0.20000000298023224], \"z\": [-0.5], \"type\": \"scatter3d\"}, {\"marker\": {\"color\": \"#48186a\", \"size\": 10}, \"mode\": \"markers\", \"y\": [0], \"x\": [0], \"z\": [0], \"type\": \"scatter3d\"}, {\"mode\": \"lines\", \"y\": [0, 4.69613], \"x\": [0, -0.480856], \"line\": {\"color\": \"rgb(20, 0, 145)\", \"width\": 2}, \"z\": [0, -1.64777], \"type\": \"scatter3d\"}, {\"marker\": {\"color\": \"rgb(0,144,144)\", \"size\": 5}, \"mode\": \"markers\", \"y\": [1.5], \"x\": [0.20000000298023224], \"z\": [-0.5], \"type\": \"scatter3d\"}, {\"marker\": {\"color\": \"#48186a\", \"size\": 10}, \"mode\": \"markers\", \"y\": [0], \"x\": [0], \"z\": [0], \"type\": \"scatter3d\"}, {\"mode\": \"lines\", \"y\": [0, 4.70255], \"x\": [0, -0.47534750000000003], \"line\": {\"color\": \"rgb(20, 0, 145)\", \"width\": 2}, \"z\": [0, -1.6309799999999999], \"type\": \"scatter3d\"}, {\"marker\": {\"color\": \"rgb(0,144,144)\", \"size\": 5}, \"mode\": \"markers\", \"y\": [1.5], \"x\": [0.20000000298023224], \"z\": [-0.5], \"type\": \"scatter3d\"}, {\"marker\": {\"color\": \"#48186a\", \"size\": 10}, \"mode\": \"markers\", \"y\": [0], \"x\": [0], \"z\": [0], \"type\": \"scatter3d\"}, {\"mode\": \"lines\", \"y\": [0, 4.70367], \"x\": [0, -0.48007599999999995], \"line\": {\"color\": \"rgb(20, 0, 145)\", \"width\": 2}, \"z\": [0, -1.6263549999999998], \"type\": \"scatter3d\"}, {\"marker\": {\"color\": \"rgb(0,144,144)\", \"size\": 5}, \"mode\": \"markers\", \"y\": [1.5], \"x\": [0.20000000298023224], \"z\": [-0.5], \"type\": \"scatter3d\"}, {\"marker\": {\"color\": \"#48186a\", \"size\": 10}, \"mode\": \"markers\", \"y\": [0], \"x\": [0], \"z\": [0], \"type\": \"scatter3d\"}, {\"mode\": \"lines\", \"y\": [0, 4.69811], \"x\": [0, -0.46435200000000004], \"line\": {\"color\": \"rgb(20, 0, 145)\", \"width\": 2}, \"z\": [0, -1.6468550000000002], \"type\": \"scatter3d\"}, {\"marker\": {\"color\": \"rgb(0,144,144)\", \"size\": 5}, \"mode\": \"markers\", \"y\": [1.5], \"x\": [0.20000000298023224], \"z\": [-0.5], \"type\": \"scatter3d\"}, {\"marker\": {\"color\": \"#48186a\", \"size\": 10}, \"mode\": \"markers\", \"y\": [0], \"x\": [0], \"z\": [0], \"type\": \"scatter3d\"}, {\"mode\": \"lines\", \"y\": [0, 4.7026449999999995], \"x\": [0, -0.47934499999999997], \"line\": {\"color\": \"rgb(20, 0, 145)\", \"width\": 2}, \"z\": [0, -1.62953], \"type\": \"scatter3d\"}, {\"marker\": {\"color\": \"rgb(0,144,144)\", \"size\": 5}, \"mode\": \"markers\", \"y\": [1.5], \"x\": [0.20000000298023224], \"z\": [-0.5], \"type\": \"scatter3d\"}, {\"marker\": {\"color\": \"#48186a\", \"size\": 10}, \"mode\": \"markers\", \"y\": [0], \"x\": [0], \"z\": [0], \"type\": \"scatter3d\"}, {\"mode\": \"lines\", \"y\": [0, 4.70653], \"x\": [0, -0.44939149999999994], \"line\": {\"color\": \"rgb(20, 0, 145)\", \"width\": 2}, \"z\": [0, -1.62685], \"type\": \"scatter3d\"}, {\"marker\": {\"color\": \"rgb(0,144,144)\", \"size\": 5}, \"mode\": \"markers\", \"y\": [1.5], \"x\": [0.20000000298023224], \"z\": [-0.5], \"type\": \"scatter3d\"}, {\"marker\": {\"color\": \"#48186a\", \"size\": 10}, \"mode\": \"markers\", \"y\": [0], \"x\": [0], \"z\": [0], \"type\": \"scatter3d\"}, {\"mode\": \"lines\", \"y\": [0, 4.70653], \"x\": [0, -0.44939149999999994], \"line\": {\"color\": \"rgb(20, 0, 145)\", \"width\": 2}, \"z\": [0, -1.62685], \"type\": \"scatter3d\"}, {\"marker\": {\"color\": \"rgb(0,144,144)\", \"size\": 5}, \"mode\": \"markers\", \"y\": [1.5], \"x\": [0.20000000298023224], \"z\": [-0.5], \"type\": \"scatter3d\"}, {\"marker\": {\"color\": \"#48186a\", \"size\": 10}, \"mode\": \"markers\", \"y\": [0], \"x\": [0], \"z\": [0], \"type\": \"scatter3d\"}, {\"mode\": \"lines\", \"y\": [0, 4.713035], \"x\": [0, -0.4774705], \"line\": {\"color\": \"rgb(20, 0, 145)\", \"width\": 2}, \"z\": [0, -1.5997949999999999], \"type\": \"scatter3d\"}, {\"marker\": {\"color\": \"rgb(0,144,144)\", \"size\": 5}, \"mode\": \"markers\", \"y\": [1.5], \"x\": [0.20000000298023224], \"z\": [-0.5], \"type\": \"scatter3d\"}, {\"marker\": {\"color\": \"#48186a\", \"size\": 10}, \"mode\": \"markers\", \"y\": [0], \"x\": [0], \"z\": [0], \"type\": \"scatter3d\"}, {\"mode\": \"lines\", \"y\": [0, 4.70649], \"x\": [0, -0.46120500000000003], \"line\": {\"color\": \"rgb(20, 0, 145)\", \"width\": 2}, \"z\": [0, -1.62365], \"type\": \"scatter3d\"}, {\"marker\": {\"color\": \"rgb(0,144,144)\", \"size\": 5}, \"mode\": \"markers\", \"y\": [1.5], \"x\": [0.20000000298023224], \"z\": [-0.5], \"type\": \"scatter3d\"}, {\"marker\": {\"color\": \"#48186a\", \"size\": 10}, \"mode\": \"markers\", \"y\": [0], \"x\": [0], \"z\": [0], \"type\": \"scatter3d\"}, {\"mode\": \"lines\", \"y\": [0, 4.70649], \"x\": [0, -0.46120500000000003], \"line\": {\"color\": \"rgb(20, 0, 145)\", \"width\": 2}, \"z\": [0, -1.62365], \"type\": \"scatter3d\"}, {\"marker\": {\"color\": \"rgb(0,144,144)\", \"size\": 5}, \"mode\": \"markers\", \"y\": [1.5], \"x\": [0.20000000298023224], \"z\": [-0.5], \"type\": \"scatter3d\"}, {\"marker\": {\"color\": \"#48186a\", \"size\": 10}, \"mode\": \"markers\", \"y\": [0], \"x\": [0], \"z\": [0], \"type\": \"scatter3d\"}, {\"mode\": \"lines\", \"y\": [0, 4.70866], \"x\": [0, -0.449817], \"line\": {\"color\": \"rgb(20, 0, 145)\", \"width\": 2}, \"z\": [0, -1.620555], \"type\": \"scatter3d\"}, {\"marker\": {\"color\": \"rgb(0,144,144)\", \"size\": 5}, \"mode\": \"markers\", \"y\": [1.5], \"x\": [0.20000000298023224], \"z\": [-0.5], \"type\": \"scatter3d\"}, {\"marker\": {\"color\": \"#48186a\", \"size\": 10}, \"mode\": \"markers\", \"y\": [0], \"x\": [0], \"z\": [0], \"type\": \"scatter3d\"}, {\"mode\": \"lines\", \"y\": [0, 4.7079450000000005], \"x\": [0, -0.4717525], \"line\": {\"color\": \"rgb(20, 0, 145)\", \"width\": 2}, \"z\": [0, -1.61639], \"type\": \"scatter3d\"}, {\"marker\": {\"color\": \"rgb(0,144,144)\", \"size\": 5}, \"mode\": \"markers\", \"y\": [1.5], \"x\": [0.20000000298023224], \"z\": [-0.5], \"type\": \"scatter3d\"}, {\"marker\": {\"color\": \"#48186a\", \"size\": 10}, \"mode\": \"markers\", \"y\": [0], \"x\": [0], \"z\": [0], \"type\": \"scatter3d\"}, {\"mode\": \"lines\", \"y\": [0, 4.71259], \"x\": [0, -0.43571650000000006], \"line\": {\"color\": \"rgb(20, 0, 145)\", \"width\": 2}, \"z\": [0, -1.61296], \"type\": \"scatter3d\"}, {\"marker\": {\"color\": \"rgb(0,144,144)\", \"size\": 5}, \"mode\": \"markers\", \"y\": [1.5], \"x\": [0.20000000298023224], \"z\": [-0.5], \"type\": \"scatter3d\"}, {\"marker\": {\"color\": \"#48186a\", \"size\": 10}, \"mode\": \"markers\", \"y\": [0], \"x\": [0], \"z\": [0], \"type\": \"scatter3d\"}, {\"mode\": \"lines\", \"y\": [0, 4.71148], \"x\": [0, -0.4618865], \"line\": {\"color\": \"rgb(20, 0, 145)\", \"width\": 2}, \"z\": [0, -1.608925], \"type\": \"scatter3d\"}, {\"marker\": {\"color\": \"rgb(0,144,144)\", \"size\": 5}, \"mode\": \"markers\", \"y\": [1.5], \"x\": [0.20000000298023224], \"z\": [-0.5], \"type\": \"scatter3d\"}, {\"marker\": {\"color\": \"#48186a\", \"size\": 10}, \"mode\": \"markers\", \"y\": [0], \"x\": [0], \"z\": [0], \"type\": \"scatter3d\"}, {\"mode\": \"lines\", \"y\": [0, 4.70541], \"x\": [0, -0.4517145], \"line\": {\"color\": \"rgb(20, 0, 145)\", \"width\": 2}, \"z\": [0, -1.629445], \"type\": \"scatter3d\"}, {\"marker\": {\"color\": \"rgb(0,144,144)\", \"size\": 5}, \"mode\": \"markers\", \"y\": [1.5], \"x\": [0.20000000298023224], \"z\": [-0.5], \"type\": \"scatter3d\"}, {\"marker\": {\"color\": \"#48186a\", \"size\": 10}, \"mode\": \"markers\", \"y\": [0], \"x\": [0], \"z\": [0], \"type\": \"scatter3d\"}, {\"mode\": \"lines\", \"y\": [0, 4.70541], \"x\": [0, -0.4517145], \"line\": {\"color\": \"rgb(20, 0, 145)\", \"width\": 2}, \"z\": [0, -1.629445], \"type\": \"scatter3d\"}, {\"marker\": {\"color\": \"rgb(0,144,144)\", \"size\": 5}, \"mode\": \"markers\", \"y\": [1.5], \"x\": [0.20000000298023224], \"z\": [-0.5], \"type\": \"scatter3d\"}, {\"marker\": {\"color\": \"#48186a\", \"size\": 10}, \"mode\": \"markers\", \"y\": [0], \"x\": [0], \"z\": [0], \"type\": \"scatter3d\"}, {\"mode\": \"lines\", \"y\": [0, 4.708335], \"x\": [0, -0.4390285], \"line\": {\"color\": \"rgb(20, 0, 145)\", \"width\": 2}, \"z\": [0, -1.624455], \"type\": \"scatter3d\"}, {\"marker\": {\"color\": \"rgb(0,144,144)\", \"size\": 5}, \"mode\": \"markers\", \"y\": [1.5], \"x\": [0.20000000298023224], \"z\": [-0.5], \"type\": \"scatter3d\"}, {\"marker\": {\"color\": \"#48186a\", \"size\": 10}, \"mode\": \"markers\", \"y\": [0], \"x\": [0], \"z\": [0], \"type\": \"scatter3d\"}, {\"mode\": \"lines\", \"y\": [0, 4.70203], \"x\": [0, -0.457832], \"line\": {\"color\": \"rgb(20, 0, 145)\", \"width\": 2}, \"z\": [0, -1.6374749999999998], \"type\": \"scatter3d\"}, {\"marker\": {\"color\": \"rgb(0,144,144)\", \"size\": 5}, \"mode\": \"markers\", \"y\": [1.5], \"x\": [0.20000000298023224], \"z\": [-0.5], \"type\": \"scatter3d\"}, {\"marker\": {\"color\": \"#48186a\", \"size\": 10}, \"mode\": \"markers\", \"y\": [0], \"x\": [0], \"z\": [0], \"type\": \"scatter3d\"}, {\"mode\": \"lines\", \"y\": [0, 4.704155], \"x\": [0, -0.436833], \"line\": {\"color\": \"rgb(20, 0, 145)\", \"width\": 2}, \"z\": [0, -1.637105], \"type\": \"scatter3d\"}, {\"marker\": {\"color\": \"rgb(0,144,144)\", \"size\": 5}, \"mode\": \"markers\", \"y\": [1.5], \"x\": [0.20000000298023224], \"z\": [-0.5], \"type\": \"scatter3d\"}, {\"marker\": {\"color\": \"#48186a\", \"size\": 10}, \"mode\": \"markers\", \"y\": [0], \"x\": [0], \"z\": [0], \"type\": \"scatter3d\"}, {\"mode\": \"lines\", \"y\": [0, 4.704155], \"x\": [0, -0.436833], \"line\": {\"color\": \"rgb(20, 0, 145)\", \"width\": 2}, \"z\": [0, -1.637105], \"type\": \"scatter3d\"}, {\"marker\": {\"color\": \"rgb(0,144,144)\", \"size\": 5}, \"mode\": \"markers\", \"y\": [1.5], \"x\": [0.20000000298023224], \"z\": [-0.5], \"type\": \"scatter3d\"}, {\"marker\": {\"color\": \"#48186a\", \"size\": 10}, \"mode\": \"markers\", \"y\": [0], \"x\": [0], \"z\": [0], \"type\": \"scatter3d\"}, {\"mode\": \"lines\", \"y\": [0, 4.712695], \"x\": [0, -0.468965], \"line\": {\"color\": \"rgb(20, 0, 145)\", \"width\": 2}, \"z\": [0, -1.60331], \"type\": \"scatter3d\"}, {\"marker\": {\"color\": \"rgb(0,144,144)\", \"size\": 5}, \"mode\": \"markers\", \"y\": [1.5], \"x\": [0.20000000298023224], \"z\": [-0.5], \"type\": \"scatter3d\"}, {\"marker\": {\"color\": \"#48186a\", \"size\": 10}, \"mode\": \"markers\", \"y\": [0], \"x\": [0], \"z\": [0], \"type\": \"scatter3d\"}, {\"mode\": \"lines\", \"y\": [0, 4.7086749999999995], \"x\": [0, -0.485807], \"line\": {\"color\": \"rgb(20, 0, 145)\", \"width\": 2}, \"z\": [0, -1.6100800000000002], \"type\": \"scatter3d\"}, {\"marker\": {\"color\": \"rgb(0,144,144)\", \"size\": 5}, \"mode\": \"markers\", \"y\": [1.5], \"x\": [0.20000000298023224], \"z\": [-0.5], \"type\": \"scatter3d\"}, {\"marker\": {\"color\": \"#48186a\", \"size\": 10}, \"mode\": \"markers\", \"y\": [0], \"x\": [0], \"z\": [0], \"type\": \"scatter3d\"}, {\"mode\": \"lines\", \"y\": [0, 4.707095], \"x\": [0, -0.50178], \"line\": {\"color\": \"rgb(20, 0, 145)\", \"width\": 2}, \"z\": [0, -1.6098100000000002], \"type\": \"scatter3d\"}, {\"marker\": {\"color\": \"rgb(0,144,144)\", \"size\": 5}, \"mode\": \"markers\", \"y\": [1.5], \"x\": [0.20000000298023224], \"z\": [-0.5], \"type\": \"scatter3d\"}, {\"marker\": {\"color\": \"#48186a\", \"size\": 10}, \"mode\": \"markers\", \"y\": [0], \"x\": [0], \"z\": [0], \"type\": \"scatter3d\"}, {\"mode\": \"lines\", \"y\": [0, 4.701535], \"x\": [0, -0.4884625], \"line\": {\"color\": \"rgb(20, 0, 145)\", \"width\": 2}, \"z\": [0, -1.6300249999999998], \"type\": \"scatter3d\"}, {\"marker\": {\"color\": \"rgb(0,144,144)\", \"size\": 5}, \"mode\": \"markers\", \"y\": [1.5], \"x\": [0.20000000298023224], \"z\": [-0.5], \"type\": \"scatter3d\"}, {\"marker\": {\"color\": \"#48186a\", \"size\": 10}, \"mode\": \"markers\", \"y\": [0], \"x\": [0], \"z\": [0], \"type\": \"scatter3d\"}, {\"mode\": \"lines\", \"y\": [0, 4.699335], \"x\": [0, -0.49907], \"line\": {\"color\": \"rgb(20, 0, 145)\", \"width\": 2}, \"z\": [0, -1.633155], \"type\": \"scatter3d\"}, {\"marker\": {\"color\": \"rgb(0,144,144)\", \"size\": 5}, \"mode\": \"markers\", \"y\": [1.5], \"x\": [0.20000000298023224], \"z\": [-0.5], \"type\": \"scatter3d\"}, {\"marker\": {\"color\": \"#48186a\", \"size\": 10}, \"mode\": \"markers\", \"y\": [0], \"x\": [0], \"z\": [0], \"type\": \"scatter3d\"}, {\"mode\": \"lines\", \"y\": [0, 4.699335], \"x\": [0, -0.49907], \"line\": {\"color\": \"rgb(20, 0, 145)\", \"width\": 2}, \"z\": [0, -1.633155], \"type\": \"scatter3d\"}, {\"marker\": {\"color\": \"rgb(0,144,144)\", \"size\": 5}, \"mode\": \"markers\", \"y\": [1.5], \"x\": [0.20000000298023224], \"z\": [-0.5], \"type\": \"scatter3d\"}, {\"marker\": {\"color\": \"#48186a\", \"size\": 10}, \"mode\": \"markers\", \"y\": [0], \"x\": [0], \"z\": [0], \"type\": \"scatter3d\"}, {\"mode\": \"lines\", \"y\": [0, 4.702865], \"x\": [0, -0.504595], \"line\": {\"color\": \"rgb(20, 0, 145)\", \"width\": 2}, \"z\": [0, -1.6212499999999999], \"type\": \"scatter3d\"}, {\"marker\": {\"color\": \"rgb(0,144,144)\", \"size\": 5}, \"mode\": \"markers\", \"y\": [1.5], \"x\": [0.20000000298023224], \"z\": [-0.5], \"type\": \"scatter3d\"}, {\"marker\": {\"color\": \"#48186a\", \"size\": 10}, \"mode\": \"markers\", \"y\": [0], \"x\": [0], \"z\": [0], \"type\": \"scatter3d\"}, {\"mode\": \"lines\", \"y\": [0, 4.69661], \"x\": [0, -0.497998], \"line\": {\"color\": \"rgb(20, 0, 145)\", \"width\": 2}, \"z\": [0, -1.6412950000000002], \"type\": \"scatter3d\"}, {\"marker\": {\"color\": \"rgb(0,144,144)\", \"size\": 5}, \"mode\": \"markers\", \"y\": [1.5], \"x\": [0.20000000298023224], \"z\": [-0.5], \"type\": \"scatter3d\"}, {\"marker\": {\"color\": \"#48186a\", \"size\": 10}, \"mode\": \"markers\", \"y\": [0], \"x\": [0], \"z\": [0], \"type\": \"scatter3d\"}, {\"mode\": \"lines\", \"y\": [0, 4.697535], \"x\": [0, -0.494118], \"line\": {\"color\": \"rgb(20, 0, 145)\", \"width\": 2}, \"z\": [0, -1.639825], \"type\": \"scatter3d\"}, {\"marker\": {\"color\": \"rgb(0,144,144)\", \"size\": 5}, \"mode\": \"markers\", \"y\": [1.5], \"x\": [0.20000000298023224], \"z\": [-0.5], \"type\": \"scatter3d\"}, {\"marker\": {\"color\": \"#48186a\", \"size\": 10}, \"mode\": \"markers\", \"y\": [0], \"x\": [0], \"z\": [0], \"type\": \"scatter3d\"}, {\"mode\": \"lines\", \"y\": [0, 4.7033000000000005], \"x\": [0, -0.4889905], \"line\": {\"color\": \"rgb(20, 0, 145)\", \"width\": 2}, \"z\": [0, -1.624765], \"type\": \"scatter3d\"}, {\"marker\": {\"color\": \"rgb(0,144,144)\", \"size\": 5}, \"mode\": \"markers\", \"y\": [1.5], \"x\": [0.20000000298023224], \"z\": [-0.5], \"type\": \"scatter3d\"}, {\"marker\": {\"color\": \"#48186a\", \"size\": 10}, \"mode\": \"markers\", \"y\": [0], \"x\": [0], \"z\": [0], \"type\": \"scatter3d\"}, {\"mode\": \"lines\", \"y\": [0, 4.697785], \"x\": [0, -0.4951335], \"line\": {\"color\": \"rgb(20, 0, 145)\", \"width\": 2}, \"z\": [0, -1.6388], \"type\": \"scatter3d\"}, {\"marker\": {\"color\": \"rgb(0,144,144)\", \"size\": 5}, \"mode\": \"markers\", \"y\": [1.5], \"x\": [0.20000000298023224], \"z\": [-0.5], \"type\": \"scatter3d\"}, {\"marker\": {\"color\": \"#48186a\", \"size\": 10}, \"mode\": \"markers\", \"y\": [0], \"x\": [0], \"z\": [0], \"type\": \"scatter3d\"}, {\"mode\": \"lines\", \"y\": [0, 4.69867], \"x\": [0, -0.483542], \"line\": {\"color\": \"rgb(20, 0, 145)\", \"width\": 2}, \"z\": [0, -1.6397300000000001], \"type\": \"scatter3d\"}, {\"marker\": {\"color\": \"rgb(0,144,144)\", \"size\": 5}, \"mode\": \"markers\", \"y\": [1.5], \"x\": [0.20000000298023224], \"z\": [-0.5], \"type\": \"scatter3d\"}, {\"marker\": {\"color\": \"#48186a\", \"size\": 10}, \"mode\": \"markers\", \"y\": [0], \"x\": [0], \"z\": [0], \"type\": \"scatter3d\"}, {\"mode\": \"lines\", \"y\": [0, 4.702395], \"x\": [0, -0.48934199999999994], \"line\": {\"color\": \"rgb(20, 0, 145)\", \"width\": 2}, \"z\": [0, -1.627275], \"type\": \"scatter3d\"}, {\"marker\": {\"color\": \"rgb(0,144,144)\", \"size\": 5}, \"mode\": \"markers\", \"y\": [1.5], \"x\": [0.20000000298023224], \"z\": [-0.5], \"type\": \"scatter3d\"}, {\"marker\": {\"color\": \"#48186a\", \"size\": 10}, \"mode\": \"markers\", \"y\": [0], \"x\": [0], \"z\": [0], \"type\": \"scatter3d\"}, {\"mode\": \"lines\", \"y\": [0, 4.702395], \"x\": [0, -0.48934199999999994], \"line\": {\"color\": \"rgb(20, 0, 145)\", \"width\": 2}, \"z\": [0, -1.627275], \"type\": \"scatter3d\"}, {\"marker\": {\"color\": \"rgb(0,144,144)\", \"size\": 5}, \"mode\": \"markers\", \"y\": [1.5], \"x\": [0.20000000298023224], \"z\": [-0.5], \"type\": \"scatter3d\"}, {\"marker\": {\"color\": \"#48186a\", \"size\": 10}, \"mode\": \"markers\", \"y\": [0], \"x\": [0], \"z\": [0], \"type\": \"scatter3d\"}, {\"mode\": \"lines\", \"y\": [0, 4.700315], \"x\": [0, -0.4702095], \"line\": {\"color\": \"rgb(20, 0, 145)\", \"width\": 2}, \"z\": [0, -1.63889], \"type\": \"scatter3d\"}, {\"marker\": {\"color\": \"rgb(0,144,144)\", \"size\": 5}, \"mode\": \"markers\", \"y\": [1.5], \"x\": [0.20000000298023224], \"z\": [-0.5], \"type\": \"scatter3d\"}, {\"marker\": {\"color\": \"#48186a\", \"size\": 10}, \"mode\": \"markers\", \"y\": [0], \"x\": [0], \"z\": [0], \"type\": \"scatter3d\"}, {\"mode\": \"lines\", \"y\": [0, 4.699685000000001], \"x\": [0, -0.4519675], \"line\": {\"color\": \"rgb(20, 0, 145)\", \"width\": 2}, \"z\": [0, -1.645805], \"type\": \"scatter3d\"}, {\"marker\": {\"color\": \"rgb(0,144,144)\", \"size\": 5}, \"mode\": \"markers\", \"y\": [1.5], \"x\": [0.20000000298023224], \"z\": [-0.5], \"type\": \"scatter3d\"}, {\"marker\": {\"color\": \"#48186a\", \"size\": 10}, \"mode\": \"markers\", \"y\": [0], \"x\": [0], \"z\": [0], \"type\": \"scatter3d\"}, {\"mode\": \"lines\", \"y\": [0, 4.69727], \"x\": [0, -0.43221299999999996], \"line\": {\"color\": \"rgb(20, 0, 145)\", \"width\": 2}, \"z\": [0, -1.65797], \"type\": \"scatter3d\"}, {\"marker\": {\"color\": \"rgb(0,144,144)\", \"size\": 5}, \"mode\": \"markers\", \"y\": [1.5], \"x\": [0.20000000298023224], \"z\": [-0.5], \"type\": \"scatter3d\"}, {\"marker\": {\"color\": \"#48186a\", \"size\": 10}, \"mode\": \"markers\", \"y\": [0], \"x\": [0], \"z\": [0], \"type\": \"scatter3d\"}, {\"mode\": \"lines\", \"y\": [0, 4.704215], \"x\": [0, -0.45486899999999997], \"line\": {\"color\": \"rgb(20, 0, 145)\", \"width\": 2}, \"z\": [0, -1.6320000000000001], \"type\": \"scatter3d\"}, {\"marker\": {\"color\": \"rgb(0,144,144)\", \"size\": 5}, \"mode\": \"markers\", \"y\": [1.5], \"x\": [0.20000000298023224], \"z\": [-0.5], \"type\": \"scatter3d\"}, {\"marker\": {\"color\": \"#48186a\", \"size\": 10}, \"mode\": \"markers\", \"y\": [0], \"x\": [0], \"z\": [0], \"type\": \"scatter3d\"}, {\"mode\": \"lines\", \"y\": [0, 4.69748], \"x\": [0, -0.44242200000000004], \"line\": {\"color\": \"rgb(20, 0, 145)\", \"width\": 2}, \"z\": [0, -1.65467], \"type\": \"scatter3d\"}, {\"marker\": {\"color\": \"rgb(0,144,144)\", \"size\": 5}, \"mode\": \"markers\", \"y\": [1.5], \"x\": [0.20000000298023224], \"z\": [-0.5], \"type\": \"scatter3d\"}, {\"marker\": {\"color\": \"#48186a\", \"size\": 10}, \"mode\": \"markers\", \"y\": [0], \"x\": [0], \"z\": [0], \"type\": \"scatter3d\"}, {\"mode\": \"lines\", \"y\": [0, 4.69748], \"x\": [0, -0.44242200000000004], \"line\": {\"color\": \"rgb(20, 0, 145)\", \"width\": 2}, \"z\": [0, -1.65467], \"type\": \"scatter3d\"}, {\"marker\": {\"color\": \"rgb(0,144,144)\", \"size\": 5}, \"mode\": \"markers\", \"y\": [1.5], \"x\": [0.20000000298023224], \"z\": [-0.5], \"type\": \"scatter3d\"}, {\"marker\": {\"color\": \"#48186a\", \"size\": 10}, \"mode\": \"markers\", \"y\": [0], \"x\": [0], \"z\": [0], \"type\": \"scatter3d\"}, {\"mode\": \"lines\", \"y\": [0, 4.706835], \"x\": [0, -0.45238849999999997], \"line\": {\"color\": \"rgb(20, 0, 145)\", \"width\": 2}, \"z\": [0, -1.62513], \"type\": \"scatter3d\"}, {\"marker\": {\"color\": \"rgb(0,144,144)\", \"size\": 5}, \"mode\": \"markers\", \"y\": [1.5], \"x\": [0.20000000298023224], \"z\": [-0.5], \"type\": \"scatter3d\"}, {\"marker\": {\"color\": \"#48186a\", \"size\": 10}, \"mode\": \"markers\", \"y\": [0], \"x\": [0], \"z\": [0], \"type\": \"scatter3d\"}, {\"mode\": \"lines\", \"y\": [0, 4.70574], \"x\": [0, -0.4331775], \"line\": {\"color\": \"rgb(20, 0, 145)\", \"width\": 2}, \"z\": [0, -1.633515], \"type\": \"scatter3d\"}, {\"marker\": {\"color\": \"rgb(0,144,144)\", \"size\": 5}, \"mode\": \"markers\", \"y\": [1.5], \"x\": [0.20000000298023224], \"z\": [-0.5], \"type\": \"scatter3d\"}, {\"marker\": {\"color\": \"#48186a\", \"size\": 10}, \"mode\": \"markers\", \"y\": [0], \"x\": [0], \"z\": [0], \"type\": \"scatter3d\"}, {\"mode\": \"lines\", \"y\": [0, 4.706799999999999], \"x\": [0, -0.45024300000000006], \"line\": {\"color\": \"rgb(20, 0, 145)\", \"width\": 2}, \"z\": [0, -1.62582], \"type\": \"scatter3d\"}, {\"marker\": {\"color\": \"rgb(0,144,144)\", \"size\": 5}, \"mode\": \"markers\", \"y\": [1.5], \"x\": [0.20000000298023224], \"z\": [-0.5], \"type\": \"scatter3d\"}, {\"marker\": {\"color\": \"#48186a\", \"size\": 10}, \"mode\": \"markers\", \"y\": [0], \"x\": [0], \"z\": [0], \"type\": \"scatter3d\"}, {\"mode\": \"lines\", \"y\": [0, 4.706799999999999], \"x\": [0, -0.45024300000000006], \"line\": {\"color\": \"rgb(20, 0, 145)\", \"width\": 2}, \"z\": [0, -1.62582], \"type\": \"scatter3d\"}, {\"marker\": {\"color\": \"rgb(0,144,144)\", \"size\": 5}, \"mode\": \"markers\", \"y\": [1.5], \"x\": [0.20000000298023224], \"z\": [-0.5], \"type\": \"scatter3d\"}, {\"marker\": {\"color\": \"#48186a\", \"size\": 10}, \"mode\": \"markers\", \"y\": [0], \"x\": [0], \"z\": [0], \"type\": \"scatter3d\"}, {\"mode\": \"lines\", \"y\": [0, 4.70705], \"x\": [0, -0.4414545], \"line\": {\"color\": \"rgb(20, 0, 145)\", \"width\": 2}, \"z\": [0, -1.62751], \"type\": \"scatter3d\"}, {\"marker\": {\"color\": \"rgb(0,144,144)\", \"size\": 5}, \"mode\": \"markers\", \"y\": [1.5], \"x\": [0.20000000298023224], \"z\": [-0.5], \"type\": \"scatter3d\"}, {\"marker\": {\"color\": \"#48186a\", \"size\": 10}, \"mode\": \"markers\", \"y\": [0], \"x\": [0], \"z\": [0], \"type\": \"scatter3d\"}, {\"mode\": \"lines\", \"y\": [0, 4.70302], \"x\": [0, -0.4338385], \"line\": {\"color\": \"rgb(20, 0, 145)\", \"width\": 2}, \"z\": [0, -1.641155], \"type\": \"scatter3d\"}, {\"marker\": {\"color\": \"rgb(0,144,144)\", \"size\": 5}, \"mode\": \"markers\", \"y\": [1.5], \"x\": [0.20000000298023224], \"z\": [-0.5], \"type\": \"scatter3d\"}, {\"marker\": {\"color\": \"#48186a\", \"size\": 10}, \"mode\": \"markers\", \"y\": [0], \"x\": [0], \"z\": [0], \"type\": \"scatter3d\"}, {\"mode\": \"lines\", \"y\": [0, 4.700315], \"x\": [0, -0.445621], \"line\": {\"color\": \"rgb(20, 0, 145)\", \"width\": 2}, \"z\": [0, -1.64574], \"type\": \"scatter3d\"}, {\"marker\": {\"color\": \"rgb(0,144,144)\", \"size\": 5}, \"mode\": \"markers\", \"y\": [1.5], \"x\": [0.20000000298023224], \"z\": [-0.5], \"type\": \"scatter3d\"}, {\"marker\": {\"color\": \"#48186a\", \"size\": 10}, \"mode\": \"markers\", \"y\": [0], \"x\": [0], \"z\": [0], \"type\": \"scatter3d\"}, {\"mode\": \"lines\", \"y\": [0, 4.699455], \"x\": [0, -0.42423049999999995], \"line\": {\"color\": \"rgb(20, 0, 145)\", \"width\": 2}, \"z\": [0, -1.6538300000000001], \"type\": \"scatter3d\"}, {\"marker\": {\"color\": \"rgb(0,144,144)\", \"size\": 5}, \"mode\": \"markers\", \"y\": [1.5], \"x\": [0.20000000298023224], \"z\": [-0.5], \"type\": \"scatter3d\"}, {\"marker\": {\"color\": \"#48186a\", \"size\": 10}, \"mode\": \"markers\", \"y\": [0], \"x\": [0], \"z\": [0], \"type\": \"scatter3d\"}, {\"mode\": \"lines\", \"y\": [0, 4.708515], \"x\": [0, -0.464534], \"line\": {\"color\": \"rgb(20, 0, 145)\", \"width\": 2}, \"z\": [0, -1.616825], \"type\": \"scatter3d\"}, {\"marker\": {\"color\": \"rgb(0,144,144)\", \"size\": 5}, \"mode\": \"markers\", \"y\": [1.5], \"x\": [0.20000000298023224], \"z\": [-0.5], \"type\": \"scatter3d\"}, {\"marker\": {\"color\": \"#48186a\", \"size\": 10}, \"mode\": \"markers\", \"y\": [0], \"x\": [0], \"z\": [0], \"type\": \"scatter3d\"}, {\"mode\": \"lines\", \"y\": [0, 4.708515], \"x\": [0, -0.464534], \"line\": {\"color\": \"rgb(20, 0, 145)\", \"width\": 2}, \"z\": [0, -1.616825], \"type\": \"scatter3d\"}, {\"marker\": {\"color\": \"rgb(0,144,144)\", \"size\": 5}, \"mode\": \"markers\", \"y\": [1.5], \"x\": [0.20000000298023224], \"z\": [-0.5], \"type\": \"scatter3d\"}, {\"marker\": {\"color\": \"#48186a\", \"size\": 10}, \"mode\": \"markers\", \"y\": [0], \"x\": [0], \"z\": [0], \"type\": \"scatter3d\"}, {\"mode\": \"lines\", \"y\": [0, 4.70782], \"x\": [0, -0.4398245], \"line\": {\"color\": \"rgb(20, 0, 145)\", \"width\": 2}, \"z\": [0, -1.6257199999999998], \"type\": \"scatter3d\"}, {\"marker\": {\"color\": \"rgb(0,144,144)\", \"size\": 5}, \"mode\": \"markers\", \"y\": [1.5], \"x\": [0.20000000298023224], \"z\": [-0.5], \"type\": \"scatter3d\"}, {\"marker\": {\"color\": \"#48186a\", \"size\": 10}, \"mode\": \"markers\", \"y\": [0], \"x\": [0], \"z\": [0], \"type\": \"scatter3d\"}, {\"mode\": \"lines\", \"y\": [0, 4.7104099999999995], \"x\": [0, -0.4439365], \"line\": {\"color\": \"rgb(20, 0, 145)\", \"width\": 2}, \"z\": [0, -1.617085], \"type\": \"scatter3d\"}, {\"marker\": {\"color\": \"rgb(0,144,144)\", \"size\": 5}, \"mode\": \"markers\", \"y\": [1.5], \"x\": [0.20000000298023224], \"z\": [-0.5], \"type\": \"scatter3d\"}, {\"marker\": {\"color\": \"#48186a\", \"size\": 10}, \"mode\": \"markers\", \"y\": [0], \"x\": [0], \"z\": [0], \"type\": \"scatter3d\"}, {\"mode\": \"lines\", \"y\": [0, 4.706365], \"x\": [0, -0.42736700000000005], \"line\": {\"color\": \"rgb(20, 0, 145)\", \"width\": 2}, \"z\": [0, -1.633245], \"type\": \"scatter3d\"}, {\"marker\": {\"color\": \"rgb(0,144,144)\", \"size\": 5}, \"mode\": \"markers\", \"y\": [1.5], \"x\": [0.20000000298023224], \"z\": [-0.5], \"type\": \"scatter3d\"}, {\"marker\": {\"color\": \"#48186a\", \"size\": 10}, \"mode\": \"markers\", \"y\": [0], \"x\": [0], \"z\": [0], \"type\": \"scatter3d\"}, {\"mode\": \"lines\", \"y\": [0, 4.701965], \"x\": [0, -0.4357915], \"line\": {\"color\": \"rgb(20, 0, 145)\", \"width\": 2}, \"z\": [0, -1.643665], \"type\": \"scatter3d\"}, {\"marker\": {\"color\": \"rgb(0,144,144)\", \"size\": 5}, \"mode\": \"markers\", \"y\": [1.5], \"x\": [0.20000000298023224], \"z\": [-0.5], \"type\": \"scatter3d\"}, {\"marker\": {\"color\": \"#48186a\", \"size\": 10}, \"mode\": \"markers\", \"y\": [0], \"x\": [0], \"z\": [0], \"type\": \"scatter3d\"}, {\"mode\": \"lines\", \"y\": [0, 4.701965], \"x\": [0, -0.4357915], \"line\": {\"color\": \"rgb(20, 0, 145)\", \"width\": 2}, \"z\": [0, -1.643665], \"type\": \"scatter3d\"}, {\"marker\": {\"color\": \"rgb(0,144,144)\", \"size\": 5}, \"mode\": \"markers\", \"y\": [1.5], \"x\": [0.20000000298023224], \"z\": [-0.5], \"type\": \"scatter3d\"}, {\"marker\": {\"color\": \"#48186a\", \"size\": 10}, \"mode\": \"markers\", \"y\": [0], \"x\": [0], \"z\": [0], \"type\": \"scatter3d\"}, {\"mode\": \"lines\", \"y\": [0, 4.70217], \"x\": [0, -0.44418], \"line\": {\"color\": \"rgb(20, 0, 145)\", \"width\": 2}, \"z\": [0, -1.640815], \"type\": \"scatter3d\"}, {\"marker\": {\"color\": \"rgb(0,144,144)\", \"size\": 5}, \"mode\": \"markers\", \"y\": [1.5], \"x\": [0.20000000298023224], \"z\": [-0.5], \"type\": \"scatter3d\"}, {\"marker\": {\"color\": \"#48186a\", \"size\": 10}, \"mode\": \"markers\", \"y\": [0], \"x\": [0], \"z\": [0], \"type\": \"scatter3d\"}, {\"mode\": \"lines\", \"y\": [0, 4.7019850000000005], \"x\": [0, -0.42081399999999997], \"line\": {\"color\": \"rgb(20, 0, 145)\", \"width\": 2}, \"z\": [0, -1.647505], \"type\": \"scatter3d\"}, {\"marker\": {\"color\": \"rgb(0,144,144)\", \"size\": 5}, \"mode\": \"markers\", \"y\": [1.5], \"x\": [0.20000000298023224], \"z\": [-0.5], \"type\": \"scatter3d\"}, {\"marker\": {\"color\": \"#48186a\", \"size\": 10}, \"mode\": \"markers\", \"y\": [0], \"x\": [0], \"z\": [0], \"type\": \"scatter3d\"}, {\"mode\": \"lines\", \"y\": [0, 4.70526], \"x\": [0, -0.45813149999999997], \"line\": {\"color\": \"rgb(20, 0, 145)\", \"width\": 2}, \"z\": [0, -1.628085], \"type\": \"scatter3d\"}, {\"marker\": {\"color\": \"rgb(0,144,144)\", \"size\": 5}, \"mode\": \"markers\", \"y\": [1.5], \"x\": [0.20000000298023224], \"z\": [-0.5], \"type\": \"scatter3d\"}, {\"marker\": {\"color\": \"#48186a\", \"size\": 10}, \"mode\": \"markers\", \"y\": [0], \"x\": [0], \"z\": [0], \"type\": \"scatter3d\"}, {\"mode\": \"lines\", \"y\": [0, 4.703535], \"x\": [0, -0.4364565], \"line\": {\"color\": \"rgb(20, 0, 145)\", \"width\": 2}, \"z\": [0, -1.638975], \"type\": \"scatter3d\"}, {\"marker\": {\"color\": \"rgb(0,144,144)\", \"size\": 5}, \"mode\": \"markers\", \"y\": [1.5], \"x\": [0.20000000298023224], \"z\": [-0.5], \"type\": \"scatter3d\"}, {\"marker\": {\"color\": \"#48186a\", \"size\": 10}, \"mode\": \"markers\", \"y\": [0], \"x\": [0], \"z\": [0], \"type\": \"scatter3d\"}, {\"mode\": \"lines\", \"y\": [0, 4.703535], \"x\": [0, -0.4364565], \"line\": {\"color\": \"rgb(20, 0, 145)\", \"width\": 2}, \"z\": [0, -1.638975], \"type\": \"scatter3d\"}, {\"marker\": {\"color\": \"rgb(0,144,144)\", \"size\": 5}, \"mode\": \"markers\", \"y\": [1.5], \"x\": [0.20000000298023224], \"z\": [-0.5], \"type\": \"scatter3d\"}, {\"marker\": {\"color\": \"#48186a\", \"size\": 10}, \"mode\": \"markers\", \"y\": [0], \"x\": [0], \"z\": [0], \"type\": \"scatter3d\"}, {\"mode\": \"lines\", \"y\": [0, 4.706685], \"x\": [0, -0.4459605], \"line\": {\"color\": \"rgb(20, 0, 145)\", \"width\": 2}, \"z\": [0, -1.627335], \"type\": \"scatter3d\"}, {\"marker\": {\"color\": \"rgb(0,144,144)\", \"size\": 5}, \"mode\": \"markers\", \"y\": [1.5], \"x\": [0.20000000298023224], \"z\": [-0.5], \"type\": \"scatter3d\"}, {\"marker\": {\"color\": \"#48186a\", \"size\": 10}, \"mode\": \"markers\", \"y\": [0], \"x\": [0], \"z\": [0], \"type\": \"scatter3d\"}, {\"mode\": \"lines\", \"y\": [0, 4.70323], \"x\": [0, -0.444261], \"line\": {\"color\": \"rgb(20, 0, 145)\", \"width\": 2}, \"z\": [0, -1.637765], \"type\": \"scatter3d\"}, {\"marker\": {\"color\": \"rgb(0,144,144)\", \"size\": 5}, \"mode\": \"markers\", \"y\": [1.5], \"x\": [0.20000000298023224], \"z\": [-0.5], \"type\": \"scatter3d\"}, {\"marker\": {\"color\": \"#48186a\", \"size\": 10}, \"mode\": \"markers\", \"y\": [0], \"x\": [0], \"z\": [0], \"type\": \"scatter3d\"}, {\"mode\": \"lines\", \"y\": [0, 4.70492], \"x\": [0, -0.431257], \"line\": {\"color\": \"rgb(20, 0, 145)\", \"width\": 2}, \"z\": [0, -1.636375], \"type\": \"scatter3d\"}, {\"marker\": {\"color\": \"rgb(0,144,144)\", \"size\": 5}, \"mode\": \"markers\", \"y\": [1.5], \"x\": [0.20000000298023224], \"z\": [-0.5], \"type\": \"scatter3d\"}, {\"marker\": {\"color\": \"#48186a\", \"size\": 10}, \"mode\": \"markers\", \"y\": [0], \"x\": [0], \"z\": [0], \"type\": \"scatter3d\"}, {\"mode\": \"lines\", \"y\": [0, 4.708645000000001], \"x\": [0, -0.459742], \"line\": {\"color\": \"rgb(20, 0, 145)\", \"width\": 2}, \"z\": [0, -1.617805], \"type\": \"scatter3d\"}, {\"marker\": {\"color\": \"rgb(0,144,144)\", \"size\": 5}, \"mode\": \"markers\", \"y\": [1.5], \"x\": [0.20000000298023224], \"z\": [-0.5], \"type\": \"scatter3d\"}, {\"marker\": {\"color\": \"#48186a\", \"size\": 10}, \"mode\": \"markers\", \"y\": [0], \"x\": [0], \"z\": [0], \"type\": \"scatter3d\"}, {\"mode\": \"lines\", \"y\": [0, 4.708645000000001], \"x\": [0, -0.459742], \"line\": {\"color\": \"rgb(20, 0, 145)\", \"width\": 2}, \"z\": [0, -1.617805], \"type\": \"scatter3d\"}, {\"marker\": {\"color\": \"rgb(0,144,144)\", \"size\": 5}, \"mode\": \"markers\", \"y\": [1.5], \"x\": [0.20000000298023224], \"z\": [-0.5], \"type\": \"scatter3d\"}, {\"marker\": {\"color\": \"#48186a\", \"size\": 10}, \"mode\": \"markers\", \"y\": [0], \"x\": [0], \"z\": [0], \"type\": \"scatter3d\"}, {\"mode\": \"lines\", \"y\": [0, 4.702815], \"x\": [0, -0.43469099999999994], \"line\": {\"color\": \"rgb(20, 0, 145)\", \"width\": 2}, \"z\": [0, -1.6415199999999999], \"type\": \"scatter3d\"}, {\"marker\": {\"color\": \"rgb(0,144,144)\", \"size\": 5}, \"mode\": \"markers\", \"y\": [1.5], \"x\": [0.20000000298023224], \"z\": [-0.5], \"type\": \"scatter3d\"}, {\"marker\": {\"color\": \"#48186a\", \"size\": 10}, \"mode\": \"markers\", \"y\": [0], \"x\": [0], \"z\": [0], \"type\": \"scatter3d\"}, {\"mode\": \"lines\", \"y\": [0, 4.7067], \"x\": [0, -0.4423915], \"line\": {\"color\": \"rgb(20, 0, 145)\", \"width\": 2}, \"z\": [0, -1.62827], \"type\": \"scatter3d\"}, {\"marker\": {\"color\": \"rgb(0,144,144)\", \"size\": 5}, \"mode\": \"markers\", \"y\": [1.5], \"x\": [0.20000000298023224], \"z\": [-0.5], \"type\": \"scatter3d\"}, {\"marker\": {\"color\": \"#48186a\", \"size\": 10}, \"mode\": \"markers\", \"y\": [0], \"x\": [0], \"z\": [0], \"type\": \"scatter3d\"}, {\"mode\": \"lines\", \"y\": [0, 4.701935], \"x\": [0, -0.44569650000000005], \"line\": {\"color\": \"rgb(20, 0, 145)\", \"width\": 2}, \"z\": [0, -1.641085], \"type\": \"scatter3d\"}, {\"marker\": {\"color\": \"rgb(0,144,144)\", \"size\": 5}, \"mode\": \"markers\", \"y\": [1.5], \"x\": [0.20000000298023224], \"z\": [-0.5], \"type\": \"scatter3d\"}, {\"marker\": {\"color\": \"#48186a\", \"size\": 10}, \"mode\": \"markers\", \"y\": [0], \"x\": [0], \"z\": [0], \"type\": \"scatter3d\"}, {\"mode\": \"lines\", \"y\": [0, 4.710134999999999], \"x\": [0, -0.45415099999999997], \"line\": {\"color\": \"rgb(20, 0, 145)\", \"width\": 2}, \"z\": [0, -1.61505], \"type\": \"scatter3d\"}, {\"marker\": {\"color\": \"rgb(0,144,144)\", \"size\": 5}, \"mode\": \"markers\", \"y\": [1.5], \"x\": [0.20000000298023224], \"z\": [-0.5], \"type\": \"scatter3d\"}, {\"marker\": {\"color\": \"#48186a\", \"size\": 10}, \"mode\": \"markers\", \"y\": [0], \"x\": [0], \"z\": [0], \"type\": \"scatter3d\"}, {\"mode\": \"lines\", \"y\": [0, 4.710134999999999], \"x\": [0, -0.45415099999999997], \"line\": {\"color\": \"rgb(20, 0, 145)\", \"width\": 2}, \"z\": [0, -1.61505], \"type\": \"scatter3d\"}, {\"marker\": {\"color\": \"rgb(0,144,144)\", \"size\": 5}, \"mode\": \"markers\", \"y\": [1.5], \"x\": [0.20000000298023224], \"z\": [-0.5], \"type\": \"scatter3d\"}, {\"marker\": {\"color\": \"#48186a\", \"size\": 10}, \"mode\": \"markers\", \"y\": [0], \"x\": [0], \"z\": [0], \"type\": \"scatter3d\"}, {\"mode\": \"lines\", \"y\": [0, 4.70249], \"x\": [0, -0.46000399999999997], \"line\": {\"color\": \"rgb(20, 0, 145)\", \"width\": 2}, \"z\": [0, -1.63554], \"type\": \"scatter3d\"}, {\"marker\": {\"color\": \"rgb(0,144,144)\", \"size\": 5}, \"mode\": \"markers\", \"y\": [1.5], \"x\": [0.20000000298023224], \"z\": [-0.5], \"type\": \"scatter3d\"}, {\"marker\": {\"color\": \"#48186a\", \"size\": 10}, \"mode\": \"markers\", \"y\": [0], \"x\": [0], \"z\": [0], \"type\": \"scatter3d\"}, {\"mode\": \"lines\", \"y\": [0, 4.697835], \"x\": [0, -0.4263965], \"line\": {\"color\": \"rgb(20, 0, 145)\", \"width\": 2}, \"z\": [0, -1.657875], \"type\": \"scatter3d\"}, {\"marker\": {\"color\": \"rgb(0,144,144)\", \"size\": 5}, \"mode\": \"markers\", \"y\": [1.5], \"x\": [0.20000000298023224], \"z\": [-0.5], \"type\": \"scatter3d\"}, {\"marker\": {\"color\": \"#48186a\", \"size\": 10}, \"mode\": \"markers\", \"y\": [0], \"x\": [0], \"z\": [0], \"type\": \"scatter3d\"}, {\"mode\": \"lines\", \"y\": [0, 4.699355], \"x\": [0, -0.4649905], \"line\": {\"color\": \"rgb(20, 0, 145)\", \"width\": 2}, \"z\": [0, -1.643125], \"type\": \"scatter3d\"}, {\"marker\": {\"color\": \"rgb(0,144,144)\", \"size\": 5}, \"mode\": \"markers\", \"y\": [1.5], \"x\": [0.20000000298023224], \"z\": [-0.5], \"type\": \"scatter3d\"}, {\"marker\": {\"color\": \"#48186a\", \"size\": 10}, \"mode\": \"markers\", \"y\": [0], \"x\": [0], \"z\": [0], \"type\": \"scatter3d\"}, {\"mode\": \"lines\", \"y\": [0, 4.700045], \"x\": [0, -0.4316965], \"line\": {\"color\": \"rgb(20, 0, 145)\", \"width\": 2}, \"z\": [0, -1.6502149999999998], \"type\": \"scatter3d\"}, {\"marker\": {\"color\": \"rgb(0,144,144)\", \"size\": 5}, \"mode\": \"markers\", \"y\": [1.5], \"x\": [0.20000000298023224], \"z\": [-0.5], \"type\": \"scatter3d\"}, {\"marker\": {\"color\": \"#48186a\", \"size\": 10}, \"mode\": \"markers\", \"y\": [0], \"x\": [0], \"z\": [0], \"type\": \"scatter3d\"}, {\"mode\": \"lines\", \"y\": [0, 4.700045], \"x\": [0, -0.4316965], \"line\": {\"color\": \"rgb(20, 0, 145)\", \"width\": 2}, \"z\": [0, -1.6502149999999998], \"type\": \"scatter3d\"}, {\"marker\": {\"color\": \"rgb(0,144,144)\", \"size\": 5}, \"mode\": \"markers\", \"y\": [1.5], \"x\": [0.20000000298023224], \"z\": [-0.5], \"type\": \"scatter3d\"}, {\"marker\": {\"color\": \"#48186a\", \"size\": 10}, \"mode\": \"markers\", \"y\": [0], \"x\": [0], \"z\": [0], \"type\": \"scatter3d\"}, {\"mode\": \"lines\", \"y\": [0, 4.70314], \"x\": [0, -0.4542215], \"line\": {\"color\": \"rgb(20, 0, 145)\", \"width\": 2}, \"z\": [0, -1.63528], \"type\": \"scatter3d\"}, {\"marker\": {\"color\": \"rgb(0,144,144)\", \"size\": 5}, \"mode\": \"markers\", \"y\": [1.5], \"x\": [0.20000000298023224], \"z\": [-0.5], \"type\": \"scatter3d\"}, {\"marker\": {\"color\": \"#48186a\", \"size\": 10}, \"mode\": \"markers\", \"y\": [0], \"x\": [0], \"z\": [0], \"type\": \"scatter3d\"}, {\"mode\": \"lines\", \"y\": [0, 4.702705], \"x\": [0, -0.438744], \"line\": {\"color\": \"rgb(20, 0, 145)\", \"width\": 2}, \"z\": [0, -1.64075], \"type\": \"scatter3d\"}, {\"marker\": {\"color\": \"rgb(0,144,144)\", \"size\": 5}, \"mode\": \"markers\", \"y\": [1.5], \"x\": [0.20000000298023224], \"z\": [-0.5], \"type\": \"scatter3d\"}, {\"marker\": {\"color\": \"#48186a\", \"size\": 10}, \"mode\": \"markers\", \"y\": [0], \"x\": [0], \"z\": [0], \"type\": \"scatter3d\"}, {\"mode\": \"lines\", \"y\": [0, 4.704805], \"x\": [0, -0.44863949999999997], \"line\": {\"color\": \"rgb(20, 0, 145)\", \"width\": 2}, \"z\": [0, -1.6320350000000001], \"type\": \"scatter3d\"}, {\"marker\": {\"color\": \"rgb(0,144,144)\", \"size\": 5}, \"mode\": \"markers\", \"y\": [1.5], \"x\": [0.20000000298023224], \"z\": [-0.5], \"type\": \"scatter3d\"}, {\"marker\": {\"color\": \"#48186a\", \"size\": 10}, \"mode\": \"markers\", \"y\": [0], \"x\": [0], \"z\": [0], \"type\": \"scatter3d\"}, {\"mode\": \"lines\", \"y\": [0, 4.7026200000000005], \"x\": [0, -0.4544315], \"line\": {\"color\": \"rgb(20, 0, 145)\", \"width\": 2}, \"z\": [0, -1.63673], \"type\": \"scatter3d\"}, {\"marker\": {\"color\": \"rgb(0,144,144)\", \"size\": 5}, \"mode\": \"markers\", \"y\": [1.5], \"x\": [0.20000000298023224], \"z\": [-0.5], \"type\": \"scatter3d\"}, {\"marker\": {\"color\": \"#48186a\", \"size\": 10}, \"mode\": \"markers\", \"y\": [0], \"x\": [0], \"z\": [0], \"type\": \"scatter3d\"}, {\"mode\": \"lines\", \"y\": [0, 4.7026200000000005], \"x\": [0, -0.4544315], \"line\": {\"color\": \"rgb(20, 0, 145)\", \"width\": 2}, \"z\": [0, -1.63673], \"type\": \"scatter3d\"}, {\"marker\": {\"color\": \"rgb(0,144,144)\", \"size\": 5}, \"mode\": \"markers\", \"y\": [1.5], \"x\": [0.20000000298023224], \"z\": [-0.5], \"type\": \"scatter3d\"}, {\"marker\": {\"color\": \"#48186a\", \"size\": 10}, \"mode\": \"markers\", \"y\": [0], \"x\": [0], \"z\": [0], \"type\": \"scatter3d\"}, {\"mode\": \"lines\", \"y\": [0, 4.70414], \"x\": [0, -0.4436855], \"line\": {\"color\": \"rgb(20, 0, 145)\", \"width\": 2}, \"z\": [0, -1.63531], \"type\": \"scatter3d\"}, {\"marker\": {\"color\": \"rgb(0,144,144)\", \"size\": 5}, \"mode\": \"markers\", \"y\": [1.5], \"x\": [0.20000000298023224], \"z\": [-0.5], \"type\": \"scatter3d\"}, {\"marker\": {\"color\": \"#48186a\", \"size\": 10}, \"mode\": \"markers\", \"y\": [0], \"x\": [0], \"z\": [0], \"type\": \"scatter3d\"}, {\"mode\": \"lines\", \"y\": [0, 4.70268], \"x\": [0, -0.45750199999999996], \"line\": {\"color\": \"rgb(20, 0, 145)\", \"width\": 2}, \"z\": [0, -1.6356899999999999], \"type\": \"scatter3d\"}, {\"marker\": {\"color\": \"rgb(0,144,144)\", \"size\": 5}, \"mode\": \"markers\", \"y\": [1.5], \"x\": [0.20000000298023224], \"z\": [-0.5], \"type\": \"scatter3d\"}, {\"marker\": {\"color\": \"#48186a\", \"size\": 10}, \"mode\": \"markers\", \"y\": [0], \"x\": [0], \"z\": [0], \"type\": \"scatter3d\"}, {\"mode\": \"lines\", \"y\": [0, 4.7052], \"x\": [0, -0.453501], \"line\": {\"color\": \"rgb(20, 0, 145)\", \"width\": 2}, \"z\": [0, -1.629545], \"type\": \"scatter3d\"}, {\"marker\": {\"color\": \"rgb(0,144,144)\", \"size\": 5}, \"mode\": \"markers\", \"y\": [1.5], \"x\": [0.20000000298023224], \"z\": [-0.5], \"type\": \"scatter3d\"}, {\"marker\": {\"color\": \"#48186a\", \"size\": 10}, \"mode\": \"markers\", \"y\": [0], \"x\": [0], \"z\": [0], \"type\": \"scatter3d\"}, {\"mode\": \"lines\", \"y\": [0, 4.70811], \"x\": [0, -0.4617325], \"line\": {\"color\": \"rgb(20, 0, 145)\", \"width\": 2}, \"z\": [0, -1.6188], \"type\": \"scatter3d\"}, {\"marker\": {\"color\": \"rgb(0,144,144)\", \"size\": 5}, \"mode\": \"markers\", \"y\": [1.5], \"x\": [0.20000000298023224], \"z\": [-0.5], \"type\": \"scatter3d\"}, {\"marker\": {\"color\": \"#48186a\", \"size\": 10}, \"mode\": \"markers\", \"y\": [0], \"x\": [0], \"z\": [0], \"type\": \"scatter3d\"}, {\"mode\": \"lines\", \"y\": [0, 4.70811], \"x\": [0, -0.4617325], \"line\": {\"color\": \"rgb(20, 0, 145)\", \"width\": 2}, \"z\": [0, -1.6188], \"type\": \"scatter3d\"}, {\"marker\": {\"color\": \"rgb(0,144,144)\", \"size\": 5}, \"mode\": \"markers\", \"y\": [1.5], \"x\": [0.20000000298023224], \"z\": [-0.5], \"type\": \"scatter3d\"}, {\"marker\": {\"color\": \"#48186a\", \"size\": 10}, \"mode\": \"markers\", \"y\": [0], \"x\": [0], \"z\": [0], \"type\": \"scatter3d\"}, {\"mode\": \"lines\", \"y\": [0, 4.70538], \"x\": [0, -0.467247], \"line\": {\"color\": \"rgb(20, 0, 145)\", \"width\": 2}, \"z\": [0, -1.625145], \"type\": \"scatter3d\"}, {\"marker\": {\"color\": \"rgb(0,144,144)\", \"size\": 5}, \"mode\": \"markers\", \"y\": [1.5], \"x\": [0.20000000298023224], \"z\": [-0.5], \"type\": \"scatter3d\"}, {\"marker\": {\"color\": \"#48186a\", \"size\": 10}, \"mode\": \"markers\", \"y\": [0], \"x\": [0], \"z\": [0], \"type\": \"scatter3d\"}, {\"mode\": \"lines\", \"y\": [0, 4.706785], \"x\": [0, -0.459503], \"line\": {\"color\": \"rgb(20, 0, 145)\", \"width\": 2}, \"z\": [0, -1.6232849999999999], \"type\": \"scatter3d\"}, {\"marker\": {\"color\": \"rgb(0,144,144)\", \"size\": 5}, \"mode\": \"markers\", \"y\": [1.5], \"x\": [0.20000000298023224], \"z\": [-0.5], \"type\": \"scatter3d\"}, {\"marker\": {\"color\": \"#48186a\", \"size\": 10}, \"mode\": \"markers\", \"y\": [0], \"x\": [0], \"z\": [0], \"type\": \"scatter3d\"}, {\"mode\": \"lines\", \"y\": [0, 4.708115], \"x\": [0, -0.482789], \"line\": {\"color\": \"rgb(20, 0, 145)\", \"width\": 2}, \"z\": [0, -1.612635], \"type\": \"scatter3d\"}, {\"marker\": {\"color\": \"rgb(0,144,144)\", \"size\": 5}, \"mode\": \"markers\", \"y\": [1.5], \"x\": [0.20000000298023224], \"z\": [-0.5], \"type\": \"scatter3d\"}, {\"marker\": {\"color\": \"#48186a\", \"size\": 10}, \"mode\": \"markers\", \"y\": [0], \"x\": [0], \"z\": [0], \"type\": \"scatter3d\"}, {\"mode\": \"lines\", \"y\": [0, 4.70164], \"x\": [0, -0.45530800000000005], \"line\": {\"color\": \"rgb(20, 0, 145)\", \"width\": 2}, \"z\": [0, -1.639285], \"type\": \"scatter3d\"}, {\"marker\": {\"color\": \"rgb(0,144,144)\", \"size\": 5}, \"mode\": \"markers\", \"y\": [1.5], \"x\": [0.20000000298023224], \"z\": [-0.5], \"type\": \"scatter3d\"}, {\"marker\": {\"color\": \"#48186a\", \"size\": 10}, \"mode\": \"markers\", \"y\": [0], \"x\": [0], \"z\": [0], \"type\": \"scatter3d\"}, {\"mode\": \"lines\", \"y\": [0, 4.710335], \"x\": [0, -0.482654], \"line\": {\"color\": \"rgb(20, 0, 145)\", \"width\": 2}, \"z\": [0, -1.606175], \"type\": \"scatter3d\"}, {\"marker\": {\"color\": \"rgb(0,144,144)\", \"size\": 5}, \"mode\": \"markers\", \"y\": [1.5], \"x\": [0.20000000298023224], \"z\": [-0.5], \"type\": \"scatter3d\"}, {\"marker\": {\"color\": \"#48186a\", \"size\": 10}, \"mode\": \"markers\", \"y\": [0], \"x\": [0], \"z\": [0], \"type\": \"scatter3d\"}, {\"mode\": \"lines\", \"y\": [0, 4.710335], \"x\": [0, -0.482654], \"line\": {\"color\": \"rgb(20, 0, 145)\", \"width\": 2}, \"z\": [0, -1.606175], \"type\": \"scatter3d\"}, {\"marker\": {\"color\": \"rgb(0,144,144)\", \"size\": 5}, \"mode\": \"markers\", \"y\": [1.5], \"x\": [0.20000000298023224], \"z\": [-0.5], \"type\": \"scatter3d\"}, {\"marker\": {\"color\": \"#48186a\", \"size\": 10}, \"mode\": \"markers\", \"y\": [0], \"x\": [0], \"z\": [0], \"type\": \"scatter3d\"}, {\"mode\": \"lines\", \"y\": [0, 4.703315], \"x\": [0, -0.459377], \"line\": {\"color\": \"rgb(20, 0, 145)\", \"width\": 2}, \"z\": [0, -1.633335], \"type\": \"scatter3d\"}, {\"marker\": {\"color\": \"rgb(0,144,144)\", \"size\": 5}, \"mode\": \"markers\", \"y\": [1.5], \"x\": [0.20000000298023224], \"z\": [-0.5], \"type\": \"scatter3d\"}, {\"marker\": {\"color\": \"#48186a\", \"size\": 10}, \"mode\": \"markers\", \"y\": [0], \"x\": [0], \"z\": [0], \"type\": \"scatter3d\"}, {\"mode\": \"lines\", \"y\": [0, 4.702065], \"x\": [0, -0.45256799999999997], \"line\": {\"color\": \"rgb(20, 0, 145)\", \"width\": 2}, \"z\": [0, -1.6388249999999998], \"type\": \"scatter3d\"}, {\"marker\": {\"color\": \"rgb(0,144,144)\", \"size\": 5}, \"mode\": \"markers\", \"y\": [1.5], \"x\": [0.20000000298023224], \"z\": [-0.5], \"type\": \"scatter3d\"}, {\"marker\": {\"color\": \"#48186a\", \"size\": 10}, \"mode\": \"markers\", \"y\": [0], \"x\": [0], \"z\": [0], \"type\": \"scatter3d\"}, {\"mode\": \"lines\", \"y\": [0, 4.702065], \"x\": [0, -0.45256799999999997], \"line\": {\"color\": \"rgb(20, 0, 145)\", \"width\": 2}, \"z\": [0, -1.6388249999999998], \"type\": \"scatter3d\"}, {\"marker\": {\"color\": \"rgb(0,144,144)\", \"size\": 5}, \"mode\": \"markers\", \"y\": [1.5], \"x\": [0.20000000298023224], \"z\": [-0.5], \"type\": \"scatter3d\"}, {\"marker\": {\"color\": \"#48186a\", \"size\": 10}, \"mode\": \"markers\", \"y\": [0], \"x\": [0], \"z\": [0], \"type\": \"scatter3d\"}, {\"mode\": \"lines\", \"y\": [0, 4.705545], \"x\": [0, -0.473406], \"line\": {\"color\": \"rgb(20, 0, 145)\", \"width\": 2}, \"z\": [0, -1.6228799999999999], \"type\": \"scatter3d\"}, {\"marker\": {\"color\": \"rgb(0,144,144)\", \"size\": 5}, \"mode\": \"markers\", \"y\": [1.5], \"x\": [0.20000000298023224], \"z\": [-0.5], \"type\": \"scatter3d\"}, {\"marker\": {\"color\": \"#48186a\", \"size\": 10}, \"mode\": \"markers\", \"y\": [0], \"x\": [0], \"z\": [0], \"type\": \"scatter3d\"}, {\"mode\": \"lines\", \"y\": [0, 4.704065], \"x\": [0, -0.458702], \"line\": {\"color\": \"rgb(20, 0, 145)\", \"width\": 2}, \"z\": [0, -1.6313749999999998], \"type\": \"scatter3d\"}, {\"marker\": {\"color\": \"rgb(0,144,144)\", \"size\": 5}, \"mode\": \"markers\", \"y\": [1.5], \"x\": [0.20000000298023224], \"z\": [-0.5], \"type\": \"scatter3d\"}, {\"marker\": {\"color\": \"#48186a\", \"size\": 10}, \"mode\": \"markers\", \"y\": [0], \"x\": [0], \"z\": [0], \"type\": \"scatter3d\"}, {\"mode\": \"lines\", \"y\": [0, 4.70808], \"x\": [0, -0.4690495], \"line\": {\"color\": \"rgb(20, 0, 145)\", \"width\": 2}, \"z\": [0, -1.616775], \"type\": \"scatter3d\"}, {\"marker\": {\"color\": \"rgb(0,144,144)\", \"size\": 5}, \"mode\": \"markers\", \"y\": [1.5], \"x\": [0.20000000298023224], \"z\": [-0.5], \"type\": \"scatter3d\"}, {\"marker\": {\"color\": \"#48186a\", \"size\": 10}, \"mode\": \"markers\", \"y\": [0], \"x\": [0], \"z\": [0], \"type\": \"scatter3d\"}, {\"mode\": \"lines\", \"y\": [0, 4.707495], \"x\": [0, -0.45202699999999996], \"line\": {\"color\": \"rgb(20, 0, 145)\", \"width\": 2}, \"z\": [0, -1.623325], \"type\": \"scatter3d\"}, {\"marker\": {\"color\": \"rgb(0,144,144)\", \"size\": 5}, \"mode\": \"markers\", \"y\": [1.5], \"x\": [0.20000000298023224], \"z\": [-0.5], \"type\": \"scatter3d\"}], {\"showlegend\": false, \"title\": \"Gaze in World\", \"scene\": {\"aspectratio\": {\"y\": 1, \"x\": 1, \"z\": 1}, \"aspectmode\": \"manual\", \"zaxis\": {\"range\": [-10, 10], \"title\": \"z Axis\"}, \"xaxis\": {\"range\": [-10, 10], \"title\": \"x Axis\"}, \"yaxis\": {\"range\": [-10, 10], \"title\": \"y Axis\"}}, \"height\": 800, \"width\": 800, \"hovermode\": \"closest\", \"margin\": {\"t\": 100}}, {\"linkText\": \"Export to plot.ly\", \"showLink\": true})});</script>"
      ],
      "text/vnd.plotly.v1+html": [
       "<div id=\"4321b4ae-124a-4b28-a50e-f23cd471a51d\" style=\"height: 800px; width: 800px;\" class=\"plotly-graph-div\"></div><script type=\"text/javascript\">require([\"plotly\"], function(Plotly) { window.PLOTLYENV=window.PLOTLYENV || {};window.PLOTLYENV.BASE_URL=\"https://plot.ly\";Plotly.newPlot(\"4321b4ae-124a-4b28-a50e-f23cd471a51d\", [{\"marker\": {\"color\": \"#48186a\", \"size\": 10}, \"mode\": \"markers\", \"y\": [0], \"x\": [0], \"z\": [0], \"type\": \"scatter3d\"}, {\"mode\": \"lines\", \"y\": [0, 4.699195], \"x\": [0, -0.490929], \"line\": {\"color\": \"rgb(20, 0, 145)\", \"width\": 2}, \"z\": [0, -1.636015], \"type\": \"scatter3d\"}, {\"marker\": {\"color\": \"rgb(0,144,144)\", \"size\": 5}, \"mode\": \"markers\", \"y\": [1.5], \"x\": [0.20000000298023224], \"z\": [-0.5], \"type\": \"scatter3d\"}, {\"marker\": {\"color\": \"#48186a\", \"size\": 10}, \"mode\": \"markers\", \"y\": [0], \"x\": [0], \"z\": [0], \"type\": \"scatter3d\"}, {\"mode\": \"lines\", \"y\": [0, 4.69613], \"x\": [0, -0.480856], \"line\": {\"color\": \"rgb(20, 0, 145)\", \"width\": 2}, \"z\": [0, -1.64777], \"type\": \"scatter3d\"}, {\"marker\": {\"color\": \"rgb(0,144,144)\", \"size\": 5}, \"mode\": \"markers\", \"y\": [1.5], \"x\": [0.20000000298023224], \"z\": [-0.5], \"type\": \"scatter3d\"}, {\"marker\": {\"color\": \"#48186a\", \"size\": 10}, \"mode\": \"markers\", \"y\": [0], \"x\": [0], \"z\": [0], \"type\": \"scatter3d\"}, {\"mode\": \"lines\", \"y\": [0, 4.69613], \"x\": [0, -0.480856], \"line\": {\"color\": \"rgb(20, 0, 145)\", \"width\": 2}, \"z\": [0, -1.64777], \"type\": \"scatter3d\"}, {\"marker\": {\"color\": \"rgb(0,144,144)\", \"size\": 5}, \"mode\": \"markers\", \"y\": [1.5], \"x\": [0.20000000298023224], \"z\": [-0.5], \"type\": \"scatter3d\"}, {\"marker\": {\"color\": \"#48186a\", \"size\": 10}, \"mode\": \"markers\", \"y\": [0], \"x\": [0], \"z\": [0], \"type\": \"scatter3d\"}, {\"mode\": \"lines\", \"y\": [0, 4.70255], \"x\": [0, -0.47534750000000003], \"line\": {\"color\": \"rgb(20, 0, 145)\", \"width\": 2}, \"z\": [0, -1.6309799999999999], \"type\": \"scatter3d\"}, {\"marker\": {\"color\": \"rgb(0,144,144)\", \"size\": 5}, \"mode\": \"markers\", \"y\": [1.5], \"x\": [0.20000000298023224], \"z\": [-0.5], \"type\": \"scatter3d\"}, {\"marker\": {\"color\": \"#48186a\", \"size\": 10}, \"mode\": \"markers\", \"y\": [0], \"x\": [0], \"z\": [0], \"type\": \"scatter3d\"}, {\"mode\": \"lines\", \"y\": [0, 4.70367], \"x\": [0, -0.48007599999999995], \"line\": {\"color\": \"rgb(20, 0, 145)\", \"width\": 2}, \"z\": [0, -1.6263549999999998], \"type\": \"scatter3d\"}, {\"marker\": {\"color\": \"rgb(0,144,144)\", \"size\": 5}, \"mode\": \"markers\", \"y\": [1.5], \"x\": [0.20000000298023224], \"z\": [-0.5], \"type\": \"scatter3d\"}, {\"marker\": {\"color\": \"#48186a\", \"size\": 10}, \"mode\": \"markers\", \"y\": [0], \"x\": [0], \"z\": [0], \"type\": \"scatter3d\"}, {\"mode\": \"lines\", \"y\": [0, 4.69811], \"x\": [0, -0.46435200000000004], \"line\": {\"color\": \"rgb(20, 0, 145)\", \"width\": 2}, \"z\": [0, -1.6468550000000002], \"type\": \"scatter3d\"}, {\"marker\": {\"color\": \"rgb(0,144,144)\", \"size\": 5}, \"mode\": \"markers\", \"y\": [1.5], \"x\": [0.20000000298023224], \"z\": [-0.5], \"type\": \"scatter3d\"}, {\"marker\": {\"color\": \"#48186a\", \"size\": 10}, \"mode\": \"markers\", \"y\": [0], \"x\": [0], \"z\": [0], \"type\": \"scatter3d\"}, {\"mode\": \"lines\", \"y\": [0, 4.7026449999999995], \"x\": [0, -0.47934499999999997], \"line\": {\"color\": \"rgb(20, 0, 145)\", \"width\": 2}, \"z\": [0, -1.62953], \"type\": \"scatter3d\"}, {\"marker\": {\"color\": \"rgb(0,144,144)\", \"size\": 5}, \"mode\": \"markers\", \"y\": [1.5], \"x\": [0.20000000298023224], \"z\": [-0.5], \"type\": \"scatter3d\"}, {\"marker\": {\"color\": \"#48186a\", \"size\": 10}, \"mode\": \"markers\", \"y\": [0], \"x\": [0], \"z\": [0], \"type\": \"scatter3d\"}, {\"mode\": \"lines\", \"y\": [0, 4.70653], \"x\": [0, -0.44939149999999994], \"line\": {\"color\": \"rgb(20, 0, 145)\", \"width\": 2}, \"z\": [0, -1.62685], \"type\": \"scatter3d\"}, {\"marker\": {\"color\": \"rgb(0,144,144)\", \"size\": 5}, \"mode\": \"markers\", \"y\": [1.5], \"x\": [0.20000000298023224], \"z\": [-0.5], \"type\": \"scatter3d\"}, {\"marker\": {\"color\": \"#48186a\", \"size\": 10}, \"mode\": \"markers\", \"y\": [0], \"x\": [0], \"z\": [0], \"type\": \"scatter3d\"}, {\"mode\": \"lines\", \"y\": [0, 4.70653], \"x\": [0, -0.44939149999999994], \"line\": {\"color\": \"rgb(20, 0, 145)\", \"width\": 2}, \"z\": [0, -1.62685], \"type\": \"scatter3d\"}, {\"marker\": {\"color\": \"rgb(0,144,144)\", \"size\": 5}, \"mode\": \"markers\", \"y\": [1.5], \"x\": [0.20000000298023224], \"z\": [-0.5], \"type\": \"scatter3d\"}, {\"marker\": {\"color\": \"#48186a\", \"size\": 10}, \"mode\": \"markers\", \"y\": [0], \"x\": [0], \"z\": [0], \"type\": \"scatter3d\"}, {\"mode\": \"lines\", \"y\": [0, 4.713035], \"x\": [0, -0.4774705], \"line\": {\"color\": \"rgb(20, 0, 145)\", \"width\": 2}, \"z\": [0, -1.5997949999999999], \"type\": \"scatter3d\"}, {\"marker\": {\"color\": \"rgb(0,144,144)\", \"size\": 5}, \"mode\": \"markers\", \"y\": [1.5], \"x\": [0.20000000298023224], \"z\": [-0.5], \"type\": \"scatter3d\"}, {\"marker\": {\"color\": \"#48186a\", \"size\": 10}, \"mode\": \"markers\", \"y\": [0], \"x\": [0], \"z\": [0], \"type\": \"scatter3d\"}, {\"mode\": \"lines\", \"y\": [0, 4.70649], \"x\": [0, -0.46120500000000003], \"line\": {\"color\": \"rgb(20, 0, 145)\", \"width\": 2}, \"z\": [0, -1.62365], \"type\": \"scatter3d\"}, {\"marker\": {\"color\": \"rgb(0,144,144)\", \"size\": 5}, \"mode\": \"markers\", \"y\": [1.5], \"x\": [0.20000000298023224], \"z\": [-0.5], \"type\": \"scatter3d\"}, {\"marker\": {\"color\": \"#48186a\", \"size\": 10}, \"mode\": \"markers\", \"y\": [0], \"x\": [0], \"z\": [0], \"type\": \"scatter3d\"}, {\"mode\": \"lines\", \"y\": [0, 4.70649], \"x\": [0, -0.46120500000000003], \"line\": {\"color\": \"rgb(20, 0, 145)\", \"width\": 2}, \"z\": [0, -1.62365], \"type\": \"scatter3d\"}, {\"marker\": {\"color\": \"rgb(0,144,144)\", \"size\": 5}, \"mode\": \"markers\", \"y\": [1.5], \"x\": [0.20000000298023224], \"z\": [-0.5], \"type\": \"scatter3d\"}, {\"marker\": {\"color\": \"#48186a\", \"size\": 10}, \"mode\": \"markers\", \"y\": [0], \"x\": [0], \"z\": [0], \"type\": \"scatter3d\"}, {\"mode\": \"lines\", \"y\": [0, 4.70866], \"x\": [0, -0.449817], \"line\": {\"color\": \"rgb(20, 0, 145)\", \"width\": 2}, \"z\": [0, -1.620555], \"type\": \"scatter3d\"}, {\"marker\": {\"color\": \"rgb(0,144,144)\", \"size\": 5}, \"mode\": \"markers\", \"y\": [1.5], \"x\": [0.20000000298023224], \"z\": [-0.5], \"type\": \"scatter3d\"}, {\"marker\": {\"color\": \"#48186a\", \"size\": 10}, \"mode\": \"markers\", \"y\": [0], \"x\": [0], \"z\": [0], \"type\": \"scatter3d\"}, {\"mode\": \"lines\", \"y\": [0, 4.7079450000000005], \"x\": [0, -0.4717525], \"line\": {\"color\": \"rgb(20, 0, 145)\", \"width\": 2}, \"z\": [0, -1.61639], \"type\": \"scatter3d\"}, {\"marker\": {\"color\": \"rgb(0,144,144)\", \"size\": 5}, \"mode\": \"markers\", \"y\": [1.5], \"x\": [0.20000000298023224], \"z\": [-0.5], \"type\": \"scatter3d\"}, {\"marker\": {\"color\": \"#48186a\", \"size\": 10}, \"mode\": \"markers\", \"y\": [0], \"x\": [0], \"z\": [0], \"type\": \"scatter3d\"}, {\"mode\": \"lines\", \"y\": [0, 4.71259], \"x\": [0, -0.43571650000000006], \"line\": {\"color\": \"rgb(20, 0, 145)\", \"width\": 2}, \"z\": [0, -1.61296], \"type\": \"scatter3d\"}, {\"marker\": {\"color\": \"rgb(0,144,144)\", \"size\": 5}, \"mode\": \"markers\", \"y\": [1.5], \"x\": [0.20000000298023224], \"z\": [-0.5], \"type\": \"scatter3d\"}, {\"marker\": {\"color\": \"#48186a\", \"size\": 10}, \"mode\": \"markers\", \"y\": [0], \"x\": [0], \"z\": [0], \"type\": \"scatter3d\"}, {\"mode\": \"lines\", \"y\": [0, 4.71148], \"x\": [0, -0.4618865], \"line\": {\"color\": \"rgb(20, 0, 145)\", \"width\": 2}, \"z\": [0, -1.608925], \"type\": \"scatter3d\"}, {\"marker\": {\"color\": \"rgb(0,144,144)\", \"size\": 5}, \"mode\": \"markers\", \"y\": [1.5], \"x\": [0.20000000298023224], \"z\": [-0.5], \"type\": \"scatter3d\"}, {\"marker\": {\"color\": \"#48186a\", \"size\": 10}, \"mode\": \"markers\", \"y\": [0], \"x\": [0], \"z\": [0], \"type\": \"scatter3d\"}, {\"mode\": \"lines\", \"y\": [0, 4.70541], \"x\": [0, -0.4517145], \"line\": {\"color\": \"rgb(20, 0, 145)\", \"width\": 2}, \"z\": [0, -1.629445], \"type\": \"scatter3d\"}, {\"marker\": {\"color\": \"rgb(0,144,144)\", \"size\": 5}, \"mode\": \"markers\", \"y\": [1.5], \"x\": [0.20000000298023224], \"z\": [-0.5], \"type\": \"scatter3d\"}, {\"marker\": {\"color\": \"#48186a\", \"size\": 10}, \"mode\": \"markers\", \"y\": [0], \"x\": [0], \"z\": [0], \"type\": \"scatter3d\"}, {\"mode\": \"lines\", \"y\": [0, 4.70541], \"x\": [0, -0.4517145], \"line\": {\"color\": \"rgb(20, 0, 145)\", \"width\": 2}, \"z\": [0, -1.629445], \"type\": \"scatter3d\"}, {\"marker\": {\"color\": \"rgb(0,144,144)\", \"size\": 5}, \"mode\": \"markers\", \"y\": [1.5], \"x\": [0.20000000298023224], \"z\": [-0.5], \"type\": \"scatter3d\"}, {\"marker\": {\"color\": \"#48186a\", \"size\": 10}, \"mode\": \"markers\", \"y\": [0], \"x\": [0], \"z\": [0], \"type\": \"scatter3d\"}, {\"mode\": \"lines\", \"y\": [0, 4.708335], \"x\": [0, -0.4390285], \"line\": {\"color\": \"rgb(20, 0, 145)\", \"width\": 2}, \"z\": [0, -1.624455], \"type\": \"scatter3d\"}, {\"marker\": {\"color\": \"rgb(0,144,144)\", \"size\": 5}, \"mode\": \"markers\", \"y\": [1.5], \"x\": [0.20000000298023224], \"z\": [-0.5], \"type\": \"scatter3d\"}, {\"marker\": {\"color\": \"#48186a\", \"size\": 10}, \"mode\": \"markers\", \"y\": [0], \"x\": [0], \"z\": [0], \"type\": \"scatter3d\"}, {\"mode\": \"lines\", \"y\": [0, 4.70203], \"x\": [0, -0.457832], \"line\": {\"color\": \"rgb(20, 0, 145)\", \"width\": 2}, \"z\": [0, -1.6374749999999998], \"type\": \"scatter3d\"}, {\"marker\": {\"color\": \"rgb(0,144,144)\", \"size\": 5}, \"mode\": \"markers\", \"y\": [1.5], \"x\": [0.20000000298023224], \"z\": [-0.5], \"type\": \"scatter3d\"}, {\"marker\": {\"color\": \"#48186a\", \"size\": 10}, \"mode\": \"markers\", \"y\": [0], \"x\": [0], \"z\": [0], \"type\": \"scatter3d\"}, {\"mode\": \"lines\", \"y\": [0, 4.704155], \"x\": [0, -0.436833], \"line\": {\"color\": \"rgb(20, 0, 145)\", \"width\": 2}, \"z\": [0, -1.637105], \"type\": \"scatter3d\"}, {\"marker\": {\"color\": \"rgb(0,144,144)\", \"size\": 5}, \"mode\": \"markers\", \"y\": [1.5], \"x\": [0.20000000298023224], \"z\": [-0.5], \"type\": \"scatter3d\"}, {\"marker\": {\"color\": \"#48186a\", \"size\": 10}, \"mode\": \"markers\", \"y\": [0], \"x\": [0], \"z\": [0], \"type\": \"scatter3d\"}, {\"mode\": \"lines\", \"y\": [0, 4.704155], \"x\": [0, -0.436833], \"line\": {\"color\": \"rgb(20, 0, 145)\", \"width\": 2}, \"z\": [0, -1.637105], \"type\": \"scatter3d\"}, {\"marker\": {\"color\": \"rgb(0,144,144)\", \"size\": 5}, \"mode\": \"markers\", \"y\": [1.5], \"x\": [0.20000000298023224], \"z\": [-0.5], \"type\": \"scatter3d\"}, {\"marker\": {\"color\": \"#48186a\", \"size\": 10}, \"mode\": \"markers\", \"y\": [0], \"x\": [0], \"z\": [0], \"type\": \"scatter3d\"}, {\"mode\": \"lines\", \"y\": [0, 4.712695], \"x\": [0, -0.468965], \"line\": {\"color\": \"rgb(20, 0, 145)\", \"width\": 2}, \"z\": [0, -1.60331], \"type\": \"scatter3d\"}, {\"marker\": {\"color\": \"rgb(0,144,144)\", \"size\": 5}, \"mode\": \"markers\", \"y\": [1.5], \"x\": [0.20000000298023224], \"z\": [-0.5], \"type\": \"scatter3d\"}, {\"marker\": {\"color\": \"#48186a\", \"size\": 10}, \"mode\": \"markers\", \"y\": [0], \"x\": [0], \"z\": [0], \"type\": \"scatter3d\"}, {\"mode\": \"lines\", \"y\": [0, 4.7086749999999995], \"x\": [0, -0.485807], \"line\": {\"color\": \"rgb(20, 0, 145)\", \"width\": 2}, \"z\": [0, -1.6100800000000002], \"type\": \"scatter3d\"}, {\"marker\": {\"color\": \"rgb(0,144,144)\", \"size\": 5}, \"mode\": \"markers\", \"y\": [1.5], \"x\": [0.20000000298023224], \"z\": [-0.5], \"type\": \"scatter3d\"}, {\"marker\": {\"color\": \"#48186a\", \"size\": 10}, \"mode\": \"markers\", \"y\": [0], \"x\": [0], \"z\": [0], \"type\": \"scatter3d\"}, {\"mode\": \"lines\", \"y\": [0, 4.707095], \"x\": [0, -0.50178], \"line\": {\"color\": \"rgb(20, 0, 145)\", \"width\": 2}, \"z\": [0, -1.6098100000000002], \"type\": \"scatter3d\"}, {\"marker\": {\"color\": \"rgb(0,144,144)\", \"size\": 5}, \"mode\": \"markers\", \"y\": [1.5], \"x\": [0.20000000298023224], \"z\": [-0.5], \"type\": \"scatter3d\"}, {\"marker\": {\"color\": \"#48186a\", \"size\": 10}, \"mode\": \"markers\", \"y\": [0], \"x\": [0], \"z\": [0], \"type\": \"scatter3d\"}, {\"mode\": \"lines\", \"y\": [0, 4.701535], \"x\": [0, -0.4884625], \"line\": {\"color\": \"rgb(20, 0, 145)\", \"width\": 2}, \"z\": [0, -1.6300249999999998], \"type\": \"scatter3d\"}, {\"marker\": {\"color\": \"rgb(0,144,144)\", \"size\": 5}, \"mode\": \"markers\", \"y\": [1.5], \"x\": [0.20000000298023224], \"z\": [-0.5], \"type\": \"scatter3d\"}, {\"marker\": {\"color\": \"#48186a\", \"size\": 10}, \"mode\": \"markers\", \"y\": [0], \"x\": [0], \"z\": [0], \"type\": \"scatter3d\"}, {\"mode\": \"lines\", \"y\": [0, 4.699335], \"x\": [0, -0.49907], \"line\": {\"color\": \"rgb(20, 0, 145)\", \"width\": 2}, \"z\": [0, -1.633155], \"type\": \"scatter3d\"}, {\"marker\": {\"color\": \"rgb(0,144,144)\", \"size\": 5}, \"mode\": \"markers\", \"y\": [1.5], \"x\": [0.20000000298023224], \"z\": [-0.5], \"type\": \"scatter3d\"}, {\"marker\": {\"color\": \"#48186a\", \"size\": 10}, \"mode\": \"markers\", \"y\": [0], \"x\": [0], \"z\": [0], \"type\": \"scatter3d\"}, {\"mode\": \"lines\", \"y\": [0, 4.699335], \"x\": [0, -0.49907], \"line\": {\"color\": \"rgb(20, 0, 145)\", \"width\": 2}, \"z\": [0, -1.633155], \"type\": \"scatter3d\"}, {\"marker\": {\"color\": \"rgb(0,144,144)\", \"size\": 5}, \"mode\": \"markers\", \"y\": [1.5], \"x\": [0.20000000298023224], \"z\": [-0.5], \"type\": \"scatter3d\"}, {\"marker\": {\"color\": \"#48186a\", \"size\": 10}, \"mode\": \"markers\", \"y\": [0], \"x\": [0], \"z\": [0], \"type\": \"scatter3d\"}, {\"mode\": \"lines\", \"y\": [0, 4.702865], \"x\": [0, -0.504595], \"line\": {\"color\": \"rgb(20, 0, 145)\", \"width\": 2}, \"z\": [0, -1.6212499999999999], \"type\": \"scatter3d\"}, {\"marker\": {\"color\": \"rgb(0,144,144)\", \"size\": 5}, \"mode\": \"markers\", \"y\": [1.5], \"x\": [0.20000000298023224], \"z\": [-0.5], \"type\": \"scatter3d\"}, {\"marker\": {\"color\": \"#48186a\", \"size\": 10}, \"mode\": \"markers\", \"y\": [0], \"x\": [0], \"z\": [0], \"type\": \"scatter3d\"}, {\"mode\": \"lines\", \"y\": [0, 4.69661], \"x\": [0, -0.497998], \"line\": {\"color\": \"rgb(20, 0, 145)\", \"width\": 2}, \"z\": [0, -1.6412950000000002], \"type\": \"scatter3d\"}, {\"marker\": {\"color\": \"rgb(0,144,144)\", \"size\": 5}, \"mode\": \"markers\", \"y\": [1.5], \"x\": [0.20000000298023224], \"z\": [-0.5], \"type\": \"scatter3d\"}, {\"marker\": {\"color\": \"#48186a\", \"size\": 10}, \"mode\": \"markers\", \"y\": [0], \"x\": [0], \"z\": [0], \"type\": \"scatter3d\"}, {\"mode\": \"lines\", \"y\": [0, 4.697535], \"x\": [0, -0.494118], \"line\": {\"color\": \"rgb(20, 0, 145)\", \"width\": 2}, \"z\": [0, -1.639825], \"type\": \"scatter3d\"}, {\"marker\": {\"color\": \"rgb(0,144,144)\", \"size\": 5}, \"mode\": \"markers\", \"y\": [1.5], \"x\": [0.20000000298023224], \"z\": [-0.5], \"type\": \"scatter3d\"}, {\"marker\": {\"color\": \"#48186a\", \"size\": 10}, \"mode\": \"markers\", \"y\": [0], \"x\": [0], \"z\": [0], \"type\": \"scatter3d\"}, {\"mode\": \"lines\", \"y\": [0, 4.7033000000000005], \"x\": [0, -0.4889905], \"line\": {\"color\": \"rgb(20, 0, 145)\", \"width\": 2}, \"z\": [0, -1.624765], \"type\": \"scatter3d\"}, {\"marker\": {\"color\": \"rgb(0,144,144)\", \"size\": 5}, \"mode\": \"markers\", \"y\": [1.5], \"x\": [0.20000000298023224], \"z\": [-0.5], \"type\": \"scatter3d\"}, {\"marker\": {\"color\": \"#48186a\", \"size\": 10}, \"mode\": \"markers\", \"y\": [0], \"x\": [0], \"z\": [0], \"type\": \"scatter3d\"}, {\"mode\": \"lines\", \"y\": [0, 4.697785], \"x\": [0, -0.4951335], \"line\": {\"color\": \"rgb(20, 0, 145)\", \"width\": 2}, \"z\": [0, -1.6388], \"type\": \"scatter3d\"}, {\"marker\": {\"color\": \"rgb(0,144,144)\", \"size\": 5}, \"mode\": \"markers\", \"y\": [1.5], \"x\": [0.20000000298023224], \"z\": [-0.5], \"type\": \"scatter3d\"}, {\"marker\": {\"color\": \"#48186a\", \"size\": 10}, \"mode\": \"markers\", \"y\": [0], \"x\": [0], \"z\": [0], \"type\": \"scatter3d\"}, {\"mode\": \"lines\", \"y\": [0, 4.69867], \"x\": [0, -0.483542], \"line\": {\"color\": \"rgb(20, 0, 145)\", \"width\": 2}, \"z\": [0, -1.6397300000000001], \"type\": \"scatter3d\"}, {\"marker\": {\"color\": \"rgb(0,144,144)\", \"size\": 5}, \"mode\": \"markers\", \"y\": [1.5], \"x\": [0.20000000298023224], \"z\": [-0.5], \"type\": \"scatter3d\"}, {\"marker\": {\"color\": \"#48186a\", \"size\": 10}, \"mode\": \"markers\", \"y\": [0], \"x\": [0], \"z\": [0], \"type\": \"scatter3d\"}, {\"mode\": \"lines\", \"y\": [0, 4.702395], \"x\": [0, -0.48934199999999994], \"line\": {\"color\": \"rgb(20, 0, 145)\", \"width\": 2}, \"z\": [0, -1.627275], \"type\": \"scatter3d\"}, {\"marker\": {\"color\": \"rgb(0,144,144)\", \"size\": 5}, \"mode\": \"markers\", \"y\": [1.5], \"x\": [0.20000000298023224], \"z\": [-0.5], \"type\": \"scatter3d\"}, {\"marker\": {\"color\": \"#48186a\", \"size\": 10}, \"mode\": \"markers\", \"y\": [0], \"x\": [0], \"z\": [0], \"type\": \"scatter3d\"}, {\"mode\": \"lines\", \"y\": [0, 4.702395], \"x\": [0, -0.48934199999999994], \"line\": {\"color\": \"rgb(20, 0, 145)\", \"width\": 2}, \"z\": [0, -1.627275], \"type\": \"scatter3d\"}, {\"marker\": {\"color\": \"rgb(0,144,144)\", \"size\": 5}, \"mode\": \"markers\", \"y\": [1.5], \"x\": [0.20000000298023224], \"z\": [-0.5], \"type\": \"scatter3d\"}, {\"marker\": {\"color\": \"#48186a\", \"size\": 10}, \"mode\": \"markers\", \"y\": [0], \"x\": [0], \"z\": [0], \"type\": \"scatter3d\"}, {\"mode\": \"lines\", \"y\": [0, 4.700315], \"x\": [0, -0.4702095], \"line\": {\"color\": \"rgb(20, 0, 145)\", \"width\": 2}, \"z\": [0, -1.63889], \"type\": \"scatter3d\"}, {\"marker\": {\"color\": \"rgb(0,144,144)\", \"size\": 5}, \"mode\": \"markers\", \"y\": [1.5], \"x\": [0.20000000298023224], \"z\": [-0.5], \"type\": \"scatter3d\"}, {\"marker\": {\"color\": \"#48186a\", \"size\": 10}, \"mode\": \"markers\", \"y\": [0], \"x\": [0], \"z\": [0], \"type\": \"scatter3d\"}, {\"mode\": \"lines\", \"y\": [0, 4.699685000000001], \"x\": [0, -0.4519675], \"line\": {\"color\": \"rgb(20, 0, 145)\", \"width\": 2}, \"z\": [0, -1.645805], \"type\": \"scatter3d\"}, {\"marker\": {\"color\": \"rgb(0,144,144)\", \"size\": 5}, \"mode\": \"markers\", \"y\": [1.5], \"x\": [0.20000000298023224], \"z\": [-0.5], \"type\": \"scatter3d\"}, {\"marker\": {\"color\": \"#48186a\", \"size\": 10}, \"mode\": \"markers\", \"y\": [0], \"x\": [0], \"z\": [0], \"type\": \"scatter3d\"}, {\"mode\": \"lines\", \"y\": [0, 4.69727], \"x\": [0, -0.43221299999999996], \"line\": {\"color\": \"rgb(20, 0, 145)\", \"width\": 2}, \"z\": [0, -1.65797], \"type\": \"scatter3d\"}, {\"marker\": {\"color\": \"rgb(0,144,144)\", \"size\": 5}, \"mode\": \"markers\", \"y\": [1.5], \"x\": [0.20000000298023224], \"z\": [-0.5], \"type\": \"scatter3d\"}, {\"marker\": {\"color\": \"#48186a\", \"size\": 10}, \"mode\": \"markers\", \"y\": [0], \"x\": [0], \"z\": [0], \"type\": \"scatter3d\"}, {\"mode\": \"lines\", \"y\": [0, 4.704215], \"x\": [0, -0.45486899999999997], \"line\": {\"color\": \"rgb(20, 0, 145)\", \"width\": 2}, \"z\": [0, -1.6320000000000001], \"type\": \"scatter3d\"}, {\"marker\": {\"color\": \"rgb(0,144,144)\", \"size\": 5}, \"mode\": \"markers\", \"y\": [1.5], \"x\": [0.20000000298023224], \"z\": [-0.5], \"type\": \"scatter3d\"}, {\"marker\": {\"color\": \"#48186a\", \"size\": 10}, \"mode\": \"markers\", \"y\": [0], \"x\": [0], \"z\": [0], \"type\": \"scatter3d\"}, {\"mode\": \"lines\", \"y\": [0, 4.69748], \"x\": [0, -0.44242200000000004], \"line\": {\"color\": \"rgb(20, 0, 145)\", \"width\": 2}, \"z\": [0, -1.65467], \"type\": \"scatter3d\"}, {\"marker\": {\"color\": \"rgb(0,144,144)\", \"size\": 5}, \"mode\": \"markers\", \"y\": [1.5], \"x\": [0.20000000298023224], \"z\": [-0.5], \"type\": \"scatter3d\"}, {\"marker\": {\"color\": \"#48186a\", \"size\": 10}, \"mode\": \"markers\", \"y\": [0], \"x\": [0], \"z\": [0], \"type\": \"scatter3d\"}, {\"mode\": \"lines\", \"y\": [0, 4.69748], \"x\": [0, -0.44242200000000004], \"line\": {\"color\": \"rgb(20, 0, 145)\", \"width\": 2}, \"z\": [0, -1.65467], \"type\": \"scatter3d\"}, {\"marker\": {\"color\": \"rgb(0,144,144)\", \"size\": 5}, \"mode\": \"markers\", \"y\": [1.5], \"x\": [0.20000000298023224], \"z\": [-0.5], \"type\": \"scatter3d\"}, {\"marker\": {\"color\": \"#48186a\", \"size\": 10}, \"mode\": \"markers\", \"y\": [0], \"x\": [0], \"z\": [0], \"type\": \"scatter3d\"}, {\"mode\": \"lines\", \"y\": [0, 4.706835], \"x\": [0, -0.45238849999999997], \"line\": {\"color\": \"rgb(20, 0, 145)\", \"width\": 2}, \"z\": [0, -1.62513], \"type\": \"scatter3d\"}, {\"marker\": {\"color\": \"rgb(0,144,144)\", \"size\": 5}, \"mode\": \"markers\", \"y\": [1.5], \"x\": [0.20000000298023224], \"z\": [-0.5], \"type\": \"scatter3d\"}, {\"marker\": {\"color\": \"#48186a\", \"size\": 10}, \"mode\": \"markers\", \"y\": [0], \"x\": [0], \"z\": [0], \"type\": \"scatter3d\"}, {\"mode\": \"lines\", \"y\": [0, 4.70574], \"x\": [0, -0.4331775], \"line\": {\"color\": \"rgb(20, 0, 145)\", \"width\": 2}, \"z\": [0, -1.633515], \"type\": \"scatter3d\"}, {\"marker\": {\"color\": \"rgb(0,144,144)\", \"size\": 5}, \"mode\": \"markers\", \"y\": [1.5], \"x\": [0.20000000298023224], \"z\": [-0.5], \"type\": \"scatter3d\"}, {\"marker\": {\"color\": \"#48186a\", \"size\": 10}, \"mode\": \"markers\", \"y\": [0], \"x\": [0], \"z\": [0], \"type\": \"scatter3d\"}, {\"mode\": \"lines\", \"y\": [0, 4.706799999999999], \"x\": [0, -0.45024300000000006], \"line\": {\"color\": \"rgb(20, 0, 145)\", \"width\": 2}, \"z\": [0, -1.62582], \"type\": \"scatter3d\"}, {\"marker\": {\"color\": \"rgb(0,144,144)\", \"size\": 5}, \"mode\": \"markers\", \"y\": [1.5], \"x\": [0.20000000298023224], \"z\": [-0.5], \"type\": \"scatter3d\"}, {\"marker\": {\"color\": \"#48186a\", \"size\": 10}, \"mode\": \"markers\", \"y\": [0], \"x\": [0], \"z\": [0], \"type\": \"scatter3d\"}, {\"mode\": \"lines\", \"y\": [0, 4.706799999999999], \"x\": [0, -0.45024300000000006], \"line\": {\"color\": \"rgb(20, 0, 145)\", \"width\": 2}, \"z\": [0, -1.62582], \"type\": \"scatter3d\"}, {\"marker\": {\"color\": \"rgb(0,144,144)\", \"size\": 5}, \"mode\": \"markers\", \"y\": [1.5], \"x\": [0.20000000298023224], \"z\": [-0.5], \"type\": \"scatter3d\"}, {\"marker\": {\"color\": \"#48186a\", \"size\": 10}, \"mode\": \"markers\", \"y\": [0], \"x\": [0], \"z\": [0], \"type\": \"scatter3d\"}, {\"mode\": \"lines\", \"y\": [0, 4.70705], \"x\": [0, -0.4414545], \"line\": {\"color\": \"rgb(20, 0, 145)\", \"width\": 2}, \"z\": [0, -1.62751], \"type\": \"scatter3d\"}, {\"marker\": {\"color\": \"rgb(0,144,144)\", \"size\": 5}, \"mode\": \"markers\", \"y\": [1.5], \"x\": [0.20000000298023224], \"z\": [-0.5], \"type\": \"scatter3d\"}, {\"marker\": {\"color\": \"#48186a\", \"size\": 10}, \"mode\": \"markers\", \"y\": [0], \"x\": [0], \"z\": [0], \"type\": \"scatter3d\"}, {\"mode\": \"lines\", \"y\": [0, 4.70302], \"x\": [0, -0.4338385], \"line\": {\"color\": \"rgb(20, 0, 145)\", \"width\": 2}, \"z\": [0, -1.641155], \"type\": \"scatter3d\"}, {\"marker\": {\"color\": \"rgb(0,144,144)\", \"size\": 5}, \"mode\": \"markers\", \"y\": [1.5], \"x\": [0.20000000298023224], \"z\": [-0.5], \"type\": \"scatter3d\"}, {\"marker\": {\"color\": \"#48186a\", \"size\": 10}, \"mode\": \"markers\", \"y\": [0], \"x\": [0], \"z\": [0], \"type\": \"scatter3d\"}, {\"mode\": \"lines\", \"y\": [0, 4.700315], \"x\": [0, -0.445621], \"line\": {\"color\": \"rgb(20, 0, 145)\", \"width\": 2}, \"z\": [0, -1.64574], \"type\": \"scatter3d\"}, {\"marker\": {\"color\": \"rgb(0,144,144)\", \"size\": 5}, \"mode\": \"markers\", \"y\": [1.5], \"x\": [0.20000000298023224], \"z\": [-0.5], \"type\": \"scatter3d\"}, {\"marker\": {\"color\": \"#48186a\", \"size\": 10}, \"mode\": \"markers\", \"y\": [0], \"x\": [0], \"z\": [0], \"type\": \"scatter3d\"}, {\"mode\": \"lines\", \"y\": [0, 4.699455], \"x\": [0, -0.42423049999999995], \"line\": {\"color\": \"rgb(20, 0, 145)\", \"width\": 2}, \"z\": [0, -1.6538300000000001], \"type\": \"scatter3d\"}, {\"marker\": {\"color\": \"rgb(0,144,144)\", \"size\": 5}, \"mode\": \"markers\", \"y\": [1.5], \"x\": [0.20000000298023224], \"z\": [-0.5], \"type\": \"scatter3d\"}, {\"marker\": {\"color\": \"#48186a\", \"size\": 10}, \"mode\": \"markers\", \"y\": [0], \"x\": [0], \"z\": [0], \"type\": \"scatter3d\"}, {\"mode\": \"lines\", \"y\": [0, 4.708515], \"x\": [0, -0.464534], \"line\": {\"color\": \"rgb(20, 0, 145)\", \"width\": 2}, \"z\": [0, -1.616825], \"type\": \"scatter3d\"}, {\"marker\": {\"color\": \"rgb(0,144,144)\", \"size\": 5}, \"mode\": \"markers\", \"y\": [1.5], \"x\": [0.20000000298023224], \"z\": [-0.5], \"type\": \"scatter3d\"}, {\"marker\": {\"color\": \"#48186a\", \"size\": 10}, \"mode\": \"markers\", \"y\": [0], \"x\": [0], \"z\": [0], \"type\": \"scatter3d\"}, {\"mode\": \"lines\", \"y\": [0, 4.708515], \"x\": [0, -0.464534], \"line\": {\"color\": \"rgb(20, 0, 145)\", \"width\": 2}, \"z\": [0, -1.616825], \"type\": \"scatter3d\"}, {\"marker\": {\"color\": \"rgb(0,144,144)\", \"size\": 5}, \"mode\": \"markers\", \"y\": [1.5], \"x\": [0.20000000298023224], \"z\": [-0.5], \"type\": \"scatter3d\"}, {\"marker\": {\"color\": \"#48186a\", \"size\": 10}, \"mode\": \"markers\", \"y\": [0], \"x\": [0], \"z\": [0], \"type\": \"scatter3d\"}, {\"mode\": \"lines\", \"y\": [0, 4.70782], \"x\": [0, -0.4398245], \"line\": {\"color\": \"rgb(20, 0, 145)\", \"width\": 2}, \"z\": [0, -1.6257199999999998], \"type\": \"scatter3d\"}, {\"marker\": {\"color\": \"rgb(0,144,144)\", \"size\": 5}, \"mode\": \"markers\", \"y\": [1.5], \"x\": [0.20000000298023224], \"z\": [-0.5], \"type\": \"scatter3d\"}, {\"marker\": {\"color\": \"#48186a\", \"size\": 10}, \"mode\": \"markers\", \"y\": [0], \"x\": [0], \"z\": [0], \"type\": \"scatter3d\"}, {\"mode\": \"lines\", \"y\": [0, 4.7104099999999995], \"x\": [0, -0.4439365], \"line\": {\"color\": \"rgb(20, 0, 145)\", \"width\": 2}, \"z\": [0, -1.617085], \"type\": \"scatter3d\"}, {\"marker\": {\"color\": \"rgb(0,144,144)\", \"size\": 5}, \"mode\": \"markers\", \"y\": [1.5], \"x\": [0.20000000298023224], \"z\": [-0.5], \"type\": \"scatter3d\"}, {\"marker\": {\"color\": \"#48186a\", \"size\": 10}, \"mode\": \"markers\", \"y\": [0], \"x\": [0], \"z\": [0], \"type\": \"scatter3d\"}, {\"mode\": \"lines\", \"y\": [0, 4.706365], \"x\": [0, -0.42736700000000005], \"line\": {\"color\": \"rgb(20, 0, 145)\", \"width\": 2}, \"z\": [0, -1.633245], \"type\": \"scatter3d\"}, {\"marker\": {\"color\": \"rgb(0,144,144)\", \"size\": 5}, \"mode\": \"markers\", \"y\": [1.5], \"x\": [0.20000000298023224], \"z\": [-0.5], \"type\": \"scatter3d\"}, {\"marker\": {\"color\": \"#48186a\", \"size\": 10}, \"mode\": \"markers\", \"y\": [0], \"x\": [0], \"z\": [0], \"type\": \"scatter3d\"}, {\"mode\": \"lines\", \"y\": [0, 4.701965], \"x\": [0, -0.4357915], \"line\": {\"color\": \"rgb(20, 0, 145)\", \"width\": 2}, \"z\": [0, -1.643665], \"type\": \"scatter3d\"}, {\"marker\": {\"color\": \"rgb(0,144,144)\", \"size\": 5}, \"mode\": \"markers\", \"y\": [1.5], \"x\": [0.20000000298023224], \"z\": [-0.5], \"type\": \"scatter3d\"}, {\"marker\": {\"color\": \"#48186a\", \"size\": 10}, \"mode\": \"markers\", \"y\": [0], \"x\": [0], \"z\": [0], \"type\": \"scatter3d\"}, {\"mode\": \"lines\", \"y\": [0, 4.701965], \"x\": [0, -0.4357915], \"line\": {\"color\": \"rgb(20, 0, 145)\", \"width\": 2}, \"z\": [0, -1.643665], \"type\": \"scatter3d\"}, {\"marker\": {\"color\": \"rgb(0,144,144)\", \"size\": 5}, \"mode\": \"markers\", \"y\": [1.5], \"x\": [0.20000000298023224], \"z\": [-0.5], \"type\": \"scatter3d\"}, {\"marker\": {\"color\": \"#48186a\", \"size\": 10}, \"mode\": \"markers\", \"y\": [0], \"x\": [0], \"z\": [0], \"type\": \"scatter3d\"}, {\"mode\": \"lines\", \"y\": [0, 4.70217], \"x\": [0, -0.44418], \"line\": {\"color\": \"rgb(20, 0, 145)\", \"width\": 2}, \"z\": [0, -1.640815], \"type\": \"scatter3d\"}, {\"marker\": {\"color\": \"rgb(0,144,144)\", \"size\": 5}, \"mode\": \"markers\", \"y\": [1.5], \"x\": [0.20000000298023224], \"z\": [-0.5], \"type\": \"scatter3d\"}, {\"marker\": {\"color\": \"#48186a\", \"size\": 10}, \"mode\": \"markers\", \"y\": [0], \"x\": [0], \"z\": [0], \"type\": \"scatter3d\"}, {\"mode\": \"lines\", \"y\": [0, 4.7019850000000005], \"x\": [0, -0.42081399999999997], \"line\": {\"color\": \"rgb(20, 0, 145)\", \"width\": 2}, \"z\": [0, -1.647505], \"type\": \"scatter3d\"}, {\"marker\": {\"color\": \"rgb(0,144,144)\", \"size\": 5}, \"mode\": \"markers\", \"y\": [1.5], \"x\": [0.20000000298023224], \"z\": [-0.5], \"type\": \"scatter3d\"}, {\"marker\": {\"color\": \"#48186a\", \"size\": 10}, \"mode\": \"markers\", \"y\": [0], \"x\": [0], \"z\": [0], \"type\": \"scatter3d\"}, {\"mode\": \"lines\", \"y\": [0, 4.70526], \"x\": [0, -0.45813149999999997], \"line\": {\"color\": \"rgb(20, 0, 145)\", \"width\": 2}, \"z\": [0, -1.628085], \"type\": \"scatter3d\"}, {\"marker\": {\"color\": \"rgb(0,144,144)\", \"size\": 5}, \"mode\": \"markers\", \"y\": [1.5], \"x\": [0.20000000298023224], \"z\": [-0.5], \"type\": \"scatter3d\"}, {\"marker\": {\"color\": \"#48186a\", \"size\": 10}, \"mode\": \"markers\", \"y\": [0], \"x\": [0], \"z\": [0], \"type\": \"scatter3d\"}, {\"mode\": \"lines\", \"y\": [0, 4.703535], \"x\": [0, -0.4364565], \"line\": {\"color\": \"rgb(20, 0, 145)\", \"width\": 2}, \"z\": [0, -1.638975], \"type\": \"scatter3d\"}, {\"marker\": {\"color\": \"rgb(0,144,144)\", \"size\": 5}, \"mode\": \"markers\", \"y\": [1.5], \"x\": [0.20000000298023224], \"z\": [-0.5], \"type\": \"scatter3d\"}, {\"marker\": {\"color\": \"#48186a\", \"size\": 10}, \"mode\": \"markers\", \"y\": [0], \"x\": [0], \"z\": [0], \"type\": \"scatter3d\"}, {\"mode\": \"lines\", \"y\": [0, 4.703535], \"x\": [0, -0.4364565], \"line\": {\"color\": \"rgb(20, 0, 145)\", \"width\": 2}, \"z\": [0, -1.638975], \"type\": \"scatter3d\"}, {\"marker\": {\"color\": \"rgb(0,144,144)\", \"size\": 5}, \"mode\": \"markers\", \"y\": [1.5], \"x\": [0.20000000298023224], \"z\": [-0.5], \"type\": \"scatter3d\"}, {\"marker\": {\"color\": \"#48186a\", \"size\": 10}, \"mode\": \"markers\", \"y\": [0], \"x\": [0], \"z\": [0], \"type\": \"scatter3d\"}, {\"mode\": \"lines\", \"y\": [0, 4.706685], \"x\": [0, -0.4459605], \"line\": {\"color\": \"rgb(20, 0, 145)\", \"width\": 2}, \"z\": [0, -1.627335], \"type\": \"scatter3d\"}, {\"marker\": {\"color\": \"rgb(0,144,144)\", \"size\": 5}, \"mode\": \"markers\", \"y\": [1.5], \"x\": [0.20000000298023224], \"z\": [-0.5], \"type\": \"scatter3d\"}, {\"marker\": {\"color\": \"#48186a\", \"size\": 10}, \"mode\": \"markers\", \"y\": [0], \"x\": [0], \"z\": [0], \"type\": \"scatter3d\"}, {\"mode\": \"lines\", \"y\": [0, 4.70323], \"x\": [0, -0.444261], \"line\": {\"color\": \"rgb(20, 0, 145)\", \"width\": 2}, \"z\": [0, -1.637765], \"type\": \"scatter3d\"}, {\"marker\": {\"color\": \"rgb(0,144,144)\", \"size\": 5}, \"mode\": \"markers\", \"y\": [1.5], \"x\": [0.20000000298023224], \"z\": [-0.5], \"type\": \"scatter3d\"}, {\"marker\": {\"color\": \"#48186a\", \"size\": 10}, \"mode\": \"markers\", \"y\": [0], \"x\": [0], \"z\": [0], \"type\": \"scatter3d\"}, {\"mode\": \"lines\", \"y\": [0, 4.70492], \"x\": [0, -0.431257], \"line\": {\"color\": \"rgb(20, 0, 145)\", \"width\": 2}, \"z\": [0, -1.636375], \"type\": \"scatter3d\"}, {\"marker\": {\"color\": \"rgb(0,144,144)\", \"size\": 5}, \"mode\": \"markers\", \"y\": [1.5], \"x\": [0.20000000298023224], \"z\": [-0.5], \"type\": \"scatter3d\"}, {\"marker\": {\"color\": \"#48186a\", \"size\": 10}, \"mode\": \"markers\", \"y\": [0], \"x\": [0], \"z\": [0], \"type\": \"scatter3d\"}, {\"mode\": \"lines\", \"y\": [0, 4.708645000000001], \"x\": [0, -0.459742], \"line\": {\"color\": \"rgb(20, 0, 145)\", \"width\": 2}, \"z\": [0, -1.617805], \"type\": \"scatter3d\"}, {\"marker\": {\"color\": \"rgb(0,144,144)\", \"size\": 5}, \"mode\": \"markers\", \"y\": [1.5], \"x\": [0.20000000298023224], \"z\": [-0.5], \"type\": \"scatter3d\"}, {\"marker\": {\"color\": \"#48186a\", \"size\": 10}, \"mode\": \"markers\", \"y\": [0], \"x\": [0], \"z\": [0], \"type\": \"scatter3d\"}, {\"mode\": \"lines\", \"y\": [0, 4.708645000000001], \"x\": [0, -0.459742], \"line\": {\"color\": \"rgb(20, 0, 145)\", \"width\": 2}, \"z\": [0, -1.617805], \"type\": \"scatter3d\"}, {\"marker\": {\"color\": \"rgb(0,144,144)\", \"size\": 5}, \"mode\": \"markers\", \"y\": [1.5], \"x\": [0.20000000298023224], \"z\": [-0.5], \"type\": \"scatter3d\"}, {\"marker\": {\"color\": \"#48186a\", \"size\": 10}, \"mode\": \"markers\", \"y\": [0], \"x\": [0], \"z\": [0], \"type\": \"scatter3d\"}, {\"mode\": \"lines\", \"y\": [0, 4.702815], \"x\": [0, -0.43469099999999994], \"line\": {\"color\": \"rgb(20, 0, 145)\", \"width\": 2}, \"z\": [0, -1.6415199999999999], \"type\": \"scatter3d\"}, {\"marker\": {\"color\": \"rgb(0,144,144)\", \"size\": 5}, \"mode\": \"markers\", \"y\": [1.5], \"x\": [0.20000000298023224], \"z\": [-0.5], \"type\": \"scatter3d\"}, {\"marker\": {\"color\": \"#48186a\", \"size\": 10}, \"mode\": \"markers\", \"y\": [0], \"x\": [0], \"z\": [0], \"type\": \"scatter3d\"}, {\"mode\": \"lines\", \"y\": [0, 4.7067], \"x\": [0, -0.4423915], \"line\": {\"color\": \"rgb(20, 0, 145)\", \"width\": 2}, \"z\": [0, -1.62827], \"type\": \"scatter3d\"}, {\"marker\": {\"color\": \"rgb(0,144,144)\", \"size\": 5}, \"mode\": \"markers\", \"y\": [1.5], \"x\": [0.20000000298023224], \"z\": [-0.5], \"type\": \"scatter3d\"}, {\"marker\": {\"color\": \"#48186a\", \"size\": 10}, \"mode\": \"markers\", \"y\": [0], \"x\": [0], \"z\": [0], \"type\": \"scatter3d\"}, {\"mode\": \"lines\", \"y\": [0, 4.701935], \"x\": [0, -0.44569650000000005], \"line\": {\"color\": \"rgb(20, 0, 145)\", \"width\": 2}, \"z\": [0, -1.641085], \"type\": \"scatter3d\"}, {\"marker\": {\"color\": \"rgb(0,144,144)\", \"size\": 5}, \"mode\": \"markers\", \"y\": [1.5], \"x\": [0.20000000298023224], \"z\": [-0.5], \"type\": \"scatter3d\"}, {\"marker\": {\"color\": \"#48186a\", \"size\": 10}, \"mode\": \"markers\", \"y\": [0], \"x\": [0], \"z\": [0], \"type\": \"scatter3d\"}, {\"mode\": \"lines\", \"y\": [0, 4.710134999999999], \"x\": [0, -0.45415099999999997], \"line\": {\"color\": \"rgb(20, 0, 145)\", \"width\": 2}, \"z\": [0, -1.61505], \"type\": \"scatter3d\"}, {\"marker\": {\"color\": \"rgb(0,144,144)\", \"size\": 5}, \"mode\": \"markers\", \"y\": [1.5], \"x\": [0.20000000298023224], \"z\": [-0.5], \"type\": \"scatter3d\"}, {\"marker\": {\"color\": \"#48186a\", \"size\": 10}, \"mode\": \"markers\", \"y\": [0], \"x\": [0], \"z\": [0], \"type\": \"scatter3d\"}, {\"mode\": \"lines\", \"y\": [0, 4.710134999999999], \"x\": [0, -0.45415099999999997], \"line\": {\"color\": \"rgb(20, 0, 145)\", \"width\": 2}, \"z\": [0, -1.61505], \"type\": \"scatter3d\"}, {\"marker\": {\"color\": \"rgb(0,144,144)\", \"size\": 5}, \"mode\": \"markers\", \"y\": [1.5], \"x\": [0.20000000298023224], \"z\": [-0.5], \"type\": \"scatter3d\"}, {\"marker\": {\"color\": \"#48186a\", \"size\": 10}, \"mode\": \"markers\", \"y\": [0], \"x\": [0], \"z\": [0], \"type\": \"scatter3d\"}, {\"mode\": \"lines\", \"y\": [0, 4.70249], \"x\": [0, -0.46000399999999997], \"line\": {\"color\": \"rgb(20, 0, 145)\", \"width\": 2}, \"z\": [0, -1.63554], \"type\": \"scatter3d\"}, {\"marker\": {\"color\": \"rgb(0,144,144)\", \"size\": 5}, \"mode\": \"markers\", \"y\": [1.5], \"x\": [0.20000000298023224], \"z\": [-0.5], \"type\": \"scatter3d\"}, {\"marker\": {\"color\": \"#48186a\", \"size\": 10}, \"mode\": \"markers\", \"y\": [0], \"x\": [0], \"z\": [0], \"type\": \"scatter3d\"}, {\"mode\": \"lines\", \"y\": [0, 4.697835], \"x\": [0, -0.4263965], \"line\": {\"color\": \"rgb(20, 0, 145)\", \"width\": 2}, \"z\": [0, -1.657875], \"type\": \"scatter3d\"}, {\"marker\": {\"color\": \"rgb(0,144,144)\", \"size\": 5}, \"mode\": \"markers\", \"y\": [1.5], \"x\": [0.20000000298023224], \"z\": [-0.5], \"type\": \"scatter3d\"}, {\"marker\": {\"color\": \"#48186a\", \"size\": 10}, \"mode\": \"markers\", \"y\": [0], \"x\": [0], \"z\": [0], \"type\": \"scatter3d\"}, {\"mode\": \"lines\", \"y\": [0, 4.699355], \"x\": [0, -0.4649905], \"line\": {\"color\": \"rgb(20, 0, 145)\", \"width\": 2}, \"z\": [0, -1.643125], \"type\": \"scatter3d\"}, {\"marker\": {\"color\": \"rgb(0,144,144)\", \"size\": 5}, \"mode\": \"markers\", \"y\": [1.5], \"x\": [0.20000000298023224], \"z\": [-0.5], \"type\": \"scatter3d\"}, {\"marker\": {\"color\": \"#48186a\", \"size\": 10}, \"mode\": \"markers\", \"y\": [0], \"x\": [0], \"z\": [0], \"type\": \"scatter3d\"}, {\"mode\": \"lines\", \"y\": [0, 4.700045], \"x\": [0, -0.4316965], \"line\": {\"color\": \"rgb(20, 0, 145)\", \"width\": 2}, \"z\": [0, -1.6502149999999998], \"type\": \"scatter3d\"}, {\"marker\": {\"color\": \"rgb(0,144,144)\", \"size\": 5}, \"mode\": \"markers\", \"y\": [1.5], \"x\": [0.20000000298023224], \"z\": [-0.5], \"type\": \"scatter3d\"}, {\"marker\": {\"color\": \"#48186a\", \"size\": 10}, \"mode\": \"markers\", \"y\": [0], \"x\": [0], \"z\": [0], \"type\": \"scatter3d\"}, {\"mode\": \"lines\", \"y\": [0, 4.700045], \"x\": [0, -0.4316965], \"line\": {\"color\": \"rgb(20, 0, 145)\", \"width\": 2}, \"z\": [0, -1.6502149999999998], \"type\": \"scatter3d\"}, {\"marker\": {\"color\": \"rgb(0,144,144)\", \"size\": 5}, \"mode\": \"markers\", \"y\": [1.5], \"x\": [0.20000000298023224], \"z\": [-0.5], \"type\": \"scatter3d\"}, {\"marker\": {\"color\": \"#48186a\", \"size\": 10}, \"mode\": \"markers\", \"y\": [0], \"x\": [0], \"z\": [0], \"type\": \"scatter3d\"}, {\"mode\": \"lines\", \"y\": [0, 4.70314], \"x\": [0, -0.4542215], \"line\": {\"color\": \"rgb(20, 0, 145)\", \"width\": 2}, \"z\": [0, -1.63528], \"type\": \"scatter3d\"}, {\"marker\": {\"color\": \"rgb(0,144,144)\", \"size\": 5}, \"mode\": \"markers\", \"y\": [1.5], \"x\": [0.20000000298023224], \"z\": [-0.5], \"type\": \"scatter3d\"}, {\"marker\": {\"color\": \"#48186a\", \"size\": 10}, \"mode\": \"markers\", \"y\": [0], \"x\": [0], \"z\": [0], \"type\": \"scatter3d\"}, {\"mode\": \"lines\", \"y\": [0, 4.702705], \"x\": [0, -0.438744], \"line\": {\"color\": \"rgb(20, 0, 145)\", \"width\": 2}, \"z\": [0, -1.64075], \"type\": \"scatter3d\"}, {\"marker\": {\"color\": \"rgb(0,144,144)\", \"size\": 5}, \"mode\": \"markers\", \"y\": [1.5], \"x\": [0.20000000298023224], \"z\": [-0.5], \"type\": \"scatter3d\"}, {\"marker\": {\"color\": \"#48186a\", \"size\": 10}, \"mode\": \"markers\", \"y\": [0], \"x\": [0], \"z\": [0], \"type\": \"scatter3d\"}, {\"mode\": \"lines\", \"y\": [0, 4.704805], \"x\": [0, -0.44863949999999997], \"line\": {\"color\": \"rgb(20, 0, 145)\", \"width\": 2}, \"z\": [0, -1.6320350000000001], \"type\": \"scatter3d\"}, {\"marker\": {\"color\": \"rgb(0,144,144)\", \"size\": 5}, \"mode\": \"markers\", \"y\": [1.5], \"x\": [0.20000000298023224], \"z\": [-0.5], \"type\": \"scatter3d\"}, {\"marker\": {\"color\": \"#48186a\", \"size\": 10}, \"mode\": \"markers\", \"y\": [0], \"x\": [0], \"z\": [0], \"type\": \"scatter3d\"}, {\"mode\": \"lines\", \"y\": [0, 4.7026200000000005], \"x\": [0, -0.4544315], \"line\": {\"color\": \"rgb(20, 0, 145)\", \"width\": 2}, \"z\": [0, -1.63673], \"type\": \"scatter3d\"}, {\"marker\": {\"color\": \"rgb(0,144,144)\", \"size\": 5}, \"mode\": \"markers\", \"y\": [1.5], \"x\": [0.20000000298023224], \"z\": [-0.5], \"type\": \"scatter3d\"}, {\"marker\": {\"color\": \"#48186a\", \"size\": 10}, \"mode\": \"markers\", \"y\": [0], \"x\": [0], \"z\": [0], \"type\": \"scatter3d\"}, {\"mode\": \"lines\", \"y\": [0, 4.7026200000000005], \"x\": [0, -0.4544315], \"line\": {\"color\": \"rgb(20, 0, 145)\", \"width\": 2}, \"z\": [0, -1.63673], \"type\": \"scatter3d\"}, {\"marker\": {\"color\": \"rgb(0,144,144)\", \"size\": 5}, \"mode\": \"markers\", \"y\": [1.5], \"x\": [0.20000000298023224], \"z\": [-0.5], \"type\": \"scatter3d\"}, {\"marker\": {\"color\": \"#48186a\", \"size\": 10}, \"mode\": \"markers\", \"y\": [0], \"x\": [0], \"z\": [0], \"type\": \"scatter3d\"}, {\"mode\": \"lines\", \"y\": [0, 4.70414], \"x\": [0, -0.4436855], \"line\": {\"color\": \"rgb(20, 0, 145)\", \"width\": 2}, \"z\": [0, -1.63531], \"type\": \"scatter3d\"}, {\"marker\": {\"color\": \"rgb(0,144,144)\", \"size\": 5}, \"mode\": \"markers\", \"y\": [1.5], \"x\": [0.20000000298023224], \"z\": [-0.5], \"type\": \"scatter3d\"}, {\"marker\": {\"color\": \"#48186a\", \"size\": 10}, \"mode\": \"markers\", \"y\": [0], \"x\": [0], \"z\": [0], \"type\": \"scatter3d\"}, {\"mode\": \"lines\", \"y\": [0, 4.70268], \"x\": [0, -0.45750199999999996], \"line\": {\"color\": \"rgb(20, 0, 145)\", \"width\": 2}, \"z\": [0, -1.6356899999999999], \"type\": \"scatter3d\"}, {\"marker\": {\"color\": \"rgb(0,144,144)\", \"size\": 5}, \"mode\": \"markers\", \"y\": [1.5], \"x\": [0.20000000298023224], \"z\": [-0.5], \"type\": \"scatter3d\"}, {\"marker\": {\"color\": \"#48186a\", \"size\": 10}, \"mode\": \"markers\", \"y\": [0], \"x\": [0], \"z\": [0], \"type\": \"scatter3d\"}, {\"mode\": \"lines\", \"y\": [0, 4.7052], \"x\": [0, -0.453501], \"line\": {\"color\": \"rgb(20, 0, 145)\", \"width\": 2}, \"z\": [0, -1.629545], \"type\": \"scatter3d\"}, {\"marker\": {\"color\": \"rgb(0,144,144)\", \"size\": 5}, \"mode\": \"markers\", \"y\": [1.5], \"x\": [0.20000000298023224], \"z\": [-0.5], \"type\": \"scatter3d\"}, {\"marker\": {\"color\": \"#48186a\", \"size\": 10}, \"mode\": \"markers\", \"y\": [0], \"x\": [0], \"z\": [0], \"type\": \"scatter3d\"}, {\"mode\": \"lines\", \"y\": [0, 4.70811], \"x\": [0, -0.4617325], \"line\": {\"color\": \"rgb(20, 0, 145)\", \"width\": 2}, \"z\": [0, -1.6188], \"type\": \"scatter3d\"}, {\"marker\": {\"color\": \"rgb(0,144,144)\", \"size\": 5}, \"mode\": \"markers\", \"y\": [1.5], \"x\": [0.20000000298023224], \"z\": [-0.5], \"type\": \"scatter3d\"}, {\"marker\": {\"color\": \"#48186a\", \"size\": 10}, \"mode\": \"markers\", \"y\": [0], \"x\": [0], \"z\": [0], \"type\": \"scatter3d\"}, {\"mode\": \"lines\", \"y\": [0, 4.70811], \"x\": [0, -0.4617325], \"line\": {\"color\": \"rgb(20, 0, 145)\", \"width\": 2}, \"z\": [0, -1.6188], \"type\": \"scatter3d\"}, {\"marker\": {\"color\": \"rgb(0,144,144)\", \"size\": 5}, \"mode\": \"markers\", \"y\": [1.5], \"x\": [0.20000000298023224], \"z\": [-0.5], \"type\": \"scatter3d\"}, {\"marker\": {\"color\": \"#48186a\", \"size\": 10}, \"mode\": \"markers\", \"y\": [0], \"x\": [0], \"z\": [0], \"type\": \"scatter3d\"}, {\"mode\": \"lines\", \"y\": [0, 4.70538], \"x\": [0, -0.467247], \"line\": {\"color\": \"rgb(20, 0, 145)\", \"width\": 2}, \"z\": [0, -1.625145], \"type\": \"scatter3d\"}, {\"marker\": {\"color\": \"rgb(0,144,144)\", \"size\": 5}, \"mode\": \"markers\", \"y\": [1.5], \"x\": [0.20000000298023224], \"z\": [-0.5], \"type\": \"scatter3d\"}, {\"marker\": {\"color\": \"#48186a\", \"size\": 10}, \"mode\": \"markers\", \"y\": [0], \"x\": [0], \"z\": [0], \"type\": \"scatter3d\"}, {\"mode\": \"lines\", \"y\": [0, 4.706785], \"x\": [0, -0.459503], \"line\": {\"color\": \"rgb(20, 0, 145)\", \"width\": 2}, \"z\": [0, -1.6232849999999999], \"type\": \"scatter3d\"}, {\"marker\": {\"color\": \"rgb(0,144,144)\", \"size\": 5}, \"mode\": \"markers\", \"y\": [1.5], \"x\": [0.20000000298023224], \"z\": [-0.5], \"type\": \"scatter3d\"}, {\"marker\": {\"color\": \"#48186a\", \"size\": 10}, \"mode\": \"markers\", \"y\": [0], \"x\": [0], \"z\": [0], \"type\": \"scatter3d\"}, {\"mode\": \"lines\", \"y\": [0, 4.708115], \"x\": [0, -0.482789], \"line\": {\"color\": \"rgb(20, 0, 145)\", \"width\": 2}, \"z\": [0, -1.612635], \"type\": \"scatter3d\"}, {\"marker\": {\"color\": \"rgb(0,144,144)\", \"size\": 5}, \"mode\": \"markers\", \"y\": [1.5], \"x\": [0.20000000298023224], \"z\": [-0.5], \"type\": \"scatter3d\"}, {\"marker\": {\"color\": \"#48186a\", \"size\": 10}, \"mode\": \"markers\", \"y\": [0], \"x\": [0], \"z\": [0], \"type\": \"scatter3d\"}, {\"mode\": \"lines\", \"y\": [0, 4.70164], \"x\": [0, -0.45530800000000005], \"line\": {\"color\": \"rgb(20, 0, 145)\", \"width\": 2}, \"z\": [0, -1.639285], \"type\": \"scatter3d\"}, {\"marker\": {\"color\": \"rgb(0,144,144)\", \"size\": 5}, \"mode\": \"markers\", \"y\": [1.5], \"x\": [0.20000000298023224], \"z\": [-0.5], \"type\": \"scatter3d\"}, {\"marker\": {\"color\": \"#48186a\", \"size\": 10}, \"mode\": \"markers\", \"y\": [0], \"x\": [0], \"z\": [0], \"type\": \"scatter3d\"}, {\"mode\": \"lines\", \"y\": [0, 4.710335], \"x\": [0, -0.482654], \"line\": {\"color\": \"rgb(20, 0, 145)\", \"width\": 2}, \"z\": [0, -1.606175], \"type\": \"scatter3d\"}, {\"marker\": {\"color\": \"rgb(0,144,144)\", \"size\": 5}, \"mode\": \"markers\", \"y\": [1.5], \"x\": [0.20000000298023224], \"z\": [-0.5], \"type\": \"scatter3d\"}, {\"marker\": {\"color\": \"#48186a\", \"size\": 10}, \"mode\": \"markers\", \"y\": [0], \"x\": [0], \"z\": [0], \"type\": \"scatter3d\"}, {\"mode\": \"lines\", \"y\": [0, 4.710335], \"x\": [0, -0.482654], \"line\": {\"color\": \"rgb(20, 0, 145)\", \"width\": 2}, \"z\": [0, -1.606175], \"type\": \"scatter3d\"}, {\"marker\": {\"color\": \"rgb(0,144,144)\", \"size\": 5}, \"mode\": \"markers\", \"y\": [1.5], \"x\": [0.20000000298023224], \"z\": [-0.5], \"type\": \"scatter3d\"}, {\"marker\": {\"color\": \"#48186a\", \"size\": 10}, \"mode\": \"markers\", \"y\": [0], \"x\": [0], \"z\": [0], \"type\": \"scatter3d\"}, {\"mode\": \"lines\", \"y\": [0, 4.703315], \"x\": [0, -0.459377], \"line\": {\"color\": \"rgb(20, 0, 145)\", \"width\": 2}, \"z\": [0, -1.633335], \"type\": \"scatter3d\"}, {\"marker\": {\"color\": \"rgb(0,144,144)\", \"size\": 5}, \"mode\": \"markers\", \"y\": [1.5], \"x\": [0.20000000298023224], \"z\": [-0.5], \"type\": \"scatter3d\"}, {\"marker\": {\"color\": \"#48186a\", \"size\": 10}, \"mode\": \"markers\", \"y\": [0], \"x\": [0], \"z\": [0], \"type\": \"scatter3d\"}, {\"mode\": \"lines\", \"y\": [0, 4.702065], \"x\": [0, -0.45256799999999997], \"line\": {\"color\": \"rgb(20, 0, 145)\", \"width\": 2}, \"z\": [0, -1.6388249999999998], \"type\": \"scatter3d\"}, {\"marker\": {\"color\": \"rgb(0,144,144)\", \"size\": 5}, \"mode\": \"markers\", \"y\": [1.5], \"x\": [0.20000000298023224], \"z\": [-0.5], \"type\": \"scatter3d\"}, {\"marker\": {\"color\": \"#48186a\", \"size\": 10}, \"mode\": \"markers\", \"y\": [0], \"x\": [0], \"z\": [0], \"type\": \"scatter3d\"}, {\"mode\": \"lines\", \"y\": [0, 4.702065], \"x\": [0, -0.45256799999999997], \"line\": {\"color\": \"rgb(20, 0, 145)\", \"width\": 2}, \"z\": [0, -1.6388249999999998], \"type\": \"scatter3d\"}, {\"marker\": {\"color\": \"rgb(0,144,144)\", \"size\": 5}, \"mode\": \"markers\", \"y\": [1.5], \"x\": [0.20000000298023224], \"z\": [-0.5], \"type\": \"scatter3d\"}, {\"marker\": {\"color\": \"#48186a\", \"size\": 10}, \"mode\": \"markers\", \"y\": [0], \"x\": [0], \"z\": [0], \"type\": \"scatter3d\"}, {\"mode\": \"lines\", \"y\": [0, 4.705545], \"x\": [0, -0.473406], \"line\": {\"color\": \"rgb(20, 0, 145)\", \"width\": 2}, \"z\": [0, -1.6228799999999999], \"type\": \"scatter3d\"}, {\"marker\": {\"color\": \"rgb(0,144,144)\", \"size\": 5}, \"mode\": \"markers\", \"y\": [1.5], \"x\": [0.20000000298023224], \"z\": [-0.5], \"type\": \"scatter3d\"}, {\"marker\": {\"color\": \"#48186a\", \"size\": 10}, \"mode\": \"markers\", \"y\": [0], \"x\": [0], \"z\": [0], \"type\": \"scatter3d\"}, {\"mode\": \"lines\", \"y\": [0, 4.704065], \"x\": [0, -0.458702], \"line\": {\"color\": \"rgb(20, 0, 145)\", \"width\": 2}, \"z\": [0, -1.6313749999999998], \"type\": \"scatter3d\"}, {\"marker\": {\"color\": \"rgb(0,144,144)\", \"size\": 5}, \"mode\": \"markers\", \"y\": [1.5], \"x\": [0.20000000298023224], \"z\": [-0.5], \"type\": \"scatter3d\"}, {\"marker\": {\"color\": \"#48186a\", \"size\": 10}, \"mode\": \"markers\", \"y\": [0], \"x\": [0], \"z\": [0], \"type\": \"scatter3d\"}, {\"mode\": \"lines\", \"y\": [0, 4.70808], \"x\": [0, -0.4690495], \"line\": {\"color\": \"rgb(20, 0, 145)\", \"width\": 2}, \"z\": [0, -1.616775], \"type\": \"scatter3d\"}, {\"marker\": {\"color\": \"rgb(0,144,144)\", \"size\": 5}, \"mode\": \"markers\", \"y\": [1.5], \"x\": [0.20000000298023224], \"z\": [-0.5], \"type\": \"scatter3d\"}, {\"marker\": {\"color\": \"#48186a\", \"size\": 10}, \"mode\": \"markers\", \"y\": [0], \"x\": [0], \"z\": [0], \"type\": \"scatter3d\"}, {\"mode\": \"lines\", \"y\": [0, 4.707495], \"x\": [0, -0.45202699999999996], \"line\": {\"color\": \"rgb(20, 0, 145)\", \"width\": 2}, \"z\": [0, -1.623325], \"type\": \"scatter3d\"}, {\"marker\": {\"color\": \"rgb(0,144,144)\", \"size\": 5}, \"mode\": \"markers\", \"y\": [1.5], \"x\": [0.20000000298023224], \"z\": [-0.5], \"type\": \"scatter3d\"}], {\"showlegend\": false, \"title\": \"Gaze in World\", \"scene\": {\"aspectratio\": {\"y\": 1, \"x\": 1, \"z\": 1}, \"aspectmode\": \"manual\", \"zaxis\": {\"range\": [-10, 10], \"title\": \"z Axis\"}, \"xaxis\": {\"range\": [-10, 10], \"title\": \"x Axis\"}, \"yaxis\": {\"range\": [-10, 10], \"title\": \"y Axis\"}}, \"height\": 800, \"width\": 800, \"hovermode\": \"closest\", \"margin\": {\"t\": 100}}, {\"linkText\": \"Export to plot.ly\", \"showLink\": true})});</script>"
      ]
     },
     "metadata": {},
     "output_type": "display_data"
    }
   ],
   "source": [
    "\n",
    "gbTrial = datafile.groupby('trialNumber')\n",
    "\n",
    "calibPt = gbTrial.get_group(1002)\n",
    "traces = np.array(calibPt1.apply(lambda row: drawVector(row),axis=1))\n",
    "traces = [item for sublist in traces for item in sublist]\n",
    "\n",
    "width = 800\n",
    "height = 800\n",
    "xRange = [-10,10]\n",
    "yRange = [-10,10]\n",
    "zRange = [-10,10]\n",
    "\n",
    "layout = go.Layout(title=\"Gaze in World\", \n",
    "                width=width,\n",
    "                height=height,\n",
    "                showlegend=False,\n",
    "                scene=go.Scene(aspectmode='manual',\n",
    "                            aspectratio=dict(x=1, y=1, z=1),\n",
    "                            xaxis=dict(range=xRange, title='x Axis'),\n",
    "                            yaxis=dict(range=yRange, title='y Axis'),\n",
    "                            zaxis=dict(range=zRange, title='z Axis'),\n",
    "\n",
    "                           ),\n",
    "                margin=go.Margin(t=100),\n",
    "                hovermode='closest',\n",
    "\n",
    "                )\n",
    "\n",
    "\n",
    "fig=go.Figure(data=list(traces),layout=layout)\n",
    "\n",
    "\n",
    "iplot(fig)"
   ]
  },
  {
   "cell_type": "code",
   "execution_count": null,
   "metadata": {
    "collapsed": true
   },
   "outputs": [],
   "source": []
  },
  {
   "cell_type": "code",
   "execution_count": null,
   "metadata": {
    "collapsed": true
   },
   "outputs": [],
   "source": []
  }
 ],
 "metadata": {
  "kernelspec": {
   "display_name": "Python 2",
   "language": "python",
   "name": "python2"
  },
  "language_info": {
   "codemirror_mode": {
    "name": "ipython",
    "version": 2
   },
   "file_extension": ".py",
   "mimetype": "text/x-python",
   "name": "python",
   "nbconvert_exporter": "python",
   "pygments_lexer": "ipython2",
   "version": "2.7.13"
  }
 },
 "nbformat": 4,
 "nbformat_minor": 2
}
